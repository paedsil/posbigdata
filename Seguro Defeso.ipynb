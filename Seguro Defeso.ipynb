{
 "cells": [
  {
   "cell_type": "code",
   "execution_count": 1,
   "metadata": {},
   "outputs": [],
   "source": [
    "import pandas as pd\n",
    "import numpy as np\n",
    "import glob"
   ]
  },
  {
   "cell_type": "code",
   "execution_count": 2,
   "metadata": {},
   "outputs": [],
   "source": [
    "fields = [\"CPF FAVORECIDO\",\"NOME FAVORECIDO\"]\n",
    "fields_dtype = {\"CPF FAVORECIDO\": str, \"NOME FAVORECIDO\": str}"
   ]
  },
  {
   "cell_type": "code",
   "execution_count": null,
   "metadata": {},
   "outputs": [],
   "source": [
    "# IMPORTAÇÃO DOS ARQUIVOS CSV\n",
    "\n",
    "path = r'C:\\DATASETS\\Seguro Defeso\\1-Arquivos Baixados'\n",
    "all_files = glob.glob(path + \"/*.csv\")\n",
    "\n",
    "li = []\n",
    "\n",
    "for filename in all_files:\n",
    "    temp_df = pd.read_csv(filename, index_col=None, header=0, sep=';', encoding='ANSI', dtype=fields_dtype, usecols=fields)\n",
    "    temp_df['Arquivo'] = filename.rsplit('\\\\',1)[1]\n",
    "    li.append(temp_df)\n",
    "\n",
    "# Concatena o resultado no dataframe\n",
    "seguro_defeso_df = pd.concat(li, axis=0, ignore_index=True)\n",
    "\n",
    "seguro_defeso_df.describe"
   ]
  },
  {
   "cell_type": "code",
   "execution_count": 5,
   "metadata": {},
   "outputs": [
    {
     "data": {
      "text/plain": [
       "202003_SeguroDefeso.csv    571236\n",
       "202001_SeguroDefeso.csv    443768\n",
       "202002_SeguroDefeso.csv    442844\n",
       "202004_SeguroDefeso.csv    390434\n",
       "202005_SeguroDefeso.csv    254103\n",
       "202006_SeguroDefeso.csv    252513\n",
       "202010_SeguroDefeso.csv    195291\n",
       "202007_SeguroDefeso.csv    156328\n",
       "202009_SeguroDefeso.csv    148126\n",
       "202011_SeguroDefeso.csv    142771\n",
       "202008_SeguroDefeso.csv    122843\n",
       "202012_SeguroDefeso.csv    108257\n",
       "Name: Arquivo, dtype: int64"
      ]
     },
     "execution_count": 5,
     "metadata": {},
     "output_type": "execute_result"
    }
   ],
   "source": [
    "seguro_defeso_df.Arquivo.value_counts()"
   ]
  },
  {
   "cell_type": "code",
   "execution_count": 6,
   "metadata": {},
   "outputs": [
    {
     "data": {
      "text/html": [
       "<div>\n",
       "<style scoped>\n",
       "    .dataframe tbody tr th:only-of-type {\n",
       "        vertical-align: middle;\n",
       "    }\n",
       "\n",
       "    .dataframe tbody tr th {\n",
       "        vertical-align: top;\n",
       "    }\n",
       "\n",
       "    .dataframe thead th {\n",
       "        text-align: right;\n",
       "    }\n",
       "</style>\n",
       "<table border=\"1\" class=\"dataframe\">\n",
       "  <thead>\n",
       "    <tr style=\"text-align: right;\">\n",
       "      <th></th>\n",
       "      <th>CPF FAVORECIDO</th>\n",
       "      <th>NOME FAVORECIDO</th>\n",
       "      <th>Arquivo</th>\n",
       "    </tr>\n",
       "  </thead>\n",
       "  <tbody>\n",
       "    <tr>\n",
       "      <td>0</td>\n",
       "      <td>***.047.012-**</td>\n",
       "      <td>ADELSON BOTELHO HERINGER</td>\n",
       "      <td>202001_SeguroDefeso.csv</td>\n",
       "    </tr>\n",
       "    <tr>\n",
       "      <td>1</td>\n",
       "      <td>***.047.012-**</td>\n",
       "      <td>ADELSON BOTELHO HERINGER</td>\n",
       "      <td>202001_SeguroDefeso.csv</td>\n",
       "    </tr>\n",
       "    <tr>\n",
       "      <td>2</td>\n",
       "      <td>***.563.542-**</td>\n",
       "      <td>ADRIANA AMORIM DA SILVA</td>\n",
       "      <td>202001_SeguroDefeso.csv</td>\n",
       "    </tr>\n",
       "    <tr>\n",
       "      <td>3</td>\n",
       "      <td>***.188.352-**</td>\n",
       "      <td>ADRIANO DO NASCIMENTO CAMPOS</td>\n",
       "      <td>202001_SeguroDefeso.csv</td>\n",
       "    </tr>\n",
       "    <tr>\n",
       "      <td>4</td>\n",
       "      <td>***.639.614-**</td>\n",
       "      <td>ANILDO FARIAS BARRETO</td>\n",
       "      <td>202001_SeguroDefeso.csv</td>\n",
       "    </tr>\n",
       "    <tr>\n",
       "      <td>...</td>\n",
       "      <td>...</td>\n",
       "      <td>...</td>\n",
       "      <td>...</td>\n",
       "    </tr>\n",
       "    <tr>\n",
       "      <td>3228505</td>\n",
       "      <td>***.820.351-**</td>\n",
       "      <td>MARIA FERREIRA LIMA</td>\n",
       "      <td>202012_SeguroDefeso.csv</td>\n",
       "    </tr>\n",
       "    <tr>\n",
       "      <td>3228507</td>\n",
       "      <td>***.132.271-**</td>\n",
       "      <td>PEDRO FERREIRA DE ARAUJO</td>\n",
       "      <td>202012_SeguroDefeso.csv</td>\n",
       "    </tr>\n",
       "    <tr>\n",
       "      <td>3228508</td>\n",
       "      <td>***.993.921-**</td>\n",
       "      <td>SAUL CAVALCANTE ROCHA</td>\n",
       "      <td>202012_SeguroDefeso.csv</td>\n",
       "    </tr>\n",
       "    <tr>\n",
       "      <td>3228509</td>\n",
       "      <td>***.438.271-**</td>\n",
       "      <td>VALDERI PINTO XAVIER</td>\n",
       "      <td>202012_SeguroDefeso.csv</td>\n",
       "    </tr>\n",
       "    <tr>\n",
       "      <td>3228512</td>\n",
       "      <td>***.344.042-**</td>\n",
       "      <td>NAZARE MONTEIRO DOS SANTOS</td>\n",
       "      <td>202012_SeguroDefeso.csv</td>\n",
       "    </tr>\n",
       "  </tbody>\n",
       "</table>\n",
       "<p>1747045 rows × 3 columns</p>\n",
       "</div>"
      ],
      "text/plain": [
       "         CPF FAVORECIDO               NOME FAVORECIDO                  Arquivo\n",
       "0        ***.047.012-**      ADELSON BOTELHO HERINGER  202001_SeguroDefeso.csv\n",
       "1        ***.047.012-**      ADELSON BOTELHO HERINGER  202001_SeguroDefeso.csv\n",
       "2        ***.563.542-**       ADRIANA AMORIM DA SILVA  202001_SeguroDefeso.csv\n",
       "3        ***.188.352-**  ADRIANO DO NASCIMENTO CAMPOS  202001_SeguroDefeso.csv\n",
       "4        ***.639.614-**         ANILDO FARIAS BARRETO  202001_SeguroDefeso.csv\n",
       "...                 ...                           ...                      ...\n",
       "3228505  ***.820.351-**           MARIA FERREIRA LIMA  202012_SeguroDefeso.csv\n",
       "3228507  ***.132.271-**      PEDRO FERREIRA DE ARAUJO  202012_SeguroDefeso.csv\n",
       "3228508  ***.993.921-**         SAUL CAVALCANTE ROCHA  202012_SeguroDefeso.csv\n",
       "3228509  ***.438.271-**          VALDERI PINTO XAVIER  202012_SeguroDefeso.csv\n",
       "3228512  ***.344.042-**    NAZARE MONTEIRO DOS SANTOS  202012_SeguroDefeso.csv\n",
       "\n",
       "[1747045 rows x 3 columns]"
      ]
     },
     "execution_count": 6,
     "metadata": {},
     "output_type": "execute_result"
    }
   ],
   "source": [
    "# Removemos os cpfs nulos:\n",
    "seguro_defeso_df = seguro_defeso_df[seguro_defeso_df['CPF FAVORECIDO'].notnull()]\n",
    "seguro_defeso_df"
   ]
  },
  {
   "cell_type": "code",
   "execution_count": 7,
   "metadata": {},
   "outputs": [],
   "source": [
    "# Remove coluna Arquivo\n",
    "seguro_defeso_df = seguro_defeso_df.drop(columns=['Arquivo'])\n",
    "\n",
    "# Removendo duplicados:\n",
    "seguro_defeso_df = seguro_defeso_df.drop_duplicates()"
   ]
  },
  {
   "cell_type": "code",
   "execution_count": null,
   "metadata": {},
   "outputs": [],
   "source": []
  },
  {
   "cell_type": "code",
   "execution_count": 8,
   "metadata": {},
   "outputs": [
    {
     "data": {
      "text/plain": [
       "14    405732\n",
       "Name: CPF FAVORECIDO, dtype: int64"
      ]
     },
     "execution_count": 8,
     "metadata": {},
     "output_type": "execute_result"
    }
   ],
   "source": [
    "# Avaliando o que tem no campo de cpf favorecido:\n",
    "seguro_defeso_df['CPF FAVORECIDO'].str.len().value_counts()"
   ]
  },
  {
   "cell_type": "code",
   "execution_count": 9,
   "metadata": {},
   "outputs": [
    {
     "data": {
      "text/plain": [
       "11    405732\n",
       "Name: CPF FAVORECIDO, dtype: int64"
      ]
     },
     "execution_count": 9,
     "metadata": {},
     "output_type": "execute_result"
    }
   ],
   "source": [
    "# Limpa os CPFs:\n",
    "seguro_defeso_df['CPF FAVORECIDO'] = seguro_defeso_df['CPF FAVORECIDO'].str.replace('[\\.\\-]', '', regex=True)\n",
    "seguro_defeso_df['CPF FAVORECIDO'].str.len().value_counts()"
   ]
  },
  {
   "cell_type": "markdown",
   "metadata": {},
   "source": [
    "Quantidade conforme cálculo feito anteriormente."
   ]
  },
  {
   "cell_type": "code",
   "execution_count": 10,
   "metadata": {},
   "outputs": [
    {
     "data": {
      "text/html": [
       "<div>\n",
       "<style scoped>\n",
       "    .dataframe tbody tr th:only-of-type {\n",
       "        vertical-align: middle;\n",
       "    }\n",
       "\n",
       "    .dataframe tbody tr th {\n",
       "        vertical-align: top;\n",
       "    }\n",
       "\n",
       "    .dataframe thead th {\n",
       "        text-align: right;\n",
       "    }\n",
       "</style>\n",
       "<table border=\"1\" class=\"dataframe\">\n",
       "  <thead>\n",
       "    <tr style=\"text-align: right;\">\n",
       "      <th></th>\n",
       "      <th>CPF FAVORECIDO</th>\n",
       "      <th>NOME FAVORECIDO</th>\n",
       "    </tr>\n",
       "  </thead>\n",
       "  <tbody>\n",
       "    <tr>\n",
       "      <td>0</td>\n",
       "      <td>***047012**</td>\n",
       "      <td>ADELSON BOTELHO HERINGER</td>\n",
       "    </tr>\n",
       "    <tr>\n",
       "      <td>2</td>\n",
       "      <td>***563542**</td>\n",
       "      <td>ADRIANA AMORIM DA SILVA</td>\n",
       "    </tr>\n",
       "    <tr>\n",
       "      <td>3</td>\n",
       "      <td>***188352**</td>\n",
       "      <td>ADRIANO DO NASCIMENTO CAMPOS</td>\n",
       "    </tr>\n",
       "    <tr>\n",
       "      <td>4</td>\n",
       "      <td>***639614**</td>\n",
       "      <td>ANILDO FARIAS BARRETO</td>\n",
       "    </tr>\n",
       "    <tr>\n",
       "      <td>5</td>\n",
       "      <td>***430932**</td>\n",
       "      <td>APARECIDO CALDEIRA DOS SANTOS</td>\n",
       "    </tr>\n",
       "    <tr>\n",
       "      <td>...</td>\n",
       "      <td>...</td>\n",
       "      <td>...</td>\n",
       "    </tr>\n",
       "    <tr>\n",
       "      <td>3228334</td>\n",
       "      <td>***717748**</td>\n",
       "      <td>EDINALDO APARECIDO DE MELO</td>\n",
       "    </tr>\n",
       "    <tr>\n",
       "      <td>3228364</td>\n",
       "      <td>***419378**</td>\n",
       "      <td>JOAO CARLOS MARINHO</td>\n",
       "    </tr>\n",
       "    <tr>\n",
       "      <td>3228426</td>\n",
       "      <td>***681251**</td>\n",
       "      <td>AMARILDO PENHA DE ARAUJO</td>\n",
       "    </tr>\n",
       "    <tr>\n",
       "      <td>3228474</td>\n",
       "      <td>***183718**</td>\n",
       "      <td>MASOLENE DA SILVA CUNHA</td>\n",
       "    </tr>\n",
       "    <tr>\n",
       "      <td>3228478</td>\n",
       "      <td>***333428**</td>\n",
       "      <td>CAIO CESAR FLORO ALEXANDRE</td>\n",
       "    </tr>\n",
       "  </tbody>\n",
       "</table>\n",
       "<p>405732 rows × 2 columns</p>\n",
       "</div>"
      ],
      "text/plain": [
       "        CPF FAVORECIDO                NOME FAVORECIDO\n",
       "0          ***047012**       ADELSON BOTELHO HERINGER\n",
       "2          ***563542**        ADRIANA AMORIM DA SILVA\n",
       "3          ***188352**   ADRIANO DO NASCIMENTO CAMPOS\n",
       "4          ***639614**          ANILDO FARIAS BARRETO\n",
       "5          ***430932**  APARECIDO CALDEIRA DOS SANTOS\n",
       "...                ...                            ...\n",
       "3228334    ***717748**     EDINALDO APARECIDO DE MELO\n",
       "3228364    ***419378**            JOAO CARLOS MARINHO\n",
       "3228426    ***681251**       AMARILDO PENHA DE ARAUJO\n",
       "3228474    ***183718**        MASOLENE DA SILVA CUNHA\n",
       "3228478    ***333428**     CAIO CESAR FLORO ALEXANDRE\n",
       "\n",
       "[405732 rows x 2 columns]"
      ]
     },
     "execution_count": 10,
     "metadata": {},
     "output_type": "execute_result"
    }
   ],
   "source": [
    "seguro_defeso_df"
   ]
  },
  {
   "cell_type": "code",
   "execution_count": 11,
   "metadata": {},
   "outputs": [],
   "source": [
    "seguro_defeso_df.rename(columns={'CPF FAVORECIDO': 'CPF', 'NOME FAVORECIDO': 'nome_favorecido'}, inplace=True)"
   ]
  },
  {
   "cell_type": "code",
   "execution_count": 13,
   "metadata": {},
   "outputs": [],
   "source": [
    "# Salvando resultado final:\n",
    "seguro_defeso_df.to_csv(r'C:\\DATASETS\\Seguro Defeso\\seguro_defeso.csv', index=False)"
   ]
  }
 ],
 "metadata": {
  "kernelspec": {
   "display_name": "Python 3",
   "language": "python",
   "name": "python3"
  },
  "language_info": {
   "codemirror_mode": {
    "name": "ipython",
    "version": 3
   },
   "file_extension": ".py",
   "mimetype": "text/x-python",
   "name": "python",
   "nbconvert_exporter": "python",
   "pygments_lexer": "ipython3",
   "version": "3.7.4"
  }
 },
 "nbformat": 4,
 "nbformat_minor": 2
}
