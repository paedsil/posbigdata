{
 "cells": [
  {
   "cell_type": "code",
   "execution_count": 1,
   "metadata": {},
   "outputs": [],
   "source": [
    "import pandas as pd\n",
    "import numpy as np"
   ]
  },
  {
   "cell_type": "code",
   "execution_count": 20,
   "metadata": {},
   "outputs": [],
   "source": [
    "# IMPORTAÇÃO DA BASE DE EMPRESAS INIDÔNEAS E SUSPENSA\n",
    "# Vamos importar apenas as colunas de CPF/CNPJ e nome do sancionado, pois nos \n",
    "# interessa apenas a rotulagem de quais empresas ou sócios estão na lista de \n",
    "# inidôneas e suspenas. O nome do sancionado será necessário para o join com a \n",
    "# base de sócios, pois nesta o CPF não é completo, sendo necessário join com o nome.\n",
    "colunas = ['CPF OU CNPJ DO SANCIONADO', 'NOME INFORMADO PELO ÓRGÃO SANCIONADOR',\n",
    "           'DATA INÍCIO SANÇÃO', 'DATA FINAL SANÇÃO']\n",
    "inidoneas_e_suspensas_df = pd.read_csv('C:\\\\DATASETS\\Empresas Inidoneas e Suspensas\\\\' + \n",
    "'1-Arquivos Baixados\\\\20210407_CEIS.csv', sep=';', dtype='str', usecols=colunas, encoding='latin-1')"
   ]
  },
  {
   "cell_type": "markdown",
   "metadata": {},
   "source": [
    "Processamento/Tratamento de Dados:"
   ]
  },
  {
   "cell_type": "code",
   "execution_count": 21,
   "metadata": {},
   "outputs": [
    {
     "name": "stdout",
     "output_type": "stream",
     "text": [
      "<class 'pandas.core.frame.DataFrame'>\n",
      "RangeIndex: 14832 entries, 0 to 14831\n",
      "Data columns (total 4 columns):\n",
      "CPF OU CNPJ DO SANCIONADO                14832 non-null object\n",
      "NOME INFORMADO PELO ÓRGÃO SANCIONADOR    14832 non-null object\n",
      "DATA INÍCIO SANÇÃO                       14832 non-null object\n",
      "DATA FINAL SANÇÃO                        13083 non-null object\n",
      "dtypes: object(4)\n",
      "memory usage: 463.6+ KB\n"
     ]
    }
   ],
   "source": [
    "# Conferindo campos e tipos\n",
    "inidoneas_e_suspensas_df.info()"
   ]
  },
  {
   "cell_type": "code",
   "execution_count": 22,
   "metadata": {},
   "outputs": [
    {
     "data": {
      "text/plain": [
       "<bound method NDFrame.describe of       CPF OU CNPJ DO SANCIONADO  \\\n",
       "0                13459221000174   \n",
       "1                   70779600800   \n",
       "2                01276136000191   \n",
       "3                76258672000163   \n",
       "4                   37770420806   \n",
       "...                         ...   \n",
       "14827            18387009000162   \n",
       "14828            04163678000146   \n",
       "14829            06939957000184   \n",
       "14830            05312963000144   \n",
       "14831               14399732881   \n",
       "\n",
       "                   NOME INFORMADO PELO ÓRGÃO SANCIONADOR DATA INÍCIO SANÇÃO  \\\n",
       "0      FLEXNAUTICA EMBARCACOES COMERCIO E SERVICOS EI...         04/06/2019   \n",
       "1                               OSVALDO PAQUITO DA SILVA         24/01/2019   \n",
       "2                                  COMERCIAL FERUMA LTDA         14/06/2016   \n",
       "3      PEDRA AZUL SERVIÇOS DE LIMPEZA E CONSERVAÇÃO LTDA         12/04/2016   \n",
       "4                                 ARNOLDO LUIZ DE MORAES         09/10/2018   \n",
       "...                                                  ...                ...   \n",
       "14827                                 INFORGERAIS EIRELI         18/03/2021   \n",
       "14828                    POLO PROFESSIONAL SERVICOS LTDA         04/04/2018   \n",
       "14829                          ELETRICA RAIO DO SOL LTDA         24/04/2018   \n",
       "14830                           COMERCIAL LICITACAO LTDA         27/06/2017   \n",
       "14831                                  ANDRE LUIS SIERVO         06/06/2013   \n",
       "\n",
       "      DATA FINAL SANÇÃO  \n",
       "0            04/06/2021  \n",
       "1            24/01/2023  \n",
       "2            13/06/2021  \n",
       "3            11/04/2021  \n",
       "4            09/10/2023  \n",
       "...                 ...  \n",
       "14827               NaN  \n",
       "14828               NaN  \n",
       "14829               NaN  \n",
       "14830        21/06/2023  \n",
       "14831        06/06/2023  \n",
       "\n",
       "[14832 rows x 4 columns]>"
      ]
     },
     "execution_count": 22,
     "metadata": {},
     "output_type": "execute_result"
    }
   ],
   "source": [
    "# Conferindo campos e valores\n",
    "inidoneas_e_suspensas_df.describe"
   ]
  },
  {
   "cell_type": "code",
   "execution_count": 23,
   "metadata": {},
   "outputs": [
    {
     "data": {
      "text/plain": [
       "DATA FINAL SANÇÃO                        11.792071\n",
       "DATA INÍCIO SANÇÃO                        0.000000\n",
       "NOME INFORMADO PELO ÓRGÃO SANCIONADOR     0.000000\n",
       "CPF OU CNPJ DO SANCIONADO                 0.000000\n",
       "dtype: float64"
      ]
     },
     "execution_count": 23,
     "metadata": {},
     "output_type": "execute_result"
    }
   ],
   "source": [
    "# Identificando percentual de valores ausentes por coluna:\n",
    "(inidoneas_e_suspensas_df.isnull().sum() / inidoneas_e_suspensas_df.shape[0] * 100)\n",
    "                   .sort_values(ascending=False)"
   ]
  },
  {
   "cell_type": "markdown",
   "metadata": {},
   "source": [
    "### Limpeza e correção dos dados:"
   ]
  },
  {
   "cell_type": "markdown",
   "metadata": {},
   "source": [
    "##### Limpeza e correção da coluna 'CPF OU CNPJ DO SANCIONADO':"
   ]
  },
  {
   "cell_type": "code",
   "execution_count": 24,
   "metadata": {},
   "outputs": [
    {
     "data": {
      "text/plain": [
       "11    8426\n",
       "14    6395\n",
       "2       11\n",
       "Name: CPF OU CNPJ DO SANCIONADO, dtype: int64"
      ]
     },
     "execution_count": 24,
     "metadata": {},
     "output_type": "execute_result"
    }
   ],
   "source": [
    "# Conferindo se a coluna 'CPF OU CNPJ DO SANCIONADO' contém realmente apenas\n",
    "# CPF(11 dígitos) ou CNPJ(14 dígitos). Também fornece informação sobre quantas \n",
    "# pessoas físicas e quantas pessoas jurídicas estão presentes na base:\n",
    "inidoneas_e_suspensas_df['CPF OU CNPJ DO SANCIONADO'].str.len().value_counts()"
   ]
  },
  {
   "cell_type": "markdown",
   "metadata": {},
   "source": [
    "Verificamos que há algo a ser investigado: 11 registros com valores de tamanho 2 na coluna 'CPF OU CNPJ DO SANCIONADO'. Vamos avaliar:"
   ]
  },
  {
   "cell_type": "code",
   "execution_count": 27,
   "metadata": {},
   "outputs": [
    {
     "data": {
      "text/html": [
       "<div>\n",
       "<style scoped>\n",
       "    .dataframe tbody tr th:only-of-type {\n",
       "        vertical-align: middle;\n",
       "    }\n",
       "\n",
       "    .dataframe tbody tr th {\n",
       "        vertical-align: top;\n",
       "    }\n",
       "\n",
       "    .dataframe thead th {\n",
       "        text-align: right;\n",
       "    }\n",
       "</style>\n",
       "<table border=\"1\" class=\"dataframe\">\n",
       "  <thead>\n",
       "    <tr style=\"text-align: right;\">\n",
       "      <th></th>\n",
       "      <th>CPF OU CNPJ DO SANCIONADO</th>\n",
       "      <th>NOME INFORMADO PELO ÓRGÃO SANCIONADOR</th>\n",
       "      <th>DATA INÍCIO SANÇÃO</th>\n",
       "      <th>DATA FINAL SANÇÃO</th>\n",
       "    </tr>\n",
       "  </thead>\n",
       "  <tbody>\n",
       "    <tr>\n",
       "      <td>213</td>\n",
       "      <td>-1</td>\n",
       "      <td>LICITATECH INFORMÁTICA LTDA. ME.</td>\n",
       "      <td>02/10/2013</td>\n",
       "      <td>NaN</td>\n",
       "    </tr>\n",
       "    <tr>\n",
       "      <td>1323</td>\n",
       "      <td>-1</td>\n",
       "      <td>CARLOS ALBERTO MORAES DE OLIVEIRA</td>\n",
       "      <td>19/11/2012</td>\n",
       "      <td>19/11/2022</td>\n",
       "    </tr>\n",
       "    <tr>\n",
       "      <td>1592</td>\n",
       "      <td>-1</td>\n",
       "      <td>HECTOR ERNESTO SANHUEZA CACERES</td>\n",
       "      <td>22/05/2019</td>\n",
       "      <td>22/05/2024</td>\n",
       "    </tr>\n",
       "    <tr>\n",
       "      <td>4131</td>\n",
       "      <td>-1</td>\n",
       "      <td>MODEC INTERNATIONAL, INC</td>\n",
       "      <td>31/03/2021</td>\n",
       "      <td>30/04/2022</td>\n",
       "    </tr>\n",
       "    <tr>\n",
       "      <td>5335</td>\n",
       "      <td>-1</td>\n",
       "      <td>Mayara N. Da Silva</td>\n",
       "      <td>26/02/2008</td>\n",
       "      <td>NaN</td>\n",
       "    </tr>\n",
       "    <tr>\n",
       "      <td>6281</td>\n",
       "      <td>-1</td>\n",
       "      <td>F. BONTEMPO BRUM PIRES EIRELI ME</td>\n",
       "      <td>30/05/2019</td>\n",
       "      <td>30/05/2024</td>\n",
       "    </tr>\n",
       "    <tr>\n",
       "      <td>10997</td>\n",
       "      <td>-1</td>\n",
       "      <td>ROGéLIO BARCHETTI URREA</td>\n",
       "      <td>11/03/2019</td>\n",
       "      <td>11/03/2024</td>\n",
       "    </tr>\n",
       "    <tr>\n",
       "      <td>11050</td>\n",
       "      <td>-1</td>\n",
       "      <td>ROGéLIO BARCHETTI URREA</td>\n",
       "      <td>11/03/2019</td>\n",
       "      <td>11/03/2029</td>\n",
       "    </tr>\n",
       "    <tr>\n",
       "      <td>12989</td>\n",
       "      <td>-1</td>\n",
       "      <td>GEOAR TURISMO LTDA</td>\n",
       "      <td>30/01/2019</td>\n",
       "      <td>30/01/2024</td>\n",
       "    </tr>\n",
       "    <tr>\n",
       "      <td>13920</td>\n",
       "      <td>-1</td>\n",
       "      <td>SR MOREIRA DISTRIBUIDORA LTDA</td>\n",
       "      <td>28/12/2010</td>\n",
       "      <td>NaN</td>\n",
       "    </tr>\n",
       "    <tr>\n",
       "      <td>14078</td>\n",
       "      <td>-1</td>\n",
       "      <td>ROGéLIO BARCHETTI URREA</td>\n",
       "      <td>27/08/2019</td>\n",
       "      <td>27/08/2024</td>\n",
       "    </tr>\n",
       "  </tbody>\n",
       "</table>\n",
       "</div>"
      ],
      "text/plain": [
       "      CPF OU CNPJ DO SANCIONADO NOME INFORMADO PELO ÓRGÃO SANCIONADOR  \\\n",
       "213                          -1      LICITATECH INFORMÁTICA LTDA. ME.   \n",
       "1323                         -1     CARLOS ALBERTO MORAES DE OLIVEIRA   \n",
       "1592                         -1       HECTOR ERNESTO SANHUEZA CACERES   \n",
       "4131                         -1              MODEC INTERNATIONAL, INC   \n",
       "5335                         -1                    Mayara N. Da Silva   \n",
       "6281                         -1      F. BONTEMPO BRUM PIRES EIRELI ME   \n",
       "10997                        -1               ROGéLIO BARCHETTI URREA   \n",
       "11050                        -1               ROGéLIO BARCHETTI URREA   \n",
       "12989                        -1                    GEOAR TURISMO LTDA   \n",
       "13920                        -1         SR MOREIRA DISTRIBUIDORA LTDA   \n",
       "14078                        -1               ROGéLIO BARCHETTI URREA   \n",
       "\n",
       "      DATA INÍCIO SANÇÃO DATA FINAL SANÇÃO  \n",
       "213           02/10/2013               NaN  \n",
       "1323          19/11/2012        19/11/2022  \n",
       "1592          22/05/2019        22/05/2024  \n",
       "4131          31/03/2021        30/04/2022  \n",
       "5335          26/02/2008               NaN  \n",
       "6281          30/05/2019        30/05/2024  \n",
       "10997         11/03/2019        11/03/2024  \n",
       "11050         11/03/2019        11/03/2029  \n",
       "12989         30/01/2019        30/01/2024  \n",
       "13920         28/12/2010               NaN  \n",
       "14078         27/08/2019        27/08/2024  "
      ]
     },
     "execution_count": 27,
     "metadata": {},
     "output_type": "execute_result"
    }
   ],
   "source": [
    "nomes_sem_cpf_cnpj = inidoneas_e_suspensas_df[inidoneas_e_suspensas_df['CPF OU CNPJ DO SANCIONADO'].str.len() == 2]\n",
    "nomes_sem_cpf_cnpj"
   ]
  },
  {
   "cell_type": "markdown",
   "metadata": {},
   "source": [
    "Vamos ver se esses nomes já constam na base, em linhas que possuem cpf/cnpj preenchidos:"
   ]
  },
  {
   "cell_type": "code",
   "execution_count": 29,
   "metadata": {},
   "outputs": [
    {
     "data": {
      "text/html": [
       "<div>\n",
       "<style scoped>\n",
       "    .dataframe tbody tr th:only-of-type {\n",
       "        vertical-align: middle;\n",
       "    }\n",
       "\n",
       "    .dataframe tbody tr th {\n",
       "        vertical-align: top;\n",
       "    }\n",
       "\n",
       "    .dataframe thead th {\n",
       "        text-align: right;\n",
       "    }\n",
       "</style>\n",
       "<table border=\"1\" class=\"dataframe\">\n",
       "  <thead>\n",
       "    <tr style=\"text-align: right;\">\n",
       "      <th></th>\n",
       "      <th>CPF OU CNPJ DO SANCIONADO</th>\n",
       "      <th>NOME INFORMADO PELO ÓRGÃO SANCIONADOR</th>\n",
       "      <th>DATA INÍCIO SANÇÃO</th>\n",
       "      <th>DATA FINAL SANÇÃO</th>\n",
       "    </tr>\n",
       "  </thead>\n",
       "  <tbody>\n",
       "    <tr>\n",
       "      <td>8697</td>\n",
       "      <td>36712230730</td>\n",
       "      <td>CARLOS ALBERTO MORAES DE OLIVEIRA</td>\n",
       "      <td>10/09/2012</td>\n",
       "      <td>10/09/2022</td>\n",
       "    </tr>\n",
       "    <tr>\n",
       "      <td>1323</td>\n",
       "      <td>-1</td>\n",
       "      <td>CARLOS ALBERTO MORAES DE OLIVEIRA</td>\n",
       "      <td>19/11/2012</td>\n",
       "      <td>19/11/2022</td>\n",
       "    </tr>\n",
       "    <tr>\n",
       "      <td>3325</td>\n",
       "      <td>36712230730</td>\n",
       "      <td>CARLOS ALBERTO MORAES DE OLIVEIRA</td>\n",
       "      <td>10/09/2012</td>\n",
       "      <td>10/09/2022</td>\n",
       "    </tr>\n",
       "    <tr>\n",
       "      <td>6281</td>\n",
       "      <td>-1</td>\n",
       "      <td>F. BONTEMPO BRUM PIRES EIRELI ME</td>\n",
       "      <td>30/05/2019</td>\n",
       "      <td>30/05/2024</td>\n",
       "    </tr>\n",
       "    <tr>\n",
       "      <td>12989</td>\n",
       "      <td>-1</td>\n",
       "      <td>GEOAR TURISMO LTDA</td>\n",
       "      <td>30/01/2019</td>\n",
       "      <td>30/01/2024</td>\n",
       "    </tr>\n",
       "    <tr>\n",
       "      <td>4426</td>\n",
       "      <td>58850785000171</td>\n",
       "      <td>GEOAR TURISMO LTDA</td>\n",
       "      <td>21/10/2019</td>\n",
       "      <td>21/10/2024</td>\n",
       "    </tr>\n",
       "    <tr>\n",
       "      <td>1592</td>\n",
       "      <td>-1</td>\n",
       "      <td>HECTOR ERNESTO SANHUEZA CACERES</td>\n",
       "      <td>22/05/2019</td>\n",
       "      <td>22/05/2024</td>\n",
       "    </tr>\n",
       "    <tr>\n",
       "      <td>213</td>\n",
       "      <td>-1</td>\n",
       "      <td>LICITATECH INFORMÁTICA LTDA. ME.</td>\n",
       "      <td>02/10/2013</td>\n",
       "      <td>NaN</td>\n",
       "    </tr>\n",
       "    <tr>\n",
       "      <td>4131</td>\n",
       "      <td>-1</td>\n",
       "      <td>MODEC INTERNATIONAL, INC</td>\n",
       "      <td>31/03/2021</td>\n",
       "      <td>30/04/2022</td>\n",
       "    </tr>\n",
       "    <tr>\n",
       "      <td>5335</td>\n",
       "      <td>-1</td>\n",
       "      <td>Mayara N. Da Silva</td>\n",
       "      <td>26/02/2008</td>\n",
       "      <td>NaN</td>\n",
       "    </tr>\n",
       "    <tr>\n",
       "      <td>7560</td>\n",
       "      <td>05950423844</td>\n",
       "      <td>ROGéLIO BARCHETTI URREA</td>\n",
       "      <td>05/12/2016</td>\n",
       "      <td>05/12/2021</td>\n",
       "    </tr>\n",
       "    <tr>\n",
       "      <td>7678</td>\n",
       "      <td>05950423844</td>\n",
       "      <td>ROGéLIO BARCHETTI URREA</td>\n",
       "      <td>19/06/2020</td>\n",
       "      <td>19/06/2025</td>\n",
       "    </tr>\n",
       "    <tr>\n",
       "      <td>7796</td>\n",
       "      <td>05950423844</td>\n",
       "      <td>ROGéLIO BARCHETTI URREA</td>\n",
       "      <td>23/08/2019</td>\n",
       "      <td>23/08/2022</td>\n",
       "    </tr>\n",
       "    <tr>\n",
       "      <td>14022</td>\n",
       "      <td>05950423844</td>\n",
       "      <td>ROGéLIO BARCHETTI URREA</td>\n",
       "      <td>05/02/2019</td>\n",
       "      <td>05/02/2022</td>\n",
       "    </tr>\n",
       "    <tr>\n",
       "      <td>10997</td>\n",
       "      <td>-1</td>\n",
       "      <td>ROGéLIO BARCHETTI URREA</td>\n",
       "      <td>11/03/2019</td>\n",
       "      <td>11/03/2024</td>\n",
       "    </tr>\n",
       "    <tr>\n",
       "      <td>11050</td>\n",
       "      <td>-1</td>\n",
       "      <td>ROGéLIO BARCHETTI URREA</td>\n",
       "      <td>11/03/2019</td>\n",
       "      <td>11/03/2029</td>\n",
       "    </tr>\n",
       "    <tr>\n",
       "      <td>11547</td>\n",
       "      <td>05950423844</td>\n",
       "      <td>ROGéLIO BARCHETTI URREA</td>\n",
       "      <td>07/02/2020</td>\n",
       "      <td>07/02/2023</td>\n",
       "    </tr>\n",
       "    <tr>\n",
       "      <td>11584</td>\n",
       "      <td>05950423844</td>\n",
       "      <td>ROGéLIO BARCHETTI URREA</td>\n",
       "      <td>29/05/2020</td>\n",
       "      <td>29/05/2025</td>\n",
       "    </tr>\n",
       "    <tr>\n",
       "      <td>13040</td>\n",
       "      <td>05950423844</td>\n",
       "      <td>ROGéLIO BARCHETTI URREA</td>\n",
       "      <td>27/03/2019</td>\n",
       "      <td>27/03/2022</td>\n",
       "    </tr>\n",
       "    <tr>\n",
       "      <td>13421</td>\n",
       "      <td>05950423844</td>\n",
       "      <td>ROGéLIO BARCHETTI URREA</td>\n",
       "      <td>25/02/2019</td>\n",
       "      <td>25/02/2024</td>\n",
       "    </tr>\n",
       "    <tr>\n",
       "      <td>14015</td>\n",
       "      <td>05950423844</td>\n",
       "      <td>ROGéLIO BARCHETTI URREA</td>\n",
       "      <td>16/04/2019</td>\n",
       "      <td>16/04/2022</td>\n",
       "    </tr>\n",
       "    <tr>\n",
       "      <td>14078</td>\n",
       "      <td>-1</td>\n",
       "      <td>ROGéLIO BARCHETTI URREA</td>\n",
       "      <td>27/08/2019</td>\n",
       "      <td>27/08/2024</td>\n",
       "    </tr>\n",
       "    <tr>\n",
       "      <td>13920</td>\n",
       "      <td>-1</td>\n",
       "      <td>SR MOREIRA DISTRIBUIDORA LTDA</td>\n",
       "      <td>28/12/2010</td>\n",
       "      <td>NaN</td>\n",
       "    </tr>\n",
       "  </tbody>\n",
       "</table>\n",
       "</div>"
      ],
      "text/plain": [
       "      CPF OU CNPJ DO SANCIONADO NOME INFORMADO PELO ÓRGÃO SANCIONADOR  \\\n",
       "8697                36712230730     CARLOS ALBERTO MORAES DE OLIVEIRA   \n",
       "1323                         -1     CARLOS ALBERTO MORAES DE OLIVEIRA   \n",
       "3325                36712230730     CARLOS ALBERTO MORAES DE OLIVEIRA   \n",
       "6281                         -1      F. BONTEMPO BRUM PIRES EIRELI ME   \n",
       "12989                        -1                    GEOAR TURISMO LTDA   \n",
       "4426             58850785000171                    GEOAR TURISMO LTDA   \n",
       "1592                         -1       HECTOR ERNESTO SANHUEZA CACERES   \n",
       "213                          -1      LICITATECH INFORMÁTICA LTDA. ME.   \n",
       "4131                         -1              MODEC INTERNATIONAL, INC   \n",
       "5335                         -1                    Mayara N. Da Silva   \n",
       "7560                05950423844               ROGéLIO BARCHETTI URREA   \n",
       "7678                05950423844               ROGéLIO BARCHETTI URREA   \n",
       "7796                05950423844               ROGéLIO BARCHETTI URREA   \n",
       "14022               05950423844               ROGéLIO BARCHETTI URREA   \n",
       "10997                        -1               ROGéLIO BARCHETTI URREA   \n",
       "11050                        -1               ROGéLIO BARCHETTI URREA   \n",
       "11547               05950423844               ROGéLIO BARCHETTI URREA   \n",
       "11584               05950423844               ROGéLIO BARCHETTI URREA   \n",
       "13040               05950423844               ROGéLIO BARCHETTI URREA   \n",
       "13421               05950423844               ROGéLIO BARCHETTI URREA   \n",
       "14015               05950423844               ROGéLIO BARCHETTI URREA   \n",
       "14078                        -1               ROGéLIO BARCHETTI URREA   \n",
       "13920                        -1         SR MOREIRA DISTRIBUIDORA LTDA   \n",
       "\n",
       "      DATA INÍCIO SANÇÃO DATA FINAL SANÇÃO  \n",
       "8697          10/09/2012        10/09/2022  \n",
       "1323          19/11/2012        19/11/2022  \n",
       "3325          10/09/2012        10/09/2022  \n",
       "6281          30/05/2019        30/05/2024  \n",
       "12989         30/01/2019        30/01/2024  \n",
       "4426          21/10/2019        21/10/2024  \n",
       "1592          22/05/2019        22/05/2024  \n",
       "213           02/10/2013               NaN  \n",
       "4131          31/03/2021        30/04/2022  \n",
       "5335          26/02/2008               NaN  \n",
       "7560          05/12/2016        05/12/2021  \n",
       "7678          19/06/2020        19/06/2025  \n",
       "7796          23/08/2019        23/08/2022  \n",
       "14022         05/02/2019        05/02/2022  \n",
       "10997         11/03/2019        11/03/2024  \n",
       "11050         11/03/2019        11/03/2029  \n",
       "11547         07/02/2020        07/02/2023  \n",
       "11584         29/05/2020        29/05/2025  \n",
       "13040         27/03/2019        27/03/2022  \n",
       "13421         25/02/2019        25/02/2024  \n",
       "14015         16/04/2019        16/04/2022  \n",
       "14078         27/08/2019        27/08/2024  \n",
       "13920         28/12/2010               NaN  "
      ]
     },
     "execution_count": 29,
     "metadata": {},
     "output_type": "execute_result"
    }
   ],
   "source": [
    "inidoneas_e_suspensas_df[inidoneas_e_suspensas_df['NOME INFORMADO PELO ÓRGÃO SANCIONADOR'].isin(nomes_sem_cpf_cnpj['NOME INFORMADO PELO ÓRGÃO SANCIONADOR'])].sort_values('NOME INFORMADO PELO ÓRGÃO SANCIONADOR')"
   ]
  },
  {
   "cell_type": "markdown",
   "metadata": {},
   "source": [
    "Verificamos acima que alguns casos possuem cpf/cnpj de outros registros. Vamos fazer a atribuição deles, e depois remover os que não tiveram cpj/cnpj identificados:"
   ]
  },
  {
   "cell_type": "code",
   "execution_count": 54,
   "metadata": {},
   "outputs": [],
   "source": [
    "inidoneas_e_suspensas_df['CPF OU CNPJ DO SANCIONADO'] = np.where(np.logical_and(inidoneas_e_suspensas_df['CPF OU CNPJ DO SANCIONADO']=='-1', inidoneas_e_suspensas_df['NOME INFORMADO PELO ÓRGÃO SANCIONADOR'] == 'CARLOS ALBERTO MORAES DE OLIVEIRA'), '36712230730', inidoneas_e_suspensas_df['CPF OU CNPJ DO SANCIONADO'])\n",
    "inidoneas_e_suspensas_df['CPF OU CNPJ DO SANCIONADO'] = np.where(np.logical_and(inidoneas_e_suspensas_df['CPF OU CNPJ DO SANCIONADO']=='-1', inidoneas_e_suspensas_df['NOME INFORMADO PELO ÓRGÃO SANCIONADOR'] == 'GEOAR TURISMO LTDA'), '58850785000171', inidoneas_e_suspensas_df['CPF OU CNPJ DO SANCIONADO'])\n",
    "inidoneas_e_suspensas_df['CPF OU CNPJ DO SANCIONADO'] = np.where(np.logical_and(inidoneas_e_suspensas_df['CPF OU CNPJ DO SANCIONADO']=='-1', inidoneas_e_suspensas_df['NOME INFORMADO PELO ÓRGÃO SANCIONADOR'] == 'ROGéLIO BARCHETTI URREA'), '05950423844', inidoneas_e_suspensas_df['CPF OU CNPJ DO SANCIONADO'])"
   ]
  },
  {
   "cell_type": "code",
   "execution_count": 56,
   "metadata": {},
   "outputs": [
    {
     "data": {
      "text/html": [
       "<div>\n",
       "<style scoped>\n",
       "    .dataframe tbody tr th:only-of-type {\n",
       "        vertical-align: middle;\n",
       "    }\n",
       "\n",
       "    .dataframe tbody tr th {\n",
       "        vertical-align: top;\n",
       "    }\n",
       "\n",
       "    .dataframe thead th {\n",
       "        text-align: right;\n",
       "    }\n",
       "</style>\n",
       "<table border=\"1\" class=\"dataframe\">\n",
       "  <thead>\n",
       "    <tr style=\"text-align: right;\">\n",
       "      <th></th>\n",
       "      <th>CPF OU CNPJ DO SANCIONADO</th>\n",
       "      <th>NOME INFORMADO PELO ÓRGÃO SANCIONADOR</th>\n",
       "      <th>DATA INÍCIO SANÇÃO</th>\n",
       "      <th>DATA FINAL SANÇÃO</th>\n",
       "    </tr>\n",
       "  </thead>\n",
       "  <tbody>\n",
       "    <tr>\n",
       "      <td>213</td>\n",
       "      <td>-1</td>\n",
       "      <td>LICITATECH INFORMÁTICA LTDA. ME.</td>\n",
       "      <td>02/10/2013</td>\n",
       "      <td>NaN</td>\n",
       "    </tr>\n",
       "    <tr>\n",
       "      <td>1592</td>\n",
       "      <td>-1</td>\n",
       "      <td>HECTOR ERNESTO SANHUEZA CACERES</td>\n",
       "      <td>22/05/2019</td>\n",
       "      <td>22/05/2024</td>\n",
       "    </tr>\n",
       "    <tr>\n",
       "      <td>4131</td>\n",
       "      <td>-1</td>\n",
       "      <td>MODEC INTERNATIONAL, INC</td>\n",
       "      <td>31/03/2021</td>\n",
       "      <td>30/04/2022</td>\n",
       "    </tr>\n",
       "    <tr>\n",
       "      <td>5335</td>\n",
       "      <td>-1</td>\n",
       "      <td>Mayara N. Da Silva</td>\n",
       "      <td>26/02/2008</td>\n",
       "      <td>NaN</td>\n",
       "    </tr>\n",
       "    <tr>\n",
       "      <td>6281</td>\n",
       "      <td>-1</td>\n",
       "      <td>F. BONTEMPO BRUM PIRES EIRELI ME</td>\n",
       "      <td>30/05/2019</td>\n",
       "      <td>30/05/2024</td>\n",
       "    </tr>\n",
       "    <tr>\n",
       "      <td>13920</td>\n",
       "      <td>-1</td>\n",
       "      <td>SR MOREIRA DISTRIBUIDORA LTDA</td>\n",
       "      <td>28/12/2010</td>\n",
       "      <td>NaN</td>\n",
       "    </tr>\n",
       "  </tbody>\n",
       "</table>\n",
       "</div>"
      ],
      "text/plain": [
       "      CPF OU CNPJ DO SANCIONADO NOME INFORMADO PELO ÓRGÃO SANCIONADOR  \\\n",
       "213                          -1      LICITATECH INFORMÁTICA LTDA. ME.   \n",
       "1592                         -1       HECTOR ERNESTO SANHUEZA CACERES   \n",
       "4131                         -1              MODEC INTERNATIONAL, INC   \n",
       "5335                         -1                    Mayara N. Da Silva   \n",
       "6281                         -1      F. BONTEMPO BRUM PIRES EIRELI ME   \n",
       "13920                        -1         SR MOREIRA DISTRIBUIDORA LTDA   \n",
       "\n",
       "      DATA INÍCIO SANÇÃO DATA FINAL SANÇÃO  \n",
       "213           02/10/2013               NaN  \n",
       "1592          22/05/2019        22/05/2024  \n",
       "4131          31/03/2021        30/04/2022  \n",
       "5335          26/02/2008               NaN  \n",
       "6281          30/05/2019        30/05/2024  \n",
       "13920         28/12/2010               NaN  "
      ]
     },
     "execution_count": 56,
     "metadata": {},
     "output_type": "execute_result"
    }
   ],
   "source": [
    "nomes_sem_cpf_cnpj = inidoneas_e_suspensas_df[inidoneas_e_suspensas_df['CPF OU CNPJ DO SANCIONADO'].str.len() == 2]\n",
    "nomes_sem_cpf_cnpj"
   ]
  },
  {
   "cell_type": "code",
   "execution_count": 57,
   "metadata": {},
   "outputs": [],
   "source": [
    "inidoneas_e_suspensas_df = inidoneas_e_suspensas_df.drop(nomes_sem_cpf_cnpj.index)"
   ]
  },
  {
   "cell_type": "code",
   "execution_count": 58,
   "metadata": {},
   "outputs": [
    {
     "data": {
      "text/plain": [
       "11    8430\n",
       "14    6396\n",
       "Name: CPF OU CNPJ DO SANCIONADO, dtype: int64"
      ]
     },
     "execution_count": 58,
     "metadata": {},
     "output_type": "execute_result"
    }
   ],
   "source": [
    "# Conferindo a coluna 'CPF OU CNPJ DO SANCIONADO 'após os ajustes:\n",
    "inidoneas_e_suspensas_df['CPF OU CNPJ DO SANCIONADO'].str.len().value_counts()"
   ]
  },
  {
   "cell_type": "markdown",
   "metadata": {},
   "source": [
    "Fim da limpeza e correção da coluna 'CPF OU CNPJ DO SANCIONADO'"
   ]
  },
  {
   "cell_type": "markdown",
   "metadata": {},
   "source": [
    "### Análise dos dados:"
   ]
  },
  {
   "cell_type": "code",
   "execution_count": 59,
   "metadata": {},
   "outputs": [
    {
     "data": {
      "text/html": [
       "<div>\n",
       "<style scoped>\n",
       "    .dataframe tbody tr th:only-of-type {\n",
       "        vertical-align: middle;\n",
       "    }\n",
       "\n",
       "    .dataframe tbody tr th {\n",
       "        vertical-align: top;\n",
       "    }\n",
       "\n",
       "    .dataframe thead th {\n",
       "        text-align: right;\n",
       "    }\n",
       "</style>\n",
       "<table border=\"1\" class=\"dataframe\">\n",
       "  <thead>\n",
       "    <tr style=\"text-align: right;\">\n",
       "      <th></th>\n",
       "      <th>CPF OU CNPJ DO SANCIONADO</th>\n",
       "      <th>NOME INFORMADO PELO ÓRGÃO SANCIONADOR</th>\n",
       "      <th>DATA INÍCIO SANÇÃO</th>\n",
       "      <th>DATA FINAL SANÇÃO</th>\n",
       "    </tr>\n",
       "  </thead>\n",
       "  <tbody>\n",
       "    <tr>\n",
       "      <td>0</td>\n",
       "      <td>13459221000174</td>\n",
       "      <td>FLEXNAUTICA EMBARCACOES COMERCIO E SERVICOS EI...</td>\n",
       "      <td>04/06/2019</td>\n",
       "      <td>04/06/2021</td>\n",
       "    </tr>\n",
       "    <tr>\n",
       "      <td>1</td>\n",
       "      <td>70779600800</td>\n",
       "      <td>OSVALDO PAQUITO DA SILVA</td>\n",
       "      <td>24/01/2019</td>\n",
       "      <td>24/01/2023</td>\n",
       "    </tr>\n",
       "    <tr>\n",
       "      <td>2</td>\n",
       "      <td>01276136000191</td>\n",
       "      <td>COMERCIAL FERUMA LTDA</td>\n",
       "      <td>14/06/2016</td>\n",
       "      <td>13/06/2021</td>\n",
       "    </tr>\n",
       "    <tr>\n",
       "      <td>3</td>\n",
       "      <td>76258672000163</td>\n",
       "      <td>PEDRA AZUL SERVIÇOS DE LIMPEZA E CONSERVAÇÃO LTDA</td>\n",
       "      <td>12/04/2016</td>\n",
       "      <td>11/04/2021</td>\n",
       "    </tr>\n",
       "    <tr>\n",
       "      <td>4</td>\n",
       "      <td>37770420806</td>\n",
       "      <td>ARNOLDO LUIZ DE MORAES</td>\n",
       "      <td>09/10/2018</td>\n",
       "      <td>09/10/2023</td>\n",
       "    </tr>\n",
       "    <tr>\n",
       "      <td>...</td>\n",
       "      <td>...</td>\n",
       "      <td>...</td>\n",
       "      <td>...</td>\n",
       "      <td>...</td>\n",
       "    </tr>\n",
       "    <tr>\n",
       "      <td>14827</td>\n",
       "      <td>18387009000162</td>\n",
       "      <td>INFORGERAIS EIRELI</td>\n",
       "      <td>18/03/2021</td>\n",
       "      <td>NaN</td>\n",
       "    </tr>\n",
       "    <tr>\n",
       "      <td>14828</td>\n",
       "      <td>04163678000146</td>\n",
       "      <td>POLO PROFESSIONAL SERVICOS LTDA</td>\n",
       "      <td>04/04/2018</td>\n",
       "      <td>NaN</td>\n",
       "    </tr>\n",
       "    <tr>\n",
       "      <td>14829</td>\n",
       "      <td>06939957000184</td>\n",
       "      <td>ELETRICA RAIO DO SOL LTDA</td>\n",
       "      <td>24/04/2018</td>\n",
       "      <td>NaN</td>\n",
       "    </tr>\n",
       "    <tr>\n",
       "      <td>14830</td>\n",
       "      <td>05312963000144</td>\n",
       "      <td>COMERCIAL LICITACAO LTDA</td>\n",
       "      <td>27/06/2017</td>\n",
       "      <td>21/06/2023</td>\n",
       "    </tr>\n",
       "    <tr>\n",
       "      <td>14831</td>\n",
       "      <td>14399732881</td>\n",
       "      <td>ANDRE LUIS SIERVO</td>\n",
       "      <td>06/06/2013</td>\n",
       "      <td>06/06/2023</td>\n",
       "    </tr>\n",
       "  </tbody>\n",
       "</table>\n",
       "<p>14826 rows × 4 columns</p>\n",
       "</div>"
      ],
      "text/plain": [
       "      CPF OU CNPJ DO SANCIONADO  \\\n",
       "0                13459221000174   \n",
       "1                   70779600800   \n",
       "2                01276136000191   \n",
       "3                76258672000163   \n",
       "4                   37770420806   \n",
       "...                         ...   \n",
       "14827            18387009000162   \n",
       "14828            04163678000146   \n",
       "14829            06939957000184   \n",
       "14830            05312963000144   \n",
       "14831               14399732881   \n",
       "\n",
       "                   NOME INFORMADO PELO ÓRGÃO SANCIONADOR DATA INÍCIO SANÇÃO  \\\n",
       "0      FLEXNAUTICA EMBARCACOES COMERCIO E SERVICOS EI...         04/06/2019   \n",
       "1                               OSVALDO PAQUITO DA SILVA         24/01/2019   \n",
       "2                                  COMERCIAL FERUMA LTDA         14/06/2016   \n",
       "3      PEDRA AZUL SERVIÇOS DE LIMPEZA E CONSERVAÇÃO LTDA         12/04/2016   \n",
       "4                                 ARNOLDO LUIZ DE MORAES         09/10/2018   \n",
       "...                                                  ...                ...   \n",
       "14827                                 INFORGERAIS EIRELI         18/03/2021   \n",
       "14828                    POLO PROFESSIONAL SERVICOS LTDA         04/04/2018   \n",
       "14829                          ELETRICA RAIO DO SOL LTDA         24/04/2018   \n",
       "14830                           COMERCIAL LICITACAO LTDA         27/06/2017   \n",
       "14831                                  ANDRE LUIS SIERVO         06/06/2013   \n",
       "\n",
       "      DATA FINAL SANÇÃO  \n",
       "0            04/06/2021  \n",
       "1            24/01/2023  \n",
       "2            13/06/2021  \n",
       "3            11/04/2021  \n",
       "4            09/10/2023  \n",
       "...                 ...  \n",
       "14827               NaN  \n",
       "14828               NaN  \n",
       "14829               NaN  \n",
       "14830        21/06/2023  \n",
       "14831        06/06/2023  \n",
       "\n",
       "[14826 rows x 4 columns]"
      ]
     },
     "execution_count": 59,
     "metadata": {},
     "output_type": "execute_result"
    }
   ],
   "source": [
    "inidoneas_e_suspensas_df"
   ]
  },
  {
   "cell_type": "code",
   "execution_count": 60,
   "metadata": {},
   "outputs": [
    {
     "name": "stdout",
     "output_type": "stream",
     "text": [
      "01/01/2019\n",
      "31/12/2020\n"
     ]
    }
   ],
   "source": [
    "print(inidoneas_e_suspensas_df['DATA INÍCIO SANÇÃO'].min())\n",
    "print(inidoneas_e_suspensas_df['DATA INÍCIO SANÇÃO'].max())"
   ]
  },
  {
   "cell_type": "markdown",
   "metadata": {},
   "source": [
    "Datas de início dentro do esperado."
   ]
  },
  {
   "cell_type": "code",
   "execution_count": 65,
   "metadata": {},
   "outputs": [
    {
     "name": "stdout",
     "output_type": "stream",
     "text": [
      "01/01/2019\n",
      "31/12/2099\n"
     ]
    }
   ],
   "source": [
    "print(inidoneas_e_suspensas_df[inidoneas_e_suspensas_df['DATA FINAL SANÇÃO'].notnull() == True]['DATA FINAL SANÇÃO'].min())\n",
    "print(inidoneas_e_suspensas_df[inidoneas_e_suspensas_df['DATA FINAL SANÇÃO'].notnull() == True]['DATA FINAL SANÇÃO'].max())"
   ]
  },
  {
   "cell_type": "code",
   "execution_count": 69,
   "metadata": {},
   "outputs": [
    {
     "data": {
      "text/html": [
       "<div>\n",
       "<style scoped>\n",
       "    .dataframe tbody tr th:only-of-type {\n",
       "        vertical-align: middle;\n",
       "    }\n",
       "\n",
       "    .dataframe tbody tr th {\n",
       "        vertical-align: top;\n",
       "    }\n",
       "\n",
       "    .dataframe thead th {\n",
       "        text-align: right;\n",
       "    }\n",
       "</style>\n",
       "<table border=\"1\" class=\"dataframe\">\n",
       "  <thead>\n",
       "    <tr style=\"text-align: right;\">\n",
       "      <th></th>\n",
       "      <th>CPF OU CNPJ DO SANCIONADO</th>\n",
       "      <th>NOME INFORMADO PELO ÓRGÃO SANCIONADOR</th>\n",
       "      <th>DATA INÍCIO SANÇÃO</th>\n",
       "      <th>DATA FINAL SANÇÃO</th>\n",
       "    </tr>\n",
       "  </thead>\n",
       "  <tbody>\n",
       "    <tr>\n",
       "      <td>14544</td>\n",
       "      <td>02731495000154</td>\n",
       "      <td>CONSERVO BRASILIA EMPRESA DE SEGURANÇA LTDA</td>\n",
       "      <td>22/10/2008</td>\n",
       "      <td>31/12/2099</td>\n",
       "    </tr>\n",
       "  </tbody>\n",
       "</table>\n",
       "</div>"
      ],
      "text/plain": [
       "      CPF OU CNPJ DO SANCIONADO        NOME INFORMADO PELO ÓRGÃO SANCIONADOR  \\\n",
       "14544            02731495000154  CONSERVO BRASILIA EMPRESA DE SEGURANÇA LTDA   \n",
       "\n",
       "      DATA INÍCIO SANÇÃO DATA FINAL SANÇÃO  \n",
       "14544         22/10/2008        31/12/2099  "
      ]
     },
     "execution_count": 69,
     "metadata": {},
     "output_type": "execute_result"
    }
   ],
   "source": [
    "inidoneas_e_suspensas_df[inidoneas_e_suspensas_df['DATA FINAL SANÇÃO'].str[-4:] == '2099']"
   ]
  },
  {
   "cell_type": "markdown",
   "metadata": {},
   "source": [
    "Já sobre a data final, percebemos um registro que pode ser um erro (31/12/2099). Mas como iremos considerar apenas a existência ou não da empresa na lista e inidôneas e suspensas, então não é preciso nenhum tratamento. Além disso, vimos anteriormente que há linhas com 'DATA FINAL SANÇÃO', e também não faremos tratamento sobre isso."
   ]
  },
  {
   "cell_type": "markdown",
   "metadata": {},
   "source": [
    "Vamos remover as colunas de datas, pois serviram apenas para conhecimento e não serão mais necessárias:"
   ]
  },
  {
   "cell_type": "code",
   "execution_count": 71,
   "metadata": {},
   "outputs": [],
   "source": [
    "inidoneas_e_suspensas_df.drop(columns=['DATA INÍCIO SANÇÃO', 'DATA FINAL SANÇÃO'], inplace=True)"
   ]
  },
  {
   "cell_type": "markdown",
   "metadata": {},
   "source": [
    "Vamos agora remover duplicidades de CNPJ:"
   ]
  },
  {
   "cell_type": "code",
   "execution_count": 96,
   "metadata": {},
   "outputs": [],
   "source": [
    "# Primeiro, separar um dataframe só com CNPJ:\n",
    "inidoneas_e_suspensas_pj_df = inidoneas_e_suspensas_df[inidoneas_e_suspensas_df['CPF OU CNPJ DO SANCIONADO'].str.len()==14]"
   ]
  },
  {
   "cell_type": "code",
   "execution_count": 97,
   "metadata": {},
   "outputs": [],
   "source": [
    "# Vamos agrupar por CNPJ e pegar apenas o primeiro nome da empresa:\n",
    "inidoneas_e_suspensas_pj_df = inidoneas_e_suspensas_pj_df.groupby('CPF OU CNPJ DO SANCIONADO').head(1)"
   ]
  },
  {
   "cell_type": "code",
   "execution_count": 98,
   "metadata": {
    "scrolled": true
   },
   "outputs": [
    {
     "data": {
      "text/plain": [
       "59456353168       41\n",
       "09175725134       37\n",
       "10996399000166    25\n",
       "10699681707       18\n",
       "08761331708       18\n",
       "                  ..\n",
       "13947569000100     1\n",
       "22711938000152     1\n",
       "18706523803        1\n",
       "17653082000176     1\n",
       "20847823920        1\n",
       "Name: CPF OU CNPJ DO SANCIONADO, Length: 11749, dtype: int64"
      ]
     },
     "execution_count": 98,
     "metadata": {},
     "output_type": "execute_result"
    }
   ],
   "source": [
    "# Vamos testar se deu tudo certo. Primeiro, vamos identificar um cnpj que tenha várias linhas:\n",
    "inidoneas_e_suspensas_df['CPF OU CNPJ DO SANCIONADO'].value_counts()"
   ]
  },
  {
   "cell_type": "code",
   "execution_count": 99,
   "metadata": {},
   "outputs": [
    {
     "data": {
      "text/html": [
       "<div>\n",
       "<style scoped>\n",
       "    .dataframe tbody tr th:only-of-type {\n",
       "        vertical-align: middle;\n",
       "    }\n",
       "\n",
       "    .dataframe tbody tr th {\n",
       "        vertical-align: top;\n",
       "    }\n",
       "\n",
       "    .dataframe thead th {\n",
       "        text-align: right;\n",
       "    }\n",
       "</style>\n",
       "<table border=\"1\" class=\"dataframe\">\n",
       "  <thead>\n",
       "    <tr style=\"text-align: right;\">\n",
       "      <th></th>\n",
       "      <th>CPF OU CNPJ DO SANCIONADO</th>\n",
       "      <th>NOME INFORMADO PELO ÓRGÃO SANCIONADOR</th>\n",
       "    </tr>\n",
       "  </thead>\n",
       "  <tbody>\n",
       "    <tr>\n",
       "      <td>763</td>\n",
       "      <td>10996399000166</td>\n",
       "      <td>SPEED DISTRIBUIDORA E SERVIÇOS - EIRELI</td>\n",
       "    </tr>\n",
       "    <tr>\n",
       "      <td>1520</td>\n",
       "      <td>10996399000166</td>\n",
       "      <td>SPEED DISTRIBUIDORA E SERVIÇOS - EIRLI</td>\n",
       "    </tr>\n",
       "    <tr>\n",
       "      <td>1664</td>\n",
       "      <td>10996399000166</td>\n",
       "      <td>SPEED DISTRIBUIDORA E SERVIÇOS EIRELI</td>\n",
       "    </tr>\n",
       "    <tr>\n",
       "      <td>1808</td>\n",
       "      <td>10996399000166</td>\n",
       "      <td>SPEED DISTRIBUIDORA E SERVIÇOS  EIRELLI</td>\n",
       "    </tr>\n",
       "    <tr>\n",
       "      <td>1822</td>\n",
       "      <td>10996399000166</td>\n",
       "      <td>SPEED DISTRIBUIDORA E SERVIÇOS EIRELI EPP</td>\n",
       "    </tr>\n",
       "    <tr>\n",
       "      <td>1966</td>\n",
       "      <td>10996399000166</td>\n",
       "      <td>SPEED DISTRIBUIDORA E SERVIÇOS EIRELI EPP</td>\n",
       "    </tr>\n",
       "    <tr>\n",
       "      <td>2110</td>\n",
       "      <td>10996399000166</td>\n",
       "      <td>SPEED DISTRIBUIDORA E SERVIÇOS - EIRELI - EPP</td>\n",
       "    </tr>\n",
       "    <tr>\n",
       "      <td>2254</td>\n",
       "      <td>10996399000166</td>\n",
       "      <td>SPEED DISTRIBUIDORA E SERVIÇOS EIRELI - EPP</td>\n",
       "    </tr>\n",
       "    <tr>\n",
       "      <td>2398</td>\n",
       "      <td>10996399000166</td>\n",
       "      <td>SPEED DISTRIBUIDORA E SERVIÇOS - EIRELI - EPP</td>\n",
       "    </tr>\n",
       "    <tr>\n",
       "      <td>2542</td>\n",
       "      <td>10996399000166</td>\n",
       "      <td>SPEED DISTRIBUIDORA E SERVIÇOS EIRELI EPP</td>\n",
       "    </tr>\n",
       "    <tr>\n",
       "      <td>2686</td>\n",
       "      <td>10996399000166</td>\n",
       "      <td>SPEED DISTRIBUIDORA E SERVIÇOS EIRELI EPP</td>\n",
       "    </tr>\n",
       "    <tr>\n",
       "      <td>2792</td>\n",
       "      <td>10996399000166</td>\n",
       "      <td>SPEED DISTRIBUIDORA E SERVIÇOS EIRELI</td>\n",
       "    </tr>\n",
       "    <tr>\n",
       "      <td>2830</td>\n",
       "      <td>10996399000166</td>\n",
       "      <td>SPEEED DISTRIBUIDORA E SERVIÇOS EIRELI - EPP</td>\n",
       "    </tr>\n",
       "    <tr>\n",
       "      <td>2974</td>\n",
       "      <td>10996399000166</td>\n",
       "      <td>SPEED DISTRIBUIDORA E SERVIÇOS EIRELI EPP</td>\n",
       "    </tr>\n",
       "    <tr>\n",
       "      <td>3118</td>\n",
       "      <td>10996399000166</td>\n",
       "      <td>SPEED DISTRIBUIDORA E SERVIÇOS EIRELI EPP</td>\n",
       "    </tr>\n",
       "    <tr>\n",
       "      <td>3262</td>\n",
       "      <td>10996399000166</td>\n",
       "      <td>SPEED DISTRIBUIDORA E SERVIÇOS EIRELI - EPP</td>\n",
       "    </tr>\n",
       "    <tr>\n",
       "      <td>3368</td>\n",
       "      <td>10996399000166</td>\n",
       "      <td>SPEED DISTRIBUIDORA E SERVIÇOS EIRELI</td>\n",
       "    </tr>\n",
       "    <tr>\n",
       "      <td>3406</td>\n",
       "      <td>10996399000166</td>\n",
       "      <td>SPEED DISTRIBUIDORA E SERVIÇOS EIRELI-EPP</td>\n",
       "    </tr>\n",
       "    <tr>\n",
       "      <td>3550</td>\n",
       "      <td>10996399000166</td>\n",
       "      <td>SPEED DISTRIBUIDORA E SERVIÇOS EIRELI EPP</td>\n",
       "    </tr>\n",
       "    <tr>\n",
       "      <td>3694</td>\n",
       "      <td>10996399000166</td>\n",
       "      <td>SPEED DISTRIBUIDORA E SERVIÇOS - EIRELI - EPP</td>\n",
       "    </tr>\n",
       "    <tr>\n",
       "      <td>3982</td>\n",
       "      <td>10996399000166</td>\n",
       "      <td>SPEED DISTRIBUIDORA E SERVIÇOS EIRELI EPP</td>\n",
       "    </tr>\n",
       "    <tr>\n",
       "      <td>4126</td>\n",
       "      <td>10996399000166</td>\n",
       "      <td>SPEED DISTRIBUIDORA E SERVIÇOS EIRELI EPP</td>\n",
       "    </tr>\n",
       "    <tr>\n",
       "      <td>4268</td>\n",
       "      <td>10996399000166</td>\n",
       "      <td>SPEED DISTRIBUIDORA E SERVIÇOS EIRELI EPP</td>\n",
       "    </tr>\n",
       "    <tr>\n",
       "      <td>4408</td>\n",
       "      <td>10996399000166</td>\n",
       "      <td>SPEED DISTRIBUIDORA E SERVIÇOS EIRELI EPP</td>\n",
       "    </tr>\n",
       "    <tr>\n",
       "      <td>4688</td>\n",
       "      <td>10996399000166</td>\n",
       "      <td>SPEED DISTRIBUIDORA E SERVIÇOS EIRELI EPP</td>\n",
       "    </tr>\n",
       "  </tbody>\n",
       "</table>\n",
       "</div>"
      ],
      "text/plain": [
       "     CPF OU CNPJ DO SANCIONADO          NOME INFORMADO PELO ÓRGÃO SANCIONADOR\n",
       "763             10996399000166        SPEED DISTRIBUIDORA E SERVIÇOS - EIRELI\n",
       "1520            10996399000166         SPEED DISTRIBUIDORA E SERVIÇOS - EIRLI\n",
       "1664            10996399000166          SPEED DISTRIBUIDORA E SERVIÇOS EIRELI\n",
       "1808            10996399000166        SPEED DISTRIBUIDORA E SERVIÇOS  EIRELLI\n",
       "1822            10996399000166      SPEED DISTRIBUIDORA E SERVIÇOS EIRELI EPP\n",
       "1966            10996399000166      SPEED DISTRIBUIDORA E SERVIÇOS EIRELI EPP\n",
       "2110            10996399000166  SPEED DISTRIBUIDORA E SERVIÇOS - EIRELI - EPP\n",
       "2254            10996399000166    SPEED DISTRIBUIDORA E SERVIÇOS EIRELI - EPP\n",
       "2398            10996399000166  SPEED DISTRIBUIDORA E SERVIÇOS - EIRELI - EPP\n",
       "2542            10996399000166      SPEED DISTRIBUIDORA E SERVIÇOS EIRELI EPP\n",
       "2686            10996399000166      SPEED DISTRIBUIDORA E SERVIÇOS EIRELI EPP\n",
       "2792            10996399000166          SPEED DISTRIBUIDORA E SERVIÇOS EIRELI\n",
       "2830            10996399000166   SPEEED DISTRIBUIDORA E SERVIÇOS EIRELI - EPP\n",
       "2974            10996399000166      SPEED DISTRIBUIDORA E SERVIÇOS EIRELI EPP\n",
       "3118            10996399000166      SPEED DISTRIBUIDORA E SERVIÇOS EIRELI EPP\n",
       "3262            10996399000166    SPEED DISTRIBUIDORA E SERVIÇOS EIRELI - EPP\n",
       "3368            10996399000166          SPEED DISTRIBUIDORA E SERVIÇOS EIRELI\n",
       "3406            10996399000166      SPEED DISTRIBUIDORA E SERVIÇOS EIRELI-EPP\n",
       "3550            10996399000166      SPEED DISTRIBUIDORA E SERVIÇOS EIRELI EPP\n",
       "3694            10996399000166  SPEED DISTRIBUIDORA E SERVIÇOS - EIRELI - EPP\n",
       "3982            10996399000166      SPEED DISTRIBUIDORA E SERVIÇOS EIRELI EPP\n",
       "4126            10996399000166      SPEED DISTRIBUIDORA E SERVIÇOS EIRELI EPP\n",
       "4268            10996399000166      SPEED DISTRIBUIDORA E SERVIÇOS EIRELI EPP\n",
       "4408            10996399000166      SPEED DISTRIBUIDORA E SERVIÇOS EIRELI EPP\n",
       "4688            10996399000166      SPEED DISTRIBUIDORA E SERVIÇOS EIRELI EPP"
      ]
     },
     "execution_count": 99,
     "metadata": {},
     "output_type": "execute_result"
    }
   ],
   "source": [
    "# Escolhido o cnpj 10996399000166, vamos ver como ele estava na lista original:\n",
    "inidoneas_e_suspensas_df[inidoneas_e_suspensas_df['CPF OU CNPJ DO SANCIONADO']=='10996399000166']"
   ]
  },
  {
   "cell_type": "code",
   "execution_count": 100,
   "metadata": {
    "scrolled": true
   },
   "outputs": [
    {
     "data": {
      "text/html": [
       "<div>\n",
       "<style scoped>\n",
       "    .dataframe tbody tr th:only-of-type {\n",
       "        vertical-align: middle;\n",
       "    }\n",
       "\n",
       "    .dataframe tbody tr th {\n",
       "        vertical-align: top;\n",
       "    }\n",
       "\n",
       "    .dataframe thead th {\n",
       "        text-align: right;\n",
       "    }\n",
       "</style>\n",
       "<table border=\"1\" class=\"dataframe\">\n",
       "  <thead>\n",
       "    <tr style=\"text-align: right;\">\n",
       "      <th></th>\n",
       "      <th>CPF OU CNPJ DO SANCIONADO</th>\n",
       "      <th>NOME INFORMADO PELO ÓRGÃO SANCIONADOR</th>\n",
       "    </tr>\n",
       "  </thead>\n",
       "  <tbody>\n",
       "    <tr>\n",
       "      <td>763</td>\n",
       "      <td>10996399000166</td>\n",
       "      <td>SPEED DISTRIBUIDORA E SERVIÇOS - EIRELI</td>\n",
       "    </tr>\n",
       "  </tbody>\n",
       "</table>\n",
       "</div>"
      ],
      "text/plain": [
       "    CPF OU CNPJ DO SANCIONADO    NOME INFORMADO PELO ÓRGÃO SANCIONADOR\n",
       "763            10996399000166  SPEED DISTRIBUIDORA E SERVIÇOS - EIRELI"
      ]
     },
     "execution_count": 100,
     "metadata": {},
     "output_type": "execute_result"
    }
   ],
   "source": [
    "# Vamos ver como esse mesmo CNPJ ficou na lista consolidada (sem duplicidade):\n",
    "inidoneas_e_suspensas_pj_df[inidoneas_e_suspensas_pj_df['CPF OU CNPJ DO SANCIONADO']=='10996399000166']"
   ]
  },
  {
   "cell_type": "markdown",
   "metadata": {},
   "source": [
    "Ou seja, tudo correto na remoção de cnpjs duplicados."
   ]
  },
  {
   "cell_type": "markdown",
   "metadata": {},
   "source": [
    "Vamos agora avaliar e remover duplicidades de CPF:"
   ]
  },
  {
   "cell_type": "code",
   "execution_count": 115,
   "metadata": {},
   "outputs": [],
   "source": [
    "# Primeiro, separar um dataframe só com CPF:\n",
    "inidoneas_e_suspensas_pf_df = inidoneas_e_suspensas_df[inidoneas_e_suspensas_df['CPF OU CNPJ DO SANCIONADO'].str.len()==11]"
   ]
  },
  {
   "cell_type": "code",
   "execution_count": 116,
   "metadata": {},
   "outputs": [
    {
     "name": "stdout",
     "output_type": "stream",
     "text": [
      "(8430, 2)\n",
      "(6770, 2)\n"
     ]
    }
   ],
   "source": [
    "# Como não podemos desconsiderar o nome nos casos de linhas de CPF, precisamos remover duplicados usando o método drop, considerando as duas colunas:\n",
    "print(inidoneas_e_suspensas_pf_df.shape)\n",
    "inidoneas_e_suspensas_pf_df = inidoneas_e_suspensas_pf_df.drop_duplicates()\n",
    "print(inidoneas_e_suspensas_pf_df.shape)"
   ]
  },
  {
   "cell_type": "markdown",
   "metadata": {},
   "source": [
    "Removidas as duplicidades de cpf e cnpj, vamos unificar os dataframes:"
   ]
  },
  {
   "cell_type": "code",
   "execution_count": 119,
   "metadata": {},
   "outputs": [
    {
     "data": {
      "text/html": [
       "<div>\n",
       "<style scoped>\n",
       "    .dataframe tbody tr th:only-of-type {\n",
       "        vertical-align: middle;\n",
       "    }\n",
       "\n",
       "    .dataframe tbody tr th {\n",
       "        vertical-align: top;\n",
       "    }\n",
       "\n",
       "    .dataframe thead th {\n",
       "        text-align: right;\n",
       "    }\n",
       "</style>\n",
       "<table border=\"1\" class=\"dataframe\">\n",
       "  <thead>\n",
       "    <tr style=\"text-align: right;\">\n",
       "      <th></th>\n",
       "      <th>CPF OU CNPJ DO SANCIONADO</th>\n",
       "      <th>NOME INFORMADO PELO ÓRGÃO SANCIONADOR</th>\n",
       "    </tr>\n",
       "  </thead>\n",
       "  <tbody>\n",
       "    <tr>\n",
       "      <td>0</td>\n",
       "      <td>13459221000174</td>\n",
       "      <td>FLEXNAUTICA EMBARCACOES COMERCIO E SERVICOS EI...</td>\n",
       "    </tr>\n",
       "    <tr>\n",
       "      <td>1</td>\n",
       "      <td>01276136000191</td>\n",
       "      <td>COMERCIAL FERUMA LTDA</td>\n",
       "    </tr>\n",
       "    <tr>\n",
       "      <td>2</td>\n",
       "      <td>76258672000163</td>\n",
       "      <td>PEDRA AZUL SERVIÇOS DE LIMPEZA E CONSERVAÇÃO LTDA</td>\n",
       "    </tr>\n",
       "    <tr>\n",
       "      <td>3</td>\n",
       "      <td>17015396000143</td>\n",
       "      <td>PRATO CERTO - ALIMENTACAO E NUTRICAO EIRELI</td>\n",
       "    </tr>\n",
       "    <tr>\n",
       "      <td>4</td>\n",
       "      <td>21545589000183</td>\n",
       "      <td>R &amp; B PRODUTOS E SERVIÇOS LTDA</td>\n",
       "    </tr>\n",
       "    <tr>\n",
       "      <td>...</td>\n",
       "      <td>...</td>\n",
       "      <td>...</td>\n",
       "    </tr>\n",
       "    <tr>\n",
       "      <td>11915</td>\n",
       "      <td>53290712087</td>\n",
       "      <td>EDUARDO FLORENTINO PACHECO DA SILVA</td>\n",
       "    </tr>\n",
       "    <tr>\n",
       "      <td>11916</td>\n",
       "      <td>15158268134</td>\n",
       "      <td>JOSé VALDéCIO PESSOA</td>\n",
       "    </tr>\n",
       "    <tr>\n",
       "      <td>11917</td>\n",
       "      <td>15772497472</td>\n",
       "      <td>UBIRACI BERNADINO GOMES</td>\n",
       "    </tr>\n",
       "    <tr>\n",
       "      <td>11918</td>\n",
       "      <td>89196988800</td>\n",
       "      <td>MARCIO EMILIO BARSANTI DE ALMEIDA</td>\n",
       "    </tr>\n",
       "    <tr>\n",
       "      <td>11919</td>\n",
       "      <td>14399732881</td>\n",
       "      <td>ANDRE LUIS SIERVO</td>\n",
       "    </tr>\n",
       "  </tbody>\n",
       "</table>\n",
       "<p>11920 rows × 2 columns</p>\n",
       "</div>"
      ],
      "text/plain": [
       "      CPF OU CNPJ DO SANCIONADO  \\\n",
       "0                13459221000174   \n",
       "1                01276136000191   \n",
       "2                76258672000163   \n",
       "3                17015396000143   \n",
       "4                21545589000183   \n",
       "...                         ...   \n",
       "11915               53290712087   \n",
       "11916               15158268134   \n",
       "11917               15772497472   \n",
       "11918               89196988800   \n",
       "11919               14399732881   \n",
       "\n",
       "                   NOME INFORMADO PELO ÓRGÃO SANCIONADOR  \n",
       "0      FLEXNAUTICA EMBARCACOES COMERCIO E SERVICOS EI...  \n",
       "1                                  COMERCIAL FERUMA LTDA  \n",
       "2      PEDRA AZUL SERVIÇOS DE LIMPEZA E CONSERVAÇÃO LTDA  \n",
       "3            PRATO CERTO - ALIMENTACAO E NUTRICAO EIRELI  \n",
       "4                         R & B PRODUTOS E SERVIÇOS LTDA  \n",
       "...                                                  ...  \n",
       "11915                EDUARDO FLORENTINO PACHECO DA SILVA  \n",
       "11916                               JOSé VALDéCIO PESSOA  \n",
       "11917                            UBIRACI BERNADINO GOMES  \n",
       "11918                  MARCIO EMILIO BARSANTI DE ALMEIDA  \n",
       "11919                                  ANDRE LUIS SIERVO  \n",
       "\n",
       "[11920 rows x 2 columns]"
      ]
     },
     "execution_count": 119,
     "metadata": {},
     "output_type": "execute_result"
    }
   ],
   "source": [
    "inidoneas_e_suspensas_df = pd.concat([inidoneas_e_suspensas_pj_df, inidoneas_e_suspensas_pf_df])\n",
    "inidoneas_e_suspensas_df.reset_index(drop=True)"
   ]
  },
  {
   "cell_type": "markdown",
   "metadata": {},
   "source": [
    "Verificamos acima alguns nomes com acentuação e letras minúsculas. Vamos retirar os acentos e colocar tudo em maiúsculo, pois a base de sócios está dessa forma (e precisaremos fazer join de pessoas físicas usando a coluna de nome)."
   ]
  },
  {
   "cell_type": "code",
   "execution_count": 125,
   "metadata": {},
   "outputs": [
    {
     "name": "stdout",
     "output_type": "stream",
     "text": [
      "aeeohello\n"
     ]
    }
   ],
   "source": [
    "# Definição de uma função para retirar acentos \n",
    "# e transformar texto em maiúsculo:\n",
    "\n",
    "import unicodedata\n",
    "\n",
    "def strip_accents_and_upper(text):\n",
    "\n",
    "    try:\n",
    "        text = unicode(text, 'utf-8')\n",
    "    except NameError: # unicode is a default on python 3 \n",
    "        pass\n",
    "\n",
    "    text = unicodedata.normalize('NFD', text)\\\n",
    "           .encode('ascii', 'ignore')\\\n",
    "           .decode(\"utf-8\")\n",
    "\n",
    "    return str(text).upper()\n",
    "\n",
    "s = strip_accents_and_upper('àéêöhello')\n",
    "print(s)"
   ]
  },
  {
   "cell_type": "code",
   "execution_count": 132,
   "metadata": {},
   "outputs": [],
   "source": [
    "# Aplicação da função\n",
    "inidoneas_e_suspensas_df['NOME INFORMADO PELO ÓRGÃO SANCIONADOR'] = \n",
    "   inidoneas_e_suspensas_df['NOME INFORMADO PELO ÓRGÃO SANCIONADOR'].map(strip_accents_and_upper)"
   ]
  },
  {
   "cell_type": "code",
   "execution_count": 133,
   "metadata": {},
   "outputs": [
    {
     "data": {
      "text/html": [
       "<div>\n",
       "<style scoped>\n",
       "    .dataframe tbody tr th:only-of-type {\n",
       "        vertical-align: middle;\n",
       "    }\n",
       "\n",
       "    .dataframe tbody tr th {\n",
       "        vertical-align: top;\n",
       "    }\n",
       "\n",
       "    .dataframe thead th {\n",
       "        text-align: right;\n",
       "    }\n",
       "</style>\n",
       "<table border=\"1\" class=\"dataframe\">\n",
       "  <thead>\n",
       "    <tr style=\"text-align: right;\">\n",
       "      <th></th>\n",
       "      <th>CPF OU CNPJ DO SANCIONADO</th>\n",
       "      <th>NOME INFORMADO PELO ÓRGÃO SANCIONADOR</th>\n",
       "    </tr>\n",
       "  </thead>\n",
       "  <tbody>\n",
       "    <tr>\n",
       "      <td>0</td>\n",
       "      <td>13459221000174</td>\n",
       "      <td>FLEXNAUTICA EMBARCACOES COMERCIO E SERVICOS EI...</td>\n",
       "    </tr>\n",
       "    <tr>\n",
       "      <td>2</td>\n",
       "      <td>01276136000191</td>\n",
       "      <td>COMERCIAL FERUMA LTDA</td>\n",
       "    </tr>\n",
       "    <tr>\n",
       "      <td>3</td>\n",
       "      <td>76258672000163</td>\n",
       "      <td>PEDRA AZUL SERVICOS DE LIMPEZA E CONSERVACAO LTDA</td>\n",
       "    </tr>\n",
       "    <tr>\n",
       "      <td>5</td>\n",
       "      <td>17015396000143</td>\n",
       "      <td>PRATO CERTO - ALIMENTACAO E NUTRICAO EIRELI</td>\n",
       "    </tr>\n",
       "    <tr>\n",
       "      <td>6</td>\n",
       "      <td>21545589000183</td>\n",
       "      <td>R &amp; B PRODUTOS E SERVICOS LTDA</td>\n",
       "    </tr>\n",
       "    <tr>\n",
       "      <td>...</td>\n",
       "      <td>...</td>\n",
       "      <td>...</td>\n",
       "    </tr>\n",
       "    <tr>\n",
       "      <td>14810</td>\n",
       "      <td>53290712087</td>\n",
       "      <td>EDUARDO FLORENTINO PACHECO DA SILVA</td>\n",
       "    </tr>\n",
       "    <tr>\n",
       "      <td>14811</td>\n",
       "      <td>15158268134</td>\n",
       "      <td>JOSE VALDECIO PESSOA</td>\n",
       "    </tr>\n",
       "    <tr>\n",
       "      <td>14815</td>\n",
       "      <td>15772497472</td>\n",
       "      <td>UBIRACI BERNADINO GOMES</td>\n",
       "    </tr>\n",
       "    <tr>\n",
       "      <td>14817</td>\n",
       "      <td>89196988800</td>\n",
       "      <td>MARCIO EMILIO BARSANTI DE ALMEIDA</td>\n",
       "    </tr>\n",
       "    <tr>\n",
       "      <td>14831</td>\n",
       "      <td>14399732881</td>\n",
       "      <td>ANDRE LUIS SIERVO</td>\n",
       "    </tr>\n",
       "  </tbody>\n",
       "</table>\n",
       "<p>11920 rows × 2 columns</p>\n",
       "</div>"
      ],
      "text/plain": [
       "      CPF OU CNPJ DO SANCIONADO  \\\n",
       "0                13459221000174   \n",
       "2                01276136000191   \n",
       "3                76258672000163   \n",
       "5                17015396000143   \n",
       "6                21545589000183   \n",
       "...                         ...   \n",
       "14810               53290712087   \n",
       "14811               15158268134   \n",
       "14815               15772497472   \n",
       "14817               89196988800   \n",
       "14831               14399732881   \n",
       "\n",
       "                   NOME INFORMADO PELO ÓRGÃO SANCIONADOR  \n",
       "0      FLEXNAUTICA EMBARCACOES COMERCIO E SERVICOS EI...  \n",
       "2                                  COMERCIAL FERUMA LTDA  \n",
       "3      PEDRA AZUL SERVICOS DE LIMPEZA E CONSERVACAO LTDA  \n",
       "5            PRATO CERTO - ALIMENTACAO E NUTRICAO EIRELI  \n",
       "6                         R & B PRODUTOS E SERVICOS LTDA  \n",
       "...                                                  ...  \n",
       "14810                EDUARDO FLORENTINO PACHECO DA SILVA  \n",
       "14811                               JOSE VALDECIO PESSOA  \n",
       "14815                            UBIRACI BERNADINO GOMES  \n",
       "14817                  MARCIO EMILIO BARSANTI DE ALMEIDA  \n",
       "14831                                  ANDRE LUIS SIERVO  \n",
       "\n",
       "[11920 rows x 2 columns]"
      ]
     },
     "execution_count": 133,
     "metadata": {},
     "output_type": "execute_result"
    }
   ],
   "source": [
    "# Verificando resultados:\n",
    "inidoneas_e_suspensas_df"
   ]
  },
  {
   "cell_type": "markdown",
   "metadata": {},
   "source": [
    "Por fim, vamos renomear colunas:"
   ]
  },
  {
   "cell_type": "code",
   "execution_count": 134,
   "metadata": {},
   "outputs": [],
   "source": [
    "inidoneas_e_suspensas_df = inidoneas_e_suspensas_df.rename(columns={\"CPF OU CNPJ DO SANCIONADO\": \"CPF_CNPJ\", \"NOME INFORMADO PELO ÓRGÃO SANCIONADOR\": \"NOME\"})"
   ]
  },
  {
   "cell_type": "markdown",
   "metadata": {},
   "source": [
    "Finalizado. Vamos salvar os resultados:"
   ]
  },
  {
   "cell_type": "code",
   "execution_count": 135,
   "metadata": {},
   "outputs": [],
   "source": [
    "inidoneas_e_suspensas_df.to_csv(r'C:\\\\DATASETS\\Empresas Inidoneas e Suspensas\\\\inidoneas_e_suspensas.csv', index = False)"
   ]
  }
 ],
 "metadata": {
  "kernelspec": {
   "display_name": "Python 3",
   "language": "python",
   "name": "python3"
  },
  "language_info": {
   "codemirror_mode": {
    "name": "ipython",
    "version": 3
   },
   "file_extension": ".py",
   "mimetype": "text/x-python",
   "name": "python",
   "nbconvert_exporter": "python",
   "pygments_lexer": "ipython3",
   "version": "3.7.4"
  }
 },
 "nbformat": 4,
 "nbformat_minor": 2
}
