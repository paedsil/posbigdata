{
 "cells": [
  {
   "cell_type": "code",
   "execution_count": 1,
   "metadata": {},
   "outputs": [],
   "source": [
    "import pandas as pd\n",
    "import numpy as np"
   ]
  },
  {
   "cell_type": "code",
   "execution_count": 2,
   "metadata": {},
   "outputs": [
    {
     "data": {
      "text/html": [
       "<div>\n",
       "<style scoped>\n",
       "    .dataframe tbody tr th:only-of-type {\n",
       "        vertical-align: middle;\n",
       "    }\n",
       "\n",
       "    .dataframe tbody tr th {\n",
       "        vertical-align: top;\n",
       "    }\n",
       "\n",
       "    .dataframe thead th {\n",
       "        text-align: right;\n",
       "    }\n",
       "</style>\n",
       "<table border=\"1\" class=\"dataframe\">\n",
       "  <thead>\n",
       "    <tr style=\"text-align: right;\">\n",
       "      <th></th>\n",
       "      <th>cnpj</th>\n",
       "    </tr>\n",
       "  </thead>\n",
       "  <tbody>\n",
       "    <tr>\n",
       "      <td>0</td>\n",
       "      <td>00000942000170</td>\n",
       "    </tr>\n",
       "    <tr>\n",
       "      <td>1</td>\n",
       "      <td>00001102000121</td>\n",
       "    </tr>\n",
       "    <tr>\n",
       "      <td>2</td>\n",
       "      <td>00005201000181</td>\n",
       "    </tr>\n",
       "    <tr>\n",
       "      <td>3</td>\n",
       "      <td>00005201000262</td>\n",
       "    </tr>\n",
       "    <tr>\n",
       "      <td>4</td>\n",
       "      <td>00010501000159</td>\n",
       "    </tr>\n",
       "    <tr>\n",
       "      <td>...</td>\n",
       "      <td>...</td>\n",
       "    </tr>\n",
       "    <tr>\n",
       "      <td>1559938</td>\n",
       "      <td>98593668000194</td>\n",
       "    </tr>\n",
       "    <tr>\n",
       "      <td>1559939</td>\n",
       "      <td>98669997000252</td>\n",
       "    </tr>\n",
       "    <tr>\n",
       "      <td>1559940</td>\n",
       "      <td>98670235000195</td>\n",
       "    </tr>\n",
       "    <tr>\n",
       "      <td>1559941</td>\n",
       "      <td>98670656000116</td>\n",
       "    </tr>\n",
       "    <tr>\n",
       "      <td>1559942</td>\n",
       "      <td>98674195000150</td>\n",
       "    </tr>\n",
       "  </tbody>\n",
       "</table>\n",
       "<p>1559943 rows × 1 columns</p>\n",
       "</div>"
      ],
      "text/plain": [
       "                   cnpj\n",
       "0        00000942000170\n",
       "1        00001102000121\n",
       "2        00005201000181\n",
       "3        00005201000262\n",
       "4        00010501000159\n",
       "...                 ...\n",
       "1559938  98593668000194\n",
       "1559939  98669997000252\n",
       "1559940  98670235000195\n",
       "1559941  98670656000116\n",
       "1559942  98674195000150\n",
       "\n",
       "[1559943 rows x 1 columns]"
      ]
     },
     "execution_count": 2,
     "metadata": {},
     "output_type": "execute_result"
    }
   ],
   "source": [
    "# IMPORTAÇÃO DA BASE DE EMPRESAS\n",
    "empresas_rotuladas_df = pd.read_csv(r'C:\\DATASETS\\Empresas Rotuladas\\empresas_rotuladas.csv', dtype=str, usecols=['cnpj'])\n",
    "empresas_rotuladas_df"
   ]
  },
  {
   "cell_type": "markdown",
   "metadata": {},
   "source": [
    "### Junção com a base de atendimentos dos Procons:"
   ]
  },
  {
   "cell_type": "code",
   "execution_count": 3,
   "metadata": {
    "scrolled": true
   },
   "outputs": [
    {
     "data": {
      "text/html": [
       "<div>\n",
       "<style scoped>\n",
       "    .dataframe tbody tr th:only-of-type {\n",
       "        vertical-align: middle;\n",
       "    }\n",
       "\n",
       "    .dataframe tbody tr th {\n",
       "        vertical-align: top;\n",
       "    }\n",
       "\n",
       "    .dataframe thead th {\n",
       "        text-align: right;\n",
       "    }\n",
       "</style>\n",
       "<table border=\"1\" class=\"dataframe\">\n",
       "  <thead>\n",
       "    <tr style=\"text-align: right;\">\n",
       "      <th></th>\n",
       "      <th>CPF_CNPJ</th>\n",
       "      <th>Atendimentos_Procon</th>\n",
       "    </tr>\n",
       "  </thead>\n",
       "  <tbody>\n",
       "    <tr>\n",
       "      <td>0</td>\n",
       "      <td>00000000000191</td>\n",
       "      <td>10846</td>\n",
       "    </tr>\n",
       "    <tr>\n",
       "      <td>1</td>\n",
       "      <td>00000000000272</td>\n",
       "      <td>2</td>\n",
       "    </tr>\n",
       "    <tr>\n",
       "      <td>2</td>\n",
       "      <td>00000000000515</td>\n",
       "      <td>1</td>\n",
       "    </tr>\n",
       "    <tr>\n",
       "      <td>3</td>\n",
       "      <td>00000000000787</td>\n",
       "      <td>1</td>\n",
       "    </tr>\n",
       "    <tr>\n",
       "      <td>4</td>\n",
       "      <td>00000000001244</td>\n",
       "      <td>1</td>\n",
       "    </tr>\n",
       "    <tr>\n",
       "      <td>...</td>\n",
       "      <td>...</td>\n",
       "      <td>...</td>\n",
       "    </tr>\n",
       "    <tr>\n",
       "      <td>130790</td>\n",
       "      <td>99863804053</td>\n",
       "      <td>2</td>\n",
       "    </tr>\n",
       "    <tr>\n",
       "      <td>130791</td>\n",
       "      <td>99893525187</td>\n",
       "      <td>2</td>\n",
       "    </tr>\n",
       "    <tr>\n",
       "      <td>130792</td>\n",
       "      <td>99925001153</td>\n",
       "      <td>1</td>\n",
       "    </tr>\n",
       "    <tr>\n",
       "      <td>130793</td>\n",
       "      <td>99928159653</td>\n",
       "      <td>1</td>\n",
       "    </tr>\n",
       "    <tr>\n",
       "      <td>130794</td>\n",
       "      <td>99932075191</td>\n",
       "      <td>1</td>\n",
       "    </tr>\n",
       "  </tbody>\n",
       "</table>\n",
       "<p>130795 rows × 2 columns</p>\n",
       "</div>"
      ],
      "text/plain": [
       "              CPF_CNPJ Atendimentos_Procon\n",
       "0       00000000000191               10846\n",
       "1       00000000000272                   2\n",
       "2       00000000000515                   1\n",
       "3       00000000000787                   1\n",
       "4       00000000001244                   1\n",
       "...                ...                 ...\n",
       "130790     99863804053                   2\n",
       "130791     99893525187                   2\n",
       "130792     99925001153                   1\n",
       "130793     99928159653                   1\n",
       "130794     99932075191                   1\n",
       "\n",
       "[130795 rows x 2 columns]"
      ]
     },
     "execution_count": 3,
     "metadata": {},
     "output_type": "execute_result"
    }
   ],
   "source": [
    "# IMPORTAÇÃO DA BASE DE ATENDIMENTOS DOS PROCONS\n",
    "atendimentos_df = pd.read_csv(r'C:\\DATASETS\\Atendimentos Procons\\atentimentos_procon.csv', dtype=str, encoding='latin-1')\n",
    "atendimentos_df"
   ]
  },
  {
   "cell_type": "code",
   "execution_count": 4,
   "metadata": {
    "scrolled": true
   },
   "outputs": [
    {
     "data": {
      "text/plain": [
       "14    128352\n",
       "11      2443\n",
       "Name: CPF_CNPJ, dtype: int64"
      ]
     },
     "execution_count": 4,
     "metadata": {},
     "output_type": "execute_result"
    }
   ],
   "source": [
    "atendimentos_df.CPF_CNPJ.str.len().value_counts()"
   ]
  },
  {
   "cell_type": "code",
   "execution_count": 7,
   "metadata": {},
   "outputs": [
    {
     "data": {
      "text/plain": [
       "(128352, 2)"
      ]
     },
     "execution_count": 7,
     "metadata": {},
     "output_type": "execute_result"
    }
   ],
   "source": [
    "atendimentos_df = atendimentos_df[atendimentos_df.CPF_CNPJ.str.len()==14]\n",
    "atendimentos_df = atendimentos_df.rename(columns={'CPF_CNPJ': 'cnpj'})\n",
    "atendimentos_df.shape"
   ]
  },
  {
   "cell_type": "code",
   "execution_count": 8,
   "metadata": {
    "scrolled": true
   },
   "outputs": [
    {
     "data": {
      "text/html": [
       "<div>\n",
       "<style scoped>\n",
       "    .dataframe tbody tr th:only-of-type {\n",
       "        vertical-align: middle;\n",
       "    }\n",
       "\n",
       "    .dataframe tbody tr th {\n",
       "        vertical-align: top;\n",
       "    }\n",
       "\n",
       "    .dataframe thead th {\n",
       "        text-align: right;\n",
       "    }\n",
       "</style>\n",
       "<table border=\"1\" class=\"dataframe\">\n",
       "  <thead>\n",
       "    <tr style=\"text-align: right;\">\n",
       "      <th></th>\n",
       "      <th>cnpj</th>\n",
       "      <th>Atendimentos_Procon</th>\n",
       "    </tr>\n",
       "  </thead>\n",
       "  <tbody>\n",
       "    <tr>\n",
       "      <td>0</td>\n",
       "      <td>00000942000170</td>\n",
       "      <td>NaN</td>\n",
       "    </tr>\n",
       "    <tr>\n",
       "      <td>1</td>\n",
       "      <td>00001102000121</td>\n",
       "      <td>NaN</td>\n",
       "    </tr>\n",
       "    <tr>\n",
       "      <td>2</td>\n",
       "      <td>00005201000181</td>\n",
       "      <td>NaN</td>\n",
       "    </tr>\n",
       "    <tr>\n",
       "      <td>3</td>\n",
       "      <td>00005201000262</td>\n",
       "      <td>NaN</td>\n",
       "    </tr>\n",
       "    <tr>\n",
       "      <td>4</td>\n",
       "      <td>00010501000159</td>\n",
       "      <td>NaN</td>\n",
       "    </tr>\n",
       "    <tr>\n",
       "      <td>...</td>\n",
       "      <td>...</td>\n",
       "      <td>...</td>\n",
       "    </tr>\n",
       "    <tr>\n",
       "      <td>1559938</td>\n",
       "      <td>98593668000194</td>\n",
       "      <td>2</td>\n",
       "    </tr>\n",
       "    <tr>\n",
       "      <td>1559939</td>\n",
       "      <td>98669997000252</td>\n",
       "      <td>NaN</td>\n",
       "    </tr>\n",
       "    <tr>\n",
       "      <td>1559940</td>\n",
       "      <td>98670235000195</td>\n",
       "      <td>NaN</td>\n",
       "    </tr>\n",
       "    <tr>\n",
       "      <td>1559941</td>\n",
       "      <td>98670656000116</td>\n",
       "      <td>NaN</td>\n",
       "    </tr>\n",
       "    <tr>\n",
       "      <td>1559942</td>\n",
       "      <td>98674195000150</td>\n",
       "      <td>NaN</td>\n",
       "    </tr>\n",
       "  </tbody>\n",
       "</table>\n",
       "<p>1559943 rows × 2 columns</p>\n",
       "</div>"
      ],
      "text/plain": [
       "                   cnpj Atendimentos_Procon\n",
       "0        00000942000170                 NaN\n",
       "1        00001102000121                 NaN\n",
       "2        00005201000181                 NaN\n",
       "3        00005201000262                 NaN\n",
       "4        00010501000159                 NaN\n",
       "...                 ...                 ...\n",
       "1559938  98593668000194                   2\n",
       "1559939  98669997000252                 NaN\n",
       "1559940  98670235000195                 NaN\n",
       "1559941  98670656000116                 NaN\n",
       "1559942  98674195000150                 NaN\n",
       "\n",
       "[1559943 rows x 2 columns]"
      ]
     },
     "execution_count": 8,
     "metadata": {},
     "output_type": "execute_result"
    }
   ],
   "source": [
    "empresas_rotuladas_df = empresas_rotuladas_df.merge(atendimentos_df, on='cnpj', how='left')\n",
    "empresas_rotuladas_df"
   ]
  },
  {
   "cell_type": "code",
   "execution_count": 9,
   "metadata": {},
   "outputs": [],
   "source": [
    "empresas_rotuladas_df.fillna({'Atendimentos_Procon': 0}, inplace=True)"
   ]
  },
  {
   "cell_type": "markdown",
   "metadata": {},
   "source": [
    "Verificando resultados:"
   ]
  },
  {
   "cell_type": "code",
   "execution_count": 12,
   "metadata": {},
   "outputs": [
    {
     "name": "stdout",
     "output_type": "stream",
     "text": [
      "(8792, 2)\n",
      "count    1.559943e+06\n",
      "mean     7.246521e-01\n",
      "std      1.270590e+02\n",
      "min      0.000000e+00\n",
      "25%      0.000000e+00\n",
      "50%      0.000000e+00\n",
      "75%      0.000000e+00\n",
      "max      7.802300e+04\n",
      "Name: Atendimentos_Procon, dtype: float64\n"
     ]
    }
   ],
   "source": [
    "empresas_rotuladas_df.Atendimentos_Procon = empresas_rotuladas_df.Atendimentos_Procon.astype(int)\n",
    "print(empresas_rotuladas_df[empresas_rotuladas_df.Atendimentos_Procon>0].shape)\n",
    "print(empresas_rotuladas_df.Atendimentos_Procon.describe())"
   ]
  },
  {
   "cell_type": "code",
   "execution_count": 13,
   "metadata": {},
   "outputs": [],
   "source": [
    "# Salvando resultado:\n",
    "empresas_rotuladas_df.to_csv(r'C:\\DATASETS\\Empresas Rotuladas\\empresas_rotuladas-atendimentos_procon.csv', index = False)"
   ]
  }
 ],
 "metadata": {
  "kernelspec": {
   "display_name": "Python 3",
   "language": "python",
   "name": "python3"
  },
  "language_info": {
   "codemirror_mode": {
    "name": "ipython",
    "version": 3
   },
   "file_extension": ".py",
   "mimetype": "text/x-python",
   "name": "python",
   "nbconvert_exporter": "python",
   "pygments_lexer": "ipython3",
   "version": "3.7.4"
  }
 },
 "nbformat": 4,
 "nbformat_minor": 2
}
