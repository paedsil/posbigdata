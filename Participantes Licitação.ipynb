{
 "cells": [
  {
   "cell_type": "code",
   "execution_count": 1,
   "metadata": {},
   "outputs": [],
   "source": [
    "import pandas as pd\n",
    "import numpy as np\n",
    "import glob"
   ]
  },
  {
   "cell_type": "code",
   "execution_count": 2,
   "metadata": {},
   "outputs": [],
   "source": [
    "fields = [\"CNPJ Participante\", \"Nome Participante\", \"Flag Vencedor\"]\n",
    "fields_dtype = {\"CNPJ Participante\": str, \"Nome Participante\": str, \"Flag Vencedor\": \"category\"}"
   ]
  },
  {
   "cell_type": "code",
   "execution_count": 10,
   "metadata": {},
   "outputs": [
    {
     "name": "stdout",
     "output_type": "stream",
     "text": [
      "201701_ParticipantesLicitação.csv\n",
      "201702_ParticipantesLicitação.csv\n",
      "201703_ParticipantesLicitação.csv\n",
      "201704_ParticipantesLicitação.csv\n",
      "201705_ParticipantesLicitação.csv\n",
      "201706_ParticipantesLicitação.csv\n",
      "201707_ParticipantesLicitação.csv\n",
      "201708_ParticipantesLicitação.csv\n",
      "201709_ParticipantesLicitação.csv\n",
      "201710_ParticipantesLicitação.csv\n",
      "201711_ParticipantesLicitação.csv\n",
      "201712_ParticipantesLicitação.csv\n",
      "201801_ParticipantesLicitação.csv\n",
      "201802_ParticipantesLicitação.csv\n",
      "201803_ParticipantesLicitação.csv\n",
      "201804_ParticipantesLicitação.csv\n",
      "201805_ParticipantesLicitação.csv\n",
      "201806_ParticipantesLicitação.csv\n",
      "201807_ParticipantesLicitação.csv\n",
      "201808_ParticipantesLicitação.csv\n",
      "201809_ParticipantesLicitação.csv\n",
      "201810_ParticipantesLicitação.csv\n",
      "201811_ParticipantesLicitação.csv\n",
      "201812_ParticipantesLicitação.csv\n",
      "201901_ParticipantesLicitação.csv\n",
      "201902_ParticipantesLicitação.csv\n",
      "201903_ParticipantesLicitação.csv\n",
      "201904_ParticipantesLicitação.csv\n",
      "201905_ParticipantesLicitação.csv\n",
      "201906_ParticipantesLicitação.csv\n",
      "201907_ParticipantesLicitação.csv\n",
      "201908_ParticipantesLicitação.csv\n",
      "201909_ParticipantesLicitação.csv\n",
      "201910_ParticipantesLicitação.csv\n",
      "201911_ParticipantesLicitação.csv\n",
      "201912_ParticipantesLicitação.csv\n",
      "202001_ParticipantesLicitação.csv\n",
      "202002_ParticipantesLicitação.csv\n",
      "202003_ParticipantesLicitação.csv\n",
      "202004_ParticipantesLicitação.csv\n",
      "202005_ParticipantesLicitação.csv\n",
      "202006_ParticipantesLicitação.csv\n",
      "202007_ParticipantesLicitação.csv\n",
      "202008_ParticipantesLicitação.csv\n",
      "202009_ParticipantesLicitação.csv\n",
      "202010_ParticipantesLicitação.csv\n",
      "202011_ParticipantesLicitação.csv\n",
      "202012_ParticipantesLicitação.csv\n",
      "202101_ParticipantesLicitação.csv\n",
      "202102_ParticipantesLicitação.csv\n",
      "Concatenando resultados...\n",
      "Removendo duplicados...\n"
     ]
    },
    {
     "data": {
      "text/plain": [
       "<bound method NDFrame.describe of         CNPJ Participante                                  Nome Participante  \\\n",
       "0          07757896000105                  CONTROL AUDITORIA E CONTABILIDADE   \n",
       "1          04102908000167                   PROGRESS AUDITORES INDEPENDENTES   \n",
       "2          00205753000133     LAGE & LAGE AUDITORES E CONSULTORES ASSOCIADOS   \n",
       "3          13098174000180  RUSSELL BEDFORD BRASIL AUDITORES INDEPENDENTES...   \n",
       "4          11385969000144  PRIORI SERVICOS E SOLUCOES , CONTABILIDADE EIRELI   \n",
       "...                   ...                                                ...   \n",
       "1288259    31546484000798  CONFEDERAL VIGILANCIA E TRANSPORTE DE VALORES ...   \n",
       "1288306    34572615000104            ANA LOURDES GONCALVES GOMES 62642545334   \n",
       "1288322    33219021000151  KOMAX COMERCIO E REPRESENTACAO DE EQUIPAMENTOS...   \n",
       "1288325    22413916000106  VERKAUF DO BRASIL COMERCIO DE PECAS ELETRONICA...   \n",
       "1288330    13895847000123  C DA SILVA GRANGEIRO - INDUSTRIA E COMERCIO DE...   \n",
       "\n",
       "        Flag Vencedor  \n",
       "0                 NÃO  \n",
       "1                 NÃO  \n",
       "2                 NÃO  \n",
       "3                 NÃO  \n",
       "4                 NÃO  \n",
       "...               ...  \n",
       "1288259           SIM  \n",
       "1288306           NÃO  \n",
       "1288322           SIM  \n",
       "1288325           SIM  \n",
       "1288330           NÃO  \n",
       "\n",
       "[240133 rows x 3 columns]>"
      ]
     },
     "execution_count": 10,
     "metadata": {},
     "output_type": "execute_result"
    }
   ],
   "source": [
    "# IMPORTAÇÃO DOS ARQUIVOS CSV DOS PARTICIPANTES DE LICITAÇÃO\n",
    "\n",
    "path = r'C:\\DATASETS\\Licitacoes\\1-Arquivos Baixados'\n",
    "all_files = glob.glob(path + \"/*.csv\")\n",
    "\n",
    "li = []\n",
    "\n",
    "for filename in all_files:\n",
    "    print(filename.rsplit('\\\\', 1)[1])\n",
    "    temp_df = pd.read_csv(filename, index_col=None, header=0, sep=';', encoding='latin-1', \n",
    "                          dtype=fields_dtype, usecols=fields)\n",
    "    temp_df = temp_df.drop_duplicates()\n",
    "    li.append(temp_df)\n",
    "        \n",
    "print('Concatenando resultados...')\n",
    "participantes_df = pd.concat(li, axis=0, ignore_index=True)\n",
    "\n",
    "print('Removendo duplicados...')\n",
    "participantes_df = participantes_df.drop_duplicates()\n",
    "\n",
    "participantes_df.describe"
   ]
  },
  {
   "cell_type": "code",
   "execution_count": 11,
   "metadata": {},
   "outputs": [],
   "source": [
    "# Removendo nulos:\n",
    "participantes_df = participantes_df.dropna(subset=[\"CNPJ Participante\", \"Nome Participante\"])"
   ]
  },
  {
   "cell_type": "code",
   "execution_count": 12,
   "metadata": {},
   "outputs": [
    {
     "data": {
      "text/plain": [
       "SIM    166184\n",
       "NÃO     73948\n",
       "Name: Flag Vencedor, dtype: int64"
      ]
     },
     "execution_count": 12,
     "metadata": {},
     "output_type": "execute_result"
    }
   ],
   "source": [
    "participantes_df[\"Flag Vencedor\"].value_counts()"
   ]
  },
  {
   "cell_type": "code",
   "execution_count": 13,
   "metadata": {},
   "outputs": [],
   "source": [
    "# Separa vencedores e não vencedores\n",
    "vencedores_df = participantes_df[participantes_df[\"Flag Vencedor\"]=='SIM']\n",
    "nao_vencedores_df = participantes_df[(participantes_df[\"Flag Vencedor\"]=='NÃO')&\n",
    "    (~participantes_df[\"CNPJ Participante\"].isin(vencedores_df[\"CNPJ Participante\"]))]"
   ]
  },
  {
   "cell_type": "code",
   "execution_count": 14,
   "metadata": {},
   "outputs": [
    {
     "data": {
      "text/html": [
       "<div>\n",
       "<style scoped>\n",
       "    .dataframe tbody tr th:only-of-type {\n",
       "        vertical-align: middle;\n",
       "    }\n",
       "\n",
       "    .dataframe tbody tr th {\n",
       "        vertical-align: top;\n",
       "    }\n",
       "\n",
       "    .dataframe thead th {\n",
       "        text-align: right;\n",
       "    }\n",
       "</style>\n",
       "<table border=\"1\" class=\"dataframe\">\n",
       "  <thead>\n",
       "    <tr style=\"text-align: right;\">\n",
       "      <th></th>\n",
       "      <th>CNPJ Participante</th>\n",
       "      <th>Nome Participante</th>\n",
       "      <th>Flag Vencedor</th>\n",
       "    </tr>\n",
       "  </thead>\n",
       "  <tbody>\n",
       "    <tr>\n",
       "      <td>8</td>\n",
       "      <td>11254307000135</td>\n",
       "      <td>AUDIMEC - AUDITORES INDEPENDENTES S/S</td>\n",
       "      <td>SIM</td>\n",
       "    </tr>\n",
       "    <tr>\n",
       "      <td>23</td>\n",
       "      <td>14947846000148</td>\n",
       "      <td>REDE LIMPA FACIL COMERCIO E SERVICOS DE LIMPEZ...</td>\n",
       "      <td>SIM</td>\n",
       "    </tr>\n",
       "    <tr>\n",
       "      <td>42</td>\n",
       "      <td>10986234000103</td>\n",
       "      <td>TOTAL DISTRIBUIDORA E ATACADISTA LTDA.</td>\n",
       "      <td>SIM</td>\n",
       "    </tr>\n",
       "    <tr>\n",
       "      <td>47</td>\n",
       "      <td>19943167000114</td>\n",
       "      <td>KIVER - COMERCIO DE SUPRIMENTOS PARA INFORMATI...</td>\n",
       "      <td>SIM</td>\n",
       "    </tr>\n",
       "    <tr>\n",
       "      <td>56</td>\n",
       "      <td>02602747000145</td>\n",
       "      <td>DIGISERVI TRADING EIRELI</td>\n",
       "      <td>SIM</td>\n",
       "    </tr>\n",
       "    <tr>\n",
       "      <td>...</td>\n",
       "      <td>...</td>\n",
       "      <td>...</td>\n",
       "      <td>...</td>\n",
       "    </tr>\n",
       "    <tr>\n",
       "      <td>1288030</td>\n",
       "      <td>20182918000106</td>\n",
       "      <td>APG COMERCIAL EIRELI</td>\n",
       "      <td>NÃO</td>\n",
       "    </tr>\n",
       "    <tr>\n",
       "      <td>1288112</td>\n",
       "      <td>01295548000179</td>\n",
       "      <td>RITTAL SISTEMAS ELETROMECANICOS LTDA.</td>\n",
       "      <td>NÃO</td>\n",
       "    </tr>\n",
       "    <tr>\n",
       "      <td>1288185</td>\n",
       "      <td>07792269000105</td>\n",
       "      <td>CONSTRUTORA LYTORANEA S.A.</td>\n",
       "      <td>NÃO</td>\n",
       "    </tr>\n",
       "    <tr>\n",
       "      <td>1288306</td>\n",
       "      <td>34572615000104</td>\n",
       "      <td>ANA LOURDES GONCALVES GOMES 62642545334</td>\n",
       "      <td>NÃO</td>\n",
       "    </tr>\n",
       "    <tr>\n",
       "      <td>1288330</td>\n",
       "      <td>13895847000123</td>\n",
       "      <td>C DA SILVA GRANGEIRO - INDUSTRIA E COMERCIO DE...</td>\n",
       "      <td>NÃO</td>\n",
       "    </tr>\n",
       "  </tbody>\n",
       "</table>\n",
       "<p>193306 rows × 3 columns</p>\n",
       "</div>"
      ],
      "text/plain": [
       "        CNPJ Participante                                  Nome Participante  \\\n",
       "8          11254307000135              AUDIMEC - AUDITORES INDEPENDENTES S/S   \n",
       "23         14947846000148  REDE LIMPA FACIL COMERCIO E SERVICOS DE LIMPEZ...   \n",
       "42         10986234000103             TOTAL DISTRIBUIDORA E ATACADISTA LTDA.   \n",
       "47         19943167000114  KIVER - COMERCIO DE SUPRIMENTOS PARA INFORMATI...   \n",
       "56         02602747000145                           DIGISERVI TRADING EIRELI   \n",
       "...                   ...                                                ...   \n",
       "1288030    20182918000106                               APG COMERCIAL EIRELI   \n",
       "1288112    01295548000179              RITTAL SISTEMAS ELETROMECANICOS LTDA.   \n",
       "1288185    07792269000105                         CONSTRUTORA LYTORANEA S.A.   \n",
       "1288306    34572615000104            ANA LOURDES GONCALVES GOMES 62642545334   \n",
       "1288330    13895847000123  C DA SILVA GRANGEIRO - INDUSTRIA E COMERCIO DE...   \n",
       "\n",
       "        Flag Vencedor  \n",
       "8                 SIM  \n",
       "23                SIM  \n",
       "42                SIM  \n",
       "47                SIM  \n",
       "56                SIM  \n",
       "...               ...  \n",
       "1288030           NÃO  \n",
       "1288112           NÃO  \n",
       "1288185           NÃO  \n",
       "1288306           NÃO  \n",
       "1288330           NÃO  \n",
       "\n",
       "[193306 rows x 3 columns]"
      ]
     },
     "execution_count": 14,
     "metadata": {},
     "output_type": "execute_result"
    }
   ],
   "source": [
    "# Junta tudo novamente (pois excluímos casos de um cnpj ser vencedor e não vencedor)\n",
    "participantes_df = vencedores_df.append(nao_vencedores_df)\n",
    "participantes_df"
   ]
  },
  {
   "cell_type": "code",
   "execution_count": 15,
   "metadata": {},
   "outputs": [
    {
     "data": {
      "text/plain": [
       "SIM    166184\n",
       "NÃO     27122\n",
       "Name: Flag Vencedor, dtype: int64"
      ]
     },
     "execution_count": 15,
     "metadata": {},
     "output_type": "execute_result"
    }
   ],
   "source": [
    "participantes_df[\"Flag Vencedor\"].value_counts()"
   ]
  },
  {
   "cell_type": "code",
   "execution_count": 16,
   "metadata": {},
   "outputs": [],
   "source": [
    "participantes_df[\"Flag Vencedor\"] = np.where(participantes_df[\"Flag Vencedor\"]=='SIM', 1, 0)"
   ]
  },
  {
   "cell_type": "code",
   "execution_count": 17,
   "metadata": {},
   "outputs": [],
   "source": [
    "participantes_df.rename(columns={\"CNPJ Participante\": \"cnpj\", \"Nome Participante\": \"nome_empresa\", \"Flag Vencedor\": \"empresa_venceu_licitacao\"}, inplace=True)"
   ]
  },
  {
   "cell_type": "code",
   "execution_count": 18,
   "metadata": {},
   "outputs": [],
   "source": [
    "participantes_df.to_csv(r'C:\\DATASETS\\Licitacoes\\empresas_participantes_licitacao.csv', index=False, encoding=\"ANSI\")"
   ]
  }
 ],
 "metadata": {
  "kernelspec": {
   "display_name": "Python 3",
   "language": "python",
   "name": "python3"
  },
  "language_info": {
   "codemirror_mode": {
    "name": "ipython",
    "version": 3
   },
   "file_extension": ".py",
   "mimetype": "text/x-python",
   "name": "python",
   "nbconvert_exporter": "python",
   "pygments_lexer": "ipython3",
   "version": "3.7.4"
  }
 },
 "nbformat": 4,
 "nbformat_minor": 2
}
