{
 "cells": [
  {
   "cell_type": "code",
   "execution_count": 1,
   "metadata": {},
   "outputs": [],
   "source": [
    "import pandas as pd\n",
    "import numpy as np\n",
    "import glob"
   ]
  },
  {
   "cell_type": "code",
   "execution_count": 2,
   "metadata": {},
   "outputs": [],
   "source": [
    "fields = [\"CPF BENEFICIÁRIO\", \"NOME BENEFICIÁRIO\", \"OBSERVAÇÃO\"]\n",
    "fields_dtype = {\"CPF BENEFICIÁRIO\": \"str\", \"NOME BENEFICIÁRIO\": \"str\", \"OBSERVAÇÃO\": \"category\"}"
   ]
  },
  {
   "cell_type": "markdown",
   "metadata": {},
   "source": [
    "### Importação da primeira metade dos arquivos CSV:"
   ]
  },
  {
   "cell_type": "code",
   "execution_count": 5,
   "metadata": {
    "scrolled": true
   },
   "outputs": [
    {
     "name": "stdout",
     "output_type": "stream",
     "text": [
      "202004_AuxilioEmergencial.csv\n",
      "202005_AuxilioEmergencial.csv\n",
      "202006_AuxilioEmergencial.csv\n",
      "202007_AuxilioEmergencial.csv\n",
      "202008_AuxilioEmergencial.csv\n",
      "Terminou loop\n"
     ]
    },
    {
     "data": {
      "text/plain": [
       "<bound method NDFrame.describe of           CPF BENEFICIÁRIO                NOME BENEFICIÁRIO  \\\n",
       "0           ***.674.311-**      ABEL DARIO GONZALEZ LEZCANO   \n",
       "1           ***.306.004-**  ABRAAO WENDEL DE ALMEIDA VELOZO   \n",
       "2           ***.333.979-**   ADAIANE GOMES DOS SANTOS WEBER   \n",
       "3           ***.188.768-**         ADAILTON OLIVEIRA MORAIS   \n",
       "4           ***.670.044-**    ADALBERTO DE OLIVEIRA BARBOSA   \n",
       "...                    ...                              ...   \n",
       "259102860   ***.391.681-**         SILVIA DOS SANTOS ARAUJO   \n",
       "259102988   ***.888.931-**        TIAGO FERREIRA DOS SANTOS   \n",
       "259103001   ***.994.701-**          UELTON FILHO DOS SANTOS   \n",
       "259103093   ***.446.161-**             VICTOR ALVES PEREIRA   \n",
       "259103168   ***.210.782-**       WENDELL BATISTA NASCIMENTO   \n",
       "\n",
       "                                 OBSERVAÇÃO  \n",
       "0          Pagamento bloqueado ou cancelado  \n",
       "1                                    Não há  \n",
       "2          Pagamento bloqueado ou cancelado  \n",
       "3          Pagamento bloqueado ou cancelado  \n",
       "4          Pagamento bloqueado ou cancelado  \n",
       "...                                     ...  \n",
       "259102860                            Não há  \n",
       "259102988                            Não há  \n",
       "259103001                            Não há  \n",
       "259103093                            Não há  \n",
       "259103168                            Não há  \n",
       "\n",
       "[67192056 rows x 3 columns]>"
      ]
     },
     "execution_count": 5,
     "metadata": {},
     "output_type": "execute_result"
    }
   ],
   "source": [
    "# IMPORTAÇÃO DOS ARQUIVOS CSV DO AUXILIO EMERGENCIAL\n",
    "\n",
    "path = r'C:\\DATASETS\\Auxilio Emergencial\\1-Originais\\metade 1'\n",
    "all_files = glob.glob(path + \"/*.csv\")\n",
    "\n",
    "li = []\n",
    "#auxilio_df = pd.DataFrame(columns=fields)\n",
    "\n",
    "for filename in all_files:\n",
    "    print(filename.rsplit('\\\\', 1)[1])\n",
    "    temp_df = pd.read_csv(filename, index_col=None, header=0, \n",
    "                sep=';', encoding='ANSI', dtype=fields_dtype,\n",
    "                usecols=fields)\n",
    "    temp_df = temp_df.drop_duplicates()\n",
    "    \n",
    "    li.append(temp_df)\n",
    "        \n",
    "print('Terminou loop')\n",
    "# Concatena o resultado no dataframe\n",
    "auxilio_df = pd.concat(li, axis=0, ignore_index=True)\n",
    "auxilio_df = auxilio_df.drop_duplicates()\n",
    "\n",
    "auxilio_df.describe"
   ]
  },
  {
   "cell_type": "code",
   "execution_count": 9,
   "metadata": {},
   "outputs": [],
   "source": [
    "auxilio_df = auxilio_df[auxilio_df['NOME BENEFICIÁRIO'].notna()]"
   ]
  },
  {
   "cell_type": "code",
   "execution_count": 10,
   "metadata": {},
   "outputs": [
    {
     "data": {
      "text/plain": [
       "<bound method NDFrame.describe of           CPF BENEFICIÁRIO                NOME BENEFICIÁRIO  \\\n",
       "0           ***.674.311-**      ABEL DARIO GONZALEZ LEZCANO   \n",
       "1           ***.306.004-**  ABRAAO WENDEL DE ALMEIDA VELOZO   \n",
       "2           ***.333.979-**   ADAIANE GOMES DOS SANTOS WEBER   \n",
       "3           ***.188.768-**         ADAILTON OLIVEIRA MORAIS   \n",
       "4           ***.670.044-**    ADALBERTO DE OLIVEIRA BARBOSA   \n",
       "...                    ...                              ...   \n",
       "259102860   ***.391.681-**         SILVIA DOS SANTOS ARAUJO   \n",
       "259102988   ***.888.931-**        TIAGO FERREIRA DOS SANTOS   \n",
       "259103001   ***.994.701-**          UELTON FILHO DOS SANTOS   \n",
       "259103093   ***.446.161-**             VICTOR ALVES PEREIRA   \n",
       "259103168   ***.210.782-**       WENDELL BATISTA NASCIMENTO   \n",
       "\n",
       "                                 OBSERVAÇÃO  \n",
       "0          Pagamento bloqueado ou cancelado  \n",
       "1                                    Não há  \n",
       "2          Pagamento bloqueado ou cancelado  \n",
       "3          Pagamento bloqueado ou cancelado  \n",
       "4          Pagamento bloqueado ou cancelado  \n",
       "...                                     ...  \n",
       "259102860                            Não há  \n",
       "259102988                            Não há  \n",
       "259103001                            Não há  \n",
       "259103093                            Não há  \n",
       "259103168                            Não há  \n",
       "\n",
       "[67192040 rows x 3 columns]>"
      ]
     },
     "execution_count": 10,
     "metadata": {},
     "output_type": "execute_result"
    }
   ],
   "source": [
    "auxilio_df.describe"
   ]
  },
  {
   "cell_type": "code",
   "execution_count": 12,
   "metadata": {},
   "outputs": [],
   "source": [
    "auxilio_df.to_csv(r'C:\\DATASETS\\Auxilio Emergencial\\auxilio_emergencial-metade1.csv', index=False, encoding=\"ANSI\")"
   ]
  },
  {
   "cell_type": "markdown",
   "metadata": {},
   "source": [
    "### Importação da segunda metade (2.1) dos arquivos CSV:"
   ]
  },
  {
   "cell_type": "code",
   "execution_count": 3,
   "metadata": {
    "scrolled": true
   },
   "outputs": [
    {
     "name": "stdout",
     "output_type": "stream",
     "text": [
      "202009_AuxilioEmergencial.csv\n",
      "  > Append...\n",
      "  > Duplicates...\n",
      "202010_AuxilioEmergencial.csv\n",
      "  > Append...\n",
      "  > Duplicates...\n"
     ]
    },
    {
     "data": {
      "text/plain": [
       "<bound method NDFrame.describe of           CPF BENEFICIÁRIO                 NOME BENEFICIÁRIO OBSERVAÇÃO\n",
       "0           ***.022.759-**                               NaN     Não há\n",
       "1           ***.219.873-**                               NaN     Não há\n",
       "2           ***.250.048-**                               NaN     Não há\n",
       "3           ***.025.018-**                 ABDELHAY ELHAKIMI     Não há\n",
       "4           ***.659.945-**  ABDERLAN DA SILVA DOURADO JUNIOR     Não há\n",
       "...                    ...                               ...        ...\n",
       "116865670   ***.141.221-**            MARCONES GALDINO GOMES     Não há\n",
       "116866013   ***.923.611-**        MARINA STEFANE DE SA GOMES     Não há\n",
       "116866064   ***.783.421-**              MATHEUS CAETANO PAES     Não há\n",
       "116866104   ***.460.682-**          MICHELE LOPES DOS SANTOS     Não há\n",
       "116866254   ***.338.771-**         PAULIANA PEREIRA DA SILVA     Não há\n",
       "\n",
       "[61639964 rows x 3 columns]>"
      ]
     },
     "execution_count": 3,
     "metadata": {},
     "output_type": "execute_result"
    }
   ],
   "source": [
    "# IMPORTAÇÃO DOS ARQUIVOS CSV DO AUXILIO EMERGENCIAL\n",
    "\n",
    "path = r'C:\\DATASETS\\Auxilio Emergencial\\1-Originais\\metade 2.1'\n",
    "all_files = glob.glob(path + \"/*.csv\")\n",
    "\n",
    "auxilio_df2  = pd.DataFrame(columns=fields)\n",
    "\n",
    "for filename in all_files:\n",
    "    print(filename.rsplit('\\\\', 1)[1])\n",
    "    temp_df = pd.read_csv(filename, index_col=None, header=0, sep=';', encoding='ANSI', dtype=fields_dtype, usecols=fields)\n",
    "    \n",
    "    print('  > Append...')\n",
    "    auxilio_df2 = auxilio_df2.append(temp_df, ignore_index=True)\n",
    "    print('  > Duplicates...')\n",
    "    auxilio_df2 = auxilio_df2.drop_duplicates()\n",
    "    \n",
    "auxilio_df2.describe"
   ]
  },
  {
   "cell_type": "code",
   "execution_count": 5,
   "metadata": {},
   "outputs": [],
   "source": [
    "auxilio_df2.to_csv(r'C:\\DATASETS\\Auxilio Emergencial\\auxilio_emergencial-metade2-1.csv', index=False, encoding=\"ANSI\")"
   ]
  },
  {
   "cell_type": "code",
   "execution_count": 6,
   "metadata": {},
   "outputs": [],
   "source": [
    "del auxilio_df2"
   ]
  },
  {
   "cell_type": "markdown",
   "metadata": {},
   "source": [
    "### Importação da segunda metade (2.2) dos arquivos CSV:"
   ]
  },
  {
   "cell_type": "code",
   "execution_count": 7,
   "metadata": {
    "scrolled": true
   },
   "outputs": [
    {
     "name": "stdout",
     "output_type": "stream",
     "text": [
      "202011_AuxilioEmergencial.csv\n",
      "  > Append...\n",
      "202012_AuxilioEmergencial.csv\n",
      "  > Append...\n",
      "  > Duplicates...\n",
      "202101_AuxilioEmergencial.csv\n",
      "  > Append...\n",
      "  > Duplicates...\n"
     ]
    },
    {
     "data": {
      "text/plain": [
       "<bound method NDFrame.describe of          CPF BENEFICIÁRIO                        NOME BENEFICIÁRIO  \\\n",
       "0          ***.643.870-**                                      NaN   \n",
       "1          ***.108.816-**                                      NaN   \n",
       "2          ***.095.215-**                                      NaN   \n",
       "3          ***.885.226-**                                      NaN   \n",
       "4          ***.817.249-**                                      NaN   \n",
       "...                   ...                                      ...   \n",
       "59043796   ***.026.071-**                       LEOMAR SILVA ROLIM   \n",
       "59043798   ***.036.001-**               MARIA EDUARDA DANTAS SILVA   \n",
       "59043799   ***.369.301-**  MARIA POLIANA ALVES ANGELICA DOS SANTOS   \n",
       "59043800   ***.844.441-**              MUNIK HEVELEN NUNES PEREIRA   \n",
       "59043801   ***.480.791-**           SAMARA MARSELHIE CARDOSO ALVES   \n",
       "\n",
       "                                OBSERVAÇÃO  \n",
       "0                                   Não há  \n",
       "1                                   Não há  \n",
       "2                                   Não há  \n",
       "3                                   Não há  \n",
       "4                                   Não há  \n",
       "...                                    ...  \n",
       "59043796  Pagamento bloqueado ou cancelado  \n",
       "59043798  Pagamento bloqueado ou cancelado  \n",
       "59043799  Pagamento bloqueado ou cancelado  \n",
       "59043800  Pagamento bloqueado ou cancelado  \n",
       "59043801  Pagamento bloqueado ou cancelado  \n",
       "\n",
       "[58709543 rows x 3 columns]>"
      ]
     },
     "execution_count": 7,
     "metadata": {},
     "output_type": "execute_result"
    }
   ],
   "source": [
    "# IMPORTAÇÃO DOS ARQUIVOS CSV DO AUXILIO EMERGENCIAL\n",
    "\n",
    "path = r'C:\\DATASETS\\Auxilio Emergencial\\1-Originais\\metade 2.2'\n",
    "all_files = glob.glob(path + \"/*.csv\")\n",
    "\n",
    "auxilio_df2  = pd.DataFrame(columns=fields)\n",
    "contador = 1\n",
    "for filename in all_files:\n",
    "    print(filename.rsplit('\\\\', 1)[1])\n",
    "    temp_df = pd.read_csv(filename, index_col=None, header=0, sep=';', encoding='ANSI', dtype=fields_dtype, usecols=fields)\n",
    "    \n",
    "    print('  > Append...')\n",
    "    auxilio_df2 = auxilio_df2.append(temp_df, ignore_index=True)\n",
    "    \n",
    "    # Do segundo arquivo em diante, remove duplicados:\n",
    "    if contador >= 2:\n",
    "        print('  > Duplicates...')\n",
    "        auxilio_df2 = auxilio_df2.drop_duplicates()\n",
    "    \n",
    "    contador += 1\n",
    "    \n",
    "auxilio_df2.describe"
   ]
  },
  {
   "cell_type": "code",
   "execution_count": 8,
   "metadata": {},
   "outputs": [],
   "source": [
    "auxilio_df2.to_csv(r'C:\\DATASETS\\Auxilio Emergencial\\auxilio_emergencial-metade2-2.csv', index=False, encoding=\"ANSI\")"
   ]
  },
  {
   "cell_type": "markdown",
   "metadata": {},
   "source": [
    "### Junção das partes 2.1 e 2.2:"
   ]
  },
  {
   "cell_type": "code",
   "execution_count": 12,
   "metadata": {},
   "outputs": [],
   "source": [
    "# Carrega a parte 2.1:\n",
    "auxilio_df = pd.read_csv(r'C:\\DATASETS\\Auxilio Emergencial\\auxilio_emergencial-metade2-1.csv', index_col=None, header=0, sep=',', encoding='latin-1', dtype=fields_dtype, usecols=fields)"
   ]
  },
  {
   "cell_type": "code",
   "execution_count": 15,
   "metadata": {},
   "outputs": [],
   "source": [
    "# Como já estamos com a parte 2.2 na memória, vamos juntá-las:\n",
    "auxilio_df = auxilio_df.append(auxilio_df2, ignore_index=True)"
   ]
  },
  {
   "cell_type": "code",
   "execution_count": 16,
   "metadata": {
    "scrolled": true
   },
   "outputs": [
    {
     "data": {
      "text/html": [
       "<div>\n",
       "<style scoped>\n",
       "    .dataframe tbody tr th:only-of-type {\n",
       "        vertical-align: middle;\n",
       "    }\n",
       "\n",
       "    .dataframe tbody tr th {\n",
       "        vertical-align: top;\n",
       "    }\n",
       "\n",
       "    .dataframe thead th {\n",
       "        text-align: right;\n",
       "    }\n",
       "</style>\n",
       "<table border=\"1\" class=\"dataframe\">\n",
       "  <thead>\n",
       "    <tr style=\"text-align: right;\">\n",
       "      <th></th>\n",
       "      <th>CPF BENEFICIÁRIO</th>\n",
       "      <th>NOME BENEFICIÁRIO</th>\n",
       "      <th>OBSERVAÇÃO</th>\n",
       "    </tr>\n",
       "  </thead>\n",
       "  <tbody>\n",
       "    <tr>\n",
       "      <td>0</td>\n",
       "      <td>***.022.759-**</td>\n",
       "      <td>NaN</td>\n",
       "      <td>Não há</td>\n",
       "    </tr>\n",
       "    <tr>\n",
       "      <td>1</td>\n",
       "      <td>***.219.873-**</td>\n",
       "      <td>NaN</td>\n",
       "      <td>Não há</td>\n",
       "    </tr>\n",
       "    <tr>\n",
       "      <td>2</td>\n",
       "      <td>***.250.048-**</td>\n",
       "      <td>NaN</td>\n",
       "      <td>Não há</td>\n",
       "    </tr>\n",
       "    <tr>\n",
       "      <td>3</td>\n",
       "      <td>***.025.018-**</td>\n",
       "      <td>ABDELHAY ELHAKIMI</td>\n",
       "      <td>Não há</td>\n",
       "    </tr>\n",
       "    <tr>\n",
       "      <td>4</td>\n",
       "      <td>***.659.945-**</td>\n",
       "      <td>ABDERLAN DA SILVA DOURADO JUNIOR</td>\n",
       "      <td>Não há</td>\n",
       "    </tr>\n",
       "    <tr>\n",
       "      <td>...</td>\n",
       "      <td>...</td>\n",
       "      <td>...</td>\n",
       "      <td>...</td>\n",
       "    </tr>\n",
       "    <tr>\n",
       "      <td>120349502</td>\n",
       "      <td>***.026.071-**</td>\n",
       "      <td>LEOMAR SILVA ROLIM</td>\n",
       "      <td>Pagamento bloqueado ou cancelado</td>\n",
       "    </tr>\n",
       "    <tr>\n",
       "      <td>120349503</td>\n",
       "      <td>***.036.001-**</td>\n",
       "      <td>MARIA EDUARDA DANTAS SILVA</td>\n",
       "      <td>Pagamento bloqueado ou cancelado</td>\n",
       "    </tr>\n",
       "    <tr>\n",
       "      <td>120349504</td>\n",
       "      <td>***.369.301-**</td>\n",
       "      <td>MARIA POLIANA ALVES ANGELICA DOS SANTOS</td>\n",
       "      <td>Pagamento bloqueado ou cancelado</td>\n",
       "    </tr>\n",
       "    <tr>\n",
       "      <td>120349505</td>\n",
       "      <td>***.844.441-**</td>\n",
       "      <td>MUNIK HEVELEN NUNES PEREIRA</td>\n",
       "      <td>Pagamento bloqueado ou cancelado</td>\n",
       "    </tr>\n",
       "    <tr>\n",
       "      <td>120349506</td>\n",
       "      <td>***.480.791-**</td>\n",
       "      <td>SAMARA MARSELHIE CARDOSO ALVES</td>\n",
       "      <td>Pagamento bloqueado ou cancelado</td>\n",
       "    </tr>\n",
       "  </tbody>\n",
       "</table>\n",
       "<p>120349507 rows × 3 columns</p>\n",
       "</div>"
      ],
      "text/plain": [
       "          CPF BENEFICIÁRIO                        NOME BENEFICIÁRIO  \\\n",
       "0           ***.022.759-**                                      NaN   \n",
       "1           ***.219.873-**                                      NaN   \n",
       "2           ***.250.048-**                                      NaN   \n",
       "3           ***.025.018-**                        ABDELHAY ELHAKIMI   \n",
       "4           ***.659.945-**         ABDERLAN DA SILVA DOURADO JUNIOR   \n",
       "...                    ...                                      ...   \n",
       "120349502   ***.026.071-**                       LEOMAR SILVA ROLIM   \n",
       "120349503   ***.036.001-**               MARIA EDUARDA DANTAS SILVA   \n",
       "120349504   ***.369.301-**  MARIA POLIANA ALVES ANGELICA DOS SANTOS   \n",
       "120349505   ***.844.441-**              MUNIK HEVELEN NUNES PEREIRA   \n",
       "120349506   ***.480.791-**           SAMARA MARSELHIE CARDOSO ALVES   \n",
       "\n",
       "                                 OBSERVAÇÃO  \n",
       "0                                    Não há  \n",
       "1                                    Não há  \n",
       "2                                    Não há  \n",
       "3                                    Não há  \n",
       "4                                    Não há  \n",
       "...                                     ...  \n",
       "120349502  Pagamento bloqueado ou cancelado  \n",
       "120349503  Pagamento bloqueado ou cancelado  \n",
       "120349504  Pagamento bloqueado ou cancelado  \n",
       "120349505  Pagamento bloqueado ou cancelado  \n",
       "120349506  Pagamento bloqueado ou cancelado  \n",
       "\n",
       "[120349507 rows x 3 columns]"
      ]
     },
     "execution_count": 16,
     "metadata": {},
     "output_type": "execute_result"
    }
   ],
   "source": [
    "auxilio_df"
   ]
  },
  {
   "cell_type": "code",
   "execution_count": 17,
   "metadata": {},
   "outputs": [],
   "source": [
    "# Remover duplicados:\n",
    "auxilio_df = auxilio_df.drop_duplicates()"
   ]
  },
  {
   "cell_type": "code",
   "execution_count": 18,
   "metadata": {},
   "outputs": [
    {
     "data": {
      "text/html": [
       "<div>\n",
       "<style scoped>\n",
       "    .dataframe tbody tr th:only-of-type {\n",
       "        vertical-align: middle;\n",
       "    }\n",
       "\n",
       "    .dataframe tbody tr th {\n",
       "        vertical-align: top;\n",
       "    }\n",
       "\n",
       "    .dataframe thead th {\n",
       "        text-align: right;\n",
       "    }\n",
       "</style>\n",
       "<table border=\"1\" class=\"dataframe\">\n",
       "  <thead>\n",
       "    <tr style=\"text-align: right;\">\n",
       "      <th></th>\n",
       "      <th>CPF BENEFICIÁRIO</th>\n",
       "      <th>NOME BENEFICIÁRIO</th>\n",
       "      <th>OBSERVAÇÃO</th>\n",
       "    </tr>\n",
       "  </thead>\n",
       "  <tbody>\n",
       "    <tr>\n",
       "      <td>0</td>\n",
       "      <td>***.022.759-**</td>\n",
       "      <td>NaN</td>\n",
       "      <td>Não há</td>\n",
       "    </tr>\n",
       "    <tr>\n",
       "      <td>1</td>\n",
       "      <td>***.219.873-**</td>\n",
       "      <td>NaN</td>\n",
       "      <td>Não há</td>\n",
       "    </tr>\n",
       "    <tr>\n",
       "      <td>2</td>\n",
       "      <td>***.250.048-**</td>\n",
       "      <td>NaN</td>\n",
       "      <td>Não há</td>\n",
       "    </tr>\n",
       "    <tr>\n",
       "      <td>3</td>\n",
       "      <td>***.025.018-**</td>\n",
       "      <td>ABDELHAY ELHAKIMI</td>\n",
       "      <td>Não há</td>\n",
       "    </tr>\n",
       "    <tr>\n",
       "      <td>4</td>\n",
       "      <td>***.659.945-**</td>\n",
       "      <td>ABDERLAN DA SILVA DOURADO JUNIOR</td>\n",
       "      <td>Não há</td>\n",
       "    </tr>\n",
       "    <tr>\n",
       "      <td>...</td>\n",
       "      <td>...</td>\n",
       "      <td>...</td>\n",
       "      <td>...</td>\n",
       "    </tr>\n",
       "    <tr>\n",
       "      <td>120349502</td>\n",
       "      <td>***.026.071-**</td>\n",
       "      <td>LEOMAR SILVA ROLIM</td>\n",
       "      <td>Pagamento bloqueado ou cancelado</td>\n",
       "    </tr>\n",
       "    <tr>\n",
       "      <td>120349503</td>\n",
       "      <td>***.036.001-**</td>\n",
       "      <td>MARIA EDUARDA DANTAS SILVA</td>\n",
       "      <td>Pagamento bloqueado ou cancelado</td>\n",
       "    </tr>\n",
       "    <tr>\n",
       "      <td>120349504</td>\n",
       "      <td>***.369.301-**</td>\n",
       "      <td>MARIA POLIANA ALVES ANGELICA DOS SANTOS</td>\n",
       "      <td>Pagamento bloqueado ou cancelado</td>\n",
       "    </tr>\n",
       "    <tr>\n",
       "      <td>120349505</td>\n",
       "      <td>***.844.441-**</td>\n",
       "      <td>MUNIK HEVELEN NUNES PEREIRA</td>\n",
       "      <td>Pagamento bloqueado ou cancelado</td>\n",
       "    </tr>\n",
       "    <tr>\n",
       "      <td>120349506</td>\n",
       "      <td>***.480.791-**</td>\n",
       "      <td>SAMARA MARSELHIE CARDOSO ALVES</td>\n",
       "      <td>Pagamento bloqueado ou cancelado</td>\n",
       "    </tr>\n",
       "  </tbody>\n",
       "</table>\n",
       "<p>62253434 rows × 3 columns</p>\n",
       "</div>"
      ],
      "text/plain": [
       "          CPF BENEFICIÁRIO                        NOME BENEFICIÁRIO  \\\n",
       "0           ***.022.759-**                                      NaN   \n",
       "1           ***.219.873-**                                      NaN   \n",
       "2           ***.250.048-**                                      NaN   \n",
       "3           ***.025.018-**                        ABDELHAY ELHAKIMI   \n",
       "4           ***.659.945-**         ABDERLAN DA SILVA DOURADO JUNIOR   \n",
       "...                    ...                                      ...   \n",
       "120349502   ***.026.071-**                       LEOMAR SILVA ROLIM   \n",
       "120349503   ***.036.001-**               MARIA EDUARDA DANTAS SILVA   \n",
       "120349504   ***.369.301-**  MARIA POLIANA ALVES ANGELICA DOS SANTOS   \n",
       "120349505   ***.844.441-**              MUNIK HEVELEN NUNES PEREIRA   \n",
       "120349506   ***.480.791-**           SAMARA MARSELHIE CARDOSO ALVES   \n",
       "\n",
       "                                 OBSERVAÇÃO  \n",
       "0                                    Não há  \n",
       "1                                    Não há  \n",
       "2                                    Não há  \n",
       "3                                    Não há  \n",
       "4                                    Não há  \n",
       "...                                     ...  \n",
       "120349502  Pagamento bloqueado ou cancelado  \n",
       "120349503  Pagamento bloqueado ou cancelado  \n",
       "120349504  Pagamento bloqueado ou cancelado  \n",
       "120349505  Pagamento bloqueado ou cancelado  \n",
       "120349506  Pagamento bloqueado ou cancelado  \n",
       "\n",
       "[62253434 rows x 3 columns]"
      ]
     },
     "execution_count": 18,
     "metadata": {},
     "output_type": "execute_result"
    }
   ],
   "source": [
    "auxilio_df"
   ]
  },
  {
   "cell_type": "code",
   "execution_count": 19,
   "metadata": {},
   "outputs": [],
   "source": [
    "# Liberar memória:\n",
    "del auxilio_df2"
   ]
  },
  {
   "cell_type": "code",
   "execution_count": 20,
   "metadata": {},
   "outputs": [],
   "source": [
    "auxilio_df.to_csv(r'C:\\DATASETS\\Auxilio Emergencial\\auxilio_emergencial-metade2-consolidado.csv', index=False, encoding=\"ANSI\")"
   ]
  },
  {
   "cell_type": "code",
   "execution_count": 21,
   "metadata": {},
   "outputs": [],
   "source": [
    "# Removendo nulos:\n",
    "auxilio_df = auxilio_df.dropna(subset=['CPF BENEFICIÁRIO', 'NOME BENEFICIÁRIO'])"
   ]
  },
  {
   "cell_type": "code",
   "execution_count": 22,
   "metadata": {},
   "outputs": [
    {
     "data": {
      "text/html": [
       "<div>\n",
       "<style scoped>\n",
       "    .dataframe tbody tr th:only-of-type {\n",
       "        vertical-align: middle;\n",
       "    }\n",
       "\n",
       "    .dataframe tbody tr th {\n",
       "        vertical-align: top;\n",
       "    }\n",
       "\n",
       "    .dataframe thead th {\n",
       "        text-align: right;\n",
       "    }\n",
       "</style>\n",
       "<table border=\"1\" class=\"dataframe\">\n",
       "  <thead>\n",
       "    <tr style=\"text-align: right;\">\n",
       "      <th></th>\n",
       "      <th>CPF BENEFICIÁRIO</th>\n",
       "      <th>NOME BENEFICIÁRIO</th>\n",
       "      <th>OBSERVAÇÃO</th>\n",
       "    </tr>\n",
       "  </thead>\n",
       "  <tbody>\n",
       "    <tr>\n",
       "      <td>3</td>\n",
       "      <td>***.025.018-**</td>\n",
       "      <td>ABDELHAY ELHAKIMI</td>\n",
       "      <td>Não há</td>\n",
       "    </tr>\n",
       "    <tr>\n",
       "      <td>4</td>\n",
       "      <td>***.659.945-**</td>\n",
       "      <td>ABDERLAN DA SILVA DOURADO JUNIOR</td>\n",
       "      <td>Não há</td>\n",
       "    </tr>\n",
       "    <tr>\n",
       "      <td>5</td>\n",
       "      <td>***.565.608-**</td>\n",
       "      <td>ABEL CARLOS FELISMINO DA SILVA BRAVO</td>\n",
       "      <td>Não há</td>\n",
       "    </tr>\n",
       "    <tr>\n",
       "      <td>6</td>\n",
       "      <td>***.473.335-**</td>\n",
       "      <td>ABEL DE OLIVEIRA SANTOS</td>\n",
       "      <td>Não há</td>\n",
       "    </tr>\n",
       "    <tr>\n",
       "      <td>7</td>\n",
       "      <td>***.919.188-**</td>\n",
       "      <td>ABIGAIL PAULA PRUDENTE DE CARVALHO</td>\n",
       "      <td>Não há</td>\n",
       "    </tr>\n",
       "    <tr>\n",
       "      <td>...</td>\n",
       "      <td>...</td>\n",
       "      <td>...</td>\n",
       "      <td>...</td>\n",
       "    </tr>\n",
       "    <tr>\n",
       "      <td>120349502</td>\n",
       "      <td>***.026.071-**</td>\n",
       "      <td>LEOMAR SILVA ROLIM</td>\n",
       "      <td>Pagamento bloqueado ou cancelado</td>\n",
       "    </tr>\n",
       "    <tr>\n",
       "      <td>120349503</td>\n",
       "      <td>***.036.001-**</td>\n",
       "      <td>MARIA EDUARDA DANTAS SILVA</td>\n",
       "      <td>Pagamento bloqueado ou cancelado</td>\n",
       "    </tr>\n",
       "    <tr>\n",
       "      <td>120349504</td>\n",
       "      <td>***.369.301-**</td>\n",
       "      <td>MARIA POLIANA ALVES ANGELICA DOS SANTOS</td>\n",
       "      <td>Pagamento bloqueado ou cancelado</td>\n",
       "    </tr>\n",
       "    <tr>\n",
       "      <td>120349505</td>\n",
       "      <td>***.844.441-**</td>\n",
       "      <td>MUNIK HEVELEN NUNES PEREIRA</td>\n",
       "      <td>Pagamento bloqueado ou cancelado</td>\n",
       "    </tr>\n",
       "    <tr>\n",
       "      <td>120349506</td>\n",
       "      <td>***.480.791-**</td>\n",
       "      <td>SAMARA MARSELHIE CARDOSO ALVES</td>\n",
       "      <td>Pagamento bloqueado ou cancelado</td>\n",
       "    </tr>\n",
       "  </tbody>\n",
       "</table>\n",
       "<p>62253150 rows × 3 columns</p>\n",
       "</div>"
      ],
      "text/plain": [
       "          CPF BENEFICIÁRIO                        NOME BENEFICIÁRIO  \\\n",
       "3           ***.025.018-**                        ABDELHAY ELHAKIMI   \n",
       "4           ***.659.945-**         ABDERLAN DA SILVA DOURADO JUNIOR   \n",
       "5           ***.565.608-**     ABEL CARLOS FELISMINO DA SILVA BRAVO   \n",
       "6           ***.473.335-**                  ABEL DE OLIVEIRA SANTOS   \n",
       "7           ***.919.188-**       ABIGAIL PAULA PRUDENTE DE CARVALHO   \n",
       "...                    ...                                      ...   \n",
       "120349502   ***.026.071-**                       LEOMAR SILVA ROLIM   \n",
       "120349503   ***.036.001-**               MARIA EDUARDA DANTAS SILVA   \n",
       "120349504   ***.369.301-**  MARIA POLIANA ALVES ANGELICA DOS SANTOS   \n",
       "120349505   ***.844.441-**              MUNIK HEVELEN NUNES PEREIRA   \n",
       "120349506   ***.480.791-**           SAMARA MARSELHIE CARDOSO ALVES   \n",
       "\n",
       "                                 OBSERVAÇÃO  \n",
       "3                                    Não há  \n",
       "4                                    Não há  \n",
       "5                                    Não há  \n",
       "6                                    Não há  \n",
       "7                                    Não há  \n",
       "...                                     ...  \n",
       "120349502  Pagamento bloqueado ou cancelado  \n",
       "120349503  Pagamento bloqueado ou cancelado  \n",
       "120349504  Pagamento bloqueado ou cancelado  \n",
       "120349505  Pagamento bloqueado ou cancelado  \n",
       "120349506  Pagamento bloqueado ou cancelado  \n",
       "\n",
       "[62253150 rows x 3 columns]"
      ]
     },
     "execution_count": 22,
     "metadata": {},
     "output_type": "execute_result"
    }
   ],
   "source": [
    "auxilio_df"
   ]
  },
  {
   "cell_type": "code",
   "execution_count": 24,
   "metadata": {},
   "outputs": [
    {
     "data": {
      "text/plain": [
       "['In',\n",
       " 'Out',\n",
       " '_',\n",
       " '_13',\n",
       " '_14',\n",
       " '_16',\n",
       " '_18',\n",
       " '_22',\n",
       " '_23',\n",
       " '_3',\n",
       " '_7',\n",
       " '__',\n",
       " '___',\n",
       " '__builtin__',\n",
       " '__builtins__',\n",
       " '__doc__',\n",
       " '__loader__',\n",
       " '__name__',\n",
       " '__package__',\n",
       " '__spec__',\n",
       " '_dh',\n",
       " '_i',\n",
       " '_i1',\n",
       " '_i10',\n",
       " '_i11',\n",
       " '_i12',\n",
       " '_i13',\n",
       " '_i14',\n",
       " '_i15',\n",
       " '_i16',\n",
       " '_i17',\n",
       " '_i18',\n",
       " '_i19',\n",
       " '_i2',\n",
       " '_i20',\n",
       " '_i21',\n",
       " '_i22',\n",
       " '_i23',\n",
       " '_i24',\n",
       " '_i3',\n",
       " '_i4',\n",
       " '_i5',\n",
       " '_i6',\n",
       " '_i7',\n",
       " '_i8',\n",
       " '_i9',\n",
       " '_ih',\n",
       " '_ii',\n",
       " '_iii',\n",
       " '_oh',\n",
       " 'all_files',\n",
       " 'auxilio_df',\n",
       " 'contador',\n",
       " 'exit',\n",
       " 'fields',\n",
       " 'fields_dtype',\n",
       " 'filename',\n",
       " 'get_ipython',\n",
       " 'glob',\n",
       " 'np',\n",
       " 'path',\n",
       " 'pd',\n",
       " 'quit',\n",
       " 'temp_df']"
      ]
     },
     "execution_count": 24,
     "metadata": {},
     "output_type": "execute_result"
    }
   ],
   "source": [
    "dir()"
   ]
  },
  {
   "cell_type": "code",
   "execution_count": 25,
   "metadata": {},
   "outputs": [],
   "source": [
    "# Liberar memória:\n",
    "del temp_df"
   ]
  },
  {
   "cell_type": "code",
   "execution_count": 26,
   "metadata": {},
   "outputs": [
    {
     "data": {
      "text/plain": [
       "[('auxilio_df', 14580003656),\n",
       " ('fields_dtype', 240),\n",
       " ('filename', 133),\n",
       " ('all_files', 112),\n",
       " ('path', 103),\n",
       " ('fields', 88),\n",
       " ('np', 80),\n",
       " ('pd', 80),\n",
       " ('contador', 28)]"
      ]
     },
     "execution_count": 26,
     "metadata": {},
     "output_type": "execute_result"
    }
   ],
   "source": [
    "import sys\n",
    "\n",
    "# These are the usual ipython objects, including this one you are creating\n",
    "ipython_vars = ['In', 'Out', 'exit', 'quit', 'get_ipython', 'ipython_vars']\n",
    "\n",
    "# Get a sorted list of the objects and their sizes\n",
    "sorted([(x, sys.getsizeof(globals().get(x))) for x in dir() if not x.startswith('_') and x not in sys.modules and x not in ipython_vars], key=lambda x: x[1], reverse=True)"
   ]
  },
  {
   "cell_type": "markdown",
   "metadata": {},
   "source": [
    "### Junção das partes 1 e 2:"
   ]
  },
  {
   "cell_type": "code",
   "execution_count": 27,
   "metadata": {},
   "outputs": [],
   "source": [
    "auxilio_parte_1_df = pd.read_csv(r'C:\\DATASETS\\Auxilio Emergencial\\auxilio_emergencial-metade1.csv', index_col=None, header=0, sep=',', encoding='latin-1', dtype=fields_dtype, usecols=fields)"
   ]
  },
  {
   "cell_type": "code",
   "execution_count": 28,
   "metadata": {},
   "outputs": [
    {
     "data": {
      "text/html": [
       "<div>\n",
       "<style scoped>\n",
       "    .dataframe tbody tr th:only-of-type {\n",
       "        vertical-align: middle;\n",
       "    }\n",
       "\n",
       "    .dataframe tbody tr th {\n",
       "        vertical-align: top;\n",
       "    }\n",
       "\n",
       "    .dataframe thead th {\n",
       "        text-align: right;\n",
       "    }\n",
       "</style>\n",
       "<table border=\"1\" class=\"dataframe\">\n",
       "  <thead>\n",
       "    <tr style=\"text-align: right;\">\n",
       "      <th></th>\n",
       "      <th>CPF BENEFICIÁRIO</th>\n",
       "      <th>NOME BENEFICIÁRIO</th>\n",
       "      <th>OBSERVAÇÃO</th>\n",
       "    </tr>\n",
       "  </thead>\n",
       "  <tbody>\n",
       "    <tr>\n",
       "      <td>0</td>\n",
       "      <td>***.674.311-**</td>\n",
       "      <td>ABEL DARIO GONZALEZ LEZCANO</td>\n",
       "      <td>Pagamento bloqueado ou cancelado</td>\n",
       "    </tr>\n",
       "    <tr>\n",
       "      <td>1</td>\n",
       "      <td>***.306.004-**</td>\n",
       "      <td>ABRAAO WENDEL DE ALMEIDA VELOZO</td>\n",
       "      <td>Não há</td>\n",
       "    </tr>\n",
       "    <tr>\n",
       "      <td>2</td>\n",
       "      <td>***.333.979-**</td>\n",
       "      <td>ADAIANE GOMES DOS SANTOS WEBER</td>\n",
       "      <td>Pagamento bloqueado ou cancelado</td>\n",
       "    </tr>\n",
       "    <tr>\n",
       "      <td>3</td>\n",
       "      <td>***.188.768-**</td>\n",
       "      <td>ADAILTON OLIVEIRA MORAIS</td>\n",
       "      <td>Pagamento bloqueado ou cancelado</td>\n",
       "    </tr>\n",
       "    <tr>\n",
       "      <td>4</td>\n",
       "      <td>***.670.044-**</td>\n",
       "      <td>ADALBERTO DE OLIVEIRA BARBOSA</td>\n",
       "      <td>Pagamento bloqueado ou cancelado</td>\n",
       "    </tr>\n",
       "    <tr>\n",
       "      <td>...</td>\n",
       "      <td>...</td>\n",
       "      <td>...</td>\n",
       "      <td>...</td>\n",
       "    </tr>\n",
       "    <tr>\n",
       "      <td>67192035</td>\n",
       "      <td>***.391.681-**</td>\n",
       "      <td>SILVIA DOS SANTOS ARAUJO</td>\n",
       "      <td>Não há</td>\n",
       "    </tr>\n",
       "    <tr>\n",
       "      <td>67192036</td>\n",
       "      <td>***.888.931-**</td>\n",
       "      <td>TIAGO FERREIRA DOS SANTOS</td>\n",
       "      <td>Não há</td>\n",
       "    </tr>\n",
       "    <tr>\n",
       "      <td>67192037</td>\n",
       "      <td>***.994.701-**</td>\n",
       "      <td>UELTON FILHO DOS SANTOS</td>\n",
       "      <td>Não há</td>\n",
       "    </tr>\n",
       "    <tr>\n",
       "      <td>67192038</td>\n",
       "      <td>***.446.161-**</td>\n",
       "      <td>VICTOR ALVES PEREIRA</td>\n",
       "      <td>Não há</td>\n",
       "    </tr>\n",
       "    <tr>\n",
       "      <td>67192039</td>\n",
       "      <td>***.210.782-**</td>\n",
       "      <td>WENDELL BATISTA NASCIMENTO</td>\n",
       "      <td>Não há</td>\n",
       "    </tr>\n",
       "  </tbody>\n",
       "</table>\n",
       "<p>67192040 rows × 3 columns</p>\n",
       "</div>"
      ],
      "text/plain": [
       "         CPF BENEFICIÁRIO                NOME BENEFICIÁRIO  \\\n",
       "0          ***.674.311-**      ABEL DARIO GONZALEZ LEZCANO   \n",
       "1          ***.306.004-**  ABRAAO WENDEL DE ALMEIDA VELOZO   \n",
       "2          ***.333.979-**   ADAIANE GOMES DOS SANTOS WEBER   \n",
       "3          ***.188.768-**         ADAILTON OLIVEIRA MORAIS   \n",
       "4          ***.670.044-**    ADALBERTO DE OLIVEIRA BARBOSA   \n",
       "...                   ...                              ...   \n",
       "67192035   ***.391.681-**         SILVIA DOS SANTOS ARAUJO   \n",
       "67192036   ***.888.931-**        TIAGO FERREIRA DOS SANTOS   \n",
       "67192037   ***.994.701-**          UELTON FILHO DOS SANTOS   \n",
       "67192038   ***.446.161-**             VICTOR ALVES PEREIRA   \n",
       "67192039   ***.210.782-**       WENDELL BATISTA NASCIMENTO   \n",
       "\n",
       "                                OBSERVAÇÃO  \n",
       "0         Pagamento bloqueado ou cancelado  \n",
       "1                                   Não há  \n",
       "2         Pagamento bloqueado ou cancelado  \n",
       "3         Pagamento bloqueado ou cancelado  \n",
       "4         Pagamento bloqueado ou cancelado  \n",
       "...                                    ...  \n",
       "67192035                            Não há  \n",
       "67192036                            Não há  \n",
       "67192037                            Não há  \n",
       "67192038                            Não há  \n",
       "67192039                            Não há  \n",
       "\n",
       "[67192040 rows x 3 columns]"
      ]
     },
     "execution_count": 28,
     "metadata": {},
     "output_type": "execute_result"
    }
   ],
   "source": [
    "auxilio_parte_1_df"
   ]
  },
  {
   "cell_type": "code",
   "execution_count": 29,
   "metadata": {},
   "outputs": [],
   "source": [
    "# Como já estamos com a parte 2 consolidada na memória, vamos juntá-las:\n",
    "auxilio_df = auxilio_df.append(auxilio_parte_1_df, ignore_index=True)"
   ]
  },
  {
   "cell_type": "code",
   "execution_count": 30,
   "metadata": {},
   "outputs": [],
   "source": [
    "# Remover duplicados:\n",
    "auxilio_df = auxilio_df.drop_duplicates()"
   ]
  },
  {
   "cell_type": "code",
   "execution_count": 31,
   "metadata": {},
   "outputs": [],
   "source": [
    "auxilio_df.to_csv(r'C:\\DATASETS\\Auxilio Emergencial\\auxilio_emergencial.csv', index=False, encoding=\"ANSI\")"
   ]
  },
  {
   "cell_type": "code",
   "execution_count": 32,
   "metadata": {},
   "outputs": [],
   "source": [
    "# Liberar memória:\n",
    "del auxilio_parte_1_df"
   ]
  },
  {
   "cell_type": "code",
   "execution_count": 33,
   "metadata": {},
   "outputs": [],
   "source": [
    "# Removendo nulos:\n",
    "auxilio_df = auxilio_df.dropna(subset=['CPF BENEFICIÁRIO', 'NOME BENEFICIÁRIO'])"
   ]
  },
  {
   "cell_type": "code",
   "execution_count": 34,
   "metadata": {},
   "outputs": [
    {
     "data": {
      "text/html": [
       "<div>\n",
       "<style scoped>\n",
       "    .dataframe tbody tr th:only-of-type {\n",
       "        vertical-align: middle;\n",
       "    }\n",
       "\n",
       "    .dataframe tbody tr th {\n",
       "        vertical-align: top;\n",
       "    }\n",
       "\n",
       "    .dataframe thead th {\n",
       "        text-align: right;\n",
       "    }\n",
       "</style>\n",
       "<table border=\"1\" class=\"dataframe\">\n",
       "  <thead>\n",
       "    <tr style=\"text-align: right;\">\n",
       "      <th></th>\n",
       "      <th>CPF BENEFICIÁRIO</th>\n",
       "      <th>NOME BENEFICIÁRIO</th>\n",
       "      <th>OBSERVAÇÃO</th>\n",
       "    </tr>\n",
       "  </thead>\n",
       "  <tbody>\n",
       "    <tr>\n",
       "      <td>0</td>\n",
       "      <td>***.025.018-**</td>\n",
       "      <td>ABDELHAY ELHAKIMI</td>\n",
       "      <td>Não há</td>\n",
       "    </tr>\n",
       "    <tr>\n",
       "      <td>1</td>\n",
       "      <td>***.659.945-**</td>\n",
       "      <td>ABDERLAN DA SILVA DOURADO JUNIOR</td>\n",
       "      <td>Não há</td>\n",
       "    </tr>\n",
       "    <tr>\n",
       "      <td>2</td>\n",
       "      <td>***.565.608-**</td>\n",
       "      <td>ABEL CARLOS FELISMINO DA SILVA BRAVO</td>\n",
       "      <td>Não há</td>\n",
       "    </tr>\n",
       "    <tr>\n",
       "      <td>3</td>\n",
       "      <td>***.473.335-**</td>\n",
       "      <td>ABEL DE OLIVEIRA SANTOS</td>\n",
       "      <td>Não há</td>\n",
       "    </tr>\n",
       "    <tr>\n",
       "      <td>4</td>\n",
       "      <td>***.919.188-**</td>\n",
       "      <td>ABIGAIL PAULA PRUDENTE DE CARVALHO</td>\n",
       "      <td>Não há</td>\n",
       "    </tr>\n",
       "    <tr>\n",
       "      <td>...</td>\n",
       "      <td>...</td>\n",
       "      <td>...</td>\n",
       "      <td>...</td>\n",
       "    </tr>\n",
       "    <tr>\n",
       "      <td>129445079</td>\n",
       "      <td>***.355.791-**</td>\n",
       "      <td>MARCILEIA RODRIGUES DE CARVALHO</td>\n",
       "      <td>Pagamento bloqueado ou cancelado</td>\n",
       "    </tr>\n",
       "    <tr>\n",
       "      <td>129445080</td>\n",
       "      <td>***.378.771-**</td>\n",
       "      <td>MARIA DORACY CONCEICAO PEREIRA</td>\n",
       "      <td>Pagamento bloqueado ou cancelado</td>\n",
       "    </tr>\n",
       "    <tr>\n",
       "      <td>129445087</td>\n",
       "      <td>***.111.991-**</td>\n",
       "      <td>RAIMUNDA FERREIRA BARROSO DA CONCEICAO</td>\n",
       "      <td>Pagamento bloqueado ou cancelado</td>\n",
       "    </tr>\n",
       "    <tr>\n",
       "      <td>129445091</td>\n",
       "      <td>***.949.021-**</td>\n",
       "      <td>ROSIMARIA DIAS DE ARAUJO PEREIRA</td>\n",
       "      <td>Pagamento bloqueado ou cancelado</td>\n",
       "    </tr>\n",
       "    <tr>\n",
       "      <td>129445181</td>\n",
       "      <td>***.780.321-**</td>\n",
       "      <td>ROBERTO LUCAS PEREIRA DA SILVA</td>\n",
       "      <td>Não há</td>\n",
       "    </tr>\n",
       "  </tbody>\n",
       "</table>\n",
       "<p>68278463 rows × 3 columns</p>\n",
       "</div>"
      ],
      "text/plain": [
       "          CPF BENEFICIÁRIO                       NOME BENEFICIÁRIO  \\\n",
       "0           ***.025.018-**                       ABDELHAY ELHAKIMI   \n",
       "1           ***.659.945-**        ABDERLAN DA SILVA DOURADO JUNIOR   \n",
       "2           ***.565.608-**    ABEL CARLOS FELISMINO DA SILVA BRAVO   \n",
       "3           ***.473.335-**                 ABEL DE OLIVEIRA SANTOS   \n",
       "4           ***.919.188-**      ABIGAIL PAULA PRUDENTE DE CARVALHO   \n",
       "...                    ...                                     ...   \n",
       "129445079   ***.355.791-**         MARCILEIA RODRIGUES DE CARVALHO   \n",
       "129445080   ***.378.771-**          MARIA DORACY CONCEICAO PEREIRA   \n",
       "129445087   ***.111.991-**  RAIMUNDA FERREIRA BARROSO DA CONCEICAO   \n",
       "129445091   ***.949.021-**        ROSIMARIA DIAS DE ARAUJO PEREIRA   \n",
       "129445181   ***.780.321-**          ROBERTO LUCAS PEREIRA DA SILVA   \n",
       "\n",
       "                                 OBSERVAÇÃO  \n",
       "0                                    Não há  \n",
       "1                                    Não há  \n",
       "2                                    Não há  \n",
       "3                                    Não há  \n",
       "4                                    Não há  \n",
       "...                                     ...  \n",
       "129445079  Pagamento bloqueado ou cancelado  \n",
       "129445080  Pagamento bloqueado ou cancelado  \n",
       "129445087  Pagamento bloqueado ou cancelado  \n",
       "129445091  Pagamento bloqueado ou cancelado  \n",
       "129445181                            Não há  \n",
       "\n",
       "[68278463 rows x 3 columns]"
      ]
     },
     "execution_count": 34,
     "metadata": {},
     "output_type": "execute_result"
    }
   ],
   "source": [
    "auxilio_df"
   ]
  },
  {
   "cell_type": "code",
   "execution_count": 35,
   "metadata": {},
   "outputs": [
    {
     "data": {
      "text/plain": [
       "11    68278463\n",
       "Name: CPF BENEFICIÁRIO, dtype: int64"
      ]
     },
     "execution_count": 35,
     "metadata": {},
     "output_type": "execute_result"
    }
   ],
   "source": [
    "# Limpa os CPFs:\n",
    "auxilio_df['CPF BENEFICIÁRIO'] = auxilio_df['CPF BENEFICIÁRIO'].str.replace('[\\.\\-]', '', regex=True)\n",
    "auxilio_df['CPF BENEFICIÁRIO'].str.len().value_counts()"
   ]
  },
  {
   "cell_type": "code",
   "execution_count": 36,
   "metadata": {},
   "outputs": [
    {
     "data": {
      "text/plain": [
       "Não há                              45069072\n",
       "Pagamento bloqueado ou cancelado     3552279\n",
       "Valor devolvido à União.              206670\n",
       "Name: OBSERVAÇÃO, dtype: int64"
      ]
     },
     "execution_count": 36,
     "metadata": {},
     "output_type": "execute_result"
    }
   ],
   "source": [
    "auxilio_df['OBSERVAÇÃO'].value_counts()"
   ]
  },
  {
   "cell_type": "code",
   "execution_count": 37,
   "metadata": {
    "scrolled": true
   },
   "outputs": [
    {
     "data": {
      "text/plain": [
       "False    64726184\n",
       "True      3552279\n",
       "Name: auxilio_emergencial_bloqueado, dtype: int64"
      ]
     },
     "execution_count": 37,
     "metadata": {},
     "output_type": "execute_result"
    }
   ],
   "source": [
    "auxilio_df['auxilio_emergencial_bloqueado'] = np.where(\n",
    "    auxilio_df['OBSERVAÇÃO']=='Pagamento bloqueado ou cancelado', True, False)\n",
    "auxilio_df['auxilio_emergencial_bloqueado'].value_counts()"
   ]
  },
  {
   "cell_type": "code",
   "execution_count": 38,
   "metadata": {},
   "outputs": [
    {
     "data": {
      "text/html": [
       "<div>\n",
       "<style scoped>\n",
       "    .dataframe tbody tr th:only-of-type {\n",
       "        vertical-align: middle;\n",
       "    }\n",
       "\n",
       "    .dataframe tbody tr th {\n",
       "        vertical-align: top;\n",
       "    }\n",
       "\n",
       "    .dataframe thead th {\n",
       "        text-align: right;\n",
       "    }\n",
       "</style>\n",
       "<table border=\"1\" class=\"dataframe\">\n",
       "  <thead>\n",
       "    <tr style=\"text-align: right;\">\n",
       "      <th></th>\n",
       "      <th>CPF BENEFICIÁRIO</th>\n",
       "      <th>NOME BENEFICIÁRIO</th>\n",
       "      <th>auxilio_emergencial_bloqueado</th>\n",
       "    </tr>\n",
       "  </thead>\n",
       "  <tbody>\n",
       "    <tr>\n",
       "      <td>0</td>\n",
       "      <td>***025018**</td>\n",
       "      <td>ABDELHAY ELHAKIMI</td>\n",
       "      <td>False</td>\n",
       "    </tr>\n",
       "    <tr>\n",
       "      <td>1</td>\n",
       "      <td>***659945**</td>\n",
       "      <td>ABDERLAN DA SILVA DOURADO JUNIOR</td>\n",
       "      <td>False</td>\n",
       "    </tr>\n",
       "    <tr>\n",
       "      <td>2</td>\n",
       "      <td>***565608**</td>\n",
       "      <td>ABEL CARLOS FELISMINO DA SILVA BRAVO</td>\n",
       "      <td>False</td>\n",
       "    </tr>\n",
       "    <tr>\n",
       "      <td>3</td>\n",
       "      <td>***473335**</td>\n",
       "      <td>ABEL DE OLIVEIRA SANTOS</td>\n",
       "      <td>False</td>\n",
       "    </tr>\n",
       "    <tr>\n",
       "      <td>4</td>\n",
       "      <td>***919188**</td>\n",
       "      <td>ABIGAIL PAULA PRUDENTE DE CARVALHO</td>\n",
       "      <td>False</td>\n",
       "    </tr>\n",
       "    <tr>\n",
       "      <td>...</td>\n",
       "      <td>...</td>\n",
       "      <td>...</td>\n",
       "      <td>...</td>\n",
       "    </tr>\n",
       "    <tr>\n",
       "      <td>129445079</td>\n",
       "      <td>***355791**</td>\n",
       "      <td>MARCILEIA RODRIGUES DE CARVALHO</td>\n",
       "      <td>True</td>\n",
       "    </tr>\n",
       "    <tr>\n",
       "      <td>129445080</td>\n",
       "      <td>***378771**</td>\n",
       "      <td>MARIA DORACY CONCEICAO PEREIRA</td>\n",
       "      <td>True</td>\n",
       "    </tr>\n",
       "    <tr>\n",
       "      <td>129445087</td>\n",
       "      <td>***111991**</td>\n",
       "      <td>RAIMUNDA FERREIRA BARROSO DA CONCEICAO</td>\n",
       "      <td>True</td>\n",
       "    </tr>\n",
       "    <tr>\n",
       "      <td>129445091</td>\n",
       "      <td>***949021**</td>\n",
       "      <td>ROSIMARIA DIAS DE ARAUJO PEREIRA</td>\n",
       "      <td>True</td>\n",
       "    </tr>\n",
       "    <tr>\n",
       "      <td>129445181</td>\n",
       "      <td>***780321**</td>\n",
       "      <td>ROBERTO LUCAS PEREIRA DA SILVA</td>\n",
       "      <td>False</td>\n",
       "    </tr>\n",
       "  </tbody>\n",
       "</table>\n",
       "<p>68278463 rows × 3 columns</p>\n",
       "</div>"
      ],
      "text/plain": [
       "          CPF BENEFICIÁRIO                       NOME BENEFICIÁRIO  \\\n",
       "0              ***025018**                       ABDELHAY ELHAKIMI   \n",
       "1              ***659945**        ABDERLAN DA SILVA DOURADO JUNIOR   \n",
       "2              ***565608**    ABEL CARLOS FELISMINO DA SILVA BRAVO   \n",
       "3              ***473335**                 ABEL DE OLIVEIRA SANTOS   \n",
       "4              ***919188**      ABIGAIL PAULA PRUDENTE DE CARVALHO   \n",
       "...                    ...                                     ...   \n",
       "129445079      ***355791**         MARCILEIA RODRIGUES DE CARVALHO   \n",
       "129445080      ***378771**          MARIA DORACY CONCEICAO PEREIRA   \n",
       "129445087      ***111991**  RAIMUNDA FERREIRA BARROSO DA CONCEICAO   \n",
       "129445091      ***949021**        ROSIMARIA DIAS DE ARAUJO PEREIRA   \n",
       "129445181      ***780321**          ROBERTO LUCAS PEREIRA DA SILVA   \n",
       "\n",
       "           auxilio_emergencial_bloqueado  \n",
       "0                                  False  \n",
       "1                                  False  \n",
       "2                                  False  \n",
       "3                                  False  \n",
       "4                                  False  \n",
       "...                                  ...  \n",
       "129445079                           True  \n",
       "129445080                           True  \n",
       "129445087                           True  \n",
       "129445091                           True  \n",
       "129445181                          False  \n",
       "\n",
       "[68278463 rows x 3 columns]"
      ]
     },
     "execution_count": 38,
     "metadata": {},
     "output_type": "execute_result"
    }
   ],
   "source": [
    "auxilio_df.drop(columns={'OBSERVAÇÃO'}, inplace=True)\n",
    "auxilio_df"
   ]
  },
  {
   "cell_type": "code",
   "execution_count": 40,
   "metadata": {},
   "outputs": [
    {
     "data": {
      "text/html": [
       "<div>\n",
       "<style scoped>\n",
       "    .dataframe tbody tr th:only-of-type {\n",
       "        vertical-align: middle;\n",
       "    }\n",
       "\n",
       "    .dataframe tbody tr th {\n",
       "        vertical-align: top;\n",
       "    }\n",
       "\n",
       "    .dataframe thead th {\n",
       "        text-align: right;\n",
       "    }\n",
       "</style>\n",
       "<table border=\"1\" class=\"dataframe\">\n",
       "  <thead>\n",
       "    <tr style=\"text-align: right;\">\n",
       "      <th></th>\n",
       "      <th>CPF BENEFICIÁRIO</th>\n",
       "      <th>NOME BENEFICIÁRIO</th>\n",
       "      <th>auxilio_emergencial_bloqueado</th>\n",
       "    </tr>\n",
       "  </thead>\n",
       "  <tbody>\n",
       "    <tr>\n",
       "      <td>0</td>\n",
       "      <td>***000000**</td>\n",
       "      <td>AALYHA MELO RODRIGUES CARVALHO</td>\n",
       "      <td>False</td>\n",
       "    </tr>\n",
       "    <tr>\n",
       "      <td>1</td>\n",
       "      <td>***000000**</td>\n",
       "      <td>AAPINA PARAKANA</td>\n",
       "      <td>False</td>\n",
       "    </tr>\n",
       "    <tr>\n",
       "      <td>2</td>\n",
       "      <td>***000000**</td>\n",
       "      <td>AARAO MARTINS DE MACEDO</td>\n",
       "      <td>False</td>\n",
       "    </tr>\n",
       "    <tr>\n",
       "      <td>3</td>\n",
       "      <td>***000000**</td>\n",
       "      <td>AARON CARTER BELTRAO DOS SANTOS</td>\n",
       "      <td>False</td>\n",
       "    </tr>\n",
       "    <tr>\n",
       "      <td>4</td>\n",
       "      <td>***000000**</td>\n",
       "      <td>AARON PAULO CARDOSO NETO</td>\n",
       "      <td>False</td>\n",
       "    </tr>\n",
       "    <tr>\n",
       "      <td>...</td>\n",
       "      <td>...</td>\n",
       "      <td>...</td>\n",
       "      <td>...</td>\n",
       "    </tr>\n",
       "    <tr>\n",
       "      <td>68197048</td>\n",
       "      <td>***999999**</td>\n",
       "      <td>VINICIUS DE AZEREDO</td>\n",
       "      <td>False</td>\n",
       "    </tr>\n",
       "    <tr>\n",
       "      <td>68197049</td>\n",
       "      <td>***999999**</td>\n",
       "      <td>VIVIANE APARECIDA DE FREITAS</td>\n",
       "      <td>False</td>\n",
       "    </tr>\n",
       "    <tr>\n",
       "      <td>68197050</td>\n",
       "      <td>***999999**</td>\n",
       "      <td>ZENAIDE DE SOUZA SIMOES SELHORST</td>\n",
       "      <td>False</td>\n",
       "    </tr>\n",
       "    <tr>\n",
       "      <td>68197051</td>\n",
       "      <td>***999999**</td>\n",
       "      <td>ZEUNICE DE FATIMA ROCHA FERREIRA</td>\n",
       "      <td>False</td>\n",
       "    </tr>\n",
       "    <tr>\n",
       "      <td>68197052</td>\n",
       "      <td>***999999**</td>\n",
       "      <td>ZILDA APARECIDA VENTURA SCANDIUSSI</td>\n",
       "      <td>False</td>\n",
       "    </tr>\n",
       "  </tbody>\n",
       "</table>\n",
       "<p>68197053 rows × 3 columns</p>\n",
       "</div>"
      ],
      "text/plain": [
       "         CPF BENEFICIÁRIO                   NOME BENEFICIÁRIO  \\\n",
       "0             ***000000**      AALYHA MELO RODRIGUES CARVALHO   \n",
       "1             ***000000**                     AAPINA PARAKANA   \n",
       "2             ***000000**             AARAO MARTINS DE MACEDO   \n",
       "3             ***000000**     AARON CARTER BELTRAO DOS SANTOS   \n",
       "4             ***000000**            AARON PAULO CARDOSO NETO   \n",
       "...                   ...                                 ...   \n",
       "68197048      ***999999**                 VINICIUS DE AZEREDO   \n",
       "68197049      ***999999**        VIVIANE APARECIDA DE FREITAS   \n",
       "68197050      ***999999**    ZENAIDE DE SOUZA SIMOES SELHORST   \n",
       "68197051      ***999999**    ZEUNICE DE FATIMA ROCHA FERREIRA   \n",
       "68197052      ***999999**  ZILDA APARECIDA VENTURA SCANDIUSSI   \n",
       "\n",
       "          auxilio_emergencial_bloqueado  \n",
       "0                                 False  \n",
       "1                                 False  \n",
       "2                                 False  \n",
       "3                                 False  \n",
       "4                                 False  \n",
       "...                                 ...  \n",
       "68197048                          False  \n",
       "68197049                          False  \n",
       "68197050                          False  \n",
       "68197051                          False  \n",
       "68197052                          False  \n",
       "\n",
       "[68197053 rows x 3 columns]"
      ]
     },
     "execution_count": 40,
     "metadata": {},
     "output_type": "execute_result"
    }
   ],
   "source": [
    "auxilio_df2 = auxilio_df.groupby(['CPF BENEFICIÁRIO', 'NOME BENEFICIÁRIO']).agg({'auxilio_emergencial_bloqueado': 'sum'}).reset_index()\n",
    "auxilio_df2"
   ]
  },
  {
   "cell_type": "code",
   "execution_count": 41,
   "metadata": {},
   "outputs": [
    {
     "data": {
      "text/plain": [
       "False    64644774\n",
       "True      3552279\n",
       "Name: auxilio_emergencial_bloqueado, dtype: int64"
      ]
     },
     "execution_count": 41,
     "metadata": {},
     "output_type": "execute_result"
    }
   ],
   "source": [
    "auxilio_df2.auxilio_emergencial_bloqueado.value_counts()"
   ]
  },
  {
   "cell_type": "code",
   "execution_count": 42,
   "metadata": {},
   "outputs": [
    {
     "data": {
      "text/html": [
       "<div>\n",
       "<style scoped>\n",
       "    .dataframe tbody tr th:only-of-type {\n",
       "        vertical-align: middle;\n",
       "    }\n",
       "\n",
       "    .dataframe tbody tr th {\n",
       "        vertical-align: top;\n",
       "    }\n",
       "\n",
       "    .dataframe thead th {\n",
       "        text-align: right;\n",
       "    }\n",
       "</style>\n",
       "<table border=\"1\" class=\"dataframe\">\n",
       "  <thead>\n",
       "    <tr style=\"text-align: right;\">\n",
       "      <th></th>\n",
       "      <th>CPF BENEFICIÁRIO</th>\n",
       "      <th>NOME BENEFICIÁRIO</th>\n",
       "      <th>auxilio_emergencial_bloqueado</th>\n",
       "    </tr>\n",
       "  </thead>\n",
       "  <tbody>\n",
       "    <tr>\n",
       "      <td>26138160</td>\n",
       "      <td>***378771**</td>\n",
       "      <td>MARIA DORACY CONCEICAO PEREIRA</td>\n",
       "      <td>True</td>\n",
       "    </tr>\n",
       "  </tbody>\n",
       "</table>\n",
       "</div>"
      ],
      "text/plain": [
       "         CPF BENEFICIÁRIO               NOME BENEFICIÁRIO  \\\n",
       "26138160      ***378771**  MARIA DORACY CONCEICAO PEREIRA   \n",
       "\n",
       "          auxilio_emergencial_bloqueado  \n",
       "26138160                           True  "
      ]
     },
     "execution_count": 42,
     "metadata": {},
     "output_type": "execute_result"
    }
   ],
   "source": [
    "# Conferindo um resultado qualquer:\n",
    "auxilio_df2[(auxilio_df2['CPF BENEFICIÁRIO'] == '***378771**')&(auxilio_df2['NOME BENEFICIÁRIO']=='MARIA DORACY CONCEICAO PEREIRA')]"
   ]
  },
  {
   "cell_type": "code",
   "execution_count": 44,
   "metadata": {},
   "outputs": [],
   "source": [
    "# Reduzir memória ocupada:\n",
    "del auxilio_df"
   ]
  },
  {
   "cell_type": "code",
   "execution_count": 45,
   "metadata": {},
   "outputs": [],
   "source": [
    "# Salva resultado:\n",
    "auxilio_df2.to_csv(r'C:\\DATASETS\\Auxilio Emergencial\\auxilio_emergencial.csv', index=False, encoding=\"ANSI\")"
   ]
  }
 ],
 "metadata": {
  "kernelspec": {
   "display_name": "Python 3",
   "language": "python",
   "name": "python3"
  },
  "language_info": {
   "codemirror_mode": {
    "name": "ipython",
    "version": 3
   },
   "file_extension": ".py",
   "mimetype": "text/x-python",
   "name": "python",
   "nbconvert_exporter": "python",
   "pygments_lexer": "ipython3",
   "version": "3.7.4"
  }
 },
 "nbformat": 4,
 "nbformat_minor": 2
}
