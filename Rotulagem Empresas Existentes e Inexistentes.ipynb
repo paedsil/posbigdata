{
 "cells": [
  {
   "cell_type": "code",
   "execution_count": 1,
   "metadata": {},
   "outputs": [],
   "source": [
    "import pandas as pd\n",
    "import numpy as np\n",
    "import re"
   ]
  },
  {
   "cell_type": "code",
   "execution_count": 2,
   "metadata": {},
   "outputs": [
    {
     "data": {
      "text/html": [
       "<div>\n",
       "<style scoped>\n",
       "    .dataframe tbody tr th:only-of-type {\n",
       "        vertical-align: middle;\n",
       "    }\n",
       "\n",
       "    .dataframe tbody tr th {\n",
       "        vertical-align: top;\n",
       "    }\n",
       "\n",
       "    .dataframe thead th {\n",
       "        text-align: right;\n",
       "    }\n",
       "</style>\n",
       "<table border=\"1\" class=\"dataframe\">\n",
       "  <thead>\n",
       "    <tr style=\"text-align: right;\">\n",
       "      <th></th>\n",
       "      <th>CNPJ</th>\n",
       "    </tr>\n",
       "  </thead>\n",
       "  <tbody>\n",
       "    <tr>\n",
       "      <td>0</td>\n",
       "      <td>00000942000170</td>\n",
       "    </tr>\n",
       "    <tr>\n",
       "      <td>1</td>\n",
       "      <td>00001102000121</td>\n",
       "    </tr>\n",
       "    <tr>\n",
       "      <td>2</td>\n",
       "      <td>00005201000181</td>\n",
       "    </tr>\n",
       "    <tr>\n",
       "      <td>3</td>\n",
       "      <td>00005201000262</td>\n",
       "    </tr>\n",
       "    <tr>\n",
       "      <td>4</td>\n",
       "      <td>00010501000159</td>\n",
       "    </tr>\n",
       "    <tr>\n",
       "      <td>...</td>\n",
       "      <td>...</td>\n",
       "    </tr>\n",
       "    <tr>\n",
       "      <td>1375872</td>\n",
       "      <td>97711808000119</td>\n",
       "    </tr>\n",
       "    <tr>\n",
       "      <td>1375873</td>\n",
       "      <td>97800504000128</td>\n",
       "    </tr>\n",
       "    <tr>\n",
       "      <td>1375874</td>\n",
       "      <td>97921210000154</td>\n",
       "    </tr>\n",
       "    <tr>\n",
       "      <td>1375875</td>\n",
       "      <td>97979508000115</td>\n",
       "    </tr>\n",
       "    <tr>\n",
       "      <td>1375876</td>\n",
       "      <td>98014649000166</td>\n",
       "    </tr>\n",
       "  </tbody>\n",
       "</table>\n",
       "<p>1375877 rows × 1 columns</p>\n",
       "</div>"
      ],
      "text/plain": [
       "                   CNPJ\n",
       "0        00000942000170\n",
       "1        00001102000121\n",
       "2        00005201000181\n",
       "3        00005201000262\n",
       "4        00010501000159\n",
       "...                 ...\n",
       "1375872  97711808000119\n",
       "1375873  97800504000128\n",
       "1375874  97921210000154\n",
       "1375875  97979508000115\n",
       "1375876  98014649000166\n",
       "\n",
       "[1375877 rows x 1 columns]"
      ]
     },
     "execution_count": 2,
     "metadata": {},
     "output_type": "execute_result"
    }
   ],
   "source": [
    "# IMPORTAÇÃO DAS EMPRESAS INEXISTENTES DE FATO\n",
    "empresas_inexistentes_df = pd.read_csv('C:\\DATASETS\\Empresas Baixadas\\empresas_baixadas_consolidado.csv', header=0, sep=',', dtype='str')\n",
    "empresas_inexistentes_df"
   ]
  },
  {
   "cell_type": "code",
   "execution_count": 3,
   "metadata": {},
   "outputs": [
    {
     "data": {
      "text/html": [
       "<div>\n",
       "<style scoped>\n",
       "    .dataframe tbody tr th:only-of-type {\n",
       "        vertical-align: middle;\n",
       "    }\n",
       "\n",
       "    .dataframe tbody tr th {\n",
       "        vertical-align: top;\n",
       "    }\n",
       "\n",
       "    .dataframe thead th {\n",
       "        text-align: right;\n",
       "    }\n",
       "</style>\n",
       "<table border=\"1\" class=\"dataframe\">\n",
       "  <thead>\n",
       "    <tr style=\"text-align: right;\">\n",
       "      <th></th>\n",
       "      <th>CNPJ</th>\n",
       "    </tr>\n",
       "  </thead>\n",
       "  <tbody>\n",
       "    <tr>\n",
       "      <td>0</td>\n",
       "      <td>00000000000000</td>\n",
       "    </tr>\n",
       "    <tr>\n",
       "      <td>1</td>\n",
       "      <td>00000000000191</td>\n",
       "    </tr>\n",
       "    <tr>\n",
       "      <td>2</td>\n",
       "      <td>00000030000106</td>\n",
       "    </tr>\n",
       "    <tr>\n",
       "      <td>3</td>\n",
       "      <td>00000166000108</td>\n",
       "    </tr>\n",
       "    <tr>\n",
       "      <td>4</td>\n",
       "      <td>00000208000100</td>\n",
       "    </tr>\n",
       "    <tr>\n",
       "      <td>...</td>\n",
       "      <td>...</td>\n",
       "    </tr>\n",
       "    <tr>\n",
       "      <td>184592</td>\n",
       "      <td>98593668000194</td>\n",
       "    </tr>\n",
       "    <tr>\n",
       "      <td>184593</td>\n",
       "      <td>98669997000252</td>\n",
       "    </tr>\n",
       "    <tr>\n",
       "      <td>184594</td>\n",
       "      <td>98670235000195</td>\n",
       "    </tr>\n",
       "    <tr>\n",
       "      <td>184595</td>\n",
       "      <td>98670656000116</td>\n",
       "    </tr>\n",
       "    <tr>\n",
       "      <td>184596</td>\n",
       "      <td>98674195000150</td>\n",
       "    </tr>\n",
       "  </tbody>\n",
       "</table>\n",
       "<p>184597 rows × 1 columns</p>\n",
       "</div>"
      ],
      "text/plain": [
       "                  CNPJ\n",
       "0       00000000000000\n",
       "1       00000000000191\n",
       "2       00000030000106\n",
       "3       00000166000108\n",
       "4       00000208000100\n",
       "...                ...\n",
       "184592  98593668000194\n",
       "184593  98669997000252\n",
       "184594  98670235000195\n",
       "184595  98670656000116\n",
       "184596  98674195000150\n",
       "\n",
       "[184597 rows x 1 columns]"
      ]
     },
     "execution_count": 3,
     "metadata": {},
     "output_type": "execute_result"
    }
   ],
   "source": [
    "# IMPORTAÇÃO DAS EMPRESAS EXISTENTES DE FATO\n",
    "empresas_existentes_df = pd.read_csv('C:\\DATASETS\\Empresas Existentes de Fato\\empresas_existentes_de_fato.csv', header=0, sep=',', dtype='str')\n",
    "empresas_existentes_df"
   ]
  },
  {
   "cell_type": "code",
   "execution_count": null,
   "metadata": {},
   "outputs": [],
   "source": [
    "# IMPORTAÇÃO DAS BASE NACIONAL DE EMPRESAS\n",
    "empresas_df = pd.read_csv(r'C:\\DATASETS\\CNPJ\\2-processado\\empresas.csv', header=0, sep=',', dtype='str')\n",
    "empresas_df"
   ]
  },
  {
   "cell_type": "markdown",
   "metadata": {},
   "source": [
    "### Rotulagem das empresas inexistentes:"
   ]
  },
  {
   "cell_type": "code",
   "execution_count": 5,
   "metadata": {},
   "outputs": [],
   "source": [
    "# Selecionar da base nacional apenas aquelas que constam na base de empresas inexistentes de fato\n",
    "empresas_rotuladas_df = empresas_df[empresas_df.cnpj.isin(empresas_inexistentes_df.CNPJ)]"
   ]
  },
  {
   "cell_type": "code",
   "execution_count": 6,
   "metadata": {},
   "outputs": [
    {
     "name": "stdout",
     "output_type": "stream",
     "text": [
      "(1375877, 38)\n",
      "(1375877, 1)\n"
     ]
    }
   ],
   "source": [
    "# Conferindo quantidade de linhas:\n",
    "print(empresas_rotuladas_df.shape)\n",
    "print(empresas_inexistentes_df.shape)"
   ]
  },
  {
   "cell_type": "markdown",
   "metadata": {},
   "source": [
    "Conforme esperado. Todos os CNPJs de empresas inexistentes existem na base de empresas."
   ]
  },
  {
   "cell_type": "code",
   "execution_count": 7,
   "metadata": {},
   "outputs": [
    {
     "data": {
      "text/html": [
       "<div>\n",
       "<style scoped>\n",
       "    .dataframe tbody tr th:only-of-type {\n",
       "        vertical-align: middle;\n",
       "    }\n",
       "\n",
       "    .dataframe tbody tr th {\n",
       "        vertical-align: top;\n",
       "    }\n",
       "\n",
       "    .dataframe thead th {\n",
       "        text-align: right;\n",
       "    }\n",
       "</style>\n",
       "<table border=\"1\" class=\"dataframe\">\n",
       "  <thead>\n",
       "    <tr style=\"text-align: right;\">\n",
       "      <th></th>\n",
       "      <th>cnpj</th>\n",
       "      <th>matriz_filial</th>\n",
       "      <th>razao_social</th>\n",
       "      <th>nome_fantasia</th>\n",
       "      <th>situacao</th>\n",
       "      <th>data_situacao</th>\n",
       "      <th>motivo_situacao</th>\n",
       "      <th>nm_cidade_exterior</th>\n",
       "      <th>cod_pais</th>\n",
       "      <th>nome_pais</th>\n",
       "      <th>...</th>\n",
       "      <th>qualif_resp</th>\n",
       "      <th>capital_social</th>\n",
       "      <th>porte</th>\n",
       "      <th>opc_simples</th>\n",
       "      <th>data_opc_simples</th>\n",
       "      <th>data_exc_simples</th>\n",
       "      <th>opc_mei</th>\n",
       "      <th>sit_especial</th>\n",
       "      <th>data_sit_especial</th>\n",
       "      <th>inexistente</th>\n",
       "    </tr>\n",
       "  </thead>\n",
       "  <tbody>\n",
       "    <tr>\n",
       "      <td>9015</td>\n",
       "      <td>00000942000170</td>\n",
       "      <td>1</td>\n",
       "      <td>NILZA LAVISO ARAUJO</td>\n",
       "      <td>MIL CARIMBOS</td>\n",
       "      <td>08</td>\n",
       "      <td>20180201</td>\n",
       "      <td>67</td>\n",
       "      <td>NaN</td>\n",
       "      <td>NaN</td>\n",
       "      <td>NaN</td>\n",
       "      <td>...</td>\n",
       "      <td>50</td>\n",
       "      <td>0.0</td>\n",
       "      <td>01</td>\n",
       "      <td>6</td>\n",
       "      <td>20070701</td>\n",
       "      <td>20180201</td>\n",
       "      <td>N</td>\n",
       "      <td>NaN</td>\n",
       "      <td>NaN</td>\n",
       "      <td>True</td>\n",
       "    </tr>\n",
       "    <tr>\n",
       "      <td>9186</td>\n",
       "      <td>00001102000121</td>\n",
       "      <td>1</td>\n",
       "      <td>JOSE GERALDO PEREIRA SANTANA ME</td>\n",
       "      <td>NaN</td>\n",
       "      <td>08</td>\n",
       "      <td>20180201</td>\n",
       "      <td>67</td>\n",
       "      <td>NaN</td>\n",
       "      <td>NaN</td>\n",
       "      <td>NaN</td>\n",
       "      <td>...</td>\n",
       "      <td>50</td>\n",
       "      <td>0.0</td>\n",
       "      <td>01</td>\n",
       "      <td>6</td>\n",
       "      <td>20070701</td>\n",
       "      <td>20180201</td>\n",
       "      <td>N</td>\n",
       "      <td>NaN</td>\n",
       "      <td>NaN</td>\n",
       "      <td>True</td>\n",
       "    </tr>\n",
       "    <tr>\n",
       "      <td>13528</td>\n",
       "      <td>00005201000181</td>\n",
       "      <td>1</td>\n",
       "      <td>PETRO-ALFA COMERCIO DE DERIVADOS DE PETROLEO LTDA</td>\n",
       "      <td>NaN</td>\n",
       "      <td>08</td>\n",
       "      <td>20180326</td>\n",
       "      <td>15</td>\n",
       "      <td>NaN</td>\n",
       "      <td>NaN</td>\n",
       "      <td>NaN</td>\n",
       "      <td>...</td>\n",
       "      <td>49</td>\n",
       "      <td>0.0</td>\n",
       "      <td>01</td>\n",
       "      <td>0</td>\n",
       "      <td>NaN</td>\n",
       "      <td>NaN</td>\n",
       "      <td>N</td>\n",
       "      <td>NaN</td>\n",
       "      <td>NaN</td>\n",
       "      <td>True</td>\n",
       "    </tr>\n",
       "    <tr>\n",
       "      <td>13529</td>\n",
       "      <td>00005201000262</td>\n",
       "      <td>2</td>\n",
       "      <td>PETRO-ALFA COMERCIO DE DERIVADOS DE PETROLEO LTDA</td>\n",
       "      <td>PETRO-ALFA COMERCIO DE DERIVADOS DE PETROLEO</td>\n",
       "      <td>08</td>\n",
       "      <td>20180326</td>\n",
       "      <td>15</td>\n",
       "      <td>NaN</td>\n",
       "      <td>NaN</td>\n",
       "      <td>NaN</td>\n",
       "      <td>...</td>\n",
       "      <td>49</td>\n",
       "      <td>0.0</td>\n",
       "      <td>01</td>\n",
       "      <td>0</td>\n",
       "      <td>NaN</td>\n",
       "      <td>NaN</td>\n",
       "      <td>NaN</td>\n",
       "      <td>NaN</td>\n",
       "      <td>NaN</td>\n",
       "      <td>True</td>\n",
       "    </tr>\n",
       "    <tr>\n",
       "      <td>19039</td>\n",
       "      <td>00010501000159</td>\n",
       "      <td>1</td>\n",
       "      <td>B S PETRO COM E DIST DE DERIVADOS DE PETROLEO ...</td>\n",
       "      <td>B S PETRO</td>\n",
       "      <td>08</td>\n",
       "      <td>20180326</td>\n",
       "      <td>15</td>\n",
       "      <td>NaN</td>\n",
       "      <td>NaN</td>\n",
       "      <td>NaN</td>\n",
       "      <td>...</td>\n",
       "      <td>49</td>\n",
       "      <td>0.0</td>\n",
       "      <td>01</td>\n",
       "      <td>0</td>\n",
       "      <td>NaN</td>\n",
       "      <td>NaN</td>\n",
       "      <td>N</td>\n",
       "      <td>NaN</td>\n",
       "      <td>NaN</td>\n",
       "      <td>True</td>\n",
       "    </tr>\n",
       "    <tr>\n",
       "      <td>...</td>\n",
       "      <td>...</td>\n",
       "      <td>...</td>\n",
       "      <td>...</td>\n",
       "      <td>...</td>\n",
       "      <td>...</td>\n",
       "      <td>...</td>\n",
       "      <td>...</td>\n",
       "      <td>...</td>\n",
       "      <td>...</td>\n",
       "      <td>...</td>\n",
       "      <td>...</td>\n",
       "      <td>...</td>\n",
       "      <td>...</td>\n",
       "      <td>...</td>\n",
       "      <td>...</td>\n",
       "      <td>...</td>\n",
       "      <td>...</td>\n",
       "      <td>...</td>\n",
       "      <td>...</td>\n",
       "      <td>...</td>\n",
       "      <td>...</td>\n",
       "    </tr>\n",
       "    <tr>\n",
       "      <td>46530110</td>\n",
       "      <td>97711808000119</td>\n",
       "      <td>1</td>\n",
       "      <td>JOSE GALVAO 00012312860</td>\n",
       "      <td>NaN</td>\n",
       "      <td>08</td>\n",
       "      <td>20180201</td>\n",
       "      <td>67</td>\n",
       "      <td>NaN</td>\n",
       "      <td>NaN</td>\n",
       "      <td>NaN</td>\n",
       "      <td>...</td>\n",
       "      <td>50</td>\n",
       "      <td>100.0</td>\n",
       "      <td>01</td>\n",
       "      <td>6</td>\n",
       "      <td>20110714</td>\n",
       "      <td>20180201</td>\n",
       "      <td>N</td>\n",
       "      <td>NaN</td>\n",
       "      <td>NaN</td>\n",
       "      <td>True</td>\n",
       "    </tr>\n",
       "    <tr>\n",
       "      <td>46530943</td>\n",
       "      <td>97800504000128</td>\n",
       "      <td>1</td>\n",
       "      <td>ARLETE COSTA MONTEIRO DE JESUS 00780171578</td>\n",
       "      <td>NaN</td>\n",
       "      <td>08</td>\n",
       "      <td>20180201</td>\n",
       "      <td>67</td>\n",
       "      <td>NaN</td>\n",
       "      <td>NaN</td>\n",
       "      <td>NaN</td>\n",
       "      <td>...</td>\n",
       "      <td>50</td>\n",
       "      <td>100.0</td>\n",
       "      <td>01</td>\n",
       "      <td>6</td>\n",
       "      <td>20110714</td>\n",
       "      <td>20180201</td>\n",
       "      <td>N</td>\n",
       "      <td>NaN</td>\n",
       "      <td>NaN</td>\n",
       "      <td>True</td>\n",
       "    </tr>\n",
       "    <tr>\n",
       "      <td>46531419</td>\n",
       "      <td>97921210000154</td>\n",
       "      <td>1</td>\n",
       "      <td>PATRICIA RODRIGUES DE OLIVEIRA 29081951866</td>\n",
       "      <td>NaN</td>\n",
       "      <td>08</td>\n",
       "      <td>20180201</td>\n",
       "      <td>67</td>\n",
       "      <td>NaN</td>\n",
       "      <td>NaN</td>\n",
       "      <td>NaN</td>\n",
       "      <td>...</td>\n",
       "      <td>50</td>\n",
       "      <td>100.0</td>\n",
       "      <td>01</td>\n",
       "      <td>6</td>\n",
       "      <td>20110714</td>\n",
       "      <td>20180201</td>\n",
       "      <td>N</td>\n",
       "      <td>NaN</td>\n",
       "      <td>NaN</td>\n",
       "      <td>True</td>\n",
       "    </tr>\n",
       "    <tr>\n",
       "      <td>46531746</td>\n",
       "      <td>97979508000115</td>\n",
       "      <td>1</td>\n",
       "      <td>CARLA ANDREZA LOPES DE SEIXAS 87485885200</td>\n",
       "      <td>NaN</td>\n",
       "      <td>08</td>\n",
       "      <td>20180201</td>\n",
       "      <td>67</td>\n",
       "      <td>NaN</td>\n",
       "      <td>NaN</td>\n",
       "      <td>NaN</td>\n",
       "      <td>...</td>\n",
       "      <td>50</td>\n",
       "      <td>100.0</td>\n",
       "      <td>01</td>\n",
       "      <td>6</td>\n",
       "      <td>20110714</td>\n",
       "      <td>20180201</td>\n",
       "      <td>N</td>\n",
       "      <td>NaN</td>\n",
       "      <td>NaN</td>\n",
       "      <td>True</td>\n",
       "    </tr>\n",
       "    <tr>\n",
       "      <td>46531749</td>\n",
       "      <td>98014649000166</td>\n",
       "      <td>1</td>\n",
       "      <td>ANDERSON BENTO DOS SANTOS 31425935869</td>\n",
       "      <td>NaN</td>\n",
       "      <td>08</td>\n",
       "      <td>20180201</td>\n",
       "      <td>67</td>\n",
       "      <td>NaN</td>\n",
       "      <td>NaN</td>\n",
       "      <td>NaN</td>\n",
       "      <td>...</td>\n",
       "      <td>50</td>\n",
       "      <td>100.0</td>\n",
       "      <td>01</td>\n",
       "      <td>6</td>\n",
       "      <td>20110714</td>\n",
       "      <td>20180201</td>\n",
       "      <td>N</td>\n",
       "      <td>NaN</td>\n",
       "      <td>NaN</td>\n",
       "      <td>True</td>\n",
       "    </tr>\n",
       "  </tbody>\n",
       "</table>\n",
       "<p>1375877 rows × 39 columns</p>\n",
       "</div>"
      ],
      "text/plain": [
       "                    cnpj matriz_filial  \\\n",
       "9015      00000942000170             1   \n",
       "9186      00001102000121             1   \n",
       "13528     00005201000181             1   \n",
       "13529     00005201000262             2   \n",
       "19039     00010501000159             1   \n",
       "...                  ...           ...   \n",
       "46530110  97711808000119             1   \n",
       "46530943  97800504000128             1   \n",
       "46531419  97921210000154             1   \n",
       "46531746  97979508000115             1   \n",
       "46531749  98014649000166             1   \n",
       "\n",
       "                                               razao_social  \\\n",
       "9015                                    NILZA LAVISO ARAUJO   \n",
       "9186                        JOSE GERALDO PEREIRA SANTANA ME   \n",
       "13528     PETRO-ALFA COMERCIO DE DERIVADOS DE PETROLEO LTDA   \n",
       "13529     PETRO-ALFA COMERCIO DE DERIVADOS DE PETROLEO LTDA   \n",
       "19039     B S PETRO COM E DIST DE DERIVADOS DE PETROLEO ...   \n",
       "...                                                     ...   \n",
       "46530110                            JOSE GALVAO 00012312860   \n",
       "46530943         ARLETE COSTA MONTEIRO DE JESUS 00780171578   \n",
       "46531419         PATRICIA RODRIGUES DE OLIVEIRA 29081951866   \n",
       "46531746          CARLA ANDREZA LOPES DE SEIXAS 87485885200   \n",
       "46531749              ANDERSON BENTO DOS SANTOS 31425935869   \n",
       "\n",
       "                                         nome_fantasia situacao data_situacao  \\\n",
       "9015                                      MIL CARIMBOS       08      20180201   \n",
       "9186                                               NaN       08      20180201   \n",
       "13528                                              NaN       08      20180326   \n",
       "13529     PETRO-ALFA COMERCIO DE DERIVADOS DE PETROLEO       08      20180326   \n",
       "19039                                        B S PETRO       08      20180326   \n",
       "...                                                ...      ...           ...   \n",
       "46530110                                           NaN       08      20180201   \n",
       "46530943                                           NaN       08      20180201   \n",
       "46531419                                           NaN       08      20180201   \n",
       "46531746                                           NaN       08      20180201   \n",
       "46531749                                           NaN       08      20180201   \n",
       "\n",
       "         motivo_situacao nm_cidade_exterior cod_pais nome_pais  ...  \\\n",
       "9015                  67                NaN      NaN       NaN  ...   \n",
       "9186                  67                NaN      NaN       NaN  ...   \n",
       "13528                 15                NaN      NaN       NaN  ...   \n",
       "13529                 15                NaN      NaN       NaN  ...   \n",
       "19039                 15                NaN      NaN       NaN  ...   \n",
       "...                  ...                ...      ...       ...  ...   \n",
       "46530110              67                NaN      NaN       NaN  ...   \n",
       "46530943              67                NaN      NaN       NaN  ...   \n",
       "46531419              67                NaN      NaN       NaN  ...   \n",
       "46531746              67                NaN      NaN       NaN  ...   \n",
       "46531749              67                NaN      NaN       NaN  ...   \n",
       "\n",
       "         qualif_resp capital_social porte opc_simples data_opc_simples  \\\n",
       "9015              50            0.0    01           6         20070701   \n",
       "9186              50            0.0    01           6         20070701   \n",
       "13528             49            0.0    01           0              NaN   \n",
       "13529             49            0.0    01           0              NaN   \n",
       "19039             49            0.0    01           0              NaN   \n",
       "...              ...            ...   ...         ...              ...   \n",
       "46530110          50          100.0    01           6         20110714   \n",
       "46530943          50          100.0    01           6         20110714   \n",
       "46531419          50          100.0    01           6         20110714   \n",
       "46531746          50          100.0    01           6         20110714   \n",
       "46531749          50          100.0    01           6         20110714   \n",
       "\n",
       "         data_exc_simples opc_mei sit_especial data_sit_especial inexistente  \n",
       "9015             20180201       N          NaN               NaN        True  \n",
       "9186             20180201       N          NaN               NaN        True  \n",
       "13528                 NaN       N          NaN               NaN        True  \n",
       "13529                 NaN     NaN          NaN               NaN        True  \n",
       "19039                 NaN       N          NaN               NaN        True  \n",
       "...                   ...     ...          ...               ...         ...  \n",
       "46530110         20180201       N          NaN               NaN        True  \n",
       "46530943         20180201       N          NaN               NaN        True  \n",
       "46531419         20180201       N          NaN               NaN        True  \n",
       "46531746         20180201       N          NaN               NaN        True  \n",
       "46531749         20180201       N          NaN               NaN        True  \n",
       "\n",
       "[1375877 rows x 39 columns]"
      ]
     },
     "execution_count": 7,
     "metadata": {},
     "output_type": "execute_result"
    }
   ],
   "source": [
    "# Rotula as empresas inexistentes de fato\n",
    "empresas_rotuladas_df = empresas_rotuladas_df.assign(inexistente=True)\n",
    "empresas_rotuladas_df"
   ]
  },
  {
   "cell_type": "markdown",
   "metadata": {},
   "source": [
    "### Rotulagem das empresas existentes:"
   ]
  },
  {
   "cell_type": "code",
   "execution_count": 8,
   "metadata": {},
   "outputs": [],
   "source": [
    "# Selecionar da base nacional apenas aquelas que constam na base de empresas existentes\n",
    "temp_df = empresas_df[empresas_df.cnpj.isin(empresas_existentes_df.CNPJ)]"
   ]
  },
  {
   "cell_type": "code",
   "execution_count": 9,
   "metadata": {},
   "outputs": [
    {
     "name": "stdout",
     "output_type": "stream",
     "text": [
      "(184066, 38)\n",
      "(184597, 1)\n"
     ]
    }
   ],
   "source": [
    "# Conferindo quantidade de linhas:\n",
    "print(temp_df.shape)\n",
    "print(empresas_existentes_df.shape)"
   ]
  },
  {
   "cell_type": "markdown",
   "metadata": {},
   "source": [
    "Verificamos que alguns CNPJs de empresas existentes não existem na base de empresas. Iremos analisar posteriormente."
   ]
  },
  {
   "cell_type": "code",
   "execution_count": 10,
   "metadata": {},
   "outputs": [
    {
     "data": {
      "text/html": [
       "<div>\n",
       "<style scoped>\n",
       "    .dataframe tbody tr th:only-of-type {\n",
       "        vertical-align: middle;\n",
       "    }\n",
       "\n",
       "    .dataframe tbody tr th {\n",
       "        vertical-align: top;\n",
       "    }\n",
       "\n",
       "    .dataframe thead th {\n",
       "        text-align: right;\n",
       "    }\n",
       "</style>\n",
       "<table border=\"1\" class=\"dataframe\">\n",
       "  <thead>\n",
       "    <tr style=\"text-align: right;\">\n",
       "      <th></th>\n",
       "      <th>cnpj</th>\n",
       "      <th>matriz_filial</th>\n",
       "      <th>razao_social</th>\n",
       "      <th>nome_fantasia</th>\n",
       "      <th>situacao</th>\n",
       "      <th>data_situacao</th>\n",
       "      <th>motivo_situacao</th>\n",
       "      <th>nm_cidade_exterior</th>\n",
       "      <th>cod_pais</th>\n",
       "      <th>nome_pais</th>\n",
       "      <th>...</th>\n",
       "      <th>qualif_resp</th>\n",
       "      <th>capital_social</th>\n",
       "      <th>porte</th>\n",
       "      <th>opc_simples</th>\n",
       "      <th>data_opc_simples</th>\n",
       "      <th>data_exc_simples</th>\n",
       "      <th>opc_mei</th>\n",
       "      <th>sit_especial</th>\n",
       "      <th>data_sit_especial</th>\n",
       "      <th>inexistente</th>\n",
       "    </tr>\n",
       "  </thead>\n",
       "  <tbody>\n",
       "    <tr>\n",
       "      <td>0</td>\n",
       "      <td>00000000000191</td>\n",
       "      <td>1</td>\n",
       "      <td>BANCO DO BRASIL SA</td>\n",
       "      <td>DIRECAO GERAL</td>\n",
       "      <td>02</td>\n",
       "      <td>20051103</td>\n",
       "      <td>00</td>\n",
       "      <td>NaN</td>\n",
       "      <td>NaN</td>\n",
       "      <td>NaN</td>\n",
       "      <td>...</td>\n",
       "      <td>10</td>\n",
       "      <td>9000000000000.0</td>\n",
       "      <td>05</td>\n",
       "      <td>0</td>\n",
       "      <td>NaN</td>\n",
       "      <td>NaN</td>\n",
       "      <td>N</td>\n",
       "      <td>NaN</td>\n",
       "      <td>NaN</td>\n",
       "      <td>False</td>\n",
       "    </tr>\n",
       "    <tr>\n",
       "      <td>7799</td>\n",
       "      <td>00000030000106</td>\n",
       "      <td>1</td>\n",
       "      <td>BIANCHI E DUALIBY OFTALMOLOGIA E DERMATOLOGIA ...</td>\n",
       "      <td>NaN</td>\n",
       "      <td>02</td>\n",
       "      <td>20051103</td>\n",
       "      <td>00</td>\n",
       "      <td>NaN</td>\n",
       "      <td>NaN</td>\n",
       "      <td>NaN</td>\n",
       "      <td>...</td>\n",
       "      <td>49</td>\n",
       "      <td>0.0</td>\n",
       "      <td>01</td>\n",
       "      <td>6</td>\n",
       "      <td>20150101</td>\n",
       "      <td>20151231</td>\n",
       "      <td>N</td>\n",
       "      <td>NaN</td>\n",
       "      <td>NaN</td>\n",
       "      <td>False</td>\n",
       "    </tr>\n",
       "    <tr>\n",
       "      <td>7977</td>\n",
       "      <td>00000166000108</td>\n",
       "      <td>1</td>\n",
       "      <td>IRMAOS RODOPOULOS LTDA</td>\n",
       "      <td>NaN</td>\n",
       "      <td>02</td>\n",
       "      <td>20051103</td>\n",
       "      <td>00</td>\n",
       "      <td>NaN</td>\n",
       "      <td>NaN</td>\n",
       "      <td>NaN</td>\n",
       "      <td>...</td>\n",
       "      <td>49</td>\n",
       "      <td>187187000.0</td>\n",
       "      <td>05</td>\n",
       "      <td>0</td>\n",
       "      <td>NaN</td>\n",
       "      <td>NaN</td>\n",
       "      <td>N</td>\n",
       "      <td>NaN</td>\n",
       "      <td>NaN</td>\n",
       "      <td>False</td>\n",
       "    </tr>\n",
       "    <tr>\n",
       "      <td>8018</td>\n",
       "      <td>00000208000100</td>\n",
       "      <td>1</td>\n",
       "      <td>BRB BANCO DE BRASILIA SA</td>\n",
       "      <td>BRB</td>\n",
       "      <td>02</td>\n",
       "      <td>20051103</td>\n",
       "      <td>00</td>\n",
       "      <td>NaN</td>\n",
       "      <td>NaN</td>\n",
       "      <td>NaN</td>\n",
       "      <td>...</td>\n",
       "      <td>16</td>\n",
       "      <td>18422500000.0</td>\n",
       "      <td>05</td>\n",
       "      <td>0</td>\n",
       "      <td>NaN</td>\n",
       "      <td>NaN</td>\n",
       "      <td>N</td>\n",
       "      <td>NaN</td>\n",
       "      <td>NaN</td>\n",
       "      <td>False</td>\n",
       "    </tr>\n",
       "    <tr>\n",
       "      <td>8322</td>\n",
       "      <td>00000368000150</td>\n",
       "      <td>1</td>\n",
       "      <td>CASA MILITAR DO GABINETE DO GOVERNADOR</td>\n",
       "      <td>CASA MILITAR GAB GOV</td>\n",
       "      <td>02</td>\n",
       "      <td>20051103</td>\n",
       "      <td>00</td>\n",
       "      <td>NaN</td>\n",
       "      <td>NaN</td>\n",
       "      <td>NaN</td>\n",
       "      <td>...</td>\n",
       "      <td>05</td>\n",
       "      <td>0.0</td>\n",
       "      <td>05</td>\n",
       "      <td>0</td>\n",
       "      <td>NaN</td>\n",
       "      <td>NaN</td>\n",
       "      <td>N</td>\n",
       "      <td>NaN</td>\n",
       "      <td>NaN</td>\n",
       "      <td>False</td>\n",
       "    </tr>\n",
       "    <tr>\n",
       "      <td>...</td>\n",
       "      <td>...</td>\n",
       "      <td>...</td>\n",
       "      <td>...</td>\n",
       "      <td>...</td>\n",
       "      <td>...</td>\n",
       "      <td>...</td>\n",
       "      <td>...</td>\n",
       "      <td>...</td>\n",
       "      <td>...</td>\n",
       "      <td>...</td>\n",
       "      <td>...</td>\n",
       "      <td>...</td>\n",
       "      <td>...</td>\n",
       "      <td>...</td>\n",
       "      <td>...</td>\n",
       "      <td>...</td>\n",
       "      <td>...</td>\n",
       "      <td>...</td>\n",
       "      <td>...</td>\n",
       "      <td>...</td>\n",
       "      <td>...</td>\n",
       "    </tr>\n",
       "    <tr>\n",
       "      <td>46534754</td>\n",
       "      <td>98593668000194</td>\n",
       "      <td>1</td>\n",
       "      <td>AUTO VIACAO VENANCIO AIRES LTDA</td>\n",
       "      <td>VIASUL</td>\n",
       "      <td>02</td>\n",
       "      <td>20040515</td>\n",
       "      <td>00</td>\n",
       "      <td>NaN</td>\n",
       "      <td>NaN</td>\n",
       "      <td>NaN</td>\n",
       "      <td>...</td>\n",
       "      <td>49</td>\n",
       "      <td>200000000.0</td>\n",
       "      <td>05</td>\n",
       "      <td>0</td>\n",
       "      <td>NaN</td>\n",
       "      <td>NaN</td>\n",
       "      <td>N</td>\n",
       "      <td>NaN</td>\n",
       "      <td>NaN</td>\n",
       "      <td>False</td>\n",
       "    </tr>\n",
       "    <tr>\n",
       "      <td>46535094</td>\n",
       "      <td>98669997000252</td>\n",
       "      <td>2</td>\n",
       "      <td>E. R. AMANTINO INDUSTRIA METALURGICA LTDA</td>\n",
       "      <td>MICROVERA</td>\n",
       "      <td>02</td>\n",
       "      <td>20051103</td>\n",
       "      <td>00</td>\n",
       "      <td>NaN</td>\n",
       "      <td>NaN</td>\n",
       "      <td>NaN</td>\n",
       "      <td>...</td>\n",
       "      <td>49</td>\n",
       "      <td>0.0</td>\n",
       "      <td>05</td>\n",
       "      <td>0</td>\n",
       "      <td>NaN</td>\n",
       "      <td>NaN</td>\n",
       "      <td>NaN</td>\n",
       "      <td>NaN</td>\n",
       "      <td>NaN</td>\n",
       "      <td>False</td>\n",
       "    </tr>\n",
       "    <tr>\n",
       "      <td>46535112</td>\n",
       "      <td>98670235000195</td>\n",
       "      <td>1</td>\n",
       "      <td>MAZZAROLLO - AGRO MAQUINAS LTDA</td>\n",
       "      <td>NaN</td>\n",
       "      <td>02</td>\n",
       "      <td>20020720</td>\n",
       "      <td>00</td>\n",
       "      <td>NaN</td>\n",
       "      <td>NaN</td>\n",
       "      <td>NaN</td>\n",
       "      <td>...</td>\n",
       "      <td>49</td>\n",
       "      <td>160000000.0</td>\n",
       "      <td>05</td>\n",
       "      <td>0</td>\n",
       "      <td>NaN</td>\n",
       "      <td>NaN</td>\n",
       "      <td>N</td>\n",
       "      <td>NaN</td>\n",
       "      <td>NaN</td>\n",
       "      <td>False</td>\n",
       "    </tr>\n",
       "    <tr>\n",
       "      <td>46535127</td>\n",
       "      <td>98670656000116</td>\n",
       "      <td>1</td>\n",
       "      <td>RESTAURANTE FARINA LTDA</td>\n",
       "      <td>NaN</td>\n",
       "      <td>02</td>\n",
       "      <td>20050416</td>\n",
       "      <td>00</td>\n",
       "      <td>NaN</td>\n",
       "      <td>NaN</td>\n",
       "      <td>NaN</td>\n",
       "      <td>...</td>\n",
       "      <td>49</td>\n",
       "      <td>0.0</td>\n",
       "      <td>01</td>\n",
       "      <td>7</td>\n",
       "      <td>20070701</td>\n",
       "      <td>NaN</td>\n",
       "      <td>N</td>\n",
       "      <td>NaN</td>\n",
       "      <td>NaN</td>\n",
       "      <td>False</td>\n",
       "    </tr>\n",
       "    <tr>\n",
       "      <td>46535214</td>\n",
       "      <td>98674195000150</td>\n",
       "      <td>1</td>\n",
       "      <td>AEROCLUBE DE VERANOPOLIS</td>\n",
       "      <td>NaN</td>\n",
       "      <td>02</td>\n",
       "      <td>20050924</td>\n",
       "      <td>00</td>\n",
       "      <td>NaN</td>\n",
       "      <td>NaN</td>\n",
       "      <td>NaN</td>\n",
       "      <td>...</td>\n",
       "      <td>16</td>\n",
       "      <td>0.0</td>\n",
       "      <td>05</td>\n",
       "      <td>0</td>\n",
       "      <td>NaN</td>\n",
       "      <td>NaN</td>\n",
       "      <td>N</td>\n",
       "      <td>NaN</td>\n",
       "      <td>NaN</td>\n",
       "      <td>False</td>\n",
       "    </tr>\n",
       "  </tbody>\n",
       "</table>\n",
       "<p>184066 rows × 39 columns</p>\n",
       "</div>"
      ],
      "text/plain": [
       "                    cnpj matriz_filial  \\\n",
       "0         00000000000191             1   \n",
       "7799      00000030000106             1   \n",
       "7977      00000166000108             1   \n",
       "8018      00000208000100             1   \n",
       "8322      00000368000150             1   \n",
       "...                  ...           ...   \n",
       "46534754  98593668000194             1   \n",
       "46535094  98669997000252             2   \n",
       "46535112  98670235000195             1   \n",
       "46535127  98670656000116             1   \n",
       "46535214  98674195000150             1   \n",
       "\n",
       "                                               razao_social  \\\n",
       "0                                        BANCO DO BRASIL SA   \n",
       "7799      BIANCHI E DUALIBY OFTALMOLOGIA E DERMATOLOGIA ...   \n",
       "7977                                 IRMAOS RODOPOULOS LTDA   \n",
       "8018                               BRB BANCO DE BRASILIA SA   \n",
       "8322                 CASA MILITAR DO GABINETE DO GOVERNADOR   \n",
       "...                                                     ...   \n",
       "46534754                    AUTO VIACAO VENANCIO AIRES LTDA   \n",
       "46535094          E. R. AMANTINO INDUSTRIA METALURGICA LTDA   \n",
       "46535112                    MAZZAROLLO - AGRO MAQUINAS LTDA   \n",
       "46535127                            RESTAURANTE FARINA LTDA   \n",
       "46535214                           AEROCLUBE DE VERANOPOLIS   \n",
       "\n",
       "                 nome_fantasia situacao data_situacao motivo_situacao  \\\n",
       "0                DIRECAO GERAL       02      20051103              00   \n",
       "7799                       NaN       02      20051103              00   \n",
       "7977                       NaN       02      20051103              00   \n",
       "8018                       BRB       02      20051103              00   \n",
       "8322      CASA MILITAR GAB GOV       02      20051103              00   \n",
       "...                        ...      ...           ...             ...   \n",
       "46534754                VIASUL       02      20040515              00   \n",
       "46535094             MICROVERA       02      20051103              00   \n",
       "46535112                   NaN       02      20020720              00   \n",
       "46535127                   NaN       02      20050416              00   \n",
       "46535214                   NaN       02      20050924              00   \n",
       "\n",
       "         nm_cidade_exterior cod_pais nome_pais  ... qualif_resp  \\\n",
       "0                       NaN      NaN       NaN  ...          10   \n",
       "7799                    NaN      NaN       NaN  ...          49   \n",
       "7977                    NaN      NaN       NaN  ...          49   \n",
       "8018                    NaN      NaN       NaN  ...          16   \n",
       "8322                    NaN      NaN       NaN  ...          05   \n",
       "...                     ...      ...       ...  ...         ...   \n",
       "46534754                NaN      NaN       NaN  ...          49   \n",
       "46535094                NaN      NaN       NaN  ...          49   \n",
       "46535112                NaN      NaN       NaN  ...          49   \n",
       "46535127                NaN      NaN       NaN  ...          49   \n",
       "46535214                NaN      NaN       NaN  ...          16   \n",
       "\n",
       "           capital_social porte opc_simples data_opc_simples data_exc_simples  \\\n",
       "0         9000000000000.0    05           0              NaN              NaN   \n",
       "7799                  0.0    01           6         20150101         20151231   \n",
       "7977          187187000.0    05           0              NaN              NaN   \n",
       "8018        18422500000.0    05           0              NaN              NaN   \n",
       "8322                  0.0    05           0              NaN              NaN   \n",
       "...                   ...   ...         ...              ...              ...   \n",
       "46534754      200000000.0    05           0              NaN              NaN   \n",
       "46535094              0.0    05           0              NaN              NaN   \n",
       "46535112      160000000.0    05           0              NaN              NaN   \n",
       "46535127              0.0    01           7         20070701              NaN   \n",
       "46535214              0.0    05           0              NaN              NaN   \n",
       "\n",
       "         opc_mei sit_especial data_sit_especial inexistente  \n",
       "0              N          NaN               NaN       False  \n",
       "7799           N          NaN               NaN       False  \n",
       "7977           N          NaN               NaN       False  \n",
       "8018           N          NaN               NaN       False  \n",
       "8322           N          NaN               NaN       False  \n",
       "...          ...          ...               ...         ...  \n",
       "46534754       N          NaN               NaN       False  \n",
       "46535094     NaN          NaN               NaN       False  \n",
       "46535112       N          NaN               NaN       False  \n",
       "46535127       N          NaN               NaN       False  \n",
       "46535214       N          NaN               NaN       False  \n",
       "\n",
       "[184066 rows x 39 columns]"
      ]
     },
     "execution_count": 10,
     "metadata": {},
     "output_type": "execute_result"
    }
   ],
   "source": [
    "# Rotula as empresas existentes de fato\n",
    "temp_df = temp_df.assign(inexistente=False)\n",
    "temp_df"
   ]
  },
  {
   "cell_type": "code",
   "execution_count": 11,
   "metadata": {
    "scrolled": true
   },
   "outputs": [
    {
     "name": "stdout",
     "output_type": "stream",
     "text": [
      "531\n",
      "{'39969904000165', '40176302000130', '39994517000189', '40810623000144', '40070911000100', '40202548000139', '40137472000105', '39914786000198', '40650484000139', '41199932000192', '39932075000146', '40494693000130', '40154779000114', '39980450000123', '39930217000136', '40218866000198', '40183324000127', '39961159000108', '39997619000158', '40135169000173', '39949365000100', '40096146000105', '60849197003428', '32859102000234', '39932588000157', '40188996000125', '40138890000117', '40579031000163', '40153839000184', '40600966000184', '41346229000160', '41350302000177', '40575898000140', '39924994000178', '41147080000190', '39973255000176', '40689592000115', '40578598000115', '40128091000160', '40282503000111', '40070888000153', '40975657000199', '39944458000134', '40214895000181', '40996881000167', '40578723000197', '41473548000136', '39970043000135', '41176905000102', '39899084000182', '39943846000109', '40148268000190', '40079934000185', '40086485000100', '40028310000139', '40144067000114', '40189107000144', '40112315000145', '39999512000149', '39870880000192', '40121431000120', '41351866000124', '40137378000156', '40278895000145', '40802015000198', '39893732000193', '40771272000100', '40030712000178', '40107038000182', '41303446000172', '39989019000148', '41099922000185', '40612500000107', '40186445000122', '39944106000189', '40223677000103', '41099919000161', '39869727000145', '18145984000245', '39969651000120', '40018516000188', '39951095000164', '39952657000194', '40651386000116', '40145702000188', '40617249000165', '40022752000178', '41032481000102', '40048171000105', '39879250000189', '39868331000183', '40013586000143', '40411257000150', '41283543000140', '41011975000100', '20604229001467', '39876168000109', '40007806000126', '39949969000149', '40911207000132', '40217285000131', '39968005000148', '40862282000150', '40579281000101', '40093038000170', '39911941000112', '40105400000186', '40829466000119', '40005528000178', '40301617000161', '41014427000126', '40726455000103', '40091493000137', '40050568000131', '41127979000140', '40089789000113', '39970274000149', '40238773000125', '40184306000160', '41247557000109', '40126121000107', '39964988000144', '41140786000120', '39965136000171', '39874214000122', '40044286000121', '40611400000158', '40008431000119', '40080687000137', '11278034000120', '39964896000164', '40100261000106', '39926481000104', '40183135000154', '40113990000199', '40042724000112', '39878115000119', '40084695000151', '40706206000156', '40054997000187', '40177379000124', '40010371000179', '39963196000155', '40176907000120', '88662838001830', '39948533000135', '39993264000129', '40261196000192', '40015370000117', '40769573000107', '40079342000163', '41006372000102', '39872835000177', '41428928000159', '40671140000106', '40071959000132', '39973743000183', '40031103000133', '39869634000110', '39956532000132', '39916463000133', '40202183000142', '40074086000111', '39933747000138', '40050280000167', '40131717000197', '40129514000166', '40309383000107', '03116727000208', '40007849000101', '39998775000133', '39877019000156', '40173086000179', '39906832000107', '39871570000192', '39911421000100', '39916120000179', '41092614000128', '40443906000103', '33234498000297', '33054115001785', '41104982000149', '39973793000160', '40217038000135', '40128800000107', '40995020000164', '40118984000124', '40206900000104', '40028400000120', '40420223000122', '40994579000170', '39929901000106', '41484314000194', '40078878000164', '39915233000150', '40614921000169', '40080803000118', '39864151000123', '40019503000123', '40084525000177', '40394545000144', '40003339000166', '39889331000160', '40991504000135', '40024497000100', '40072009000122', '40488960000167', '40153640000156', '40180250000175', '40090315000191', '40829364000101', '39926081000190', '39909587000191', '40028932000167', '40128400000100', '40012202000178', '39956798000185', '40000319000131', '39980211000173', '39883050000108', '39865200000142', '40007005000160', '39880276000147', '40117068000170', '39899857000120', '39963252000151', '40170903000135', '40102595000100', '40007020000109', '40207010000117', '40371443000103', '40112748000109', '40284352000130', '40035332000126', '40004739000196', '39989161000195', '41339206000128', '40211128000119', '39958153000181', '39929437000140', '40422803000159', '41243479000174', '40038493000173', '39971316000166', '40503137000183', '40152006000107', '40176017000119', '40355474000170', '40093533000180', '40551057000101', '40059612000174', '40096817000120', '40145411000190', '41226844000132', '00000000000000', '40577015000131', '40033660000193', '27252043000382', '40221448000150', '39903407000164', '41272373000107', '41264274000175', '40070695000100', '39880382000120', '40274726000137', '40102330000102', '40057794000144', '39918905000180', '39915349000199', '40010095000149', '41443692000120', '40282450000139', '31612788000544', '40073732000126', '40052335000178', '40540108000191', '40186469000181', '40753414000106', '40070381000108', '40804602000116', '40478311000185', '40131715000106', '40217058000106', '41338319000109', '40927369000169', '39880412000107', '40083467000167', '39907529000129', '40107479000184', '39890636000191', '40566183000121', '40790451000194', '40915003000170', '40061080000100', '40680918000143', '39998060000180', '39889767000159', '40003545000176', '39902232000170', '20557337000373', '39914025000136', '40181144000106', '39885139000103', '40734458000199', '40170454000125', '40354594000153', '40045397000152', '40123173000111', '41366069000110', '40972462000195', '39985737000146', '40021456000152', '40148387000142', '40837037000193', '40039510000197', '39979800000131', '39917983000160', '40154405000107', '40118446000130', '40196915000139', '40081612000170', '40842307000154', '40937830000164', '39957894000148', '40163462000144', '40222908000164', '40864572000133', '40562272000108', '41366511000109', '40147470000105', '39913943000140', '40186073000134', '39963211000165', '40066930000162', '39899073000100', '41050702000167', '40168209000183', '40109889000164', '20042004040605', '40727357000190', '17908758000559', '40888339000190', '40166354000125', '41415503000105', '39994438000178', '39873049000194', '40276809000165', '39943932000103', '39920346000143', '40546770000159', '39972592000149', '40166794000182', '40183581000169', '40023150000135', '40859968000192', '39933215000109', '40184151000161', '40955623000132', '40493167000156', '39990898000128', '39975559000172', '40058126000131', '33115906000291', '40038517000194', '40067569000199', '40209404000104', '40039370000157', '40011177000108', '41075431000102', '40026930000139', '40967524000170', '39922178000125', '40031416000191', '40605308000185', '40162861000190', '40518211000135', '39991759000119', '40312143000153', '40119725000118', '40126828000105', '40682887000160', '40220583000180', '40122597000161', '40089008000190', '40044840000170', '39925028000175', '40161973000127', '40186794000144', '40134014000112', '41280384000120', '40285976000172', '40281366000109', '40104644000144', '40221487000157', '40717719000162', '39877079000179', '26873171000208', '40052146000103', '40482944000167', '40202642000198', '40177188000162', '40053299000167', '40141334000108', '41446301000120', '39957405000158', '40445903000109', '39887390000107', '91157859000598', '40032206000118', '40052671000110', '41383140000173', '40156617000115', '40882996000120', '40149302000140', '40107076000135', '40679267000171', '40190460000144', '40043675000132', '40904017000198', '40574227000165', '40138294000137', '40587023000169', '40022630000181', '39898506000103', '40949899000108', '39864411000160', '41129007000195', '40488544000169', '40062360000132', '41059598000171', '00528924500012', '40067823000159', '40014127000184', '40138904000100', '39920892000184', '40828989000140', '39956884000198', '41391738000104', '40078796000110', '41423710000101', '39972863000166', '40118307000106', '40680570000194', '41049068000142', '39893825000118', '39947375000107', '40103011000111', '40140124000197', '39913250000158', '41009720000103', '40014495000122', '39953142000109', '40644622000177', '39938278000140', '41251658000153', '41213220000180', '39962594000157', '15210046000293', '40040114000180', '39895316000124', '41160849000100', '39959609000128', '40001511000142', '40158231000142', '40172288000104', '40176329000122', '40197646000125', '40596722000175', '40283447000130', '39957356000153', '39981524000146', '40809308000105', '40024032000141', '40004777000149', '40710740000136', '39944789000174', '39947326000166', '40029939000101', '39971328000190', '40182963000178', '41453835000184', '40120343000104', '40884464000122', '39895658000144', '40106249000109', '39925187000170', '40065874000141', '40063590000116', '39875566000100', '39969607000110', '40774300000142', '41129044000101', '40207004000160', '40433031000150', '12159225000417', '40995585000141', '40684162000100', '39924742000149', '40085229000190', '40382057000117', '40111608000108', '39882552000106', '39971963000178', '40417523000152', '40237725000112', '40213341000160', '40836432000151', '39915169000107', '40136325000110', '41128697000168', '40008657000110', '41405314000151', '40797716000186', '40165879000146', '40116269000152', '40199530000125', '39941792000134', '40098799000115', '40262190000130', '39982898000186', '39993580000109', '27376411000213', '40129230000170', '40037432000191', '39869120000165', '41178473000160', '39941971000171', '40048237000167', '40042494000191', '40136433000193', '40585409000131'}\n"
     ]
    }
   ],
   "source": [
    "cnpj_nao_estao_na_base = set(empresas_existentes_df.CNPJ).difference(empresas_df.cnpj)\n",
    "print(len(cnpj_nao_estao_na_base))\n",
    "print(cnpj_nao_estao_na_base)"
   ]
  },
  {
   "cell_type": "code",
   "execution_count": 12,
   "metadata": {},
   "outputs": [
    {
     "data": {
      "text/plain": [
       "'00000000000000'"
      ]
     },
     "execution_count": 12,
     "metadata": {},
     "output_type": "execute_result"
    }
   ],
   "source": [
    "min(cnpj_nao_estao_na_base)"
   ]
  },
  {
   "cell_type": "code",
   "execution_count": 13,
   "metadata": {},
   "outputs": [
    {
     "data": {
      "text/plain": [
       "'00528924500012'"
      ]
     },
     "execution_count": 13,
     "metadata": {},
     "output_type": "execute_result"
    }
   ],
   "source": [
    "cnpj_nao_estao_na_base.remove('00000000000000')\n",
    "min(cnpj_nao_estao_na_base)"
   ]
  },
  {
   "cell_type": "markdown",
   "metadata": {},
   "source": [
    "Consulta no site da RFB para o CNPJ 00528924500012: O número do CNPJ não é válido. Verifique se o mesmo foi digitado corretamente. (010-CON-FORM). Consulta realizada em 16/04/2021 às 19:06:56"
   ]
  },
  {
   "cell_type": "code",
   "execution_count": 14,
   "metadata": {},
   "outputs": [],
   "source": [
    "# Função de validar CNPJ, copiada de https://github.com/rafahlobo/cpfValidator/blob/master/cpf.py\n",
    "def isCnpjValid(cnpj):\n",
    "    \"\"\" If cnpf in the Brazilian format is valid, it returns True, otherwise, it returns False. \"\"\"\n",
    "\n",
    "    # Check if type is str\n",
    "    if not isinstance(cnpj,str):\n",
    "        return False\n",
    "\n",
    "    # Remove some unwanted characters\n",
    "    cpf = re.sub(\"[^0-9]\",'',cnpj)\n",
    "\n",
    "    # Checks if string has 11 characters\n",
    "    if len(cpf) != 14:\n",
    "        return False\n",
    "\n",
    "    sum = 0\n",
    "    weight = [5,4,3,2,9,8,7,6,5,4,3,2]\n",
    "\n",
    "    \"\"\" Calculating the first cpf check digit. \"\"\"\n",
    "    for n in range(12):\n",
    "        value =  int(cpf[n]) * weight[n]\n",
    "        sum = sum + value\n",
    "\n",
    "\n",
    "    verifyingDigit = sum % 11\n",
    "\n",
    "    if verifyingDigit < 2 :\n",
    "        firstVerifyingDigit = 0\n",
    "    else:\n",
    "        firstVerifyingDigit = 11 - verifyingDigit\n",
    "\n",
    "    \"\"\" Calculating the second check digit of cpf. \"\"\"\n",
    "    sum = 0\n",
    "    weight = [6,5,4,3,2,9,8,7,6,5,4,3,2]\n",
    "    for n in range(13):\n",
    "        sum = sum + int(cpf[n]) * weight[n]\n",
    "\n",
    "    verifyingDigit = sum % 11\n",
    "\n",
    "    if verifyingDigit < 2 :\n",
    "        secondVerifyingDigit = 0\n",
    "    else:\n",
    "        secondVerifyingDigit = 11 - verifyingDigit\n",
    "\n",
    "    if cpf[-2:] == \"%s%s\" % (firstVerifyingDigit,secondVerifyingDigit):\n",
    "        return True\n",
    "    return False"
   ]
  },
  {
   "cell_type": "code",
   "execution_count": 15,
   "metadata": {},
   "outputs": [
    {
     "data": {
      "text/plain": [
       "'03116727000208'"
      ]
     },
     "execution_count": 15,
     "metadata": {},
     "output_type": "execute_result"
    }
   ],
   "source": [
    "cnpj_nao_estao_na_base.remove('00528924500012')\n",
    "min(cnpj_nao_estao_na_base)"
   ]
  },
  {
   "cell_type": "code",
   "execution_count": 16,
   "metadata": {},
   "outputs": [
    {
     "name": "stdout",
     "output_type": "stream",
     "text": [
      "528\n",
      "03116727000208\n"
     ]
    }
   ],
   "source": [
    "# Remove os CNPJs inválidos:\n",
    "lista = [cnpj for cnpj in cnpj_nao_estao_na_base if isCnpjValid(cnpj)]\n",
    "print(len(lista))\n",
    "print(min(cnpj_nao_estao_na_base))"
   ]
  },
  {
   "cell_type": "markdown",
   "metadata": {},
   "source": [
    "![alt text](Rotulagem_Empresas_Existentes_e_Inexistentes-CNPJs_novos.png)"
   ]
  },
  {
   "cell_type": "code",
   "execution_count": 17,
   "metadata": {},
   "outputs": [],
   "source": [
    "# Coloca em um mesmo dataframe as empresas rotuladas, existentes e inexistentes\n",
    "empresas_rotuladas_df = pd.concat([empresas_rotuladas_df, temp_df], ignore_index=True)"
   ]
  },
  {
   "cell_type": "markdown",
   "metadata": {},
   "source": [
    "### Análise dos dados:"
   ]
  },
  {
   "cell_type": "code",
   "execution_count": 18,
   "metadata": {},
   "outputs": [
    {
     "name": "stdout",
     "output_type": "stream",
     "text": [
      "<bound method NDFrame.describe of                    cnpj matriz_filial  \\\n",
      "0        00000942000170             1   \n",
      "1        00001102000121             1   \n",
      "2        00005201000181             1   \n",
      "3        00005201000262             2   \n",
      "4        00010501000159             1   \n",
      "...                 ...           ...   \n",
      "1559938  98593668000194             1   \n",
      "1559939  98669997000252             2   \n",
      "1559940  98670235000195             1   \n",
      "1559941  98670656000116             1   \n",
      "1559942  98674195000150             1   \n",
      "\n",
      "                                              razao_social  \\\n",
      "0                                      NILZA LAVISO ARAUJO   \n",
      "1                          JOSE GERALDO PEREIRA SANTANA ME   \n",
      "2        PETRO-ALFA COMERCIO DE DERIVADOS DE PETROLEO LTDA   \n",
      "3        PETRO-ALFA COMERCIO DE DERIVADOS DE PETROLEO LTDA   \n",
      "4        B S PETRO COM E DIST DE DERIVADOS DE PETROLEO ...   \n",
      "...                                                    ...   \n",
      "1559938                    AUTO VIACAO VENANCIO AIRES LTDA   \n",
      "1559939          E. R. AMANTINO INDUSTRIA METALURGICA LTDA   \n",
      "1559940                    MAZZAROLLO - AGRO MAQUINAS LTDA   \n",
      "1559941                            RESTAURANTE FARINA LTDA   \n",
      "1559942                           AEROCLUBE DE VERANOPOLIS   \n",
      "\n",
      "                                        nome_fantasia situacao data_situacao  \\\n",
      "0                                        MIL CARIMBOS       08      20180201   \n",
      "1                                                 NaN       08      20180201   \n",
      "2                                                 NaN       08      20180326   \n",
      "3        PETRO-ALFA COMERCIO DE DERIVADOS DE PETROLEO       08      20180326   \n",
      "4                                           B S PETRO       08      20180326   \n",
      "...                                               ...      ...           ...   \n",
      "1559938                                        VIASUL       02      20040515   \n",
      "1559939                                     MICROVERA       02      20051103   \n",
      "1559940                                           NaN       02      20020720   \n",
      "1559941                                           NaN       02      20050416   \n",
      "1559942                                           NaN       02      20050924   \n",
      "\n",
      "        motivo_situacao nm_cidade_exterior cod_pais nome_pais  ...  \\\n",
      "0                    67                NaN      NaN       NaN  ...   \n",
      "1                    67                NaN      NaN       NaN  ...   \n",
      "2                    15                NaN      NaN       NaN  ...   \n",
      "3                    15                NaN      NaN       NaN  ...   \n",
      "4                    15                NaN      NaN       NaN  ...   \n",
      "...                 ...                ...      ...       ...  ...   \n",
      "1559938              00                NaN      NaN       NaN  ...   \n",
      "1559939              00                NaN      NaN       NaN  ...   \n",
      "1559940              00                NaN      NaN       NaN  ...   \n",
      "1559941              00                NaN      NaN       NaN  ...   \n",
      "1559942              00                NaN      NaN       NaN  ...   \n",
      "\n",
      "        qualif_resp capital_social porte opc_simples data_opc_simples  \\\n",
      "0                50            0.0    01           6         20070701   \n",
      "1                50            0.0    01           6         20070701   \n",
      "2                49            0.0    01           0              NaN   \n",
      "3                49            0.0    01           0              NaN   \n",
      "4                49            0.0    01           0              NaN   \n",
      "...             ...            ...   ...         ...              ...   \n",
      "1559938          49    200000000.0    05           0              NaN   \n",
      "1559939          49            0.0    05           0              NaN   \n",
      "1559940          49    160000000.0    05           0              NaN   \n",
      "1559941          49            0.0    01           7         20070701   \n",
      "1559942          16            0.0    05           0              NaN   \n",
      "\n",
      "        data_exc_simples opc_mei sit_especial data_sit_especial inexistente  \n",
      "0               20180201       N          NaN               NaN        True  \n",
      "1               20180201       N          NaN               NaN        True  \n",
      "2                    NaN       N          NaN               NaN        True  \n",
      "3                    NaN     NaN          NaN               NaN        True  \n",
      "4                    NaN       N          NaN               NaN        True  \n",
      "...                  ...     ...          ...               ...         ...  \n",
      "1559938              NaN       N          NaN               NaN       False  \n",
      "1559939              NaN     NaN          NaN               NaN       False  \n",
      "1559940              NaN       N          NaN               NaN       False  \n",
      "1559941              NaN       N          NaN               NaN       False  \n",
      "1559942              NaN       N          NaN               NaN       False  \n",
      "\n",
      "[1559943 rows x 39 columns]>\n",
      "<class 'pandas.core.frame.DataFrame'>\n",
      "RangeIndex: 1559943 entries, 0 to 1559942\n",
      "Data columns (total 39 columns):\n",
      "cnpj                  1559943 non-null object\n",
      "matriz_filial         1559943 non-null object\n",
      "razao_social          1559943 non-null object\n",
      "nome_fantasia         684671 non-null object\n",
      "situacao              1559943 non-null object\n",
      "data_situacao         1559943 non-null object\n",
      "motivo_situacao       1559943 non-null object\n",
      "nm_cidade_exterior    4 non-null object\n",
      "cod_pais              26 non-null object\n",
      "nome_pais             26 non-null object\n",
      "cod_nat_juridica      1559943 non-null object\n",
      "data_inicio_ativ      1559943 non-null object\n",
      "cnae_fiscal           1559943 non-null object\n",
      "tipo_logradouro       1557957 non-null object\n",
      "logradouro            1559939 non-null object\n",
      "numero                1559851 non-null object\n",
      "complemento           638343 non-null object\n",
      "bairro                1559465 non-null object\n",
      "cep                   1559917 non-null object\n",
      "uf                    1559943 non-null object\n",
      "cod_municipio         1559943 non-null object\n",
      "municipio             1559943 non-null object\n",
      "ddd_1                 1539065 non-null object\n",
      "telefone_1            1539066 non-null object\n",
      "ddd_2                 50651 non-null object\n",
      "telefone_2            50560 non-null object\n",
      "ddd_fax               60027 non-null object\n",
      "num_fax               60005 non-null object\n",
      "email                 948320 non-null object\n",
      "qualif_resp           1559943 non-null object\n",
      "capital_social        1559943 non-null object\n",
      "porte                 1559943 non-null object\n",
      "opc_simples           1559943 non-null object\n",
      "data_opc_simples      1507528 non-null object\n",
      "data_exc_simples      1399627 non-null object\n",
      "opc_mei               1547369 non-null object\n",
      "sit_especial          413 non-null object\n",
      "data_sit_especial     413 non-null object\n",
      "inexistente           1559943 non-null bool\n",
      "dtypes: bool(1), object(38)\n",
      "memory usage: 453.7+ MB\n",
      "None\n"
     ]
    }
   ],
   "source": [
    "print(empresas_rotuladas_df.describe)\n",
    "print(empresas_rotuladas_df.info())"
   ]
  },
  {
   "cell_type": "code",
   "execution_count": 19,
   "metadata": {
    "scrolled": false
   },
   "outputs": [
    {
     "data": {
      "text/plain": [
       "nm_cidade_exterior    99.999744\n",
       "cod_pais              99.998333\n",
       "nome_pais             99.998333\n",
       "sit_especial          99.973525\n",
       "data_sit_especial     99.973525\n",
       "telefone_2            96.758856\n",
       "ddd_2                 96.753022\n",
       "num_fax               96.153385\n",
       "ddd_fax               96.151975\n",
       "complemento           59.079082\n",
       "nome_fantasia         56.109230\n",
       "email                 39.208035\n",
       "data_exc_simples      10.277042\n",
       "data_opc_simples       3.360059\n",
       "ddd_1                  1.338382\n",
       "telefone_1             1.338318\n",
       "opc_mei                0.806055\n",
       "tipo_logradouro        0.127312\n",
       "bairro                 0.030642\n",
       "numero                 0.005898\n",
       "cep                    0.001667\n",
       "logradouro             0.000256\n",
       "razao_social           0.000000\n",
       "data_situacao          0.000000\n",
       "motivo_situacao        0.000000\n",
       "matriz_filial          0.000000\n",
       "situacao               0.000000\n",
       "inexistente            0.000000\n",
       "uf                     0.000000\n",
       "cod_nat_juridica       0.000000\n",
       "data_inicio_ativ       0.000000\n",
       "cnae_fiscal            0.000000\n",
       "cod_municipio          0.000000\n",
       "municipio              0.000000\n",
       "qualif_resp            0.000000\n",
       "capital_social         0.000000\n",
       "porte                  0.000000\n",
       "opc_simples            0.000000\n",
       "cnpj                   0.000000\n",
       "dtype: float64"
      ]
     },
     "execution_count": 19,
     "metadata": {},
     "output_type": "execute_result"
    }
   ],
   "source": [
    "(empresas_rotuladas_df.isnull().sum() / empresas_rotuladas_df.shape[0] * 100).sort_values(ascending=False)"
   ]
  },
  {
   "cell_type": "code",
   "execution_count": 20,
   "metadata": {},
   "outputs": [
    {
     "data": {
      "text/plain": [
       "True     1375877\n",
       "False     184066\n",
       "Name: inexistente, dtype: int64"
      ]
     },
     "execution_count": 20,
     "metadata": {},
     "output_type": "execute_result"
    }
   ],
   "source": [
    "empresas_rotuladas_df.inexistente.value_counts()"
   ]
  },
  {
   "cell_type": "markdown",
   "metadata": {},
   "source": [
    "Vamos remover colunas com alto índice de nulos (>50%, exceto nome fantasia) e colunas que não precisaremos:"
   ]
  },
  {
   "cell_type": "code",
   "execution_count": 21,
   "metadata": {},
   "outputs": [],
   "source": [
    "empresas_rotuladas_df = empresas_rotuladas_df.drop(columns=['nm_cidade_exterior', 'cod_pais', 'nome_pais', 'sit_especial', 'data_sit_especial', 'telefone_2', 'ddd_2', 'num_fax', 'ddd_fax', 'data_exc_simples', 'data_opc_simples', 'cod_municipio'])"
   ]
  },
  {
   "cell_type": "markdown",
   "metadata": {},
   "source": [
    "### Preparação / tratamento de algumas colunas:"
   ]
  },
  {
   "cell_type": "markdown",
   "metadata": {},
   "source": [
    "##### Coluna capital social:"
   ]
  },
  {
   "cell_type": "code",
   "execution_count": 22,
   "metadata": {},
   "outputs": [
    {
     "data": {
      "text/plain": [
       "<bound method NDFrame.describe of 0           9000000000000.0\n",
       "1                       0.0\n",
       "2                       0.0\n",
       "3                       0.0\n",
       "4                       0.0\n",
       "                 ...       \n",
       "46535798                0.0\n",
       "46535799                0.0\n",
       "46535800                0.0\n",
       "46535801                0.0\n",
       "46535802                0.0\n",
       "Name: capital_social, Length: 46535803, dtype: object>"
      ]
     },
     "execution_count": 22,
     "metadata": {},
     "output_type": "execute_result"
    }
   ],
   "source": [
    "empresas_df.capital_social.describe"
   ]
  },
  {
   "cell_type": "markdown",
   "metadata": {},
   "source": [
    "Conferindo o capital social do CNPJ da linha 0 pelo site da Receita Federal:\n",
    "![alt text](Capital_Social_BB.png \"Title\")\n",
    "CNPJ: 00000000000191\n",
    "Site: https://servicos.receita.fazenda.gov.br/servicos/cnpjreva/Cnpjreva_Solicitacao.asp"
   ]
  },
  {
   "cell_type": "markdown",
   "metadata": {},
   "source": [
    "Percebe-se que o capital social dessa linha no dataframe está com o valor 9000000000000.0. Precisamos fazer divisão por 100 para corrigir. Vamos fazer essa correção no dataframe das empresas rotuladas:"
   ]
  },
  {
   "cell_type": "code",
   "execution_count": 23,
   "metadata": {},
   "outputs": [],
   "source": [
    "# Fazendo a correção:\n",
    "empresas_rotuladas_df.capital_social = empresas_rotuladas_df.capital_social.astype('float')/100"
   ]
  },
  {
   "cell_type": "code",
   "execution_count": 24,
   "metadata": {},
   "outputs": [
    {
     "data": {
      "text/plain": [
       "1.000000e+00    806974\n",
       "5.000000e+03    123989\n",
       "1.000000e+03    100302\n",
       "1.000000e+04     64584\n",
       "2.000000e+03     51084\n",
       "                 ...  \n",
       "4.793000e+04         1\n",
       "3.050482e+08         1\n",
       "7.668000e+05         1\n",
       "1.226832e+07         1\n",
       "1.664192e+08         1\n",
       "Name: capital_social, Length: 14396, dtype: int64"
      ]
     },
     "execution_count": 24,
     "metadata": {},
     "output_type": "execute_result"
    }
   ],
   "source": [
    "empresas_rotuladas_df.capital_social.value_counts()"
   ]
  },
  {
   "cell_type": "markdown",
   "metadata": {},
   "source": [
    "##### Coluna opc_simples:"
   ]
  },
  {
   "cell_type": "markdown",
   "metadata": {},
   "source": [
    "Pelo dicionário de dados, os valores são: 0 OU BRANCO - NÃO OPTANTE; 5 E 7 – OPTANTESPELO SIMPLES; 6 E 8 – EXCLUÍDO DO SIMPLES. Podemos reduzir para 0 - NÃO OPTANTE; 5 - OPTANTE; 6 - EXCLUÍDO"
   ]
  },
  {
   "cell_type": "code",
   "execution_count": 25,
   "metadata": {},
   "outputs": [
    {
     "name": "stdout",
     "output_type": "stream",
     "text": [
      "6    1395043\n",
      "5      98319\n",
      "0      52415\n",
      "7       9582\n",
      "8       4584\n",
      "Name: opc_simples, dtype: int64\n"
     ]
    }
   ],
   "source": [
    "print(empresas_rotuladas_df.opc_simples.value_counts())"
   ]
  },
  {
   "cell_type": "markdown",
   "metadata": {},
   "source": [
    "Lembrando que já verificamos anteriormente que a coluna opc_simmples não possui nulos."
   ]
  },
  {
   "cell_type": "code",
   "execution_count": 26,
   "metadata": {},
   "outputs": [
    {
     "name": "stdout",
     "output_type": "stream",
     "text": [
      "6    1395043\n",
      "5      98319\n",
      "0      52415\n",
      "5       9582\n",
      "6       4584\n",
      "Name: opc_simples, dtype: int64\n"
     ]
    }
   ],
   "source": [
    "empresas_rotuladas_df.opc_simples = np.where(empresas_rotuladas_df.opc_simples == '7', 5, \n",
    "        np.where(empresas_rotuladas_df.opc_simples == '8', 6, empresas_rotuladas_df.opc_simples))\n",
    "print(empresas_rotuladas_df.opc_simples.value_counts())"
   ]
  },
  {
   "cell_type": "code",
   "execution_count": 27,
   "metadata": {},
   "outputs": [],
   "source": [
    "# Corrigindo valores iguais com tipos diferentes:\n",
    "empresas_rotuladas_df.opc_simples = empresas_rotuladas_df.opc_simples.astype(np.uint8)"
   ]
  },
  {
   "cell_type": "code",
   "execution_count": 28,
   "metadata": {},
   "outputs": [
    {
     "name": "stdout",
     "output_type": "stream",
     "text": [
      "6    1399627\n",
      "5     107901\n",
      "0      52415\n",
      "Name: opc_simples, dtype: int64\n"
     ]
    }
   ],
   "source": [
    "print(empresas_rotuladas_df.opc_simples.value_counts())"
   ]
  },
  {
   "cell_type": "markdown",
   "metadata": {},
   "source": [
    "##### Coluna opc_mei:"
   ]
  },
  {
   "cell_type": "markdown",
   "metadata": {},
   "source": [
    "Pelo dicionário de dados, os valores são: S-SIM; N-NÃO; OUTROS (BRANCO, ETC) Podemos reduzir para uma variável booleana 1-OPÇÃO PELO MEI; 0-NÃO OPÇÃO PELO MEI"
   ]
  },
  {
   "cell_type": "code",
   "execution_count": 29,
   "metadata": {},
   "outputs": [
    {
     "name": "stdout",
     "output_type": "stream",
     "text": [
      "N    1520470\n",
      "S      26899\n",
      "Name: opc_mei, dtype: int64\n"
     ]
    }
   ],
   "source": [
    "print(empresas_rotuladas_df.opc_mei.value_counts())"
   ]
  },
  {
   "cell_type": "code",
   "execution_count": 30,
   "metadata": {},
   "outputs": [
    {
     "name": "stdout",
     "output_type": "stream",
     "text": [
      "False    1533044\n",
      "True       26899\n",
      "Name: opc_mei, dtype: int64\n"
     ]
    }
   ],
   "source": [
    "empresas_rotuladas_df.opc_mei = np.where(empresas_rotuladas_df.opc_mei == 'S', True, False).astype('bool')\n",
    "print(empresas_rotuladas_df.opc_mei.value_counts())"
   ]
  },
  {
   "cell_type": "markdown",
   "metadata": {},
   "source": [
    "A diferença do resultado de False (de 1520470 para 1533044) é devido aos valores OUTROS."
   ]
  },
  {
   "cell_type": "markdown",
   "metadata": {},
   "source": [
    "##### Coluna data_inicio_ativ:"
   ]
  },
  {
   "cell_type": "markdown",
   "metadata": {},
   "source": [
    "Conversão da data_inicio_ativ em anos_de_atividade_empresa, com identificação de erros:"
   ]
  },
  {
   "cell_type": "code",
   "execution_count": 31,
   "metadata": {},
   "outputs": [
    {
     "name": "stdout",
     "output_type": "stream",
     "text": [
      "18911023\n",
      "20201120\n"
     ]
    }
   ],
   "source": [
    "# Conhecendo a coluna:\n",
    "print(empresas_rotuladas_df.data_inicio_ativ.min())\n",
    "print(empresas_rotuladas_df.data_inicio_ativ.max())"
   ]
  },
  {
   "cell_type": "code",
   "execution_count": 32,
   "metadata": {
    "scrolled": true
   },
   "outputs": [
    {
     "data": {
      "text/html": [
       "<div>\n",
       "<style scoped>\n",
       "    .dataframe tbody tr th:only-of-type {\n",
       "        vertical-align: middle;\n",
       "    }\n",
       "\n",
       "    .dataframe tbody tr th {\n",
       "        vertical-align: top;\n",
       "    }\n",
       "\n",
       "    .dataframe thead th {\n",
       "        text-align: right;\n",
       "    }\n",
       "</style>\n",
       "<table border=\"1\" class=\"dataframe\">\n",
       "  <thead>\n",
       "    <tr style=\"text-align: right;\">\n",
       "      <th></th>\n",
       "      <th>cnpj</th>\n",
       "      <th>matriz_filial</th>\n",
       "      <th>razao_social</th>\n",
       "      <th>nome_fantasia</th>\n",
       "      <th>situacao</th>\n",
       "      <th>data_situacao</th>\n",
       "      <th>motivo_situacao</th>\n",
       "      <th>cod_nat_juridica</th>\n",
       "      <th>data_inicio_ativ</th>\n",
       "      <th>cnae_fiscal</th>\n",
       "      <th>...</th>\n",
       "      <th>municipio</th>\n",
       "      <th>ddd_1</th>\n",
       "      <th>telefone_1</th>\n",
       "      <th>email</th>\n",
       "      <th>qualif_resp</th>\n",
       "      <th>capital_social</th>\n",
       "      <th>porte</th>\n",
       "      <th>opc_simples</th>\n",
       "      <th>opc_mei</th>\n",
       "      <th>inexistente</th>\n",
       "    </tr>\n",
       "  </thead>\n",
       "  <tbody>\n",
       "    <tr>\n",
       "      <td>1476006</td>\n",
       "      <td>21255567000189</td>\n",
       "      <td>1</td>\n",
       "      <td>COMPANHIA TECIDOS SANTANENSE</td>\n",
       "      <td>NaN</td>\n",
       "      <td>02</td>\n",
       "      <td>20051103</td>\n",
       "      <td>00</td>\n",
       "      <td>2046</td>\n",
       "      <td>18911023</td>\n",
       "      <td>1321900</td>\n",
       "      <td>...</td>\n",
       "      <td>MONTES CLAROS</td>\n",
       "      <td>38</td>\n",
       "      <td>32151358</td>\n",
       "      <td>NaN</td>\n",
       "      <td>16</td>\n",
       "      <td>150000000.0</td>\n",
       "      <td>05</td>\n",
       "      <td>0</td>\n",
       "      <td>False</td>\n",
       "      <td>False</td>\n",
       "    </tr>\n",
       "  </tbody>\n",
       "</table>\n",
       "<p>1 rows × 27 columns</p>\n",
       "</div>"
      ],
      "text/plain": [
       "                   cnpj matriz_filial                  razao_social  \\\n",
       "1476006  21255567000189             1  COMPANHIA TECIDOS SANTANENSE   \n",
       "\n",
       "        nome_fantasia situacao data_situacao motivo_situacao cod_nat_juridica  \\\n",
       "1476006           NaN       02      20051103              00             2046   \n",
       "\n",
       "        data_inicio_ativ cnae_fiscal  ...      municipio ddd_1 telefone_1  \\\n",
       "1476006         18911023     1321900  ...  MONTES CLAROS    38   32151358   \n",
       "\n",
       "        email qualif_resp capital_social porte opc_simples opc_mei inexistente  \n",
       "1476006   NaN          16    150000000.0    05           0   False       False  \n",
       "\n",
       "[1 rows x 27 columns]"
      ]
     },
     "execution_count": 32,
     "metadata": {},
     "output_type": "execute_result"
    }
   ],
   "source": [
    "# Identificando o CNPJ com a data de 1891:\n",
    "empresas_rotuladas_df[empresas_rotuladas_df.data_inicio_ativ == '18911023']"
   ]
  },
  {
   "cell_type": "markdown",
   "metadata": {},
   "source": [
    "Via consulta na internet, observamos uma empresa que realmente existe: http://www.santanense.com.br/empresa.html. Tem data de abertura em 23/10/1891. CNPJ 21.255.567/0001-89. <br> Ou seja, podemos continuar com a conversão."
   ]
  },
  {
   "cell_type": "code",
   "execution_count": 33,
   "metadata": {},
   "outputs": [
    {
     "name": "stdout",
     "output_type": "stream",
     "text": [
      "19451019\n",
      "20201120\n"
     ]
    }
   ],
   "source": [
    "# Analisando a coluna data_situacao, que poderá ser usada \n",
    "# no cálculo dos 'anos_de_atividade_empresa'\n",
    "print(empresas_rotuladas_df.data_situacao.min())\n",
    "print(empresas_rotuladas_df.data_situacao.max())"
   ]
  },
  {
   "cell_type": "markdown",
   "metadata": {},
   "source": [
    "As datas acima não apresentam anormalidade."
   ]
  },
  {
   "cell_type": "code",
   "execution_count": 34,
   "metadata": {},
   "outputs": [],
   "source": [
    "# Cálculo do tempo de atividade da empresa (Em anos). \n",
    "# Feito tomando como data referência o dia 01/04/2021, mas caso a empresa esteja na situação 08 (Baixada),\n",
    "# a data referência passa a ser a data_situacao.\n",
    "empresas_rotuladas_df[\"anos_de_atividade_empresa\"] = round((np.where(empresas_rotuladas_df.situacao=='08', \n",
    "empresas_rotuladas_df.data_situacao.astype(int), 20210401) - empresas_rotuladas_df.data_inicio_ativ.astype(int) ) / 10000)\n",
    ".astype(np.uint16)"
   ]
  },
  {
   "cell_type": "markdown",
   "metadata": {},
   "source": [
    "Verificando o resultado da conversão:"
   ]
  },
  {
   "cell_type": "code",
   "execution_count": 35,
   "metadata": {},
   "outputs": [
    {
     "name": "stdout",
     "output_type": "stream",
     "text": [
      "5      296196\n",
      "6      293300\n",
      "7      281736\n",
      "4      276570\n",
      "8      233096\n",
      "        ...  \n",
      "94          1\n",
      "92          1\n",
      "78          1\n",
      "77          1\n",
      "130         1\n",
      "Name: anos_de_atividade_empresa, Length: 93, dtype: int64\n",
      "0\n",
      "130\n"
     ]
    }
   ],
   "source": [
    "print(empresas_rotuladas_df.anos_de_atividade_empresa.value_counts())\n",
    "print(empresas_rotuladas_df.anos_de_atividade_empresa.min())\n",
    "print(empresas_rotuladas_df.anos_de_atividade_empresa.max())"
   ]
  },
  {
   "cell_type": "code",
   "execution_count": 36,
   "metadata": {},
   "outputs": [
    {
     "data": {
      "text/plain": [
       "<matplotlib.axes._subplots.AxesSubplot at 0x19856ddf248>"
      ]
     },
     "execution_count": 36,
     "metadata": {},
     "output_type": "execute_result"
    }
   ],
   "source": [
    "empresas_rotuladas_df.anos_de_atividade_empresa.plot.hist(bins=10)"
   ]
  },
  {
   "cell_type": "code",
   "execution_count": 37,
   "metadata": {},
   "outputs": [
    {
     "data": {
      "text/plain": [
       "count    1.559943e+06\n",
       "mean     6.973359e+00\n",
       "std      5.267015e+00\n",
       "min      0.000000e+00\n",
       "25%      5.000000e+00\n",
       "50%      6.000000e+00\n",
       "75%      7.000000e+00\n",
       "max      1.300000e+02\n",
       "Name: anos_de_atividade_empresa, dtype: float64"
      ]
     },
     "execution_count": 37,
     "metadata": {},
     "output_type": "execute_result"
    }
   ],
   "source": [
    "empresas_rotuladas_df.anos_de_atividade_empresa.describe()"
   ]
  },
  {
   "cell_type": "code",
   "execution_count": 38,
   "metadata": {},
   "outputs": [
    {
     "data": {
      "text/plain": [
       "<matplotlib.axes._subplots.AxesSubplot at 0x194b6ee51c8>"
      ]
     },
     "execution_count": 38,
     "metadata": {},
     "output_type": "execute_result"
    },
    {
     "data": {
      "image/png": "[encoded data removed]",
      "text/plain": [
       "<Figure size 432x288 with 1 Axes>"
      ]
     },
     "metadata": {
      "needs_background": "light"
     },
     "output_type": "display_data"
    }
   ],
   "source": [
    "empresas_rotuladas_df.boxplot(column = ['anos_de_atividade_empresa'])"
   ]
  },
  {
   "cell_type": "markdown",
   "metadata": {},
   "source": [
    "Não vamos tratar outliers agora."
   ]
  },
  {
   "cell_type": "markdown",
   "metadata": {},
   "source": [
    "Interessante observar empresas que não ficaram nem um ano abertas:"
   ]
  },
  {
   "cell_type": "code",
   "execution_count": 39,
   "metadata": {},
   "outputs": [
    {
     "data": {
      "text/plain": [
       "False    602\n",
       "True      97\n",
       "Name: inexistente, dtype: int64"
      ]
     },
     "execution_count": 39,
     "metadata": {},
     "output_type": "execute_result"
    }
   ],
   "source": [
    "empresas_rotuladas_df[empresas_rotuladas_df.anos_de_atividade_empresa==0].inexistente.value_counts()"
   ]
  },
  {
   "cell_type": "markdown",
   "metadata": {},
   "source": [
    "##### Coluna ddd_1: "
   ]
  },
  {
   "cell_type": "markdown",
   "metadata": {},
   "source": [
    "Tem grande índice de nulos. Não vamos preenchê-los da forma tradicional, como com a moda. Queremos aqui justamente identificar aspectos comportamentais, nesse caso o comportamento de não preenchimento do DDD. Então, vamos preencher os nulos com 'NI', de não informado."
   ]
  },
  {
   "cell_type": "code",
   "execution_count": 40,
   "metadata": {},
   "outputs": [],
   "source": [
    "# Colocando nos DDD_1 nulos o valor 'NI'\n",
    "empresas_rotuladas_df[\"ddd_1\"].fillna('NI', inplace=True)"
   ]
  },
  {
   "cell_type": "markdown",
   "metadata": {},
   "source": [
    "### Feature engineering"
   ]
  },
  {
   "cell_type": "markdown",
   "metadata": {},
   "source": [
    "##### Identificação de números de telefone inválidos - Nova coluna booleana"
   ]
  },
  {
   "cell_type": "markdown",
   "metadata": {},
   "source": [
    "Vamos considerar como comportamento desviante o ato de uma pessoa informar à Receita Federal um número de telefone inválido para cadastro de uma empresa. Estamos assim considerando pois o que se espera (comportamento esperado) é a informação de um número de telefone válido. Essa consideração nos permite fazer a análise dos números de telefone da base de empresas, para identificação de números provavelmente inválidos. Ademais, a formação de números de telefone é uma regra publicamente conhecida. A seguir, será criada uma função para identificar esses números de telefones inválidos, e será criada uma variável booleana (telefone_provavelmente_invalido) para marcar as empresas que estejam com números assim considerados."
   ]
  },
  {
   "cell_type": "code",
   "execution_count": 41,
   "metadata": {},
   "outputs": [
    {
     "data": {
      "text/plain": [
       "8.0    1528886\n",
       "7.0       5253\n",
       "1.0       4827\n",
       "6.0         60\n",
       "4.0         27\n",
       "5.0          7\n",
       "3.0          4\n",
       "2.0          2\n",
       "Name: telefone_1, dtype: int64"
      ]
     },
     "execution_count": 41,
     "metadata": {},
     "output_type": "execute_result"
    }
   ],
   "source": [
    "# Analisando a situação dos números de telefone presentes na base:\n",
    "empresas_rotuladas_df.telefone_1.str.len().value_counts()"
   ]
  },
  {
   "cell_type": "markdown",
   "metadata": {},
   "source": [
    "Criação da função e marcação das linhas com telefone provavelmente inválidos:"
   ]
  },
  {
   "cell_type": "code",
   "execution_count": 42,
   "metadata": {},
   "outputs": [],
   "source": [
    "def func_telefone_provavelmente_invalido(tel):\n",
    "    # Sobre os telefones nulos, é um comportamento diferente (não preenchimento). \n",
    "    # Não precisamos considerá-los nessa análise, pois na análise da coluna DDD já \n",
    "    # classificamos os nulos como NI. Fazer o mesmo com a coluna telefone seria\n",
    "    # praticamente uma redundância.\n",
    "    if pd.isnull(tel):\n",
    "        return False    \n",
    "   \n",
    "    tel = str(tel)\n",
    "   \n",
    "    # Verifica se o número tem 6 ou menos dígitos. Obs: estamos considerando que os \n",
    "    # números com 7 dígitos não são comportamento desviante, foram apenas erros de\n",
    "    # preenchimento.\n",
    "    if len(tel) <= 6:\n",
    "        return True\n",
    "    \n",
    "    # Verifica se o telefone é formado de um só número (ex: 11111111 ou 99999999).\n",
    "    # Isso pega também números com menos de 8 dígitos (como 11111)\n",
    "    if len(set(tel)) == 1:\n",
    "        return True    \n",
    "    \n",
    "    # Calcula a frequência de cada dígito no número de telefone\n",
    "    freq = dict.fromkeys(tel, 0)\n",
    "    for digito in tel:\n",
    "        freq[digito] += 1\n",
    "        if freq[digito] >= 7:\n",
    "            # Se tem 1 dígito com 7 repetições, já finaliza a função, chance alta de\n",
    "            # ser telefone inválido (como 922222222)\n",
    "            return True\n",
    "        \n",
    "    # Verifica se temos uma sequência de números, como 12345678. Para simplificar,\n",
    "    # vamos considerar existência apenas de números.\n",
    "    if tel in '01234567890' or tel in '09876543210':\n",
    "        return True\n",
    "    \n",
    "    # Verifica se o telefone está no padrão XYXYXYXY\n",
    "    par_final = tel[-2:]\n",
    "    ocorrencias_par_final = tel.count(par_final)\n",
    "    if ocorrencias_par_final >= 4:\n",
    "        return True\n",
    "    \n",
    "    # Verifica se o telefone está no padrão XXXXYYYY\n",
    "    if len(set(tel[-4:])) == 1 and len(set(tel[-8:-4])) == 1:\n",
    "        return True\n",
    "    \n",
    "    return False\n",
    "\n",
    "empresas_rotuladas_df[\"telefone_provavelmente_invalido\"] = empresas_rotuladas_df[\"telefone_1\"].map(func_telefone_provavelmente_invalido)"
   ]
  },
  {
   "cell_type": "markdown",
   "metadata": {},
   "source": [
    "Verificação dos resultados:"
   ]
  },
  {
   "cell_type": "code",
   "execution_count": 43,
   "metadata": {},
   "outputs": [
    {
     "data": {
      "text/html": [
       "<div>\n",
       "<style scoped>\n",
       "    .dataframe tbody tr th:only-of-type {\n",
       "        vertical-align: middle;\n",
       "    }\n",
       "\n",
       "    .dataframe tbody tr th {\n",
       "        vertical-align: top;\n",
       "    }\n",
       "\n",
       "    .dataframe thead th {\n",
       "        text-align: right;\n",
       "    }\n",
       "</style>\n",
       "<table border=\"1\" class=\"dataframe\">\n",
       "  <thead>\n",
       "    <tr style=\"text-align: right;\">\n",
       "      <th></th>\n",
       "      <th>cnpj</th>\n",
       "      <th>razao_social</th>\n",
       "      <th>uf</th>\n",
       "      <th>municipio</th>\n",
       "      <th>ddd_1</th>\n",
       "      <th>telefone_1</th>\n",
       "      <th>telefone_provavelmente_invalido</th>\n",
       "    </tr>\n",
       "  </thead>\n",
       "  <tbody>\n",
       "    <tr>\n",
       "      <td>545</td>\n",
       "      <td>01268677000178</td>\n",
       "      <td>ANTONIA GOUBETTI POLONIO</td>\n",
       "      <td>PR</td>\n",
       "      <td>TERRA RICA</td>\n",
       "      <td>0441</td>\n",
       "      <td>1284</td>\n",
       "      <td>True</td>\n",
       "    </tr>\n",
       "    <tr>\n",
       "      <td>818</td>\n",
       "      <td>01777084000137</td>\n",
       "      <td>ADEMIR B DE LIMA</td>\n",
       "      <td>PR</td>\n",
       "      <td>ARAUCARIA</td>\n",
       "      <td>41</td>\n",
       "      <td>22222222</td>\n",
       "      <td>True</td>\n",
       "    </tr>\n",
       "    <tr>\n",
       "      <td>948</td>\n",
       "      <td>02090634000108</td>\n",
       "      <td>FRANCISCO GOMES DO NASCIMENTO 07101651372</td>\n",
       "      <td>CE</td>\n",
       "      <td>CAMOCIM</td>\n",
       "      <td>88</td>\n",
       "      <td>99999999</td>\n",
       "      <td>True</td>\n",
       "    </tr>\n",
       "    <tr>\n",
       "      <td>1159</td>\n",
       "      <td>02451259000184</td>\n",
       "      <td>ITAMAR ROSA DE OLIVEIRA</td>\n",
       "      <td>MS</td>\n",
       "      <td>ITAQUIRAI</td>\n",
       "      <td>0674</td>\n",
       "      <td>612454</td>\n",
       "      <td>True</td>\n",
       "    </tr>\n",
       "    <tr>\n",
       "      <td>1544</td>\n",
       "      <td>03230617000191</td>\n",
       "      <td>GALETERIA CONFRARIA DO RADICCI LTDA</td>\n",
       "      <td>RS</td>\n",
       "      <td>RIO GRANDE</td>\n",
       "      <td>0532</td>\n",
       "      <td>302040</td>\n",
       "      <td>True</td>\n",
       "    </tr>\n",
       "    <tr>\n",
       "      <td>...</td>\n",
       "      <td>...</td>\n",
       "      <td>...</td>\n",
       "      <td>...</td>\n",
       "      <td>...</td>\n",
       "      <td>...</td>\n",
       "      <td>...</td>\n",
       "      <td>...</td>\n",
       "    </tr>\n",
       "    <tr>\n",
       "      <td>1559132</td>\n",
       "      <td>95402665000138</td>\n",
       "      <td>COVERES CONSERVACAO DE IMOVEIS LTDA</td>\n",
       "      <td>PR</td>\n",
       "      <td>COLOMBO</td>\n",
       "      <td>041</td>\n",
       "      <td>225495</td>\n",
       "      <td>True</td>\n",
       "    </tr>\n",
       "    <tr>\n",
       "      <td>1559157</td>\n",
       "      <td>95424321001363</td>\n",
       "      <td>J MALUCELLI EQUIPAMENTOS S/A</td>\n",
       "      <td>SC</td>\n",
       "      <td>SAO JOSE</td>\n",
       "      <td>48</td>\n",
       "      <td>30000000</td>\n",
       "      <td>True</td>\n",
       "    </tr>\n",
       "    <tr>\n",
       "      <td>1559405</td>\n",
       "      <td>96601968000142</td>\n",
       "      <td>MEND COMERCIO E SERVICOS ELETRONICOS LTDA</td>\n",
       "      <td>SP</td>\n",
       "      <td>SAO PAULO</td>\n",
       "      <td>11</td>\n",
       "      <td>33333339</td>\n",
       "      <td>True</td>\n",
       "    </tr>\n",
       "    <tr>\n",
       "      <td>1559580</td>\n",
       "      <td>97316764000122</td>\n",
       "      <td>R K DE SOUZA</td>\n",
       "      <td>RS</td>\n",
       "      <td>SANTO ANTONIO DA PATRULHA</td>\n",
       "      <td>81</td>\n",
       "      <td>790850</td>\n",
       "      <td>True</td>\n",
       "    </tr>\n",
       "    <tr>\n",
       "      <td>1559704</td>\n",
       "      <td>97521125000107</td>\n",
       "      <td>INITIAL TECNOLOGIA LTDA</td>\n",
       "      <td>SP</td>\n",
       "      <td>SAO PAULO</td>\n",
       "      <td>11</td>\n",
       "      <td>99999999</td>\n",
       "      <td>True</td>\n",
       "    </tr>\n",
       "  </tbody>\n",
       "</table>\n",
       "<p>8448 rows × 7 columns</p>\n",
       "</div>"
      ],
      "text/plain": [
       "                   cnpj                               razao_social  uf  \\\n",
       "545      01268677000178                   ANTONIA GOUBETTI POLONIO  PR   \n",
       "818      01777084000137                           ADEMIR B DE LIMA  PR   \n",
       "948      02090634000108  FRANCISCO GOMES DO NASCIMENTO 07101651372  CE   \n",
       "1159     02451259000184                    ITAMAR ROSA DE OLIVEIRA  MS   \n",
       "1544     03230617000191        GALETERIA CONFRARIA DO RADICCI LTDA  RS   \n",
       "...                 ...                                        ...  ..   \n",
       "1559132  95402665000138        COVERES CONSERVACAO DE IMOVEIS LTDA  PR   \n",
       "1559157  95424321001363               J MALUCELLI EQUIPAMENTOS S/A  SC   \n",
       "1559405  96601968000142  MEND COMERCIO E SERVICOS ELETRONICOS LTDA  SP   \n",
       "1559580  97316764000122                               R K DE SOUZA  RS   \n",
       "1559704  97521125000107                    INITIAL TECNOLOGIA LTDA  SP   \n",
       "\n",
       "                         municipio ddd_1 telefone_1  \\\n",
       "545                     TERRA RICA  0441       1284   \n",
       "818                      ARAUCARIA    41   22222222   \n",
       "948                        CAMOCIM    88   99999999   \n",
       "1159                     ITAQUIRAI  0674     612454   \n",
       "1544                    RIO GRANDE  0532     302040   \n",
       "...                            ...   ...        ...   \n",
       "1559132                    COLOMBO   041     225495   \n",
       "1559157                   SAO JOSE    48   30000000   \n",
       "1559405                  SAO PAULO    11   33333339   \n",
       "1559580  SANTO ANTONIO DA PATRULHA    81     790850   \n",
       "1559704                  SAO PAULO    11   99999999   \n",
       "\n",
       "         telefone_provavelmente_invalido  \n",
       "545                                 True  \n",
       "818                                 True  \n",
       "948                                 True  \n",
       "1159                                True  \n",
       "1544                                True  \n",
       "...                                  ...  \n",
       "1559132                             True  \n",
       "1559157                             True  \n",
       "1559405                             True  \n",
       "1559580                             True  \n",
       "1559704                             True  \n",
       "\n",
       "[8448 rows x 7 columns]"
      ]
     },
     "execution_count": 43,
     "metadata": {},
     "output_type": "execute_result"
    }
   ],
   "source": [
    "# Verifica alguns resultados:\n",
    "tel_invalidos_df = empresas_rotuladas_df.loc[empresas_rotuladas_df[\"telefone_provavelmente_invalido\"] == True, ['cnpj', 'razao_social', 'uf', 'municipio', 'ddd_1', 'telefone_1', 'telefone_provavelmente_invalido']]\n",
    "tel_invalidos_df"
   ]
  },
  {
   "cell_type": "markdown",
   "metadata": {},
   "source": [
    "Verificamos que existem 8448 empresas com telefones provavalmente inválidos."
   ]
  },
  {
   "cell_type": "code",
   "execution_count": 44,
   "metadata": {},
   "outputs": [
    {
     "data": {
      "text/plain": [
       "0           4820\n",
       "00000000     976\n",
       "99999999     669\n",
       "11111111     370\n",
       "22222222     331\n",
       "            ... \n",
       "86888888       1\n",
       "35333333       1\n",
       "87777777       1\n",
       "351556         1\n",
       "99499999       1\n",
       "Name: telefone_1, Length: 277, dtype: int64"
      ]
     },
     "execution_count": 44,
     "metadata": {},
     "output_type": "execute_result"
    }
   ],
   "source": [
    "tel_invalidos_df.telefone_1.value_counts()"
   ]
  },
  {
   "cell_type": "code",
   "execution_count": 45,
   "metadata": {},
   "outputs": [
    {
     "data": {
      "text/html": [
       "<div>\n",
       "<style scoped>\n",
       "    .dataframe tbody tr th:only-of-type {\n",
       "        vertical-align: middle;\n",
       "    }\n",
       "\n",
       "    .dataframe tbody tr th {\n",
       "        vertical-align: top;\n",
       "    }\n",
       "\n",
       "    .dataframe thead th {\n",
       "        text-align: right;\n",
       "    }\n",
       "</style>\n",
       "<table border=\"1\" class=\"dataframe\">\n",
       "  <thead>\n",
       "    <tr style=\"text-align: right;\">\n",
       "      <th></th>\n",
       "      <th>cnpj</th>\n",
       "      <th>razao_social</th>\n",
       "      <th>uf</th>\n",
       "      <th>municipio</th>\n",
       "      <th>ddd_1</th>\n",
       "      <th>telefone_1</th>\n",
       "      <th>telefone_provavelmente_invalido</th>\n",
       "    </tr>\n",
       "  </thead>\n",
       "  <tbody>\n",
       "    <tr>\n",
       "      <td>2</td>\n",
       "      <td>00005201000181</td>\n",
       "      <td>PETRO-ALFA COMERCIO DE DERIVADOS DE PETROLEO LTDA</td>\n",
       "      <td>SP</td>\n",
       "      <td>SAO PAULO</td>\n",
       "      <td>11</td>\n",
       "      <td>81651700</td>\n",
       "      <td>False</td>\n",
       "    </tr>\n",
       "    <tr>\n",
       "      <td>3</td>\n",
       "      <td>00005201000262</td>\n",
       "      <td>PETRO-ALFA COMERCIO DE DERIVADOS DE PETROLEO LTDA</td>\n",
       "      <td>SP</td>\n",
       "      <td>MONTE ALEGRE DO SUL</td>\n",
       "      <td>11</td>\n",
       "      <td>33380127</td>\n",
       "      <td>False</td>\n",
       "    </tr>\n",
       "    <tr>\n",
       "      <td>5</td>\n",
       "      <td>00014369000153</td>\n",
       "      <td>LEONIDES PEREIRA</td>\n",
       "      <td>SP</td>\n",
       "      <td>RIBEIRAO PRETO</td>\n",
       "      <td>16</td>\n",
       "      <td>36350123</td>\n",
       "      <td>False</td>\n",
       "    </tr>\n",
       "    <tr>\n",
       "      <td>6</td>\n",
       "      <td>00022120000190</td>\n",
       "      <td>LUIZ CARLOS DE CARVALHO INOJOSA 10353093866</td>\n",
       "      <td>SP</td>\n",
       "      <td>CAJATI</td>\n",
       "      <td>13</td>\n",
       "      <td>96327398</td>\n",
       "      <td>False</td>\n",
       "    </tr>\n",
       "    <tr>\n",
       "      <td>10</td>\n",
       "      <td>00057619000132</td>\n",
       "      <td>REALSPUMA INDUSTRIA E COMERCIO DE COLCHOES LTDA</td>\n",
       "      <td>GO</td>\n",
       "      <td>SANTO ANTONIO DO DESCOBERTO</td>\n",
       "      <td>061</td>\n",
       "      <td>6261333</td>\n",
       "      <td>False</td>\n",
       "    </tr>\n",
       "    <tr>\n",
       "      <td>...</td>\n",
       "      <td>...</td>\n",
       "      <td>...</td>\n",
       "      <td>...</td>\n",
       "      <td>...</td>\n",
       "      <td>...</td>\n",
       "      <td>...</td>\n",
       "      <td>...</td>\n",
       "    </tr>\n",
       "    <tr>\n",
       "      <td>1559930</td>\n",
       "      <td>98410863000131</td>\n",
       "      <td>RADIO CHARRUA LTDA</td>\n",
       "      <td>RS</td>\n",
       "      <td>URUGUAIANA</td>\n",
       "      <td>55</td>\n",
       "      <td>34121731</td>\n",
       "      <td>False</td>\n",
       "    </tr>\n",
       "    <tr>\n",
       "      <td>1559934</td>\n",
       "      <td>98522246000128</td>\n",
       "      <td>RODOVIARIO SCHIO LTDA</td>\n",
       "      <td>SP</td>\n",
       "      <td>SAO PAULO</td>\n",
       "      <td>11</td>\n",
       "      <td>36217211</td>\n",
       "      <td>False</td>\n",
       "    </tr>\n",
       "    <tr>\n",
       "      <td>1559935</td>\n",
       "      <td>98522246002848</td>\n",
       "      <td>RODOVIARIO SCHIO LTDA</td>\n",
       "      <td>PE</td>\n",
       "      <td>CABO DE SANTO AGOSTINHO</td>\n",
       "      <td>81</td>\n",
       "      <td>35210030</td>\n",
       "      <td>False</td>\n",
       "    </tr>\n",
       "    <tr>\n",
       "      <td>1559938</td>\n",
       "      <td>98593668000194</td>\n",
       "      <td>AUTO VIACAO VENANCIO AIRES LTDA</td>\n",
       "      <td>RS</td>\n",
       "      <td>VENANCIO AIRES</td>\n",
       "      <td>51</td>\n",
       "      <td>37931700</td>\n",
       "      <td>False</td>\n",
       "    </tr>\n",
       "    <tr>\n",
       "      <td>1559939</td>\n",
       "      <td>98669997000252</td>\n",
       "      <td>E. R. AMANTINO INDUSTRIA METALURGICA LTDA</td>\n",
       "      <td>RS</td>\n",
       "      <td>VERANOPOLIS</td>\n",
       "      <td>54</td>\n",
       "      <td>34419100</td>\n",
       "      <td>False</td>\n",
       "    </tr>\n",
       "  </tbody>\n",
       "</table>\n",
       "<p>1530618 rows × 7 columns</p>\n",
       "</div>"
      ],
      "text/plain": [
       "                   cnpj                                       razao_social  \\\n",
       "2        00005201000181  PETRO-ALFA COMERCIO DE DERIVADOS DE PETROLEO LTDA   \n",
       "3        00005201000262  PETRO-ALFA COMERCIO DE DERIVADOS DE PETROLEO LTDA   \n",
       "5        00014369000153                                   LEONIDES PEREIRA   \n",
       "6        00022120000190        LUIZ CARLOS DE CARVALHO INOJOSA 10353093866   \n",
       "10       00057619000132    REALSPUMA INDUSTRIA E COMERCIO DE COLCHOES LTDA   \n",
       "...                 ...                                                ...   \n",
       "1559930  98410863000131                                 RADIO CHARRUA LTDA   \n",
       "1559934  98522246000128                              RODOVIARIO SCHIO LTDA   \n",
       "1559935  98522246002848                              RODOVIARIO SCHIO LTDA   \n",
       "1559938  98593668000194                    AUTO VIACAO VENANCIO AIRES LTDA   \n",
       "1559939  98669997000252          E. R. AMANTINO INDUSTRIA METALURGICA LTDA   \n",
       "\n",
       "         uf                    municipio ddd_1 telefone_1  \\\n",
       "2        SP                    SAO PAULO    11   81651700   \n",
       "3        SP          MONTE ALEGRE DO SUL    11   33380127   \n",
       "5        SP               RIBEIRAO PRETO    16   36350123   \n",
       "6        SP                       CAJATI    13   96327398   \n",
       "10       GO  SANTO ANTONIO DO DESCOBERTO   061    6261333   \n",
       "...      ..                          ...   ...        ...   \n",
       "1559930  RS                   URUGUAIANA    55   34121731   \n",
       "1559934  SP                    SAO PAULO    11   36217211   \n",
       "1559935  PE      CABO DE SANTO AGOSTINHO    81   35210030   \n",
       "1559938  RS               VENANCIO AIRES    51   37931700   \n",
       "1559939  RS                  VERANOPOLIS    54   34419100   \n",
       "\n",
       "         telefone_provavelmente_invalido  \n",
       "2                                  False  \n",
       "3                                  False  \n",
       "5                                  False  \n",
       "6                                  False  \n",
       "10                                 False  \n",
       "...                                  ...  \n",
       "1559930                            False  \n",
       "1559934                            False  \n",
       "1559935                            False  \n",
       "1559938                            False  \n",
       "1559939                            False  \n",
       "\n",
       "[1530618 rows x 7 columns]"
      ]
     },
     "execution_count": 45,
     "metadata": {},
     "output_type": "execute_result"
    }
   ],
   "source": [
    "# Verificação inversa (verificação dos números válidos):\n",
    "tel_validos_df = empresas_rotuladas_df.loc[(empresas_rotuladas_df[\"telefone_provavelmente_invalido\"] == False)&(empresas_rotuladas_df[\"telefone_1\"].notnull()), ['cnpj', 'razao_social', 'uf', 'municipio', 'ddd_1', 'telefone_1', 'telefone_provavelmente_invalido']]\n",
    "tel_validos_df"
   ]
  },
  {
   "cell_type": "markdown",
   "metadata": {},
   "source": [
    "Sobre os telefones nulos, conforme comentado na função anterior, não estamos considerando como inválidos. Na análise da coluna DDD, já classificamos os nulos como NI. Fazer o mesmo com a coluna telefone seria praticamente uma redundância. Além disso, lembramos que números com 7 dígitos não foram considerados inválidos na função.\n",
    "<br>\n",
    "Avaliando algumas estatísticas após a identificação dos números inválidos:"
   ]
  },
  {
   "cell_type": "code",
   "execution_count": 46,
   "metadata": {},
   "outputs": [
    {
     "data": {
      "text/plain": [
       "1    4827\n",
       "8    3521\n",
       "6      60\n",
       "4      27\n",
       "5       7\n",
       "3       4\n",
       "2       2\n",
       "Name: telefone_1, dtype: int64"
      ]
     },
     "execution_count": 46,
     "metadata": {},
     "output_type": "execute_result"
    }
   ],
   "source": [
    "tel_invalidos_df.telefone_1.str.len().value_counts()"
   ]
  },
  {
   "cell_type": "code",
   "execution_count": 47,
   "metadata": {},
   "outputs": [
    {
     "data": {
      "text/plain": [
       "8    1525365\n",
       "7       5253\n",
       "Name: telefone_1, dtype: int64"
      ]
     },
     "execution_count": 47,
     "metadata": {},
     "output_type": "execute_result"
    }
   ],
   "source": [
    "tel_validos_df.telefone_1.str.len().value_counts()"
   ]
  },
  {
   "cell_type": "markdown",
   "metadata": {},
   "source": [
    "Como se percebe acima, os telefones válidos são apenas aqueles com 7 ou 8 dígitos. Também podemos concluir pelos exemplos anteriormente analisados que a classificação de telefone inválido foi positiva."
   ]
  },
  {
   "cell_type": "markdown",
   "metadata": {},
   "source": [
    "Fim da identificação de telefone inválido."
   ]
  },
  {
   "cell_type": "code",
   "execution_count": 48,
   "metadata": {},
   "outputs": [],
   "source": [
    "# Salvando resultado\n",
    "empresas_rotuladas_df.to_csv(r'C:\\DATASETS\\Empresas Rotuladas\\empresas_rotuladas.csv', index = False)"
   ]
  }
 ],
 "metadata": {
  "kernelspec": {
   "display_name": "Python 3",
   "language": "python",
   "name": "python3"
  },
  "language_info": {
   "codemirror_mode": {
    "name": "ipython",
    "version": 3
   },
   "file_extension": ".py",
   "mimetype": "text/x-python",
   "name": "python",
   "nbconvert_exporter": "python",
   "pygments_lexer": "ipython3",
   "version": "3.7.4"
  }
 },
 "nbformat": 4,
 "nbformat_minor": 2
}
