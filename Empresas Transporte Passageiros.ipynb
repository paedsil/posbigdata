{
 "cells": [
  {
   "cell_type": "markdown",
   "metadata": {},
   "source": [
    "As empresas monitoradas pelo Monitriip, Sistema de Monitoramento de Transporte Coletivo de Passageiros da ANTT, são claramente empresas ativas, operantes de fato, uma vez que as viagens realizadas por seus ônibus são monitoradas por um equipamento embarcado que transmite tempestivamente (via 3G) vários dados (velocidade, tempo, localização, etc) à Agência de Transporte. Obter a lista dos CNPJs dessas empresas nos permitirá rotular algumas empresas da base nacional como existentes de fato.\n",
    "\n",
    "Vamos obter os CNPJs das empresas monitoradas pela ANTT através de downloads de vários arquivos CSV disponíveis nos sites: https://dados.gov.br/dataset/monitriip-servico-regular-viagens e https://dados.gov.br/dataset/monitriip-servico-fretado-viagens "
   ]
  },
  {
   "cell_type": "code",
   "execution_count": 1,
   "metadata": {},
   "outputs": [],
   "source": [
    "import requests\n",
    "from bs4 import BeautifulSoup\n",
    "import pandas as pd\n",
    "import glob\n",
    "import codecs"
   ]
  },
  {
   "cell_type": "markdown",
   "metadata": {},
   "source": [
    "### Primeiro, vamos baixar os arquivos CSV dos dados de viagens do serviço de transporte regular:"
   ]
  },
  {
   "cell_type": "code",
   "execution_count": 2,
   "metadata": {},
   "outputs": [],
   "source": [
    "# Obtém o html da página web que possui os links de todos os registros de viagens:\n",
    "response = requests.get('https://dados.gov.br/dataset/monitriip-servico-regular-viagens')\n",
    "soup = BeautifulSoup(response.text, 'html.parser')"
   ]
  },
  {
   "cell_type": "code",
   "execution_count": 3,
   "metadata": {},
   "outputs": [],
   "source": [
    "# Obtém os elementos <li> que possuem os links paras as páginas dos recursos:\n",
    "lista_li = soup.find_all(\"span\", {\"class\": \"format-label\", \"data-format\": \"csv\"})"
   ]
  },
  {
   "cell_type": "code",
   "execution_count": 4,
   "metadata": {},
   "outputs": [],
   "source": [
    "# Obtém as URLs da página de cada recurso:\n",
    "lista_url = list()\n",
    "for li in lista_li:\n",
    "    lista_url.append(li.parent.get('href'))"
   ]
  },
  {
   "cell_type": "code",
   "execution_count": 7,
   "metadata": {
    "scrolled": false
   },
   "outputs": [
    {
     "name": "stdout",
     "output_type": "stream",
     "text": [
      "Acessando:  https://dados.gov.br/dataset/monitriip-servico-regular-viagens/resource/f3983ab1-5c74-4219-b498-eda7f62ce953\n",
      "Encontrada url:  http://landpage-h.cgu.gov.br/dadosabertos/index.php?url=https://dados.antt.gov.br/dataset/a7bcf9d2-3659-4783-8a9d-d91c69204ebb/resource/f3983ab1-5c74-4219-b498-eda7f62ce953/download/viagem_regular_12_2020.csv\n",
      "Acessando:  https://dados.gov.br/dataset/monitriip-servico-regular-viagens/resource/cef6b612-9a0e-4f38-a9ad-6424e6b5a5c2\n",
      "Encontrada url:  http://landpage-h.cgu.gov.br/dadosabertos/index.php?url=https://dados.antt.gov.br/dataset/a7bcf9d2-3659-4783-8a9d-d91c69204ebb/resource/cef6b612-9a0e-4f38-a9ad-6424e6b5a5c2/download/viagem_regular_11_2020.csv\n",
      "Acessando:  https://dados.gov.br/dataset/monitriip-servico-regular-viagens/resource/0661fa75-da66-4cee-8fe6-728afd6c8579\n",
      "Encontrada url:  http://landpage-h.cgu.gov.br/dadosabertos/index.php?url=https://dados.antt.gov.br/dataset/a7bcf9d2-3659-4783-8a9d-d91c69204ebb/resource/0661fa75-da66-4cee-8fe6-728afd6c8579/download/viagem_regular_10_2020.csv\n",
      "Acessando:  https://dados.gov.br/dataset/monitriip-servico-regular-viagens/resource/26ea6234-91fb-4978-a23d-09552ebc76d9\n",
      "Encontrada url:  http://landpage-h.cgu.gov.br/dadosabertos/index.php?url=https://dados.antt.gov.br/dataset/a7bcf9d2-3659-4783-8a9d-d91c69204ebb/resource/26ea6234-91fb-4978-a23d-09552ebc76d9/download/viagem_regular_09_2020.csv\n",
      "Acessando:  https://dados.gov.br/dataset/monitriip-servico-regular-viagens/resource/c37b45ad-805a-4b9e-97f5-1181836f7088\n",
      "Encontrada url:  http://landpage-h.cgu.gov.br/dadosabertos/index.php?url=https://dados.antt.gov.br/dataset/a7bcf9d2-3659-4783-8a9d-d91c69204ebb/resource/c37b45ad-805a-4b9e-97f5-1181836f7088/download/viagem_regular_08_2020.csv\n",
      "Acessando:  https://dados.gov.br/dataset/monitriip-servico-regular-viagens/resource/a846b69a-627a-4dcb-aec4-85ca6997f862\n",
      "Encontrada url:  http://landpage-h.cgu.gov.br/dadosabertos/index.php?url=https://dados.antt.gov.br/dataset/a7bcf9d2-3659-4783-8a9d-d91c69204ebb/resource/a846b69a-627a-4dcb-aec4-85ca6997f862/download/viagem_regular_07_2020.csv\n",
      "Acessando:  https://dados.gov.br/dataset/monitriip-servico-regular-viagens/resource/37be9598-56a5-4c7e-84fc-166222bc2eba\n",
      "Encontrada url:  http://landpage-h.cgu.gov.br/dadosabertos/index.php?url=https://dados.antt.gov.br/dataset/a7bcf9d2-3659-4783-8a9d-d91c69204ebb/resource/37be9598-56a5-4c7e-84fc-166222bc2eba/download/viagem_regular_06_2020.csv\n",
      "Acessando:  https://dados.gov.br/dataset/monitriip-servico-regular-viagens/resource/aaf07eec-4a18-4134-a698-9d7b5da63918\n",
      "Encontrada url:  http://landpage-h.cgu.gov.br/dadosabertos/index.php?url=https://dados.antt.gov.br/dataset/a7bcf9d2-3659-4783-8a9d-d91c69204ebb/resource/aaf07eec-4a18-4134-a698-9d7b5da63918/download/viagem_regular_05_2020.csv\n",
      "Acessando:  https://dados.gov.br/dataset/monitriip-servico-regular-viagens/resource/ebab7af9-b149-4b25-b4dc-9e49f893ae1f\n",
      "Encontrada url:  http://landpage-h.cgu.gov.br/dadosabertos/index.php?url=https://dados.antt.gov.br/dataset/a7bcf9d2-3659-4783-8a9d-d91c69204ebb/resource/ebab7af9-b149-4b25-b4dc-9e49f893ae1f/download/viagem_regular_04_2020.csv\n",
      "Acessando:  https://dados.gov.br/dataset/monitriip-servico-regular-viagens/resource/71352e34-f495-40b1-8ff1-a18cae9d19f4\n",
      "Encontrada url:  http://landpage-h.cgu.gov.br/dadosabertos/index.php?url=https://dados.antt.gov.br/dataset/a7bcf9d2-3659-4783-8a9d-d91c69204ebb/resource/71352e34-f495-40b1-8ff1-a18cae9d19f4/download/viagem_regular_03_2020.csv\n",
      "Acessando:  https://dados.gov.br/dataset/monitriip-servico-regular-viagens/resource/4488b690-f8b5-40c1-9818-2ca0c0b5ddfb\n",
      "Encontrada url:  http://landpage-h.cgu.gov.br/dadosabertos/index.php?url=https://dados.antt.gov.br/dataset/a7bcf9d2-3659-4783-8a9d-d91c69204ebb/resource/4488b690-f8b5-40c1-9818-2ca0c0b5ddfb/download/viagem_regular_02_2020.csv\n",
      "Acessando:  https://dados.gov.br/dataset/monitriip-servico-regular-viagens/resource/4ff43765-8516-4e3d-b9bc-7e07895b7c65\n",
      "Encontrada url:  http://landpage-h.cgu.gov.br/dadosabertos/index.php?url=https://dados.antt.gov.br/dataset/a7bcf9d2-3659-4783-8a9d-d91c69204ebb/resource/4ff43765-8516-4e3d-b9bc-7e07895b7c65/download/viagem_regular_01_2020.csv\n",
      "Acessando:  https://dados.gov.br/dataset/monitriip-servico-regular-viagens/resource/a5d375e1-3506-42a5-87bb-2e34970b8fe0\n",
      "Encontrada url:  http://landpage-h.cgu.gov.br/dadosabertos/index.php?url=https://dados.antt.gov.br/dataset/a7bcf9d2-3659-4783-8a9d-d91c69204ebb/resource/a5d375e1-3506-42a5-87bb-2e34970b8fe0/download/viagem_regular_12_2019.csv\n",
      "Acessando:  https://dados.gov.br/dataset/monitriip-servico-regular-viagens/resource/0c3e80d2-c3f5-4aef-9da5-c0f2ebb6aaed\n",
      "Encontrada url:  http://landpage-h.cgu.gov.br/dadosabertos/index.php?url=https://dados.antt.gov.br/dataset/a7bcf9d2-3659-4783-8a9d-d91c69204ebb/resource/0c3e80d2-c3f5-4aef-9da5-c0f2ebb6aaed/download/viagem_regular_11_2019.csv\n",
      "Acessando:  https://dados.gov.br/dataset/monitriip-servico-regular-viagens/resource/27a03ef9-8942-4ba2-a1e1-bc105d73a3e1\n",
      "Encontrada url:  http://landpage-h.cgu.gov.br/dadosabertos/index.php?url=https://dados.antt.gov.br/dataset/a7bcf9d2-3659-4783-8a9d-d91c69204ebb/resource/27a03ef9-8942-4ba2-a1e1-bc105d73a3e1/download/viagem_regular_10_2019.csv\n",
      "Acessando:  https://dados.gov.br/dataset/monitriip-servico-regular-viagens/resource/f1c78451-c8ee-481e-963c-c67d296953d3\n",
      "Encontrada url:  http://landpage-h.cgu.gov.br/dadosabertos/index.php?url=https://dados.antt.gov.br/dataset/a7bcf9d2-3659-4783-8a9d-d91c69204ebb/resource/f1c78451-c8ee-481e-963c-c67d296953d3/download/viagem_regular_09_2019.csv\n",
      "Acessando:  https://dados.gov.br/dataset/monitriip-servico-regular-viagens/resource/3ad7a78d-7181-4bf0-a285-03aee9fb685d\n",
      "Encontrada url:  http://landpage-h.cgu.gov.br/dadosabertos/index.php?url=https://dados.antt.gov.br/dataset/a7bcf9d2-3659-4783-8a9d-d91c69204ebb/resource/3ad7a78d-7181-4bf0-a285-03aee9fb685d/download/viagem_regular_08_2019.csv\n",
      "Acessando:  https://dados.gov.br/dataset/monitriip-servico-regular-viagens/resource/4717ec64-055c-47c8-abb5-c56ded7e0b04\n",
      "Encontrada url:  http://landpage-h.cgu.gov.br/dadosabertos/index.php?url=https://dados.antt.gov.br/dataset/a7bcf9d2-3659-4783-8a9d-d91c69204ebb/resource/4717ec64-055c-47c8-abb5-c56ded7e0b04/download/viagem_regular_07_2019.csv\n",
      "Acessando:  https://dados.gov.br/dataset/monitriip-servico-regular-viagens/resource/01ba7dba-fb06-4ab1-8f63-fc9b6ad92474\n",
      "Encontrada url:  http://landpage-h.cgu.gov.br/dadosabertos/index.php?url=https://dados.antt.gov.br/dataset/a7bcf9d2-3659-4783-8a9d-d91c69204ebb/resource/01ba7dba-fb06-4ab1-8f63-fc9b6ad92474/download/viagem_regular_06_2019.csv\n",
      "Acessando:  https://dados.gov.br/dataset/monitriip-servico-regular-viagens/resource/68fb8067-3cc7-4993-b609-499720ed91db\n",
      "Encontrada url:  http://landpage-h.cgu.gov.br/dadosabertos/index.php?url=https://dados.antt.gov.br/dataset/a7bcf9d2-3659-4783-8a9d-d91c69204ebb/resource/68fb8067-3cc7-4993-b609-499720ed91db/download/viagem_regular_05_2019.csv\n",
      "Acessando:  https://dados.gov.br/dataset/monitriip-servico-regular-viagens/resource/bb56f495-e874-4507-9603-ceed32a0407e\n",
      "Encontrada url:  http://landpage-h.cgu.gov.br/dadosabertos/index.php?url=https://dados.antt.gov.br/dataset/a7bcf9d2-3659-4783-8a9d-d91c69204ebb/resource/bb56f495-e874-4507-9603-ceed32a0407e/download/viagem_regular_04_2019.csv\n",
      "Acessando:  https://dados.gov.br/dataset/monitriip-servico-regular-viagens/resource/1df32b47-694a-4fc9-b497-96572c60eb7a\n",
      "Encontrada url:  http://landpage-h.cgu.gov.br/dadosabertos/index.php?url=https://dados.antt.gov.br/dataset/a7bcf9d2-3659-4783-8a9d-d91c69204ebb/resource/1df32b47-694a-4fc9-b497-96572c60eb7a/download/viagem_regular_03_2019.csv\n",
      "Acessando:  https://dados.gov.br/dataset/monitriip-servico-regular-viagens/resource/9860498e-ec3d-4a57-b814-849b68aad501\n",
      "Encontrada url:  http://landpage-h.cgu.gov.br/dadosabertos/index.php?url=https://dados.antt.gov.br/dataset/a7bcf9d2-3659-4783-8a9d-d91c69204ebb/resource/9860498e-ec3d-4a57-b814-849b68aad501/download/viagem_regular_02_2019.csv\n",
      "Acessando:  https://dados.gov.br/dataset/monitriip-servico-regular-viagens/resource/b5767e35-3acb-4863-92f8-a09c57805e02\n",
      "Encontrada url:  http://landpage-h.cgu.gov.br/dadosabertos/index.php?url=https://dados.antt.gov.br/dataset/a7bcf9d2-3659-4783-8a9d-d91c69204ebb/resource/b5767e35-3acb-4863-92f8-a09c57805e02/download/viagem_regular_01_2019.csv\n",
      "Acessando:  https://dados.gov.br/dataset/monitriip-servico-regular-viagens/resource/987d98cc-b7cf-4879-acfc-72c0de71b7fc\n"
     ]
    },
    {
     "name": "stdout",
     "output_type": "stream",
     "text": [
      "Encontrada url:  http://landpage-h.cgu.gov.br/dadosabertos/index.php?url=https://dados.antt.gov.br/dataset/a7bcf9d2-3659-4783-8a9d-d91c69204ebb/resource/987d98cc-b7cf-4879-acfc-72c0de71b7fc/download/viagem_regular_01_2021.csv\n",
      "Acessando:  https://dados.gov.br/dataset/monitriip-servico-regular-viagens/resource/ddef7c99-6916-4348-84ea-c8e8b424df56\n",
      "Encontrada url:  http://landpage-h.cgu.gov.br/dadosabertos/index.php?url=https://dados.antt.gov.br/dataset/a7bcf9d2-3659-4783-8a9d-d91c69204ebb/resource/ddef7c99-6916-4348-84ea-c8e8b424df56/download/viagem_regular_02_2021.csv\n",
      "Encontrados:  26\n"
     ]
    },
    {
     "data": {
      "text/plain": [
       "['http://landpage-h.cgu.gov.br/dadosabertos/index.php?url=https://dados.antt.gov.br/dataset/a7bcf9d2-3659-4783-8a9d-d91c69204ebb/resource/f3983ab1-5c74-4219-b498-eda7f62ce953/download/viagem_regular_12_2020.csv',\n",
       " 'http://landpage-h.cgu.gov.br/dadosabertos/index.php?url=https://dados.antt.gov.br/dataset/a7bcf9d2-3659-4783-8a9d-d91c69204ebb/resource/cef6b612-9a0e-4f38-a9ad-6424e6b5a5c2/download/viagem_regular_11_2020.csv',\n",
       " 'http://landpage-h.cgu.gov.br/dadosabertos/index.php?url=https://dados.antt.gov.br/dataset/a7bcf9d2-3659-4783-8a9d-d91c69204ebb/resource/0661fa75-da66-4cee-8fe6-728afd6c8579/download/viagem_regular_10_2020.csv',\n",
       " 'http://landpage-h.cgu.gov.br/dadosabertos/index.php?url=https://dados.antt.gov.br/dataset/a7bcf9d2-3659-4783-8a9d-d91c69204ebb/resource/26ea6234-91fb-4978-a23d-09552ebc76d9/download/viagem_regular_09_2020.csv',\n",
       " 'http://landpage-h.cgu.gov.br/dadosabertos/index.php?url=https://dados.antt.gov.br/dataset/a7bcf9d2-3659-4783-8a9d-d91c69204ebb/resource/c37b45ad-805a-4b9e-97f5-1181836f7088/download/viagem_regular_08_2020.csv',\n",
       " 'http://landpage-h.cgu.gov.br/dadosabertos/index.php?url=https://dados.antt.gov.br/dataset/a7bcf9d2-3659-4783-8a9d-d91c69204ebb/resource/a846b69a-627a-4dcb-aec4-85ca6997f862/download/viagem_regular_07_2020.csv',\n",
       " 'http://landpage-h.cgu.gov.br/dadosabertos/index.php?url=https://dados.antt.gov.br/dataset/a7bcf9d2-3659-4783-8a9d-d91c69204ebb/resource/37be9598-56a5-4c7e-84fc-166222bc2eba/download/viagem_regular_06_2020.csv',\n",
       " 'http://landpage-h.cgu.gov.br/dadosabertos/index.php?url=https://dados.antt.gov.br/dataset/a7bcf9d2-3659-4783-8a9d-d91c69204ebb/resource/aaf07eec-4a18-4134-a698-9d7b5da63918/download/viagem_regular_05_2020.csv',\n",
       " 'http://landpage-h.cgu.gov.br/dadosabertos/index.php?url=https://dados.antt.gov.br/dataset/a7bcf9d2-3659-4783-8a9d-d91c69204ebb/resource/ebab7af9-b149-4b25-b4dc-9e49f893ae1f/download/viagem_regular_04_2020.csv',\n",
       " 'http://landpage-h.cgu.gov.br/dadosabertos/index.php?url=https://dados.antt.gov.br/dataset/a7bcf9d2-3659-4783-8a9d-d91c69204ebb/resource/71352e34-f495-40b1-8ff1-a18cae9d19f4/download/viagem_regular_03_2020.csv',\n",
       " 'http://landpage-h.cgu.gov.br/dadosabertos/index.php?url=https://dados.antt.gov.br/dataset/a7bcf9d2-3659-4783-8a9d-d91c69204ebb/resource/4488b690-f8b5-40c1-9818-2ca0c0b5ddfb/download/viagem_regular_02_2020.csv',\n",
       " 'http://landpage-h.cgu.gov.br/dadosabertos/index.php?url=https://dados.antt.gov.br/dataset/a7bcf9d2-3659-4783-8a9d-d91c69204ebb/resource/4ff43765-8516-4e3d-b9bc-7e07895b7c65/download/viagem_regular_01_2020.csv',\n",
       " 'http://landpage-h.cgu.gov.br/dadosabertos/index.php?url=https://dados.antt.gov.br/dataset/a7bcf9d2-3659-4783-8a9d-d91c69204ebb/resource/a5d375e1-3506-42a5-87bb-2e34970b8fe0/download/viagem_regular_12_2019.csv',\n",
       " 'http://landpage-h.cgu.gov.br/dadosabertos/index.php?url=https://dados.antt.gov.br/dataset/a7bcf9d2-3659-4783-8a9d-d91c69204ebb/resource/0c3e80d2-c3f5-4aef-9da5-c0f2ebb6aaed/download/viagem_regular_11_2019.csv',\n",
       " 'http://landpage-h.cgu.gov.br/dadosabertos/index.php?url=https://dados.antt.gov.br/dataset/a7bcf9d2-3659-4783-8a9d-d91c69204ebb/resource/27a03ef9-8942-4ba2-a1e1-bc105d73a3e1/download/viagem_regular_10_2019.csv',\n",
       " 'http://landpage-h.cgu.gov.br/dadosabertos/index.php?url=https://dados.antt.gov.br/dataset/a7bcf9d2-3659-4783-8a9d-d91c69204ebb/resource/f1c78451-c8ee-481e-963c-c67d296953d3/download/viagem_regular_09_2019.csv',\n",
       " 'http://landpage-h.cgu.gov.br/dadosabertos/index.php?url=https://dados.antt.gov.br/dataset/a7bcf9d2-3659-4783-8a9d-d91c69204ebb/resource/3ad7a78d-7181-4bf0-a285-03aee9fb685d/download/viagem_regular_08_2019.csv',\n",
       " 'http://landpage-h.cgu.gov.br/dadosabertos/index.php?url=https://dados.antt.gov.br/dataset/a7bcf9d2-3659-4783-8a9d-d91c69204ebb/resource/4717ec64-055c-47c8-abb5-c56ded7e0b04/download/viagem_regular_07_2019.csv',\n",
       " 'http://landpage-h.cgu.gov.br/dadosabertos/index.php?url=https://dados.antt.gov.br/dataset/a7bcf9d2-3659-4783-8a9d-d91c69204ebb/resource/01ba7dba-fb06-4ab1-8f63-fc9b6ad92474/download/viagem_regular_06_2019.csv',\n",
       " 'http://landpage-h.cgu.gov.br/dadosabertos/index.php?url=https://dados.antt.gov.br/dataset/a7bcf9d2-3659-4783-8a9d-d91c69204ebb/resource/68fb8067-3cc7-4993-b609-499720ed91db/download/viagem_regular_05_2019.csv',\n",
       " 'http://landpage-h.cgu.gov.br/dadosabertos/index.php?url=https://dados.antt.gov.br/dataset/a7bcf9d2-3659-4783-8a9d-d91c69204ebb/resource/bb56f495-e874-4507-9603-ceed32a0407e/download/viagem_regular_04_2019.csv',\n",
       " 'http://landpage-h.cgu.gov.br/dadosabertos/index.php?url=https://dados.antt.gov.br/dataset/a7bcf9d2-3659-4783-8a9d-d91c69204ebb/resource/1df32b47-694a-4fc9-b497-96572c60eb7a/download/viagem_regular_03_2019.csv',\n",
       " 'http://landpage-h.cgu.gov.br/dadosabertos/index.php?url=https://dados.antt.gov.br/dataset/a7bcf9d2-3659-4783-8a9d-d91c69204ebb/resource/9860498e-ec3d-4a57-b814-849b68aad501/download/viagem_regular_02_2019.csv',\n",
       " 'http://landpage-h.cgu.gov.br/dadosabertos/index.php?url=https://dados.antt.gov.br/dataset/a7bcf9d2-3659-4783-8a9d-d91c69204ebb/resource/b5767e35-3acb-4863-92f8-a09c57805e02/download/viagem_regular_01_2019.csv',\n",
       " 'http://landpage-h.cgu.gov.br/dadosabertos/index.php?url=https://dados.antt.gov.br/dataset/a7bcf9d2-3659-4783-8a9d-d91c69204ebb/resource/987d98cc-b7cf-4879-acfc-72c0de71b7fc/download/viagem_regular_01_2021.csv',\n",
       " 'http://landpage-h.cgu.gov.br/dadosabertos/index.php?url=https://dados.antt.gov.br/dataset/a7bcf9d2-3659-4783-8a9d-d91c69204ebb/resource/ddef7c99-6916-4348-84ea-c8e8b424df56/download/viagem_regular_02_2021.csv']"
      ]
     },
     "execution_count": 7,
     "metadata": {},
     "output_type": "execute_result"
    }
   ],
   "source": [
    "url_base = 'https://dados.gov.br'\n",
    "lista_url_csv = list()\n",
    "\n",
    "# Entre em cada página de recurso e obtém a url de download do respectivo csv:\n",
    "for url_recurso in lista_url:\n",
    "    url_completa = url_base + url_recurso\n",
    "    print('Acessando: ', url_completa)\n",
    "    \n",
    "    # Abrir a página do recurso\n",
    "    response = requests.get(url_completa)\n",
    "    soup = BeautifulSoup(response.text, 'html.parser')\n",
    "    \n",
    "    # Encontrar a url de download do csv:\n",
    "    url_csv = soup.find(lambda tag:tag.name==\"a\" and '.CSV' in tag.get('href').upper()).get('href')\n",
    "    print('Encontrada url: ', url_csv)\n",
    "    lista_url_csv.append(url_csv)\n",
    "\n",
    "print('Encontrados: ', len(lista_url_csv))\n",
    "lista_url_csv"
   ]
  },
  {
   "cell_type": "code",
   "execution_count": 8,
   "metadata": {},
   "outputs": [
    {
     "name": "stdout",
     "output_type": "stream",
     "text": [
      "Baixando:  viagem_regular_12_2020.csv  de:  https://dados.antt.gov.br/dataset/a7bcf9d2-3659-4783-8a9d-d91c69204ebb/resource/f3983ab1-5c74-4219-b498-eda7f62ce953/download/viagem_regular_12_2020.csv\n",
      "Baixando:  viagem_regular_11_2020.csv  de:  https://dados.antt.gov.br/dataset/a7bcf9d2-3659-4783-8a9d-d91c69204ebb/resource/cef6b612-9a0e-4f38-a9ad-6424e6b5a5c2/download/viagem_regular_11_2020.csv\n",
      "Baixando:  viagem_regular_10_2020.csv  de:  https://dados.antt.gov.br/dataset/a7bcf9d2-3659-4783-8a9d-d91c69204ebb/resource/0661fa75-da66-4cee-8fe6-728afd6c8579/download/viagem_regular_10_2020.csv\n",
      "Baixando:  viagem_regular_09_2020.csv  de:  https://dados.antt.gov.br/dataset/a7bcf9d2-3659-4783-8a9d-d91c69204ebb/resource/26ea6234-91fb-4978-a23d-09552ebc76d9/download/viagem_regular_09_2020.csv\n",
      "Baixando:  viagem_regular_08_2020.csv  de:  https://dados.antt.gov.br/dataset/a7bcf9d2-3659-4783-8a9d-d91c69204ebb/resource/c37b45ad-805a-4b9e-97f5-1181836f7088/download/viagem_regular_08_2020.csv\n",
      "Baixando:  viagem_regular_07_2020.csv  de:  https://dados.antt.gov.br/dataset/a7bcf9d2-3659-4783-8a9d-d91c69204ebb/resource/a846b69a-627a-4dcb-aec4-85ca6997f862/download/viagem_regular_07_2020.csv\n",
      "Baixando:  viagem_regular_06_2020.csv  de:  https://dados.antt.gov.br/dataset/a7bcf9d2-3659-4783-8a9d-d91c69204ebb/resource/37be9598-56a5-4c7e-84fc-166222bc2eba/download/viagem_regular_06_2020.csv\n",
      "Baixando:  viagem_regular_05_2020.csv  de:  https://dados.antt.gov.br/dataset/a7bcf9d2-3659-4783-8a9d-d91c69204ebb/resource/aaf07eec-4a18-4134-a698-9d7b5da63918/download/viagem_regular_05_2020.csv\n",
      "Baixando:  viagem_regular_04_2020.csv  de:  https://dados.antt.gov.br/dataset/a7bcf9d2-3659-4783-8a9d-d91c69204ebb/resource/ebab7af9-b149-4b25-b4dc-9e49f893ae1f/download/viagem_regular_04_2020.csv\n",
      "Baixando:  viagem_regular_03_2020.csv  de:  https://dados.antt.gov.br/dataset/a7bcf9d2-3659-4783-8a9d-d91c69204ebb/resource/71352e34-f495-40b1-8ff1-a18cae9d19f4/download/viagem_regular_03_2020.csv\n",
      "Baixando:  viagem_regular_02_2020.csv  de:  https://dados.antt.gov.br/dataset/a7bcf9d2-3659-4783-8a9d-d91c69204ebb/resource/4488b690-f8b5-40c1-9818-2ca0c0b5ddfb/download/viagem_regular_02_2020.csv\n",
      "Baixando:  viagem_regular_01_2020.csv  de:  https://dados.antt.gov.br/dataset/a7bcf9d2-3659-4783-8a9d-d91c69204ebb/resource/4ff43765-8516-4e3d-b9bc-7e07895b7c65/download/viagem_regular_01_2020.csv\n",
      "Baixando:  viagem_regular_12_2019.csv  de:  https://dados.antt.gov.br/dataset/a7bcf9d2-3659-4783-8a9d-d91c69204ebb/resource/a5d375e1-3506-42a5-87bb-2e34970b8fe0/download/viagem_regular_12_2019.csv\n",
      "Baixando:  viagem_regular_11_2019.csv  de:  https://dados.antt.gov.br/dataset/a7bcf9d2-3659-4783-8a9d-d91c69204ebb/resource/0c3e80d2-c3f5-4aef-9da5-c0f2ebb6aaed/download/viagem_regular_11_2019.csv\n",
      "Baixando:  viagem_regular_10_2019.csv  de:  https://dados.antt.gov.br/dataset/a7bcf9d2-3659-4783-8a9d-d91c69204ebb/resource/27a03ef9-8942-4ba2-a1e1-bc105d73a3e1/download/viagem_regular_10_2019.csv\n",
      "Baixando:  viagem_regular_09_2019.csv  de:  https://dados.antt.gov.br/dataset/a7bcf9d2-3659-4783-8a9d-d91c69204ebb/resource/f1c78451-c8ee-481e-963c-c67d296953d3/download/viagem_regular_09_2019.csv\n",
      "Baixando:  viagem_regular_08_2019.csv  de:  https://dados.antt.gov.br/dataset/a7bcf9d2-3659-4783-8a9d-d91c69204ebb/resource/3ad7a78d-7181-4bf0-a285-03aee9fb685d/download/viagem_regular_08_2019.csv\n",
      "Baixando:  viagem_regular_07_2019.csv  de:  https://dados.antt.gov.br/dataset/a7bcf9d2-3659-4783-8a9d-d91c69204ebb/resource/4717ec64-055c-47c8-abb5-c56ded7e0b04/download/viagem_regular_07_2019.csv\n",
      "Baixando:  viagem_regular_06_2019.csv  de:  https://dados.antt.gov.br/dataset/a7bcf9d2-3659-4783-8a9d-d91c69204ebb/resource/01ba7dba-fb06-4ab1-8f63-fc9b6ad92474/download/viagem_regular_06_2019.csv\n",
      "Baixando:  viagem_regular_05_2019.csv  de:  https://dados.antt.gov.br/dataset/a7bcf9d2-3659-4783-8a9d-d91c69204ebb/resource/68fb8067-3cc7-4993-b609-499720ed91db/download/viagem_regular_05_2019.csv\n",
      "Baixando:  viagem_regular_04_2019.csv  de:  https://dados.antt.gov.br/dataset/a7bcf9d2-3659-4783-8a9d-d91c69204ebb/resource/bb56f495-e874-4507-9603-ceed32a0407e/download/viagem_regular_04_2019.csv\n",
      "Baixando:  viagem_regular_03_2019.csv  de:  https://dados.antt.gov.br/dataset/a7bcf9d2-3659-4783-8a9d-d91c69204ebb/resource/1df32b47-694a-4fc9-b497-96572c60eb7a/download/viagem_regular_03_2019.csv\n",
      "Baixando:  viagem_regular_02_2019.csv  de:  https://dados.antt.gov.br/dataset/a7bcf9d2-3659-4783-8a9d-d91c69204ebb/resource/9860498e-ec3d-4a57-b814-849b68aad501/download/viagem_regular_02_2019.csv\n",
      "Baixando:  viagem_regular_01_2019.csv  de:  https://dados.antt.gov.br/dataset/a7bcf9d2-3659-4783-8a9d-d91c69204ebb/resource/b5767e35-3acb-4863-92f8-a09c57805e02/download/viagem_regular_01_2019.csv\n",
      "Baixando:  viagem_regular_01_2021.csv  de:  https://dados.antt.gov.br/dataset/a7bcf9d2-3659-4783-8a9d-d91c69204ebb/resource/987d98cc-b7cf-4879-acfc-72c0de71b7fc/download/viagem_regular_01_2021.csv\n",
      "Baixando:  viagem_regular_02_2021.csv  de:  https://dados.antt.gov.br/dataset/a7bcf9d2-3659-4783-8a9d-d91c69204ebb/resource/ddef7c99-6916-4348-84ea-c8e8b424df56/download/viagem_regular_02_2021.csv\n"
     ]
    }
   ],
   "source": [
    "# Faz o download dos CSVs:\n",
    "for url_csv in lista_url_csv:\n",
    "    url_csv = url_csv.rsplit('url=', 1)[1]\n",
    "    nome_arquivo = url_csv.rsplit('/', 1)[1]\n",
    "    print('Baixando: ', nome_arquivo, ' de: ', url_csv)\n",
    "    req = requests.get(url_csv)\n",
    "    url_content = req.content\n",
    "    csv_file = open('C:\\\\DATASETS\\\\Empresas Existentes de Fato\\\\ANTT\\\\' + nome_arquivo, 'wb')\n",
    "\n",
    "    csv_file.write(url_content)\n",
    "    csv_file.close()"
   ]
  },
  {
   "cell_type": "markdown",
   "metadata": {},
   "source": [
    "Conseguimos baixar 26 arquivos CSV, correspondendo exatamente aos 26 recursos encontrados na página de dados abertos de registro de viagens regulares da ANTT."
   ]
  },
  {
   "cell_type": "markdown",
   "metadata": {},
   "source": [
    "### Agora, vamos baixar os arquivos CSV com os dados de viagens de serviço de transporte fretado:"
   ]
  },
  {
   "cell_type": "code",
   "execution_count": 9,
   "metadata": {},
   "outputs": [],
   "source": [
    "# Obtém o html da página web que possui os links de todos os registros de viagens:\n",
    "response = requests.get('https://dados.gov.br/dataset/monitriip-servico-fretado-viagens')\n",
    "soup = BeautifulSoup(response.text, 'html.parser')"
   ]
  },
  {
   "cell_type": "code",
   "execution_count": 10,
   "metadata": {},
   "outputs": [],
   "source": [
    "# Obtém os elementos <li> que possuem os links paras as páginas dos recursos:\n",
    "lista_li = soup.find_all(\"span\", {\"class\": \"format-label\", \"data-format\": \"csv\"})"
   ]
  },
  {
   "cell_type": "code",
   "execution_count": 11,
   "metadata": {},
   "outputs": [],
   "source": [
    "# Obtém as URLs da página de cada recurso:\n",
    "lista_url = list()\n",
    "for li in lista_li:\n",
    "    lista_url.append(li.parent.get('href'))"
   ]
  },
  {
   "cell_type": "code",
   "execution_count": 12,
   "metadata": {
    "scrolled": false
   },
   "outputs": [
    {
     "name": "stdout",
     "output_type": "stream",
     "text": [
      "Acessando:  https://dados.gov.br/dataset/monitriip-servico-fretado-viagens/resource/18abd07e-5337-4005-bbbb-7156c355bec3\n",
      "Encontrada url:  http://landpage-h.cgu.gov.br/dadosabertos/index.php?url=https://dados.antt.gov.br/dataset/8ddd197d-81e6-43bb-a2b3-c9a158ddfbae/resource/18abd07e-5337-4005-bbbb-7156c355bec3/download/viagem_fretado_12_2020.csv\n",
      "Acessando:  https://dados.gov.br/dataset/monitriip-servico-fretado-viagens/resource/30e5515d-9040-432c-ae4f-f8bdb7d488db\n",
      "Encontrada url:  http://landpage-h.cgu.gov.br/dadosabertos/index.php?url=https://dados.antt.gov.br/dataset/8ddd197d-81e6-43bb-a2b3-c9a158ddfbae/resource/30e5515d-9040-432c-ae4f-f8bdb7d488db/download/viagem_fretado_11_2020.csv\n",
      "Acessando:  https://dados.gov.br/dataset/monitriip-servico-fretado-viagens/resource/ed76ea8a-1146-499d-a21e-8c395f39a222\n",
      "Encontrada url:  http://landpage-h.cgu.gov.br/dadosabertos/index.php?url=https://dados.antt.gov.br/dataset/8ddd197d-81e6-43bb-a2b3-c9a158ddfbae/resource/ed76ea8a-1146-499d-a21e-8c395f39a222/download/viagem_fretado_10_2020.csv\n",
      "Acessando:  https://dados.gov.br/dataset/monitriip-servico-fretado-viagens/resource/966d9f4b-4808-449e-bc64-a31923eb664d\n",
      "Encontrada url:  http://landpage-h.cgu.gov.br/dadosabertos/index.php?url=https://dados.antt.gov.br/dataset/8ddd197d-81e6-43bb-a2b3-c9a158ddfbae/resource/966d9f4b-4808-449e-bc64-a31923eb664d/download/viagem_fretado_09_2020.csv\n",
      "Acessando:  https://dados.gov.br/dataset/monitriip-servico-fretado-viagens/resource/ff137800-e866-465d-8688-3be1d9d06b68\n",
      "Encontrada url:  http://landpage-h.cgu.gov.br/dadosabertos/index.php?url=https://dados.antt.gov.br/dataset/8ddd197d-81e6-43bb-a2b3-c9a158ddfbae/resource/ff137800-e866-465d-8688-3be1d9d06b68/download/viagem_fretado_08_2020.csv\n",
      "Acessando:  https://dados.gov.br/dataset/monitriip-servico-fretado-viagens/resource/bf6356f4-afca-47ec-9047-dd12e8dec80b\n",
      "Encontrada url:  http://landpage-h.cgu.gov.br/dadosabertos/index.php?url=https://dados.antt.gov.br/dataset/8ddd197d-81e6-43bb-a2b3-c9a158ddfbae/resource/bf6356f4-afca-47ec-9047-dd12e8dec80b/download/viagem_fretado_07_2020.csv\n",
      "Acessando:  https://dados.gov.br/dataset/monitriip-servico-fretado-viagens/resource/01f21c0c-98ed-46fc-8ffc-eabd38fcd413\n",
      "Encontrada url:  http://landpage-h.cgu.gov.br/dadosabertos/index.php?url=https://dados.antt.gov.br/dataset/8ddd197d-81e6-43bb-a2b3-c9a158ddfbae/resource/01f21c0c-98ed-46fc-8ffc-eabd38fcd413/download/viagem_fretado_06_2020.csv\n",
      "Acessando:  https://dados.gov.br/dataset/monitriip-servico-fretado-viagens/resource/2af43a5c-7447-47fd-af18-a460065eeee2\n",
      "Encontrada url:  http://landpage-h.cgu.gov.br/dadosabertos/index.php?url=https://dados.antt.gov.br/dataset/8ddd197d-81e6-43bb-a2b3-c9a158ddfbae/resource/2af43a5c-7447-47fd-af18-a460065eeee2/download/viagem_fretado_05_2020.csv\n",
      "Acessando:  https://dados.gov.br/dataset/monitriip-servico-fretado-viagens/resource/f3f73e23-ba40-4d2d-91eb-6224baa1863a\n",
      "Encontrada url:  http://landpage-h.cgu.gov.br/dadosabertos/index.php?url=https://dados.antt.gov.br/dataset/8ddd197d-81e6-43bb-a2b3-c9a158ddfbae/resource/f3f73e23-ba40-4d2d-91eb-6224baa1863a/download/viagem_fretado_04_2020.csv\n",
      "Acessando:  https://dados.gov.br/dataset/monitriip-servico-fretado-viagens/resource/cf89f752-a3e2-4598-950e-ab4ab8b7b4fa\n",
      "Encontrada url:  http://landpage-h.cgu.gov.br/dadosabertos/index.php?url=https://dados.antt.gov.br/dataset/8ddd197d-81e6-43bb-a2b3-c9a158ddfbae/resource/cf89f752-a3e2-4598-950e-ab4ab8b7b4fa/download/viagem_fretado_03_2020.csv\n",
      "Acessando:  https://dados.gov.br/dataset/monitriip-servico-fretado-viagens/resource/eefc96fc-0574-4c25-b4e4-23db8b646a7f\n",
      "Encontrada url:  http://landpage-h.cgu.gov.br/dadosabertos/index.php?url=https://dados.antt.gov.br/dataset/8ddd197d-81e6-43bb-a2b3-c9a158ddfbae/resource/eefc96fc-0574-4c25-b4e4-23db8b646a7f/download/viagem_fretado_02_2020.csv\n",
      "Acessando:  https://dados.gov.br/dataset/monitriip-servico-fretado-viagens/resource/efb58a3a-28d3-433c-8fbf-9cfb54aa19d4\n",
      "Encontrada url:  http://landpage-h.cgu.gov.br/dadosabertos/index.php?url=https://dados.antt.gov.br/dataset/8ddd197d-81e6-43bb-a2b3-c9a158ddfbae/resource/efb58a3a-28d3-433c-8fbf-9cfb54aa19d4/download/viagem_fretado_01_2020.csv\n",
      "Acessando:  https://dados.gov.br/dataset/monitriip-servico-fretado-viagens/resource/5d730064-6cab-4ffb-a21e-2b41503e2a31\n",
      "Encontrada url:  http://landpage-h.cgu.gov.br/dadosabertos/index.php?url=https://dados.antt.gov.br/dataset/8ddd197d-81e6-43bb-a2b3-c9a158ddfbae/resource/5d730064-6cab-4ffb-a21e-2b41503e2a31/download/viagem_fretado_12_2019.csv\n",
      "Acessando:  https://dados.gov.br/dataset/monitriip-servico-fretado-viagens/resource/cb51406a-c9a9-48b1-bad7-de3923028ccb\n",
      "Encontrada url:  http://landpage-h.cgu.gov.br/dadosabertos/index.php?url=https://dados.antt.gov.br/dataset/8ddd197d-81e6-43bb-a2b3-c9a158ddfbae/resource/cb51406a-c9a9-48b1-bad7-de3923028ccb/download/viagem_fretado_11_2019.csv\n",
      "Acessando:  https://dados.gov.br/dataset/monitriip-servico-fretado-viagens/resource/f28c65d1-f167-45ab-8d80-c797f36bafe7\n",
      "Encontrada url:  http://landpage-h.cgu.gov.br/dadosabertos/index.php?url=https://dados.antt.gov.br/dataset/8ddd197d-81e6-43bb-a2b3-c9a158ddfbae/resource/f28c65d1-f167-45ab-8d80-c797f36bafe7/download/viagem_fretado_10_2019.csv\n",
      "Acessando:  https://dados.gov.br/dataset/monitriip-servico-fretado-viagens/resource/69ceda9f-671f-4d44-b060-9d1028b0bab2\n",
      "Encontrada url:  http://landpage-h.cgu.gov.br/dadosabertos/index.php?url=https://dados.antt.gov.br/dataset/8ddd197d-81e6-43bb-a2b3-c9a158ddfbae/resource/69ceda9f-671f-4d44-b060-9d1028b0bab2/download/viagem_fretado_09_2019.csv\n",
      "Acessando:  https://dados.gov.br/dataset/monitriip-servico-fretado-viagens/resource/043a20c7-1799-4c88-8c7f-af943f2efada\n",
      "Encontrada url:  http://landpage-h.cgu.gov.br/dadosabertos/index.php?url=https://dados.antt.gov.br/dataset/8ddd197d-81e6-43bb-a2b3-c9a158ddfbae/resource/043a20c7-1799-4c88-8c7f-af943f2efada/download/viagem_fretado_08_2019.csv\n",
      "Acessando:  https://dados.gov.br/dataset/monitriip-servico-fretado-viagens/resource/c8206626-318d-4ac9-b4f4-4d16be749627\n",
      "Encontrada url:  http://landpage-h.cgu.gov.br/dadosabertos/index.php?url=https://dados.antt.gov.br/dataset/8ddd197d-81e6-43bb-a2b3-c9a158ddfbae/resource/c8206626-318d-4ac9-b4f4-4d16be749627/download/viagem_fretado_07_2019.csv\n",
      "Acessando:  https://dados.gov.br/dataset/monitriip-servico-fretado-viagens/resource/8a646f5f-5cd5-4aaa-a445-1e0e30ccb138\n",
      "Encontrada url:  http://landpage-h.cgu.gov.br/dadosabertos/index.php?url=https://dados.antt.gov.br/dataset/8ddd197d-81e6-43bb-a2b3-c9a158ddfbae/resource/8a646f5f-5cd5-4aaa-a445-1e0e30ccb138/download/viagem_fretado_06_2019.csv\n",
      "Acessando:  https://dados.gov.br/dataset/monitriip-servico-fretado-viagens/resource/bb73d93b-c255-4b6d-abac-258429fc482f\n",
      "Encontrada url:  http://landpage-h.cgu.gov.br/dadosabertos/index.php?url=https://dados.antt.gov.br/dataset/8ddd197d-81e6-43bb-a2b3-c9a158ddfbae/resource/bb73d93b-c255-4b6d-abac-258429fc482f/download/viagem_fretado_05_2019.csv\n",
      "Acessando:  https://dados.gov.br/dataset/monitriip-servico-fretado-viagens/resource/47e49fa7-5db9-41e2-b16e-7609fd9c2ae1\n",
      "Encontrada url:  http://landpage-h.cgu.gov.br/dadosabertos/index.php?url=https://dados.antt.gov.br/dataset/8ddd197d-81e6-43bb-a2b3-c9a158ddfbae/resource/47e49fa7-5db9-41e2-b16e-7609fd9c2ae1/download/viagem_fretado_04_2019.csv\n",
      "Acessando:  https://dados.gov.br/dataset/monitriip-servico-fretado-viagens/resource/56c9d46e-228b-4ad6-a0f5-5306e5643445\n",
      "Encontrada url:  http://landpage-h.cgu.gov.br/dadosabertos/index.php?url=https://dados.antt.gov.br/dataset/8ddd197d-81e6-43bb-a2b3-c9a158ddfbae/resource/56c9d46e-228b-4ad6-a0f5-5306e5643445/download/viagem_fretado_03_2019.csv\n",
      "Acessando:  https://dados.gov.br/dataset/monitriip-servico-fretado-viagens/resource/d9dd8b7d-2391-43bd-988f-9357d07c82ad\n",
      "Encontrada url:  http://landpage-h.cgu.gov.br/dadosabertos/index.php?url=https://dados.antt.gov.br/dataset/8ddd197d-81e6-43bb-a2b3-c9a158ddfbae/resource/d9dd8b7d-2391-43bd-988f-9357d07c82ad/download/viagem_fretado_02_2019.csv\n",
      "Acessando:  https://dados.gov.br/dataset/monitriip-servico-fretado-viagens/resource/f81ed671-a491-4d48-8710-9fd4bb260b28\n",
      "Encontrada url:  http://landpage-h.cgu.gov.br/dadosabertos/index.php?url=https://dados.antt.gov.br/dataset/8ddd197d-81e6-43bb-a2b3-c9a158ddfbae/resource/f81ed671-a491-4d48-8710-9fd4bb260b28/download/viagem_fretado_01_2019.csv\n",
      "Acessando:  https://dados.gov.br/dataset/monitriip-servico-fretado-viagens/resource/0e5f44ec-4baa-4962-95a8-3d3963614588\n"
     ]
    },
    {
     "name": "stdout",
     "output_type": "stream",
     "text": [
      "Encontrada url:  http://landpage-h.cgu.gov.br/dadosabertos/index.php?url=https://dados.antt.gov.br/dataset/8ddd197d-81e6-43bb-a2b3-c9a158ddfbae/resource/0e5f44ec-4baa-4962-95a8-3d3963614588/download/viagem_fretado_01_2021.csv\n",
      "Acessando:  https://dados.gov.br/dataset/monitriip-servico-fretado-viagens/resource/7c412ed5-8051-4f9d-8d39-a8ea6fdb020e\n",
      "Encontrada url:  http://landpage-h.cgu.gov.br/dadosabertos/index.php?url=https://dados.antt.gov.br/dataset/8ddd197d-81e6-43bb-a2b3-c9a158ddfbae/resource/7c412ed5-8051-4f9d-8d39-a8ea6fdb020e/download/viagem_fretado_02_2021.csv\n",
      "Encontrados:  26\n"
     ]
    },
    {
     "data": {
      "text/plain": [
       "['http://landpage-h.cgu.gov.br/dadosabertos/index.php?url=https://dados.antt.gov.br/dataset/8ddd197d-81e6-43bb-a2b3-c9a158ddfbae/resource/18abd07e-5337-4005-bbbb-7156c355bec3/download/viagem_fretado_12_2020.csv',\n",
       " 'http://landpage-h.cgu.gov.br/dadosabertos/index.php?url=https://dados.antt.gov.br/dataset/8ddd197d-81e6-43bb-a2b3-c9a158ddfbae/resource/30e5515d-9040-432c-ae4f-f8bdb7d488db/download/viagem_fretado_11_2020.csv',\n",
       " 'http://landpage-h.cgu.gov.br/dadosabertos/index.php?url=https://dados.antt.gov.br/dataset/8ddd197d-81e6-43bb-a2b3-c9a158ddfbae/resource/ed76ea8a-1146-499d-a21e-8c395f39a222/download/viagem_fretado_10_2020.csv',\n",
       " 'http://landpage-h.cgu.gov.br/dadosabertos/index.php?url=https://dados.antt.gov.br/dataset/8ddd197d-81e6-43bb-a2b3-c9a158ddfbae/resource/966d9f4b-4808-449e-bc64-a31923eb664d/download/viagem_fretado_09_2020.csv',\n",
       " 'http://landpage-h.cgu.gov.br/dadosabertos/index.php?url=https://dados.antt.gov.br/dataset/8ddd197d-81e6-43bb-a2b3-c9a158ddfbae/resource/ff137800-e866-465d-8688-3be1d9d06b68/download/viagem_fretado_08_2020.csv',\n",
       " 'http://landpage-h.cgu.gov.br/dadosabertos/index.php?url=https://dados.antt.gov.br/dataset/8ddd197d-81e6-43bb-a2b3-c9a158ddfbae/resource/bf6356f4-afca-47ec-9047-dd12e8dec80b/download/viagem_fretado_07_2020.csv',\n",
       " 'http://landpage-h.cgu.gov.br/dadosabertos/index.php?url=https://dados.antt.gov.br/dataset/8ddd197d-81e6-43bb-a2b3-c9a158ddfbae/resource/01f21c0c-98ed-46fc-8ffc-eabd38fcd413/download/viagem_fretado_06_2020.csv',\n",
       " 'http://landpage-h.cgu.gov.br/dadosabertos/index.php?url=https://dados.antt.gov.br/dataset/8ddd197d-81e6-43bb-a2b3-c9a158ddfbae/resource/2af43a5c-7447-47fd-af18-a460065eeee2/download/viagem_fretado_05_2020.csv',\n",
       " 'http://landpage-h.cgu.gov.br/dadosabertos/index.php?url=https://dados.antt.gov.br/dataset/8ddd197d-81e6-43bb-a2b3-c9a158ddfbae/resource/f3f73e23-ba40-4d2d-91eb-6224baa1863a/download/viagem_fretado_04_2020.csv',\n",
       " 'http://landpage-h.cgu.gov.br/dadosabertos/index.php?url=https://dados.antt.gov.br/dataset/8ddd197d-81e6-43bb-a2b3-c9a158ddfbae/resource/cf89f752-a3e2-4598-950e-ab4ab8b7b4fa/download/viagem_fretado_03_2020.csv',\n",
       " 'http://landpage-h.cgu.gov.br/dadosabertos/index.php?url=https://dados.antt.gov.br/dataset/8ddd197d-81e6-43bb-a2b3-c9a158ddfbae/resource/eefc96fc-0574-4c25-b4e4-23db8b646a7f/download/viagem_fretado_02_2020.csv',\n",
       " 'http://landpage-h.cgu.gov.br/dadosabertos/index.php?url=https://dados.antt.gov.br/dataset/8ddd197d-81e6-43bb-a2b3-c9a158ddfbae/resource/efb58a3a-28d3-433c-8fbf-9cfb54aa19d4/download/viagem_fretado_01_2020.csv',\n",
       " 'http://landpage-h.cgu.gov.br/dadosabertos/index.php?url=https://dados.antt.gov.br/dataset/8ddd197d-81e6-43bb-a2b3-c9a158ddfbae/resource/5d730064-6cab-4ffb-a21e-2b41503e2a31/download/viagem_fretado_12_2019.csv',\n",
       " 'http://landpage-h.cgu.gov.br/dadosabertos/index.php?url=https://dados.antt.gov.br/dataset/8ddd197d-81e6-43bb-a2b3-c9a158ddfbae/resource/cb51406a-c9a9-48b1-bad7-de3923028ccb/download/viagem_fretado_11_2019.csv',\n",
       " 'http://landpage-h.cgu.gov.br/dadosabertos/index.php?url=https://dados.antt.gov.br/dataset/8ddd197d-81e6-43bb-a2b3-c9a158ddfbae/resource/f28c65d1-f167-45ab-8d80-c797f36bafe7/download/viagem_fretado_10_2019.csv',\n",
       " 'http://landpage-h.cgu.gov.br/dadosabertos/index.php?url=https://dados.antt.gov.br/dataset/8ddd197d-81e6-43bb-a2b3-c9a158ddfbae/resource/69ceda9f-671f-4d44-b060-9d1028b0bab2/download/viagem_fretado_09_2019.csv',\n",
       " 'http://landpage-h.cgu.gov.br/dadosabertos/index.php?url=https://dados.antt.gov.br/dataset/8ddd197d-81e6-43bb-a2b3-c9a158ddfbae/resource/043a20c7-1799-4c88-8c7f-af943f2efada/download/viagem_fretado_08_2019.csv',\n",
       " 'http://landpage-h.cgu.gov.br/dadosabertos/index.php?url=https://dados.antt.gov.br/dataset/8ddd197d-81e6-43bb-a2b3-c9a158ddfbae/resource/c8206626-318d-4ac9-b4f4-4d16be749627/download/viagem_fretado_07_2019.csv',\n",
       " 'http://landpage-h.cgu.gov.br/dadosabertos/index.php?url=https://dados.antt.gov.br/dataset/8ddd197d-81e6-43bb-a2b3-c9a158ddfbae/resource/8a646f5f-5cd5-4aaa-a445-1e0e30ccb138/download/viagem_fretado_06_2019.csv',\n",
       " 'http://landpage-h.cgu.gov.br/dadosabertos/index.php?url=https://dados.antt.gov.br/dataset/8ddd197d-81e6-43bb-a2b3-c9a158ddfbae/resource/bb73d93b-c255-4b6d-abac-258429fc482f/download/viagem_fretado_05_2019.csv',\n",
       " 'http://landpage-h.cgu.gov.br/dadosabertos/index.php?url=https://dados.antt.gov.br/dataset/8ddd197d-81e6-43bb-a2b3-c9a158ddfbae/resource/47e49fa7-5db9-41e2-b16e-7609fd9c2ae1/download/viagem_fretado_04_2019.csv',\n",
       " 'http://landpage-h.cgu.gov.br/dadosabertos/index.php?url=https://dados.antt.gov.br/dataset/8ddd197d-81e6-43bb-a2b3-c9a158ddfbae/resource/56c9d46e-228b-4ad6-a0f5-5306e5643445/download/viagem_fretado_03_2019.csv',\n",
       " 'http://landpage-h.cgu.gov.br/dadosabertos/index.php?url=https://dados.antt.gov.br/dataset/8ddd197d-81e6-43bb-a2b3-c9a158ddfbae/resource/d9dd8b7d-2391-43bd-988f-9357d07c82ad/download/viagem_fretado_02_2019.csv',\n",
       " 'http://landpage-h.cgu.gov.br/dadosabertos/index.php?url=https://dados.antt.gov.br/dataset/8ddd197d-81e6-43bb-a2b3-c9a158ddfbae/resource/f81ed671-a491-4d48-8710-9fd4bb260b28/download/viagem_fretado_01_2019.csv',\n",
       " 'http://landpage-h.cgu.gov.br/dadosabertos/index.php?url=https://dados.antt.gov.br/dataset/8ddd197d-81e6-43bb-a2b3-c9a158ddfbae/resource/0e5f44ec-4baa-4962-95a8-3d3963614588/download/viagem_fretado_01_2021.csv',\n",
       " 'http://landpage-h.cgu.gov.br/dadosabertos/index.php?url=https://dados.antt.gov.br/dataset/8ddd197d-81e6-43bb-a2b3-c9a158ddfbae/resource/7c412ed5-8051-4f9d-8d39-a8ea6fdb020e/download/viagem_fretado_02_2021.csv']"
      ]
     },
     "execution_count": 12,
     "metadata": {},
     "output_type": "execute_result"
    }
   ],
   "source": [
    "url_base = 'https://dados.gov.br'\n",
    "lista_url_csv = list()\n",
    "\n",
    "# Entre em cada página de recurso e obtém a url de download do respectivo csv:\n",
    "for url_recurso in lista_url:\n",
    "    url_completa = url_base + url_recurso\n",
    "    print('Acessando: ', url_completa)\n",
    "    \n",
    "    # Abrir a página do recurso\n",
    "    response = requests.get(url_completa)\n",
    "    soup = BeautifulSoup(response.text, 'html.parser')\n",
    "    \n",
    "    # Encontrar a url de download do csv:\n",
    "    url_csv = soup.find(lambda tag:tag.name==\"a\" and '.CSV' in tag.get('href').upper()).get('href')\n",
    "    print('Encontrada url: ', url_csv)\n",
    "    lista_url_csv.append(url_csv)\n",
    "\n",
    "print('Encontrados: ', len(lista_url_csv))\n",
    "lista_url_csv"
   ]
  },
  {
   "cell_type": "code",
   "execution_count": 13,
   "metadata": {
    "scrolled": true
   },
   "outputs": [
    {
     "name": "stdout",
     "output_type": "stream",
     "text": [
      "Baixando:  viagem_fretado_12_2020.csv  de:  https://dados.antt.gov.br/dataset/8ddd197d-81e6-43bb-a2b3-c9a158ddfbae/resource/18abd07e-5337-4005-bbbb-7156c355bec3/download/viagem_fretado_12_2020.csv\n",
      "Baixando:  viagem_fretado_11_2020.csv  de:  https://dados.antt.gov.br/dataset/8ddd197d-81e6-43bb-a2b3-c9a158ddfbae/resource/30e5515d-9040-432c-ae4f-f8bdb7d488db/download/viagem_fretado_11_2020.csv\n",
      "Baixando:  viagem_fretado_10_2020.csv  de:  https://dados.antt.gov.br/dataset/8ddd197d-81e6-43bb-a2b3-c9a158ddfbae/resource/ed76ea8a-1146-499d-a21e-8c395f39a222/download/viagem_fretado_10_2020.csv\n",
      "Baixando:  viagem_fretado_09_2020.csv  de:  https://dados.antt.gov.br/dataset/8ddd197d-81e6-43bb-a2b3-c9a158ddfbae/resource/966d9f4b-4808-449e-bc64-a31923eb664d/download/viagem_fretado_09_2020.csv\n",
      "Baixando:  viagem_fretado_08_2020.csv  de:  https://dados.antt.gov.br/dataset/8ddd197d-81e6-43bb-a2b3-c9a158ddfbae/resource/ff137800-e866-465d-8688-3be1d9d06b68/download/viagem_fretado_08_2020.csv\n",
      "Baixando:  viagem_fretado_07_2020.csv  de:  https://dados.antt.gov.br/dataset/8ddd197d-81e6-43bb-a2b3-c9a158ddfbae/resource/bf6356f4-afca-47ec-9047-dd12e8dec80b/download/viagem_fretado_07_2020.csv\n",
      "Baixando:  viagem_fretado_06_2020.csv  de:  https://dados.antt.gov.br/dataset/8ddd197d-81e6-43bb-a2b3-c9a158ddfbae/resource/01f21c0c-98ed-46fc-8ffc-eabd38fcd413/download/viagem_fretado_06_2020.csv\n",
      "Baixando:  viagem_fretado_05_2020.csv  de:  https://dados.antt.gov.br/dataset/8ddd197d-81e6-43bb-a2b3-c9a158ddfbae/resource/2af43a5c-7447-47fd-af18-a460065eeee2/download/viagem_fretado_05_2020.csv\n",
      "Baixando:  viagem_fretado_04_2020.csv  de:  https://dados.antt.gov.br/dataset/8ddd197d-81e6-43bb-a2b3-c9a158ddfbae/resource/f3f73e23-ba40-4d2d-91eb-6224baa1863a/download/viagem_fretado_04_2020.csv\n",
      "Baixando:  viagem_fretado_03_2020.csv  de:  https://dados.antt.gov.br/dataset/8ddd197d-81e6-43bb-a2b3-c9a158ddfbae/resource/cf89f752-a3e2-4598-950e-ab4ab8b7b4fa/download/viagem_fretado_03_2020.csv\n",
      "Baixando:  viagem_fretado_02_2020.csv  de:  https://dados.antt.gov.br/dataset/8ddd197d-81e6-43bb-a2b3-c9a158ddfbae/resource/eefc96fc-0574-4c25-b4e4-23db8b646a7f/download/viagem_fretado_02_2020.csv\n",
      "Baixando:  viagem_fretado_01_2020.csv  de:  https://dados.antt.gov.br/dataset/8ddd197d-81e6-43bb-a2b3-c9a158ddfbae/resource/efb58a3a-28d3-433c-8fbf-9cfb54aa19d4/download/viagem_fretado_01_2020.csv\n",
      "Baixando:  viagem_fretado_12_2019.csv  de:  https://dados.antt.gov.br/dataset/8ddd197d-81e6-43bb-a2b3-c9a158ddfbae/resource/5d730064-6cab-4ffb-a21e-2b41503e2a31/download/viagem_fretado_12_2019.csv\n",
      "Baixando:  viagem_fretado_11_2019.csv  de:  https://dados.antt.gov.br/dataset/8ddd197d-81e6-43bb-a2b3-c9a158ddfbae/resource/cb51406a-c9a9-48b1-bad7-de3923028ccb/download/viagem_fretado_11_2019.csv\n",
      "Baixando:  viagem_fretado_10_2019.csv  de:  https://dados.antt.gov.br/dataset/8ddd197d-81e6-43bb-a2b3-c9a158ddfbae/resource/f28c65d1-f167-45ab-8d80-c797f36bafe7/download/viagem_fretado_10_2019.csv\n",
      "Baixando:  viagem_fretado_09_2019.csv  de:  https://dados.antt.gov.br/dataset/8ddd197d-81e6-43bb-a2b3-c9a158ddfbae/resource/69ceda9f-671f-4d44-b060-9d1028b0bab2/download/viagem_fretado_09_2019.csv\n",
      "Baixando:  viagem_fretado_08_2019.csv  de:  https://dados.antt.gov.br/dataset/8ddd197d-81e6-43bb-a2b3-c9a158ddfbae/resource/043a20c7-1799-4c88-8c7f-af943f2efada/download/viagem_fretado_08_2019.csv\n",
      "Baixando:  viagem_fretado_07_2019.csv  de:  https://dados.antt.gov.br/dataset/8ddd197d-81e6-43bb-a2b3-c9a158ddfbae/resource/c8206626-318d-4ac9-b4f4-4d16be749627/download/viagem_fretado_07_2019.csv\n",
      "Baixando:  viagem_fretado_06_2019.csv  de:  https://dados.antt.gov.br/dataset/8ddd197d-81e6-43bb-a2b3-c9a158ddfbae/resource/8a646f5f-5cd5-4aaa-a445-1e0e30ccb138/download/viagem_fretado_06_2019.csv\n",
      "Baixando:  viagem_fretado_05_2019.csv  de:  https://dados.antt.gov.br/dataset/8ddd197d-81e6-43bb-a2b3-c9a158ddfbae/resource/bb73d93b-c255-4b6d-abac-258429fc482f/download/viagem_fretado_05_2019.csv\n",
      "Baixando:  viagem_fretado_04_2019.csv  de:  https://dados.antt.gov.br/dataset/8ddd197d-81e6-43bb-a2b3-c9a158ddfbae/resource/47e49fa7-5db9-41e2-b16e-7609fd9c2ae1/download/viagem_fretado_04_2019.csv\n",
      "Baixando:  viagem_fretado_03_2019.csv  de:  https://dados.antt.gov.br/dataset/8ddd197d-81e6-43bb-a2b3-c9a158ddfbae/resource/56c9d46e-228b-4ad6-a0f5-5306e5643445/download/viagem_fretado_03_2019.csv\n",
      "Baixando:  viagem_fretado_02_2019.csv  de:  https://dados.antt.gov.br/dataset/8ddd197d-81e6-43bb-a2b3-c9a158ddfbae/resource/d9dd8b7d-2391-43bd-988f-9357d07c82ad/download/viagem_fretado_02_2019.csv\n",
      "Baixando:  viagem_fretado_01_2019.csv  de:  https://dados.antt.gov.br/dataset/8ddd197d-81e6-43bb-a2b3-c9a158ddfbae/resource/f81ed671-a491-4d48-8710-9fd4bb260b28/download/viagem_fretado_01_2019.csv\n",
      "Baixando:  viagem_fretado_01_2021.csv  de:  https://dados.antt.gov.br/dataset/8ddd197d-81e6-43bb-a2b3-c9a158ddfbae/resource/0e5f44ec-4baa-4962-95a8-3d3963614588/download/viagem_fretado_01_2021.csv\n",
      "Baixando:  viagem_fretado_02_2021.csv  de:  https://dados.antt.gov.br/dataset/8ddd197d-81e6-43bb-a2b3-c9a158ddfbae/resource/7c412ed5-8051-4f9d-8d39-a8ea6fdb020e/download/viagem_fretado_02_2021.csv\n"
     ]
    }
   ],
   "source": [
    "# Faz o download dos CSVs:\n",
    "for url_csv in lista_url_csv:\n",
    "    url_csv = url_csv.rsplit('url=', 1)[1]\n",
    "    nome_arquivo = url_csv.rsplit('/', 1)[1]\n",
    "    print('Baixando: ', nome_arquivo, ' de: ', url_csv)\n",
    "    req = requests.get(url_csv)\n",
    "    url_content = req.content\n",
    "    csv_file = open('C:\\\\DATASETS\\\\Empresas Existentes de Fato\\\\ANTT\\\\' + nome_arquivo, 'wb')\n",
    "\n",
    "    csv_file.write(url_content)\n",
    "    csv_file.close()"
   ]
  },
  {
   "cell_type": "markdown",
   "metadata": {},
   "source": [
    "Conseguimos baixar 26 arquivos CSV, correspondendo exatamente aos 26 recursos encontrados na página de dados abertos de registro de viagens fretadas da ANTT."
   ]
  },
  {
   "cell_type": "markdown",
   "metadata": {},
   "source": [
    "### Agora, vamos obter os CNPJs das empresas tanto de serviço regular quanto de serviço fretado:"
   ]
  },
  {
   "cell_type": "markdown",
   "metadata": {},
   "source": [
    "Conforme visto nos dicionários de dados das bases, existe a coluna 'cnpj' em todos os arquivos CSV. Vamos então obtê-la de cada arquivo e consolidar a lista de CNPJs de empresas que estão realizando serviços de transporte:"
   ]
  },
  {
   "cell_type": "code",
   "execution_count": 15,
   "metadata": {},
   "outputs": [
    {
     "name": "stdout",
     "output_type": "stream",
     "text": [
      "Importando:  C:\\DATASETS\\Empresas Existentes de Fato\\ANTT\\viagem_fretado_01_2019.csv\n",
      "Importando:  C:\\DATASETS\\Empresas Existentes de Fato\\ANTT\\viagem_fretado_01_2020.csv\n",
      "Importando:  C:\\DATASETS\\Empresas Existentes de Fato\\ANTT\\viagem_fretado_01_2021.csv\n",
      "Importando:  C:\\DATASETS\\Empresas Existentes de Fato\\ANTT\\viagem_fretado_02_2019.csv\n",
      "Importando:  C:\\DATASETS\\Empresas Existentes de Fato\\ANTT\\viagem_fretado_02_2020.csv\n",
      "Importando:  C:\\DATASETS\\Empresas Existentes de Fato\\ANTT\\viagem_fretado_02_2021.csv\n",
      "Importando:  C:\\DATASETS\\Empresas Existentes de Fato\\ANTT\\viagem_fretado_03_2019.csv\n",
      "Importando:  C:\\DATASETS\\Empresas Existentes de Fato\\ANTT\\viagem_fretado_03_2020.csv\n",
      "Importando:  C:\\DATASETS\\Empresas Existentes de Fato\\ANTT\\viagem_fretado_04_2019.csv\n",
      "Importando:  C:\\DATASETS\\Empresas Existentes de Fato\\ANTT\\viagem_fretado_04_2020.csv\n",
      "Importando:  C:\\DATASETS\\Empresas Existentes de Fato\\ANTT\\viagem_fretado_05_2019.csv\n",
      "Importando:  C:\\DATASETS\\Empresas Existentes de Fato\\ANTT\\viagem_fretado_05_2020.csv\n",
      "Importando:  C:\\DATASETS\\Empresas Existentes de Fato\\ANTT\\viagem_fretado_06_2019.csv\n",
      "Importando:  C:\\DATASETS\\Empresas Existentes de Fato\\ANTT\\viagem_fretado_06_2020.csv\n",
      "Importando:  C:\\DATASETS\\Empresas Existentes de Fato\\ANTT\\viagem_fretado_07_2019.csv\n",
      "Importando:  C:\\DATASETS\\Empresas Existentes de Fato\\ANTT\\viagem_fretado_07_2020.csv\n",
      "Importando:  C:\\DATASETS\\Empresas Existentes de Fato\\ANTT\\viagem_fretado_08_2019.csv\n",
      "Importando:  C:\\DATASETS\\Empresas Existentes de Fato\\ANTT\\viagem_fretado_08_2020.csv\n",
      "Importando:  C:\\DATASETS\\Empresas Existentes de Fato\\ANTT\\viagem_fretado_09_2019.csv\n",
      "Importando:  C:\\DATASETS\\Empresas Existentes de Fato\\ANTT\\viagem_fretado_09_2020.csv\n",
      "Importando:  C:\\DATASETS\\Empresas Existentes de Fato\\ANTT\\viagem_fretado_10_2019.csv\n",
      "Importando:  C:\\DATASETS\\Empresas Existentes de Fato\\ANTT\\viagem_fretado_10_2020.csv\n",
      "Importando:  C:\\DATASETS\\Empresas Existentes de Fato\\ANTT\\viagem_fretado_11_2019.csv\n",
      "Importando:  C:\\DATASETS\\Empresas Existentes de Fato\\ANTT\\viagem_fretado_11_2020.csv\n",
      "Importando:  C:\\DATASETS\\Empresas Existentes de Fato\\ANTT\\viagem_fretado_12_2019.csv\n",
      "Importando:  C:\\DATASETS\\Empresas Existentes de Fato\\ANTT\\viagem_fretado_12_2020.csv\n",
      "Importando:  C:\\DATASETS\\Empresas Existentes de Fato\\ANTT\\viagem_regular_01_2019.csv\n",
      "Importando:  C:\\DATASETS\\Empresas Existentes de Fato\\ANTT\\viagem_regular_01_2020.csv\n",
      "Importando:  C:\\DATASETS\\Empresas Existentes de Fato\\ANTT\\viagem_regular_01_2021.csv\n",
      "Importando:  C:\\DATASETS\\Empresas Existentes de Fato\\ANTT\\viagem_regular_02_2019.csv\n",
      "Importando:  C:\\DATASETS\\Empresas Existentes de Fato\\ANTT\\viagem_regular_02_2020.csv\n",
      "Importando:  C:\\DATASETS\\Empresas Existentes de Fato\\ANTT\\viagem_regular_02_2021.csv\n",
      "Importando:  C:\\DATASETS\\Empresas Existentes de Fato\\ANTT\\viagem_regular_03_2019.csv\n",
      "Importando:  C:\\DATASETS\\Empresas Existentes de Fato\\ANTT\\viagem_regular_03_2020.csv\n",
      "Importando:  C:\\DATASETS\\Empresas Existentes de Fato\\ANTT\\viagem_regular_04_2019.csv\n",
      "Importando:  C:\\DATASETS\\Empresas Existentes de Fato\\ANTT\\viagem_regular_04_2020.csv\n",
      "Importando:  C:\\DATASETS\\Empresas Existentes de Fato\\ANTT\\viagem_regular_05_2019.csv\n",
      "Importando:  C:\\DATASETS\\Empresas Existentes de Fato\\ANTT\\viagem_regular_05_2020.csv\n",
      "Importando:  C:\\DATASETS\\Empresas Existentes de Fato\\ANTT\\viagem_regular_06_2019.csv\n",
      "Importando:  C:\\DATASETS\\Empresas Existentes de Fato\\ANTT\\viagem_regular_06_2020.csv\n",
      "Importando:  C:\\DATASETS\\Empresas Existentes de Fato\\ANTT\\viagem_regular_07_2019.csv\n",
      "Importando:  C:\\DATASETS\\Empresas Existentes de Fato\\ANTT\\viagem_regular_07_2020.csv\n",
      "Importando:  C:\\DATASETS\\Empresas Existentes de Fato\\ANTT\\viagem_regular_08_2019.csv\n",
      "Importando:  C:\\DATASETS\\Empresas Existentes de Fato\\ANTT\\viagem_regular_08_2020.csv\n",
      "Importando:  C:\\DATASETS\\Empresas Existentes de Fato\\ANTT\\viagem_regular_09_2019.csv\n",
      "Importando:  C:\\DATASETS\\Empresas Existentes de Fato\\ANTT\\viagem_regular_09_2020.csv\n",
      "Importando:  C:\\DATASETS\\Empresas Existentes de Fato\\ANTT\\viagem_regular_10_2019.csv\n",
      "Importando:  C:\\DATASETS\\Empresas Existentes de Fato\\ANTT\\viagem_regular_10_2020.csv\n",
      "Importando:  C:\\DATASETS\\Empresas Existentes de Fato\\ANTT\\viagem_regular_11_2019.csv\n",
      "Importando:  C:\\DATASETS\\Empresas Existentes de Fato\\ANTT\\viagem_regular_11_2020.csv\n",
      "Importando:  C:\\DATASETS\\Empresas Existentes de Fato\\ANTT\\viagem_regular_12_2019.csv\n",
      "Importando:  C:\\DATASETS\\Empresas Existentes de Fato\\ANTT\\viagem_regular_12_2020.csv\n"
     ]
    },
    {
     "data": {
      "text/plain": [
       "<bound method NDFrame.describe of                    cnpj                                            Arquivo\n",
       "0        07222913000100  C:\\DATASETS\\Empresas Existentes de Fato\\ANTT\\v...\n",
       "1        23841160000169  C:\\DATASETS\\Empresas Existentes de Fato\\ANTT\\v...\n",
       "2        23338155000138  C:\\DATASETS\\Empresas Existentes de Fato\\ANTT\\v...\n",
       "3        03772611000146  C:\\DATASETS\\Empresas Existentes de Fato\\ANTT\\v...\n",
       "4        07661783000101  C:\\DATASETS\\Empresas Existentes de Fato\\ANTT\\v...\n",
       "...                 ...                                                ...\n",
       "2088992  82647884000135  C:\\DATASETS\\Empresas Existentes de Fato\\ANTT\\v...\n",
       "2088993  82647884000135  C:\\DATASETS\\Empresas Existentes de Fato\\ANTT\\v...\n",
       "2088994  82647884000135  C:\\DATASETS\\Empresas Existentes de Fato\\ANTT\\v...\n",
       "2088995  76080738000178  C:\\DATASETS\\Empresas Existentes de Fato\\ANTT\\v...\n",
       "2088996  76080738000178  C:\\DATASETS\\Empresas Existentes de Fato\\ANTT\\v...\n",
       "\n",
       "[2088997 rows x 2 columns]>"
      ]
     },
     "execution_count": 15,
     "metadata": {},
     "output_type": "execute_result"
    }
   ],
   "source": [
    "# IMPORTAÇÃO DOS ARQUIVOS CSV:\n",
    "\n",
    "path = r'C:\\DATASETS\\Empresas Existentes de Fato\\ANTT'\n",
    "all_files = glob.glob(path + \"/*.csv\")\n",
    "\n",
    "li = []\n",
    "\n",
    "for filename in all_files:\n",
    "    print('Importando: ', filename)\n",
    "    temp_df = pd.read_csv(filename, sep=';', dtype=str, usecols=['cnpj'])\n",
    "    temp_df['Arquivo'] = filename\n",
    "    li.append(temp_df)\n",
    "\n",
    "# Concatena o resultado no dataframe\n",
    "df = pd.concat(li, axis=0, ignore_index=True)\n",
    "\n",
    "df.describe"
   ]
  },
  {
   "cell_type": "code",
   "execution_count": 16,
   "metadata": {},
   "outputs": [
    {
     "data": {
      "text/plain": [
       "14    2088997\n",
       "Name: cnpj, dtype: int64"
      ]
     },
     "execution_count": 16,
     "metadata": {},
     "output_type": "execute_result"
    }
   ],
   "source": [
    "# Verificando tamanhos dos valores na coluna cnpj\n",
    "df.cnpj.str.len().value_counts()"
   ]
  },
  {
   "cell_type": "markdown",
   "metadata": {},
   "source": [
    "Temos apenas CNPJ com 14 dígitos, conforme esperado. Não precisamos fazer limpeza ou correção."
   ]
  },
  {
   "cell_type": "code",
   "execution_count": 17,
   "metadata": {},
   "outputs": [
    {
     "data": {
      "text/plain": [
       "C:\\DATASETS\\Empresas Existentes de Fato\\ANTT\\viagem_regular_01_2020.csv    119227\n",
       "C:\\DATASETS\\Empresas Existentes de Fato\\ANTT\\viagem_regular_12_2019.csv    114816\n",
       "C:\\DATASETS\\Empresas Existentes de Fato\\ANTT\\viagem_regular_02_2020.csv    114130\n",
       "C:\\DATASETS\\Empresas Existentes de Fato\\ANTT\\viagem_regular_10_2019.csv    104633\n",
       "C:\\DATASETS\\Empresas Existentes de Fato\\ANTT\\viagem_regular_01_2021.csv    103352\n",
       "C:\\DATASETS\\Empresas Existentes de Fato\\ANTT\\viagem_regular_11_2019.csv    101435\n",
       "C:\\DATASETS\\Empresas Existentes de Fato\\ANTT\\viagem_regular_09_2019.csv    100626\n",
       "C:\\DATASETS\\Empresas Existentes de Fato\\ANTT\\viagem_regular_08_2019.csv     97040\n",
       "C:\\DATASETS\\Empresas Existentes de Fato\\ANTT\\viagem_regular_12_2020.csv     95119\n",
       "C:\\DATASETS\\Empresas Existentes de Fato\\ANTT\\viagem_regular_05_2019.csv     94897\n",
       "C:\\DATASETS\\Empresas Existentes de Fato\\ANTT\\viagem_regular_01_2019.csv     94720\n",
       "C:\\DATASETS\\Empresas Existentes de Fato\\ANTT\\viagem_regular_03_2019.csv     92849\n",
       "C:\\DATASETS\\Empresas Existentes de Fato\\ANTT\\viagem_regular_04_2019.csv     92646\n",
       "C:\\DATASETS\\Empresas Existentes de Fato\\ANTT\\viagem_regular_07_2019.csv     92157\n",
       "C:\\DATASETS\\Empresas Existentes de Fato\\ANTT\\viagem_regular_02_2021.csv     90968\n",
       "C:\\DATASETS\\Empresas Existentes de Fato\\ANTT\\viagem_regular_06_2019.csv     87937\n",
       "C:\\DATASETS\\Empresas Existentes de Fato\\ANTT\\viagem_regular_02_2019.csv     77401\n",
       "C:\\DATASETS\\Empresas Existentes de Fato\\ANTT\\viagem_regular_11_2020.csv     72869\n",
       "C:\\DATASETS\\Empresas Existentes de Fato\\ANTT\\viagem_regular_03_2020.csv     68620\n",
       "C:\\DATASETS\\Empresas Existentes de Fato\\ANTT\\viagem_regular_10_2020.csv     63444\n",
       "C:\\DATASETS\\Empresas Existentes de Fato\\ANTT\\viagem_regular_09_2020.csv     56943\n",
       "C:\\DATASETS\\Empresas Existentes de Fato\\ANTT\\viagem_regular_08_2020.csv     44600\n",
       "C:\\DATASETS\\Empresas Existentes de Fato\\ANTT\\viagem_regular_07_2020.csv     29592\n",
       "C:\\DATASETS\\Empresas Existentes de Fato\\ANTT\\viagem_regular_06_2020.csv     16501\n",
       "C:\\DATASETS\\Empresas Existentes de Fato\\ANTT\\viagem_regular_05_2020.csv      7363\n",
       "C:\\DATASETS\\Empresas Existentes de Fato\\ANTT\\viagem_fretado_11_2019.csv      4525\n",
       "C:\\DATASETS\\Empresas Existentes de Fato\\ANTT\\viagem_fretado_10_2019.csv      4133\n",
       "C:\\DATASETS\\Empresas Existentes de Fato\\ANTT\\viagem_fretado_12_2019.csv      3791\n",
       "C:\\DATASETS\\Empresas Existentes de Fato\\ANTT\\viagem_fretado_09_2019.csv      3751\n",
       "C:\\DATASETS\\Empresas Existentes de Fato\\ANTT\\viagem_regular_04_2020.csv      3436\n",
       "C:\\DATASETS\\Empresas Existentes de Fato\\ANTT\\viagem_fretado_04_2019.csv      3304\n",
       "C:\\DATASETS\\Empresas Existentes de Fato\\ANTT\\viagem_fretado_03_2019.csv      3179\n",
       "C:\\DATASETS\\Empresas Existentes de Fato\\ANTT\\viagem_fretado_01_2019.csv      3065\n",
       "C:\\DATASETS\\Empresas Existentes de Fato\\ANTT\\viagem_fretado_05_2019.csv      3004\n",
       "C:\\DATASETS\\Empresas Existentes de Fato\\ANTT\\viagem_fretado_08_2019.csv      2776\n",
       "C:\\DATASETS\\Empresas Existentes de Fato\\ANTT\\viagem_fretado_01_2020.csv      2750\n",
       "C:\\DATASETS\\Empresas Existentes de Fato\\ANTT\\viagem_fretado_06_2019.csv      2651\n",
       "C:\\DATASETS\\Empresas Existentes de Fato\\ANTT\\viagem_fretado_07_2019.csv      2602\n",
       "C:\\DATASETS\\Empresas Existentes de Fato\\ANTT\\viagem_fretado_02_2019.csv      2502\n",
       "C:\\DATASETS\\Empresas Existentes de Fato\\ANTT\\viagem_fretado_02_2020.csv      2486\n",
       "C:\\DATASETS\\Empresas Existentes de Fato\\ANTT\\viagem_fretado_03_2020.csv      1345\n",
       "C:\\DATASETS\\Empresas Existentes de Fato\\ANTT\\viagem_fretado_11_2020.csv      1109\n",
       "C:\\DATASETS\\Empresas Existentes de Fato\\ANTT\\viagem_fretado_12_2020.csv      1095\n",
       "C:\\DATASETS\\Empresas Existentes de Fato\\ANTT\\viagem_fretado_10_2020.csv       842\n",
       "C:\\DATASETS\\Empresas Existentes de Fato\\ANTT\\viagem_fretado_01_2021.csv       823\n",
       "C:\\DATASETS\\Empresas Existentes de Fato\\ANTT\\viagem_fretado_02_2021.csv       727\n",
       "C:\\DATASETS\\Empresas Existentes de Fato\\ANTT\\viagem_fretado_09_2020.csv       507\n",
       "C:\\DATASETS\\Empresas Existentes de Fato\\ANTT\\viagem_fretado_08_2020.csv       314\n",
       "C:\\DATASETS\\Empresas Existentes de Fato\\ANTT\\viagem_fretado_07_2020.csv       169\n",
       "C:\\DATASETS\\Empresas Existentes de Fato\\ANTT\\viagem_fretado_06_2020.csv       100\n",
       "C:\\DATASETS\\Empresas Existentes de Fato\\ANTT\\viagem_fretado_05_2020.csv        70\n",
       "C:\\DATASETS\\Empresas Existentes de Fato\\ANTT\\viagem_fretado_04_2020.csv        56\n",
       "Name: Arquivo, dtype: int64"
      ]
     },
     "metadata": {},
     "output_type": "display_data"
    },
    {
     "name": "stdout",
     "output_type": "stream",
     "text": [
      "1702\n"
     ]
    }
   ],
   "source": [
    "# Verificando quantidade de CNPJ por arquivo:\n",
    "display(df.Arquivo.value_counts())\n",
    "\n",
    "# Verificando quantidade de CNPJ únicos:\n",
    "print(df.cnpj.nunique())"
   ]
  },
  {
   "cell_type": "code",
   "execution_count": 18,
   "metadata": {},
   "outputs": [
    {
     "name": "stdout",
     "output_type": "stream",
     "text": [
      "                   CNPJ\n",
      "0        07222913000100\n",
      "1        23841160000169\n",
      "2        23338155000138\n",
      "3        03772611000146\n",
      "4        07661783000101\n",
      "...                 ...\n",
      "322442   17997420000197\n",
      "463751   08324808000136\n",
      "922772   05939969000146\n",
      "1346903  04801028000189\n",
      "1968457  02190197000102\n",
      "\n",
      "[1702 rows x 1 columns]\n"
     ]
    }
   ],
   "source": [
    "# Vamos ficar apenas com a coluna de cnpj e remover os duplicados:\n",
    "df = df.drop(columns=['Arquivo'])\n",
    "df.columns = ['CNPJ']\n",
    "df.drop_duplicates(inplace=True)\n",
    "print(df)"
   ]
  },
  {
   "cell_type": "markdown",
   "metadata": {},
   "source": [
    "Salvando o resultdo com a lista de CNPJs de empresas que fazem serviço de transporte coletivo de passageiros:"
   ]
  },
  {
   "cell_type": "code",
   "execution_count": 19,
   "metadata": {},
   "outputs": [],
   "source": [
    "df.to_csv(r'C:\\DATASETS\\Empresas Existentes de Fato\\empresas_transporte_coletivo.csv', index = False)"
   ]
  }
 ],
 "metadata": {
  "kernelspec": {
   "display_name": "Python 3",
   "language": "python",
   "name": "python3"
  },
  "language_info": {
   "codemirror_mode": {
    "name": "ipython",
    "version": 3
   },
   "file_extension": ".py",
   "mimetype": "text/x-python",
   "name": "python",
   "nbconvert_exporter": "python",
   "pygments_lexer": "ipython3",
   "version": "3.7.4"
  }
 },
 "nbformat": 4,
 "nbformat_minor": 2
}
