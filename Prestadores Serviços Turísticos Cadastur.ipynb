{
 "cells": [
  {
   "cell_type": "markdown",
   "metadata": {},
   "source": [
    "A base analisada nesse notebook é do Cadastur, que é o sistema de cadastro de pessoas físicas e jurídicas que atuam no setor de turismo, formalizando e legalizando estes prestadores de serviços junto ao Ministério de Turismo.\n",
    "\n",
    "Com o cadastro, os prestadores de serviços turísticos mantêm uma situação de regularidade no setor e conquistam benefícios como acesso e participação em programas e projetos apoiados ou promovidos pelo Governo Federal, ações de qualificação profissional, acesso a linhas de créditos especiais e visibilidade do seu negócio no site do Cadastur.\n",
    "\n",
    "O certificado de cadastro tem validade de dois anos para as pessoas jurídicas (obrigatórias ou opcionais), e atesta sua regularidade cadastral.\n",
    "\n",
    "Pressuposto assumido: ter um certificado vigente ou vencido recentemente* é uma manifestação de comportamento empresarial que caracteriza uma empresa em atividade operante (ou com intenção de operar), ou seja, caracteriza uma empresa existente de fato. (qual a chance de uma empresa inexistente de fato manter ativo um certificado cadastral?)\n",
    "\n",
    "\\* também serão consideradas como empresas existentes de fato aquelas com certificados vencidos em 2020, pressupondo a possibilidade da empresa ficar mais ou menos 1 ano com o certificado vencido, especialmente em uma época de pandemia, em que um dos setores mais prejudicados foi o de turismo.\n",
    "\n",
    "Portanto, obter a lista dos CNPJs dessas empresas nos permitirá rotular algumas empresas da base nacional como existentes de fato.\n",
    "\n",
    "Vamos obter os CNPJs das empresas com registro no Cadastur através de downloads de vários arquivos CSV disponíveis no site: http://dados.turismo.gov.br/cadastur"
   ]
  },
  {
   "cell_type": "code",
   "execution_count": 1,
   "metadata": {},
   "outputs": [],
   "source": [
    "import requests\n",
    "from bs4 import BeautifulSoup\n",
    "import pandas as pd\n",
    "import glob\n",
    "import re"
   ]
  },
  {
   "cell_type": "code",
   "execution_count": 51,
   "metadata": {},
   "outputs": [],
   "source": [
    "# Obtém o html da página web que possui os links de todos os arquivos que precisamos baixar:\n",
    "response = requests.get('http://dados.turismo.gov.br/cadastur')\n",
    "soup = BeautifulSoup(response.text, 'html.parser')"
   ]
  },
  {
   "cell_type": "code",
   "execution_count": 9,
   "metadata": {},
   "outputs": [
    {
     "data": {
      "text/plain": [
       "[<a href=\"http://dados.turismo.gov.br/images/csv/Prestadores_Servicos_Turistico_CADASTUR/202001TrimestrePF.csv\">2020-1ºTRI</a>,\n",
       " <a href=\"http://dados.turismo.gov.br/images/csv/Prestadores_Servicos_Turistico_CADASTUR/202002TrimestrePF.csv\">2020-2ºTRI</a>,\n",
       " <a href=\"http://dados.turismo.gov.br/images/csv/Prestadores_Servicos_Turistico_CADASTUR/202003TrimestrePF.csv\">2020-3ºTRI</a>,\n",
       " <a href=\"http://dados.turismo.gov.br/images/csv/cadastur/01/202004TrimestrePF.csv\">2020-4ºTRI</a>,\n",
       " <a href=\"http://turismo.gov.br/dadosabertos/cadasturpj/AcampamentoTuristico202001TrimestreCadasturPJ.csv\">2020-1ºTRI</a>,\n",
       " <a href=\"http://turismo.gov.br/dadosabertos/cadasturpj/AcampamentoTuristico202002TrimestreCadasturPJ.csv\">2020-2ºTRI</a>,\n",
       " <a href=\"http://turismo.gov.br/dadosabertos/cadasturpj/AcampamentoTuristico202003TrimestreCadasturPJ.csv\">2020-3ºTRI</a>,\n",
       " <a href=\"http://dados.turismo.gov.br/images/csv/cadastur/02_Acampamento_Turistico/AcampamentoTuristico202004TrimestreCadasturPJ.csv\">2020-4ºTRI</a>,\n",
       " <a href=\"http://turismo.gov.br/dadosabertos/cadasturpj/AgenciadeTurismo202001TrimestreCadasturPJ.csv\">2020-1ºTRI</a>,\n",
       " <a href=\"http://turismo.gov.br/dadosabertos/cadasturpj/AgenciadeTurismo202002TrimestreCadasturPJ.csv\">2020-2ºTRI</a>,\n",
       " <a href=\"http://turismo.gov.br/dadosabertos/cadasturpj/AgenciadeTurismo202003TrimestreCadasturPJ.csv\">2020-3ºTRI</a>,\n",
       " <a href=\"http://dados.turismo.gov.br/images/csv/cadastur/03_Agencia_de_Turismo/AgenciadeTurismo202004TrimestreCadasturPJ.csv\">2020-4ºTRI</a>,\n",
       " <a href=\"http://turismo.gov.br/dadosabertos/cadasturpj/MeiodeHospedagem202001TrimestreCadasturPJ.csv\">2020-1ºTRI</a>,\n",
       " <a href=\"http://turismo.gov.br/dadosabertos/cadasturpj/MeiodeHospedagem202002TrimestreCadasturPJ.csv\">2020-2ºTRI</a>,\n",
       " <a href=\"http://turismo.gov.br/dadosabertos/cadasturpj/MeiodeHospedagem202003TrimestreCadasturPJ.csv\">2020-3ºTRI</a>,\n",
       " <a href=\"http://dados.turismo.gov.br/images/csv/cadastur/04_Meios_de_Hospedagem/MeiodeHospedagem202004TrimestreCadasturPJ.csv\">2020-4ºTRI</a>,\n",
       " <a href=\"http://turismo.gov.br/dadosabertos/cadasturpj/ParqueTematico202001TrimestreCadasturPJ.csv\">2020-1ºTRI</a>,\n",
       " <a href=\"http://turismo.gov.br/dadosabertos/cadasturpj/ParqueTematico202002TrimestreCadasturPJ.csv\">2020-2ºTRI</a>,\n",
       " <a href=\"http://turismo.gov.br/dadosabertos/cadasturpj/ParqueTematico202003TrimestreCadasturPJ.csv\">2020-3ºTRI</a>,\n",
       " <a href=\"http://dados.turismo.gov.br/images/csv/cadastur/05_Parque_Tematico/ParqueTematico202004TrimestreCadasturPJ.csv\">2020-4ºTRI</a>,\n",
       " <a href=\"http://www.turismo.gov.br/dadosabertos/cadasturpj/TransportadoraTuristica202001TrimestreCadasturPJ.csv\">2020-1ºTRI</a>,\n",
       " <a href=\"http://www.turismo.gov.br/dadosabertos/cadasturpj/TransportadoraTuristica202002TrimestreCadasturPJ.csv\">2020-2ºTRI</a>,\n",
       " <a href=\"http://www.turismo.gov.br/dadosabertos/cadasturpj/TransportadoraTuristica202003TrimestreCadasturPJ.csv\">2020-3ºTRI</a>,\n",
       " <a href=\"http://dados.turismo.gov.br/images/csv/cadastur/06_Transportadora_Turistica/TransportadoraTuristica202004TrimestreCadasturPJ.csv\">2020-4ºTRI</a>,\n",
       " <a href=\"http://turismo.gov.br/dadosabertos/cadasturpj/CasaDeEspetaculosEquipamentosDeAnimacao202001TrimestreCadasturPJ.csv\">2020-1ºTRI</a>,\n",
       " <a href=\"http://turismo.gov.br/dadosabertos/cadasturpj/CasaDeEspetaculosEquipamentosDeAnimacao202002TrimestreCadasturPJ.csv\">2020-2ºTRI</a>,\n",
       " <a href=\"http://turismo.gov.br/dadosabertos/cadasturpj/CasaDeEspetaculosEquipamentosDeAnimacao202003TrimestreCadasturPJ.csv\">2020-3ºTRI</a>,\n",
       " <a href=\"http://dados.turismo.gov.br/images/csv/cadastur/07_Casas_de_Espetaculos_e_Equipamentos_de_Animacao_Turistica/CasaDeEspetaculosEquipamentosDeAnimacao202004TrimestreCadasturPJ.csv\">2020-4ºTRI</a>,\n",
       " <a href=\"http://www.turismo.gov.br/dadosabertos/cadasturpj/CentrodeConvencoes202001TrimestreCadasturPJ.csv\">2020-1ºTRI</a>,\n",
       " <a href=\"http://www.turismo.gov.br/dadosabertos/cadasturpj/CentrodeConvencoes202002TrimestreCadasturPJ.csv\">2020-2ºTRI</a>,\n",
       " <a href=\"http://www.turismo.gov.br/dadosabertos/cadasturpj/CentrodeConvencoes202003TrimestreCadasturPJ.csv\">2020-3ºTRI</a>,\n",
       " <a href=\"http://dados.turismo.gov.br/images/csv/cadastur/08_Centro_de_Convencoes/CentrodeConvencoes202004TrimestreCadasturPJ.csv\">2020-4ºTRI</a>,\n",
       " <a href=\"http://turismo.gov.br/dadosabertos/cadasturpj/EmpreendimentodeApoioaoTurismoNauticoouaPescaDesportiva202001TrimestreCadasturPJ.csv\">2020-1ºTRI</a>,\n",
       " <a href=\"http://turismo.gov.br/dadosabertos/cadasturpj/EmpreendimentodeApoioaoTurismoNauticoouaPescaDesportiva202002TrimestreCadasturPJ.csv\">2020-2ºTRI</a>,\n",
       " <a href=\"http://turismo.gov.br/dadosabertos/cadasturpj/EmpreendimentodeApoioaoTurismoNauticoouaPescaDesportiva202003TrimestreCadasturPJ.csv\">2020-3ºTRI</a>,\n",
       " <a href=\"http://dados.turismo.gov.br/images/csv/cadastur/09_Empreendimento_de_Apoio_ao_Turismo_Nautico_ou_a_Pesca_Desportiva/EmpreendimentodeApoioaoTurismoNauticoouaPescaDesportiva202004TrimestreCadasturPJ.csv\">2020-4ºTRI</a>,\n",
       " <a href=\"http://turismo.gov.br/dadosabertos/cadasturpj/ParqueAquatico202001TrimestreCadasturPJ.csv\">2020-1ºTRI</a>,\n",
       " <a href=\"http://turismo.gov.br/dadosabertos/cadasturpj/ParqueAquatico202002TrimestreCadasturPJ.csv\">2020-2ºTRI</a>,\n",
       " <a href=\"http://turismo.gov.br/dadosabertos/cadasturpj/ParqueAquatico202003TrimestreCadasturPJ.csv\">2020-3ºTRI</a>,\n",
       " <a href=\"http://dados.turismo.gov.br/images/csv/cadastur/10_Empreendimento_de_Entretenimento_e_Lazer_e_Parques_Aquaticos/ParqueAquatico202004TrimestreCadasturPJ.csv\">2020-4ºTRI</a>,\n",
       " <a href=\"http://turismo.gov.br/dadosabertos/cadasturpj/LocadoradeVeiculos202001TrimestreCadasturPJ.csv\">2020-1ºTRI</a>,\n",
       " <a href=\"http://turismo.gov.br/dadosabertos/cadasturpj/LocadoradeVeiculos202002TrimestreCadasturPJ.csv\">2020-2ºTRI</a>,\n",
       " <a href=\"http://turismo.gov.br/dadosabertos/cadasturpj/LocadoradeVeiculos202003TrimestreCadasturPJ.csv\">2020-3ºTRI</a>,\n",
       " <a href=\"http://dados.turismo.gov.br/images/csv/cadastur/11_Locadora_de_Veiculos/LocadoradeVeiculos202004TrimestreCadasturPJ.csv\">2020-4ºTRI</a>,\n",
       " <a href=\"http://www.turismo.gov.br/dadosabertos/cadasturpj/OrganizadoraDeEventos202001TrimestreCadasturPJ.csv\">2020-1ºTRI</a>,\n",
       " <a href=\"http://www.turismo.gov.br/dadosabertos/cadasturpj/OrganizadoraDeEventos202002TrimestreCadasturPJ.csv\">2020-2ºTRI</a>,\n",
       " <a href=\"http://www.turismo.gov.br/dadosabertos/cadasturpj/OrganizadoraDeEventos202003TrimestreCadasturPJ.csv\">2020-3ºTRI</a>,\n",
       " <a href=\"http://dados.turismo.gov.br/images/csv/cadastur/12_Organizador_de_Eventos/OrganizadoraDeEventos202004TrimestreCadasturPJ.csv\">2020-4ºTRI</a>,\n",
       " <a href=\"http://www.turismo.gov.br/dadosabertos/cadasturpj/PrestadorDeInfraestruturaDeApoioParaEventos202001TrimestreCadasturPJ.csv\">2020-1ºTRI</a>,\n",
       " <a href=\"http://www.turismo.gov.br/dadosabertos/cadasturpj/PrestadorDeInfraestruturaDeApoioParaEventos202002TrimestreCadasturPJ.csv\">2020-2ºTRI</a>,\n",
       " <a href=\"http://www.turismo.gov.br/dadosabertos/cadasturpj/PrestadorDeInfraestruturaDeApoioParaEventos202003TrimestreCadasturPJ.csv\">2020-3ºTRI</a>,\n",
       " <a href=\"http://dados.turismo.gov.br/images/csv/cadastur/13_Prestador_de_Servicos_de_Infraestrutura_de_Apoio_a_Eventos/PrestadorDeInfraestruturaDeApoioParaEventos202004TrimestreCadasturPJ.csv\">2020-4ºTRI</a>,\n",
       " <a href=\"http://www.turismo.gov.br/dadosabertos/cadasturpj/PrestadorEspecializadoemSegmentosTuristicos202001TrimestreCadasturPJ.csv\">2020-1ºTRI</a>,\n",
       " <a href=\"http://www.turismo.gov.br/dadosabertos/cadasturpj/PrestadorEspecializadoemSegmentosTuristicos202002TrimestreCadasturPJ.csv\">2020-2ºTRI</a>,\n",
       " <a href=\"http://www.turismo.gov.br/dadosabertos/cadasturpj/PrestadorEspecializadoemSegmentosTuristicos202003TrimestreCadasturPJ.csv\">2020-3ºTRI</a>,\n",
       " <a href=\"http://dados.turismo.gov.br/images/csv/cadastur/14_Prestador_Especializado_em_Segmentos_Turisticos/PrestadorEspecializadoemSegmentosTuristicos202004TrimestreCadasturPJ.csv\">2020-4ºTRI</a>,\n",
       " <a href=\"http://turismo.gov.br/dadosabertos/cadasturpj/RestaurantesCafeteriaseBares202001TrimestreCadasturPJ.csv\">2020-1ºTRI</a>,\n",
       " <a href=\"http://turismo.gov.br/dadosabertos/cadasturpj/RestaurantesCafeteriaseBares202002TrimestreCadasturPJ.csv\">2020-2ºTRI</a>,\n",
       " <a href=\"http://turismo.gov.br/dadosabertos/cadasturpj/RestaurantesCafeteriaseBares202003TrimestreCadasturPJ.csv\">2020-3ºTRI</a>,\n",
       " <a href=\"http://dados.turismo.gov.br/images/csv/cadastur/15_Restaurantes_Cafeterias_e_Bares/RestaurantesCafeteriaseBares202004TrimestreCadasturPJ.csv\">2020-4ºTRI</a>]"
      ]
     },
     "execution_count": 9,
     "metadata": {},
     "output_type": "execute_result"
    }
   ],
   "source": [
    "# Obtém os elementos <a> que possuem os links para os arquivos CSV que vamos baixar:\n",
    "lista_tag_a = soup.find_all(lambda tag:tag.name==\"a\" and '2020' in tag.text and '.CSV' in tag.get('href').upper())\n",
    "lista_tag_a"
   ]
  },
  {
   "cell_type": "code",
   "execution_count": 12,
   "metadata": {},
   "outputs": [
    {
     "name": "stdout",
     "output_type": "stream",
     "text": [
      "['http://dados.turismo.gov.br/images/csv/Prestadores_Servicos_Turistico_CADASTUR/202001TrimestrePF.csv', 'http://dados.turismo.gov.br/images/csv/Prestadores_Servicos_Turistico_CADASTUR/202002TrimestrePF.csv', 'http://dados.turismo.gov.br/images/csv/Prestadores_Servicos_Turistico_CADASTUR/202003TrimestrePF.csv', 'http://dados.turismo.gov.br/images/csv/cadastur/01/202004TrimestrePF.csv', 'http://turismo.gov.br/dadosabertos/cadasturpj/AcampamentoTuristico202001TrimestreCadasturPJ.csv', 'http://turismo.gov.br/dadosabertos/cadasturpj/AcampamentoTuristico202002TrimestreCadasturPJ.csv', 'http://turismo.gov.br/dadosabertos/cadasturpj/AcampamentoTuristico202003TrimestreCadasturPJ.csv', 'http://dados.turismo.gov.br/images/csv/cadastur/02_Acampamento_Turistico/AcampamentoTuristico202004TrimestreCadasturPJ.csv', 'http://turismo.gov.br/dadosabertos/cadasturpj/AgenciadeTurismo202001TrimestreCadasturPJ.csv', 'http://turismo.gov.br/dadosabertos/cadasturpj/AgenciadeTurismo202002TrimestreCadasturPJ.csv', 'http://turismo.gov.br/dadosabertos/cadasturpj/AgenciadeTurismo202003TrimestreCadasturPJ.csv', 'http://dados.turismo.gov.br/images/csv/cadastur/03_Agencia_de_Turismo/AgenciadeTurismo202004TrimestreCadasturPJ.csv', 'http://turismo.gov.br/dadosabertos/cadasturpj/MeiodeHospedagem202001TrimestreCadasturPJ.csv', 'http://turismo.gov.br/dadosabertos/cadasturpj/MeiodeHospedagem202002TrimestreCadasturPJ.csv', 'http://turismo.gov.br/dadosabertos/cadasturpj/MeiodeHospedagem202003TrimestreCadasturPJ.csv', 'http://dados.turismo.gov.br/images/csv/cadastur/04_Meios_de_Hospedagem/MeiodeHospedagem202004TrimestreCadasturPJ.csv', 'http://turismo.gov.br/dadosabertos/cadasturpj/ParqueTematico202001TrimestreCadasturPJ.csv', 'http://turismo.gov.br/dadosabertos/cadasturpj/ParqueTematico202002TrimestreCadasturPJ.csv', 'http://turismo.gov.br/dadosabertos/cadasturpj/ParqueTematico202003TrimestreCadasturPJ.csv', 'http://dados.turismo.gov.br/images/csv/cadastur/05_Parque_Tematico/ParqueTematico202004TrimestreCadasturPJ.csv', 'http://www.turismo.gov.br/dadosabertos/cadasturpj/TransportadoraTuristica202001TrimestreCadasturPJ.csv', 'http://www.turismo.gov.br/dadosabertos/cadasturpj/TransportadoraTuristica202002TrimestreCadasturPJ.csv', 'http://www.turismo.gov.br/dadosabertos/cadasturpj/TransportadoraTuristica202003TrimestreCadasturPJ.csv', 'http://dados.turismo.gov.br/images/csv/cadastur/06_Transportadora_Turistica/TransportadoraTuristica202004TrimestreCadasturPJ.csv', 'http://turismo.gov.br/dadosabertos/cadasturpj/CasaDeEspetaculosEquipamentosDeAnimacao202001TrimestreCadasturPJ.csv', 'http://turismo.gov.br/dadosabertos/cadasturpj/CasaDeEspetaculosEquipamentosDeAnimacao202002TrimestreCadasturPJ.csv', 'http://turismo.gov.br/dadosabertos/cadasturpj/CasaDeEspetaculosEquipamentosDeAnimacao202003TrimestreCadasturPJ.csv', 'http://dados.turismo.gov.br/images/csv/cadastur/07_Casas_de_Espetaculos_e_Equipamentos_de_Animacao_Turistica/CasaDeEspetaculosEquipamentosDeAnimacao202004TrimestreCadasturPJ.csv', 'http://www.turismo.gov.br/dadosabertos/cadasturpj/CentrodeConvencoes202001TrimestreCadasturPJ.csv', 'http://www.turismo.gov.br/dadosabertos/cadasturpj/CentrodeConvencoes202002TrimestreCadasturPJ.csv', 'http://www.turismo.gov.br/dadosabertos/cadasturpj/CentrodeConvencoes202003TrimestreCadasturPJ.csv', 'http://dados.turismo.gov.br/images/csv/cadastur/08_Centro_de_Convencoes/CentrodeConvencoes202004TrimestreCadasturPJ.csv', 'http://turismo.gov.br/dadosabertos/cadasturpj/EmpreendimentodeApoioaoTurismoNauticoouaPescaDesportiva202001TrimestreCadasturPJ.csv', 'http://turismo.gov.br/dadosabertos/cadasturpj/EmpreendimentodeApoioaoTurismoNauticoouaPescaDesportiva202002TrimestreCadasturPJ.csv', 'http://turismo.gov.br/dadosabertos/cadasturpj/EmpreendimentodeApoioaoTurismoNauticoouaPescaDesportiva202003TrimestreCadasturPJ.csv', 'http://dados.turismo.gov.br/images/csv/cadastur/09_Empreendimento_de_Apoio_ao_Turismo_Nautico_ou_a_Pesca_Desportiva/EmpreendimentodeApoioaoTurismoNauticoouaPescaDesportiva202004TrimestreCadasturPJ.csv', 'http://turismo.gov.br/dadosabertos/cadasturpj/ParqueAquatico202001TrimestreCadasturPJ.csv', 'http://turismo.gov.br/dadosabertos/cadasturpj/ParqueAquatico202002TrimestreCadasturPJ.csv', 'http://turismo.gov.br/dadosabertos/cadasturpj/ParqueAquatico202003TrimestreCadasturPJ.csv', 'http://dados.turismo.gov.br/images/csv/cadastur/10_Empreendimento_de_Entretenimento_e_Lazer_e_Parques_Aquaticos/ParqueAquatico202004TrimestreCadasturPJ.csv', 'http://turismo.gov.br/dadosabertos/cadasturpj/LocadoradeVeiculos202001TrimestreCadasturPJ.csv', 'http://turismo.gov.br/dadosabertos/cadasturpj/LocadoradeVeiculos202002TrimestreCadasturPJ.csv', 'http://turismo.gov.br/dadosabertos/cadasturpj/LocadoradeVeiculos202003TrimestreCadasturPJ.csv', 'http://dados.turismo.gov.br/images/csv/cadastur/11_Locadora_de_Veiculos/LocadoradeVeiculos202004TrimestreCadasturPJ.csv', 'http://www.turismo.gov.br/dadosabertos/cadasturpj/OrganizadoraDeEventos202001TrimestreCadasturPJ.csv', 'http://www.turismo.gov.br/dadosabertos/cadasturpj/OrganizadoraDeEventos202002TrimestreCadasturPJ.csv', 'http://www.turismo.gov.br/dadosabertos/cadasturpj/OrganizadoraDeEventos202003TrimestreCadasturPJ.csv', 'http://dados.turismo.gov.br/images/csv/cadastur/12_Organizador_de_Eventos/OrganizadoraDeEventos202004TrimestreCadasturPJ.csv', 'http://www.turismo.gov.br/dadosabertos/cadasturpj/PrestadorDeInfraestruturaDeApoioParaEventos202001TrimestreCadasturPJ.csv', 'http://www.turismo.gov.br/dadosabertos/cadasturpj/PrestadorDeInfraestruturaDeApoioParaEventos202002TrimestreCadasturPJ.csv', 'http://www.turismo.gov.br/dadosabertos/cadasturpj/PrestadorDeInfraestruturaDeApoioParaEventos202003TrimestreCadasturPJ.csv', 'http://dados.turismo.gov.br/images/csv/cadastur/13_Prestador_de_Servicos_de_Infraestrutura_de_Apoio_a_Eventos/PrestadorDeInfraestruturaDeApoioParaEventos202004TrimestreCadasturPJ.csv', 'http://www.turismo.gov.br/dadosabertos/cadasturpj/PrestadorEspecializadoemSegmentosTuristicos202001TrimestreCadasturPJ.csv', 'http://www.turismo.gov.br/dadosabertos/cadasturpj/PrestadorEspecializadoemSegmentosTuristicos202002TrimestreCadasturPJ.csv', 'http://www.turismo.gov.br/dadosabertos/cadasturpj/PrestadorEspecializadoemSegmentosTuristicos202003TrimestreCadasturPJ.csv', 'http://dados.turismo.gov.br/images/csv/cadastur/14_Prestador_Especializado_em_Segmentos_Turisticos/PrestadorEspecializadoemSegmentosTuristicos202004TrimestreCadasturPJ.csv', 'http://turismo.gov.br/dadosabertos/cadasturpj/RestaurantesCafeteriaseBares202001TrimestreCadasturPJ.csv', 'http://turismo.gov.br/dadosabertos/cadasturpj/RestaurantesCafeteriaseBares202002TrimestreCadasturPJ.csv', 'http://turismo.gov.br/dadosabertos/cadasturpj/RestaurantesCafeteriaseBares202003TrimestreCadasturPJ.csv', 'http://dados.turismo.gov.br/images/csv/cadastur/15_Restaurantes_Cafeterias_e_Bares/RestaurantesCafeteriaseBares202004TrimestreCadasturPJ.csv']\n",
      "60\n"
     ]
    }
   ],
   "source": [
    "# Obtém as URLs da página de cada recurso:\n",
    "lista_url = list()\n",
    "for tag in lista_tag_a:\n",
    "    lista_url.append(tag.get('href'))\n",
    "print(lista_url)\n",
    "print(len(lista_url))"
   ]
  },
  {
   "cell_type": "code",
   "execution_count": 14,
   "metadata": {},
   "outputs": [
    {
     "name": "stdout",
     "output_type": "stream",
     "text": [
      "Baixando:  202001TrimestrePF.csv  de:  http://dados.turismo.gov.br/images/csv/Prestadores_Servicos_Turistico_CADASTUR/202001TrimestrePF.csv\n",
      "Baixando:  202002TrimestrePF.csv  de:  http://dados.turismo.gov.br/images/csv/Prestadores_Servicos_Turistico_CADASTUR/202002TrimestrePF.csv\n",
      "Baixando:  202003TrimestrePF.csv  de:  http://dados.turismo.gov.br/images/csv/Prestadores_Servicos_Turistico_CADASTUR/202003TrimestrePF.csv\n",
      "Baixando:  202004TrimestrePF.csv  de:  http://dados.turismo.gov.br/images/csv/cadastur/01/202004TrimestrePF.csv\n",
      "Baixando:  AcampamentoTuristico202001TrimestreCadasturPJ.csv  de:  http://turismo.gov.br/dadosabertos/cadasturpj/AcampamentoTuristico202001TrimestreCadasturPJ.csv\n",
      "Baixando:  AcampamentoTuristico202002TrimestreCadasturPJ.csv  de:  http://turismo.gov.br/dadosabertos/cadasturpj/AcampamentoTuristico202002TrimestreCadasturPJ.csv\n",
      "Baixando:  AcampamentoTuristico202003TrimestreCadasturPJ.csv  de:  http://turismo.gov.br/dadosabertos/cadasturpj/AcampamentoTuristico202003TrimestreCadasturPJ.csv\n",
      "Baixando:  AcampamentoTuristico202004TrimestreCadasturPJ.csv  de:  http://dados.turismo.gov.br/images/csv/cadastur/02_Acampamento_Turistico/AcampamentoTuristico202004TrimestreCadasturPJ.csv\n",
      "Baixando:  AgenciadeTurismo202001TrimestreCadasturPJ.csv  de:  http://turismo.gov.br/dadosabertos/cadasturpj/AgenciadeTurismo202001TrimestreCadasturPJ.csv\n",
      "Baixando:  AgenciadeTurismo202002TrimestreCadasturPJ.csv  de:  http://turismo.gov.br/dadosabertos/cadasturpj/AgenciadeTurismo202002TrimestreCadasturPJ.csv\n",
      "Baixando:  AgenciadeTurismo202003TrimestreCadasturPJ.csv  de:  http://turismo.gov.br/dadosabertos/cadasturpj/AgenciadeTurismo202003TrimestreCadasturPJ.csv\n",
      "Baixando:  AgenciadeTurismo202004TrimestreCadasturPJ.csv  de:  http://dados.turismo.gov.br/images/csv/cadastur/03_Agencia_de_Turismo/AgenciadeTurismo202004TrimestreCadasturPJ.csv\n",
      "Baixando:  MeiodeHospedagem202001TrimestreCadasturPJ.csv  de:  http://turismo.gov.br/dadosabertos/cadasturpj/MeiodeHospedagem202001TrimestreCadasturPJ.csv\n",
      "Baixando:  MeiodeHospedagem202002TrimestreCadasturPJ.csv  de:  http://turismo.gov.br/dadosabertos/cadasturpj/MeiodeHospedagem202002TrimestreCadasturPJ.csv\n",
      "Baixando:  MeiodeHospedagem202003TrimestreCadasturPJ.csv  de:  http://turismo.gov.br/dadosabertos/cadasturpj/MeiodeHospedagem202003TrimestreCadasturPJ.csv\n",
      "Baixando:  MeiodeHospedagem202004TrimestreCadasturPJ.csv  de:  http://dados.turismo.gov.br/images/csv/cadastur/04_Meios_de_Hospedagem/MeiodeHospedagem202004TrimestreCadasturPJ.csv\n",
      "Baixando:  ParqueTematico202001TrimestreCadasturPJ.csv  de:  http://turismo.gov.br/dadosabertos/cadasturpj/ParqueTematico202001TrimestreCadasturPJ.csv\n",
      "Baixando:  ParqueTematico202002TrimestreCadasturPJ.csv  de:  http://turismo.gov.br/dadosabertos/cadasturpj/ParqueTematico202002TrimestreCadasturPJ.csv\n",
      "Baixando:  ParqueTematico202003TrimestreCadasturPJ.csv  de:  http://turismo.gov.br/dadosabertos/cadasturpj/ParqueTematico202003TrimestreCadasturPJ.csv\n",
      "Baixando:  ParqueTematico202004TrimestreCadasturPJ.csv  de:  http://dados.turismo.gov.br/images/csv/cadastur/05_Parque_Tematico/ParqueTematico202004TrimestreCadasturPJ.csv\n",
      "Baixando:  TransportadoraTuristica202001TrimestreCadasturPJ.csv  de:  http://www.turismo.gov.br/dadosabertos/cadasturpj/TransportadoraTuristica202001TrimestreCadasturPJ.csv\n",
      "Baixando:  TransportadoraTuristica202002TrimestreCadasturPJ.csv  de:  http://www.turismo.gov.br/dadosabertos/cadasturpj/TransportadoraTuristica202002TrimestreCadasturPJ.csv\n",
      "Baixando:  TransportadoraTuristica202003TrimestreCadasturPJ.csv  de:  http://www.turismo.gov.br/dadosabertos/cadasturpj/TransportadoraTuristica202003TrimestreCadasturPJ.csv\n",
      "Baixando:  TransportadoraTuristica202004TrimestreCadasturPJ.csv  de:  http://dados.turismo.gov.br/images/csv/cadastur/06_Transportadora_Turistica/TransportadoraTuristica202004TrimestreCadasturPJ.csv\n",
      "Baixando:  CasaDeEspetaculosEquipamentosDeAnimacao202001TrimestreCadasturPJ.csv  de:  http://turismo.gov.br/dadosabertos/cadasturpj/CasaDeEspetaculosEquipamentosDeAnimacao202001TrimestreCadasturPJ.csv\n",
      "Baixando:  CasaDeEspetaculosEquipamentosDeAnimacao202002TrimestreCadasturPJ.csv  de:  http://turismo.gov.br/dadosabertos/cadasturpj/CasaDeEspetaculosEquipamentosDeAnimacao202002TrimestreCadasturPJ.csv\n",
      "Baixando:  CasaDeEspetaculosEquipamentosDeAnimacao202003TrimestreCadasturPJ.csv  de:  http://turismo.gov.br/dadosabertos/cadasturpj/CasaDeEspetaculosEquipamentosDeAnimacao202003TrimestreCadasturPJ.csv\n",
      "Baixando:  CasaDeEspetaculosEquipamentosDeAnimacao202004TrimestreCadasturPJ.csv  de:  http://dados.turismo.gov.br/images/csv/cadastur/07_Casas_de_Espetaculos_e_Equipamentos_de_Animacao_Turistica/CasaDeEspetaculosEquipamentosDeAnimacao202004TrimestreCadasturPJ.csv\n",
      "Baixando:  CentrodeConvencoes202001TrimestreCadasturPJ.csv  de:  http://www.turismo.gov.br/dadosabertos/cadasturpj/CentrodeConvencoes202001TrimestreCadasturPJ.csv\n",
      "Baixando:  CentrodeConvencoes202002TrimestreCadasturPJ.csv  de:  http://www.turismo.gov.br/dadosabertos/cadasturpj/CentrodeConvencoes202002TrimestreCadasturPJ.csv\n",
      "Baixando:  CentrodeConvencoes202003TrimestreCadasturPJ.csv  de:  http://www.turismo.gov.br/dadosabertos/cadasturpj/CentrodeConvencoes202003TrimestreCadasturPJ.csv\n",
      "Baixando:  CentrodeConvencoes202004TrimestreCadasturPJ.csv  de:  http://dados.turismo.gov.br/images/csv/cadastur/08_Centro_de_Convencoes/CentrodeConvencoes202004TrimestreCadasturPJ.csv\n",
      "Baixando:  EmpreendimentodeApoioaoTurismoNauticoouaPescaDesportiva202001TrimestreCadasturPJ.csv  de:  http://turismo.gov.br/dadosabertos/cadasturpj/EmpreendimentodeApoioaoTurismoNauticoouaPescaDesportiva202001TrimestreCadasturPJ.csv\n",
      "Baixando:  EmpreendimentodeApoioaoTurismoNauticoouaPescaDesportiva202002TrimestreCadasturPJ.csv  de:  http://turismo.gov.br/dadosabertos/cadasturpj/EmpreendimentodeApoioaoTurismoNauticoouaPescaDesportiva202002TrimestreCadasturPJ.csv\n",
      "Baixando:  EmpreendimentodeApoioaoTurismoNauticoouaPescaDesportiva202003TrimestreCadasturPJ.csv  de:  http://turismo.gov.br/dadosabertos/cadasturpj/EmpreendimentodeApoioaoTurismoNauticoouaPescaDesportiva202003TrimestreCadasturPJ.csv\n",
      "Baixando:  EmpreendimentodeApoioaoTurismoNauticoouaPescaDesportiva202004TrimestreCadasturPJ.csv  de:  http://dados.turismo.gov.br/images/csv/cadastur/09_Empreendimento_de_Apoio_ao_Turismo_Nautico_ou_a_Pesca_Desportiva/EmpreendimentodeApoioaoTurismoNauticoouaPescaDesportiva202004TrimestreCadasturPJ.csv\n",
      "Baixando:  ParqueAquatico202001TrimestreCadasturPJ.csv  de:  http://turismo.gov.br/dadosabertos/cadasturpj/ParqueAquatico202001TrimestreCadasturPJ.csv\n",
      "Baixando:  ParqueAquatico202002TrimestreCadasturPJ.csv  de:  http://turismo.gov.br/dadosabertos/cadasturpj/ParqueAquatico202002TrimestreCadasturPJ.csv\n",
      "Baixando:  ParqueAquatico202003TrimestreCadasturPJ.csv  de:  http://turismo.gov.br/dadosabertos/cadasturpj/ParqueAquatico202003TrimestreCadasturPJ.csv\n",
      "Baixando:  ParqueAquatico202004TrimestreCadasturPJ.csv  de:  http://dados.turismo.gov.br/images/csv/cadastur/10_Empreendimento_de_Entretenimento_e_Lazer_e_Parques_Aquaticos/ParqueAquatico202004TrimestreCadasturPJ.csv\n",
      "Baixando:  LocadoradeVeiculos202001TrimestreCadasturPJ.csv  de:  http://turismo.gov.br/dadosabertos/cadasturpj/LocadoradeVeiculos202001TrimestreCadasturPJ.csv\n",
      "Baixando:  LocadoradeVeiculos202002TrimestreCadasturPJ.csv  de:  http://turismo.gov.br/dadosabertos/cadasturpj/LocadoradeVeiculos202002TrimestreCadasturPJ.csv\n",
      "Baixando:  LocadoradeVeiculos202003TrimestreCadasturPJ.csv  de:  http://turismo.gov.br/dadosabertos/cadasturpj/LocadoradeVeiculos202003TrimestreCadasturPJ.csv\n",
      "Baixando:  LocadoradeVeiculos202004TrimestreCadasturPJ.csv  de:  http://dados.turismo.gov.br/images/csv/cadastur/11_Locadora_de_Veiculos/LocadoradeVeiculos202004TrimestreCadasturPJ.csv\n",
      "Baixando:  OrganizadoraDeEventos202001TrimestreCadasturPJ.csv  de:  http://www.turismo.gov.br/dadosabertos/cadasturpj/OrganizadoraDeEventos202001TrimestreCadasturPJ.csv\n",
      "Baixando:  OrganizadoraDeEventos202002TrimestreCadasturPJ.csv  de:  http://www.turismo.gov.br/dadosabertos/cadasturpj/OrganizadoraDeEventos202002TrimestreCadasturPJ.csv\n",
      "Baixando:  OrganizadoraDeEventos202003TrimestreCadasturPJ.csv  de:  http://www.turismo.gov.br/dadosabertos/cadasturpj/OrganizadoraDeEventos202003TrimestreCadasturPJ.csv\n"
     ]
    },
    {
     "name": "stdout",
     "output_type": "stream",
     "text": [
      "Baixando:  OrganizadoraDeEventos202004TrimestreCadasturPJ.csv  de:  http://dados.turismo.gov.br/images/csv/cadastur/12_Organizador_de_Eventos/OrganizadoraDeEventos202004TrimestreCadasturPJ.csv\n",
      "Baixando:  PrestadorDeInfraestruturaDeApoioParaEventos202001TrimestreCadasturPJ.csv  de:  http://www.turismo.gov.br/dadosabertos/cadasturpj/PrestadorDeInfraestruturaDeApoioParaEventos202001TrimestreCadasturPJ.csv\n",
      "Baixando:  PrestadorDeInfraestruturaDeApoioParaEventos202002TrimestreCadasturPJ.csv  de:  http://www.turismo.gov.br/dadosabertos/cadasturpj/PrestadorDeInfraestruturaDeApoioParaEventos202002TrimestreCadasturPJ.csv\n",
      "Baixando:  PrestadorDeInfraestruturaDeApoioParaEventos202003TrimestreCadasturPJ.csv  de:  http://www.turismo.gov.br/dadosabertos/cadasturpj/PrestadorDeInfraestruturaDeApoioParaEventos202003TrimestreCadasturPJ.csv\n",
      "Baixando:  PrestadorDeInfraestruturaDeApoioParaEventos202004TrimestreCadasturPJ.csv  de:  http://dados.turismo.gov.br/images/csv/cadastur/13_Prestador_de_Servicos_de_Infraestrutura_de_Apoio_a_Eventos/PrestadorDeInfraestruturaDeApoioParaEventos202004TrimestreCadasturPJ.csv\n",
      "Baixando:  PrestadorEspecializadoemSegmentosTuristicos202001TrimestreCadasturPJ.csv  de:  http://www.turismo.gov.br/dadosabertos/cadasturpj/PrestadorEspecializadoemSegmentosTuristicos202001TrimestreCadasturPJ.csv\n",
      "Baixando:  PrestadorEspecializadoemSegmentosTuristicos202002TrimestreCadasturPJ.csv  de:  http://www.turismo.gov.br/dadosabertos/cadasturpj/PrestadorEspecializadoemSegmentosTuristicos202002TrimestreCadasturPJ.csv\n",
      "Baixando:  PrestadorEspecializadoemSegmentosTuristicos202003TrimestreCadasturPJ.csv  de:  http://www.turismo.gov.br/dadosabertos/cadasturpj/PrestadorEspecializadoemSegmentosTuristicos202003TrimestreCadasturPJ.csv\n",
      "Baixando:  PrestadorEspecializadoemSegmentosTuristicos202004TrimestreCadasturPJ.csv  de:  http://dados.turismo.gov.br/images/csv/cadastur/14_Prestador_Especializado_em_Segmentos_Turisticos/PrestadorEspecializadoemSegmentosTuristicos202004TrimestreCadasturPJ.csv\n",
      "Baixando:  RestaurantesCafeteriaseBares202001TrimestreCadasturPJ.csv  de:  http://turismo.gov.br/dadosabertos/cadasturpj/RestaurantesCafeteriaseBares202001TrimestreCadasturPJ.csv\n",
      "Baixando:  RestaurantesCafeteriaseBares202002TrimestreCadasturPJ.csv  de:  http://turismo.gov.br/dadosabertos/cadasturpj/RestaurantesCafeteriaseBares202002TrimestreCadasturPJ.csv\n",
      "Baixando:  RestaurantesCafeteriaseBares202003TrimestreCadasturPJ.csv  de:  http://turismo.gov.br/dadosabertos/cadasturpj/RestaurantesCafeteriaseBares202003TrimestreCadasturPJ.csv\n",
      "Baixando:  RestaurantesCafeteriaseBares202004TrimestreCadasturPJ.csv  de:  http://dados.turismo.gov.br/images/csv/cadastur/15_Restaurantes_Cafeterias_e_Bares/RestaurantesCafeteriaseBares202004TrimestreCadasturPJ.csv\n"
     ]
    }
   ],
   "source": [
    "# Faz o download dos CSVs:\n",
    "for url_csv in lista_url:\n",
    "    nome_arquivo = url_csv.rsplit('/', 1)[1]\n",
    "    print('Baixando: ', nome_arquivo, ' de: ', url_csv)\n",
    "    req = requests.get(url_csv)\n",
    "    url_content = req.content\n",
    "    csv_file = open('C:\\\\DATASETS\\\\Empresas Existentes de Fato\\\\Cadastur\\\\' + nome_arquivo, 'wb')\n",
    "\n",
    "    csv_file.write(url_content)\n",
    "    csv_file.close()"
   ]
  },
  {
   "cell_type": "markdown",
   "metadata": {},
   "source": [
    "Observações:<br>\n",
    "\\- Removido manualmente os arquivos referentes ao cadastro de prestadores pessoas físicas, pois são necessárias apenas as pessoas jurídicas. Removidos: 202001TrimestrePF.csv, 202002TrimestrePF.csv, 202003TrimestrePF.csv e 202004TrimestrePF.csv<br>\n",
    "\\- Não foi possível baixar os arquivos do segundo trimestre de 2020, nem automaticamente e nem manualmente. Como temos arquivos dos demais trimestres, não há problema."
   ]
  },
  {
   "cell_type": "markdown",
   "metadata": {},
   "source": [
    "Temos 42 arquivos CSV, correspondentes ao cadastro atualizado em cada trimestre de 2020, separado por setores.\n",
    "Precisamos agora selecionar apenas os CNPJs com certificado vigente ou vencidos em 2020, e depois consolidar tudo em uma lista única de cnpjs de empresas existentes de fato."
   ]
  },
  {
   "cell_type": "markdown",
   "metadata": {},
   "source": [
    "Como não foi encontrado dicionário de dados das bases, foi feita uma análise manual dos arquivos e foram detectadas as seguintes colunas de interesse: CNPJ, Data de Geração do Certificado, Data de Validade do Certificado<br>\n",
    "Vamos então obtê-las de cada arquivo:"
   ]
  },
  {
   "cell_type": "code",
   "execution_count": 31,
   "metadata": {},
   "outputs": [
    {
     "name": "stdout",
     "output_type": "stream",
     "text": [
      "Importando:  C:\\DATASETS\\Empresas Existentes de Fato\\Cadastur\\AcampamentoTuristico202001TrimestreCadasturPJ.csv\n",
      "Importando:  C:\\DATASETS\\Empresas Existentes de Fato\\Cadastur\\AcampamentoTuristico202003TrimestreCadasturPJ.csv\n",
      "Importando:  C:\\DATASETS\\Empresas Existentes de Fato\\Cadastur\\AcampamentoTuristico202004TrimestreCadasturPJ.csv\n",
      "Importando:  C:\\DATASETS\\Empresas Existentes de Fato\\Cadastur\\AgenciadeTurismo202001TrimestreCadasturPJ.csv\n",
      "Importando:  C:\\DATASETS\\Empresas Existentes de Fato\\Cadastur\\AgenciadeTurismo202003TrimestreCadasturPJ.csv\n",
      "Importando:  C:\\DATASETS\\Empresas Existentes de Fato\\Cadastur\\AgenciadeTurismo202004TrimestreCadasturPJ.csv\n",
      "Importando:  C:\\DATASETS\\Empresas Existentes de Fato\\Cadastur\\CasaDeEspetaculosEquipamentosDeAnimacao202001TrimestreCadasturPJ.csv\n",
      "Importando:  C:\\DATASETS\\Empresas Existentes de Fato\\Cadastur\\CasaDeEspetaculosEquipamentosDeAnimacao202003TrimestreCadasturPJ.csv\n",
      "Importando:  C:\\DATASETS\\Empresas Existentes de Fato\\Cadastur\\CasaDeEspetaculosEquipamentosDeAnimacao202004TrimestreCadasturPJ.csv\n",
      "Importando:  C:\\DATASETS\\Empresas Existentes de Fato\\Cadastur\\CentrodeConvencoes202001TrimestreCadasturPJ.csv\n",
      "Importando:  C:\\DATASETS\\Empresas Existentes de Fato\\Cadastur\\CentrodeConvencoes202003TrimestreCadasturPJ.csv\n",
      "Importando:  C:\\DATASETS\\Empresas Existentes de Fato\\Cadastur\\CentrodeConvencoes202004TrimestreCadasturPJ.csv\n",
      "Importando:  C:\\DATASETS\\Empresas Existentes de Fato\\Cadastur\\EmpreendimentodeApoioaoTurismoNauticoouaPescaDesportiva202001TrimestreCadasturPJ.csv\n",
      "Importando:  C:\\DATASETS\\Empresas Existentes de Fato\\Cadastur\\EmpreendimentodeApoioaoTurismoNauticoouaPescaDesportiva202003TrimestreCadasturPJ.csv\n",
      "Importando:  C:\\DATASETS\\Empresas Existentes de Fato\\Cadastur\\EmpreendimentodeApoioaoTurismoNauticoouaPescaDesportiva202004TrimestreCadasturPJ.csv\n",
      "Importando:  C:\\DATASETS\\Empresas Existentes de Fato\\Cadastur\\LocadoradeVeiculos202001TrimestreCadasturPJ.csv\n",
      "Importando:  C:\\DATASETS\\Empresas Existentes de Fato\\Cadastur\\LocadoradeVeiculos202003TrimestreCadasturPJ.csv\n",
      "Importando:  C:\\DATASETS\\Empresas Existentes de Fato\\Cadastur\\LocadoradeVeiculos202004TrimestreCadasturPJ.csv\n",
      "Importando:  C:\\DATASETS\\Empresas Existentes de Fato\\Cadastur\\MeiodeHospedagem202001TrimestreCadasturPJ.csv\n",
      "Importando:  C:\\DATASETS\\Empresas Existentes de Fato\\Cadastur\\MeiodeHospedagem202003TrimestreCadasturPJ.csv\n",
      "Importando:  C:\\DATASETS\\Empresas Existentes de Fato\\Cadastur\\MeiodeHospedagem202004TrimestreCadasturPJ.csv\n",
      "Importando:  C:\\DATASETS\\Empresas Existentes de Fato\\Cadastur\\OrganizadoraDeEventos202001TrimestreCadasturPJ.csv\n",
      "Importando:  C:\\DATASETS\\Empresas Existentes de Fato\\Cadastur\\OrganizadoraDeEventos202003TrimestreCadasturPJ.csv\n",
      "Importando:  C:\\DATASETS\\Empresas Existentes de Fato\\Cadastur\\OrganizadoraDeEventos202004TrimestreCadasturPJ.csv\n",
      "Importando:  C:\\DATASETS\\Empresas Existentes de Fato\\Cadastur\\ParqueAquatico202001TrimestreCadasturPJ.csv\n",
      "Importando:  C:\\DATASETS\\Empresas Existentes de Fato\\Cadastur\\ParqueAquatico202003TrimestreCadasturPJ.csv\n",
      "Importando:  C:\\DATASETS\\Empresas Existentes de Fato\\Cadastur\\ParqueAquatico202004TrimestreCadasturPJ.csv\n",
      "Importando:  C:\\DATASETS\\Empresas Existentes de Fato\\Cadastur\\ParqueTematico202001TrimestreCadasturPJ.csv\n",
      "Importando:  C:\\DATASETS\\Empresas Existentes de Fato\\Cadastur\\ParqueTematico202003TrimestreCadasturPJ.csv\n",
      "Importando:  C:\\DATASETS\\Empresas Existentes de Fato\\Cadastur\\ParqueTematico202004TrimestreCadasturPJ.csv\n",
      "Importando:  C:\\DATASETS\\Empresas Existentes de Fato\\Cadastur\\PrestadorDeInfraestruturaDeApoioParaEventos202001TrimestreCadasturPJ.csv\n",
      "Importando:  C:\\DATASETS\\Empresas Existentes de Fato\\Cadastur\\PrestadorDeInfraestruturaDeApoioParaEventos202003TrimestreCadasturPJ.csv\n",
      "Importando:  C:\\DATASETS\\Empresas Existentes de Fato\\Cadastur\\PrestadorDeInfraestruturaDeApoioParaEventos202004TrimestreCadasturPJ.csv\n",
      "Importando:  C:\\DATASETS\\Empresas Existentes de Fato\\Cadastur\\PrestadorEspecializadoemSegmentosTuristicos202001TrimestreCadasturPJ.csv\n",
      "Importando:  C:\\DATASETS\\Empresas Existentes de Fato\\Cadastur\\PrestadorEspecializadoemSegmentosTuristicos202003TrimestreCadasturPJ.csv\n",
      "Importando:  C:\\DATASETS\\Empresas Existentes de Fato\\Cadastur\\PrestadorEspecializadoemSegmentosTuristicos202004TrimestreCadasturPJ.csv\n",
      "Importando:  C:\\DATASETS\\Empresas Existentes de Fato\\Cadastur\\RestaurantesCafeteriaseBares202001TrimestreCadasturPJ.csv\n",
      "Importando:  C:\\DATASETS\\Empresas Existentes de Fato\\Cadastur\\RestaurantesCafeteriaseBares202003TrimestreCadasturPJ.csv\n",
      "Importando:  C:\\DATASETS\\Empresas Existentes de Fato\\Cadastur\\RestaurantesCafeteriaseBares202004TrimestreCadasturPJ.csv\n",
      "Importando:  C:\\DATASETS\\Empresas Existentes de Fato\\Cadastur\\TransportadoraTuristica202001TrimestreCadasturPJ.csv\n",
      "Importando:  C:\\DATASETS\\Empresas Existentes de Fato\\Cadastur\\TransportadoraTuristica202003TrimestreCadasturPJ.csv\n",
      "Importando:  C:\\DATASETS\\Empresas Existentes de Fato\\Cadastur\\TransportadoraTuristica202004TrimestreCadasturPJ.csv\n"
     ]
    },
    {
     "data": {
      "text/plain": [
       "<bound method NDFrame.describe of                                                   Arquivo                CNPJ  \\\n",
       "0       AcampamentoTuristico202001TrimestreCadasturPJ.csv  00.466.148/0001-16   \n",
       "1       AcampamentoTuristico202001TrimestreCadasturPJ.csv  00.735.853/0001-71   \n",
       "2       AcampamentoTuristico202001TrimestreCadasturPJ.csv  01.489.941/0001-01   \n",
       "3       AcampamentoTuristico202001TrimestreCadasturPJ.csv  01.566.818/0001-39   \n",
       "4       AcampamentoTuristico202001TrimestreCadasturPJ.csv  01.579.202/0001-00   \n",
       "...                                                   ...                 ...   \n",
       "268285  TransportadoraTuristica202004TrimestreCadastur...  97.755.607/0001-13   \n",
       "268286  TransportadoraTuristica202004TrimestreCadastur...  97.834.709/0001-24   \n",
       "268287  TransportadoraTuristica202004TrimestreCadastur...  98.103.757/0001-05   \n",
       "268288  TransportadoraTuristica202004TrimestreCadastur...  98.106.339/0001-71   \n",
       "268289  TransportadoraTuristica202004TrimestreCadastur...  98.593.668/0001-94   \n",
       "\n",
       "       Data de Geração do Certificado Data de Validade do Certificado  \n",
       "0                 08/10/2019 16:34:27             08/10/2021 16:34:27  \n",
       "1                 11/12/2018 15:17:55             11/12/2020 15:17:55  \n",
       "2                 13/03/2020 15:40:36             13/03/2022 15:40:36  \n",
       "3                 24/09/2018 10:21:20             24/09/2020 10:21:20  \n",
       "4                 10/12/2019 15:02:27             10/12/2021 15:02:27  \n",
       "...                               ...                             ...  \n",
       "268285               27/03/2020 01:12                27/03/2022 01:12  \n",
       "268286               04/12/2019 10:46                04/12/2021 10:46  \n",
       "268287               19/07/2019 11:10                19/07/2021 11:10  \n",
       "268288               21/08/2020 10:14                21/08/2022 10:14  \n",
       "268289               20/11/2020 11:48                20/11/2022 11:48  \n",
       "\n",
       "[268290 rows x 4 columns]>"
      ]
     },
     "execution_count": 31,
     "metadata": {},
     "output_type": "execute_result"
    }
   ],
   "source": [
    "# IMPORTAÇÃO DOS ARQUIVOS CSV:\n",
    "\n",
    "path = r'C:\\DATASETS\\Empresas Existentes de Fato\\Cadastur'\n",
    "all_files = glob.glob(path + \"/*.csv\")\n",
    "\n",
    "li = []\n",
    "# Padrão que identifica o CNPJ na linha\n",
    "pattern = re.compile('(\\d{2}\\.\\d{3}\\.\\d{3}\\/\\d{4}\\-\\d{2});.+;(\\d{2}\\/\\d{2}\\/\\d{4}[\\s\\d\\:]*?);(\\d{2}\\/\\d{2}\\/\\d{4}[\\s\\d\\:]*?);')\n",
    "\n",
    "df = pd.DataFrame(columns=['Arquivo', 'CNPJ', 'Data de Geração do Certificado', 'Data de Validade do Certificado'])\n",
    "\n",
    "for filename in all_files:\n",
    "    print('Importando: ', filename)\n",
    "   \n",
    "    resultado = list()\n",
    "    \n",
    "    with open(filename) as f:\n",
    "        lines = f.readlines()\n",
    "        for line in lines:\n",
    "            if line == \"\\n\" or line.startswith('Razão Social'):\n",
    "                continue\n",
    "                \n",
    "            dados = pattern.search(line)\n",
    "            if dados and len(dados.groups())==3:\n",
    "                resultado.append({'Arquivo': filename.rsplit('\\\\',1)[1], 'CNPJ': dados.groups()[0], 'Data de Geração do Certificado': dados.groups()[1], 'Data de Validade do Certificado': dados.groups()[2]})\n",
    "            else:\n",
    "                print('Não encontrou: ', line)\n",
    "    df = pd.concat([df, pd.DataFrame(resultado)], ignore_index=True)    \n",
    "    \n",
    "df.describe                     "
   ]
  },
  {
   "cell_type": "markdown",
   "metadata": {},
   "source": [
    "Verificamos que não houve nenhum alerta de 'Não encontrou'. Ou seja, foram recuperados o CNPJ e as datas de todas as linhas de todos os arquivos.<br>\n",
    "Obs: foi tentada a importação dos CSV usando o método read_csv do Pandas, mas ocorriam erros como 'ParserError: Error tokenizing data. C error: Expected 25 fields in line 99, saw 26', devido à despadronização nos arquivos CSV. Por isso, foi optado pela soluçao acima, que utiliza expressão regular para extração dos dados de interesse."
   ]
  },
  {
   "cell_type": "code",
   "execution_count": 35,
   "metadata": {},
   "outputs": [
    {
     "data": {
      "text/plain": [
       "AgenciadeTurismo202004TrimestreCadasturPJ.csv                                           33390\n",
       "AgenciadeTurismo202003TrimestreCadasturPJ.csv                                           33116\n",
       "AgenciadeTurismo202001TrimestreCadasturPJ.csv                                           31971\n",
       "MeiodeHospedagem202004TrimestreCadasturPJ.csv                                           16584\n",
       "MeiodeHospedagem202003TrimestreCadasturPJ.csv                                           16327\n",
       "TransportadoraTuristica202004TrimestreCadasturPJ.csv                                    14638\n",
       "TransportadoraTuristica202001TrimestreCadasturPJ.csv                                    14625\n",
       "TransportadoraTuristica202003TrimestreCadasturPJ.csv                                    14615\n",
       "MeiodeHospedagem202001TrimestreCadasturPJ.csv                                           14497\n",
       "RestaurantesCafeteriaseBares202004TrimestreCadasturPJ.csv                               11606\n",
       "RestaurantesCafeteriaseBares202003TrimestreCadasturPJ.csv                               11000\n",
       "OrganizadoraDeEventos202004TrimestreCadasturPJ.csv                                       6680\n",
       "RestaurantesCafeteriaseBares202001TrimestreCadasturPJ.csv                                6534\n",
       "OrganizadoraDeEventos202003TrimestreCadasturPJ.csv                                       6460\n",
       "PrestadorEspecializadoemSegmentosTuristicos202004TrimestreCadasturPJ.csv                 5193\n",
       "OrganizadoraDeEventos202001TrimestreCadasturPJ.csv                                       4925\n",
       "PrestadorEspecializadoemSegmentosTuristicos202003TrimestreCadasturPJ.csv                 4808\n",
       "PrestadorEspecializadoemSegmentosTuristicos202001TrimestreCadasturPJ.csv                 3509\n",
       "PrestadorDeInfraestruturaDeApoioParaEventos202004TrimestreCadasturPJ.csv                 3460\n",
       "PrestadorDeInfraestruturaDeApoioParaEventos202003TrimestreCadasturPJ.csv                 3171\n",
       "PrestadorDeInfraestruturaDeApoioParaEventos202001TrimestreCadasturPJ.csv                 2031\n",
       "LocadoradeVeiculos202004TrimestreCadasturPJ.csv                                          1771\n",
       "LocadoradeVeiculos202003TrimestreCadasturPJ.csv                                          1719\n",
       "LocadoradeVeiculos202001TrimestreCadasturPJ.csv                                          1402\n",
       "ParqueAquatico202004TrimestreCadasturPJ.csv                                               377\n",
       "CasaDeEspetaculosEquipamentosDeAnimacao202004TrimestreCadasturPJ.csv                      375\n",
       "CasaDeEspetaculosEquipamentosDeAnimacao202003TrimestreCadasturPJ.csv                      349\n",
       "ParqueAquatico202003TrimestreCadasturPJ.csv                                               329\n",
       "AcampamentoTuristico202004TrimestreCadasturPJ.csv                                         315\n",
       "AcampamentoTuristico202003TrimestreCadasturPJ.csv                                         284\n",
       "EmpreendimentodeApoioaoTurismoNauticoouaPescaDesportiva202004TrimestreCadasturPJ.csv      260\n",
       "EmpreendimentodeApoioaoTurismoNauticoouaPescaDesportiva202003TrimestreCadasturPJ.csv      239\n",
       "CentrodeConvencoes202003TrimestreCadasturPJ.csv                                           214\n",
       "CentrodeConvencoes202004TrimestreCadasturPJ.csv                                           214\n",
       "AcampamentoTuristico202001TrimestreCadasturPJ.csv                                         199\n",
       "CasaDeEspetaculosEquipamentosDeAnimacao202001TrimestreCadasturPJ.csv                      185\n",
       "ParqueTematico202004TrimestreCadasturPJ.csv                                               182\n",
       "ParqueAquatico202001TrimestreCadasturPJ.csv                                               169\n",
       "EmpreendimentodeApoioaoTurismoNauticoouaPescaDesportiva202001TrimestreCadasturPJ.csv      165\n",
       "ParqueTematico202003TrimestreCadasturPJ.csv                                               163\n",
       "CentrodeConvencoes202001TrimestreCadasturPJ.csv                                           148\n",
       "ParqueTematico202001TrimestreCadasturPJ.csv                                                91\n",
       "Name: Arquivo, dtype: int64"
      ]
     },
     "metadata": {},
     "output_type": "display_data"
    },
    {
     "data": {
      "text/plain": [
       "(42,)"
      ]
     },
     "metadata": {},
     "output_type": "display_data"
    },
    {
     "name": "stdout",
     "output_type": "stream",
     "text": [
      "97291\n"
     ]
    }
   ],
   "source": [
    "# Verificando quantidade de CNPJ por arquivo:\n",
    "display(df.Arquivo.value_counts())\n",
    "display(df.Arquivo.value_counts().shape)\n",
    "\n",
    "# Verificando quantidade de CNPJ únicos:\n",
    "print(df.CNPJ.nunique())"
   ]
  },
  {
   "cell_type": "markdown",
   "metadata": {},
   "source": [
    "Verificou-se que foram importados os 42 arquivos CSV existentes. Conforme esperado."
   ]
  },
  {
   "cell_type": "code",
   "execution_count": 33,
   "metadata": {},
   "outputs": [
    {
     "data": {
      "text/plain": [
       "18    268290\n",
       "Name: CNPJ, dtype: int64"
      ]
     },
     "execution_count": 33,
     "metadata": {},
     "output_type": "execute_result"
    }
   ],
   "source": [
    "# Verificando tamanhos dos valores na coluna CNPJ\n",
    "df.CNPJ.str.len().value_counts()"
   ]
  },
  {
   "cell_type": "markdown",
   "metadata": {},
   "source": [
    "Conforme esperado (definido na expressão regular)"
   ]
  },
  {
   "cell_type": "markdown",
   "metadata": {},
   "source": [
    "Vamos ver se há datas nulas:"
   ]
  },
  {
   "cell_type": "code",
   "execution_count": 36,
   "metadata": {},
   "outputs": [
    {
     "data": {
      "text/plain": [
       "Data de Validade do Certificado    0.0\n",
       "Data de Geração do Certificado     0.0\n",
       "CNPJ                               0.0\n",
       "Arquivo                            0.0\n",
       "dtype: float64"
      ]
     },
     "execution_count": 36,
     "metadata": {},
     "output_type": "execute_result"
    }
   ],
   "source": [
    "(df.isnull().sum() / df.shape[0] * 100).sort_values(ascending=False)"
   ]
  },
  {
   "cell_type": "markdown",
   "metadata": {},
   "source": [
    "Nenhuma data nula."
   ]
  },
  {
   "cell_type": "markdown",
   "metadata": {},
   "source": [
    "Vamos selecionar apenas os CNPJs com certificado vigente ou vencido em 2020:"
   ]
  },
  {
   "cell_type": "code",
   "execution_count": 45,
   "metadata": {},
   "outputs": [
    {
     "name": "stdout",
     "output_type": "stream",
     "text": [
      "2019    126797\n",
      "2020    109428\n",
      "2018     31319\n",
      "2021       746\n",
      "Name: Data de Geração do Certificado, dtype: int64\n",
      "2021    126798\n",
      "2022    109422\n",
      "2020     31324\n",
      "2023       746\n",
      "Name: Data de Validade do Certificado, dtype: int64\n"
     ]
    }
   ],
   "source": [
    "# Verificando situação da data de geração do certificado:\n",
    "print(df['Data de Geração do Certificado'].str[6:10].value_counts())\n",
    "\n",
    "# Verificando situação da data de validade:\n",
    "print(df['Data de Validade do Certificado'].str[6:10].value_counts())"
   ]
  },
  {
   "cell_type": "markdown",
   "metadata": {},
   "source": [
    "Pela análise da data de validade, cujo ano mínimo é 2020, percebe-se que todos os CNPJs importados estão com o certificado vigente ou vencido em 2020. Ou seja, não é preciso excluir nenhum CNPJ dessa lista. Todos serão considerados como empresas ativas, existentes de fato."
   ]
  },
  {
   "cell_type": "code",
   "execution_count": 48,
   "metadata": {},
   "outputs": [
    {
     "name": "stdout",
     "output_type": "stream",
     "text": [
      "                  CNPJ\n",
      "0       00466148000116\n",
      "1       00735853000171\n",
      "2       01489941000101\n",
      "3       01566818000139\n",
      "4       01579202000100\n",
      "...                ...\n",
      "267838  73134009000169\n",
      "267875  74744079000100\n",
      "268082  90365495000145\n",
      "268205  94096070000139\n",
      "268255  96496427000100\n",
      "\n",
      "[97291 rows x 1 columns]\n"
     ]
    }
   ],
   "source": [
    "# Vamos ficar apenas com a coluna de cnpj, tirar a formatação e remover os duplicados:\n",
    "df = df[['CNPJ']]\n",
    "df.CNPJ = df.CNPJ.str.replace('[\\.\\-\\/]', '', regex=True)\n",
    "df = df.drop_duplicates()\n",
    "print(df)"
   ]
  },
  {
   "cell_type": "markdown",
   "metadata": {},
   "source": [
    "Salvando o resultdo com a lista de CNPJs de empresas que possuem cadastro ativo no Cadastur:"
   ]
  },
  {
   "cell_type": "code",
   "execution_count": 49,
   "metadata": {},
   "outputs": [],
   "source": [
    "df.to_csv(r'C:\\DATASETS\\Empresas Existentes de Fato\\prestadores_servicos_Cadastur.csv', index = False)"
   ]
  }
 ],
 "metadata": {
  "kernelspec": {
   "display_name": "Python 3",
   "language": "python",
   "name": "python3"
  },
  "language_info": {
   "codemirror_mode": {
    "name": "ipython",
    "version": 3
   },
   "file_extension": ".py",
   "mimetype": "text/x-python",
   "name": "python",
   "nbconvert_exporter": "python",
   "pygments_lexer": "ipython3",
   "version": "3.7.4"
  }
 },
 "nbformat": 4,
 "nbformat_minor": 2
}
