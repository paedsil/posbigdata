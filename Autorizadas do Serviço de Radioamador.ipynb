{
 "cells": [
  {
   "cell_type": "markdown",
   "metadata": {},
   "source": [
    "As empresas que constam na lista de empresas Autorizadas do Serviço de Radioamador são claramente empresas ativas, operantes de fato (por que uma empresa inexistente solicitaria autorização para operar serviço de telecomunicação?). Obter a lista dos CNPJs dessas empresas nos permitirá rotular algumas empresas da base nacional como existentes de fato.\n",
    "\n",
    "O arquivo CSV foi baixado a partir desse site: https://dados.gov.br/dataset/autorizadas-do-servico-de-radioamador\n",
    "\n",
    "Extração em: 13/04/2021."
   ]
  },
  {
   "cell_type": "code",
   "execution_count": 3,
   "metadata": {},
   "outputs": [],
   "source": [
    "import pandas as pd"
   ]
  },
  {
   "cell_type": "code",
   "execution_count": 18,
   "metadata": {
    "scrolled": true
   },
   "outputs": [
    {
     "name": "stdout",
     "output_type": "stream",
     "text": [
      "       Tipo de Identificação        CNPJ/CPF\n",
      "0                        CPF      ***84010**\n",
      "1                        CPF      ***31248**\n",
      "2                        CPF      ***45060**\n",
      "3                        CPF      ***20657**\n",
      "4                        CPF      ***49246**\n",
      "...                      ...             ...\n",
      "183499                  CNPJ  54791520000199\n",
      "183500                  CNPJ  43363381000186\n",
      "183501                  CNPJ  72111321000174\n",
      "183502                  CNPJ  15117740000180\n",
      "183503                   CPF      ***11989**\n",
      "\n",
      "[183504 rows x 2 columns]\n",
      "<class 'pandas.core.frame.DataFrame'>\n",
      "RangeIndex: 183504 entries, 0 to 183503\n",
      "Data columns (total 2 columns):\n",
      "Tipo de Identificação    183504 non-null object\n",
      "CNPJ/CPF                 183504 non-null object\n",
      "dtypes: object(2)\n",
      "memory usage: 2.8+ MB\n",
      "None\n"
     ]
    }
   ],
   "source": [
    "df = pd.read_csv('C:\\\\DATASETS\\\\Empresas Existentes de Fato\\\\Autorizadas do Serviço de Radioamador\\\\prestadoras_servicos_telecomunicacoes.csv', sep=';', usecols=['Tipo de Identificação', 'CNPJ/CPF'], dtype={'Tipo de Identificação': str, 'CNPJ/CPF': str})\n",
    "print(df)\n",
    "print(df.info())"
   ]
  },
  {
   "cell_type": "code",
   "execution_count": 25,
   "metadata": {},
   "outputs": [
    {
     "data": {
      "text/plain": [
       "10    140644\n",
       "14     42860\n",
       "Name: CNPJ/CPF, dtype: int64"
      ]
     },
     "execution_count": 25,
     "metadata": {},
     "output_type": "execute_result"
    }
   ],
   "source": [
    "# Verificando tipos de dados na coluna cpf/cnpj:\n",
    "df['CNPJ/CPF'].str.len().value_counts()"
   ]
  },
  {
   "cell_type": "markdown",
   "metadata": {},
   "source": [
    "Vamos considerar apenas os registros de 14 dígitos, que são os CNPJ (completos)."
   ]
  },
  {
   "cell_type": "code",
   "execution_count": 26,
   "metadata": {},
   "outputs": [
    {
     "data": {
      "text/plain": [
       "False    183504\n",
       "Name: CNPJ/CPF, dtype: int64"
      ]
     },
     "execution_count": 26,
     "metadata": {},
     "output_type": "execute_result"
    }
   ],
   "source": [
    "# Verificando se os CNPJs possuem formatação:\n",
    "df['CNPJ/CPF'].str.contains('[\\.\\-\\/]', regex=True).value_counts()"
   ]
  },
  {
   "cell_type": "markdown",
   "metadata": {},
   "source": [
    "CNPJ estão desformatados."
   ]
  },
  {
   "cell_type": "code",
   "execution_count": 27,
   "metadata": {},
   "outputs": [
    {
     "data": {
      "text/html": [
       "<div>\n",
       "<style scoped>\n",
       "    .dataframe tbody tr th:only-of-type {\n",
       "        vertical-align: middle;\n",
       "    }\n",
       "\n",
       "    .dataframe tbody tr th {\n",
       "        vertical-align: top;\n",
       "    }\n",
       "\n",
       "    .dataframe thead th {\n",
       "        text-align: right;\n",
       "    }\n",
       "</style>\n",
       "<table border=\"1\" class=\"dataframe\">\n",
       "  <thead>\n",
       "    <tr style=\"text-align: right;\">\n",
       "      <th></th>\n",
       "      <th>CNPJ</th>\n",
       "    </tr>\n",
       "  </thead>\n",
       "  <tbody>\n",
       "    <tr>\n",
       "      <td>0</td>\n",
       "      <td>31338481000173</td>\n",
       "    </tr>\n",
       "    <tr>\n",
       "      <td>1</td>\n",
       "      <td>66970229000167</td>\n",
       "    </tr>\n",
       "    <tr>\n",
       "      <td>2</td>\n",
       "      <td>09688439000123</td>\n",
       "    </tr>\n",
       "    <tr>\n",
       "      <td>3</td>\n",
       "      <td>01412262000126</td>\n",
       "    </tr>\n",
       "    <tr>\n",
       "      <td>4</td>\n",
       "      <td>31540563000104</td>\n",
       "    </tr>\n",
       "    <tr>\n",
       "      <td>...</td>\n",
       "      <td>...</td>\n",
       "    </tr>\n",
       "    <tr>\n",
       "      <td>42855</td>\n",
       "      <td>71480560000139</td>\n",
       "    </tr>\n",
       "    <tr>\n",
       "      <td>42856</td>\n",
       "      <td>54791520000199</td>\n",
       "    </tr>\n",
       "    <tr>\n",
       "      <td>42857</td>\n",
       "      <td>43363381000186</td>\n",
       "    </tr>\n",
       "    <tr>\n",
       "      <td>42858</td>\n",
       "      <td>72111321000174</td>\n",
       "    </tr>\n",
       "    <tr>\n",
       "      <td>42859</td>\n",
       "      <td>15117740000180</td>\n",
       "    </tr>\n",
       "  </tbody>\n",
       "</table>\n",
       "<p>42860 rows × 1 columns</p>\n",
       "</div>"
      ],
      "text/plain": [
       "                 CNPJ\n",
       "0      31338481000173\n",
       "1      66970229000167\n",
       "2      09688439000123\n",
       "3      01412262000126\n",
       "4      31540563000104\n",
       "...               ...\n",
       "42855  71480560000139\n",
       "42856  54791520000199\n",
       "42857  43363381000186\n",
       "42858  72111321000174\n",
       "42859  15117740000180\n",
       "\n",
       "[42860 rows x 1 columns]"
      ]
     },
     "execution_count": 27,
     "metadata": {},
     "output_type": "execute_result"
    }
   ],
   "source": [
    "# Selecionar apenas as linhas que são CNPJ\n",
    "df = df[['CNPJ/CPF']][df['CNPJ/CPF'].str.len()==14].reset_index(drop=True)\n",
    "df.columns = ['CNPJ']\n",
    "df"
   ]
  },
  {
   "cell_type": "markdown",
   "metadata": {},
   "source": [
    "Verificando se existem duplicados:"
   ]
  },
  {
   "cell_type": "code",
   "execution_count": 29,
   "metadata": {},
   "outputs": [
    {
     "data": {
      "text/plain": [
       "37649"
      ]
     },
     "execution_count": 29,
     "metadata": {},
     "output_type": "execute_result"
    }
   ],
   "source": [
    "df.CNPJ.nunique()"
   ]
  },
  {
   "cell_type": "code",
   "execution_count": 32,
   "metadata": {},
   "outputs": [
    {
     "data": {
      "text/plain": [
       "<bound method NDFrame.describe of                  CNPJ\n",
       "0      31338481000173\n",
       "1      66970229000167\n",
       "2      09688439000123\n",
       "3      01412262000126\n",
       "4      31540563000104\n",
       "...               ...\n",
       "37644  71480560000139\n",
       "37645  54791520000199\n",
       "37646  43363381000186\n",
       "37647  72111321000174\n",
       "37648  15117740000180\n",
       "\n",
       "[37649 rows x 1 columns]>"
      ]
     },
     "execution_count": 32,
     "metadata": {},
     "output_type": "execute_result"
    }
   ],
   "source": [
    "# Removendo duplicados\n",
    "df = df.drop_duplicates().reset_index(drop=True)\n",
    "df.describe"
   ]
  },
  {
   "cell_type": "code",
   "execution_count": 33,
   "metadata": {},
   "outputs": [],
   "source": [
    "df.to_csv(r'C:\\DATASETS\\Empresas Existentes de Fato\\autorizadas_servico_radioamador.csv', index = False)"
   ]
  }
 ],
 "metadata": {
  "kernelspec": {
   "display_name": "Python 3",
   "language": "python",
   "name": "python3"
  },
  "language_info": {
   "codemirror_mode": {
    "name": "ipython",
    "version": 3
   },
   "file_extension": ".py",
   "mimetype": "text/x-python",
   "name": "python",
   "nbconvert_exporter": "python",
   "pygments_lexer": "ipython3",
   "version": "3.7.4"
  }
 },
 "nbformat": 4,
 "nbformat_minor": 2
}
