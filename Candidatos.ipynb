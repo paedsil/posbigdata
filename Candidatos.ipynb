{
 "cells": [
  {
   "cell_type": "code",
   "execution_count": 1,
   "metadata": {},
   "outputs": [],
   "source": [
    "import pandas as pd\n",
    "import numpy as np\n",
    "import glob"
   ]
  },
  {
   "cell_type": "code",
   "execution_count": 2,
   "metadata": {},
   "outputs": [],
   "source": [
    "fields = [\"NR_CPF_CANDIDATO\", \"NM_CANDIDATO\"]\n",
    "fields_dtype = {\"NR_CPF_CANDIDATO\": str, \"NM_CANDIDATO\": str}"
   ]
  },
  {
   "cell_type": "code",
   "execution_count": 3,
   "metadata": {
    "scrolled": true
   },
   "outputs": [
    {
     "name": "stdout",
     "output_type": "stream",
     "text": [
      "consulta_cand_2018_AC.csv\n",
      "consulta_cand_2018_AL.csv\n",
      "consulta_cand_2018_AM.csv\n",
      "consulta_cand_2018_AP.csv\n",
      "consulta_cand_2018_BA.csv\n",
      "consulta_cand_2018_BR.csv\n",
      "consulta_cand_2018_BRASIL.csv\n",
      "consulta_cand_2018_CE.csv\n",
      "consulta_cand_2018_DF.csv\n",
      "consulta_cand_2018_ES.csv\n",
      "consulta_cand_2018_GO.csv\n",
      "consulta_cand_2018_MA.csv\n",
      "consulta_cand_2018_MG.csv\n",
      "consulta_cand_2018_MS.csv\n",
      "consulta_cand_2018_MT.csv\n",
      "consulta_cand_2018_PA.csv\n",
      "consulta_cand_2018_PB.csv\n",
      "consulta_cand_2018_PE.csv\n",
      "consulta_cand_2018_PI.csv\n",
      "consulta_cand_2018_PR.csv\n",
      "consulta_cand_2018_RJ.csv\n",
      "consulta_cand_2018_RN.csv\n",
      "consulta_cand_2018_RO.csv\n",
      "consulta_cand_2018_RR.csv\n",
      "consulta_cand_2018_RS.csv\n",
      "consulta_cand_2018_SC.csv\n",
      "consulta_cand_2018_SE.csv\n",
      "consulta_cand_2018_SP.csv\n",
      "consulta_cand_2018_TO.csv\n",
      "consulta_cand_2020_AC.csv\n",
      "consulta_cand_2020_AL.csv\n",
      "consulta_cand_2020_AM.csv\n",
      "consulta_cand_2020_AP.csv\n",
      "consulta_cand_2020_BA.csv\n",
      "consulta_cand_2020_BRASIL.csv\n",
      "consulta_cand_2020_CE.csv\n",
      "consulta_cand_2020_ES.csv\n",
      "consulta_cand_2020_GO.csv\n",
      "consulta_cand_2020_MA.csv\n",
      "consulta_cand_2020_MG.csv\n",
      "consulta_cand_2020_MS.csv\n",
      "consulta_cand_2020_MT.csv\n",
      "consulta_cand_2020_PA.csv\n",
      "consulta_cand_2020_PB.csv\n",
      "consulta_cand_2020_PE.csv\n",
      "consulta_cand_2020_PI.csv\n",
      "consulta_cand_2020_PR.csv\n",
      "consulta_cand_2020_RJ.csv\n",
      "consulta_cand_2020_RN.csv\n",
      "consulta_cand_2020_RO.csv\n",
      "consulta_cand_2020_RR.csv\n",
      "consulta_cand_2020_RS.csv\n",
      "consulta_cand_2020_SC.csv\n",
      "consulta_cand_2020_SE.csv\n",
      "consulta_cand_2020_SP.csv\n",
      "consulta_cand_2020_TO.csv\n"
     ]
    },
    {
     "data": {
      "text/plain": [
       "<bound method NDFrame.describe of                                      NM_CANDIDATO NR_CPF_CANDIDATO\n",
       "0                                 AMADEU FERREIRA      35911590263\n",
       "1                 ANDRESSA JULIANA DE MELO MOUSSE      63562065272\n",
       "2                    RAIMUNDO ANGELIM VASCONCELOS      02820935249\n",
       "3       MARIA DE NAZARETH MELLO DE ARAÚJO LAMBERT      19613962204\n",
       "4                      ELINEIDE MEIRELES MEDEIROS      43477631234\n",
       "...                                           ...              ...\n",
       "681269          FRANCISCO  AUGUSTO DA SILVA FILHO      05603596325\n",
       "681270                   LAUDISLEI NEVES DA SILVA      03782757637\n",
       "681271           RENATA REZENDE NEGROMONTE CAMPOS      06442117685\n",
       "681272                        NILSON GOMES LUCENA      26781493825\n",
       "681273                      VALDECIR DIAS MARTINS      00067669000\n",
       "\n",
       "[577432 rows x 2 columns]>"
      ]
     },
     "execution_count": 3,
     "metadata": {},
     "output_type": "execute_result"
    }
   ],
   "source": [
    "# IMPORTAÇÃO DOS ARQUIVOS CSV\n",
    "\n",
    "path = r'C:\\DATASETS\\Candidatos\\1-Arquivos Baixados'\n",
    "all_files = glob.glob(path + \"/*.csv\")\n",
    "\n",
    "li = []\n",
    "for filename in all_files:\n",
    "    print(filename.rsplit('\\\\',1)[1])\n",
    "    temp_df = pd.read_csv(filename, index_col=None, header=0,\n",
    "        sep=';', encoding='ANSI', dtype=fields_dtype, usecols=fields)\n",
    "    li.append(temp_df)  \n",
    "\n",
    "# Concatena o resultado no dataframe\n",
    "candidatos_df = pd.concat(li, axis=0, ignore_index=True)\n",
    "\n",
    "# Remove duplicados\n",
    "candidatos_df = candidatos_df.drop_duplicates()\n",
    "\n",
    "candidatos_df.describe"
   ]
  },
  {
   "cell_type": "code",
   "execution_count": 4,
   "metadata": {
    "scrolled": true
   },
   "outputs": [
    {
     "data": {
      "text/html": [
       "<div>\n",
       "<style scoped>\n",
       "    .dataframe tbody tr th:only-of-type {\n",
       "        vertical-align: middle;\n",
       "    }\n",
       "\n",
       "    .dataframe tbody tr th {\n",
       "        vertical-align: top;\n",
       "    }\n",
       "\n",
       "    .dataframe thead th {\n",
       "        text-align: right;\n",
       "    }\n",
       "</style>\n",
       "<table border=\"1\" class=\"dataframe\">\n",
       "  <thead>\n",
       "    <tr style=\"text-align: right;\">\n",
       "      <th></th>\n",
       "      <th>NM_CANDIDATO</th>\n",
       "      <th>NR_CPF_CANDIDATO</th>\n",
       "    </tr>\n",
       "  </thead>\n",
       "  <tbody>\n",
       "    <tr>\n",
       "      <td>0</td>\n",
       "      <td>AMADEU FERREIRA</td>\n",
       "      <td>35911590263</td>\n",
       "    </tr>\n",
       "    <tr>\n",
       "      <td>1</td>\n",
       "      <td>ANDRESSA JULIANA DE MELO MOUSSE</td>\n",
       "      <td>63562065272</td>\n",
       "    </tr>\n",
       "    <tr>\n",
       "      <td>2</td>\n",
       "      <td>RAIMUNDO ANGELIM VASCONCELOS</td>\n",
       "      <td>02820935249</td>\n",
       "    </tr>\n",
       "    <tr>\n",
       "      <td>3</td>\n",
       "      <td>MARIA DE NAZARETH MELLO DE ARAÚJO LAMBERT</td>\n",
       "      <td>19613962204</td>\n",
       "    </tr>\n",
       "    <tr>\n",
       "      <td>4</td>\n",
       "      <td>ELINEIDE MEIRELES MEDEIROS</td>\n",
       "      <td>43477631234</td>\n",
       "    </tr>\n",
       "    <tr>\n",
       "      <td>...</td>\n",
       "      <td>...</td>\n",
       "      <td>...</td>\n",
       "    </tr>\n",
       "    <tr>\n",
       "      <td>681269</td>\n",
       "      <td>FRANCISCO  AUGUSTO DA SILVA FILHO</td>\n",
       "      <td>05603596325</td>\n",
       "    </tr>\n",
       "    <tr>\n",
       "      <td>681270</td>\n",
       "      <td>LAUDISLEI NEVES DA SILVA</td>\n",
       "      <td>03782757637</td>\n",
       "    </tr>\n",
       "    <tr>\n",
       "      <td>681271</td>\n",
       "      <td>RENATA REZENDE NEGROMONTE CAMPOS</td>\n",
       "      <td>06442117685</td>\n",
       "    </tr>\n",
       "    <tr>\n",
       "      <td>681272</td>\n",
       "      <td>NILSON GOMES LUCENA</td>\n",
       "      <td>26781493825</td>\n",
       "    </tr>\n",
       "    <tr>\n",
       "      <td>681273</td>\n",
       "      <td>VALDECIR DIAS MARTINS</td>\n",
       "      <td>00067669000</td>\n",
       "    </tr>\n",
       "  </tbody>\n",
       "</table>\n",
       "<p>577432 rows × 2 columns</p>\n",
       "</div>"
      ],
      "text/plain": [
       "                                     NM_CANDIDATO NR_CPF_CANDIDATO\n",
       "0                                 AMADEU FERREIRA      35911590263\n",
       "1                 ANDRESSA JULIANA DE MELO MOUSSE      63562065272\n",
       "2                    RAIMUNDO ANGELIM VASCONCELOS      02820935249\n",
       "3       MARIA DE NAZARETH MELLO DE ARAÚJO LAMBERT      19613962204\n",
       "4                      ELINEIDE MEIRELES MEDEIROS      43477631234\n",
       "...                                           ...              ...\n",
       "681269          FRANCISCO  AUGUSTO DA SILVA FILHO      05603596325\n",
       "681270                   LAUDISLEI NEVES DA SILVA      03782757637\n",
       "681271           RENATA REZENDE NEGROMONTE CAMPOS      06442117685\n",
       "681272                        NILSON GOMES LUCENA      26781493825\n",
       "681273                      VALDECIR DIAS MARTINS      00067669000\n",
       "\n",
       "[577432 rows x 2 columns]"
      ]
     },
     "execution_count": 4,
     "metadata": {},
     "output_type": "execute_result"
    }
   ],
   "source": [
    "# Removemos os registros com nulos:\n",
    "candidatos_df = candidatos_df.dropna()\n",
    "candidatos_df"
   ]
  },
  {
   "cell_type": "code",
   "execution_count": 5,
   "metadata": {},
   "outputs": [
    {
     "data": {
      "text/plain": [
       "11    577432\n",
       "Name: NR_CPF_CANDIDATO, dtype: int64"
      ]
     },
     "execution_count": 5,
     "metadata": {},
     "output_type": "execute_result"
    }
   ],
   "source": [
    "# Avaliando o que tem no campo de cpf do candidato:\n",
    "candidatos_df['NR_CPF_CANDIDATO'].str.len().value_counts()"
   ]
  },
  {
   "cell_type": "markdown",
   "metadata": {},
   "source": [
    "Os CPFs já estão completos, não é preciso limpar e nem ajustar."
   ]
  },
  {
   "cell_type": "code",
   "execution_count": 6,
   "metadata": {},
   "outputs": [],
   "source": [
    "candidatos_df.rename(columns={\"NR_CPF_CANDIDATO\": \"CPF\", \"NM_CANDIDATO\": \"nome_candidato\"}, inplace=True)"
   ]
  },
  {
   "cell_type": "code",
   "execution_count": 9,
   "metadata": {},
   "outputs": [],
   "source": [
    "# Salvando resultado final:\n",
    "candidatos_df[['CPF', 'nome_candidato']].to_csv(r'C:\\DATASETS\\Candidatos\\candidatos.csv', index=False)"
   ]
  }
 ],
 "metadata": {
  "kernelspec": {
   "display_name": "Python 3",
   "language": "python",
   "name": "python3"
  },
  "language_info": {
   "codemirror_mode": {
    "name": "ipython",
    "version": 3
   },
   "file_extension": ".py",
   "mimetype": "text/x-python",
   "name": "python",
   "nbconvert_exporter": "python",
   "pygments_lexer": "ipython3",
   "version": "3.7.4"
  }
 },
 "nbformat": 4,
 "nbformat_minor": 2
}
