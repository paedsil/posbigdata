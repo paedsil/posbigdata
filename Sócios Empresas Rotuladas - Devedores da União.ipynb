{
 "cells": [
  {
   "cell_type": "code",
   "execution_count": 1,
   "metadata": {},
   "outputs": [],
   "source": [
    "import pandas as pd\n",
    "import numpy as np"
   ]
  },
  {
   "cell_type": "code",
   "execution_count": 2,
   "metadata": {},
   "outputs": [
    {
     "data": {
      "text/html": [
       "<div>\n",
       "<style scoped>\n",
       "    .dataframe tbody tr th:only-of-type {\n",
       "        vertical-align: middle;\n",
       "    }\n",
       "\n",
       "    .dataframe tbody tr th {\n",
       "        vertical-align: top;\n",
       "    }\n",
       "\n",
       "    .dataframe thead th {\n",
       "        text-align: right;\n",
       "    }\n",
       "</style>\n",
       "<table border=\"1\" class=\"dataframe\">\n",
       "  <thead>\n",
       "    <tr style=\"text-align: right;\">\n",
       "      <th></th>\n",
       "      <th>cnpj</th>\n",
       "      <th>cnpj_cpf_socio</th>\n",
       "      <th>nome_socio</th>\n",
       "      <th>tempo_de_sociedade</th>\n",
       "      <th>cnpj_cpf_socio_mascarado</th>\n",
       "    </tr>\n",
       "  </thead>\n",
       "  <tbody>\n",
       "    <tr>\n",
       "      <td>0</td>\n",
       "      <td>00000000000191</td>\n",
       "      <td>***923641**</td>\n",
       "      <td>MARCIO HAMILTON FERREIRA</td>\n",
       "      <td>11</td>\n",
       "      <td>***923641**</td>\n",
       "    </tr>\n",
       "    <tr>\n",
       "      <td>1</td>\n",
       "      <td>00000000000191</td>\n",
       "      <td>***491386**</td>\n",
       "      <td>NILSON MARTINIANO MOREIRA</td>\n",
       "      <td>11</td>\n",
       "      <td>***491386**</td>\n",
       "    </tr>\n",
       "    <tr>\n",
       "      <td>2</td>\n",
       "      <td>00000000000191</td>\n",
       "      <td>***718468**</td>\n",
       "      <td>WALTER MALIENI JUNIOR</td>\n",
       "      <td>11</td>\n",
       "      <td>***718468**</td>\n",
       "    </tr>\n",
       "    <tr>\n",
       "      <td>3</td>\n",
       "      <td>00000000000191</td>\n",
       "      <td>***415907**</td>\n",
       "      <td>CARLOS ALBERTO ARAUJO NETTO</td>\n",
       "      <td>9</td>\n",
       "      <td>***415907**</td>\n",
       "    </tr>\n",
       "    <tr>\n",
       "      <td>4</td>\n",
       "      <td>00000000000191</td>\n",
       "      <td>***022878**</td>\n",
       "      <td>ANTONIO MAURICIO MAURANO</td>\n",
       "      <td>9</td>\n",
       "      <td>***022878**</td>\n",
       "    </tr>\n",
       "    <tr>\n",
       "      <td>...</td>\n",
       "      <td>...</td>\n",
       "      <td>...</td>\n",
       "      <td>...</td>\n",
       "      <td>...</td>\n",
       "      <td>...</td>\n",
       "    </tr>\n",
       "    <tr>\n",
       "      <td>1683063</td>\n",
       "      <td>97541975000169</td>\n",
       "      <td>26090628859</td>\n",
       "      <td>EDIVALDO ALVES DE ARAUJO</td>\n",
       "      <td>10</td>\n",
       "      <td>***906288**</td>\n",
       "    </tr>\n",
       "    <tr>\n",
       "      <td>1683064</td>\n",
       "      <td>97542225000101</td>\n",
       "      <td>01095040707</td>\n",
       "      <td>CARLOS HENRIQUE ROCHA DE SOUZA</td>\n",
       "      <td>10</td>\n",
       "      <td>***950407**</td>\n",
       "    </tr>\n",
       "    <tr>\n",
       "      <td>1683065</td>\n",
       "      <td>97543869000114</td>\n",
       "      <td>72399317491</td>\n",
       "      <td>MARIO JORGE LIMA DA SILVA</td>\n",
       "      <td>10</td>\n",
       "      <td>***993174**</td>\n",
       "    </tr>\n",
       "    <tr>\n",
       "      <td>1683066</td>\n",
       "      <td>97548003000104</td>\n",
       "      <td>03028898330</td>\n",
       "      <td>CARLOS ADRIANO ROSA DA SILVA</td>\n",
       "      <td>10</td>\n",
       "      <td>***288983**</td>\n",
       "    </tr>\n",
       "    <tr>\n",
       "      <td>1683067</td>\n",
       "      <td>97549681000183</td>\n",
       "      <td>90619544449</td>\n",
       "      <td>JOSENILDO JOSE DE LIMA</td>\n",
       "      <td>10</td>\n",
       "      <td>***195444**</td>\n",
       "    </tr>\n",
       "  </tbody>\n",
       "</table>\n",
       "<p>1683068 rows × 5 columns</p>\n",
       "</div>"
      ],
      "text/plain": [
       "                   cnpj cnpj_cpf_socio                      nome_socio  \\\n",
       "0        00000000000191    ***923641**        MARCIO HAMILTON FERREIRA   \n",
       "1        00000000000191    ***491386**       NILSON MARTINIANO MOREIRA   \n",
       "2        00000000000191    ***718468**           WALTER MALIENI JUNIOR   \n",
       "3        00000000000191    ***415907**     CARLOS ALBERTO ARAUJO NETTO   \n",
       "4        00000000000191    ***022878**        ANTONIO MAURICIO MAURANO   \n",
       "...                 ...            ...                             ...   \n",
       "1683063  97541975000169    26090628859        EDIVALDO ALVES DE ARAUJO   \n",
       "1683064  97542225000101    01095040707  CARLOS HENRIQUE ROCHA DE SOUZA   \n",
       "1683065  97543869000114    72399317491       MARIO JORGE LIMA DA SILVA   \n",
       "1683066  97548003000104    03028898330    CARLOS ADRIANO ROSA DA SILVA   \n",
       "1683067  97549681000183    90619544449          JOSENILDO JOSE DE LIMA   \n",
       "\n",
       "        tempo_de_sociedade cnpj_cpf_socio_mascarado  \n",
       "0                       11              ***923641**  \n",
       "1                       11              ***491386**  \n",
       "2                       11              ***718468**  \n",
       "3                        9              ***415907**  \n",
       "4                        9              ***022878**  \n",
       "...                    ...                      ...  \n",
       "1683063                 10              ***906288**  \n",
       "1683064                 10              ***950407**  \n",
       "1683065                 10              ***993174**  \n",
       "1683066                 10              ***288983**  \n",
       "1683067                 10              ***195444**  \n",
       "\n",
       "[1683068 rows x 5 columns]"
      ]
     },
     "execution_count": 2,
     "metadata": {},
     "output_type": "execute_result"
    }
   ],
   "source": [
    "# IMPORTAÇÃO DA BASE DE SÓCIOS\n",
    "socios_empresas_rotuladas_df = pd.read_csv(r'C:\\DATASETS\\Empresas Rotuladas\\socios_empresas_rotuladas.csv', dtype=str)\n",
    "socios_empresas_rotuladas_df"
   ]
  },
  {
   "cell_type": "code",
   "execution_count": 3,
   "metadata": {},
   "outputs": [],
   "source": [
    "# Remover coluna de tempo_de_sociedade, não necessária aqui\n",
    "socios_empresas_rotuladas_df.drop(columns=['tempo_de_sociedade'], inplace=True)"
   ]
  },
  {
   "cell_type": "markdown",
   "metadata": {},
   "source": [
    "### Junção com a base de devedores da dívida ativa da União:"
   ]
  },
  {
   "cell_type": "code",
   "execution_count": 4,
   "metadata": {},
   "outputs": [
    {
     "data": {
      "text/html": [
       "<div>\n",
       "<style scoped>\n",
       "    .dataframe tbody tr th:only-of-type {\n",
       "        vertical-align: middle;\n",
       "    }\n",
       "\n",
       "    .dataframe tbody tr th {\n",
       "        vertical-align: top;\n",
       "    }\n",
       "\n",
       "    .dataframe thead th {\n",
       "        text-align: right;\n",
       "    }\n",
       "</style>\n",
       "<table border=\"1\" class=\"dataframe\">\n",
       "  <thead>\n",
       "    <tr style=\"text-align: right;\">\n",
       "      <th></th>\n",
       "      <th>CPF_CNPJ</th>\n",
       "      <th>NOME_DEVEDOR</th>\n",
       "    </tr>\n",
       "  </thead>\n",
       "  <tbody>\n",
       "    <tr>\n",
       "      <td>0</td>\n",
       "      <td>***464712**</td>\n",
       "      <td>ERISVANDO TORQUATO DO NASCIMENTO</td>\n",
       "    </tr>\n",
       "    <tr>\n",
       "      <td>1</td>\n",
       "      <td>04718079000141</td>\n",
       "      <td>I. B. SOUSA</td>\n",
       "    </tr>\n",
       "    <tr>\n",
       "      <td>2</td>\n",
       "      <td>***468172**</td>\n",
       "      <td>CLAUDIO BRANDAO DA SILVA</td>\n",
       "    </tr>\n",
       "    <tr>\n",
       "      <td>3</td>\n",
       "      <td>05395942000130</td>\n",
       "      <td>DISTRIBUIDORA VALE DO GUAPORE LTDA</td>\n",
       "    </tr>\n",
       "    <tr>\n",
       "      <td>4</td>\n",
       "      <td>***117482**</td>\n",
       "      <td>SEBASTIAO PEREIRA DO NASCIMENTO</td>\n",
       "    </tr>\n",
       "    <tr>\n",
       "      <td>...</td>\n",
       "      <td>...</td>\n",
       "      <td>...</td>\n",
       "    </tr>\n",
       "    <tr>\n",
       "      <td>5994589</td>\n",
       "      <td>11966821000101</td>\n",
       "      <td>WANDERVAL APARECIDO DE FARIA</td>\n",
       "    </tr>\n",
       "    <tr>\n",
       "      <td>5994590</td>\n",
       "      <td>38135935000158</td>\n",
       "      <td>MIL TOPOGRAFIA E CONSULTORIA LTDA</td>\n",
       "    </tr>\n",
       "    <tr>\n",
       "      <td>5994591</td>\n",
       "      <td>13758946000163</td>\n",
       "      <td>ROSANA MESQUITA FERNANDES</td>\n",
       "    </tr>\n",
       "    <tr>\n",
       "      <td>5994592</td>\n",
       "      <td>12967577000156</td>\n",
       "      <td>AM E FILHOS COMERCIO DE MATERIAIS PARA CONSTRU...</td>\n",
       "    </tr>\n",
       "    <tr>\n",
       "      <td>5994593</td>\n",
       "      <td>25086695000105</td>\n",
       "      <td>JOSE BONIFACIO SOBRINHO</td>\n",
       "    </tr>\n",
       "  </tbody>\n",
       "</table>\n",
       "<p>5994594 rows × 2 columns</p>\n",
       "</div>"
      ],
      "text/plain": [
       "               CPF_CNPJ                                       NOME_DEVEDOR\n",
       "0           ***464712**                   ERISVANDO TORQUATO DO NASCIMENTO\n",
       "1        04718079000141                                        I. B. SOUSA\n",
       "2           ***468172**                           CLAUDIO BRANDAO DA SILVA\n",
       "3        05395942000130                 DISTRIBUIDORA VALE DO GUAPORE LTDA\n",
       "4           ***117482**                    SEBASTIAO PEREIRA DO NASCIMENTO\n",
       "...                 ...                                                ...\n",
       "5994589  11966821000101                       WANDERVAL APARECIDO DE FARIA\n",
       "5994590  38135935000158                  MIL TOPOGRAFIA E CONSULTORIA LTDA\n",
       "5994591  13758946000163                          ROSANA MESQUITA FERNANDES\n",
       "5994592  12967577000156  AM E FILHOS COMERCIO DE MATERIAIS PARA CONSTRU...\n",
       "5994593  25086695000105                            JOSE BONIFACIO SOBRINHO\n",
       "\n",
       "[5994594 rows x 2 columns]"
      ]
     },
     "execution_count": 4,
     "metadata": {},
     "output_type": "execute_result"
    }
   ],
   "source": [
    "# IMPORTAÇÃO DA BASE DE DÍVIDA ATIVA\n",
    "divida_ativa_df = pd.read_csv(r'C:\\DATASETS\\Divida_Ativa\\divida_ativa_todos.csv', dtype=str)\n",
    "divida_ativa_df"
   ]
  },
  {
   "cell_type": "code",
   "execution_count": 5,
   "metadata": {},
   "outputs": [
    {
     "name": "stdout",
     "output_type": "stream",
     "text": [
      "14    3089415\n",
      "11    2905179\n",
      "Name: CPF_CNPJ, dtype: int64\n"
     ]
    }
   ],
   "source": [
    "print(divida_ativa_df.CPF_CNPJ.str.len().value_counts())\n",
    "pj_devedores_df = divida_ativa_df[divida_ativa_df.CPF_CNPJ.str.len()==14]\n",
    "pf_devedores_df = divida_ativa_df[divida_ativa_df.CPF_CNPJ.str.len()==11]"
   ]
  },
  {
   "cell_type": "code",
   "execution_count": 6,
   "metadata": {},
   "outputs": [
    {
     "data": {
      "text/plain": [
       "cnpj_cpf_socio  socio_devedor_uniao\n",
       "11              False                  1664526\n",
       "14              False                    15514\n",
       "                True                      3028\n",
       "Name: socio_devedor_uniao, dtype: int64"
      ]
     },
     "execution_count": 6,
     "metadata": {},
     "output_type": "execute_result"
    }
   ],
   "source": [
    "# Rotula os sócios que são PJ\n",
    "socios_empresas_rotuladas_df['socio_devedor_uniao'] = (socios_empresas_rotuladas_df.merge(pj_devedores_df, left_on='cnpj_cpf_socio', right_on='CPF_CNPJ', how='left', indicator=True).eval('_merge == \"both\"').astype(bool))\n",
    "socios_empresas_rotuladas_df.groupby(socios_empresas_rotuladas_df.cnpj_cpf_socio.str.len()).socio_devedor_uniao.value_counts()"
   ]
  },
  {
   "cell_type": "markdown",
   "metadata": {},
   "source": [
    "Agora, vamos rotular as pessoas físicas:"
   ]
  },
  {
   "cell_type": "markdown",
   "metadata": {},
   "source": [
    "Todos os CPFs já estão mascarados, como visto abaixo:"
   ]
  },
  {
   "cell_type": "code",
   "execution_count": 15,
   "metadata": {},
   "outputs": [
    {
     "data": {
      "text/html": [
       "<div>\n",
       "<style scoped>\n",
       "    .dataframe tbody tr th:only-of-type {\n",
       "        vertical-align: middle;\n",
       "    }\n",
       "\n",
       "    .dataframe tbody tr th {\n",
       "        vertical-align: top;\n",
       "    }\n",
       "\n",
       "    .dataframe thead th {\n",
       "        text-align: right;\n",
       "    }\n",
       "</style>\n",
       "<table border=\"1\" class=\"dataframe\">\n",
       "  <thead>\n",
       "    <tr style=\"text-align: right;\">\n",
       "      <th></th>\n",
       "      <th>CPF_CNPJ</th>\n",
       "      <th>NOME_DEVEDOR</th>\n",
       "    </tr>\n",
       "  </thead>\n",
       "  <tbody>\n",
       "  </tbody>\n",
       "</table>\n",
       "</div>"
      ],
      "text/plain": [
       "Empty DataFrame\n",
       "Columns: [CPF_CNPJ, NOME_DEVEDOR]\n",
       "Index: []"
      ]
     },
     "execution_count": 15,
     "metadata": {},
     "output_type": "execute_result"
    }
   ],
   "source": [
    "pf_devedores_df[(pf_devedores_df.CPF_CNPJ.str[0:1] != '*')]"
   ]
  },
  {
   "cell_type": "code",
   "execution_count": 16,
   "metadata": {},
   "outputs": [
    {
     "data": {
      "text/plain": [
       "cnpj_cpf_socio  socio_devedor_uniao_pf\n",
       "11              False                     1619561\n",
       "                True                        44965\n",
       "14              False                       18542\n",
       "Name: socio_devedor_uniao_pf, dtype: int64"
      ]
     },
     "execution_count": 16,
     "metadata": {},
     "output_type": "execute_result"
    }
   ],
   "source": [
    "# Rotula os sócios que são PF\n",
    "socios_empresas_rotuladas_df['socio_devedor_uniao_pf'] = (socios_empresas_rotuladas_df.merge(pf_devedores_df, left_on=['cnpj_cpf_socio_mascarado', 'nome_socio'], right_on=['CPF_CNPJ', 'NOME_DEVEDOR'], how='left', indicator=True).eval('_merge == \"both\"').astype(bool))\n",
    "socios_empresas_rotuladas_df.groupby(socios_empresas_rotuladas_df.cnpj_cpf_socio.str.len()).socio_devedor_uniao_pf.value_counts()"
   ]
  },
  {
   "cell_type": "code",
   "execution_count": 17,
   "metadata": {},
   "outputs": [
    {
     "data": {
      "text/plain": [
       "cnpj_cpf_socio  socio_devedor_uniao\n",
       "11              False                  1619561\n",
       "                True                     44965\n",
       "14              False                    15514\n",
       "                True                      3028\n",
       "Name: socio_devedor_uniao, dtype: int64"
      ]
     },
     "execution_count": 17,
     "metadata": {},
     "output_type": "execute_result"
    }
   ],
   "source": [
    "# Junta os marcadores:\n",
    "socios_empresas_rotuladas_df['socio_devedor_uniao'] = socios_empresas_rotuladas_df['socio_devedor_uniao']|socios_empresas_rotuladas_df['socio_devedor_uniao_pf']\n",
    "socios_empresas_rotuladas_df.drop(columns=['socio_devedor_uniao_pf'], inplace=True)\n",
    "socios_empresas_rotuladas_df.groupby(socios_empresas_rotuladas_df.cnpj_cpf_socio.str.len()).socio_devedor_uniao.value_counts()"
   ]
  },
  {
   "cell_type": "code",
   "execution_count": 18,
   "metadata": {},
   "outputs": [],
   "source": [
    "# Salvando resultado:\n",
    "socios_empresas_rotuladas_df.to_csv(r'C:\\DATASETS\\Empresas Rotuladas\\socios_empresas_rotuladas-devedores_da_uniao.csv', index = False)"
   ]
  }
 ],
 "metadata": {
  "kernelspec": {
   "display_name": "Python 3",
   "language": "python",
   "name": "python3"
  },
  "language_info": {
   "codemirror_mode": {
    "name": "ipython",
    "version": 3
   },
   "file_extension": ".py",
   "mimetype": "text/x-python",
   "name": "python",
   "nbconvert_exporter": "python",
   "pygments_lexer": "ipython3",
   "version": "3.7.4"
  }
 },
 "nbformat": 4,
 "nbformat_minor": 2
}
