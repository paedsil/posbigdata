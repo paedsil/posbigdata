{
 "cells": [
  {
   "cell_type": "code",
   "execution_count": 1,
   "metadata": {},
   "outputs": [],
   "source": [
    "import re\n",
    "import pandas as pd"
   ]
  },
  {
   "cell_type": "code",
   "execution_count": 4,
   "metadata": {},
   "outputs": [
    {
     "data": {
      "text/html": [
       "<div>\n",
       "<style scoped>\n",
       "    .dataframe tbody tr th:only-of-type {\n",
       "        vertical-align: middle;\n",
       "    }\n",
       "\n",
       "    .dataframe tbody tr th {\n",
       "        vertical-align: top;\n",
       "    }\n",
       "\n",
       "    .dataframe thead th {\n",
       "        text-align: right;\n",
       "    }\n",
       "</style>\n",
       "<table border=\"1\" class=\"dataframe\">\n",
       "  <thead>\n",
       "    <tr style=\"text-align: right;\">\n",
       "      <th></th>\n",
       "      <th>CNPJ</th>\n",
       "      <th>ADE</th>\n",
       "      <th>Link</th>\n",
       "    </tr>\n",
       "  </thead>\n",
       "  <tbody>\n",
       "    <tr>\n",
       "      <td>0</td>\n",
       "      <td>13255232000132</td>\n",
       "      <td>Ato Declaratório Executivo DRF/MCR nº 1, de 29...</td>\n",
       "      <td>http://normas.receita.fazenda.gov.br/sijut2con...</td>\n",
       "    </tr>\n",
       "    <tr>\n",
       "      <td>1</td>\n",
       "      <td>71064976000176</td>\n",
       "      <td>Ato Declaratório Executivo DRF/MCR nº 1, de 29...</td>\n",
       "      <td>http://normas.receita.fazenda.gov.br/sijut2con...</td>\n",
       "    </tr>\n",
       "    <tr>\n",
       "      <td>2</td>\n",
       "      <td>05200212000136</td>\n",
       "      <td>Ato Declaratório Executivo DRF/MCR nº 39, de 1...</td>\n",
       "      <td>http://normas.receita.fazenda.gov.br/sijut2con...</td>\n",
       "    </tr>\n",
       "    <tr>\n",
       "      <td>3</td>\n",
       "      <td>15545768000118</td>\n",
       "      <td>Ato Declaratório Executivo DRF/MCR nº 37, de 2...</td>\n",
       "      <td>http://normas.receita.fazenda.gov.br/sijut2con...</td>\n",
       "    </tr>\n",
       "    <tr>\n",
       "      <td>4</td>\n",
       "      <td>07561035000149</td>\n",
       "      <td>Ato Declaratório Executivo DRF/MCR nº 31, de 2...</td>\n",
       "      <td>http://normas.receita.fazenda.gov.br/sijut2con...</td>\n",
       "    </tr>\n",
       "    <tr>\n",
       "      <td>...</td>\n",
       "      <td>...</td>\n",
       "      <td>...</td>\n",
       "      <td>...</td>\n",
       "    </tr>\n",
       "    <tr>\n",
       "      <td>1084</td>\n",
       "      <td>10850388000173</td>\n",
       "      <td>Ato Declaratório Executivo DRF/AJU nº 5, de 16...</td>\n",
       "      <td>http://normas.receita.fazenda.gov.br/sijut2con...</td>\n",
       "    </tr>\n",
       "    <tr>\n",
       "      <td>1085</td>\n",
       "      <td>10530609000126</td>\n",
       "      <td>Ato Declaratório Executivo DRF/AJU nº 6, de 15...</td>\n",
       "      <td>http://normas.receita.fazenda.gov.br/sijut2con...</td>\n",
       "    </tr>\n",
       "    <tr>\n",
       "      <td>1086</td>\n",
       "      <td>05705786000166</td>\n",
       "      <td>Ato Declaratório Executivo DRF/AJU nº 1, de 27...</td>\n",
       "      <td>http://normas.receita.fazenda.gov.br/sijut2con...</td>\n",
       "    </tr>\n",
       "    <tr>\n",
       "      <td>1087</td>\n",
       "      <td>39395132000103</td>\n",
       "      <td>Ato Declaratório Executivo DRF/VIT nº 129, de ...</td>\n",
       "      <td>http://normas.receita.fazenda.gov.br/sijut2con...</td>\n",
       "    </tr>\n",
       "    <tr>\n",
       "      <td>1088</td>\n",
       "      <td>07857451000199</td>\n",
       "      <td>Ato Declaratório Executivo DRF/PAL nº 17, de 2...</td>\n",
       "      <td>http://normas.receita.fazenda.gov.br/sijut2con...</td>\n",
       "    </tr>\n",
       "  </tbody>\n",
       "</table>\n",
       "<p>1089 rows × 3 columns</p>\n",
       "</div>"
      ],
      "text/plain": [
       "                CNPJ                                                ADE  \\\n",
       "0     13255232000132  Ato Declaratório Executivo DRF/MCR nº 1, de 29...   \n",
       "1     71064976000176  Ato Declaratório Executivo DRF/MCR nº 1, de 29...   \n",
       "2     05200212000136  Ato Declaratório Executivo DRF/MCR nº 39, de 1...   \n",
       "3     15545768000118  Ato Declaratório Executivo DRF/MCR nº 37, de 2...   \n",
       "4     07561035000149  Ato Declaratório Executivo DRF/MCR nº 31, de 2...   \n",
       "...              ...                                                ...   \n",
       "1084  10850388000173  Ato Declaratório Executivo DRF/AJU nº 5, de 16...   \n",
       "1085  10530609000126  Ato Declaratório Executivo DRF/AJU nº 6, de 15...   \n",
       "1086  05705786000166  Ato Declaratório Executivo DRF/AJU nº 1, de 27...   \n",
       "1087  39395132000103  Ato Declaratório Executivo DRF/VIT nº 129, de ...   \n",
       "1088  07857451000199  Ato Declaratório Executivo DRF/PAL nº 17, de 2...   \n",
       "\n",
       "                                                   Link  \n",
       "0     http://normas.receita.fazenda.gov.br/sijut2con...  \n",
       "1     http://normas.receita.fazenda.gov.br/sijut2con...  \n",
       "2     http://normas.receita.fazenda.gov.br/sijut2con...  \n",
       "3     http://normas.receita.fazenda.gov.br/sijut2con...  \n",
       "4     http://normas.receita.fazenda.gov.br/sijut2con...  \n",
       "...                                                 ...  \n",
       "1084  http://normas.receita.fazenda.gov.br/sijut2con...  \n",
       "1085  http://normas.receita.fazenda.gov.br/sijut2con...  \n",
       "1086  http://normas.receita.fazenda.gov.br/sijut2con...  \n",
       "1087  http://normas.receita.fazenda.gov.br/sijut2con...  \n",
       "1088  http://normas.receita.fazenda.gov.br/sijut2con...  \n",
       "\n",
       "[1089 rows x 3 columns]"
      ]
     },
     "execution_count": 4,
     "metadata": {},
     "output_type": "execute_result"
    }
   ],
   "source": [
    "# IMPORTAÇÃO DAS EMPRESAS BAIXADAS EXTRAÍDAS DE CONSULTA AO SITE DE NORMAS:\n",
    "site_normas_df = pd.read_csv('C:\\DATASETS\\Empresas Baixadas\\empresas_baixadas_extraido_site_normas.csv', header=0, sep=',', dtype='str')\n",
    "site_normas_df"
   ]
  },
  {
   "cell_type": "code",
   "execution_count": 5,
   "metadata": {},
   "outputs": [
    {
     "data": {
      "text/html": [
       "<div>\n",
       "<style scoped>\n",
       "    .dataframe tbody tr th:only-of-type {\n",
       "        vertical-align: middle;\n",
       "    }\n",
       "\n",
       "    .dataframe tbody tr th {\n",
       "        vertical-align: top;\n",
       "    }\n",
       "\n",
       "    .dataframe thead th {\n",
       "        text-align: right;\n",
       "    }\n",
       "</style>\n",
       "<table border=\"1\" class=\"dataframe\">\n",
       "  <thead>\n",
       "    <tr style=\"text-align: right;\">\n",
       "      <th></th>\n",
       "      <th>Arquivo</th>\n",
       "      <th>CNPJ</th>\n",
       "    </tr>\n",
       "  </thead>\n",
       "  <tbody>\n",
       "    <tr>\n",
       "      <td>0</td>\n",
       "      <td>ADE Cocad n 2 de 2018 - Edital Intimação n 1 d...</td>\n",
       "      <td>00903551000165</td>\n",
       "    </tr>\n",
       "    <tr>\n",
       "      <td>1</td>\n",
       "      <td>ADE Cocad n 2 de 2018 - Edital Intimação n 1 d...</td>\n",
       "      <td>01005247000163</td>\n",
       "    </tr>\n",
       "    <tr>\n",
       "      <td>2</td>\n",
       "      <td>ADE Cocad n 2 de 2018 - Edital Intimação n 1 d...</td>\n",
       "      <td>01291703000189</td>\n",
       "    </tr>\n",
       "    <tr>\n",
       "      <td>3</td>\n",
       "      <td>ADE Cocad n 2 de 2018 - Edital Intimação n 1 d...</td>\n",
       "      <td>01424175000199</td>\n",
       "    </tr>\n",
       "    <tr>\n",
       "      <td>4</td>\n",
       "      <td>ADE Cocad n 2 de 2018 - Edital Intimação n 1 d...</td>\n",
       "      <td>01424175000270</td>\n",
       "    </tr>\n",
       "    <tr>\n",
       "      <td>...</td>\n",
       "      <td>...</td>\n",
       "      <td>...</td>\n",
       "    </tr>\n",
       "    <tr>\n",
       "      <td>1374792</td>\n",
       "      <td>lista-de-cnpj-baixados-em-03-04-e-06-04-2020 -...</td>\n",
       "      <td>35007721000108</td>\n",
       "    </tr>\n",
       "    <tr>\n",
       "      <td>1374793</td>\n",
       "      <td>lista-de-cnpj-baixados-em-03-04-e-06-04-2020 -...</td>\n",
       "      <td>34665501000109</td>\n",
       "    </tr>\n",
       "    <tr>\n",
       "      <td>1374794</td>\n",
       "      <td>lista-de-cnpj-baixados-em-03-04-e-06-04-2020 -...</td>\n",
       "      <td>34670798000109</td>\n",
       "    </tr>\n",
       "    <tr>\n",
       "      <td>1374795</td>\n",
       "      <td>lista-de-cnpj-baixados-em-03-04-e-06-04-2020 -...</td>\n",
       "      <td>33930020000110</td>\n",
       "    </tr>\n",
       "    <tr>\n",
       "      <td>1374796</td>\n",
       "      <td>lista-de-cnpj-baixados-em-03-04-e-06-04-2020 -...</td>\n",
       "      <td>33901811000112</td>\n",
       "    </tr>\n",
       "  </tbody>\n",
       "</table>\n",
       "<p>1374797 rows × 2 columns</p>\n",
       "</div>"
      ],
      "text/plain": [
       "                                                   Arquivo            CNPJ\n",
       "0        ADE Cocad n 2 de 2018 - Edital Intimação n 1 d...  00903551000165\n",
       "1        ADE Cocad n 2 de 2018 - Edital Intimação n 1 d...  01005247000163\n",
       "2        ADE Cocad n 2 de 2018 - Edital Intimação n 1 d...  01291703000189\n",
       "3        ADE Cocad n 2 de 2018 - Edital Intimação n 1 d...  01424175000199\n",
       "4        ADE Cocad n 2 de 2018 - Edital Intimação n 1 d...  01424175000270\n",
       "...                                                    ...             ...\n",
       "1374792  lista-de-cnpj-baixados-em-03-04-e-06-04-2020 -...  35007721000108\n",
       "1374793  lista-de-cnpj-baixados-em-03-04-e-06-04-2020 -...  34665501000109\n",
       "1374794  lista-de-cnpj-baixados-em-03-04-e-06-04-2020 -...  34670798000109\n",
       "1374795  lista-de-cnpj-baixados-em-03-04-e-06-04-2020 -...  33930020000110\n",
       "1374796  lista-de-cnpj-baixados-em-03-04-e-06-04-2020 -...  33901811000112\n",
       "\n",
       "[1374797 rows x 2 columns]"
      ]
     },
     "execution_count": 5,
     "metadata": {},
     "output_type": "execute_result"
    }
   ],
   "source": [
    "# IMPORTAÇÃO DAS EMPRESAS BAIXADAS EXTRAÍDAS DE ARQUIVOS ADE:\n",
    "arquivos_ADE_df = pd.read_csv('C:\\DATASETS\\Empresas Baixadas\\empresas_baixadas_extraido_arquivos_ADE.csv', header=0, sep=',', dtype='str')\n",
    "arquivos_ADE_df"
   ]
  },
  {
   "cell_type": "code",
   "execution_count": 10,
   "metadata": {},
   "outputs": [
    {
     "data": {
      "text/html": [
       "<div>\n",
       "<style scoped>\n",
       "    .dataframe tbody tr th:only-of-type {\n",
       "        vertical-align: middle;\n",
       "    }\n",
       "\n",
       "    .dataframe tbody tr th {\n",
       "        vertical-align: top;\n",
       "    }\n",
       "\n",
       "    .dataframe thead th {\n",
       "        text-align: right;\n",
       "    }\n",
       "</style>\n",
       "<table border=\"1\" class=\"dataframe\">\n",
       "  <thead>\n",
       "    <tr style=\"text-align: right;\">\n",
       "      <th></th>\n",
       "      <th>CNPJ</th>\n",
       "    </tr>\n",
       "  </thead>\n",
       "  <tbody>\n",
       "    <tr>\n",
       "      <td>0</td>\n",
       "      <td>13255232000132</td>\n",
       "    </tr>\n",
       "    <tr>\n",
       "      <td>1</td>\n",
       "      <td>71064976000176</td>\n",
       "    </tr>\n",
       "    <tr>\n",
       "      <td>2</td>\n",
       "      <td>05200212000136</td>\n",
       "    </tr>\n",
       "    <tr>\n",
       "      <td>3</td>\n",
       "      <td>15545768000118</td>\n",
       "    </tr>\n",
       "    <tr>\n",
       "      <td>4</td>\n",
       "      <td>07561035000149</td>\n",
       "    </tr>\n",
       "    <tr>\n",
       "      <td>...</td>\n",
       "      <td>...</td>\n",
       "    </tr>\n",
       "    <tr>\n",
       "      <td>1375881</td>\n",
       "      <td>35007721000108</td>\n",
       "    </tr>\n",
       "    <tr>\n",
       "      <td>1375882</td>\n",
       "      <td>34665501000109</td>\n",
       "    </tr>\n",
       "    <tr>\n",
       "      <td>1375883</td>\n",
       "      <td>34670798000109</td>\n",
       "    </tr>\n",
       "    <tr>\n",
       "      <td>1375884</td>\n",
       "      <td>33930020000110</td>\n",
       "    </tr>\n",
       "    <tr>\n",
       "      <td>1375885</td>\n",
       "      <td>33901811000112</td>\n",
       "    </tr>\n",
       "  </tbody>\n",
       "</table>\n",
       "<p>1375886 rows × 1 columns</p>\n",
       "</div>"
      ],
      "text/plain": [
       "                   CNPJ\n",
       "0        13255232000132\n",
       "1        71064976000176\n",
       "2        05200212000136\n",
       "3        15545768000118\n",
       "4        07561035000149\n",
       "...                 ...\n",
       "1375881  35007721000108\n",
       "1375882  34665501000109\n",
       "1375883  34670798000109\n",
       "1375884  33930020000110\n",
       "1375885  33901811000112\n",
       "\n",
       "[1375886 rows x 1 columns]"
      ]
     },
     "execution_count": 10,
     "metadata": {},
     "output_type": "execute_result"
    }
   ],
   "source": [
    "# Obtém apenas as colunas CNPJ e consolida a lista:\n",
    "site_normas_df = site_normas_df[['CNPJ']]\n",
    "arquivos_ADE_df = arquivos_ADE_df[['CNPJ']]\n",
    "empresas_baixadas_df = pd.concat([site_normas_df, arquivos_ADE_df], ignore_index=True)\n",
    "empresas_baixadas_df"
   ]
  },
  {
   "cell_type": "code",
   "execution_count": 16,
   "metadata": {},
   "outputs": [
    {
     "data": {
      "text/plain": [
       "14    1375885\n",
       "15          1\n",
       "Name: CNPJ, dtype: int64"
      ]
     },
     "execution_count": 16,
     "metadata": {},
     "output_type": "execute_result"
    }
   ],
   "source": [
    "# Verifica se temos formatos diferentes de CNPJ:\n",
    "empresas_baixadas_df.CNPJ.str.len().value_counts()"
   ]
  },
  {
   "cell_type": "code",
   "execution_count": 17,
   "metadata": {},
   "outputs": [
    {
     "data": {
      "text/html": [
       "<div>\n",
       "<style scoped>\n",
       "    .dataframe tbody tr th:only-of-type {\n",
       "        vertical-align: middle;\n",
       "    }\n",
       "\n",
       "    .dataframe tbody tr th {\n",
       "        vertical-align: top;\n",
       "    }\n",
       "\n",
       "    .dataframe thead th {\n",
       "        text-align: right;\n",
       "    }\n",
       "</style>\n",
       "<table border=\"1\" class=\"dataframe\">\n",
       "  <thead>\n",
       "    <tr style=\"text-align: right;\">\n",
       "      <th></th>\n",
       "      <th>CNPJ</th>\n",
       "    </tr>\n",
       "  </thead>\n",
       "  <tbody>\n",
       "    <tr>\n",
       "      <td>129</td>\n",
       "      <td>10992,828000127</td>\n",
       "    </tr>\n",
       "  </tbody>\n",
       "</table>\n",
       "</div>"
      ],
      "text/plain": [
       "                CNPJ\n",
       "129  10992,828000127"
      ]
     },
     "execution_count": 17,
     "metadata": {},
     "output_type": "execute_result"
    }
   ],
   "source": [
    "empresas_baixadas_df[empresas_baixadas_df.CNPJ.str.len() == 15]"
   ]
  },
  {
   "cell_type": "code",
   "execution_count": 23,
   "metadata": {},
   "outputs": [
    {
     "data": {
      "text/plain": [
       "14    1375886\n",
       "Name: CNPJ, dtype: int64"
      ]
     },
     "execution_count": 23,
     "metadata": {},
     "output_type": "execute_result"
    }
   ],
   "source": [
    "# Faz a correção da linha indevida:\n",
    "empresas_baixadas_df.loc[129].CNPJ = '10992828000127'\n",
    "empresas_baixadas_df.CNPJ.str.len().value_counts()"
   ]
  },
  {
   "cell_type": "code",
   "execution_count": 24,
   "metadata": {},
   "outputs": [
    {
     "data": {
      "text/plain": [
       "(1375877, 1)"
      ]
     },
     "execution_count": 24,
     "metadata": {},
     "output_type": "execute_result"
    }
   ],
   "source": [
    "# Remove duplicados:\n",
    "empresas_baixadas_df = empresas_baixadas_df.drop_duplicates()\n",
    "empresas_baixadas_df.shape"
   ]
  },
  {
   "cell_type": "code",
   "execution_count": 26,
   "metadata": {},
   "outputs": [],
   "source": [
    "# Ordenando:\n",
    "empresas_baixadas_df = empresas_baixadas_df.sort_values(by=['CNPJ']).reset_index(drop=True)"
   ]
  },
  {
   "cell_type": "code",
   "execution_count": 27,
   "metadata": {},
   "outputs": [],
   "source": [
    "# Salvando resultado:\n",
    "empresas_baixadas_df.to_csv('C:\\DATASETS\\Empresas Baixadas\\empresas_baixadas_consolidado.csv', index=False)"
   ]
  }
 ],
 "metadata": {
  "kernelspec": {
   "display_name": "Python 3",
   "language": "python",
   "name": "python3"
  },
  "language_info": {
   "codemirror_mode": {
    "name": "ipython",
    "version": 3
   },
   "file_extension": ".py",
   "mimetype": "text/x-python",
   "name": "python",
   "nbconvert_exporter": "python",
   "pygments_lexer": "ipython3",
   "version": "3.7.4"
  }
 },
 "nbformat": 4,
 "nbformat_minor": 2
}
