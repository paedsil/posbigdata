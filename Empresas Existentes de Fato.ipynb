{
 "cells": [
  {
   "cell_type": "code",
   "execution_count": 1,
   "metadata": {},
   "outputs": [],
   "source": [
    "import pandas as pd\n",
    "import glob"
   ]
  },
  {
   "cell_type": "code",
   "execution_count": 15,
   "metadata": {},
   "outputs": [
    {
     "name": "stdout",
     "output_type": "stream",
     "text": [
      "Importando:  C:\\DATASETS\\Empresas Existentes de Fato\\autorizadas_servico_radioamador.csv\n",
      "Importando:  C:\\DATASETS\\Empresas Existentes de Fato\\empresas_central_de_balancos.csv\n",
      "Importando:  C:\\DATASETS\\Empresas Existentes de Fato\\empresas_listadas_B3.csv\n",
      "Importando:  C:\\DATASETS\\Empresas Existentes de Fato\\empresas_registro_INMETRO.csv\n",
      "Importando:  C:\\DATASETS\\Empresas Existentes de Fato\\empresas_transporte_coletivo.csv\n",
      "Importando:  C:\\DATASETS\\Empresas Existentes de Fato\\fabricantes_e_distribuidores_cartao_bndes.csv\n",
      "Importando:  C:\\DATASETS\\Empresas Existentes de Fato\\prestadores_servicos_Cadastur.csv\n",
      "Importando:  C:\\DATASETS\\Empresas Existentes de Fato\\programa_empresa_cidada.csv\n"
     ]
    },
    {
     "data": {
      "text/plain": [
       "<bound method NDFrame.describe of                   CNPJ                                            Arquivo\n",
       "0       31338481000173  C:\\DATASETS\\Empresas Existentes de Fato\\autori...\n",
       "1       66970229000167  C:\\DATASETS\\Empresas Existentes de Fato\\autori...\n",
       "2       09688439000123  C:\\DATASETS\\Empresas Existentes de Fato\\autori...\n",
       "3       01412262000126  C:\\DATASETS\\Empresas Existentes de Fato\\autori...\n",
       "4       31540563000104  C:\\DATASETS\\Empresas Existentes de Fato\\autori...\n",
       "...                ...                                                ...\n",
       "188834  98042963000152  C:\\DATASETS\\Empresas Existentes de Fato\\progra...\n",
       "188835  98102650000142  C:\\DATASETS\\Empresas Existentes de Fato\\progra...\n",
       "188836  98406242000184  C:\\DATASETS\\Empresas Existentes de Fato\\progra...\n",
       "188837  98510944000103  C:\\DATASETS\\Empresas Existentes de Fato\\progra...\n",
       "188838  98587918000183  C:\\DATASETS\\Empresas Existentes de Fato\\progra...\n",
       "\n",
       "[188839 rows x 2 columns]>"
      ]
     },
     "execution_count": 15,
     "metadata": {},
     "output_type": "execute_result"
    }
   ],
   "source": [
    "# IMPORTAÇÃO DOS ARQUIVOS CSV DA PASTA DE EMPRESAS EXISTENTES\n",
    "\n",
    "path = r'C:\\DATASETS\\Empresas Existentes de Fato'\n",
    "all_files = glob.glob(path + \"/*.csv\")\n",
    "\n",
    "li = []\n",
    "\n",
    "for filename in all_files:\n",
    "    if 'empresas_existentes_de_fato.csv' in filename:\n",
    "        continue\n",
    "        \n",
    "    print('Importando: ', filename)\n",
    "    temp_df = pd.read_csv(filename, index_col=None, header=0, dtype=str)\n",
    "    temp_df['Arquivo'] = filename\n",
    "    li.append(temp_df)\n",
    "\n",
    "# Concatena o resultado no dataframe\n",
    "df = pd.concat(li, axis=0, ignore_index=True)\n",
    "\n",
    "df.describe"
   ]
  },
  {
   "cell_type": "markdown",
   "metadata": {},
   "source": [
    "Verificando quantidade de empresas por arquivo:"
   ]
  },
  {
   "cell_type": "code",
   "execution_count": 16,
   "metadata": {},
   "outputs": [
    {
     "data": {
      "text/plain": [
       "C:\\DATASETS\\Empresas Existentes de Fato\\prestadores_servicos_Cadastur.csv                97291\n",
       "C:\\DATASETS\\Empresas Existentes de Fato\\autorizadas_servico_radioamador.csv              37649\n",
       "C:\\DATASETS\\Empresas Existentes de Fato\\programa_empresa_cidada.csv                      22426\n",
       "C:\\DATASETS\\Empresas Existentes de Fato\\fabricantes_e_distribuidores_cartao_bndes.csv    19100\n",
       "C:\\DATASETS\\Empresas Existentes de Fato\\empresas_registro_INMETRO.csv                     9182\n",
       "C:\\DATASETS\\Empresas Existentes de Fato\\empresas_transporte_coletivo.csv                  1702\n",
       "C:\\DATASETS\\Empresas Existentes de Fato\\empresas_central_de_balancos.csv                  1039\n",
       "C:\\DATASETS\\Empresas Existentes de Fato\\empresas_listadas_B3.csv                           450\n",
       "Name: Arquivo, dtype: int64"
      ]
     },
     "execution_count": 16,
     "metadata": {},
     "output_type": "execute_result"
    }
   ],
   "source": [
    "df.Arquivo.value_counts()"
   ]
  },
  {
   "cell_type": "markdown",
   "metadata": {},
   "source": [
    "Vamos agora remover duplicados:"
   ]
  },
  {
   "cell_type": "code",
   "execution_count": 18,
   "metadata": {},
   "outputs": [
    {
     "data": {
      "text/html": [
       "<div>\n",
       "<style scoped>\n",
       "    .dataframe tbody tr th:only-of-type {\n",
       "        vertical-align: middle;\n",
       "    }\n",
       "\n",
       "    .dataframe tbody tr th {\n",
       "        vertical-align: top;\n",
       "    }\n",
       "\n",
       "    .dataframe thead th {\n",
       "        text-align: right;\n",
       "    }\n",
       "</style>\n",
       "<table border=\"1\" class=\"dataframe\">\n",
       "  <thead>\n",
       "    <tr style=\"text-align: right;\">\n",
       "      <th></th>\n",
       "      <th>CNPJ</th>\n",
       "    </tr>\n",
       "  </thead>\n",
       "  <tbody>\n",
       "    <tr>\n",
       "      <td>0</td>\n",
       "      <td>00000000000000</td>\n",
       "    </tr>\n",
       "    <tr>\n",
       "      <td>1</td>\n",
       "      <td>00000000000191</td>\n",
       "    </tr>\n",
       "    <tr>\n",
       "      <td>2</td>\n",
       "      <td>00000030000106</td>\n",
       "    </tr>\n",
       "    <tr>\n",
       "      <td>3</td>\n",
       "      <td>00000166000108</td>\n",
       "    </tr>\n",
       "    <tr>\n",
       "      <td>4</td>\n",
       "      <td>00000208000100</td>\n",
       "    </tr>\n",
       "    <tr>\n",
       "      <td>...</td>\n",
       "      <td>...</td>\n",
       "    </tr>\n",
       "    <tr>\n",
       "      <td>184592</td>\n",
       "      <td>98593668000194</td>\n",
       "    </tr>\n",
       "    <tr>\n",
       "      <td>184593</td>\n",
       "      <td>98669997000252</td>\n",
       "    </tr>\n",
       "    <tr>\n",
       "      <td>184594</td>\n",
       "      <td>98670235000195</td>\n",
       "    </tr>\n",
       "    <tr>\n",
       "      <td>184595</td>\n",
       "      <td>98670656000116</td>\n",
       "    </tr>\n",
       "    <tr>\n",
       "      <td>184596</td>\n",
       "      <td>98674195000150</td>\n",
       "    </tr>\n",
       "  </tbody>\n",
       "</table>\n",
       "<p>184597 rows × 1 columns</p>\n",
       "</div>"
      ],
      "text/plain": [
       "                  CNPJ\n",
       "0       00000000000000\n",
       "1       00000000000191\n",
       "2       00000030000106\n",
       "3       00000166000108\n",
       "4       00000208000100\n",
       "...                ...\n",
       "184592  98593668000194\n",
       "184593  98669997000252\n",
       "184594  98670235000195\n",
       "184595  98670656000116\n",
       "184596  98674195000150\n",
       "\n",
       "[184597 rows x 1 columns]"
      ]
     },
     "execution_count": 18,
     "metadata": {},
     "output_type": "execute_result"
    }
   ],
   "source": [
    "# Selecionar apenas a coluna CNPJ:\n",
    "df = df[['CNPJ']].drop_duplicates().reset_index(drop=True)\n",
    "df = df.sort_values(by=['CNPJ']).reset_index(drop=True)\n",
    "df"
   ]
  },
  {
   "cell_type": "markdown",
   "metadata": {},
   "source": [
    "Temos 184.597 empresas para rotularmos como 'existentes de fato'."
   ]
  },
  {
   "cell_type": "markdown",
   "metadata": {},
   "source": [
    "Salvando resultado:"
   ]
  },
  {
   "cell_type": "code",
   "execution_count": 19,
   "metadata": {},
   "outputs": [],
   "source": [
    "df.to_csv(r'C:\\\\DATASETS\\\\Empresas Existentes de Fato\\empresas_existentes_de_fato.csv', index = False)"
   ]
  }
 ],
 "metadata": {
  "kernelspec": {
   "display_name": "Python 3",
   "language": "python",
   "name": "python3"
  },
  "language_info": {
   "codemirror_mode": {
    "name": "ipython",
    "version": 3
   },
   "file_extension": ".py",
   "mimetype": "text/x-python",
   "name": "python",
   "nbconvert_exporter": "python",
   "pygments_lexer": "ipython3",
   "version": "3.7.4"
  }
 },
 "nbformat": 4,
 "nbformat_minor": 2
}
