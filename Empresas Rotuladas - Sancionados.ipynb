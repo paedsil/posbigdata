{
 "cells": [
  {
   "cell_type": "code",
   "execution_count": 2,
   "metadata": {},
   "outputs": [],
   "source": [
    "import pandas as pd\n",
    "import numpy as np"
   ]
  },
  {
   "cell_type": "code",
   "execution_count": 3,
   "metadata": {},
   "outputs": [
    {
     "data": {
      "text/html": [
       "<div>\n",
       "<style scoped>\n",
       "    .dataframe tbody tr th:only-of-type {\n",
       "        vertical-align: middle;\n",
       "    }\n",
       "\n",
       "    .dataframe tbody tr th {\n",
       "        vertical-align: top;\n",
       "    }\n",
       "\n",
       "    .dataframe thead th {\n",
       "        text-align: right;\n",
       "    }\n",
       "</style>\n",
       "<table border=\"1\" class=\"dataframe\">\n",
       "  <thead>\n",
       "    <tr style=\"text-align: right;\">\n",
       "      <th></th>\n",
       "      <th>cnpj</th>\n",
       "    </tr>\n",
       "  </thead>\n",
       "  <tbody>\n",
       "    <tr>\n",
       "      <td>0</td>\n",
       "      <td>00000942000170</td>\n",
       "    </tr>\n",
       "    <tr>\n",
       "      <td>1</td>\n",
       "      <td>00001102000121</td>\n",
       "    </tr>\n",
       "    <tr>\n",
       "      <td>2</td>\n",
       "      <td>00005201000181</td>\n",
       "    </tr>\n",
       "    <tr>\n",
       "      <td>3</td>\n",
       "      <td>00005201000262</td>\n",
       "    </tr>\n",
       "    <tr>\n",
       "      <td>4</td>\n",
       "      <td>00010501000159</td>\n",
       "    </tr>\n",
       "    <tr>\n",
       "      <td>...</td>\n",
       "      <td>...</td>\n",
       "    </tr>\n",
       "    <tr>\n",
       "      <td>1559938</td>\n",
       "      <td>98593668000194</td>\n",
       "    </tr>\n",
       "    <tr>\n",
       "      <td>1559939</td>\n",
       "      <td>98669997000252</td>\n",
       "    </tr>\n",
       "    <tr>\n",
       "      <td>1559940</td>\n",
       "      <td>98670235000195</td>\n",
       "    </tr>\n",
       "    <tr>\n",
       "      <td>1559941</td>\n",
       "      <td>98670656000116</td>\n",
       "    </tr>\n",
       "    <tr>\n",
       "      <td>1559942</td>\n",
       "      <td>98674195000150</td>\n",
       "    </tr>\n",
       "  </tbody>\n",
       "</table>\n",
       "<p>1559943 rows × 1 columns</p>\n",
       "</div>"
      ],
      "text/plain": [
       "                   cnpj\n",
       "0        00000942000170\n",
       "1        00001102000121\n",
       "2        00005201000181\n",
       "3        00005201000262\n",
       "4        00010501000159\n",
       "...                 ...\n",
       "1559938  98593668000194\n",
       "1559939  98669997000252\n",
       "1559940  98670235000195\n",
       "1559941  98670656000116\n",
       "1559942  98674195000150\n",
       "\n",
       "[1559943 rows x 1 columns]"
      ]
     },
     "execution_count": 3,
     "metadata": {},
     "output_type": "execute_result"
    }
   ],
   "source": [
    "# IMPORTAÇÃO DA BASE DE EMPRESAS ROTULADAS\n",
    "empresas_rotuladas_df = pd.read_csv(r'C:\\DATASETS\\Empresas Rotuladas\\empresas_rotuladas.csv', dtype=str, usecols=['cnpj'])\n",
    "empresas_rotuladas_df"
   ]
  },
  {
   "cell_type": "markdown",
   "metadata": {},
   "source": [
    "### Junção com a base de inidôneos e suspensos"
   ]
  },
  {
   "cell_type": "code",
   "execution_count": 4,
   "metadata": {},
   "outputs": [
    {
     "data": {
      "text/html": [
       "<div>\n",
       "<style scoped>\n",
       "    .dataframe tbody tr th:only-of-type {\n",
       "        vertical-align: middle;\n",
       "    }\n",
       "\n",
       "    .dataframe tbody tr th {\n",
       "        vertical-align: top;\n",
       "    }\n",
       "\n",
       "    .dataframe thead th {\n",
       "        text-align: right;\n",
       "    }\n",
       "</style>\n",
       "<table border=\"1\" class=\"dataframe\">\n",
       "  <thead>\n",
       "    <tr style=\"text-align: right;\">\n",
       "      <th></th>\n",
       "      <th>CPF_CNPJ</th>\n",
       "    </tr>\n",
       "  </thead>\n",
       "  <tbody>\n",
       "    <tr>\n",
       "      <td>0</td>\n",
       "      <td>13459221000174</td>\n",
       "    </tr>\n",
       "    <tr>\n",
       "      <td>1</td>\n",
       "      <td>01276136000191</td>\n",
       "    </tr>\n",
       "    <tr>\n",
       "      <td>2</td>\n",
       "      <td>76258672000163</td>\n",
       "    </tr>\n",
       "    <tr>\n",
       "      <td>3</td>\n",
       "      <td>17015396000143</td>\n",
       "    </tr>\n",
       "    <tr>\n",
       "      <td>4</td>\n",
       "      <td>21545589000183</td>\n",
       "    </tr>\n",
       "    <tr>\n",
       "      <td>...</td>\n",
       "      <td>...</td>\n",
       "    </tr>\n",
       "    <tr>\n",
       "      <td>11915</td>\n",
       "      <td>53290712087</td>\n",
       "    </tr>\n",
       "    <tr>\n",
       "      <td>11916</td>\n",
       "      <td>15158268134</td>\n",
       "    </tr>\n",
       "    <tr>\n",
       "      <td>11917</td>\n",
       "      <td>15772497472</td>\n",
       "    </tr>\n",
       "    <tr>\n",
       "      <td>11918</td>\n",
       "      <td>89196988800</td>\n",
       "    </tr>\n",
       "    <tr>\n",
       "      <td>11919</td>\n",
       "      <td>14399732881</td>\n",
       "    </tr>\n",
       "  </tbody>\n",
       "</table>\n",
       "<p>11920 rows × 1 columns</p>\n",
       "</div>"
      ],
      "text/plain": [
       "             CPF_CNPJ\n",
       "0      13459221000174\n",
       "1      01276136000191\n",
       "2      76258672000163\n",
       "3      17015396000143\n",
       "4      21545589000183\n",
       "...               ...\n",
       "11915     53290712087\n",
       "11916     15158268134\n",
       "11917     15772497472\n",
       "11918     89196988800\n",
       "11919     14399732881\n",
       "\n",
       "[11920 rows x 1 columns]"
      ]
     },
     "execution_count": 4,
     "metadata": {},
     "output_type": "execute_result"
    }
   ],
   "source": [
    "# IMPORTAÇÃO DA BASE DE INIDÔNEOS E SUSPENSOS\n",
    "inidoneas_e_suspensas_df = pd.read_csv(r'C:\\\\DATASETS\\Empresas Inidoneas e Suspensas\\\\sancoes-inidoneas_e_suspensas.csv', dtype=str, usecols=[\"CPF_CNPJ\"])\n",
    "inidoneas_e_suspensas_df"
   ]
  },
  {
   "cell_type": "code",
   "execution_count": 6,
   "metadata": {},
   "outputs": [
    {
     "data": {
      "text/plain": [
       "(5150, 1)"
      ]
     },
     "execution_count": 6,
     "metadata": {},
     "output_type": "execute_result"
    }
   ],
   "source": [
    "# Precisamos apenas dos CNPJs:\n",
    "inidoneas_e_suspensas_df = inidoneas_e_suspensas_df[inidoneas_e_suspensas_df.CPF_CNPJ.str.len()==14]\n",
    "inidoneas_e_suspensas_df.shape"
   ]
  },
  {
   "cell_type": "code",
   "execution_count": 8,
   "metadata": {},
   "outputs": [
    {
     "data": {
      "text/plain": [
       "cnpj  empresa_inidoneo_suspenso\n",
       "14    False                        1559697\n",
       "      True                             246\n",
       "Name: empresa_inidoneo_suspenso, dtype: int64"
      ]
     },
     "execution_count": 8,
     "metadata": {},
     "output_type": "execute_result"
    }
   ],
   "source": [
    "# Rotula as empresas\n",
    "empresas_rotuladas_df['empresa_inidoneo_suspenso'] = (empresas_rotuladas_df.merge(inidoneas_e_suspensas_df, left_on='cnpj', right_on='CPF_CNPJ', how='left', indicator=True).eval('_merge == \"both\"').astype(bool))\n",
    "empresas_rotuladas_df.groupby(empresas_rotuladas_df.cnpj.str.len()).empresa_inidoneo_suspenso.value_counts()"
   ]
  },
  {
   "cell_type": "markdown",
   "metadata": {},
   "source": [
    "Fim do processamento de Inidôneos e Suspensos."
   ]
  },
  {
   "cell_type": "markdown",
   "metadata": {},
   "source": [
    "### Junção com a base de pessoas punidas:"
   ]
  },
  {
   "cell_type": "code",
   "execution_count": 9,
   "metadata": {},
   "outputs": [
    {
     "data": {
      "text/html": [
       "<div>\n",
       "<style scoped>\n",
       "    .dataframe tbody tr th:only-of-type {\n",
       "        vertical-align: middle;\n",
       "    }\n",
       "\n",
       "    .dataframe tbody tr th {\n",
       "        vertical-align: top;\n",
       "    }\n",
       "\n",
       "    .dataframe thead th {\n",
       "        text-align: right;\n",
       "    }\n",
       "</style>\n",
       "<table border=\"1\" class=\"dataframe\">\n",
       "  <thead>\n",
       "    <tr style=\"text-align: right;\">\n",
       "      <th></th>\n",
       "      <th>CPF_CNPJ</th>\n",
       "    </tr>\n",
       "  </thead>\n",
       "  <tbody>\n",
       "    <tr>\n",
       "      <td>0</td>\n",
       "      <td>21504073000190</td>\n",
       "    </tr>\n",
       "    <tr>\n",
       "      <td>1</td>\n",
       "      <td>10699386000125</td>\n",
       "    </tr>\n",
       "    <tr>\n",
       "      <td>2</td>\n",
       "      <td>07486627000143</td>\n",
       "    </tr>\n",
       "    <tr>\n",
       "      <td>3</td>\n",
       "      <td>21463538000102</td>\n",
       "    </tr>\n",
       "    <tr>\n",
       "      <td>4</td>\n",
       "      <td>06940189000189</td>\n",
       "    </tr>\n",
       "    <tr>\n",
       "      <td>...</td>\n",
       "      <td>...</td>\n",
       "    </tr>\n",
       "    <tr>\n",
       "      <td>198</td>\n",
       "      <td>25980213805</td>\n",
       "    </tr>\n",
       "    <tr>\n",
       "      <td>199</td>\n",
       "      <td>30872074897</td>\n",
       "    </tr>\n",
       "    <tr>\n",
       "      <td>200</td>\n",
       "      <td>14403279805</td>\n",
       "    </tr>\n",
       "    <tr>\n",
       "      <td>201</td>\n",
       "      <td>03133444930</td>\n",
       "    </tr>\n",
       "    <tr>\n",
       "      <td>202</td>\n",
       "      <td>39736636887</td>\n",
       "    </tr>\n",
       "  </tbody>\n",
       "</table>\n",
       "<p>203 rows × 1 columns</p>\n",
       "</div>"
      ],
      "text/plain": [
       "           CPF_CNPJ\n",
       "0    21504073000190\n",
       "1    10699386000125\n",
       "2    07486627000143\n",
       "3    21463538000102\n",
       "4    06940189000189\n",
       "..              ...\n",
       "198     25980213805\n",
       "199     30872074897\n",
       "200     14403279805\n",
       "201     03133444930\n",
       "202     39736636887\n",
       "\n",
       "[203 rows x 1 columns]"
      ]
     },
     "execution_count": 9,
     "metadata": {},
     "output_type": "execute_result"
    }
   ],
   "source": [
    "# IMPORTAÇÃO DA BASE DE PESSOAS PUNIDAS\n",
    "punidas_df = pd.read_csv(r'C:\\DATASETS\\Empresas Punidas\\punidas.csv', dtype=str, usecols=['CPF_CNPJ'])\n",
    "punidas_df"
   ]
  },
  {
   "cell_type": "code",
   "execution_count": 10,
   "metadata": {},
   "outputs": [
    {
     "data": {
      "text/plain": [
       "(192, 1)"
      ]
     },
     "execution_count": 10,
     "metadata": {},
     "output_type": "execute_result"
    }
   ],
   "source": [
    "# Precisamos apenas dos CNPJs:\n",
    "punidas_df = punidas_df[punidas_df.CPF_CNPJ.str.len()==14]\n",
    "punidas_df.shape"
   ]
  },
  {
   "cell_type": "code",
   "execution_count": 11,
   "metadata": {},
   "outputs": [
    {
     "data": {
      "text/plain": [
       "cnpj  empresa_punida\n",
       "14    False             1559934\n",
       "      True                    9\n",
       "Name: empresa_punida, dtype: int64"
      ]
     },
     "execution_count": 11,
     "metadata": {},
     "output_type": "execute_result"
    }
   ],
   "source": [
    "# Rotula as empresas:\n",
    "empresas_rotuladas_df['empresa_punida'] = (empresas_rotuladas_df.merge(punidas_df, left_on='cnpj', right_on='CPF_CNPJ', how='left', indicator=True).eval('_merge == \"both\"').astype(bool))\n",
    "empresas_rotuladas_df.groupby(empresas_rotuladas_df.cnpj.str.len()).empresa_punida.value_counts()"
   ]
  },
  {
   "cell_type": "markdown",
   "metadata": {},
   "source": [
    "Fim do processamento de pessoas punidas."
   ]
  },
  {
   "cell_type": "markdown",
   "metadata": {},
   "source": [
    "### Junção com a base de Entidades sem Fins Lucrativos Impedidas"
   ]
  },
  {
   "cell_type": "code",
   "execution_count": 12,
   "metadata": {},
   "outputs": [
    {
     "data": {
      "text/html": [
       "<div>\n",
       "<style scoped>\n",
       "    .dataframe tbody tr th:only-of-type {\n",
       "        vertical-align: middle;\n",
       "    }\n",
       "\n",
       "    .dataframe tbody tr th {\n",
       "        vertical-align: top;\n",
       "    }\n",
       "\n",
       "    .dataframe thead th {\n",
       "        text-align: right;\n",
       "    }\n",
       "</style>\n",
       "<table border=\"1\" class=\"dataframe\">\n",
       "  <thead>\n",
       "    <tr style=\"text-align: right;\">\n",
       "      <th></th>\n",
       "      <th>CNPJ</th>\n",
       "    </tr>\n",
       "  </thead>\n",
       "  <tbody>\n",
       "    <tr>\n",
       "      <td>0</td>\n",
       "      <td>06303088000105</td>\n",
       "    </tr>\n",
       "    <tr>\n",
       "      <td>1</td>\n",
       "      <td>01923684000166</td>\n",
       "    </tr>\n",
       "    <tr>\n",
       "      <td>2</td>\n",
       "      <td>03652447000133</td>\n",
       "    </tr>\n",
       "    <tr>\n",
       "      <td>3</td>\n",
       "      <td>03863259000154</td>\n",
       "    </tr>\n",
       "    <tr>\n",
       "      <td>4</td>\n",
       "      <td>07550679000131</td>\n",
       "    </tr>\n",
       "    <tr>\n",
       "      <td>...</td>\n",
       "      <td>...</td>\n",
       "    </tr>\n",
       "    <tr>\n",
       "      <td>2532</td>\n",
       "      <td>05062489000140</td>\n",
       "    </tr>\n",
       "    <tr>\n",
       "      <td>2533</td>\n",
       "      <td>01052752000169</td>\n",
       "    </tr>\n",
       "    <tr>\n",
       "      <td>2534</td>\n",
       "      <td>15243363000125</td>\n",
       "    </tr>\n",
       "    <tr>\n",
       "      <td>2535</td>\n",
       "      <td>07642296000193</td>\n",
       "    </tr>\n",
       "    <tr>\n",
       "      <td>2536</td>\n",
       "      <td>43586056000344</td>\n",
       "    </tr>\n",
       "  </tbody>\n",
       "</table>\n",
       "<p>2537 rows × 1 columns</p>\n",
       "</div>"
      ],
      "text/plain": [
       "                CNPJ\n",
       "0     06303088000105\n",
       "1     01923684000166\n",
       "2     03652447000133\n",
       "3     03863259000154\n",
       "4     07550679000131\n",
       "...              ...\n",
       "2532  05062489000140\n",
       "2533  01052752000169\n",
       "2534  15243363000125\n",
       "2535  07642296000193\n",
       "2536  43586056000344\n",
       "\n",
       "[2537 rows x 1 columns]"
      ]
     },
     "execution_count": 12,
     "metadata": {},
     "output_type": "execute_result"
    }
   ],
   "source": [
    "# IMPORTAÇÃO DA BASE DE Entidades sem Fins Lucrativos Impedidas\n",
    "esfl_impedidas_df = pd.read_csv(r'C:\\DATASETS\\Entidades sem Fins Lucrativos Impedidas\\sem_fim_lucr_impedidas.csv', dtype=str)\n",
    "esfl_impedidas_df"
   ]
  },
  {
   "cell_type": "code",
   "execution_count": 13,
   "metadata": {},
   "outputs": [
    {
     "name": "stdout",
     "output_type": "stream",
     "text": [
      "14    2537\n",
      "Name: CNPJ, dtype: int64\n"
     ]
    }
   ],
   "source": [
    "# Só temos CNPJ na coluna:\n",
    "print(esfl_impedidas_df.CNPJ.str.len().value_counts())"
   ]
  },
  {
   "cell_type": "code",
   "execution_count": 15,
   "metadata": {},
   "outputs": [
    {
     "data": {
      "text/plain": [
       "cnpj  empresa_esfl_punida\n",
       "14    False                  1559909\n",
       "      True                        34\n",
       "Name: empresa_esfl_punida, dtype: int64"
      ]
     },
     "execution_count": 15,
     "metadata": {},
     "output_type": "execute_result"
    }
   ],
   "source": [
    "# Rotula as empresas\n",
    "empresas_rotuladas_df['empresa_esfl_punida'] = (empresas_rotuladas_df.merge(esfl_impedidas_df, left_on='cnpj', right_on='CNPJ', how='left', indicator=True).eval('_merge == \"both\"').astype(bool))\n",
    "empresas_rotuladas_df.groupby(empresas_rotuladas_df.cnpj.str.len()).empresa_esfl_punida.value_counts()"
   ]
  },
  {
   "cell_type": "markdown",
   "metadata": {},
   "source": [
    "Fim do processamento de entidades sem fim lucrativo punidas."
   ]
  },
  {
   "cell_type": "markdown",
   "metadata": {},
   "source": [
    "### Feature engineering:"
   ]
  },
  {
   "cell_type": "markdown",
   "metadata": {},
   "source": [
    "##### Criação da variável 'empresa_sancionada', com base nas 3 variáveis anteriores."
   ]
  },
  {
   "cell_type": "code",
   "execution_count": 17,
   "metadata": {},
   "outputs": [
    {
     "data": {
      "text/plain": [
       "False    1559657\n",
       "True         286\n",
       "Name: empresa_sancionada, dtype: int64"
      ]
     },
     "execution_count": 17,
     "metadata": {},
     "output_type": "execute_result"
    }
   ],
   "source": [
    "empresas_rotuladas_df['empresa_sancionada'] = empresas_rotuladas_df['empresa_inidoneo_suspenso']\n",
    "                                              |empresas_rotuladas_df['empresa_punida']\n",
    "                                              |empresas_rotuladas_df['empresa_esfl_punida']\n",
    "empresas_rotuladas_df.empresa_sancionada.value_counts()"
   ]
  },
  {
   "cell_type": "code",
   "execution_count": 18,
   "metadata": {},
   "outputs": [],
   "source": [
    "# Remover colunas não necessárias\n",
    "empresas_rotuladas_df.drop(columns=['empresa_inidoneo_suspenso', 'empresa_punida', 'empresa_esfl_punida'], inplace=True)"
   ]
  },
  {
   "cell_type": "code",
   "execution_count": 19,
   "metadata": {},
   "outputs": [],
   "source": [
    "# Salvando resultado:\n",
    "empresas_rotuladas_df.to_csv(r'C:\\DATASETS\\Empresas Rotuladas\\empresas_rotuladas-sancionadas.csv', index = False)"
   ]
  }
 ],
 "metadata": {
  "kernelspec": {
   "display_name": "Python 3",
   "language": "python",
   "name": "python3"
  },
  "language_info": {
   "codemirror_mode": {
    "name": "ipython",
    "version": 3
   },
   "file_extension": ".py",
   "mimetype": "text/x-python",
   "name": "python",
   "nbconvert_exporter": "python",
   "pygments_lexer": "ipython3",
   "version": "3.7.4"
  }
 },
 "nbformat": 4,
 "nbformat_minor": 2
}
