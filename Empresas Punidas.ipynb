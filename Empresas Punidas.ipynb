{
 "cells": [
  {
   "cell_type": "code",
   "execution_count": 1,
   "metadata": {},
   "outputs": [],
   "source": [
    "import pandas as pd\n",
    "import numpy as np"
   ]
  },
  {
   "cell_type": "code",
   "execution_count": 2,
   "metadata": {},
   "outputs": [],
   "source": [
    "# IMPORTAÇÃO DA BASE DE EMPRESAS PUNIDAS\n",
    "colunas = ['CPF OU CNPJ DO SANCIONADO', 'NOME INFORMADO PELO ÓRGÃO SANCIONADOR',\n",
    "           'DATA INÍCIO SANÇÃO', 'DATA FINAL SANÇÃO']\n",
    "punidas_df = pd.read_csv('C:\\\\DATASETS\\Empresas Punidas\\\\1-Arquivos Baixados\\\\20210408_CNEP.csv',\n",
    "                         sep=';', dtype='str', usecols=colunas, encoding='latin-1')"
   ]
  },
  {
   "cell_type": "markdown",
   "metadata": {},
   "source": [
    "Processamento/Tratamento de Dados:"
   ]
  },
  {
   "cell_type": "code",
   "execution_count": 3,
   "metadata": {
    "scrolled": true
   },
   "outputs": [
    {
     "name": "stdout",
     "output_type": "stream",
     "text": [
      "<class 'pandas.core.frame.DataFrame'>\n",
      "RangeIndex: 297 entries, 0 to 296\n",
      "Data columns (total 4 columns):\n",
      "CPF OU CNPJ DO SANCIONADO                297 non-null object\n",
      "NOME INFORMADO PELO ÓRGÃO SANCIONADOR    297 non-null object\n",
      "DATA INÍCIO SANÇÃO                       297 non-null object\n",
      "DATA FINAL SANÇÃO                        21 non-null object\n",
      "dtypes: object(4)\n",
      "memory usage: 9.4+ KB\n"
     ]
    }
   ],
   "source": [
    "# Conferindo campos e tipos\n",
    "punidas_df.info()"
   ]
  },
  {
   "cell_type": "code",
   "execution_count": 4,
   "metadata": {
    "scrolled": true
   },
   "outputs": [
    {
     "data": {
      "text/plain": [
       "<bound method NDFrame.describe of     CPF OU CNPJ DO SANCIONADO  \\\n",
       "0                 34058422807   \n",
       "1              21504073000190   \n",
       "2              10699386000125   \n",
       "3              07486627000143   \n",
       "4              21463538000102   \n",
       "..                        ...   \n",
       "292               35735286862   \n",
       "293            07487504000127   \n",
       "294            07487504000127   \n",
       "295            08143105000101   \n",
       "296            13197596000103   \n",
       "\n",
       "                 NOME INFORMADO PELO ÓRGÃO SANCIONADOR DATA INÍCIO SANÇÃO  \\\n",
       "0                                SEVERINO JOSÉ MAFALDO         26/12/2018   \n",
       "1    CENTRO DE FORMAÇÃO DE CONDUTORES SERRACAR LARA...         19/09/2018   \n",
       "2    TEC LIGHT INDUSTRIA E COMERCIO DE REATORES EIRELI         22/11/2019   \n",
       "3                                   C.A.M. CASTILHO ME         14/12/2020   \n",
       "4                        COMERCIAL PICAPAU EIRELI - ME         17/03/2020   \n",
       "..                                                 ...                ...   \n",
       "292                     RONALDO VIANA MARTINS CARVALHO         28/01/2019   \n",
       "293   MOURA E MOURA INFORMÁTICA E EMPREENDIMENTOS LTDA         04/02/2021   \n",
       "294    MOURA E MOURA INFORMATICA E EMPREENDIMENTO LTDA         04/06/2019   \n",
       "295  COMERCIO DE MATERIAIS PARA CONSTRUÇÃO MARIGU L...         12/09/2019   \n",
       "296       JBF ENGENHEIROS & ARQUITETOS ASSOCIADOS LTDA         06/04/2020   \n",
       "\n",
       "    DATA FINAL SANÇÃO  \n",
       "0                 NaN  \n",
       "1                 NaN  \n",
       "2                 NaN  \n",
       "3                 NaN  \n",
       "4                 NaN  \n",
       "..                ...  \n",
       "292               NaN  \n",
       "293               NaN  \n",
       "294               NaN  \n",
       "295               NaN  \n",
       "296        07/04/2025  \n",
       "\n",
       "[297 rows x 4 columns]>"
      ]
     },
     "execution_count": 4,
     "metadata": {},
     "output_type": "execute_result"
    }
   ],
   "source": [
    "# Conferindo campos e valores\n",
    "punidas_df.describe"
   ]
  },
  {
   "cell_type": "code",
   "execution_count": 5,
   "metadata": {},
   "outputs": [
    {
     "data": {
      "text/plain": [
       "DATA FINAL SANÇÃO                        92.929293\n",
       "DATA INÍCIO SANÇÃO                        0.000000\n",
       "NOME INFORMADO PELO ÓRGÃO SANCIONADOR     0.000000\n",
       "CPF OU CNPJ DO SANCIONADO                 0.000000\n",
       "dtype: float64"
      ]
     },
     "execution_count": 5,
     "metadata": {},
     "output_type": "execute_result"
    }
   ],
   "source": [
    "# Identificando percentual de valores ausentes por coluna:\n",
    "(punidas_df.isnull().sum() / punidas_df.shape[0] * 100)\n",
    "     .sort_values(ascending=False)"
   ]
  },
  {
   "cell_type": "markdown",
   "metadata": {},
   "source": [
    "### Limpeza e correção dos dados:"
   ]
  },
  {
   "cell_type": "markdown",
   "metadata": {},
   "source": [
    "##### Limpeza e correção da coluna 'CPF OU CNPJ DO SANCIONADO':"
   ]
  },
  {
   "cell_type": "code",
   "execution_count": 6,
   "metadata": {},
   "outputs": [
    {
     "data": {
      "text/plain": [
       "14    272\n",
       "11     25\n",
       "Name: CPF OU CNPJ DO SANCIONADO, dtype: int64"
      ]
     },
     "execution_count": 6,
     "metadata": {},
     "output_type": "execute_result"
    }
   ],
   "source": [
    "# Conferindo se a coluna 'CPF OU CNPJ DO SANCIONADO' contém realmente\n",
    "# apenas CPF(11 dígitos) ou CNPJ(14 dígitos). Também fornece informação \n",
    "# sobre quantas pessoas físicas e quantas pessoas jurídicas estão presentes na base:\n",
    "punidas_df['CPF OU CNPJ DO SANCIONADO'].str.len().value_counts()"
   ]
  },
  {
   "cell_type": "markdown",
   "metadata": {},
   "source": [
    "Não há o que corrigir / limpar."
   ]
  },
  {
   "cell_type": "markdown",
   "metadata": {},
   "source": [
    "### Análise dos dados:"
   ]
  },
  {
   "cell_type": "code",
   "execution_count": 7,
   "metadata": {},
   "outputs": [
    {
     "data": {
      "text/html": [
       "<div>\n",
       "<style scoped>\n",
       "    .dataframe tbody tr th:only-of-type {\n",
       "        vertical-align: middle;\n",
       "    }\n",
       "\n",
       "    .dataframe tbody tr th {\n",
       "        vertical-align: top;\n",
       "    }\n",
       "\n",
       "    .dataframe thead th {\n",
       "        text-align: right;\n",
       "    }\n",
       "</style>\n",
       "<table border=\"1\" class=\"dataframe\">\n",
       "  <thead>\n",
       "    <tr style=\"text-align: right;\">\n",
       "      <th></th>\n",
       "      <th>CPF OU CNPJ DO SANCIONADO</th>\n",
       "      <th>NOME INFORMADO PELO ÓRGÃO SANCIONADOR</th>\n",
       "      <th>DATA INÍCIO SANÇÃO</th>\n",
       "      <th>DATA FINAL SANÇÃO</th>\n",
       "    </tr>\n",
       "  </thead>\n",
       "  <tbody>\n",
       "    <tr>\n",
       "      <td>0</td>\n",
       "      <td>34058422807</td>\n",
       "      <td>SEVERINO JOSÉ MAFALDO</td>\n",
       "      <td>26/12/2018</td>\n",
       "      <td>NaN</td>\n",
       "    </tr>\n",
       "    <tr>\n",
       "      <td>1</td>\n",
       "      <td>21504073000190</td>\n",
       "      <td>CENTRO DE FORMAÇÃO DE CONDUTORES SERRACAR LARA...</td>\n",
       "      <td>19/09/2018</td>\n",
       "      <td>NaN</td>\n",
       "    </tr>\n",
       "    <tr>\n",
       "      <td>2</td>\n",
       "      <td>10699386000125</td>\n",
       "      <td>TEC LIGHT INDUSTRIA E COMERCIO DE REATORES EIRELI</td>\n",
       "      <td>22/11/2019</td>\n",
       "      <td>NaN</td>\n",
       "    </tr>\n",
       "    <tr>\n",
       "      <td>3</td>\n",
       "      <td>07486627000143</td>\n",
       "      <td>C.A.M. CASTILHO ME</td>\n",
       "      <td>14/12/2020</td>\n",
       "      <td>NaN</td>\n",
       "    </tr>\n",
       "    <tr>\n",
       "      <td>4</td>\n",
       "      <td>21463538000102</td>\n",
       "      <td>COMERCIAL PICAPAU EIRELI - ME</td>\n",
       "      <td>17/03/2020</td>\n",
       "      <td>NaN</td>\n",
       "    </tr>\n",
       "    <tr>\n",
       "      <td>...</td>\n",
       "      <td>...</td>\n",
       "      <td>...</td>\n",
       "      <td>...</td>\n",
       "      <td>...</td>\n",
       "    </tr>\n",
       "    <tr>\n",
       "      <td>292</td>\n",
       "      <td>35735286862</td>\n",
       "      <td>RONALDO VIANA MARTINS CARVALHO</td>\n",
       "      <td>28/01/2019</td>\n",
       "      <td>NaN</td>\n",
       "    </tr>\n",
       "    <tr>\n",
       "      <td>293</td>\n",
       "      <td>07487504000127</td>\n",
       "      <td>MOURA E MOURA INFORMÁTICA E EMPREENDIMENTOS LTDA</td>\n",
       "      <td>04/02/2021</td>\n",
       "      <td>NaN</td>\n",
       "    </tr>\n",
       "    <tr>\n",
       "      <td>294</td>\n",
       "      <td>07487504000127</td>\n",
       "      <td>MOURA E MOURA INFORMATICA E EMPREENDIMENTO LTDA</td>\n",
       "      <td>04/06/2019</td>\n",
       "      <td>NaN</td>\n",
       "    </tr>\n",
       "    <tr>\n",
       "      <td>295</td>\n",
       "      <td>08143105000101</td>\n",
       "      <td>COMERCIO DE MATERIAIS PARA CONSTRUÇÃO MARIGU L...</td>\n",
       "      <td>12/09/2019</td>\n",
       "      <td>NaN</td>\n",
       "    </tr>\n",
       "    <tr>\n",
       "      <td>296</td>\n",
       "      <td>13197596000103</td>\n",
       "      <td>JBF ENGENHEIROS &amp; ARQUITETOS ASSOCIADOS LTDA</td>\n",
       "      <td>06/04/2020</td>\n",
       "      <td>07/04/2025</td>\n",
       "    </tr>\n",
       "  </tbody>\n",
       "</table>\n",
       "<p>297 rows × 4 columns</p>\n",
       "</div>"
      ],
      "text/plain": [
       "    CPF OU CNPJ DO SANCIONADO  \\\n",
       "0                 34058422807   \n",
       "1              21504073000190   \n",
       "2              10699386000125   \n",
       "3              07486627000143   \n",
       "4              21463538000102   \n",
       "..                        ...   \n",
       "292               35735286862   \n",
       "293            07487504000127   \n",
       "294            07487504000127   \n",
       "295            08143105000101   \n",
       "296            13197596000103   \n",
       "\n",
       "                 NOME INFORMADO PELO ÓRGÃO SANCIONADOR DATA INÍCIO SANÇÃO  \\\n",
       "0                                SEVERINO JOSÉ MAFALDO         26/12/2018   \n",
       "1    CENTRO DE FORMAÇÃO DE CONDUTORES SERRACAR LARA...         19/09/2018   \n",
       "2    TEC LIGHT INDUSTRIA E COMERCIO DE REATORES EIRELI         22/11/2019   \n",
       "3                                   C.A.M. CASTILHO ME         14/12/2020   \n",
       "4                        COMERCIAL PICAPAU EIRELI - ME         17/03/2020   \n",
       "..                                                 ...                ...   \n",
       "292                     RONALDO VIANA MARTINS CARVALHO         28/01/2019   \n",
       "293   MOURA E MOURA INFORMÁTICA E EMPREENDIMENTOS LTDA         04/02/2021   \n",
       "294    MOURA E MOURA INFORMATICA E EMPREENDIMENTO LTDA         04/06/2019   \n",
       "295  COMERCIO DE MATERIAIS PARA CONSTRUÇÃO MARIGU L...         12/09/2019   \n",
       "296       JBF ENGENHEIROS & ARQUITETOS ASSOCIADOS LTDA         06/04/2020   \n",
       "\n",
       "    DATA FINAL SANÇÃO  \n",
       "0                 NaN  \n",
       "1                 NaN  \n",
       "2                 NaN  \n",
       "3                 NaN  \n",
       "4                 NaN  \n",
       "..                ...  \n",
       "292               NaN  \n",
       "293               NaN  \n",
       "294               NaN  \n",
       "295               NaN  \n",
       "296        07/04/2025  \n",
       "\n",
       "[297 rows x 4 columns]"
      ]
     },
     "execution_count": 7,
     "metadata": {},
     "output_type": "execute_result"
    }
   ],
   "source": [
    "punidas_df"
   ]
  },
  {
   "cell_type": "code",
   "execution_count": 9,
   "metadata": {},
   "outputs": [
    {
     "name": "stdout",
     "output_type": "stream",
     "text": [
      "2015\n",
      "2021\n"
     ]
    }
   ],
   "source": [
    "print(punidas_df['DATA INÍCIO SANÇÃO'].str[-4:].min())\n",
    "print(punidas_df['DATA INÍCIO SANÇÃO'].str[-4:].max())"
   ]
  },
  {
   "cell_type": "markdown",
   "metadata": {},
   "source": [
    "Datas de início dentro do esperado."
   ]
  },
  {
   "cell_type": "code",
   "execution_count": 10,
   "metadata": {},
   "outputs": [
    {
     "name": "stdout",
     "output_type": "stream",
     "text": [
      "2021\n",
      "2025\n"
     ]
    }
   ],
   "source": [
    "print(punidas_df[punidas_df['DATA FINAL SANÇÃO'].notnull() == True]['DATA FINAL SANÇÃO'].str[-4:].min())\n",
    "print(punidas_df[punidas_df['DATA FINAL SANÇÃO'].notnull() == True]['DATA FINAL SANÇÃO'].str[-4:].max())"
   ]
  },
  {
   "cell_type": "markdown",
   "metadata": {},
   "source": [
    "Já sobre a data final, percebemos um registro que pode ser um erro (31/12/2099). Mas  Além disso, vimos anteriormente que há linhas com 'DATA FINAL SANÇÃO', e também não faremos tratamento sobre isso."
   ]
  },
  {
   "cell_type": "markdown",
   "metadata": {},
   "source": [
    "Como iremos considerar apenas a existência ou não da empresa na lista de punidas, então não é preciso nenhum tratamento adicional. Vamos remover as colunas de datas, pois serviram apenas para conhecimento e não serão mais necessárias:"
   ]
  },
  {
   "cell_type": "code",
   "execution_count": 11,
   "metadata": {},
   "outputs": [],
   "source": [
    "punidas_df.drop(columns=['DATA INÍCIO SANÇÃO', 'DATA FINAL SANÇÃO'], inplace=True)"
   ]
  },
  {
   "cell_type": "markdown",
   "metadata": {},
   "source": [
    "Vamos agora remover duplicidades:"
   ]
  },
  {
   "cell_type": "code",
   "execution_count": 13,
   "metadata": {
    "scrolled": true
   },
   "outputs": [
    {
     "data": {
      "text/plain": [
       "07487504000127    7\n",
       "34058422807       6\n",
       "35735286862       6\n",
       "21891781000121    3\n",
       "04977561000104    2\n",
       "                 ..\n",
       "20520956000121    1\n",
       "13540305000138    1\n",
       "03821415000114    1\n",
       "03248412000486    1\n",
       "15329604000153    1\n",
       "Name: CPF OU CNPJ DO SANCIONADO, Length: 203, dtype: int64"
      ]
     },
     "execution_count": 13,
     "metadata": {},
     "output_type": "execute_result"
    }
   ],
   "source": [
    "# Vamos ver se existem duplicidades de cnpj ou cpf:\n",
    "punidas_df['CPF OU CNPJ DO SANCIONADO'].value_counts()"
   ]
  },
  {
   "cell_type": "code",
   "execution_count": 14,
   "metadata": {},
   "outputs": [],
   "source": [
    "# Vamos separar um dataframe só com CNPJ:\n",
    "punidas_pj_df = punidas_df[punidas_df['CPF OU CNPJ DO SANCIONADO'].str.len()==14]"
   ]
  },
  {
   "cell_type": "code",
   "execution_count": 15,
   "metadata": {},
   "outputs": [],
   "source": [
    "# Vamos agrupar por CNPJ e pegar apenas o primeiro nome da empresa:\n",
    "punidas_pj_df = punidas_pj_df.groupby('CPF OU CNPJ DO SANCIONADO').head(1)"
   ]
  },
  {
   "cell_type": "code",
   "execution_count": 16,
   "metadata": {},
   "outputs": [
    {
     "data": {
      "text/html": [
       "<div>\n",
       "<style scoped>\n",
       "    .dataframe tbody tr th:only-of-type {\n",
       "        vertical-align: middle;\n",
       "    }\n",
       "\n",
       "    .dataframe tbody tr th {\n",
       "        vertical-align: top;\n",
       "    }\n",
       "\n",
       "    .dataframe thead th {\n",
       "        text-align: right;\n",
       "    }\n",
       "</style>\n",
       "<table border=\"1\" class=\"dataframe\">\n",
       "  <thead>\n",
       "    <tr style=\"text-align: right;\">\n",
       "      <th></th>\n",
       "      <th>CPF OU CNPJ DO SANCIONADO</th>\n",
       "      <th>NOME INFORMADO PELO ÓRGÃO SANCIONADOR</th>\n",
       "    </tr>\n",
       "  </thead>\n",
       "  <tbody>\n",
       "    <tr>\n",
       "      <td>95</td>\n",
       "      <td>07487504000127</td>\n",
       "      <td>MOURA E MOURA INFORMATICA E EMPREENDIMENTOS LTDA</td>\n",
       "    </tr>\n",
       "    <tr>\n",
       "      <td>181</td>\n",
       "      <td>07487504000127</td>\n",
       "      <td>MOURA E MOURA INFORMÁTICA E EMPREENDIMENTOS CO...</td>\n",
       "    </tr>\n",
       "    <tr>\n",
       "      <td>236</td>\n",
       "      <td>07487504000127</td>\n",
       "      <td>MOURA E MOURA INFORMATICA E EMPREENDIMENTOS LTDA</td>\n",
       "    </tr>\n",
       "    <tr>\n",
       "      <td>267</td>\n",
       "      <td>07487504000127</td>\n",
       "      <td>MOURA E MOURA INFORMATICA E EMPREENDIMENTOS LTDA</td>\n",
       "    </tr>\n",
       "    <tr>\n",
       "      <td>281</td>\n",
       "      <td>07487504000127</td>\n",
       "      <td>MOURA E MOURA INFORMATICA E EMPREENDIMENTOS CO...</td>\n",
       "    </tr>\n",
       "    <tr>\n",
       "      <td>293</td>\n",
       "      <td>07487504000127</td>\n",
       "      <td>MOURA E MOURA INFORMÁTICA E EMPREENDIMENTOS LTDA</td>\n",
       "    </tr>\n",
       "    <tr>\n",
       "      <td>294</td>\n",
       "      <td>07487504000127</td>\n",
       "      <td>MOURA E MOURA INFORMATICA E EMPREENDIMENTO LTDA</td>\n",
       "    </tr>\n",
       "  </tbody>\n",
       "</table>\n",
       "</div>"
      ],
      "text/plain": [
       "    CPF OU CNPJ DO SANCIONADO  \\\n",
       "95             07487504000127   \n",
       "181            07487504000127   \n",
       "236            07487504000127   \n",
       "267            07487504000127   \n",
       "281            07487504000127   \n",
       "293            07487504000127   \n",
       "294            07487504000127   \n",
       "\n",
       "                 NOME INFORMADO PELO ÓRGÃO SANCIONADOR  \n",
       "95    MOURA E MOURA INFORMATICA E EMPREENDIMENTOS LTDA  \n",
       "181  MOURA E MOURA INFORMÁTICA E EMPREENDIMENTOS CO...  \n",
       "236   MOURA E MOURA INFORMATICA E EMPREENDIMENTOS LTDA  \n",
       "267   MOURA E MOURA INFORMATICA E EMPREENDIMENTOS LTDA  \n",
       "281  MOURA E MOURA INFORMATICA E EMPREENDIMENTOS CO...  \n",
       "293   MOURA E MOURA INFORMÁTICA E EMPREENDIMENTOS LTDA  \n",
       "294    MOURA E MOURA INFORMATICA E EMPREENDIMENTO LTDA  "
      ]
     },
     "execution_count": 16,
     "metadata": {},
     "output_type": "execute_result"
    }
   ],
   "source": [
    "# Escolhido o cnpj 07487504000127, vamos ver como ele estava na lista original:\n",
    "punidas_df[punidas_df['CPF OU CNPJ DO SANCIONADO']=='07487504000127']"
   ]
  },
  {
   "cell_type": "code",
   "execution_count": 17,
   "metadata": {
    "scrolled": true
   },
   "outputs": [
    {
     "data": {
      "text/html": [
       "<div>\n",
       "<style scoped>\n",
       "    .dataframe tbody tr th:only-of-type {\n",
       "        vertical-align: middle;\n",
       "    }\n",
       "\n",
       "    .dataframe tbody tr th {\n",
       "        vertical-align: top;\n",
       "    }\n",
       "\n",
       "    .dataframe thead th {\n",
       "        text-align: right;\n",
       "    }\n",
       "</style>\n",
       "<table border=\"1\" class=\"dataframe\">\n",
       "  <thead>\n",
       "    <tr style=\"text-align: right;\">\n",
       "      <th></th>\n",
       "      <th>CPF OU CNPJ DO SANCIONADO</th>\n",
       "      <th>NOME INFORMADO PELO ÓRGÃO SANCIONADOR</th>\n",
       "    </tr>\n",
       "  </thead>\n",
       "  <tbody>\n",
       "    <tr>\n",
       "      <td>95</td>\n",
       "      <td>07487504000127</td>\n",
       "      <td>MOURA E MOURA INFORMATICA E EMPREENDIMENTOS LTDA</td>\n",
       "    </tr>\n",
       "  </tbody>\n",
       "</table>\n",
       "</div>"
      ],
      "text/plain": [
       "   CPF OU CNPJ DO SANCIONADO             NOME INFORMADO PELO ÓRGÃO SANCIONADOR\n",
       "95            07487504000127  MOURA E MOURA INFORMATICA E EMPREENDIMENTOS LTDA"
      ]
     },
     "execution_count": 17,
     "metadata": {},
     "output_type": "execute_result"
    }
   ],
   "source": [
    "# Vamos ver como esse mesmo CNPJ ficou na lista consolidada (sem duplicidade):\n",
    "punidas_pj_df[punidas_pj_df['CPF OU CNPJ DO SANCIONADO']=='07487504000127']"
   ]
  },
  {
   "cell_type": "markdown",
   "metadata": {},
   "source": [
    "Ou seja, tudo correto na remoção de cnpjs duplicados."
   ]
  },
  {
   "cell_type": "markdown",
   "metadata": {},
   "source": [
    "Vamos agora avaliar e remover duplicidades de CPF:"
   ]
  },
  {
   "cell_type": "code",
   "execution_count": 18,
   "metadata": {},
   "outputs": [],
   "source": [
    "# Primeiro, separar um dataframe só com CPF:\n",
    "punidas_pf_df = punidas_df[punidas_df['CPF OU CNPJ DO SANCIONADO'].str.len()==11]"
   ]
  },
  {
   "cell_type": "code",
   "execution_count": 19,
   "metadata": {},
   "outputs": [
    {
     "name": "stdout",
     "output_type": "stream",
     "text": [
      "(25, 2)\n",
      "(11, 2)\n"
     ]
    }
   ],
   "source": [
    "# Como não podemos desconsiderar o nome nos casos de linhas de CPF, precisamos remover duplicados usando o método drop, considerando as duas colunas:\n",
    "print(punidas_pf_df.shape)\n",
    "punidas_pf_df = punidas_pf_df.drop_duplicates()\n",
    "print(punidas_pf_df.shape)"
   ]
  },
  {
   "cell_type": "markdown",
   "metadata": {},
   "source": [
    "Removidas as duplicidades de cpf e cnpj, vamos unificar os dataframes:"
   ]
  },
  {
   "cell_type": "code",
   "execution_count": 20,
   "metadata": {},
   "outputs": [
    {
     "data": {
      "text/html": [
       "<div>\n",
       "<style scoped>\n",
       "    .dataframe tbody tr th:only-of-type {\n",
       "        vertical-align: middle;\n",
       "    }\n",
       "\n",
       "    .dataframe tbody tr th {\n",
       "        vertical-align: top;\n",
       "    }\n",
       "\n",
       "    .dataframe thead th {\n",
       "        text-align: right;\n",
       "    }\n",
       "</style>\n",
       "<table border=\"1\" class=\"dataframe\">\n",
       "  <thead>\n",
       "    <tr style=\"text-align: right;\">\n",
       "      <th></th>\n",
       "      <th>CPF OU CNPJ DO SANCIONADO</th>\n",
       "      <th>NOME INFORMADO PELO ÓRGÃO SANCIONADOR</th>\n",
       "    </tr>\n",
       "  </thead>\n",
       "  <tbody>\n",
       "    <tr>\n",
       "      <td>0</td>\n",
       "      <td>21504073000190</td>\n",
       "      <td>CENTRO DE FORMAÇÃO DE CONDUTORES SERRACAR LARA...</td>\n",
       "    </tr>\n",
       "    <tr>\n",
       "      <td>1</td>\n",
       "      <td>10699386000125</td>\n",
       "      <td>TEC LIGHT INDUSTRIA E COMERCIO DE REATORES EIRELI</td>\n",
       "    </tr>\n",
       "    <tr>\n",
       "      <td>2</td>\n",
       "      <td>07486627000143</td>\n",
       "      <td>C.A.M. CASTILHO ME</td>\n",
       "    </tr>\n",
       "    <tr>\n",
       "      <td>3</td>\n",
       "      <td>21463538000102</td>\n",
       "      <td>COMERCIAL PICAPAU EIRELI - ME</td>\n",
       "    </tr>\n",
       "    <tr>\n",
       "      <td>4</td>\n",
       "      <td>06940189000189</td>\n",
       "      <td>MEC PRESS ENGENHARIA DO BRASIL EIRELI</td>\n",
       "    </tr>\n",
       "    <tr>\n",
       "      <td>...</td>\n",
       "      <td>...</td>\n",
       "      <td>...</td>\n",
       "    </tr>\n",
       "    <tr>\n",
       "      <td>198</td>\n",
       "      <td>25980213805</td>\n",
       "      <td>RODRIGO ZANARDO</td>\n",
       "    </tr>\n",
       "    <tr>\n",
       "      <td>199</td>\n",
       "      <td>30872074897</td>\n",
       "      <td>BRUNO SOARES BERNARDO</td>\n",
       "    </tr>\n",
       "    <tr>\n",
       "      <td>200</td>\n",
       "      <td>14403279805</td>\n",
       "      <td>VIVALDO DIAS DA SILVA</td>\n",
       "    </tr>\n",
       "    <tr>\n",
       "      <td>201</td>\n",
       "      <td>03133444930</td>\n",
       "      <td>CARLOS ARTURO MALLORQUIN JUNIOR</td>\n",
       "    </tr>\n",
       "    <tr>\n",
       "      <td>202</td>\n",
       "      <td>39736636887</td>\n",
       "      <td>IRINEU FERREIRA</td>\n",
       "    </tr>\n",
       "  </tbody>\n",
       "</table>\n",
       "<p>203 rows × 2 columns</p>\n",
       "</div>"
      ],
      "text/plain": [
       "    CPF OU CNPJ DO SANCIONADO  \\\n",
       "0              21504073000190   \n",
       "1              10699386000125   \n",
       "2              07486627000143   \n",
       "3              21463538000102   \n",
       "4              06940189000189   \n",
       "..                        ...   \n",
       "198               25980213805   \n",
       "199               30872074897   \n",
       "200               14403279805   \n",
       "201               03133444930   \n",
       "202               39736636887   \n",
       "\n",
       "                 NOME INFORMADO PELO ÓRGÃO SANCIONADOR  \n",
       "0    CENTRO DE FORMAÇÃO DE CONDUTORES SERRACAR LARA...  \n",
       "1    TEC LIGHT INDUSTRIA E COMERCIO DE REATORES EIRELI  \n",
       "2                                   C.A.M. CASTILHO ME  \n",
       "3                        COMERCIAL PICAPAU EIRELI - ME  \n",
       "4                MEC PRESS ENGENHARIA DO BRASIL EIRELI  \n",
       "..                                                 ...  \n",
       "198                                    RODRIGO ZANARDO  \n",
       "199                              BRUNO SOARES BERNARDO  \n",
       "200                              VIVALDO DIAS DA SILVA  \n",
       "201                    CARLOS ARTURO MALLORQUIN JUNIOR  \n",
       "202                                    IRINEU FERREIRA  \n",
       "\n",
       "[203 rows x 2 columns]"
      ]
     },
     "execution_count": 20,
     "metadata": {},
     "output_type": "execute_result"
    }
   ],
   "source": [
    "punidas_df = pd.concat([punidas_pj_df, punidas_pf_df])\n",
    "punidas_df.reset_index(drop=True)"
   ]
  },
  {
   "cell_type": "markdown",
   "metadata": {},
   "source": [
    "Verificamos acima alguns nomes com acentuação. Vamos retirar os acentos e colocar tudo em maiúsculo, pois a base de sócios está dessa forma (e precisaremos fazer join de pessoas físicas usando a coluna de nome)."
   ]
  },
  {
   "cell_type": "code",
   "execution_count": 22,
   "metadata": {},
   "outputs": [
    {
     "name": "stdout",
     "output_type": "stream",
     "text": [
      "AEEOHELLO\n"
     ]
    }
   ],
   "source": [
    "# Definição de uma função para retirar acentos e transformar texto em maiúsculo:\n",
    "\n",
    "import unicodedata\n",
    "\n",
    "def strip_accents_and_upper(text):\n",
    "\n",
    "    try:\n",
    "        text = unicode(text, 'utf-8')\n",
    "    except NameError: # unicode is a default on python 3 \n",
    "        pass\n",
    "\n",
    "    text = unicodedata.normalize('NFD', text)\\\n",
    "           .encode('ascii', 'ignore')\\\n",
    "           .decode(\"utf-8\")\n",
    "\n",
    "    return str(text).upper()\n",
    "\n",
    "s = strip_accents_and_upper('àéêöhello')\n",
    "print(s)"
   ]
  },
  {
   "cell_type": "code",
   "execution_count": 23,
   "metadata": {},
   "outputs": [],
   "source": [
    "# Aplicação da função\n",
    "punidas_df['NOME INFORMADO PELO ÓRGÃO SANCIONADOR'] = punidas_df['NOME INFORMADO PELO ÓRGÃO SANCIONADOR'].map(strip_accents_and_upper)"
   ]
  },
  {
   "cell_type": "code",
   "execution_count": 24,
   "metadata": {},
   "outputs": [
    {
     "data": {
      "text/html": [
       "<div>\n",
       "<style scoped>\n",
       "    .dataframe tbody tr th:only-of-type {\n",
       "        vertical-align: middle;\n",
       "    }\n",
       "\n",
       "    .dataframe tbody tr th {\n",
       "        vertical-align: top;\n",
       "    }\n",
       "\n",
       "    .dataframe thead th {\n",
       "        text-align: right;\n",
       "    }\n",
       "</style>\n",
       "<table border=\"1\" class=\"dataframe\">\n",
       "  <thead>\n",
       "    <tr style=\"text-align: right;\">\n",
       "      <th></th>\n",
       "      <th>CPF OU CNPJ DO SANCIONADO</th>\n",
       "      <th>NOME INFORMADO PELO ÓRGÃO SANCIONADOR</th>\n",
       "    </tr>\n",
       "  </thead>\n",
       "  <tbody>\n",
       "    <tr>\n",
       "      <td>1</td>\n",
       "      <td>21504073000190</td>\n",
       "      <td>CENTRO DE FORMACAO DE CONDUTORES SERRACAR LARA...</td>\n",
       "    </tr>\n",
       "    <tr>\n",
       "      <td>2</td>\n",
       "      <td>10699386000125</td>\n",
       "      <td>TEC LIGHT INDUSTRIA E COMERCIO DE REATORES EIRELI</td>\n",
       "    </tr>\n",
       "    <tr>\n",
       "      <td>3</td>\n",
       "      <td>07486627000143</td>\n",
       "      <td>C.A.M. CASTILHO ME</td>\n",
       "    </tr>\n",
       "    <tr>\n",
       "      <td>4</td>\n",
       "      <td>21463538000102</td>\n",
       "      <td>COMERCIAL PICAPAU EIRELI - ME</td>\n",
       "    </tr>\n",
       "    <tr>\n",
       "      <td>5</td>\n",
       "      <td>06940189000189</td>\n",
       "      <td>MEC PRESS ENGENHARIA DO BRASIL EIRELI</td>\n",
       "    </tr>\n",
       "    <tr>\n",
       "      <td>...</td>\n",
       "      <td>...</td>\n",
       "      <td>...</td>\n",
       "    </tr>\n",
       "    <tr>\n",
       "      <td>68</td>\n",
       "      <td>25980213805</td>\n",
       "      <td>RODRIGO ZANARDO</td>\n",
       "    </tr>\n",
       "    <tr>\n",
       "      <td>78</td>\n",
       "      <td>30872074897</td>\n",
       "      <td>BRUNO SOARES BERNARDO</td>\n",
       "    </tr>\n",
       "    <tr>\n",
       "      <td>111</td>\n",
       "      <td>14403279805</td>\n",
       "      <td>VIVALDO DIAS DA SILVA</td>\n",
       "    </tr>\n",
       "    <tr>\n",
       "      <td>126</td>\n",
       "      <td>03133444930</td>\n",
       "      <td>CARLOS ARTURO MALLORQUIN JUNIOR</td>\n",
       "    </tr>\n",
       "    <tr>\n",
       "      <td>232</td>\n",
       "      <td>39736636887</td>\n",
       "      <td>IRINEU FERREIRA</td>\n",
       "    </tr>\n",
       "  </tbody>\n",
       "</table>\n",
       "<p>203 rows × 2 columns</p>\n",
       "</div>"
      ],
      "text/plain": [
       "    CPF OU CNPJ DO SANCIONADO  \\\n",
       "1              21504073000190   \n",
       "2              10699386000125   \n",
       "3              07486627000143   \n",
       "4              21463538000102   \n",
       "5              06940189000189   \n",
       "..                        ...   \n",
       "68                25980213805   \n",
       "78                30872074897   \n",
       "111               14403279805   \n",
       "126               03133444930   \n",
       "232               39736636887   \n",
       "\n",
       "                 NOME INFORMADO PELO ÓRGÃO SANCIONADOR  \n",
       "1    CENTRO DE FORMACAO DE CONDUTORES SERRACAR LARA...  \n",
       "2    TEC LIGHT INDUSTRIA E COMERCIO DE REATORES EIRELI  \n",
       "3                                   C.A.M. CASTILHO ME  \n",
       "4                        COMERCIAL PICAPAU EIRELI - ME  \n",
       "5                MEC PRESS ENGENHARIA DO BRASIL EIRELI  \n",
       "..                                                 ...  \n",
       "68                                     RODRIGO ZANARDO  \n",
       "78                               BRUNO SOARES BERNARDO  \n",
       "111                              VIVALDO DIAS DA SILVA  \n",
       "126                    CARLOS ARTURO MALLORQUIN JUNIOR  \n",
       "232                                    IRINEU FERREIRA  \n",
       "\n",
       "[203 rows x 2 columns]"
      ]
     },
     "execution_count": 24,
     "metadata": {},
     "output_type": "execute_result"
    }
   ],
   "source": [
    "# Verificando resultados:\n",
    "punidas_df"
   ]
  },
  {
   "cell_type": "markdown",
   "metadata": {},
   "source": [
    "Por fim, vamos renomear colunas:"
   ]
  },
  {
   "cell_type": "code",
   "execution_count": 25,
   "metadata": {},
   "outputs": [],
   "source": [
    "punidas_df = punidas_df.rename(columns={\"CPF OU CNPJ DO SANCIONADO\": \"CPF_CNPJ\", \"NOME INFORMADO PELO ÓRGÃO SANCIONADOR\": \"NOME\"})"
   ]
  },
  {
   "cell_type": "markdown",
   "metadata": {},
   "source": [
    "Finalizado. Vamos salvar os resultados:"
   ]
  },
  {
   "cell_type": "code",
   "execution_count": 26,
   "metadata": {},
   "outputs": [],
   "source": [
    "punidas_df.to_csv(r'C:\\\\DATASETS\\Empresas Punidas\\\\punidas.csv', index = False)"
   ]
  }
 ],
 "metadata": {
  "kernelspec": {
   "display_name": "Python 3",
   "language": "python",
   "name": "python3"
  },
  "language_info": {
   "codemirror_mode": {
    "name": "ipython",
    "version": 3
   },
   "file_extension": ".py",
   "mimetype": "text/x-python",
   "name": "python",
   "nbconvert_exporter": "python",
   "pygments_lexer": "ipython3",
   "version": "3.7.4"
  }
 },
 "nbformat": 4,
 "nbformat_minor": 2
}
