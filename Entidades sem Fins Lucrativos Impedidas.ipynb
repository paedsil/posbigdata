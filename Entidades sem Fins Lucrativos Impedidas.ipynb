{
 "cells": [
  {
   "cell_type": "code",
   "execution_count": 2,
   "metadata": {},
   "outputs": [],
   "source": [
    "import pandas as pd\n",
    "import numpy as np"
   ]
  },
  {
   "cell_type": "code",
   "execution_count": 4,
   "metadata": {},
   "outputs": [],
   "source": [
    "# IMPORTAÇÃO DA BASE DE ENTIDADES SEM FINS LUCRATIVOS IMPEDIDAS\n",
    "colunas = ['CNPJ ENTIDADE', 'NOME ENTIDADE']\n",
    "sem_fim_lucr_impedidas_df = pd.read_csv('C:\\\\DATASETS\\\\Entidades sem Fins Lucrativos Impedidas\\\\1-Arquivos Baixados\\\\20210401_CEPIM.csv', sep=';', dtype='str', usecols=colunas, encoding='latin-1')"
   ]
  },
  {
   "cell_type": "markdown",
   "metadata": {},
   "source": [
    "Processamento/Tratamento de Dados:"
   ]
  },
  {
   "cell_type": "code",
   "execution_count": 5,
   "metadata": {
    "scrolled": true
   },
   "outputs": [
    {
     "name": "stdout",
     "output_type": "stream",
     "text": [
      "<class 'pandas.core.frame.DataFrame'>\n",
      "RangeIndex: 4684 entries, 0 to 4683\n",
      "Data columns (total 2 columns):\n",
      "CNPJ ENTIDADE    4684 non-null object\n",
      "NOME ENTIDADE    4684 non-null object\n",
      "dtypes: object(2)\n",
      "memory usage: 73.3+ KB\n"
     ]
    }
   ],
   "source": [
    "# Conferindo campos e tipos\n",
    "sem_fim_lucr_impedidas_df.info()"
   ]
  },
  {
   "cell_type": "code",
   "execution_count": 6,
   "metadata": {
    "scrolled": true
   },
   "outputs": [
    {
     "data": {
      "text/plain": [
       "<bound method NDFrame.describe of        CNPJ ENTIDADE                                      NOME ENTIDADE\n",
       "0     06303088000105    ASSOCIACAO DE DEFESA DO MEIO AMBIENTE DE REIMER\n",
       "1     01923684000166  ASSOC.DA ESCOLA DAS FAMILIAS AGRIC.DA PERIM.NO...\n",
       "2     03652447000133    FUNDACAO UNIVERSITARIA DE APOIO INTEGRAL AO SER\n",
       "3     03863259000154                    INSTITUTO ARTE, CIA E CIDADANIA\n",
       "4     07550679000131       ASSOCIACAO CULTURAL GOETHE DE PEDRAS GRANDES\n",
       "...              ...                                                ...\n",
       "4679  15243363000125  FEDERACAO DOS TRABALHADORES RURAIS AGRICULTORE...\n",
       "4680  32884108000180             ASSOCIACAO SERGIPANA DE BLOCOS DE TRIO\n",
       "4681  07642296000193  INSTITUTO DE DESENVOLVIMENTO E APOIO SOCIAL DO...\n",
       "4682  43586056000344                     INSTITUTO ADVENTISTA DE ENSINO\n",
       "4683  02806229000143       FUNDACAO DE APOIO INSTITUCIONAL RIO SOLIMOES\n",
       "\n",
       "[4684 rows x 2 columns]>"
      ]
     },
     "execution_count": 6,
     "metadata": {},
     "output_type": "execute_result"
    }
   ],
   "source": [
    "# Conferindo campos e valores\n",
    "sem_fim_lucr_impedidas_df.describe"
   ]
  },
  {
   "cell_type": "code",
   "execution_count": 7,
   "metadata": {},
   "outputs": [
    {
     "data": {
      "text/plain": [
       "NOME ENTIDADE    0.0\n",
       "CNPJ ENTIDADE    0.0\n",
       "dtype: float64"
      ]
     },
     "execution_count": 7,
     "metadata": {},
     "output_type": "execute_result"
    }
   ],
   "source": [
    "# Identificando percentual de valores ausentes por coluna:\n",
    "(sem_fim_lucr_impedidas_df.isnull().sum() / sem_fim_lucr_impedidas_df.shape[0] * 100)\n",
    ".sort_values(ascending=False)"
   ]
  },
  {
   "cell_type": "markdown",
   "metadata": {},
   "source": [
    "### Limpeza e correção dos dados:"
   ]
  },
  {
   "cell_type": "markdown",
   "metadata": {},
   "source": [
    "##### Limpeza e correção da coluna 'CPF OU CNPJ DO SANCIONADO':"
   ]
  },
  {
   "cell_type": "code",
   "execution_count": 8,
   "metadata": {},
   "outputs": [
    {
     "data": {
      "text/plain": [
       "14    4684\n",
       "Name: CNPJ ENTIDADE, dtype: int64"
      ]
     },
     "execution_count": 8,
     "metadata": {},
     "output_type": "execute_result"
    }
   ],
   "source": [
    "# Conferindo se a coluna 'CNPJ ENTIDADE' contém realmente apenas CNPJ(14 dígitos):\n",
    "sem_fim_lucr_impedidas_df['CNPJ ENTIDADE'].str.len().value_counts()"
   ]
  },
  {
   "cell_type": "markdown",
   "metadata": {},
   "source": [
    "Temos apenas CNPJs. Não há o que corrigir / limpar."
   ]
  },
  {
   "cell_type": "markdown",
   "metadata": {},
   "source": [
    "### Análise dos dados:"
   ]
  },
  {
   "cell_type": "code",
   "execution_count": 9,
   "metadata": {},
   "outputs": [
    {
     "data": {
      "text/html": [
       "<div>\n",
       "<style scoped>\n",
       "    .dataframe tbody tr th:only-of-type {\n",
       "        vertical-align: middle;\n",
       "    }\n",
       "\n",
       "    .dataframe tbody tr th {\n",
       "        vertical-align: top;\n",
       "    }\n",
       "\n",
       "    .dataframe thead th {\n",
       "        text-align: right;\n",
       "    }\n",
       "</style>\n",
       "<table border=\"1\" class=\"dataframe\">\n",
       "  <thead>\n",
       "    <tr style=\"text-align: right;\">\n",
       "      <th></th>\n",
       "      <th>CNPJ ENTIDADE</th>\n",
       "      <th>NOME ENTIDADE</th>\n",
       "    </tr>\n",
       "  </thead>\n",
       "  <tbody>\n",
       "    <tr>\n",
       "      <td>0</td>\n",
       "      <td>06303088000105</td>\n",
       "      <td>ASSOCIACAO DE DEFESA DO MEIO AMBIENTE DE REIMER</td>\n",
       "    </tr>\n",
       "    <tr>\n",
       "      <td>1</td>\n",
       "      <td>01923684000166</td>\n",
       "      <td>ASSOC.DA ESCOLA DAS FAMILIAS AGRIC.DA PERIM.NO...</td>\n",
       "    </tr>\n",
       "    <tr>\n",
       "      <td>2</td>\n",
       "      <td>03652447000133</td>\n",
       "      <td>FUNDACAO UNIVERSITARIA DE APOIO INTEGRAL AO SER</td>\n",
       "    </tr>\n",
       "    <tr>\n",
       "      <td>3</td>\n",
       "      <td>03863259000154</td>\n",
       "      <td>INSTITUTO ARTE, CIA E CIDADANIA</td>\n",
       "    </tr>\n",
       "    <tr>\n",
       "      <td>4</td>\n",
       "      <td>07550679000131</td>\n",
       "      <td>ASSOCIACAO CULTURAL GOETHE DE PEDRAS GRANDES</td>\n",
       "    </tr>\n",
       "    <tr>\n",
       "      <td>...</td>\n",
       "      <td>...</td>\n",
       "      <td>...</td>\n",
       "    </tr>\n",
       "    <tr>\n",
       "      <td>4679</td>\n",
       "      <td>15243363000125</td>\n",
       "      <td>FEDERACAO DOS TRABALHADORES RURAIS AGRICULTORE...</td>\n",
       "    </tr>\n",
       "    <tr>\n",
       "      <td>4680</td>\n",
       "      <td>32884108000180</td>\n",
       "      <td>ASSOCIACAO SERGIPANA DE BLOCOS DE TRIO</td>\n",
       "    </tr>\n",
       "    <tr>\n",
       "      <td>4681</td>\n",
       "      <td>07642296000193</td>\n",
       "      <td>INSTITUTO DE DESENVOLVIMENTO E APOIO SOCIAL DO...</td>\n",
       "    </tr>\n",
       "    <tr>\n",
       "      <td>4682</td>\n",
       "      <td>43586056000344</td>\n",
       "      <td>INSTITUTO ADVENTISTA DE ENSINO</td>\n",
       "    </tr>\n",
       "    <tr>\n",
       "      <td>4683</td>\n",
       "      <td>02806229000143</td>\n",
       "      <td>FUNDACAO DE APOIO INSTITUCIONAL RIO SOLIMOES</td>\n",
       "    </tr>\n",
       "  </tbody>\n",
       "</table>\n",
       "<p>4684 rows × 2 columns</p>\n",
       "</div>"
      ],
      "text/plain": [
       "       CNPJ ENTIDADE                                      NOME ENTIDADE\n",
       "0     06303088000105    ASSOCIACAO DE DEFESA DO MEIO AMBIENTE DE REIMER\n",
       "1     01923684000166  ASSOC.DA ESCOLA DAS FAMILIAS AGRIC.DA PERIM.NO...\n",
       "2     03652447000133    FUNDACAO UNIVERSITARIA DE APOIO INTEGRAL AO SER\n",
       "3     03863259000154                    INSTITUTO ARTE, CIA E CIDADANIA\n",
       "4     07550679000131       ASSOCIACAO CULTURAL GOETHE DE PEDRAS GRANDES\n",
       "...              ...                                                ...\n",
       "4679  15243363000125  FEDERACAO DOS TRABALHADORES RURAIS AGRICULTORE...\n",
       "4680  32884108000180             ASSOCIACAO SERGIPANA DE BLOCOS DE TRIO\n",
       "4681  07642296000193  INSTITUTO DE DESENVOLVIMENTO E APOIO SOCIAL DO...\n",
       "4682  43586056000344                     INSTITUTO ADVENTISTA DE ENSINO\n",
       "4683  02806229000143       FUNDACAO DE APOIO INSTITUCIONAL RIO SOLIMOES\n",
       "\n",
       "[4684 rows x 2 columns]"
      ]
     },
     "execution_count": 9,
     "metadata": {},
     "output_type": "execute_result"
    }
   ],
   "source": [
    "sem_fim_lucr_impedidas_df"
   ]
  },
  {
   "cell_type": "markdown",
   "metadata": {},
   "source": [
    "Vamos agora remover duplicidades:"
   ]
  },
  {
   "cell_type": "code",
   "execution_count": 10,
   "metadata": {
    "scrolled": true
   },
   "outputs": [
    {
     "data": {
      "text/plain": [
       "32884108000180    67\n",
       "07435422000139    40\n",
       "09185398000152    39\n",
       "08667750000123    37\n",
       "55492425000157    36\n",
       "                  ..\n",
       "02548582000170     1\n",
       "33633629000128     1\n",
       "04625495000103     1\n",
       "01948065000126     1\n",
       "07476514000167     1\n",
       "Name: CNPJ ENTIDADE, Length: 2537, dtype: int64"
      ]
     },
     "execution_count": 10,
     "metadata": {},
     "output_type": "execute_result"
    }
   ],
   "source": [
    "# Vamos ver se existem duplicidades de cnpj:\n",
    "sem_fim_lucr_impedidas_df['CNPJ ENTIDADE'].value_counts()"
   ]
  },
  {
   "cell_type": "code",
   "execution_count": 14,
   "metadata": {},
   "outputs": [
    {
     "name": "stdout",
     "output_type": "stream",
     "text": [
      "(4684, 1)\n",
      "(2537, 1)\n"
     ]
    }
   ],
   "source": [
    "# Vamos primeiro remover a coluna de nome da entidade, pois não será necessária:\n",
    "sem_fim_lucr_impedidas_df.drop(columns=['NOME ENTIDADE'], inplace=True)\n",
    "\n",
    "# E agora vamos remover as duplicidades de cnpj:\n",
    "print(sem_fim_lucr_impedidas_df.shape)\n",
    "sem_fim_lucr_impedidas_df = sem_fim_lucr_impedidas_df.drop_duplicates()\n",
    "print(sem_fim_lucr_impedidas_df.shape)"
   ]
  },
  {
   "cell_type": "markdown",
   "metadata": {},
   "source": [
    "Por fim, vamos renomear a coluna de cnpj:"
   ]
  },
  {
   "cell_type": "code",
   "execution_count": 15,
   "metadata": {},
   "outputs": [],
   "source": [
    "sem_fim_lucr_impedidas_df = sem_fim_lucr_impedidas_df.rename(columns={\"CNPJ ENTIDADE\": \"CNPJ\"})"
   ]
  },
  {
   "cell_type": "markdown",
   "metadata": {},
   "source": [
    "Finalizado. Vamos salvar os resultados:"
   ]
  },
  {
   "cell_type": "code",
   "execution_count": 16,
   "metadata": {},
   "outputs": [],
   "source": [
    "sem_fim_lucr_impedidas_df.to_csv(r'C:\\\\DATASETS\\\\Entidades sem Fins Lucrativos Impedidas\\\\sem_fim_lucr_impedidas.csv', index = False)"
   ]
  }
 ],
 "metadata": {
  "kernelspec": {
   "display_name": "Python 3",
   "language": "python",
   "name": "python3"
  },
  "language_info": {
   "codemirror_mode": {
    "name": "ipython",
    "version": 3
   },
   "file_extension": ".py",
   "mimetype": "text/x-python",
   "name": "python",
   "nbconvert_exporter": "python",
   "pygments_lexer": "ipython3",
   "version": "3.7.4"
  }
 },
 "nbformat": 4,
 "nbformat_minor": 2
}
