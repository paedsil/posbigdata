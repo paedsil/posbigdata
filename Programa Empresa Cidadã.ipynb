{
 "cells": [
  {
   "cell_type": "markdown",
   "metadata": {},
   "source": [
    "As empresas que constam na lista do Programa Empresa Cidadã são claramente empresas ativas, e operantes de fato. Obter a lista dos CNPJs dessas empresas nos permitirá rotular algumas empresas da base nacional como existentes de fato.\n",
    "\n",
    "A planilha foi baixada a partir desse site: https://www.gov.br/receitafederal/pt-br/assuntos/orientacao-tributaria/isencoes/programa-empresa-cidada\n",
    "\n",
    "Extração em: 13/04/2021."
   ]
  },
  {
   "cell_type": "code",
   "execution_count": 1,
   "metadata": {},
   "outputs": [],
   "source": [
    "import pandas as pd"
   ]
  },
  {
   "cell_type": "code",
   "execution_count": 3,
   "metadata": {
    "scrolled": true
   },
   "outputs": [
    {
     "name": "stdout",
     "output_type": "stream",
     "text": [
      "                     CNPJ\n",
      "0      00.000.000/0001-91\n",
      "1      00.000.208/0001-00\n",
      "2      00.000.415/0001-65\n",
      "3      00.000.539/0001-40\n",
      "4      00.000.705/0001-09\n",
      "...                   ...\n",
      "22427  98.042.963/0001-52\n",
      "22428  98.102.650/0001-42\n",
      "22429  98.406.242/0001-84\n",
      "22430  98.510.944/0001-03\n",
      "22431  98.587.918/0001-83\n",
      "\n",
      "[22432 rows x 1 columns]\n",
      "<class 'pandas.core.frame.DataFrame'>\n",
      "RangeIndex: 22432 entries, 0 to 22431\n",
      "Data columns (total 1 columns):\n",
      "CNPJ    22432 non-null object\n",
      "dtypes: object(1)\n",
      "memory usage: 175.4+ KB\n",
      "None\n"
     ]
    }
   ],
   "source": [
    "df = pd.read_excel('C:\\DATASETS\\Empresas Existentes de Fato\\Programa Empresa Cidadã\\empresas_optantes.xlsx', index_col=None, header=0, usecols=\"A\", converters={'CNPJ': str})\n",
    "print(df)\n",
    "print(df.info())"
   ]
  },
  {
   "cell_type": "code",
   "execution_count": 6,
   "metadata": {},
   "outputs": [],
   "source": [
    "# Limpeza do CNPJ\n",
    "df.CNPJ = df.CNPJ.str.replace('[\\.\\-\\/]', '', regex=True)"
   ]
  },
  {
   "cell_type": "code",
   "execution_count": 7,
   "metadata": {},
   "outputs": [
    {
     "data": {
      "text/plain": [
       "14    22432\n",
       "Name: CNPJ, dtype: int64"
      ]
     },
     "execution_count": 7,
     "metadata": {},
     "output_type": "execute_result"
    }
   ],
   "source": [
    "# Verificando se temos apenas cnpj completos:\n",
    "df.CNPJ.str.len().value_counts()"
   ]
  },
  {
   "cell_type": "code",
   "execution_count": 8,
   "metadata": {},
   "outputs": [
    {
     "data": {
      "text/plain": [
       "22426"
      ]
     },
     "execution_count": 8,
     "metadata": {},
     "output_type": "execute_result"
    }
   ],
   "source": [
    "df.CNPJ.nunique()"
   ]
  },
  {
   "cell_type": "code",
   "execution_count": 9,
   "metadata": {},
   "outputs": [
    {
     "data": {
      "text/plain": [
       "<bound method NDFrame.describe of                  CNPJ\n",
       "0      00000000000191\n",
       "1      00000208000100\n",
       "2      00000415000165\n",
       "3      00000539000140\n",
       "4      00000705000109\n",
       "...               ...\n",
       "22427  98042963000152\n",
       "22428  98102650000142\n",
       "22429  98406242000184\n",
       "22430  98510944000103\n",
       "22431  98587918000183\n",
       "\n",
       "[22426 rows x 1 columns]>"
      ]
     },
     "execution_count": 9,
     "metadata": {},
     "output_type": "execute_result"
    }
   ],
   "source": [
    "# Removendo duplicados\n",
    "df.drop_duplicates(inplace=True)\n",
    "df.describe"
   ]
  },
  {
   "cell_type": "code",
   "execution_count": 10,
   "metadata": {},
   "outputs": [],
   "source": [
    "df.to_csv(r'C:\\DATASETS\\Empresas Existentes de Fato\\programa_empresa_cidada.csv', index = False)"
   ]
  }
 ],
 "metadata": {
  "kernelspec": {
   "display_name": "Python 3",
   "language": "python",
   "name": "python3"
  },
  "language_info": {
   "codemirror_mode": {
    "name": "ipython",
    "version": 3
   },
   "file_extension": ".py",
   "mimetype": "text/x-python",
   "name": "python",
   "nbconvert_exporter": "python",
   "pygments_lexer": "ipython3",
   "version": "3.7.4"
  }
 },
 "nbformat": 4,
 "nbformat_minor": 2
}
