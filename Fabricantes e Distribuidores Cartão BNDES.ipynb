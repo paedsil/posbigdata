{
 "cells": [
  {
   "cell_type": "markdown",
   "metadata": {},
   "source": [
    "As empresas que constam na lista de Distribuidores Autorizados para financiamentos de produtos via Cartão BNDES são claramente empresas ativas (produtivas, inclusive), e operantes de fato. Obter a lista dos CNPJs dessas empresas nos permitirá rotular algumas empresas da base nacional como existentes de fato.\n",
    "\n",
    "Vamos obter os CNPJs das empresas listadas tanto como produtores quanto como distribuidores na planilha de Distribuidores Autorizados em 2021.\n",
    "\n",
    "A planilha foi baixada a partir desse site: https://www.bndes.gov.br/wps/portal/site/home/financiamento/servicos-online/credenciamento-de-equipamentos/consulta-fornecedores-produtos-credenciados\n",
    "\n",
    "Extração em: 13/04/2021."
   ]
  },
  {
   "cell_type": "code",
   "execution_count": 45,
   "metadata": {},
   "outputs": [],
   "source": [
    "import requests\n",
    "import pandas as pd"
   ]
  },
  {
   "cell_type": "code",
   "execution_count": 46,
   "metadata": {
    "scrolled": true
   },
   "outputs": [
    {
     "name": "stdout",
     "output_type": "stream",
     "text": [
      "      CNPJ do Fabricante CNPJ - Distribuidor Autorizado\n",
      "0         00065584000183                 04912284000143\n",
      "1         00065584000183                 15258644000151\n",
      "2         00065584000183                 15696840000108\n",
      "3         00065584000183                 25452049000106\n",
      "4         00065584000183                 25028095000182\n",
      "...                  ...                            ...\n",
      "66935     98337751000100                 08040075000108\n",
      "66936     98337751000100                 81435729000192\n",
      "66937     98337751000100                 16746753000180\n",
      "66938     98337751000100                 91835066000157\n",
      "66939             Count:                            NaN\n",
      "\n",
      "[66940 rows x 2 columns]\n",
      "<class 'pandas.core.frame.DataFrame'>\n",
      "RangeIndex: 66940 entries, 0 to 66939\n",
      "Data columns (total 2 columns):\n",
      "CNPJ do Fabricante                66940 non-null object\n",
      "CNPJ - Distribuidor Autorizado    66939 non-null object\n",
      "dtypes: object(2)\n",
      "memory usage: 1.0+ MB\n",
      "None\n"
     ]
    }
   ],
   "source": [
    "df = pd.read_excel('C:\\DATASETS\\Empresas Existentes de Fato\\BNDES\\Fabricates_DA.xlsx', index_col=None, header=1, usecols=\"B,E\", converters={'CNPJ do Fabricante': str, 'CNPJ - Distribuidor Autorizado': str})\n",
    "print(df)\n",
    "print(df.info())"
   ]
  },
  {
   "cell_type": "code",
   "execution_count": 47,
   "metadata": {},
   "outputs": [],
   "source": [
    "# Removendo última linha, que não contém cnpj:\n",
    "df.drop(df.tail(1).index,inplace=True) "
   ]
  },
  {
   "cell_type": "code",
   "execution_count": 48,
   "metadata": {},
   "outputs": [
    {
     "name": "stdout",
     "output_type": "stream",
     "text": [
      "14    66939\n",
      "Name: CNPJ do Fabricante, dtype: int64\n",
      "14    66939\n",
      "Name: CNPJ - Distribuidor Autorizado, dtype: int64\n"
     ]
    }
   ],
   "source": [
    "# Verificando se temos apenas cnpj completos:\n",
    "print(df['CNPJ do Fabricante'].str.len().value_counts())\n",
    "print(df['CNPJ - Distribuidor Autorizado'].str.len().value_counts())"
   ]
  },
  {
   "cell_type": "markdown",
   "metadata": {},
   "source": [
    "Como estamos considerando como empresas de fato tanto os cnpjs de fabricantes quanto de distribuidores, vamos unificar a lista:"
   ]
  },
  {
   "cell_type": "code",
   "execution_count": 60,
   "metadata": {},
   "outputs": [
    {
     "data": {
      "text/html": [
       "<div>\n",
       "<style scoped>\n",
       "    .dataframe tbody tr th:only-of-type {\n",
       "        vertical-align: middle;\n",
       "    }\n",
       "\n",
       "    .dataframe tbody tr th {\n",
       "        vertical-align: top;\n",
       "    }\n",
       "\n",
       "    .dataframe thead th {\n",
       "        text-align: right;\n",
       "    }\n",
       "</style>\n",
       "<table border=\"1\" class=\"dataframe\">\n",
       "  <thead>\n",
       "    <tr style=\"text-align: right;\">\n",
       "      <th></th>\n",
       "      <th>CNPJ</th>\n",
       "    </tr>\n",
       "  </thead>\n",
       "  <tbody>\n",
       "    <tr>\n",
       "      <td>0</td>\n",
       "      <td>00065584000183</td>\n",
       "    </tr>\n",
       "    <tr>\n",
       "      <td>1</td>\n",
       "      <td>00065584000183</td>\n",
       "    </tr>\n",
       "    <tr>\n",
       "      <td>2</td>\n",
       "      <td>00065584000183</td>\n",
       "    </tr>\n",
       "    <tr>\n",
       "      <td>3</td>\n",
       "      <td>00065584000183</td>\n",
       "    </tr>\n",
       "    <tr>\n",
       "      <td>4</td>\n",
       "      <td>00065584000183</td>\n",
       "    </tr>\n",
       "    <tr>\n",
       "      <td>...</td>\n",
       "      <td>...</td>\n",
       "    </tr>\n",
       "    <tr>\n",
       "      <td>133873</td>\n",
       "      <td>00913351000193</td>\n",
       "    </tr>\n",
       "    <tr>\n",
       "      <td>133874</td>\n",
       "      <td>08040075000108</td>\n",
       "    </tr>\n",
       "    <tr>\n",
       "      <td>133875</td>\n",
       "      <td>81435729000192</td>\n",
       "    </tr>\n",
       "    <tr>\n",
       "      <td>133876</td>\n",
       "      <td>16746753000180</td>\n",
       "    </tr>\n",
       "    <tr>\n",
       "      <td>133877</td>\n",
       "      <td>91835066000157</td>\n",
       "    </tr>\n",
       "  </tbody>\n",
       "</table>\n",
       "<p>133878 rows × 1 columns</p>\n",
       "</div>"
      ],
      "text/plain": [
       "                  CNPJ\n",
       "0       00065584000183\n",
       "1       00065584000183\n",
       "2       00065584000183\n",
       "3       00065584000183\n",
       "4       00065584000183\n",
       "...                ...\n",
       "133873  00913351000193\n",
       "133874  08040075000108\n",
       "133875  81435729000192\n",
       "133876  16746753000180\n",
       "133877  91835066000157\n",
       "\n",
       "[133878 rows x 1 columns]"
      ]
     },
     "execution_count": 60,
     "metadata": {},
     "output_type": "execute_result"
    }
   ],
   "source": [
    "df = pd.DataFrame(df['CNPJ do Fabricante'].append(df['CNPJ - Distribuidor Autorizado']).reset_index(drop=True))\n",
    "df.columns = [\"CNPJ\"]\n",
    "df"
   ]
  },
  {
   "cell_type": "code",
   "execution_count": 61,
   "metadata": {},
   "outputs": [
    {
     "data": {
      "text/plain": [
       "<bound method NDFrame.describe of                   CNPJ\n",
       "0       00065584000183\n",
       "5       00200671000104\n",
       "7       00280273000137\n",
       "8       00289348000140\n",
       "9       00324107000195\n",
       "...                ...\n",
       "133839  17260669000115\n",
       "133841  10398820000218\n",
       "133844  01771002000147\n",
       "133863  14764407000108\n",
       "133873  00913351000193\n",
       "\n",
       "[19100 rows x 1 columns]>"
      ]
     },
     "execution_count": 61,
     "metadata": {},
     "output_type": "execute_result"
    }
   ],
   "source": [
    "df.drop_duplicates(inplace=True)\n",
    "df.describe"
   ]
  },
  {
   "cell_type": "code",
   "execution_count": 62,
   "metadata": {},
   "outputs": [],
   "source": [
    "    df.to_csv(r'C:\\DATASETS\\Empresas Existentes de Fato\\fabricantes_e_distribuidores_cartao_bndes.csv', index = False)"
   ]
  }
 ],
 "metadata": {
  "kernelspec": {
   "display_name": "Python 3",
   "language": "python",
   "name": "python3"
  },
  "language_info": {
   "codemirror_mode": {
    "name": "ipython",
    "version": 3
   },
   "file_extension": ".py",
   "mimetype": "text/x-python",
   "name": "python",
   "nbconvert_exporter": "python",
   "pygments_lexer": "ipython3",
   "version": "3.7.4"
  }
 },
 "nbformat": 4,
 "nbformat_minor": 2
}
