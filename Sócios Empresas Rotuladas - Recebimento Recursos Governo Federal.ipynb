{
 "cells": [
  {
   "cell_type": "code",
   "execution_count": 1,
   "metadata": {},
   "outputs": [],
   "source": [
    "import pandas as pd\n",
    "import numpy as np"
   ]
  },
  {
   "cell_type": "code",
   "execution_count": 2,
   "metadata": {},
   "outputs": [
    {
     "data": {
      "text/html": [
       "<div>\n",
       "<style scoped>\n",
       "    .dataframe tbody tr th:only-of-type {\n",
       "        vertical-align: middle;\n",
       "    }\n",
       "\n",
       "    .dataframe tbody tr th {\n",
       "        vertical-align: top;\n",
       "    }\n",
       "\n",
       "    .dataframe thead th {\n",
       "        text-align: right;\n",
       "    }\n",
       "</style>\n",
       "<table border=\"1\" class=\"dataframe\">\n",
       "  <thead>\n",
       "    <tr style=\"text-align: right;\">\n",
       "      <th></th>\n",
       "      <th>cnpj</th>\n",
       "      <th>cnpj_cpf_socio</th>\n",
       "      <th>nome_socio</th>\n",
       "      <th>tempo_de_sociedade</th>\n",
       "      <th>cnpj_cpf_socio_mascarado</th>\n",
       "    </tr>\n",
       "  </thead>\n",
       "  <tbody>\n",
       "    <tr>\n",
       "      <td>0</td>\n",
       "      <td>00000000000191</td>\n",
       "      <td>***923641**</td>\n",
       "      <td>MARCIO HAMILTON FERREIRA</td>\n",
       "      <td>11</td>\n",
       "      <td>***923641**</td>\n",
       "    </tr>\n",
       "    <tr>\n",
       "      <td>1</td>\n",
       "      <td>00000000000191</td>\n",
       "      <td>***491386**</td>\n",
       "      <td>NILSON MARTINIANO MOREIRA</td>\n",
       "      <td>11</td>\n",
       "      <td>***491386**</td>\n",
       "    </tr>\n",
       "    <tr>\n",
       "      <td>2</td>\n",
       "      <td>00000000000191</td>\n",
       "      <td>***718468**</td>\n",
       "      <td>WALTER MALIENI JUNIOR</td>\n",
       "      <td>11</td>\n",
       "      <td>***718468**</td>\n",
       "    </tr>\n",
       "    <tr>\n",
       "      <td>3</td>\n",
       "      <td>00000000000191</td>\n",
       "      <td>***415907**</td>\n",
       "      <td>CARLOS ALBERTO ARAUJO NETTO</td>\n",
       "      <td>9</td>\n",
       "      <td>***415907**</td>\n",
       "    </tr>\n",
       "    <tr>\n",
       "      <td>4</td>\n",
       "      <td>00000000000191</td>\n",
       "      <td>***022878**</td>\n",
       "      <td>ANTONIO MAURICIO MAURANO</td>\n",
       "      <td>9</td>\n",
       "      <td>***022878**</td>\n",
       "    </tr>\n",
       "    <tr>\n",
       "      <td>...</td>\n",
       "      <td>...</td>\n",
       "      <td>...</td>\n",
       "      <td>...</td>\n",
       "      <td>...</td>\n",
       "      <td>...</td>\n",
       "    </tr>\n",
       "    <tr>\n",
       "      <td>1683063</td>\n",
       "      <td>97541975000169</td>\n",
       "      <td>26090628859</td>\n",
       "      <td>EDIVALDO ALVES DE ARAUJO</td>\n",
       "      <td>10</td>\n",
       "      <td>***906288**</td>\n",
       "    </tr>\n",
       "    <tr>\n",
       "      <td>1683064</td>\n",
       "      <td>97542225000101</td>\n",
       "      <td>01095040707</td>\n",
       "      <td>CARLOS HENRIQUE ROCHA DE SOUZA</td>\n",
       "      <td>10</td>\n",
       "      <td>***950407**</td>\n",
       "    </tr>\n",
       "    <tr>\n",
       "      <td>1683065</td>\n",
       "      <td>97543869000114</td>\n",
       "      <td>72399317491</td>\n",
       "      <td>MARIO JORGE LIMA DA SILVA</td>\n",
       "      <td>10</td>\n",
       "      <td>***993174**</td>\n",
       "    </tr>\n",
       "    <tr>\n",
       "      <td>1683066</td>\n",
       "      <td>97548003000104</td>\n",
       "      <td>03028898330</td>\n",
       "      <td>CARLOS ADRIANO ROSA DA SILVA</td>\n",
       "      <td>10</td>\n",
       "      <td>***288983**</td>\n",
       "    </tr>\n",
       "    <tr>\n",
       "      <td>1683067</td>\n",
       "      <td>97549681000183</td>\n",
       "      <td>90619544449</td>\n",
       "      <td>JOSENILDO JOSE DE LIMA</td>\n",
       "      <td>10</td>\n",
       "      <td>***195444**</td>\n",
       "    </tr>\n",
       "  </tbody>\n",
       "</table>\n",
       "<p>1683068 rows × 5 columns</p>\n",
       "</div>"
      ],
      "text/plain": [
       "                   cnpj cnpj_cpf_socio                      nome_socio  \\\n",
       "0        00000000000191    ***923641**        MARCIO HAMILTON FERREIRA   \n",
       "1        00000000000191    ***491386**       NILSON MARTINIANO MOREIRA   \n",
       "2        00000000000191    ***718468**           WALTER MALIENI JUNIOR   \n",
       "3        00000000000191    ***415907**     CARLOS ALBERTO ARAUJO NETTO   \n",
       "4        00000000000191    ***022878**        ANTONIO MAURICIO MAURANO   \n",
       "...                 ...            ...                             ...   \n",
       "1683063  97541975000169    26090628859        EDIVALDO ALVES DE ARAUJO   \n",
       "1683064  97542225000101    01095040707  CARLOS HENRIQUE ROCHA DE SOUZA   \n",
       "1683065  97543869000114    72399317491       MARIO JORGE LIMA DA SILVA   \n",
       "1683066  97548003000104    03028898330    CARLOS ADRIANO ROSA DA SILVA   \n",
       "1683067  97549681000183    90619544449          JOSENILDO JOSE DE LIMA   \n",
       "\n",
       "        tempo_de_sociedade cnpj_cpf_socio_mascarado  \n",
       "0                       11              ***923641**  \n",
       "1                       11              ***491386**  \n",
       "2                       11              ***718468**  \n",
       "3                        9              ***415907**  \n",
       "4                        9              ***022878**  \n",
       "...                    ...                      ...  \n",
       "1683063                 10              ***906288**  \n",
       "1683064                 10              ***950407**  \n",
       "1683065                 10              ***993174**  \n",
       "1683066                 10              ***288983**  \n",
       "1683067                 10              ***195444**  \n",
       "\n",
       "[1683068 rows x 5 columns]"
      ]
     },
     "execution_count": 2,
     "metadata": {},
     "output_type": "execute_result"
    }
   ],
   "source": [
    "# IMPORTAÇÃO DA BASE DE SÓCIOS\n",
    "socios_empresas_rotuladas_df = pd.read_csv(r'C:\\DATASETS\\Empresas Rotuladas\\socios_empresas_rotuladas.csv', dtype=str)\n",
    "socios_empresas_rotuladas_df"
   ]
  },
  {
   "cell_type": "code",
   "execution_count": 3,
   "metadata": {},
   "outputs": [],
   "source": [
    "# Remover coluna de tempo_de_sociedade, não necessária aqui\n",
    "socios_empresas_rotuladas_df.drop(columns=['tempo_de_sociedade'], inplace=True)"
   ]
  },
  {
   "cell_type": "markdown",
   "metadata": {},
   "source": [
    "### Junção com a base de pessoas que receberam recursos do governo federal:"
   ]
  },
  {
   "cell_type": "code",
   "execution_count": 4,
   "metadata": {},
   "outputs": [
    {
     "data": {
      "text/html": [
       "<div>\n",
       "<style scoped>\n",
       "    .dataframe tbody tr th:only-of-type {\n",
       "        vertical-align: middle;\n",
       "    }\n",
       "\n",
       "    .dataframe tbody tr th {\n",
       "        vertical-align: top;\n",
       "    }\n",
       "\n",
       "    .dataframe thead th {\n",
       "        text-align: right;\n",
       "    }\n",
       "</style>\n",
       "<table border=\"1\" class=\"dataframe\">\n",
       "  <thead>\n",
       "    <tr style=\"text-align: right;\">\n",
       "      <th></th>\n",
       "      <th>Código Favorecido</th>\n",
       "      <th>Nome Favorecido</th>\n",
       "      <th>recebimento_recurso_governo_federal</th>\n",
       "    </tr>\n",
       "  </thead>\n",
       "  <tbody>\n",
       "    <tr>\n",
       "      <td>0</td>\n",
       "      <td>***000000**</td>\n",
       "      <td>CARMELO CARLOMAGNO FILHO</td>\n",
       "      <td>-468.52</td>\n",
       "    </tr>\n",
       "    <tr>\n",
       "      <td>1</td>\n",
       "      <td>***000000**</td>\n",
       "      <td>ELISABETE SANTOS TASSINARI</td>\n",
       "      <td>4582.54</td>\n",
       "    </tr>\n",
       "    <tr>\n",
       "      <td>2</td>\n",
       "      <td>***000000**</td>\n",
       "      <td>LAUDETE IZABEL BORGIO DE ANDRADE</td>\n",
       "      <td>218793.06</td>\n",
       "    </tr>\n",
       "    <tr>\n",
       "      <td>3</td>\n",
       "      <td>***000000**</td>\n",
       "      <td>SABRINA DA COSTA OBIEDO</td>\n",
       "      <td>800.0</td>\n",
       "    </tr>\n",
       "    <tr>\n",
       "      <td>4</td>\n",
       "      <td>***000000**</td>\n",
       "      <td>THAIS SAUCO SOCCA</td>\n",
       "      <td>6400.0</td>\n",
       "    </tr>\n",
       "    <tr>\n",
       "      <td>...</td>\n",
       "      <td>...</td>\n",
       "      <td>...</td>\n",
       "      <td>...</td>\n",
       "    </tr>\n",
       "    <tr>\n",
       "      <td>3805117</td>\n",
       "      <td>98671597000362</td>\n",
       "      <td>MUNICIPIO DE VERANOPOLIS</td>\n",
       "      <td>208.1</td>\n",
       "    </tr>\n",
       "    <tr>\n",
       "      <td>3805118</td>\n",
       "      <td>98674401000121</td>\n",
       "      <td>SOCIEDADE ALFREDOCHAVENSE</td>\n",
       "      <td>4000.0</td>\n",
       "    </tr>\n",
       "    <tr>\n",
       "      <td>3805119</td>\n",
       "      <td>98675598000113</td>\n",
       "      <td>ASS DE PAIS E AMIGOS DOS EXCEPCIONAIS DE VERAN...</td>\n",
       "      <td>11160.0</td>\n",
       "    </tr>\n",
       "    <tr>\n",
       "      <td>3805120</td>\n",
       "      <td>98714876000102</td>\n",
       "      <td>ASSOCIACAO HOSPITAL NOSSA SENHORA DE POMPEIA</td>\n",
       "      <td>349600.0</td>\n",
       "    </tr>\n",
       "    <tr>\n",
       "      <td>3805121</td>\n",
       "      <td>98749864000105</td>\n",
       "      <td>FIGUEIRA CENTRO COMERCIO E DERIVADOS DE COMBUS...</td>\n",
       "      <td>14.569999999999999</td>\n",
       "    </tr>\n",
       "  </tbody>\n",
       "</table>\n",
       "<p>3805122 rows × 3 columns</p>\n",
       "</div>"
      ],
      "text/plain": [
       "        Código Favorecido                                    Nome Favorecido  \\\n",
       "0             ***000000**                           CARMELO CARLOMAGNO FILHO   \n",
       "1             ***000000**                         ELISABETE SANTOS TASSINARI   \n",
       "2             ***000000**                   LAUDETE IZABEL BORGIO DE ANDRADE   \n",
       "3             ***000000**                            SABRINA DA COSTA OBIEDO   \n",
       "4             ***000000**                                  THAIS SAUCO SOCCA   \n",
       "...                   ...                                                ...   \n",
       "3805117    98671597000362                           MUNICIPIO DE VERANOPOLIS   \n",
       "3805118    98674401000121                          SOCIEDADE ALFREDOCHAVENSE   \n",
       "3805119    98675598000113  ASS DE PAIS E AMIGOS DOS EXCEPCIONAIS DE VERAN...   \n",
       "3805120    98714876000102       ASSOCIACAO HOSPITAL NOSSA SENHORA DE POMPEIA   \n",
       "3805121    98749864000105  FIGUEIRA CENTRO COMERCIO E DERIVADOS DE COMBUS...   \n",
       "\n",
       "        recebimento_recurso_governo_federal  \n",
       "0                                   -468.52  \n",
       "1                                   4582.54  \n",
       "2                                 218793.06  \n",
       "3                                     800.0  \n",
       "4                                    6400.0  \n",
       "...                                     ...  \n",
       "3805117                               208.1  \n",
       "3805118                              4000.0  \n",
       "3805119                             11160.0  \n",
       "3805120                            349600.0  \n",
       "3805121                  14.569999999999999  \n",
       "\n",
       "[3805122 rows x 3 columns]"
      ]
     },
     "execution_count": 4,
     "metadata": {},
     "output_type": "execute_result"
    }
   ],
   "source": [
    "# IMPORTAÇÃO DA BASE DE RECEBIMENTO DE RECURSOS DO GOVERNO\n",
    "recursos_governo_df = pd.read_csv(r'C:\\DATASETS\\Recebimento Recursos Governo Federal\\recebimento_recursos_governo-consolidado.csv', dtype=str)\n",
    "recursos_governo_df"
   ]
  },
  {
   "cell_type": "code",
   "execution_count": 5,
   "metadata": {},
   "outputs": [
    {
     "name": "stdout",
     "output_type": "stream",
     "text": [
      "11    3449497\n",
      "14     355625\n",
      "Name: Código Favorecido, dtype: int64\n"
     ]
    }
   ],
   "source": [
    "print(recursos_governo_df['Código Favorecido'].str.len().value_counts())\n",
    "pj_recursos_df = recursos_governo_df[recursos_governo_df['Código Favorecido'].str.len()==14]\n",
    "pf_recursos_df = recursos_governo_df[recursos_governo_df['Código Favorecido'].str.len()==11]"
   ]
  },
  {
   "cell_type": "code",
   "execution_count": 54,
   "metadata": {},
   "outputs": [
    {
     "data": {
      "text/plain": [
       "cnpj_cpf_socio\n",
       "11    0.000000e+00\n",
       "14    2.998973e+12\n",
       "Name: socio_recurso_recebido_governo_federal, dtype: float64"
      ]
     },
     "execution_count": 54,
     "metadata": {},
     "output_type": "execute_result"
    }
   ],
   "source": [
    "# Rotula os sócios que são PJ\n",
    "socios_empresas_rotuladas_df['socio_recurso_recebido_governo_federal'] = socios_empresas_rotuladas_df.merge(pj_recursos_df, left_on='cnpj_cpf_socio', right_on='Código Favorecido', how='left')['recebimento_recurso_governo_federal'].astype(float)\n",
    "socios_empresas_rotuladas_df.groupby(socios_empresas_rotuladas_df.cnpj_cpf_socio.str.len()).socio_recurso_recebido_governo_federal.sum()"
   ]
  },
  {
   "cell_type": "markdown",
   "metadata": {},
   "source": [
    "Agora, vamos rotular as pessoas físicas:"
   ]
  },
  {
   "cell_type": "markdown",
   "metadata": {},
   "source": [
    "Todos os CPFs já estão mascarados, como visto abaixo:"
   ]
  },
  {
   "cell_type": "code",
   "execution_count": 55,
   "metadata": {},
   "outputs": [
    {
     "data": {
      "text/html": [
       "<div>\n",
       "<style scoped>\n",
       "    .dataframe tbody tr th:only-of-type {\n",
       "        vertical-align: middle;\n",
       "    }\n",
       "\n",
       "    .dataframe tbody tr th {\n",
       "        vertical-align: top;\n",
       "    }\n",
       "\n",
       "    .dataframe thead th {\n",
       "        text-align: right;\n",
       "    }\n",
       "</style>\n",
       "<table border=\"1\" class=\"dataframe\">\n",
       "  <thead>\n",
       "    <tr style=\"text-align: right;\">\n",
       "      <th></th>\n",
       "      <th>Código Favorecido</th>\n",
       "      <th>Nome Favorecido</th>\n",
       "      <th>recebimento_recurso_governo_federal</th>\n",
       "    </tr>\n",
       "  </thead>\n",
       "  <tbody>\n",
       "  </tbody>\n",
       "</table>\n",
       "</div>"
      ],
      "text/plain": [
       "Empty DataFrame\n",
       "Columns: [Código Favorecido, Nome Favorecido, recebimento_recurso_governo_federal]\n",
       "Index: []"
      ]
     },
     "execution_count": 55,
     "metadata": {},
     "output_type": "execute_result"
    }
   ],
   "source": [
    "pf_recursos_df[(pf_recursos_df['Código Favorecido'].str[0:1] != '*')]"
   ]
  },
  {
   "cell_type": "code",
   "execution_count": 56,
   "metadata": {
    "scrolled": true
   },
   "outputs": [
    {
     "data": {
      "text/plain": [
       "cnpj_cpf_socio\n",
       "11    4.760264e+08\n",
       "14    0.000000e+00\n",
       "Name: socio_recurso_recebido_governo_federal_pf, dtype: float64"
      ]
     },
     "execution_count": 56,
     "metadata": {},
     "output_type": "execute_result"
    }
   ],
   "source": [
    "# Rotula os sócios que são PF\n",
    "socios_empresas_rotuladas_df['socio_recurso_recebido_governo_federal_pf'] = socios_empresas_rotuladas_df.merge(pf_recursos_df, left_on=['cnpj_cpf_socio_mascarado', 'nome_socio'], right_on=['Código Favorecido', 'Nome Favorecido'], how='left')['recebimento_recurso_governo_federal'].astype(float)\n",
    "socios_empresas_rotuladas_df.groupby(socios_empresas_rotuladas_df.cnpj_cpf_socio.str.len()).socio_recurso_recebido_governo_federal_pf.sum()"
   ]
  },
  {
   "cell_type": "code",
   "execution_count": 63,
   "metadata": {},
   "outputs": [
    {
     "data": {
      "text/plain": [
       "cnpj_cpf_socio\n",
       "11    4.760264e+08\n",
       "14    2.998973e+12\n",
       "Name: socio_recurso_recebido_governo_federal, dtype: float64"
      ]
     },
     "execution_count": 63,
     "metadata": {},
     "output_type": "execute_result"
    }
   ],
   "source": [
    "# Junta os marcadores:\n",
    "socios_empresas_rotuladas_df.fillna({'socio_recurso_recebido_governo_federal': 0, 'socio_recurso_recebido_governo_federal_pf': 0}, inplace=True)\n",
    "socios_empresas_rotuladas_df['socio_recurso_recebido_governo_federal'] = socios_empresas_rotuladas_df['socio_recurso_recebido_governo_federal']+socios_empresas_rotuladas_df['socio_recurso_recebido_governo_federal_pf']\n",
    "socios_empresas_rotuladas_df.drop(columns=['socio_recurso_recebido_governo_federal_pf'], inplace=True)\n",
    "socios_empresas_rotuladas_df.groupby(socios_empresas_rotuladas_df.cnpj_cpf_socio.str.len()).socio_recurso_recebido_governo_federal.sum()"
   ]
  },
  {
   "cell_type": "code",
   "execution_count": 70,
   "metadata": {},
   "outputs": [
    {
     "data": {
      "text/plain": [
       "cnpj_cpf_socio\n",
       "11    19100\n",
       "14     1638\n",
       "Name: socio_recurso_recebido_governo_federal, dtype: int64"
      ]
     },
     "execution_count": 70,
     "metadata": {},
     "output_type": "execute_result"
    }
   ],
   "source": [
    "socios_empresas_rotuladas_df[socios_empresas_rotuladas_df.socio_recurso_recebido_governo_federal > 0].groupby(socios_empresas_rotuladas_df.cnpj_cpf_socio.str.len())['socio_recurso_recebido_governo_federal'].count()"
   ]
  },
  {
   "cell_type": "code",
   "execution_count": 66,
   "metadata": {},
   "outputs": [
    {
     "data": {
      "text/html": [
       "<div>\n",
       "<style scoped>\n",
       "    .dataframe tbody tr th:only-of-type {\n",
       "        vertical-align: middle;\n",
       "    }\n",
       "\n",
       "    .dataframe tbody tr th {\n",
       "        vertical-align: top;\n",
       "    }\n",
       "\n",
       "    .dataframe thead th {\n",
       "        text-align: right;\n",
       "    }\n",
       "</style>\n",
       "<table border=\"1\" class=\"dataframe\">\n",
       "  <thead>\n",
       "    <tr style=\"text-align: right;\">\n",
       "      <th></th>\n",
       "      <th>cnpj</th>\n",
       "      <th>cnpj_cpf_socio</th>\n",
       "      <th>nome_socio</th>\n",
       "      <th>cnpj_cpf_socio_mascarado</th>\n",
       "      <th>socio_recurso_recebido_governo_federal</th>\n",
       "    </tr>\n",
       "  </thead>\n",
       "  <tbody>\n",
       "    <tr>\n",
       "      <td>0</td>\n",
       "      <td>00000000000191</td>\n",
       "      <td>***923641**</td>\n",
       "      <td>MARCIO HAMILTON FERREIRA</td>\n",
       "      <td>***923641**</td>\n",
       "      <td>0.00</td>\n",
       "    </tr>\n",
       "    <tr>\n",
       "      <td>1</td>\n",
       "      <td>00000000000191</td>\n",
       "      <td>***491386**</td>\n",
       "      <td>NILSON MARTINIANO MOREIRA</td>\n",
       "      <td>***491386**</td>\n",
       "      <td>0.00</td>\n",
       "    </tr>\n",
       "    <tr>\n",
       "      <td>2</td>\n",
       "      <td>00000000000191</td>\n",
       "      <td>***718468**</td>\n",
       "      <td>WALTER MALIENI JUNIOR</td>\n",
       "      <td>***718468**</td>\n",
       "      <td>0.00</td>\n",
       "    </tr>\n",
       "    <tr>\n",
       "      <td>3</td>\n",
       "      <td>00000000000191</td>\n",
       "      <td>***415907**</td>\n",
       "      <td>CARLOS ALBERTO ARAUJO NETTO</td>\n",
       "      <td>***415907**</td>\n",
       "      <td>0.00</td>\n",
       "    </tr>\n",
       "    <tr>\n",
       "      <td>4</td>\n",
       "      <td>00000000000191</td>\n",
       "      <td>***022878**</td>\n",
       "      <td>ANTONIO MAURICIO MAURANO</td>\n",
       "      <td>***022878**</td>\n",
       "      <td>0.00</td>\n",
       "    </tr>\n",
       "    <tr>\n",
       "      <td>...</td>\n",
       "      <td>...</td>\n",
       "      <td>...</td>\n",
       "      <td>...</td>\n",
       "      <td>...</td>\n",
       "      <td>...</td>\n",
       "    </tr>\n",
       "    <tr>\n",
       "      <td>1683063</td>\n",
       "      <td>97541975000169</td>\n",
       "      <td>26090628859</td>\n",
       "      <td>EDIVALDO ALVES DE ARAUJO</td>\n",
       "      <td>***906288**</td>\n",
       "      <td>0.00</td>\n",
       "    </tr>\n",
       "    <tr>\n",
       "      <td>1683064</td>\n",
       "      <td>97542225000101</td>\n",
       "      <td>01095040707</td>\n",
       "      <td>CARLOS HENRIQUE ROCHA DE SOUZA</td>\n",
       "      <td>***950407**</td>\n",
       "      <td>0.00</td>\n",
       "    </tr>\n",
       "    <tr>\n",
       "      <td>1683065</td>\n",
       "      <td>97543869000114</td>\n",
       "      <td>72399317491</td>\n",
       "      <td>MARIO JORGE LIMA DA SILVA</td>\n",
       "      <td>***993174**</td>\n",
       "      <td>0.00</td>\n",
       "    </tr>\n",
       "    <tr>\n",
       "      <td>1683066</td>\n",
       "      <td>97548003000104</td>\n",
       "      <td>03028898330</td>\n",
       "      <td>CARLOS ADRIANO ROSA DA SILVA</td>\n",
       "      <td>***288983**</td>\n",
       "      <td>132.96</td>\n",
       "    </tr>\n",
       "    <tr>\n",
       "      <td>1683067</td>\n",
       "      <td>97549681000183</td>\n",
       "      <td>90619544449</td>\n",
       "      <td>JOSENILDO JOSE DE LIMA</td>\n",
       "      <td>***195444**</td>\n",
       "      <td>0.00</td>\n",
       "    </tr>\n",
       "  </tbody>\n",
       "</table>\n",
       "<p>1683068 rows × 5 columns</p>\n",
       "</div>"
      ],
      "text/plain": [
       "                   cnpj cnpj_cpf_socio                      nome_socio  \\\n",
       "0        00000000000191    ***923641**        MARCIO HAMILTON FERREIRA   \n",
       "1        00000000000191    ***491386**       NILSON MARTINIANO MOREIRA   \n",
       "2        00000000000191    ***718468**           WALTER MALIENI JUNIOR   \n",
       "3        00000000000191    ***415907**     CARLOS ALBERTO ARAUJO NETTO   \n",
       "4        00000000000191    ***022878**        ANTONIO MAURICIO MAURANO   \n",
       "...                 ...            ...                             ...   \n",
       "1683063  97541975000169    26090628859        EDIVALDO ALVES DE ARAUJO   \n",
       "1683064  97542225000101    01095040707  CARLOS HENRIQUE ROCHA DE SOUZA   \n",
       "1683065  97543869000114    72399317491       MARIO JORGE LIMA DA SILVA   \n",
       "1683066  97548003000104    03028898330    CARLOS ADRIANO ROSA DA SILVA   \n",
       "1683067  97549681000183    90619544449          JOSENILDO JOSE DE LIMA   \n",
       "\n",
       "        cnpj_cpf_socio_mascarado  socio_recurso_recebido_governo_federal  \n",
       "0                    ***923641**                                    0.00  \n",
       "1                    ***491386**                                    0.00  \n",
       "2                    ***718468**                                    0.00  \n",
       "3                    ***415907**                                    0.00  \n",
       "4                    ***022878**                                    0.00  \n",
       "...                          ...                                     ...  \n",
       "1683063              ***906288**                                    0.00  \n",
       "1683064              ***950407**                                    0.00  \n",
       "1683065              ***993174**                                    0.00  \n",
       "1683066              ***288983**                                  132.96  \n",
       "1683067              ***195444**                                    0.00  \n",
       "\n",
       "[1683068 rows x 5 columns]"
      ]
     },
     "execution_count": 66,
     "metadata": {},
     "output_type": "execute_result"
    }
   ],
   "source": [
    "socios_empresas_rotuladas_df"
   ]
  },
  {
   "cell_type": "code",
   "execution_count": 71,
   "metadata": {},
   "outputs": [],
   "source": [
    "# Salvando resultado:\n",
    "socios_empresas_rotuladas_df.to_csv(r'C:\\DATASETS\\Empresas Rotuladas\\socios_empresas_rotuladas-recebimento_recurso_governo_federal.csv', index = False)"
   ]
  }
 ],
 "metadata": {
  "kernelspec": {
   "display_name": "Python 3",
   "language": "python",
   "name": "python3"
  },
  "language_info": {
   "codemirror_mode": {
    "name": "ipython",
    "version": 3
   },
   "file_extension": ".py",
   "mimetype": "text/x-python",
   "name": "python",
   "nbconvert_exporter": "python",
   "pygments_lexer": "ipython3",
   "version": "3.7.4"
  }
 },
 "nbformat": 4,
 "nbformat_minor": 2
}
