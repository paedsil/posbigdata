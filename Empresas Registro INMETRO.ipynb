{
 "cells": [
  {
   "cell_type": "markdown",
   "metadata": {},
   "source": [
    "As empresas que fizeram registro de objeto no INMETRO possuem claramente intenção de comercialização de um produto ou serviço. Vamos considerá-las portanto empresas ativas, operantes de fato. Obter a lista dos CNPJs dessas empresas nos permitirá rotular algumas empresas da base nacional como existentes de fato.\n",
    "\n",
    "Vamos obter os CNPJs das empresas com registro de objetos no INMETRO através de downloads de vários arquivos CSV disponíveis no site: https://dados.gov.br/dataset/registro-de-objetos"
   ]
  },
  {
   "cell_type": "code",
   "execution_count": 74,
   "metadata": {},
   "outputs": [],
   "source": [
    "import requests\n",
    "from bs4 import BeautifulSoup\n",
    "import pandas as pd\n",
    "import glob\n",
    "import codecs"
   ]
  },
  {
   "cell_type": "code",
   "execution_count": 6,
   "metadata": {},
   "outputs": [],
   "source": [
    "# Obtém o html da página web que possui os links de todas as áreas de registros do INMETRO:\n",
    "response = requests.get('https://dados.gov.br/dataset/registro-de-objetos')\n",
    "soup = BeautifulSoup(response.text, 'html.parser')"
   ]
  },
  {
   "cell_type": "code",
   "execution_count": 25,
   "metadata": {},
   "outputs": [],
   "source": [
    "# Obtém os elementos <li> que possuem os links paras as páginas dos recursos:\n",
    "lista_li = soup.find_all(\"span\", {\"class\": \"format-label\", \"data-format\": \"csv\"})"
   ]
  },
  {
   "cell_type": "code",
   "execution_count": 30,
   "metadata": {},
   "outputs": [],
   "source": [
    "# Obtém as URLs da página de cada recurso:\n",
    "lista_url = list()\n",
    "for li in lista_li:\n",
    "    lista_url.append(li.parent.get('href'))"
   ]
  },
  {
   "cell_type": "code",
   "execution_count": 49,
   "metadata": {
    "scrolled": false
   },
   "outputs": [
    {
     "name": "stdout",
     "output_type": "stream",
     "text": [
      "Acessando:  https://dados.gov.br/dataset/registro-de-objetos/resource/ec8daa84-cbeb-41fa-b1ab-6f70ac1b3fd2\n",
      "Encontrada url:  http://landpage-h.cgu.gov.br/dadosabertos/index.php?url=http://www.inmetro.gov.br/da/registro/ACESSIBILIDADE_EM_EMBARCACOES_UTILIZADAS_NO_TRANSPORTE_COLETIVO_DE_PASSAGEIROS.csv\n",
      "Acessando:  https://dados.gov.br/dataset/registro-de-objetos/resource/36a96af4-fed9-40bb-8c4e-21d500bbd7bb\n",
      "Encontrada url:  http://landpage-h.cgu.gov.br/dadosabertos/index.php?url=http://www.inmetro.gov.br/da/registro/AGENTE_REDUTOR_LIQUIDO_DE_NOX_AUTOMOTIVO_-_ARLA_32.csv\n",
      "Acessando:  https://dados.gov.br/dataset/registro-de-objetos/resource/a0cb49a1-e4bb-4b83-8467-98f3ae5faffd\n",
      "Encontrada url:  http://landpage-h.cgu.gov.br/dadosabertos/index.php?url=http://www.inmetro.gov.br/da/registro/ANDADORES_INFANTIS.csv\n",
      "Acessando:  https://dados.gov.br/dataset/registro-de-objetos/resource/ff610be4-28c1-47e7-8da1-8e56cb9dfdbb\n",
      "Encontrada url:  http://landpage-h.cgu.gov.br/dadosabertos/index.php?url=http://www.inmetro.gov.br/da/registro/APLICACAO_REPARO_E_REFORMA_DE_REVESTIMENTO_INTERNO_DE_TANQUE_DE_CARGA_RODOVIARIO_DESTINADO_AO_TRANSPORTE_DE_PRODUTOS_PERIGOSOS.csv\n",
      "Acessando:  https://dados.gov.br/dataset/registro-de-objetos/resource/c9ffdb99-f77a-438c-8aca-d0509fa5a10c\n",
      "Encontrada url:  http://landpage-h.cgu.gov.br/dadosabertos/index.php?url=http://www.inmetro.gov.br/da/registro/AQUECEDORES_DE_AGUA_A_GAS_DOS_TIPOS_INSTANTANEO_E_DE_ACUMULACAO.csv\n",
      "Acessando:  https://dados.gov.br/dataset/registro-de-objetos/resource/90c832f3-6b5e-4b8d-9f6a-0b4d90508bdc\n",
      "Encontrada url:  http://landpage-h.cgu.gov.br/dadosabertos/index.php?url=http://www.inmetro.gov.br/da/registro/ARTIGOS_ESCOLARES.csv\n",
      "Acessando:  https://dados.gov.br/dataset/registro-de-objetos/resource/967f3849-18d5-4cc6-bfeb-37c67346b33a\n",
      "Encontrada url:  http://landpage-h.cgu.gov.br/dadosabertos/index.php?url=http://www.inmetro.gov.br/da/registro/ARTIGOS_PARA_FESTAS.csv\n",
      "Acessando:  https://dados.gov.br/dataset/registro-de-objetos/resource/76fa4cf0-f65b-4e1a-bbb6-e768e71faf5b\n",
      "Encontrada url:  http://landpage-h.cgu.gov.br/dadosabertos/index.php?url=http://www.inmetro.gov.br/da/registro/ASSENTOS_PLASTICOS_PARA_ESPECTADORES_DE_EVENTOS_ESPORTIVOS.csv\n",
      "Acessando:  https://dados.gov.br/dataset/registro-de-objetos/resource/ffedc27c-9560-4bfa-95c9-8cb6daa90a5e\n",
      "Encontrada url:  http://landpage-h.cgu.gov.br/dadosabertos/index.php?url=http://www.inmetro.gov.br/da/registro/BARRAS_E_FIOS_DE_ACO_DESTINADOS_A_ARMADURA_PARA_CONCRETO_ARMADO.csv\n",
      "Acessando:  https://dados.gov.br/dataset/registro-de-objetos/resource/96b50463-ffb2-4d6f-bb58-3e1e270d9944\n",
      "Encontrada url:  http://landpage-h.cgu.gov.br/dadosabertos/index.php?url=http://www.inmetro.gov.br/da/registro/BERCOS_INFANTIS.csv\n",
      "Acessando:  https://dados.gov.br/dataset/registro-de-objetos/resource/c70fc517-23be-48aa-894f-e532c18ac9a0\n",
      "Encontrada url:  http://landpage-h.cgu.gov.br/dadosabertos/index.php?url=http://www.inmetro.gov.br/da/registro/BOMBAS_E_MOTOBOMBAS_CENTRIFUGAS.csv\n",
      "Acessando:  https://dados.gov.br/dataset/registro-de-objetos/resource/b0cfc670-6fd2-432d-8c57-edf33f6043f5\n",
      "Encontrada url:  http://landpage-h.cgu.gov.br/dadosabertos/index.php?url=http://www.inmetro.gov.br/da/registro/BRINQUEDOS.csv\n",
      "Acessando:  https://dados.gov.br/dataset/registro-de-objetos/resource/b09e3496-6e22-4334-b2aa-e229091e1a24\n",
      "Encontrada url:  http://landpage-h.cgu.gov.br/dadosabertos/index.php?url=http://www.inmetro.gov.br/da/registro/CABOS_DE_ACO_DE_USO_GERAL.csv\n",
      "Acessando:  https://dados.gov.br/dataset/registro-de-objetos/resource/313b76dc-98f1-4d16-aa9c-f24a1305b562\n",
      "Encontrada url:  http://landpage-h.cgu.gov.br/dadosabertos/index.php?url=http://www.inmetro.gov.br/da/registro/CADEIRA_PLASTICA_MONOBLOCO.csv\n",
      "Acessando:  https://dados.gov.br/dataset/registro-de-objetos/resource/a6ed13eb-488d-40ae-a33e-3fe2485311d1\n",
      "Encontrada url:  http://landpage-h.cgu.gov.br/dadosabertos/index.php?url=http://www.inmetro.gov.br/da/registro/CADEIRAS_DE_ALIMENTACAO_PARA_CRIANCAS.csv\n",
      "Acessando:  https://dados.gov.br/dataset/registro-de-objetos/resource/167ade66-9279-41e3-995b-86f76a4b1816\n",
      "Encontrada url:  http://landpage-h.cgu.gov.br/dadosabertos/index.php?url=http://www.inmetro.gov.br/da/registro/CALDEIRAS_E_VASOS_DE_PRESSAO_DE_PRODUCAO_SERIADA.csv\n",
      "Acessando:  https://dados.gov.br/dataset/registro-de-objetos/resource/20e2d04d-2d2a-41e7-a4d9-5351e573f4f9\n",
      "Encontrada url:  http://landpage-h.cgu.gov.br/dadosabertos/index.php?url=http://www.inmetro.gov.br/da/registro/CAPACETES_PARA_CONDUTORES_E_PASSAGEIROS_DE_MOTOCICLETAS_E_SIMILARES.csv\n",
      "Acessando:  https://dados.gov.br/dataset/registro-de-objetos/resource/fc4a46be-da6f-4539-ad80-5cd541701388\n",
      "Encontrada url:  http://landpage-h.cgu.gov.br/dadosabertos/index.php?url=http://www.inmetro.gov.br/da/registro/CARRINHOS_PARA_CRIANCAS.csv\n",
      "Acessando:  https://dados.gov.br/dataset/registro-de-objetos/resource/04d30756-d2e5-4bb6-b73b-d720b9d450f0\n",
      "Encontrada url:  http://landpage-h.cgu.gov.br/dadosabertos/index.php?url=http://www.inmetro.gov.br/da/registro/CENTRIFUGAS_DE_ROUPAS.csv\n",
      "Acessando:  https://dados.gov.br/dataset/registro-de-objetos/resource/f539bb74-a8db-4021-8780-cb28e35db9af\n",
      "Encontrada url:  http://landpage-h.cgu.gov.br/dadosabertos/index.php?url=http://www.inmetro.gov.br/da/registro/COLCHOES_DE_MOLAS.csv\n",
      "Acessando:  https://dados.gov.br/dataset/registro-de-objetos/resource/84a4b3a5-cfb9-4904-b6da-937f037e45e9\n",
      "Encontrada url:  http://landpage-h.cgu.gov.br/dadosabertos/index.php?url=http://www.inmetro.gov.br/da/registro/COLCHOES_E_COLCHONETES_DE_ESPUMA_FLEXIVEL_DE_POLIURETANO.csv\n",
      "Acessando:  https://dados.gov.br/dataset/registro-de-objetos/resource/9de819f7-454a-4c62-ba0e-f12be1dcbd85\n",
      "Encontrada url:  http://landpage-h.cgu.gov.br/dadosabertos/index.php?url=http://www.inmetro.gov.br/da/registro/COLETE_DE_SEGURANCA_DE_ALTA_VISIBILIDADE.csv\n",
      "Acessando:  https://dados.gov.br/dataset/registro-de-objetos/resource/1e506058-46a1-4686-aabc-41f97349684f\n",
      "Encontrada url:  http://landpage-h.cgu.gov.br/dadosabertos/index.php?url=http://www.inmetro.gov.br/da/registro/COLETORES_SOLARES_E_RESERVATORIOS_TERMICOS_PARA_EQUIPAMENTOS_DE_AQUECIMENTO_SOLAR_DE_AGUA.csv\n",
      "Acessando:  https://dados.gov.br/dataset/registro-de-objetos/resource/ef718949-52f3-4ddc-aa66-38348bdf62b8\n",
      "Encontrada url:  http://landpage-h.cgu.gov.br/dadosabertos/index.php?url=http://www.inmetro.gov.br/da/registro/COMPONENTES_AUTOMOTIVOS.csv\n",
      "Acessando:  https://dados.gov.br/dataset/registro-de-objetos/resource/5d787a1e-8bba-4874-85d8-d0bcf2efd394\n",
      "Encontrada url:  http://landpage-h.cgu.gov.br/dadosabertos/index.php?url=http://www.inmetro.gov.br/da/registro/COMPONENTES_AUTOMOTIVOS_IMPORTADOS_DE_BAIXO_VOLUME.csv\n",
      "Acessando:  https://dados.gov.br/dataset/registro-de-objetos/resource/73cdfb32-ea0d-4386-b0e0-2c13f2d310e9\n",
      "Encontrada url:  http://landpage-h.cgu.gov.br/dadosabertos/index.php?url=http://www.inmetro.gov.br/da/registro/COMPONENTES_AUTOMOTIVOS_PARA_MOTOCICLETAS_MOTONETAS_CICLOMOTORES_TRICICLOS_E_QUADRICICLOS_-_PINHOES_COROAS_CORRENTES_E_ESCAPAMENTOS_DE_MOTOS.csv\n",
      "Acessando:  https://dados.gov.br/dataset/registro-de-objetos/resource/8af366a0-d653-443f-aca8-44347bdd96e2\n",
      "Encontrada url:  http://landpage-h.cgu.gov.br/dadosabertos/index.php?url=http://www.inmetro.gov.br/da/registro/COMPONENTES_DE_BICICLETAS_DE_USO_ADULTO.csv\n",
      "Acessando:  https://dados.gov.br/dataset/registro-de-objetos/resource/e7c57ace-951e-4dbb-87d4-e8dcc4d9d95d\n",
      "Encontrada url:  http://landpage-h.cgu.gov.br/dadosabertos/index.php?url=http://www.inmetro.gov.br/da/registro/COMPONENTES_DOS_SISTEMAS_DE_COMPRESSAO_DE_GAS_NATURAL_VEICULAR_(GNV)_E_DE_GAS_NATURAL_COMPRIMIDO_(GNC).csv\n",
      "Acessando:  https://dados.gov.br/dataset/registro-de-objetos/resource/c73dd89e-a4ac-468c-8337-866a5b034270\n",
      "Encontrada url:  http://landpage-h.cgu.gov.br/dadosabertos/index.php?url=http://www.inmetro.gov.br/da/registro/CONDICIONADORES_DE_AR.csv\n",
      "Acessando:  https://dados.gov.br/dataset/registro-de-objetos/resource/65093361-45dd-4763-ba56-a4c25ed882f3\n",
      "Encontrada url:  http://landpage-h.cgu.gov.br/dadosabertos/index.php?url=http://www.inmetro.gov.br/da/registro/CONSTRUCAO_MONTAGEM_E_FUNCIONAMENTO_DE_SISTEMAS_AUTOMATICOS_NAO_METROLOGICOS_DE_FISCALIZACAO_DE_TRANSITO.csv\n",
      "Acessando:  https://dados.gov.br/dataset/registro-de-objetos/resource/6178157e-f21d-42ed-99cd-c226c39809b8\n"
     ]
    },
    {
     "name": "stdout",
     "output_type": "stream",
     "text": [
      "Encontrada url:  http://landpage-h.cgu.gov.br/dadosabertos/index.php?url=http://www.inmetro.gov.br/da/registro/CONVERSORES_CATALITICOS_DESTINADOS_A_REPOSICAO.csv\n",
      "Acessando:  https://dados.gov.br/dataset/registro-de-objetos/resource/d3d6ca3a-ffe2-42a8-b1c7-c3e07c7fdfbd\n",
      "Encontrada url:  http://landpage-h.cgu.gov.br/dadosabertos/index.php?url=http://www.inmetro.gov.br/da/registro/COPOS_PLASTICOS_DESCARTAVEIS.csv\n",
      "Acessando:  https://dados.gov.br/dataset/registro-de-objetos/resource/87348277-ec41-484e-8d91-8ab08d2fcc06\n",
      "Encontrada url:  http://landpage-h.cgu.gov.br/dadosabertos/index.php?url=http://www.inmetro.gov.br/da/registro/Dispositivo_de_Fixacao_em_Conteiner.csv\n",
      "Acessando:  https://dados.gov.br/dataset/registro-de-objetos/resource/15ef0a4e-3e9d-4ba4-9f10-b6fa1ad8917e\n",
      "Encontrada url:  http://landpage-h.cgu.gov.br/dadosabertos/index.php?url=http://www.inmetro.gov.br/da/registro/DISPOSITIVOS_DE_RETENCAO_PARA_CRIANCAS.csv\n",
      "Acessando:  https://dados.gov.br/dataset/registro-de-objetos/resource/a28cb21b-9fc6-4886-8db9-9beaabad4bc9\n",
      "Encontrada url:  http://landpage-h.cgu.gov.br/dadosabertos/index.php?url=http://www.inmetro.gov.br/da/registro/EIXO_VEICULAR.csv\n",
      "Acessando:  https://dados.gov.br/dataset/registro-de-objetos/resource/7a37fb69-1646-4c98-8fa6-36e89208ebe1\n",
      "Encontrada url:  http://landpage-h.cgu.gov.br/dadosabertos/index.php?url=http://www.inmetro.gov.br/da/registro/EQUIPAMENTOS_PARA_CONSUMO_DE_AGUA.csv\n",
      "Acessando:  https://dados.gov.br/dataset/registro-de-objetos/resource/5f04d7e6-1f11-4f50-a2c1-6b1a60c638a5\n",
      "Encontrada url:  http://landpage-h.cgu.gov.br/dadosabertos/index.php?url=http://www.inmetro.gov.br/da/registro/ESCADAS_METALICAS_DOMESTICAS.csv\n",
      "Acessando:  https://dados.gov.br/dataset/registro-de-objetos/resource/9c55bedb-980e-472b-8fed-2f4fb0c7d838\n",
      "Encontrada url:  http://landpage-h.cgu.gov.br/dadosabertos/index.php?url=http://www.inmetro.gov.br/da/registro/EXTINTORES_DE_INCENDIO_(FABRICACAO_E_IMPORTACAO_DE_EXTINTORES_DE_INCENDIO_-_PRODUTO).csv\n",
      "Acessando:  https://dados.gov.br/dataset/registro-de-objetos/resource/6b44e3bb-e6d4-4c1d-a0e9-afc3336844e5\n",
      "Encontrada url:  http://landpage-h.cgu.gov.br/dadosabertos/index.php?url=http://www.inmetro.gov.br/da/registro/EXTINTORES_DE_INCENDIO_(INSPECAO_TECNICA_E_MANUTENCAO_DE_EXTINTORES_DE_INCENDIO_-_SERVICO).csv\n",
      "Acessando:  https://dados.gov.br/dataset/registro-de-objetos/resource/09f31eef-00a4-49e9-b258-6cfe05cabeeb\n",
      "Encontrada url:  http://landpage-h.cgu.gov.br/dadosabertos/index.php?url=http://www.inmetro.gov.br/da/registro/FIOS_CABOS_E_CORDOES_FLEXIVEIS_ELETRICOS.csv\n",
      "Acessando:  https://dados.gov.br/dataset/registro-de-objetos/resource/95c4460e-6632-4b9e-851b-4888248910b7\n",
      "Encontrada url:  http://landpage-h.cgu.gov.br/dadosabertos/index.php?url=http://www.inmetro.gov.br/da/registro/FOGOES_E_FORNOS_A_GAS_DE_USO_DOMESTICO.csv\n",
      "Acessando:  https://dados.gov.br/dataset/registro-de-objetos/resource/28dfd0b2-f4d8-464d-b56e-7b319157ce56\n",
      "Encontrada url:  http://landpage-h.cgu.gov.br/dadosabertos/index.php?url=http://www.inmetro.gov.br/da/registro/FORNOS_ELETRICOS_COMERCIAIS.csv\n",
      "Acessando:  https://dados.gov.br/dataset/registro-de-objetos/resource/2fabbd05-0072-4552-ae25-abf2cfe5c6cb\n",
      "Encontrada url:  http://landpage-h.cgu.gov.br/dadosabertos/index.php?url=http://www.inmetro.gov.br/da/registro/FORNOS_MICROONDAS.csv\n",
      "Acessando:  https://dados.gov.br/dataset/registro-de-objetos/resource/ff498663-351b-46bd-8116-654821739122\n",
      "Encontrada url:  http://landpage-h.cgu.gov.br/dadosabertos/index.php?url=http://www.inmetro.gov.br/da/registro/FOSFOROS_DE_SEGURANCA.csv\n",
      "Acessando:  https://dados.gov.br/dataset/registro-de-objetos/resource/8560afc9-3824-48bf-a12b-ee65b61c7e7c\n",
      "Encontrada url:  http://landpage-h.cgu.gov.br/dadosabertos/index.php?url=http://www.inmetro.gov.br/da/registro/INDICADORES_DE_PRESSAO_PARA_EXTINTOR_DE_INCENDIO.csv\n",
      "Acessando:  https://dados.gov.br/dataset/registro-de-objetos/resource/d27ac03a-230d-47a1-bcb7-c7cd28d42d76\n",
      "Encontrada url:  http://landpage-h.cgu.gov.br/dadosabertos/index.php?url=http://www.inmetro.gov.br/da/registro/ISQUEIROS_A_GAS.csv\n",
      "Acessando:  https://dados.gov.br/dataset/registro-de-objetos/resource/285ddc67-29df-4154-8b78-7cd3d407a808\n",
      "Encontrada url:  http://landpage-h.cgu.gov.br/dadosabertos/index.php?url=http://www.inmetro.gov.br/da/registro/LAMPADA_DE_VAPOR_DE_SODIO_A_ALTA_PRESSAO.csv\n",
      "Acessando:  https://dados.gov.br/dataset/registro-de-objetos/resource/b54fc4c7-51e3-425f-aff7-4fa4d7abfa04\n",
      "Encontrada url:  http://landpage-h.cgu.gov.br/dadosabertos/index.php?url=http://www.inmetro.gov.br/da/registro/LAMPADAS_FLUORESCENTES_COMPACTAS_COM_REATOR_INTEGRADO_A_BASE_.csv\n",
      "Acessando:  https://dados.gov.br/dataset/registro-de-objetos/resource/274880a0-e659-4fa3-9e98-09669148f9f1\n",
      "Encontrada url:  http://landpage-h.cgu.gov.br/dadosabertos/index.php?url=http://www.inmetro.gov.br/da/registro/LAMPADAS_LED_COM_DISPOSITIVO_INTEGRADO_A_BASE.csv\n",
      "Acessando:  https://dados.gov.br/dataset/registro-de-objetos/resource/ed1429f9-5c92-4378-83dd-1669e7929fff\n",
      "Encontrada url:  http://landpage-h.cgu.gov.br/dadosabertos/index.php?url=http://www.inmetro.gov.br/da/registro/LIQUIDOS_PARA_FREIOS_HIDRAULICOS_PARA_VEICULOS_AUTOMOTORES.csv\n",
      "Acessando:  https://dados.gov.br/dataset/registro-de-objetos/resource/2379c09a-bebc-4a0b-b5d7-04d36252ac01\n",
      "Encontrada url:  http://landpage-h.cgu.gov.br/dadosabertos/index.php?url=http://www.inmetro.gov.br/da/registro/LUMINARIAS_PARA_ILUMINACAO_PUBLICA_VIARIA.csv\n",
      "Acessando:  https://dados.gov.br/dataset/registro-de-objetos/resource/200e2e80-19f0-4975-a8b2-c83179890b08\n",
      "Encontrada url:  http://landpage-h.cgu.gov.br/dadosabertos/index.php?url=http://www.inmetro.gov.br/da/registro/MANGUEIRAS_DE_PVC_PLASTIFICADO_PARA_INSTALACOES_DOMESTICAS_DE_GAS_LIQUEFEITO_DE_PETROLEO_(GLP).csv\n",
      "Acessando:  https://dados.gov.br/dataset/registro-de-objetos/resource/5477bc1e-8e84-451d-941a-234ffb652b99\n",
      "Encontrada url:  http://landpage-h.cgu.gov.br/dadosabertos/index.php?url=http://www.inmetro.gov.br/da/registro/MOTORES_ELETRICOS_TRIFASICOS_DE_INDUCAO_ROTOR_GAIOLA_DE_ESQUILO.csv\n",
      "Acessando:  https://dados.gov.br/dataset/registro-de-objetos/resource/ae1731a8-f6e2-4bb8-9f44-951c4210b6c4\n",
      "Encontrada url:  http://landpage-h.cgu.gov.br/dadosabertos/index.php?url=http://www.inmetro.gov.br/da/registro/MOVEIS_ESCOLARES_-_CADEIRAS_E_MESAS_PARA_CONJUNTO_ALUNO_INDIVIDUAL.csv\n",
      "Acessando:  https://dados.gov.br/dataset/registro-de-objetos/resource/233198e2-8db7-45bb-b682-f88fc1742ee9\n",
      "Encontrada url:  http://landpage-h.cgu.gov.br/dadosabertos/index.php?url=http://www.inmetro.gov.br/da/registro/PANELAS_METALICAS.csv\n",
      "Acessando:  https://dados.gov.br/dataset/registro-de-objetos/resource/a5a2dfc2-e072-4aec-a0a8-75957c8a26b1\n",
      "Encontrada url:  http://landpage-h.cgu.gov.br/dadosabertos/index.php?url=http://www.inmetro.gov.br/da/registro/PLATAFORMAS_ELEVATORIAS_VEICULARES.csv\n",
      "Acessando:  https://dados.gov.br/dataset/registro-de-objetos/resource/59d93091-b8cd-4e7a-a44a-f9570f6df4ae\n",
      "Encontrada url:  http://landpage-h.cgu.gov.br/dadosabertos/index.php?url=http://www.inmetro.gov.br/da/registro/PLATAFORMAS_ELEVATORIAS_VEICULARES_PARA_VEICULOS_COM_CARACTERISTICAS_RODOVIARIAS.csv\n",
      "Acessando:  https://dados.gov.br/dataset/registro-de-objetos/resource/0cd7a273-2cd7-4bec-b281-c9e61843e754\n",
      "Encontrada url:  http://landpage-h.cgu.gov.br/dadosabertos/index.php?url=http://www.inmetro.gov.br/da/registro/PNEUS_NOVOS_DE_MOTOCICLETA_MOTONETA_E_CICLOMOTOR_AUTOMOVEL_DE_PASSAGEIROS_INCLUSIVE_OS_DE_USO_MISTO_E_REBOCADOS_VEICULOS_COMERCIAIS_COMERCIAIS_LEVES_E_REBOCADOS.csv\n",
      "Acessando:  https://dados.gov.br/dataset/registro-de-objetos/resource/d95d078a-1774-4a83-8fb5-5b8d1eaa85c5\n",
      "Encontrada url:  http://landpage-h.cgu.gov.br/dadosabertos/index.php?url=http://www.inmetro.gov.br/da/registro/PO_PARA_EXTINCAO_DE_INCENDIO.csv\n",
      "Acessando:  https://dados.gov.br/dataset/registro-de-objetos/resource/1f33e908-cf1f-4941-acea-18656aafda0f\n",
      "Encontrada url:  http://landpage-h.cgu.gov.br/dadosabertos/index.php?url=http://www.inmetro.gov.br/da/registro/REATORES_ELETROMAGNETICOS_PARA_LAMPADAS_VAPOR_DE_SODIO_A_ALTA_PRESSAO_E_VAPOR_METALICO.csv\n",
      "Acessando:  https://dados.gov.br/dataset/registro-de-objetos/resource/b0826e63-6623-42cd-8a55-982f3663416e\n",
      "Encontrada url:  http://landpage-h.cgu.gov.br/dadosabertos/index.php?url=http://www.inmetro.gov.br/da/registro/RECIPIENTE_TRANSPORTAVEL_PARA_GAS_LIQUEFEITO_DE_PETROLEO_-_GLP.csv\n",
      "Acessando:  https://dados.gov.br/dataset/registro-de-objetos/resource/72554134-e6f9-4546-8701-9a364304883f\n"
     ]
    },
    {
     "name": "stdout",
     "output_type": "stream",
     "text": [
      "Encontrada url:  http://landpage-h.cgu.gov.br/dadosabertos/index.php?url=http://www.inmetro.gov.br/da/registro/REFRIGERADORES_E_ASSEMELHADOS.csv\n",
      "Acessando:  https://dados.gov.br/dataset/registro-de-objetos/resource/a8b58df0-5c5d-44bd-90ef-72f982a27a80\n",
      "Encontrada url:  http://landpage-h.cgu.gov.br/dadosabertos/index.php?url=http://www.inmetro.gov.br/da/registro/REGULADORES_DE_BAIXA_PRESSAO_PARA_GASES_LIQUEFEITOS_DE_PETROLEO(GLP)_COM_CAPACIDADE_DE_VAZAO_DE_ATE_4KG_H.csv\n",
      "Acessando:  https://dados.gov.br/dataset/registro-de-objetos/resource/0a092da0-c3e5-4fcf-9ef3-c3dc44a137ae\n",
      "Encontrada url:  http://landpage-h.cgu.gov.br/dadosabertos/index.php?url=http://www.inmetro.gov.br/da/registro/RODAS_AUTOMOTIVAS.csv\n",
      "Acessando:  https://dados.gov.br/dataset/registro-de-objetos/resource/0c95ac40-43c9-463c-b7da-defb1e98611e\n",
      "Encontrada url:  http://landpage-h.cgu.gov.br/dadosabertos/index.php?url=http://www.inmetro.gov.br/da/registro/SERVICO_DE_REFORMA_DE_PNEUS.csv\n",
      "Acessando:  https://dados.gov.br/dataset/registro-de-objetos/resource/77c9be05-a3fa-4f45-bcfb-8def51fa3d0f\n",
      "Encontrada url:  http://landpage-h.cgu.gov.br/dadosabertos/index.php?url=http://www.inmetro.gov.br/da/registro/SERVICO_DE_REQUALIFICACAO_DE_CILINDROS_DESTINADOS_AO_ARMAZENAMENTO_DE_GAS_NATURAL_VEICULAR_(GNV).csv\n",
      "Acessando:  https://dados.gov.br/dataset/registro-de-objetos/resource/cca66bfc-b404-48a2-b040-d9dbf5a0eae7\n",
      "Encontrada url:  http://landpage-h.cgu.gov.br/dadosabertos/index.php?url=http://www.inmetro.gov.br/da/registro/SERVICO_DE_REQUALIFICACAO_DE_RECIPIENTES_TRANSPORTAVEIS_PARA_GAS_LIQUEFEITO_DE_PETROLEO_(GLP).csv\n",
      "Acessando:  https://dados.gov.br/dataset/registro-de-objetos/resource/2b80dbc1-2109-4e65-aa5f-a53115616f65\n",
      "Encontrada url:  http://landpage-h.cgu.gov.br/dadosabertos/index.php?url=http://www.inmetro.gov.br/da/registro/SISTEMAS_ACOPLADOS_PARA_EQUIPAMENTOS_DE_AQUECIMENTO_SOLAR_DE_AGUA.csv\n",
      "Acessando:  https://dados.gov.br/dataset/registro-de-objetos/resource/6f16e0bc-9057-423b-8078-f47a7875cd63\n",
      "Encontrada url:  http://landpage-h.cgu.gov.br/dadosabertos/index.php?url=http://www.inmetro.gov.br/da/registro/SISTEMAS_E_EQUIPAMENTOS_PARA_ENERGIA_FOTOVOLTAICA_(MODULO_CONTROLADOR_DE_CARGA_INVERSOR_E_BATERIA).csv\n",
      "Acessando:  https://dados.gov.br/dataset/registro-de-objetos/resource/ee5c9878-c87d-4a8d-9b5e-6fedbcbabd62\n",
      "Encontrada url:  http://landpage-h.cgu.gov.br/dadosabertos/index.php?url=http://www.inmetro.gov.br/da/registro/TANQUES_DE_CARGA_RODOVIARIOS_DESTINADOS_AO_TRANSPORTE_DE_PRODUTOS_PERIGOSOS.csv\n",
      "Acessando:  https://dados.gov.br/dataset/registro-de-objetos/resource/640cfa52-4f86-4862-98a1-da010a93f01f\n",
      "Encontrada url:  http://landpage-h.cgu.gov.br/dadosabertos/index.php?url=http://www.inmetro.gov.br/da/registro/TELEVISORES.csv\n",
      "Acessando:  https://dados.gov.br/dataset/registro-de-objetos/resource/a34f1bd3-6264-4cd0-9d4a-01e3cd6ed500\n",
      "Encontrada url:  http://landpage-h.cgu.gov.br/dadosabertos/index.php?url=http://www.inmetro.gov.br/da/registro/TUBOS_DE_ACO-CARBONO_PARA_USOS_COMUNS_E_PARA_TUBOS_DE_ACO-CARBONO_PARA_USOS_EM_ALTAS_TEMPERATURAS.csv\n",
      "Acessando:  https://dados.gov.br/dataset/registro-de-objetos/resource/91899b73-a378-4522-9ee6-39308eb08e22\n",
      "Encontrada url:  http://landpage-h.cgu.gov.br/dadosabertos/index.php?url=http://www.inmetro.gov.br/da/registro/VENTILADORES_DE_MESA_DE_COLUNA_E_CIRCULADOR_DE_AR.csv\n",
      "Encontrados:  73\n"
     ]
    },
    {
     "data": {
      "text/plain": [
       "['http://landpage-h.cgu.gov.br/dadosabertos/index.php?url=http://www.inmetro.gov.br/da/registro/ACESSIBILIDADE_EM_EMBARCACOES_UTILIZADAS_NO_TRANSPORTE_COLETIVO_DE_PASSAGEIROS.csv',\n",
       " 'http://landpage-h.cgu.gov.br/dadosabertos/index.php?url=http://www.inmetro.gov.br/da/registro/AGENTE_REDUTOR_LIQUIDO_DE_NOX_AUTOMOTIVO_-_ARLA_32.csv',\n",
       " 'http://landpage-h.cgu.gov.br/dadosabertos/index.php?url=http://www.inmetro.gov.br/da/registro/ANDADORES_INFANTIS.csv',\n",
       " 'http://landpage-h.cgu.gov.br/dadosabertos/index.php?url=http://www.inmetro.gov.br/da/registro/APLICACAO_REPARO_E_REFORMA_DE_REVESTIMENTO_INTERNO_DE_TANQUE_DE_CARGA_RODOVIARIO_DESTINADO_AO_TRANSPORTE_DE_PRODUTOS_PERIGOSOS.csv',\n",
       " 'http://landpage-h.cgu.gov.br/dadosabertos/index.php?url=http://www.inmetro.gov.br/da/registro/AQUECEDORES_DE_AGUA_A_GAS_DOS_TIPOS_INSTANTANEO_E_DE_ACUMULACAO.csv',\n",
       " 'http://landpage-h.cgu.gov.br/dadosabertos/index.php?url=http://www.inmetro.gov.br/da/registro/ARTIGOS_ESCOLARES.csv',\n",
       " 'http://landpage-h.cgu.gov.br/dadosabertos/index.php?url=http://www.inmetro.gov.br/da/registro/ARTIGOS_PARA_FESTAS.csv',\n",
       " 'http://landpage-h.cgu.gov.br/dadosabertos/index.php?url=http://www.inmetro.gov.br/da/registro/ASSENTOS_PLASTICOS_PARA_ESPECTADORES_DE_EVENTOS_ESPORTIVOS.csv',\n",
       " 'http://landpage-h.cgu.gov.br/dadosabertos/index.php?url=http://www.inmetro.gov.br/da/registro/BARRAS_E_FIOS_DE_ACO_DESTINADOS_A_ARMADURA_PARA_CONCRETO_ARMADO.csv',\n",
       " 'http://landpage-h.cgu.gov.br/dadosabertos/index.php?url=http://www.inmetro.gov.br/da/registro/BERCOS_INFANTIS.csv',\n",
       " 'http://landpage-h.cgu.gov.br/dadosabertos/index.php?url=http://www.inmetro.gov.br/da/registro/BOMBAS_E_MOTOBOMBAS_CENTRIFUGAS.csv',\n",
       " 'http://landpage-h.cgu.gov.br/dadosabertos/index.php?url=http://www.inmetro.gov.br/da/registro/BRINQUEDOS.csv',\n",
       " 'http://landpage-h.cgu.gov.br/dadosabertos/index.php?url=http://www.inmetro.gov.br/da/registro/CABOS_DE_ACO_DE_USO_GERAL.csv',\n",
       " 'http://landpage-h.cgu.gov.br/dadosabertos/index.php?url=http://www.inmetro.gov.br/da/registro/CADEIRA_PLASTICA_MONOBLOCO.csv',\n",
       " 'http://landpage-h.cgu.gov.br/dadosabertos/index.php?url=http://www.inmetro.gov.br/da/registro/CADEIRAS_DE_ALIMENTACAO_PARA_CRIANCAS.csv',\n",
       " 'http://landpage-h.cgu.gov.br/dadosabertos/index.php?url=http://www.inmetro.gov.br/da/registro/CALDEIRAS_E_VASOS_DE_PRESSAO_DE_PRODUCAO_SERIADA.csv',\n",
       " 'http://landpage-h.cgu.gov.br/dadosabertos/index.php?url=http://www.inmetro.gov.br/da/registro/CAPACETES_PARA_CONDUTORES_E_PASSAGEIROS_DE_MOTOCICLETAS_E_SIMILARES.csv',\n",
       " 'http://landpage-h.cgu.gov.br/dadosabertos/index.php?url=http://www.inmetro.gov.br/da/registro/CARRINHOS_PARA_CRIANCAS.csv',\n",
       " 'http://landpage-h.cgu.gov.br/dadosabertos/index.php?url=http://www.inmetro.gov.br/da/registro/CENTRIFUGAS_DE_ROUPAS.csv',\n",
       " 'http://landpage-h.cgu.gov.br/dadosabertos/index.php?url=http://www.inmetro.gov.br/da/registro/COLCHOES_DE_MOLAS.csv',\n",
       " 'http://landpage-h.cgu.gov.br/dadosabertos/index.php?url=http://www.inmetro.gov.br/da/registro/COLCHOES_E_COLCHONETES_DE_ESPUMA_FLEXIVEL_DE_POLIURETANO.csv',\n",
       " 'http://landpage-h.cgu.gov.br/dadosabertos/index.php?url=http://www.inmetro.gov.br/da/registro/COLETE_DE_SEGURANCA_DE_ALTA_VISIBILIDADE.csv',\n",
       " 'http://landpage-h.cgu.gov.br/dadosabertos/index.php?url=http://www.inmetro.gov.br/da/registro/COLETORES_SOLARES_E_RESERVATORIOS_TERMICOS_PARA_EQUIPAMENTOS_DE_AQUECIMENTO_SOLAR_DE_AGUA.csv',\n",
       " 'http://landpage-h.cgu.gov.br/dadosabertos/index.php?url=http://www.inmetro.gov.br/da/registro/COMPONENTES_AUTOMOTIVOS.csv',\n",
       " 'http://landpage-h.cgu.gov.br/dadosabertos/index.php?url=http://www.inmetro.gov.br/da/registro/COMPONENTES_AUTOMOTIVOS_IMPORTADOS_DE_BAIXO_VOLUME.csv',\n",
       " 'http://landpage-h.cgu.gov.br/dadosabertos/index.php?url=http://www.inmetro.gov.br/da/registro/COMPONENTES_AUTOMOTIVOS_PARA_MOTOCICLETAS_MOTONETAS_CICLOMOTORES_TRICICLOS_E_QUADRICICLOS_-_PINHOES_COROAS_CORRENTES_E_ESCAPAMENTOS_DE_MOTOS.csv',\n",
       " 'http://landpage-h.cgu.gov.br/dadosabertos/index.php?url=http://www.inmetro.gov.br/da/registro/COMPONENTES_DE_BICICLETAS_DE_USO_ADULTO.csv',\n",
       " 'http://landpage-h.cgu.gov.br/dadosabertos/index.php?url=http://www.inmetro.gov.br/da/registro/COMPONENTES_DOS_SISTEMAS_DE_COMPRESSAO_DE_GAS_NATURAL_VEICULAR_(GNV)_E_DE_GAS_NATURAL_COMPRIMIDO_(GNC).csv',\n",
       " 'http://landpage-h.cgu.gov.br/dadosabertos/index.php?url=http://www.inmetro.gov.br/da/registro/CONDICIONADORES_DE_AR.csv',\n",
       " 'http://landpage-h.cgu.gov.br/dadosabertos/index.php?url=http://www.inmetro.gov.br/da/registro/CONSTRUCAO_MONTAGEM_E_FUNCIONAMENTO_DE_SISTEMAS_AUTOMATICOS_NAO_METROLOGICOS_DE_FISCALIZACAO_DE_TRANSITO.csv',\n",
       " 'http://landpage-h.cgu.gov.br/dadosabertos/index.php?url=http://www.inmetro.gov.br/da/registro/CONVERSORES_CATALITICOS_DESTINADOS_A_REPOSICAO.csv',\n",
       " 'http://landpage-h.cgu.gov.br/dadosabertos/index.php?url=http://www.inmetro.gov.br/da/registro/COPOS_PLASTICOS_DESCARTAVEIS.csv',\n",
       " 'http://landpage-h.cgu.gov.br/dadosabertos/index.php?url=http://www.inmetro.gov.br/da/registro/Dispositivo_de_Fixacao_em_Conteiner.csv',\n",
       " 'http://landpage-h.cgu.gov.br/dadosabertos/index.php?url=http://www.inmetro.gov.br/da/registro/DISPOSITIVOS_DE_RETENCAO_PARA_CRIANCAS.csv',\n",
       " 'http://landpage-h.cgu.gov.br/dadosabertos/index.php?url=http://www.inmetro.gov.br/da/registro/EIXO_VEICULAR.csv',\n",
       " 'http://landpage-h.cgu.gov.br/dadosabertos/index.php?url=http://www.inmetro.gov.br/da/registro/EQUIPAMENTOS_PARA_CONSUMO_DE_AGUA.csv',\n",
       " 'http://landpage-h.cgu.gov.br/dadosabertos/index.php?url=http://www.inmetro.gov.br/da/registro/ESCADAS_METALICAS_DOMESTICAS.csv',\n",
       " 'http://landpage-h.cgu.gov.br/dadosabertos/index.php?url=http://www.inmetro.gov.br/da/registro/EXTINTORES_DE_INCENDIO_(FABRICACAO_E_IMPORTACAO_DE_EXTINTORES_DE_INCENDIO_-_PRODUTO).csv',\n",
       " 'http://landpage-h.cgu.gov.br/dadosabertos/index.php?url=http://www.inmetro.gov.br/da/registro/EXTINTORES_DE_INCENDIO_(INSPECAO_TECNICA_E_MANUTENCAO_DE_EXTINTORES_DE_INCENDIO_-_SERVICO).csv',\n",
       " 'http://landpage-h.cgu.gov.br/dadosabertos/index.php?url=http://www.inmetro.gov.br/da/registro/FIOS_CABOS_E_CORDOES_FLEXIVEIS_ELETRICOS.csv',\n",
       " 'http://landpage-h.cgu.gov.br/dadosabertos/index.php?url=http://www.inmetro.gov.br/da/registro/FOGOES_E_FORNOS_A_GAS_DE_USO_DOMESTICO.csv',\n",
       " 'http://landpage-h.cgu.gov.br/dadosabertos/index.php?url=http://www.inmetro.gov.br/da/registro/FORNOS_ELETRICOS_COMERCIAIS.csv',\n",
       " 'http://landpage-h.cgu.gov.br/dadosabertos/index.php?url=http://www.inmetro.gov.br/da/registro/FORNOS_MICROONDAS.csv',\n",
       " 'http://landpage-h.cgu.gov.br/dadosabertos/index.php?url=http://www.inmetro.gov.br/da/registro/FOSFOROS_DE_SEGURANCA.csv',\n",
       " 'http://landpage-h.cgu.gov.br/dadosabertos/index.php?url=http://www.inmetro.gov.br/da/registro/INDICADORES_DE_PRESSAO_PARA_EXTINTOR_DE_INCENDIO.csv',\n",
       " 'http://landpage-h.cgu.gov.br/dadosabertos/index.php?url=http://www.inmetro.gov.br/da/registro/ISQUEIROS_A_GAS.csv',\n",
       " 'http://landpage-h.cgu.gov.br/dadosabertos/index.php?url=http://www.inmetro.gov.br/da/registro/LAMPADA_DE_VAPOR_DE_SODIO_A_ALTA_PRESSAO.csv',\n",
       " 'http://landpage-h.cgu.gov.br/dadosabertos/index.php?url=http://www.inmetro.gov.br/da/registro/LAMPADAS_FLUORESCENTES_COMPACTAS_COM_REATOR_INTEGRADO_A_BASE_.csv',\n",
       " 'http://landpage-h.cgu.gov.br/dadosabertos/index.php?url=http://www.inmetro.gov.br/da/registro/LAMPADAS_LED_COM_DISPOSITIVO_INTEGRADO_A_BASE.csv',\n",
       " 'http://landpage-h.cgu.gov.br/dadosabertos/index.php?url=http://www.inmetro.gov.br/da/registro/LIQUIDOS_PARA_FREIOS_HIDRAULICOS_PARA_VEICULOS_AUTOMOTORES.csv',\n",
       " 'http://landpage-h.cgu.gov.br/dadosabertos/index.php?url=http://www.inmetro.gov.br/da/registro/LUMINARIAS_PARA_ILUMINACAO_PUBLICA_VIARIA.csv',\n",
       " 'http://landpage-h.cgu.gov.br/dadosabertos/index.php?url=http://www.inmetro.gov.br/da/registro/MANGUEIRAS_DE_PVC_PLASTIFICADO_PARA_INSTALACOES_DOMESTICAS_DE_GAS_LIQUEFEITO_DE_PETROLEO_(GLP).csv',\n",
       " 'http://landpage-h.cgu.gov.br/dadosabertos/index.php?url=http://www.inmetro.gov.br/da/registro/MOTORES_ELETRICOS_TRIFASICOS_DE_INDUCAO_ROTOR_GAIOLA_DE_ESQUILO.csv',\n",
       " 'http://landpage-h.cgu.gov.br/dadosabertos/index.php?url=http://www.inmetro.gov.br/da/registro/MOVEIS_ESCOLARES_-_CADEIRAS_E_MESAS_PARA_CONJUNTO_ALUNO_INDIVIDUAL.csv',\n",
       " 'http://landpage-h.cgu.gov.br/dadosabertos/index.php?url=http://www.inmetro.gov.br/da/registro/PANELAS_METALICAS.csv',\n",
       " 'http://landpage-h.cgu.gov.br/dadosabertos/index.php?url=http://www.inmetro.gov.br/da/registro/PLATAFORMAS_ELEVATORIAS_VEICULARES.csv',\n",
       " 'http://landpage-h.cgu.gov.br/dadosabertos/index.php?url=http://www.inmetro.gov.br/da/registro/PLATAFORMAS_ELEVATORIAS_VEICULARES_PARA_VEICULOS_COM_CARACTERISTICAS_RODOVIARIAS.csv',\n",
       " 'http://landpage-h.cgu.gov.br/dadosabertos/index.php?url=http://www.inmetro.gov.br/da/registro/PNEUS_NOVOS_DE_MOTOCICLETA_MOTONETA_E_CICLOMOTOR_AUTOMOVEL_DE_PASSAGEIROS_INCLUSIVE_OS_DE_USO_MISTO_E_REBOCADOS_VEICULOS_COMERCIAIS_COMERCIAIS_LEVES_E_REBOCADOS.csv',\n",
       " 'http://landpage-h.cgu.gov.br/dadosabertos/index.php?url=http://www.inmetro.gov.br/da/registro/PO_PARA_EXTINCAO_DE_INCENDIO.csv',\n",
       " 'http://landpage-h.cgu.gov.br/dadosabertos/index.php?url=http://www.inmetro.gov.br/da/registro/REATORES_ELETROMAGNETICOS_PARA_LAMPADAS_VAPOR_DE_SODIO_A_ALTA_PRESSAO_E_VAPOR_METALICO.csv',\n",
       " 'http://landpage-h.cgu.gov.br/dadosabertos/index.php?url=http://www.inmetro.gov.br/da/registro/RECIPIENTE_TRANSPORTAVEL_PARA_GAS_LIQUEFEITO_DE_PETROLEO_-_GLP.csv',\n",
       " 'http://landpage-h.cgu.gov.br/dadosabertos/index.php?url=http://www.inmetro.gov.br/da/registro/REFRIGERADORES_E_ASSEMELHADOS.csv',\n",
       " 'http://landpage-h.cgu.gov.br/dadosabertos/index.php?url=http://www.inmetro.gov.br/da/registro/REGULADORES_DE_BAIXA_PRESSAO_PARA_GASES_LIQUEFEITOS_DE_PETROLEO(GLP)_COM_CAPACIDADE_DE_VAZAO_DE_ATE_4KG_H.csv',\n",
       " 'http://landpage-h.cgu.gov.br/dadosabertos/index.php?url=http://www.inmetro.gov.br/da/registro/RODAS_AUTOMOTIVAS.csv',\n",
       " 'http://landpage-h.cgu.gov.br/dadosabertos/index.php?url=http://www.inmetro.gov.br/da/registro/SERVICO_DE_REFORMA_DE_PNEUS.csv',\n",
       " 'http://landpage-h.cgu.gov.br/dadosabertos/index.php?url=http://www.inmetro.gov.br/da/registro/SERVICO_DE_REQUALIFICACAO_DE_CILINDROS_DESTINADOS_AO_ARMAZENAMENTO_DE_GAS_NATURAL_VEICULAR_(GNV).csv',\n",
       " 'http://landpage-h.cgu.gov.br/dadosabertos/index.php?url=http://www.inmetro.gov.br/da/registro/SERVICO_DE_REQUALIFICACAO_DE_RECIPIENTES_TRANSPORTAVEIS_PARA_GAS_LIQUEFEITO_DE_PETROLEO_(GLP).csv',\n",
       " 'http://landpage-h.cgu.gov.br/dadosabertos/index.php?url=http://www.inmetro.gov.br/da/registro/SISTEMAS_ACOPLADOS_PARA_EQUIPAMENTOS_DE_AQUECIMENTO_SOLAR_DE_AGUA.csv',\n",
       " 'http://landpage-h.cgu.gov.br/dadosabertos/index.php?url=http://www.inmetro.gov.br/da/registro/SISTEMAS_E_EQUIPAMENTOS_PARA_ENERGIA_FOTOVOLTAICA_(MODULO_CONTROLADOR_DE_CARGA_INVERSOR_E_BATERIA).csv',\n",
       " 'http://landpage-h.cgu.gov.br/dadosabertos/index.php?url=http://www.inmetro.gov.br/da/registro/TANQUES_DE_CARGA_RODOVIARIOS_DESTINADOS_AO_TRANSPORTE_DE_PRODUTOS_PERIGOSOS.csv',\n",
       " 'http://landpage-h.cgu.gov.br/dadosabertos/index.php?url=http://www.inmetro.gov.br/da/registro/TELEVISORES.csv',\n",
       " 'http://landpage-h.cgu.gov.br/dadosabertos/index.php?url=http://www.inmetro.gov.br/da/registro/TUBOS_DE_ACO-CARBONO_PARA_USOS_COMUNS_E_PARA_TUBOS_DE_ACO-CARBONO_PARA_USOS_EM_ALTAS_TEMPERATURAS.csv',\n",
       " 'http://landpage-h.cgu.gov.br/dadosabertos/index.php?url=http://www.inmetro.gov.br/da/registro/VENTILADORES_DE_MESA_DE_COLUNA_E_CIRCULADOR_DE_AR.csv']"
      ]
     },
     "execution_count": 49,
     "metadata": {},
     "output_type": "execute_result"
    }
   ],
   "source": [
    "url_base = 'https://dados.gov.br'\n",
    "lista_url_csv = list()\n",
    "\n",
    "# Entre em cada página de recurso e obtém a url de download do respectivo csv:\n",
    "for url_recurso in lista_url:\n",
    "    url_completa = url_base + url_recurso\n",
    "    print('Acessando: ', url_completa)\n",
    "    \n",
    "    # Abrir a página do recurso\n",
    "    response = requests.get(url_completa)\n",
    "    soup = BeautifulSoup(response.text, 'html.parser')\n",
    "    \n",
    "    # Encontrar a url de download do csv:\n",
    "    url_csv = soup.find(lambda tag:tag.name==\"a\" and '.CSV' in tag.get('href').upper()).get('href')\n",
    "    print('Encontrada url: ', url_csv)\n",
    "    lista_url_csv.append(url_csv)\n",
    "\n",
    "print('Encontrados: ', len(lista_url_csv))\n",
    "lista_url_csv"
   ]
  },
  {
   "cell_type": "code",
   "execution_count": 55,
   "metadata": {},
   "outputs": [
    {
     "name": "stdout",
     "output_type": "stream",
     "text": [
      "Baixando:  ACESSIBILIDADE_EM_EMBARCACOES_UTILIZADAS_NO_TRANSPORTE_COLETIVO_DE_PASSAGEIROS.csv  de:  http://www.inmetro.gov.br/da/registro/ACESSIBILIDADE_EM_EMBARCACOES_UTILIZADAS_NO_TRANSPORTE_COLETIVO_DE_PASSAGEIROS.csv\n",
      "Baixando:  AGENTE_REDUTOR_LIQUIDO_DE_NOX_AUTOMOTIVO_-_ARLA_32.csv  de:  http://www.inmetro.gov.br/da/registro/AGENTE_REDUTOR_LIQUIDO_DE_NOX_AUTOMOTIVO_-_ARLA_32.csv\n",
      "Baixando:  ANDADORES_INFANTIS.csv  de:  http://www.inmetro.gov.br/da/registro/ANDADORES_INFANTIS.csv\n",
      "Baixando:  APLICACAO_REPARO_E_REFORMA_DE_REVESTIMENTO_INTERNO_DE_TANQUE_DE_CARGA_RODOVIARIO_DESTINADO_AO_TRANSPORTE_DE_PRODUTOS_PERIGOSOS.csv  de:  http://www.inmetro.gov.br/da/registro/APLICACAO_REPARO_E_REFORMA_DE_REVESTIMENTO_INTERNO_DE_TANQUE_DE_CARGA_RODOVIARIO_DESTINADO_AO_TRANSPORTE_DE_PRODUTOS_PERIGOSOS.csv\n",
      "Baixando:  AQUECEDORES_DE_AGUA_A_GAS_DOS_TIPOS_INSTANTANEO_E_DE_ACUMULACAO.csv  de:  http://www.inmetro.gov.br/da/registro/AQUECEDORES_DE_AGUA_A_GAS_DOS_TIPOS_INSTANTANEO_E_DE_ACUMULACAO.csv\n",
      "Baixando:  ARTIGOS_ESCOLARES.csv  de:  http://www.inmetro.gov.br/da/registro/ARTIGOS_ESCOLARES.csv\n",
      "Baixando:  ARTIGOS_PARA_FESTAS.csv  de:  http://www.inmetro.gov.br/da/registro/ARTIGOS_PARA_FESTAS.csv\n",
      "Baixando:  ASSENTOS_PLASTICOS_PARA_ESPECTADORES_DE_EVENTOS_ESPORTIVOS.csv  de:  http://www.inmetro.gov.br/da/registro/ASSENTOS_PLASTICOS_PARA_ESPECTADORES_DE_EVENTOS_ESPORTIVOS.csv\n",
      "Baixando:  BARRAS_E_FIOS_DE_ACO_DESTINADOS_A_ARMADURA_PARA_CONCRETO_ARMADO.csv  de:  http://www.inmetro.gov.br/da/registro/BARRAS_E_FIOS_DE_ACO_DESTINADOS_A_ARMADURA_PARA_CONCRETO_ARMADO.csv\n",
      "Baixando:  BERCOS_INFANTIS.csv  de:  http://www.inmetro.gov.br/da/registro/BERCOS_INFANTIS.csv\n",
      "Baixando:  BOMBAS_E_MOTOBOMBAS_CENTRIFUGAS.csv  de:  http://www.inmetro.gov.br/da/registro/BOMBAS_E_MOTOBOMBAS_CENTRIFUGAS.csv\n",
      "Baixando:  BRINQUEDOS.csv  de:  http://www.inmetro.gov.br/da/registro/BRINQUEDOS.csv\n",
      "Baixando:  CABOS_DE_ACO_DE_USO_GERAL.csv  de:  http://www.inmetro.gov.br/da/registro/CABOS_DE_ACO_DE_USO_GERAL.csv\n",
      "Baixando:  CADEIRA_PLASTICA_MONOBLOCO.csv  de:  http://www.inmetro.gov.br/da/registro/CADEIRA_PLASTICA_MONOBLOCO.csv\n",
      "Baixando:  CADEIRAS_DE_ALIMENTACAO_PARA_CRIANCAS.csv  de:  http://www.inmetro.gov.br/da/registro/CADEIRAS_DE_ALIMENTACAO_PARA_CRIANCAS.csv\n",
      "Baixando:  CALDEIRAS_E_VASOS_DE_PRESSAO_DE_PRODUCAO_SERIADA.csv  de:  http://www.inmetro.gov.br/da/registro/CALDEIRAS_E_VASOS_DE_PRESSAO_DE_PRODUCAO_SERIADA.csv\n",
      "Baixando:  CAPACETES_PARA_CONDUTORES_E_PASSAGEIROS_DE_MOTOCICLETAS_E_SIMILARES.csv  de:  http://www.inmetro.gov.br/da/registro/CAPACETES_PARA_CONDUTORES_E_PASSAGEIROS_DE_MOTOCICLETAS_E_SIMILARES.csv\n",
      "Baixando:  CARRINHOS_PARA_CRIANCAS.csv  de:  http://www.inmetro.gov.br/da/registro/CARRINHOS_PARA_CRIANCAS.csv\n",
      "Baixando:  CENTRIFUGAS_DE_ROUPAS.csv  de:  http://www.inmetro.gov.br/da/registro/CENTRIFUGAS_DE_ROUPAS.csv\n",
      "Baixando:  COLCHOES_DE_MOLAS.csv  de:  http://www.inmetro.gov.br/da/registro/COLCHOES_DE_MOLAS.csv\n",
      "Baixando:  COLCHOES_E_COLCHONETES_DE_ESPUMA_FLEXIVEL_DE_POLIURETANO.csv  de:  http://www.inmetro.gov.br/da/registro/COLCHOES_E_COLCHONETES_DE_ESPUMA_FLEXIVEL_DE_POLIURETANO.csv\n",
      "Baixando:  COLETE_DE_SEGURANCA_DE_ALTA_VISIBILIDADE.csv  de:  http://www.inmetro.gov.br/da/registro/COLETE_DE_SEGURANCA_DE_ALTA_VISIBILIDADE.csv\n",
      "Baixando:  COLETORES_SOLARES_E_RESERVATORIOS_TERMICOS_PARA_EQUIPAMENTOS_DE_AQUECIMENTO_SOLAR_DE_AGUA.csv  de:  http://www.inmetro.gov.br/da/registro/COLETORES_SOLARES_E_RESERVATORIOS_TERMICOS_PARA_EQUIPAMENTOS_DE_AQUECIMENTO_SOLAR_DE_AGUA.csv\n",
      "Baixando:  COMPONENTES_AUTOMOTIVOS.csv  de:  http://www.inmetro.gov.br/da/registro/COMPONENTES_AUTOMOTIVOS.csv\n",
      "Baixando:  COMPONENTES_AUTOMOTIVOS_IMPORTADOS_DE_BAIXO_VOLUME.csv  de:  http://www.inmetro.gov.br/da/registro/COMPONENTES_AUTOMOTIVOS_IMPORTADOS_DE_BAIXO_VOLUME.csv\n",
      "Baixando:  COMPONENTES_AUTOMOTIVOS_PARA_MOTOCICLETAS_MOTONETAS_CICLOMOTORES_TRICICLOS_E_QUADRICICLOS_-_PINHOES_COROAS_CORRENTES_E_ESCAPAMENTOS_DE_MOTOS.csv  de:  http://www.inmetro.gov.br/da/registro/COMPONENTES_AUTOMOTIVOS_PARA_MOTOCICLETAS_MOTONETAS_CICLOMOTORES_TRICICLOS_E_QUADRICICLOS_-_PINHOES_COROAS_CORRENTES_E_ESCAPAMENTOS_DE_MOTOS.csv\n",
      "Baixando:  COMPONENTES_DE_BICICLETAS_DE_USO_ADULTO.csv  de:  http://www.inmetro.gov.br/da/registro/COMPONENTES_DE_BICICLETAS_DE_USO_ADULTO.csv\n",
      "Baixando:  COMPONENTES_DOS_SISTEMAS_DE_COMPRESSAO_DE_GAS_NATURAL_VEICULAR_(GNV)_E_DE_GAS_NATURAL_COMPRIMIDO_(GNC).csv  de:  http://www.inmetro.gov.br/da/registro/COMPONENTES_DOS_SISTEMAS_DE_COMPRESSAO_DE_GAS_NATURAL_VEICULAR_(GNV)_E_DE_GAS_NATURAL_COMPRIMIDO_(GNC).csv\n",
      "Baixando:  CONDICIONADORES_DE_AR.csv  de:  http://www.inmetro.gov.br/da/registro/CONDICIONADORES_DE_AR.csv\n",
      "Baixando:  CONSTRUCAO_MONTAGEM_E_FUNCIONAMENTO_DE_SISTEMAS_AUTOMATICOS_NAO_METROLOGICOS_DE_FISCALIZACAO_DE_TRANSITO.csv  de:  http://www.inmetro.gov.br/da/registro/CONSTRUCAO_MONTAGEM_E_FUNCIONAMENTO_DE_SISTEMAS_AUTOMATICOS_NAO_METROLOGICOS_DE_FISCALIZACAO_DE_TRANSITO.csv\n",
      "Baixando:  CONVERSORES_CATALITICOS_DESTINADOS_A_REPOSICAO.csv  de:  http://www.inmetro.gov.br/da/registro/CONVERSORES_CATALITICOS_DESTINADOS_A_REPOSICAO.csv\n",
      "Baixando:  COPOS_PLASTICOS_DESCARTAVEIS.csv  de:  http://www.inmetro.gov.br/da/registro/COPOS_PLASTICOS_DESCARTAVEIS.csv\n",
      "Baixando:  Dispositivo_de_Fixacao_em_Conteiner.csv  de:  http://www.inmetro.gov.br/da/registro/Dispositivo_de_Fixacao_em_Conteiner.csv\n",
      "Baixando:  DISPOSITIVOS_DE_RETENCAO_PARA_CRIANCAS.csv  de:  http://www.inmetro.gov.br/da/registro/DISPOSITIVOS_DE_RETENCAO_PARA_CRIANCAS.csv\n",
      "Baixando:  EIXO_VEICULAR.csv  de:  http://www.inmetro.gov.br/da/registro/EIXO_VEICULAR.csv\n",
      "Baixando:  EQUIPAMENTOS_PARA_CONSUMO_DE_AGUA.csv  de:  http://www.inmetro.gov.br/da/registro/EQUIPAMENTOS_PARA_CONSUMO_DE_AGUA.csv\n",
      "Baixando:  ESCADAS_METALICAS_DOMESTICAS.csv  de:  http://www.inmetro.gov.br/da/registro/ESCADAS_METALICAS_DOMESTICAS.csv\n",
      "Baixando:  EXTINTORES_DE_INCENDIO_(FABRICACAO_E_IMPORTACAO_DE_EXTINTORES_DE_INCENDIO_-_PRODUTO).csv  de:  http://www.inmetro.gov.br/da/registro/EXTINTORES_DE_INCENDIO_(FABRICACAO_E_IMPORTACAO_DE_EXTINTORES_DE_INCENDIO_-_PRODUTO).csv\n",
      "Baixando:  EXTINTORES_DE_INCENDIO_(INSPECAO_TECNICA_E_MANUTENCAO_DE_EXTINTORES_DE_INCENDIO_-_SERVICO).csv  de:  http://www.inmetro.gov.br/da/registro/EXTINTORES_DE_INCENDIO_(INSPECAO_TECNICA_E_MANUTENCAO_DE_EXTINTORES_DE_INCENDIO_-_SERVICO).csv\n",
      "Baixando:  FIOS_CABOS_E_CORDOES_FLEXIVEIS_ELETRICOS.csv  de:  http://www.inmetro.gov.br/da/registro/FIOS_CABOS_E_CORDOES_FLEXIVEIS_ELETRICOS.csv\n",
      "Baixando:  FOGOES_E_FORNOS_A_GAS_DE_USO_DOMESTICO.csv  de:  http://www.inmetro.gov.br/da/registro/FOGOES_E_FORNOS_A_GAS_DE_USO_DOMESTICO.csv\n",
      "Baixando:  FORNOS_ELETRICOS_COMERCIAIS.csv  de:  http://www.inmetro.gov.br/da/registro/FORNOS_ELETRICOS_COMERCIAIS.csv\n",
      "Baixando:  FORNOS_MICROONDAS.csv  de:  http://www.inmetro.gov.br/da/registro/FORNOS_MICROONDAS.csv\n",
      "Baixando:  FOSFOROS_DE_SEGURANCA.csv  de:  http://www.inmetro.gov.br/da/registro/FOSFOROS_DE_SEGURANCA.csv\n",
      "Baixando:  INDICADORES_DE_PRESSAO_PARA_EXTINTOR_DE_INCENDIO.csv  de:  http://www.inmetro.gov.br/da/registro/INDICADORES_DE_PRESSAO_PARA_EXTINTOR_DE_INCENDIO.csv\n",
      "Baixando:  ISQUEIROS_A_GAS.csv  de:  http://www.inmetro.gov.br/da/registro/ISQUEIROS_A_GAS.csv\n",
      "Baixando:  LAMPADA_DE_VAPOR_DE_SODIO_A_ALTA_PRESSAO.csv  de:  http://www.inmetro.gov.br/da/registro/LAMPADA_DE_VAPOR_DE_SODIO_A_ALTA_PRESSAO.csv\n",
      "Baixando:  LAMPADAS_FLUORESCENTES_COMPACTAS_COM_REATOR_INTEGRADO_A_BASE_.csv  de:  http://www.inmetro.gov.br/da/registro/LAMPADAS_FLUORESCENTES_COMPACTAS_COM_REATOR_INTEGRADO_A_BASE_.csv\n",
      "Baixando:  LAMPADAS_LED_COM_DISPOSITIVO_INTEGRADO_A_BASE.csv  de:  http://www.inmetro.gov.br/da/registro/LAMPADAS_LED_COM_DISPOSITIVO_INTEGRADO_A_BASE.csv\n",
      "Baixando:  LIQUIDOS_PARA_FREIOS_HIDRAULICOS_PARA_VEICULOS_AUTOMOTORES.csv  de:  http://www.inmetro.gov.br/da/registro/LIQUIDOS_PARA_FREIOS_HIDRAULICOS_PARA_VEICULOS_AUTOMOTORES.csv\n",
      "Baixando:  LUMINARIAS_PARA_ILUMINACAO_PUBLICA_VIARIA.csv  de:  http://www.inmetro.gov.br/da/registro/LUMINARIAS_PARA_ILUMINACAO_PUBLICA_VIARIA.csv\n",
      "Baixando:  MANGUEIRAS_DE_PVC_PLASTIFICADO_PARA_INSTALACOES_DOMESTICAS_DE_GAS_LIQUEFEITO_DE_PETROLEO_(GLP).csv  de:  http://www.inmetro.gov.br/da/registro/MANGUEIRAS_DE_PVC_PLASTIFICADO_PARA_INSTALACOES_DOMESTICAS_DE_GAS_LIQUEFEITO_DE_PETROLEO_(GLP).csv\n"
     ]
    },
    {
     "name": "stdout",
     "output_type": "stream",
     "text": [
      "Baixando:  MOTORES_ELETRICOS_TRIFASICOS_DE_INDUCAO_ROTOR_GAIOLA_DE_ESQUILO.csv  de:  http://www.inmetro.gov.br/da/registro/MOTORES_ELETRICOS_TRIFASICOS_DE_INDUCAO_ROTOR_GAIOLA_DE_ESQUILO.csv\n",
      "Baixando:  MOVEIS_ESCOLARES_-_CADEIRAS_E_MESAS_PARA_CONJUNTO_ALUNO_INDIVIDUAL.csv  de:  http://www.inmetro.gov.br/da/registro/MOVEIS_ESCOLARES_-_CADEIRAS_E_MESAS_PARA_CONJUNTO_ALUNO_INDIVIDUAL.csv\n",
      "Baixando:  PANELAS_METALICAS.csv  de:  http://www.inmetro.gov.br/da/registro/PANELAS_METALICAS.csv\n",
      "Baixando:  PLATAFORMAS_ELEVATORIAS_VEICULARES.csv  de:  http://www.inmetro.gov.br/da/registro/PLATAFORMAS_ELEVATORIAS_VEICULARES.csv\n",
      "Baixando:  PLATAFORMAS_ELEVATORIAS_VEICULARES_PARA_VEICULOS_COM_CARACTERISTICAS_RODOVIARIAS.csv  de:  http://www.inmetro.gov.br/da/registro/PLATAFORMAS_ELEVATORIAS_VEICULARES_PARA_VEICULOS_COM_CARACTERISTICAS_RODOVIARIAS.csv\n",
      "Baixando:  PNEUS_NOVOS_DE_MOTOCICLETA_MOTONETA_E_CICLOMOTOR_AUTOMOVEL_DE_PASSAGEIROS_INCLUSIVE_OS_DE_USO_MISTO_E_REBOCADOS_VEICULOS_COMERCIAIS_COMERCIAIS_LEVES_E_REBOCADOS.csv  de:  http://www.inmetro.gov.br/da/registro/PNEUS_NOVOS_DE_MOTOCICLETA_MOTONETA_E_CICLOMOTOR_AUTOMOVEL_DE_PASSAGEIROS_INCLUSIVE_OS_DE_USO_MISTO_E_REBOCADOS_VEICULOS_COMERCIAIS_COMERCIAIS_LEVES_E_REBOCADOS.csv\n",
      "Baixando:  PO_PARA_EXTINCAO_DE_INCENDIO.csv  de:  http://www.inmetro.gov.br/da/registro/PO_PARA_EXTINCAO_DE_INCENDIO.csv\n",
      "Baixando:  REATORES_ELETROMAGNETICOS_PARA_LAMPADAS_VAPOR_DE_SODIO_A_ALTA_PRESSAO_E_VAPOR_METALICO.csv  de:  http://www.inmetro.gov.br/da/registro/REATORES_ELETROMAGNETICOS_PARA_LAMPADAS_VAPOR_DE_SODIO_A_ALTA_PRESSAO_E_VAPOR_METALICO.csv\n",
      "Baixando:  RECIPIENTE_TRANSPORTAVEL_PARA_GAS_LIQUEFEITO_DE_PETROLEO_-_GLP.csv  de:  http://www.inmetro.gov.br/da/registro/RECIPIENTE_TRANSPORTAVEL_PARA_GAS_LIQUEFEITO_DE_PETROLEO_-_GLP.csv\n",
      "Baixando:  REFRIGERADORES_E_ASSEMELHADOS.csv  de:  http://www.inmetro.gov.br/da/registro/REFRIGERADORES_E_ASSEMELHADOS.csv\n",
      "Baixando:  REGULADORES_DE_BAIXA_PRESSAO_PARA_GASES_LIQUEFEITOS_DE_PETROLEO(GLP)_COM_CAPACIDADE_DE_VAZAO_DE_ATE_4KG_H.csv  de:  http://www.inmetro.gov.br/da/registro/REGULADORES_DE_BAIXA_PRESSAO_PARA_GASES_LIQUEFEITOS_DE_PETROLEO(GLP)_COM_CAPACIDADE_DE_VAZAO_DE_ATE_4KG_H.csv\n",
      "Baixando:  RODAS_AUTOMOTIVAS.csv  de:  http://www.inmetro.gov.br/da/registro/RODAS_AUTOMOTIVAS.csv\n",
      "Baixando:  SERVICO_DE_REFORMA_DE_PNEUS.csv  de:  http://www.inmetro.gov.br/da/registro/SERVICO_DE_REFORMA_DE_PNEUS.csv\n",
      "Baixando:  SERVICO_DE_REQUALIFICACAO_DE_CILINDROS_DESTINADOS_AO_ARMAZENAMENTO_DE_GAS_NATURAL_VEICULAR_(GNV).csv  de:  http://www.inmetro.gov.br/da/registro/SERVICO_DE_REQUALIFICACAO_DE_CILINDROS_DESTINADOS_AO_ARMAZENAMENTO_DE_GAS_NATURAL_VEICULAR_(GNV).csv\n",
      "Baixando:  SERVICO_DE_REQUALIFICACAO_DE_RECIPIENTES_TRANSPORTAVEIS_PARA_GAS_LIQUEFEITO_DE_PETROLEO_(GLP).csv  de:  http://www.inmetro.gov.br/da/registro/SERVICO_DE_REQUALIFICACAO_DE_RECIPIENTES_TRANSPORTAVEIS_PARA_GAS_LIQUEFEITO_DE_PETROLEO_(GLP).csv\n",
      "Baixando:  SISTEMAS_ACOPLADOS_PARA_EQUIPAMENTOS_DE_AQUECIMENTO_SOLAR_DE_AGUA.csv  de:  http://www.inmetro.gov.br/da/registro/SISTEMAS_ACOPLADOS_PARA_EQUIPAMENTOS_DE_AQUECIMENTO_SOLAR_DE_AGUA.csv\n",
      "Baixando:  SISTEMAS_E_EQUIPAMENTOS_PARA_ENERGIA_FOTOVOLTAICA_(MODULO_CONTROLADOR_DE_CARGA_INVERSOR_E_BATERIA).csv  de:  http://www.inmetro.gov.br/da/registro/SISTEMAS_E_EQUIPAMENTOS_PARA_ENERGIA_FOTOVOLTAICA_(MODULO_CONTROLADOR_DE_CARGA_INVERSOR_E_BATERIA).csv\n",
      "Baixando:  TANQUES_DE_CARGA_RODOVIARIOS_DESTINADOS_AO_TRANSPORTE_DE_PRODUTOS_PERIGOSOS.csv  de:  http://www.inmetro.gov.br/da/registro/TANQUES_DE_CARGA_RODOVIARIOS_DESTINADOS_AO_TRANSPORTE_DE_PRODUTOS_PERIGOSOS.csv\n",
      "Baixando:  TELEVISORES.csv  de:  http://www.inmetro.gov.br/da/registro/TELEVISORES.csv\n",
      "Baixando:  TUBOS_DE_ACO-CARBONO_PARA_USOS_COMUNS_E_PARA_TUBOS_DE_ACO-CARBONO_PARA_USOS_EM_ALTAS_TEMPERATURAS.csv  de:  http://www.inmetro.gov.br/da/registro/TUBOS_DE_ACO-CARBONO_PARA_USOS_COMUNS_E_PARA_TUBOS_DE_ACO-CARBONO_PARA_USOS_EM_ALTAS_TEMPERATURAS.csv\n",
      "Baixando:  VENTILADORES_DE_MESA_DE_COLUNA_E_CIRCULADOR_DE_AR.csv  de:  http://www.inmetro.gov.br/da/registro/VENTILADORES_DE_MESA_DE_COLUNA_E_CIRCULADOR_DE_AR.csv\n"
     ]
    }
   ],
   "source": [
    "# Faz o download dos CSVs:\n",
    "for url_csv in lista_url_csv:\n",
    "    url_csv = url_csv.rsplit('url=', 1)[1]\n",
    "    nome_arquivo = url_csv.rsplit('/', 1)[1]\n",
    "    print('Baixando: ', nome_arquivo, ' de: ', url_csv)\n",
    "    req = requests.get(url_csv)\n",
    "    url_content = req.content\n",
    "    csv_file = open('C:\\\\DATASETS\\\\Empresas Existentes de Fato\\\\INMETRO\\\\' + nome_arquivo, 'wb')\n",
    "\n",
    "    csv_file.write(url_content)\n",
    "    csv_file.close()"
   ]
  },
  {
   "cell_type": "markdown",
   "metadata": {},
   "source": [
    "Conseguimos baixar 73 arquivos CSV, correspondendo exatamente aos 73 recursos encontrados na página de dados abertos de Registro de Objetos do INMETRO."
   ]
  },
  {
   "cell_type": "markdown",
   "metadata": {},
   "source": [
    "Conforme dicionário de dados da base, existe a coluna 'CnpjCpf' nos arquivos CSV. Vamos então obtê-la de cada arquivo e consolidar a lista de CNPJs:"
   ]
  },
  {
   "cell_type": "code",
   "execution_count": 84,
   "metadata": {},
   "outputs": [
    {
     "name": "stdout",
     "output_type": "stream",
     "text": [
      "Importando:  C:\\DATASETS\\Empresas Existentes de Fato\\INMETRO\\ACESSIBILIDADE_EM_EMBARCACOES_UTILIZADAS_NO_TRANSPORTE_COLETIVO_DE_PASSAGEIROS.csv\n",
      "Importando:  C:\\DATASETS\\Empresas Existentes de Fato\\INMETRO\\AGENTE_REDUTOR_LIQUIDO_DE_NOX_AUTOMOTIVO_-_ARLA_32.csv\n",
      "Importando:  C:\\DATASETS\\Empresas Existentes de Fato\\INMETRO\\ANDADORES_INFANTIS.csv\n",
      "Importando:  C:\\DATASETS\\Empresas Existentes de Fato\\INMETRO\\APLICACAO_REPARO_E_REFORMA_DE_REVESTIMENTO_INTERNO_DE_TANQUE_DE_CARGA_RODOVIARIO_DESTINADO_AO_TRANSPORTE_DE_PRODUTOS_PERIGOSOS.csv\n",
      "Importando:  C:\\DATASETS\\Empresas Existentes de Fato\\INMETRO\\AQUECEDORES_DE_AGUA_A_GAS_DOS_TIPOS_INSTANTANEO_E_DE_ACUMULACAO.csv\n",
      "Importando:  C:\\DATASETS\\Empresas Existentes de Fato\\INMETRO\\ARTIGOS_ESCOLARES.csv\n",
      "Importando:  C:\\DATASETS\\Empresas Existentes de Fato\\INMETRO\\ARTIGOS_PARA_FESTAS.csv\n",
      "Importando:  C:\\DATASETS\\Empresas Existentes de Fato\\INMETRO\\ASSENTOS_PLASTICOS_PARA_ESPECTADORES_DE_EVENTOS_ESPORTIVOS.csv\n",
      "Importando:  C:\\DATASETS\\Empresas Existentes de Fato\\INMETRO\\BARRAS_E_FIOS_DE_ACO_DESTINADOS_A_ARMADURA_PARA_CONCRETO_ARMADO.csv\n",
      "Importando:  C:\\DATASETS\\Empresas Existentes de Fato\\INMETRO\\BERCOS_INFANTIS.csv\n",
      "Importando:  C:\\DATASETS\\Empresas Existentes de Fato\\INMETRO\\BOMBAS_E_MOTOBOMBAS_CENTRIFUGAS.csv\n",
      "Importando:  C:\\DATASETS\\Empresas Existentes de Fato\\INMETRO\\BRINQUEDOS.csv\n",
      "Importando:  C:\\DATASETS\\Empresas Existentes de Fato\\INMETRO\\CABOS_DE_ACO_DE_USO_GERAL.csv\n",
      "Importando:  C:\\DATASETS\\Empresas Existentes de Fato\\INMETRO\\CADEIRAS_DE_ALIMENTACAO_PARA_CRIANCAS.csv\n",
      "Importando:  C:\\DATASETS\\Empresas Existentes de Fato\\INMETRO\\CADEIRA_PLASTICA_MONOBLOCO.csv\n",
      "Importando:  C:\\DATASETS\\Empresas Existentes de Fato\\INMETRO\\CALDEIRAS_E_VASOS_DE_PRESSAO_DE_PRODUCAO_SERIADA.csv\n",
      "Importando:  C:\\DATASETS\\Empresas Existentes de Fato\\INMETRO\\CAPACETES_PARA_CONDUTORES_E_PASSAGEIROS_DE_MOTOCICLETAS_E_SIMILARES.csv\n",
      "Importando:  C:\\DATASETS\\Empresas Existentes de Fato\\INMETRO\\CARRINHOS_PARA_CRIANCAS.csv\n",
      "Importando:  C:\\DATASETS\\Empresas Existentes de Fato\\INMETRO\\CENTRIFUGAS_DE_ROUPAS.csv\n",
      "Importando:  C:\\DATASETS\\Empresas Existentes de Fato\\INMETRO\\COLCHOES_DE_MOLAS.csv\n",
      "Importando:  C:\\DATASETS\\Empresas Existentes de Fato\\INMETRO\\COLCHOES_E_COLCHONETES_DE_ESPUMA_FLEXIVEL_DE_POLIURETANO.csv\n",
      "Importando:  C:\\DATASETS\\Empresas Existentes de Fato\\INMETRO\\COLETE_DE_SEGURANCA_DE_ALTA_VISIBILIDADE.csv\n",
      "Importando:  C:\\DATASETS\\Empresas Existentes de Fato\\INMETRO\\COLETORES_SOLARES_E_RESERVATORIOS_TERMICOS_PARA_EQUIPAMENTOS_DE_AQUECIMENTO_SOLAR_DE_AGUA.csv\n",
      "Importando:  C:\\DATASETS\\Empresas Existentes de Fato\\INMETRO\\COMPONENTES_AUTOMOTIVOS.csv\n",
      "Importando:  C:\\DATASETS\\Empresas Existentes de Fato\\INMETRO\\COMPONENTES_AUTOMOTIVOS_IMPORTADOS_DE_BAIXO_VOLUME.csv\n",
      "Importando:  C:\\DATASETS\\Empresas Existentes de Fato\\INMETRO\\COMPONENTES_AUTOMOTIVOS_PARA_MOTOCICLETAS_MOTONETAS_CICLOMOTORES_TRICICLOS_E_QUADRICICLOS_-_PINHOES_COROAS_CORRENTES_E_ESCAPAMENTOS_DE_MOTOS.csv\n",
      "Importando:  C:\\DATASETS\\Empresas Existentes de Fato\\INMETRO\\COMPONENTES_DE_BICICLETAS_DE_USO_ADULTO.csv\n",
      "Importando:  C:\\DATASETS\\Empresas Existentes de Fato\\INMETRO\\COMPONENTES_DOS_SISTEMAS_DE_COMPRESSAO_DE_GAS_NATURAL_VEICULAR_(GNV)_E_DE_GAS_NATURAL_COMPRIMIDO_(GNC).csv\n",
      "Importando:  C:\\DATASETS\\Empresas Existentes de Fato\\INMETRO\\CONDICIONADORES_DE_AR.csv\n",
      "Importando:  C:\\DATASETS\\Empresas Existentes de Fato\\INMETRO\\CONSTRUCAO_MONTAGEM_E_FUNCIONAMENTO_DE_SISTEMAS_AUTOMATICOS_NAO_METROLOGICOS_DE_FISCALIZACAO_DE_TRANSITO.csv\n",
      "Importando:  C:\\DATASETS\\Empresas Existentes de Fato\\INMETRO\\CONVERSORES_CATALITICOS_DESTINADOS_A_REPOSICAO.csv\n",
      "Importando:  C:\\DATASETS\\Empresas Existentes de Fato\\INMETRO\\COPOS_PLASTICOS_DESCARTAVEIS.csv\n",
      "Importando:  C:\\DATASETS\\Empresas Existentes de Fato\\INMETRO\\DISPOSITIVOS_DE_RETENCAO_PARA_CRIANCAS.csv\n",
      "Importando:  C:\\DATASETS\\Empresas Existentes de Fato\\INMETRO\\Dispositivo_de_Fixacao_em_Conteiner.csv\n",
      "Importando:  C:\\DATASETS\\Empresas Existentes de Fato\\INMETRO\\EIXO_VEICULAR.csv\n",
      "Importando:  C:\\DATASETS\\Empresas Existentes de Fato\\INMETRO\\EQUIPAMENTOS_PARA_CONSUMO_DE_AGUA.csv\n",
      "Importando:  C:\\DATASETS\\Empresas Existentes de Fato\\INMETRO\\ESCADAS_METALICAS_DOMESTICAS.csv\n",
      "Importando:  C:\\DATASETS\\Empresas Existentes de Fato\\INMETRO\\EXTINTORES_DE_INCENDIO_(FABRICACAO_E_IMPORTACAO_DE_EXTINTORES_DE_INCENDIO_-_PRODUTO).csv\n",
      "Importando:  C:\\DATASETS\\Empresas Existentes de Fato\\INMETRO\\EXTINTORES_DE_INCENDIO_(INSPECAO_TECNICA_E_MANUTENCAO_DE_EXTINTORES_DE_INCENDIO_-_SERVICO).csv\n",
      "Importando:  C:\\DATASETS\\Empresas Existentes de Fato\\INMETRO\\FIOS_CABOS_E_CORDOES_FLEXIVEIS_ELETRICOS.csv\n",
      "Importando:  C:\\DATASETS\\Empresas Existentes de Fato\\INMETRO\\FOGOES_E_FORNOS_A_GAS_DE_USO_DOMESTICO.csv\n",
      "Importando:  C:\\DATASETS\\Empresas Existentes de Fato\\INMETRO\\FORNOS_ELETRICOS_COMERCIAIS.csv\n",
      "Importando:  C:\\DATASETS\\Empresas Existentes de Fato\\INMETRO\\FORNOS_MICROONDAS.csv\n",
      "Importando:  C:\\DATASETS\\Empresas Existentes de Fato\\INMETRO\\FOSFOROS_DE_SEGURANCA.csv\n",
      "Importando:  C:\\DATASETS\\Empresas Existentes de Fato\\INMETRO\\INDICADORES_DE_PRESSAO_PARA_EXTINTOR_DE_INCENDIO.csv\n",
      "Importando:  C:\\DATASETS\\Empresas Existentes de Fato\\INMETRO\\ISQUEIROS_A_GAS.csv\n",
      "Importando:  C:\\DATASETS\\Empresas Existentes de Fato\\INMETRO\\LAMPADAS_FLUORESCENTES_COMPACTAS_COM_REATOR_INTEGRADO_A_BASE_.csv\n",
      "Importando:  C:\\DATASETS\\Empresas Existentes de Fato\\INMETRO\\LAMPADAS_LED_COM_DISPOSITIVO_INTEGRADO_A_BASE.csv\n",
      "Importando:  C:\\DATASETS\\Empresas Existentes de Fato\\INMETRO\\LAMPADA_DE_VAPOR_DE_SODIO_A_ALTA_PRESSAO.csv\n",
      "Importando:  C:\\DATASETS\\Empresas Existentes de Fato\\INMETRO\\LIQUIDOS_PARA_FREIOS_HIDRAULICOS_PARA_VEICULOS_AUTOMOTORES.csv\n",
      "Importando:  C:\\DATASETS\\Empresas Existentes de Fato\\INMETRO\\LUMINARIAS_PARA_ILUMINACAO_PUBLICA_VIARIA.csv\n",
      "Importando:  C:\\DATASETS\\Empresas Existentes de Fato\\INMETRO\\MANGUEIRAS_DE_PVC_PLASTIFICADO_PARA_INSTALACOES_DOMESTICAS_DE_GAS_LIQUEFEITO_DE_PETROLEO_(GLP).csv\n",
      "Importando:  C:\\DATASETS\\Empresas Existentes de Fato\\INMETRO\\MOTORES_ELETRICOS_TRIFASICOS_DE_INDUCAO_ROTOR_GAIOLA_DE_ESQUILO.csv\n",
      "Importando:  C:\\DATASETS\\Empresas Existentes de Fato\\INMETRO\\MOVEIS_ESCOLARES_-_CADEIRAS_E_MESAS_PARA_CONJUNTO_ALUNO_INDIVIDUAL.csv\n",
      "Importando:  C:\\DATASETS\\Empresas Existentes de Fato\\INMETRO\\PANELAS_METALICAS.csv\n",
      "Importando:  C:\\DATASETS\\Empresas Existentes de Fato\\INMETRO\\PLATAFORMAS_ELEVATORIAS_VEICULARES.csv\n",
      "Importando:  C:\\DATASETS\\Empresas Existentes de Fato\\INMETRO\\PLATAFORMAS_ELEVATORIAS_VEICULARES_PARA_VEICULOS_COM_CARACTERISTICAS_RODOVIARIAS.csv\n",
      "Importando:  C:\\DATASETS\\Empresas Existentes de Fato\\INMETRO\\PNEUS_NOVOS_DE_MOTOCICLETA_MOTONETA_E_CICLOMOTOR_AUTOMOVEL_DE_PASSAGEIROS_INCLUSIVE_OS_DE_USO_MISTO_E_REBOCADOS_VEICULOS_COMERCIAIS_COMERCIAIS_LEVES_E_REBOCADOS.csv\n",
      "Importando:  C:\\DATASETS\\Empresas Existentes de Fato\\INMETRO\\PO_PARA_EXTINCAO_DE_INCENDIO.csv\n",
      "Importando:  C:\\DATASETS\\Empresas Existentes de Fato\\INMETRO\\REATORES_ELETROMAGNETICOS_PARA_LAMPADAS_VAPOR_DE_SODIO_A_ALTA_PRESSAO_E_VAPOR_METALICO.csv\n",
      "Importando:  C:\\DATASETS\\Empresas Existentes de Fato\\INMETRO\\RECIPIENTE_TRANSPORTAVEL_PARA_GAS_LIQUEFEITO_DE_PETROLEO_-_GLP.csv\n",
      "Importando:  C:\\DATASETS\\Empresas Existentes de Fato\\INMETRO\\REFRIGERADORES_E_ASSEMELHADOS.csv\n",
      "Importando:  C:\\DATASETS\\Empresas Existentes de Fato\\INMETRO\\REGULADORES_DE_BAIXA_PRESSAO_PARA_GASES_LIQUEFEITOS_DE_PETROLEO(GLP)_COM_CAPACIDADE_DE_VAZAO_DE_ATE_4KG_H.csv\n",
      "Importando:  C:\\DATASETS\\Empresas Existentes de Fato\\INMETRO\\RODAS_AUTOMOTIVAS.csv\n",
      "Importando:  C:\\DATASETS\\Empresas Existentes de Fato\\INMETRO\\SERVICO_DE_REFORMA_DE_PNEUS.csv\n",
      "Importando:  C:\\DATASETS\\Empresas Existentes de Fato\\INMETRO\\SERVICO_DE_REQUALIFICACAO_DE_CILINDROS_DESTINADOS_AO_ARMAZENAMENTO_DE_GAS_NATURAL_VEICULAR_(GNV).csv\n",
      "Importando:  C:\\DATASETS\\Empresas Existentes de Fato\\INMETRO\\SERVICO_DE_REQUALIFICACAO_DE_RECIPIENTES_TRANSPORTAVEIS_PARA_GAS_LIQUEFEITO_DE_PETROLEO_(GLP).csv\n",
      "Importando:  C:\\DATASETS\\Empresas Existentes de Fato\\INMETRO\\SISTEMAS_ACOPLADOS_PARA_EQUIPAMENTOS_DE_AQUECIMENTO_SOLAR_DE_AGUA.csv\n",
      "Importando:  C:\\DATASETS\\Empresas Existentes de Fato\\INMETRO\\SISTEMAS_E_EQUIPAMENTOS_PARA_ENERGIA_FOTOVOLTAICA_(MODULO_CONTROLADOR_DE_CARGA_INVERSOR_E_BATERIA).csv\n",
      "Importando:  C:\\DATASETS\\Empresas Existentes de Fato\\INMETRO\\TANQUES_DE_CARGA_RODOVIARIOS_DESTINADOS_AO_TRANSPORTE_DE_PRODUTOS_PERIGOSOS.csv\n",
      "Importando:  C:\\DATASETS\\Empresas Existentes de Fato\\INMETRO\\TELEVISORES.csv\n",
      "Importando:  C:\\DATASETS\\Empresas Existentes de Fato\\INMETRO\\TUBOS_DE_ACO-CARBONO_PARA_USOS_COMUNS_E_PARA_TUBOS_DE_ACO-CARBONO_PARA_USOS_EM_ALTAS_TEMPERATURAS.csv\n",
      "Importando:  C:\\DATASETS\\Empresas Existentes de Fato\\INMETRO\\VENTILADORES_DE_MESA_DE_COLUNA_E_CIRCULADOR_DE_AR.csv\n"
     ]
    },
    {
     "data": {
      "text/plain": [
       "<bound method NDFrame.describe of                 CnpjCpf                                            Arquivo\n",
       "0        01044251000130  C:\\DATASETS\\Empresas Existentes de Fato\\INMETR...\n",
       "1        01044251000130  C:\\DATASETS\\Empresas Existentes de Fato\\INMETR...\n",
       "2        20413924000127  C:\\DATASETS\\Empresas Existentes de Fato\\INMETR...\n",
       "3        20413924000127  C:\\DATASETS\\Empresas Existentes de Fato\\INMETR...\n",
       "4        20413924000127  C:\\DATASETS\\Empresas Existentes de Fato\\INMETR...\n",
       "...                 ...                                                ...\n",
       "2486540  61077830001000  C:\\DATASETS\\Empresas Existentes de Fato\\INMETR...\n",
       "2486541  61077830001000  C:\\DATASETS\\Empresas Existentes de Fato\\INMETR...\n",
       "2486542  61077830001000  C:\\DATASETS\\Empresas Existentes de Fato\\INMETR...\n",
       "2486543  61077830001000  C:\\DATASETS\\Empresas Existentes de Fato\\INMETR...\n",
       "2486544  61077830001000  C:\\DATASETS\\Empresas Existentes de Fato\\INMETR...\n",
       "\n",
       "[2486545 rows x 2 columns]>"
      ]
     },
     "execution_count": 84,
     "metadata": {},
     "output_type": "execute_result"
    }
   ],
   "source": [
    "# IMPORTAÇÃO DOS ARQUIVOS CSV DE REGISTRO DE OBJETOS DO INMETRO:\n",
    "\n",
    "path = r'C:\\DATASETS\\Empresas Existentes de Fato\\INMETRO'\n",
    "all_files = glob.glob(path + \"/*.csv\")\n",
    "\n",
    "li = []\n",
    "\n",
    "for filename in all_files:\n",
    "    print('Importando: ', filename)\n",
    "    temp_df = pd.read_csv(filename, sep=';', encoding=\"utf-16\", dtype=str, usecols=['CnpjCpf'])\n",
    "    temp_df['Arquivo'] = filename\n",
    "    li.append(temp_df)\n",
    "\n",
    "# Concatena o resultado no dataframe\n",
    "df = pd.concat(li, axis=0, ignore_index=True)\n",
    "\n",
    "df.describe"
   ]
  },
  {
   "cell_type": "code",
   "execution_count": 85,
   "metadata": {},
   "outputs": [
    {
     "data": {
      "text/plain": [
       "14    2486542\n",
       "11          3\n",
       "Name: CnpjCpf, dtype: int64"
      ]
     },
     "execution_count": 85,
     "metadata": {},
     "output_type": "execute_result"
    }
   ],
   "source": [
    "# Verificando tamanhos dos valores na coluna CnpjCpf\n",
    "df.CnpjCpf.str.len().value_counts()"
   ]
  },
  {
   "cell_type": "code",
   "execution_count": 86,
   "metadata": {},
   "outputs": [
    {
     "data": {
      "text/plain": [
       "14    2486542\n",
       "Name: CnpjCpf, dtype: int64"
      ]
     },
     "execution_count": 86,
     "metadata": {},
     "output_type": "execute_result"
    }
   ],
   "source": [
    "# Vamos descartar as linhas com tamanho 11:\n",
    "df = df.drop(df[df.CnpjCpf.str.len() == 11].index)\n",
    "df.CnpjCpf.str.len().value_counts()"
   ]
  },
  {
   "cell_type": "code",
   "execution_count": 87,
   "metadata": {},
   "outputs": [
    {
     "data": {
      "text/plain": [
       "C:\\DATASETS\\Empresas Existentes de Fato\\INMETRO\\COMPONENTES_AUTOMOTIVOS.csv                                                                                                                                             1214890\n",
       "C:\\DATASETS\\Empresas Existentes de Fato\\INMETRO\\PNEUS_NOVOS_DE_MOTOCICLETA_MOTONETA_E_CICLOMOTOR_AUTOMOVEL_DE_PASSAGEIROS_INCLUSIVE_OS_DE_USO_MISTO_E_REBOCADOS_VEICULOS_COMERCIAIS_COMERCIAIS_LEVES_E_REBOCADOS.csv     255461\n",
       "C:\\DATASETS\\Empresas Existentes de Fato\\INMETRO\\RODAS_AUTOMOTIVAS.csv                                                                                                                                                    207833\n",
       "C:\\DATASETS\\Empresas Existentes de Fato\\INMETRO\\COMPONENTES_DE_BICICLETAS_DE_USO_ADULTO.csv                                                                                                                              165667\n",
       "C:\\DATASETS\\Empresas Existentes de Fato\\INMETRO\\PANELAS_METALICAS.csv                                                                                                                                                     99975\n",
       "                                                                                                                                                                                                                         ...   \n",
       "C:\\DATASETS\\Empresas Existentes de Fato\\INMETRO\\ANDADORES_INFANTIS.csv                                                                                                                                                       19\n",
       "C:\\DATASETS\\Empresas Existentes de Fato\\INMETRO\\PLATAFORMAS_ELEVATORIAS_VEICULARES_PARA_VEICULOS_COM_CARACTERISTICAS_RODOVIARIAS.csv                                                                                         17\n",
       "C:\\DATASETS\\Empresas Existentes de Fato\\INMETRO\\APLICACAO_REPARO_E_REFORMA_DE_REVESTIMENTO_INTERNO_DE_TANQUE_DE_CARGA_RODOVIARIO_DESTINADO_AO_TRANSPORTE_DE_PRODUTOS_PERIGOSOS.csv                                           16\n",
       "C:\\DATASETS\\Empresas Existentes de Fato\\INMETRO\\Dispositivo_de_Fixacao_em_Conteiner.csv                                                                                                                                       5\n",
       "C:\\DATASETS\\Empresas Existentes de Fato\\INMETRO\\COMPONENTES_DOS_SISTEMAS_DE_COMPRESSAO_DE_GAS_NATURAL_VEICULAR_(GNV)_E_DE_GAS_NATURAL_COMPRIMIDO_(GNC).csv                                                                    5\n",
       "Name: Arquivo, Length: 72, dtype: int64"
      ]
     },
     "metadata": {},
     "output_type": "display_data"
    },
    {
     "name": "stdout",
     "output_type": "stream",
     "text": [
      "9182\n"
     ]
    }
   ],
   "source": [
    "# Verificando quantidade de CNPJ por arquivo:\n",
    "display(df.Arquivo.value_counts())\n",
    "\n",
    "# Verificando quantidade de CNPJ únicos:\n",
    "print(df.CnpjCpf.nunique())"
   ]
  },
  {
   "cell_type": "code",
   "execution_count": 88,
   "metadata": {},
   "outputs": [
    {
     "name": "stdout",
     "output_type": "stream",
     "text": [
      "                   CNPJ\n",
      "0        01044251000130\n",
      "2        20413924000127\n",
      "7        01929350000108\n",
      "9        73148785000118\n",
      "10       45056793000107\n",
      "...                 ...\n",
      "2485721  08700812000151\n",
      "2486242  10674533000102\n",
      "2486311  00099773000339\n",
      "2486319  10509819000132\n",
      "2486382  53296273000191\n",
      "\n",
      "[9182 rows x 1 columns]\n"
     ]
    }
   ],
   "source": [
    "# Vamos ficar apenas com a coluna de cnpj e remover os duplicados:\n",
    "df = df.drop(columns=['Arquivo'])\n",
    "df.columns = ['CNPJ']\n",
    "df.drop_duplicates(inplace=True)\n",
    "print(df)"
   ]
  },
  {
   "cell_type": "markdown",
   "metadata": {},
   "source": [
    "Salvando o resultdo com a lista de CNPJs de empresas que possuem registro no INMETRO:"
   ]
  },
  {
   "cell_type": "code",
   "execution_count": 89,
   "metadata": {},
   "outputs": [],
   "source": [
    "df.to_csv(r'C:\\DATASETS\\Empresas Existentes de Fato\\empresas_registro_INMETRO.csv', index = False)"
   ]
  }
 ],
 "metadata": {
  "kernelspec": {
   "display_name": "Python 3",
   "language": "python",
   "name": "python3"
  },
  "language_info": {
   "codemirror_mode": {
    "name": "ipython",
    "version": 3
   },
   "file_extension": ".py",
   "mimetype": "text/x-python",
   "name": "python",
   "nbconvert_exporter": "python",
   "pygments_lexer": "ipython3",
   "version": "3.7.4"
  }
 },
 "nbformat": 4,
 "nbformat_minor": 2
}
