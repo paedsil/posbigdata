{
 "cells": [
  {
   "cell_type": "markdown",
   "metadata": {},
   "source": [
    "As empresas listadas na B3 são claramente empresas ativas, operantes de fato. Obter a lista dos CNPJs dessas empresas nos permitirá rotular algumas empresas da base nacional como existentes de fato.\n",
    "\n",
    "Vamos obter os CNPJs das empresas listadas na B3 em 2021 a partir de um site de informações sobre investimentos: www.infomoney.com.br"
   ]
  },
  {
   "cell_type": "code",
   "execution_count": 1,
   "metadata": {},
   "outputs": [],
   "source": [
    "import requests\n",
    "from bs4 import BeautifulSoup\n",
    "import pandas as pd"
   ]
  },
  {
   "cell_type": "code",
   "execution_count": 2,
   "metadata": {},
   "outputs": [],
   "source": [
    "# Obtém o html da página web que possui os CNPJs de todas as empresas listadas na B3 em 2021:\n",
    "response = requests.get('https://www.infomoney.com.br/minhas-financas/confira-o-cnpj-das-acoes-negociadas-em-bolsa-e-saiba-como-declarar-no-imposto-de-renda/')\n",
    "soup = BeautifulSoup(response.text, 'html.parser')"
   ]
  },
  {
   "cell_type": "code",
   "execution_count": 3,
   "metadata": {},
   "outputs": [
    {
     "name": "stdout",
     "output_type": "stream",
     "text": [
      "                CNPJ\n",
      "0    012091809000155\n",
      "1    001851771000155\n",
      "2    012528708000107\n",
      "3    037663076000107\n",
      "4    004128563000110\n",
      "..               ...\n",
      "445  059105999000186\n",
      "446  005721735000128\n",
      "447  042278473000103\n",
      "448  033228024000151\n",
      "449  008807432000110\n",
      "\n",
      "[450 rows x 1 columns]\n"
     ]
    }
   ],
   "source": [
    "# Obtém a tabela html com os cnpjs:\n",
    "tabela_html = soup.find_all(\"div\", {\"class\": \"container-article-table\"})\n",
    "\n",
    "# Obtém as linhas da tabela\n",
    "linhas_html = tabela_html[0].find_all('tr')\n",
    "\n",
    "cnpjs = list()\n",
    "\n",
    "# Para cada linha, pega apenas o CNPJ:\n",
    "for linha_html in linhas_html:\n",
    "    cnpjs.append(linha_html.findAll(lambda tag: tag.name=='td')[3].getText())\n",
    "\n",
    "# Remove a linha que corresponde ao título\n",
    "cnpjs.remove('CNPJ')\n",
    "\n",
    "# Cria o dataframe com a lista de CNPJs:\n",
    "df = pd.DataFrame(cnpjs, columns=[\"CNPJ\"])\n",
    "\n",
    "# Faz limpeza dos valores\n",
    "df.CNPJ = df.CNPJ.str.replace('[\\.\\-\\/]', '', regex=True)\n",
    "\n",
    "print(df)"
   ]
  },
  {
   "cell_type": "markdown",
   "metadata": {},
   "source": [
    "Há uma impropriedade nos CNPJs listados: todos possuem um zero a mais no início:"
   ]
  },
  {
   "cell_type": "code",
   "execution_count": 4,
   "metadata": {},
   "outputs": [
    {
     "data": {
      "text/plain": [
       "0    450\n",
       "Name: CNPJ, dtype: int64"
      ]
     },
     "execution_count": 4,
     "metadata": {},
     "output_type": "execute_result"
    }
   ],
   "source": [
    "df.CNPJ.str[0].value_counts()"
   ]
  },
  {
   "cell_type": "code",
   "execution_count": 6,
   "metadata": {},
   "outputs": [],
   "source": [
    "# Removendo o zero a mais:\n",
    "df.CNPJ = df.CNPJ.str[1:]"
   ]
  },
  {
   "cell_type": "code",
   "execution_count": 7,
   "metadata": {},
   "outputs": [
    {
     "name": "stdout",
     "output_type": "stream",
     "text": [
      "<bound method NDFrame.describe of                CNPJ\n",
      "0    12091809000155\n",
      "1    01851771000155\n",
      "2    12528708000107\n",
      "3    37663076000107\n",
      "4    04128563000110\n",
      "..              ...\n",
      "445  59105999000186\n",
      "446  05721735000128\n",
      "447  42278473000103\n",
      "448  33228024000151\n",
      "449  08807432000110\n",
      "\n",
      "[450 rows x 1 columns]>\n",
      "450\n"
     ]
    }
   ],
   "source": [
    "# Verificando resultado:\n",
    "print(df.describe)\n",
    "print(df.CNPJ.nunique())"
   ]
  },
  {
   "cell_type": "code",
   "execution_count": 8,
   "metadata": {},
   "outputs": [],
   "source": [
    "# Salvando resultado:\n",
    "df.to_csv('C:\\DATASETS\\Empresas Existentes de Fato\\empresas_listadas_B3.csv', index=False)"
   ]
  }
 ],
 "metadata": {
  "kernelspec": {
   "display_name": "Python 3",
   "language": "python",
   "name": "python3"
  },
  "language_info": {
   "codemirror_mode": {
    "name": "ipython",
    "version": 3
   },
   "file_extension": ".py",
   "mimetype": "text/x-python",
   "name": "python",
   "nbconvert_exporter": "python",
   "pygments_lexer": "ipython3",
   "version": "3.7.4"
  }
 },
 "nbformat": 4,
 "nbformat_minor": 2
}
