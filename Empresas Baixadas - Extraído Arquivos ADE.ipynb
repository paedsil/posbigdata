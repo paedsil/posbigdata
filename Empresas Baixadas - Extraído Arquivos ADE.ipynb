{
 "cells": [
  {
   "cell_type": "code",
   "execution_count": 1,
   "metadata": {},
   "outputs": [],
   "source": [
    "import PyPDF2\n",
    "import re\n",
    "import glob\n",
    "import pandas as pd\n",
    "import numpy as np"
   ]
  },
  {
   "cell_type": "code",
   "execution_count": 39,
   "metadata": {
    "scrolled": true
   },
   "outputs": [
    {
     "name": "stdout",
     "output_type": "stream",
     "text": [
      "C:\\\\DATASETS\\\\Empresas Baixadas\\\\pdf\\ADE Cocad n 2 de 2018 - Edital Intimação n 1 de 2018 - Inexistencia de Fato - noteiras-ocas.pdf\n",
      "Página:  0  - Qte cnpj:  39\n",
      "Página:  1  - Qte cnpj:  39\n",
      "Página:  2  - Qte cnpj:  39\n",
      "Página:  3  - Qte cnpj:  39\n",
      "Página:  4  - Qte cnpj:  39\n",
      "Página:  5  - Qte cnpj:  39\n",
      "Página:  6  - Qte cnpj:  39\n",
      "Página:  7  - Qte cnpj:  19\n",
      "Página:  8  - Qte cnpj:  0\n",
      "Página:  9  - Qte cnpj:  0\n",
      "Página:  10  - Qte cnpj:  0\n",
      "Página:  11  - Qte cnpj:  0\n",
      "Página:  12  - Qte cnpj:  0\n",
      "Página:  13  - Qte cnpj:  0\n",
      "Página:  14  - Qte cnpj:  1\n",
      "C:\\\\DATASETS\\\\Empresas Baixadas\\\\pdf\\ADE Cocad n 2 de 2020 - anexo - Edital Intimacao n 1 de 2019 - Inexistencia de Fato.pdf\n",
      "Página:  0  - Qte cnpj:  41\n",
      "Página:  1  - Qte cnpj:  44\n",
      "Página:  2  - Qte cnpj:  43\n",
      "Página:  3  - Qte cnpj:  43\n",
      "Página:  4  - Qte cnpj:  24\n",
      "C:\\\\DATASETS\\\\Empresas Baixadas\\\\pdf\\ADE Cocad n 3 de 2018 - distribuidoras - Edital Intimação n 2 de 2018 - Inexistencia de Fato.pdf\n",
      "Página:  0  - Qte cnpj:  39\n",
      "Página:  1  - Qte cnpj:  39\n",
      "Página:  2  - Qte cnpj:  39\n",
      "Página:  3  - Qte cnpj:  39\n",
      "Página:  4  - Qte cnpj:  39\n",
      "Página:  5  - Qte cnpj:  39\n",
      "Página:  6  - Qte cnpj:  39\n",
      "Página:  7  - Qte cnpj:  39\n",
      "Página:  8  - Qte cnpj:  39\n",
      "Página:  9  - Qte cnpj:  39\n",
      "Página:  10  - Qte cnpj:  39\n",
      "Página:  11  - Qte cnpj:  39\n",
      "Página:  12  - Qte cnpj:  39\n",
      "Página:  13  - Qte cnpj:  39\n",
      "Página:  14  - Qte cnpj:  39\n",
      "Página:  15  - Qte cnpj:  39\n",
      "Página:  16  - Qte cnpj:  39\n",
      "Página:  17  - Qte cnpj:  39\n",
      "Página:  18  - Qte cnpj:  39\n",
      "Página:  19  - Qte cnpj:  39\n",
      "Página:  20  - Qte cnpj:  39\n",
      "Página:  21  - Qte cnpj:  39\n",
      "Página:  22  - Qte cnpj:  39\n",
      "Página:  23  - Qte cnpj:  39\n",
      "Página:  24  - Qte cnpj:  39\n",
      "Página:  25  - Qte cnpj:  39\n",
      "Página:  26  - Qte cnpj:  39\n",
      "Página:  27  - Qte cnpj:  39\n",
      "Página:  28  - Qte cnpj:  39\n",
      "Página:  29  - Qte cnpj:  39\n",
      "Página:  30  - Qte cnpj:  39\n",
      "Página:  31  - Qte cnpj:  39\n",
      "Página:  32  - Qte cnpj:  39\n",
      "Página:  33  - Qte cnpj:  39\n",
      "Página:  34  - Qte cnpj:  39\n",
      "Página:  35  - Qte cnpj:  39\n",
      "Página:  36  - Qte cnpj:  39\n",
      "Página:  37  - Qte cnpj:  39\n",
      "Página:  38  - Qte cnpj:  39\n",
      "Página:  39  - Qte cnpj:  39\n",
      "Página:  40  - Qte cnpj:  39\n",
      "Página:  41  - Qte cnpj:  39\n",
      "Página:  42  - Qte cnpj:  39\n",
      "Página:  43  - Qte cnpj:  39\n",
      "Página:  44  - Qte cnpj:  39\n",
      "Página:  45  - Qte cnpj:  39\n",
      "Página:  46  - Qte cnpj:  39\n",
      "Página:  47  - Qte cnpj:  39\n",
      "Página:  48  - Qte cnpj:  39\n",
      "Página:  49  - Qte cnpj:  27\n",
      "C:\\\\DATASETS\\\\Empresas Baixadas\\\\pdf\\ADE Cocad n 3 de 2020 - anexo - sem o edital.pdf\n",
      "Página:  0  - Qte cnpj:  26\n",
      "C:\\\\DATASETS\\\\Empresas Baixadas\\\\pdf\\lista-baixa-20-02-2020 - Edital Cocad 1 de 2020 - Inexistência de Fato.pdf\n",
      "Página:  0  - Qte cnpj:  31\n"
     ]
    },
    {
     "data": {
      "text/html": [
       "<div>\n",
       "<style scoped>\n",
       "    .dataframe tbody tr th:only-of-type {\n",
       "        vertical-align: middle;\n",
       "    }\n",
       "\n",
       "    .dataframe tbody tr th {\n",
       "        vertical-align: top;\n",
       "    }\n",
       "\n",
       "    .dataframe thead th {\n",
       "        text-align: right;\n",
       "    }\n",
       "</style>\n",
       "<table border=\"1\" class=\"dataframe\">\n",
       "  <thead>\n",
       "    <tr style=\"text-align: right;\">\n",
       "      <th></th>\n",
       "      <th>Arquivo</th>\n",
       "      <th>CNPJ</th>\n",
       "    </tr>\n",
       "  </thead>\n",
       "  <tbody>\n",
       "    <tr>\n",
       "      <td>0</td>\n",
       "      <td>ADE Cocad n 2 de 2018 - Edital Intimação n 1 d...</td>\n",
       "      <td>00903551000165</td>\n",
       "    </tr>\n",
       "    <tr>\n",
       "      <td>1</td>\n",
       "      <td>ADE Cocad n 2 de 2018 - Edital Intimação n 1 d...</td>\n",
       "      <td>01005247000163</td>\n",
       "    </tr>\n",
       "    <tr>\n",
       "      <td>2</td>\n",
       "      <td>ADE Cocad n 2 de 2018 - Edital Intimação n 1 d...</td>\n",
       "      <td>01291703000189</td>\n",
       "    </tr>\n",
       "    <tr>\n",
       "      <td>3</td>\n",
       "      <td>ADE Cocad n 2 de 2018 - Edital Intimação n 1 d...</td>\n",
       "      <td>01424175000199</td>\n",
       "    </tr>\n",
       "    <tr>\n",
       "      <td>4</td>\n",
       "      <td>ADE Cocad n 2 de 2018 - Edital Intimação n 1 d...</td>\n",
       "      <td>01424175000270</td>\n",
       "    </tr>\n",
       "    <tr>\n",
       "      <td>...</td>\n",
       "      <td>...</td>\n",
       "      <td>...</td>\n",
       "    </tr>\n",
       "    <tr>\n",
       "      <td>2478</td>\n",
       "      <td>lista-baixa-20-02-2020 - Edital Cocad 1 de 202...</td>\n",
       "      <td>30.802.439/0001-07</td>\n",
       "    </tr>\n",
       "    <tr>\n",
       "      <td>2479</td>\n",
       "      <td>lista-baixa-20-02-2020 - Edital Cocad 1 de 202...</td>\n",
       "      <td>31.429.447/0001-04</td>\n",
       "    </tr>\n",
       "    <tr>\n",
       "      <td>2480</td>\n",
       "      <td>lista-baixa-20-02-2020 - Edital Cocad 1 de 202...</td>\n",
       "      <td>31.980.500/0001-60</td>\n",
       "    </tr>\n",
       "    <tr>\n",
       "      <td>2481</td>\n",
       "      <td>lista-baixa-20-02-2020 - Edital Cocad 1 de 202...</td>\n",
       "      <td>28.246.970/0001-90</td>\n",
       "    </tr>\n",
       "    <tr>\n",
       "      <td>2482</td>\n",
       "      <td>lista-baixa-20-02-2020 - Edital Cocad 1 de 202...</td>\n",
       "      <td>29.657.449/0001-09</td>\n",
       "    </tr>\n",
       "  </tbody>\n",
       "</table>\n",
       "<p>2483 rows × 2 columns</p>\n",
       "</div>"
      ],
      "text/plain": [
       "                                                Arquivo                CNPJ\n",
       "0     ADE Cocad n 2 de 2018 - Edital Intimação n 1 d...      00903551000165\n",
       "1     ADE Cocad n 2 de 2018 - Edital Intimação n 1 d...      01005247000163\n",
       "2     ADE Cocad n 2 de 2018 - Edital Intimação n 1 d...      01291703000189\n",
       "3     ADE Cocad n 2 de 2018 - Edital Intimação n 1 d...      01424175000199\n",
       "4     ADE Cocad n 2 de 2018 - Edital Intimação n 1 d...      01424175000270\n",
       "...                                                 ...                 ...\n",
       "2478  lista-baixa-20-02-2020 - Edital Cocad 1 de 202...  30.802.439/0001-07\n",
       "2479  lista-baixa-20-02-2020 - Edital Cocad 1 de 202...  31.429.447/0001-04\n",
       "2480  lista-baixa-20-02-2020 - Edital Cocad 1 de 202...  31.980.500/0001-60\n",
       "2481  lista-baixa-20-02-2020 - Edital Cocad 1 de 202...  28.246.970/0001-90\n",
       "2482  lista-baixa-20-02-2020 - Edital Cocad 1 de 202...  29.657.449/0001-09\n",
       "\n",
       "[2483 rows x 2 columns]"
      ]
     },
     "execution_count": 39,
     "metadata": {},
     "output_type": "execute_result"
    }
   ],
   "source": [
    "path = r'C:\\\\DATASETS\\\\Empresas Baixadas\\\\pdf'\n",
    "all_files = glob.glob(path + \"/*.pdf\")\n",
    "\n",
    "empresas_baixadas_df = pd.DataFrame(columns=['Arquivo', 'CNPJ'])\n",
    "\n",
    "for filename in all_files:\n",
    "    print(filename)\n",
    "    pdfReader = PyPDF2.PdfFileReader(filename)\n",
    "    count = pdfReader.numPages\n",
    "    # Percorre cada página do PDF:\n",
    "    for i in range(count):\n",
    "        page = pdfReader.getPage(i)\n",
    "        output = page.extractText()\n",
    "        # Procura por CNPJs:\n",
    "        cnpj_search = re.findall( \"(?:\\d ?){2}\\.?(?:\\d ?){3}.?(?:\\d ?){3}.?\\d[\\s\\S]?\\d[\\s\\S]?\\d[\\s\\S]?\\d[\\s\\S]?\\-?\\n?\\d[\\s\\S]?\\d\", output)\n",
    "\n",
    "        print('Página: ', i, ' - Qte cnpj: ', len(cnpj_search))\n",
    "        \n",
    "        cnpj_search = [cnpj.replace('\\n', '') for cnpj in cnpj_search]\n",
    "        \n",
    "        temp_df = pd.DataFrame(columns=['Arquivo', 'CNPJ'])\n",
    "        temp_df.CNPJ = cnpj_search\n",
    "        temp_df.Arquivo = filename.rsplit('\\\\',1)[1]\n",
    "    \n",
    "        empresas_baixadas_df = pd.concat([empresas_baixadas_df, temp_df], ignore_index=True)    \n",
    "        \n",
    "empresas_baixadas_df"
   ]
  },
  {
   "cell_type": "code",
   "execution_count": 40,
   "metadata": {
    "scrolled": true
   },
   "outputs": [
    {
     "data": {
      "text/plain": [
       "2482"
      ]
     },
     "execution_count": 40,
     "metadata": {},
     "output_type": "execute_result"
    }
   ],
   "source": [
    "empresas_baixadas_df.CNPJ.nunique()"
   ]
  },
  {
   "cell_type": "code",
   "execution_count": 41,
   "metadata": {},
   "outputs": [
    {
     "data": {
      "text/plain": [
       "ADE Cocad n 3 de 2018 - distribuidoras - Edital Intimação n 2 de 2018 - Inexistencia de Fato.pdf    1938\n",
       "ADE Cocad n 2 de 2018 - Edital Intimação n 1 de 2018 - Inexistencia de Fato - noteiras-ocas.pdf      293\n",
       "ADE Cocad n 2 de 2020 - anexo - Edital Intimacao n 1 de 2019 - Inexistencia de Fato.pdf              195\n",
       "lista-baixa-20-02-2020 - Edital Cocad 1 de 2020 - Inexistência de Fato.pdf                            31\n",
       "ADE Cocad n 3 de 2020 - anexo - sem o edital.pdf                                                      26\n",
       "Name: Arquivo, dtype: int64"
      ]
     },
     "execution_count": 41,
     "metadata": {},
     "output_type": "execute_result"
    }
   ],
   "source": [
    "empresas_baixadas_df.Arquivo.value_counts()"
   ]
  },
  {
   "cell_type": "code",
   "execution_count": 42,
   "metadata": {},
   "outputs": [
    {
     "data": {
      "text/plain": [
       "14    2228\n",
       "18     252\n",
       "17       3\n",
       "Name: CNPJ, dtype: int64"
      ]
     },
     "execution_count": 42,
     "metadata": {},
     "output_type": "execute_result"
    }
   ],
   "source": [
    "empresas_baixadas_df.CNPJ.str.len().value_counts()"
   ]
  },
  {
   "cell_type": "code",
   "execution_count": 43,
   "metadata": {},
   "outputs": [
    {
     "data": {
      "text/html": [
       "<div>\n",
       "<style scoped>\n",
       "    .dataframe tbody tr th:only-of-type {\n",
       "        vertical-align: middle;\n",
       "    }\n",
       "\n",
       "    .dataframe tbody tr th {\n",
       "        vertical-align: top;\n",
       "    }\n",
       "\n",
       "    .dataframe thead th {\n",
       "        text-align: right;\n",
       "    }\n",
       "</style>\n",
       "<table border=\"1\" class=\"dataframe\">\n",
       "  <thead>\n",
       "    <tr style=\"text-align: right;\">\n",
       "      <th></th>\n",
       "      <th>Arquivo</th>\n",
       "      <th>CNPJ</th>\n",
       "    </tr>\n",
       "  </thead>\n",
       "  <tbody>\n",
       "    <tr>\n",
       "      <td>1790</td>\n",
       "      <td>ADE Cocad n 3 de 2018 - distribuidoras - Edita...</td>\n",
       "      <td>01548235000185G10</td>\n",
       "    </tr>\n",
       "    <tr>\n",
       "      <td>1791</td>\n",
       "      <td>ADE Cocad n 3 de 2018 - distribuidoras - Edita...</td>\n",
       "      <td>01548235000266G10</td>\n",
       "    </tr>\n",
       "    <tr>\n",
       "      <td>1792</td>\n",
       "      <td>ADE Cocad n 3 de 2018 - distribuidoras - Edita...</td>\n",
       "      <td>01548235000428G10</td>\n",
       "    </tr>\n",
       "  </tbody>\n",
       "</table>\n",
       "</div>"
      ],
      "text/plain": [
       "                                                Arquivo               CNPJ\n",
       "1790  ADE Cocad n 3 de 2018 - distribuidoras - Edita...  01548235000185G10\n",
       "1791  ADE Cocad n 3 de 2018 - distribuidoras - Edita...  01548235000266G10\n",
       "1792  ADE Cocad n 3 de 2018 - distribuidoras - Edita...  01548235000428G10"
      ]
     },
     "execution_count": 43,
     "metadata": {},
     "output_type": "execute_result"
    }
   ],
   "source": [
    "empresas_baixadas_df[empresas_baixadas_df.CNPJ.str.len()==17]"
   ]
  },
  {
   "cell_type": "code",
   "execution_count": 47,
   "metadata": {},
   "outputs": [],
   "source": [
    "# Corrigindo manualmente os 3 registros errados, mostrados acima:\n",
    "empresas_baixadas_df.loc[1790].CNPJ = '01548235000185'\n",
    "empresas_baixadas_df.loc[1791].CNPJ = '01548235000266'\n",
    "empresas_baixadas_df.loc[1792].CNPJ = '01548235000428'"
   ]
  },
  {
   "cell_type": "markdown",
   "metadata": {},
   "source": [
    "##### Importação dos ADE que não foram passíveis de leitura em PDF (foram então convertidos em TXT):"
   ]
  },
  {
   "cell_type": "code",
   "execution_count": 49,
   "metadata": {
    "scrolled": true
   },
   "outputs": [
    {
     "name": "stdout",
     "output_type": "stream",
     "text": [
      "C:\\\\DATASETS\\\\Empresas Baixadas\\\\txt\\ADE Cocad n 1 de 2018 - SN - registro cancelado - omisso - inadimplente.txt\n",
      "Qte cnpj:  1372246\n",
      "C:\\\\DATASETS\\\\Empresas Baixadas\\\\txt\\lista-de-cnpj-baixados-em-03-04-e-06-04-2020 - sem edital.txt\n",
      "Qte cnpj:  69\n"
     ]
    },
    {
     "data": {
      "text/html": [
       "<div>\n",
       "<style scoped>\n",
       "    .dataframe tbody tr th:only-of-type {\n",
       "        vertical-align: middle;\n",
       "    }\n",
       "\n",
       "    .dataframe tbody tr th {\n",
       "        vertical-align: top;\n",
       "    }\n",
       "\n",
       "    .dataframe thead th {\n",
       "        text-align: right;\n",
       "    }\n",
       "</style>\n",
       "<table border=\"1\" class=\"dataframe\">\n",
       "  <thead>\n",
       "    <tr style=\"text-align: right;\">\n",
       "      <th></th>\n",
       "      <th>Arquivo</th>\n",
       "      <th>CNPJ</th>\n",
       "    </tr>\n",
       "  </thead>\n",
       "  <tbody>\n",
       "    <tr>\n",
       "      <td>0</td>\n",
       "      <td>ADE Cocad n 1 de 2018 - SN - registro cancelad...</td>\n",
       "      <td>00.000.942/0001-70</td>\n",
       "    </tr>\n",
       "    <tr>\n",
       "      <td>1</td>\n",
       "      <td>ADE Cocad n 1 de 2018 - SN - registro cancelad...</td>\n",
       "      <td>13.762.046/0001-90</td>\n",
       "    </tr>\n",
       "    <tr>\n",
       "      <td>2</td>\n",
       "      <td>ADE Cocad n 1 de 2018 - SN - registro cancelad...</td>\n",
       "      <td>16.577.209/0001-52</td>\n",
       "    </tr>\n",
       "    <tr>\n",
       "      <td>3</td>\n",
       "      <td>ADE Cocad n 1 de 2018 - SN - registro cancelad...</td>\n",
       "      <td>19.071.487/0001-21</td>\n",
       "    </tr>\n",
       "    <tr>\n",
       "      <td>4</td>\n",
       "      <td>ADE Cocad n 1 de 2018 - SN - registro cancelad...</td>\n",
       "      <td>00.001.102/0001-21</td>\n",
       "    </tr>\n",
       "    <tr>\n",
       "      <td>...</td>\n",
       "      <td>...</td>\n",
       "      <td>...</td>\n",
       "    </tr>\n",
       "    <tr>\n",
       "      <td>1372310</td>\n",
       "      <td>lista-de-cnpj-baixados-em-03-04-e-06-04-2020 -...</td>\n",
       "      <td>35.007.721/0001-08</td>\n",
       "    </tr>\n",
       "    <tr>\n",
       "      <td>1372311</td>\n",
       "      <td>lista-de-cnpj-baixados-em-03-04-e-06-04-2020 -...</td>\n",
       "      <td>34.665.501/0001-09</td>\n",
       "    </tr>\n",
       "    <tr>\n",
       "      <td>1372312</td>\n",
       "      <td>lista-de-cnpj-baixados-em-03-04-e-06-04-2020 -...</td>\n",
       "      <td>34.670.798/0001-09</td>\n",
       "    </tr>\n",
       "    <tr>\n",
       "      <td>1372313</td>\n",
       "      <td>lista-de-cnpj-baixados-em-03-04-e-06-04-2020 -...</td>\n",
       "      <td>33.930.020/0001-10</td>\n",
       "    </tr>\n",
       "    <tr>\n",
       "      <td>1372314</td>\n",
       "      <td>lista-de-cnpj-baixados-em-03-04-e-06-04-2020 -...</td>\n",
       "      <td>33.901.811/0001-12</td>\n",
       "    </tr>\n",
       "  </tbody>\n",
       "</table>\n",
       "<p>1372315 rows × 2 columns</p>\n",
       "</div>"
      ],
      "text/plain": [
       "                                                   Arquivo                CNPJ\n",
       "0        ADE Cocad n 1 de 2018 - SN - registro cancelad...  00.000.942/0001-70\n",
       "1        ADE Cocad n 1 de 2018 - SN - registro cancelad...  13.762.046/0001-90\n",
       "2        ADE Cocad n 1 de 2018 - SN - registro cancelad...  16.577.209/0001-52\n",
       "3        ADE Cocad n 1 de 2018 - SN - registro cancelad...  19.071.487/0001-21\n",
       "4        ADE Cocad n 1 de 2018 - SN - registro cancelad...  00.001.102/0001-21\n",
       "...                                                    ...                 ...\n",
       "1372310  lista-de-cnpj-baixados-em-03-04-e-06-04-2020 -...  35.007.721/0001-08\n",
       "1372311  lista-de-cnpj-baixados-em-03-04-e-06-04-2020 -...  34.665.501/0001-09\n",
       "1372312  lista-de-cnpj-baixados-em-03-04-e-06-04-2020 -...  34.670.798/0001-09\n",
       "1372313  lista-de-cnpj-baixados-em-03-04-e-06-04-2020 -...  33.930.020/0001-10\n",
       "1372314  lista-de-cnpj-baixados-em-03-04-e-06-04-2020 -...  33.901.811/0001-12\n",
       "\n",
       "[1372315 rows x 2 columns]"
      ]
     },
     "execution_count": 49,
     "metadata": {},
     "output_type": "execute_result"
    }
   ],
   "source": [
    "empresas_baixadas_txt_df = pd.DataFrame(columns=['Arquivo', 'CNPJ'])\n",
    "\n",
    "path = r'C:\\\\DATASETS\\\\Empresas Baixadas\\\\txt'\n",
    "all_files = glob.glob(path + \"/*.txt\")\n",
    "\n",
    "for filename in all_files:\n",
    "    print(filename)\n",
    "    txt = open(filename, \"r\")\n",
    "\n",
    "    cnpj_search = re.findall( \"\\d{2}\\.\\d{3}\\.\\d{3}\\/\\d{4}\\-\\d{2}\", txt.read())\n",
    "\n",
    "    print('Qte cnpj: ', len(cnpj_search))\n",
    "    \n",
    "    temp_df = pd.DataFrame(columns=['Arquivo', 'CNPJ'])\n",
    "    temp_df.CNPJ = cnpj_search\n",
    "    temp_df.Arquivo = filename.rsplit('\\\\',1)[1]\n",
    "\n",
    "    empresas_baixadas_txt_df = pd.concat([empresas_baixadas_txt_df, temp_df], ignore_index=True)    \n",
    "\n",
    "empresas_baixadas_txt_df"
   ]
  },
  {
   "cell_type": "code",
   "execution_count": 50,
   "metadata": {
    "scrolled": true
   },
   "outputs": [
    {
     "data": {
      "text/plain": [
       "1372315"
      ]
     },
     "execution_count": 50,
     "metadata": {},
     "output_type": "execute_result"
    }
   ],
   "source": [
    "empresas_baixadas_txt_df.CNPJ.nunique()"
   ]
  },
  {
   "cell_type": "code",
   "execution_count": 51,
   "metadata": {},
   "outputs": [
    {
     "data": {
      "text/plain": [
       "ADE Cocad n 1 de 2018 - SN - registro cancelado - omisso - inadimplente.txt    1372246\n",
       "lista-de-cnpj-baixados-em-03-04-e-06-04-2020 - sem edital.txt                       69\n",
       "Name: Arquivo, dtype: int64"
      ]
     },
     "execution_count": 51,
     "metadata": {},
     "output_type": "execute_result"
    }
   ],
   "source": [
    "empresas_baixadas_txt_df.Arquivo.value_counts()"
   ]
  },
  {
   "cell_type": "code",
   "execution_count": 52,
   "metadata": {},
   "outputs": [
    {
     "data": {
      "text/plain": [
       "18    1372315\n",
       "Name: CNPJ, dtype: int64"
      ]
     },
     "execution_count": 52,
     "metadata": {},
     "output_type": "execute_result"
    }
   ],
   "source": [
    "empresas_baixadas_txt_df.CNPJ.str.len().value_counts()"
   ]
  },
  {
   "cell_type": "code",
   "execution_count": 53,
   "metadata": {},
   "outputs": [
    {
     "data": {
      "text/html": [
       "<div>\n",
       "<style scoped>\n",
       "    .dataframe tbody tr th:only-of-type {\n",
       "        vertical-align: middle;\n",
       "    }\n",
       "\n",
       "    .dataframe tbody tr th {\n",
       "        vertical-align: top;\n",
       "    }\n",
       "\n",
       "    .dataframe thead th {\n",
       "        text-align: right;\n",
       "    }\n",
       "</style>\n",
       "<table border=\"1\" class=\"dataframe\">\n",
       "  <thead>\n",
       "    <tr style=\"text-align: right;\">\n",
       "      <th></th>\n",
       "      <th>Arquivo</th>\n",
       "      <th>CNPJ</th>\n",
       "    </tr>\n",
       "  </thead>\n",
       "  <tbody>\n",
       "    <tr>\n",
       "      <td>0</td>\n",
       "      <td>ADE Cocad n 2 de 2018 - Edital Intimação n 1 d...</td>\n",
       "      <td>00903551000165</td>\n",
       "    </tr>\n",
       "    <tr>\n",
       "      <td>1</td>\n",
       "      <td>ADE Cocad n 2 de 2018 - Edital Intimação n 1 d...</td>\n",
       "      <td>01005247000163</td>\n",
       "    </tr>\n",
       "    <tr>\n",
       "      <td>2</td>\n",
       "      <td>ADE Cocad n 2 de 2018 - Edital Intimação n 1 d...</td>\n",
       "      <td>01291703000189</td>\n",
       "    </tr>\n",
       "    <tr>\n",
       "      <td>3</td>\n",
       "      <td>ADE Cocad n 2 de 2018 - Edital Intimação n 1 d...</td>\n",
       "      <td>01424175000199</td>\n",
       "    </tr>\n",
       "    <tr>\n",
       "      <td>4</td>\n",
       "      <td>ADE Cocad n 2 de 2018 - Edital Intimação n 1 d...</td>\n",
       "      <td>01424175000270</td>\n",
       "    </tr>\n",
       "    <tr>\n",
       "      <td>...</td>\n",
       "      <td>...</td>\n",
       "      <td>...</td>\n",
       "    </tr>\n",
       "    <tr>\n",
       "      <td>1374793</td>\n",
       "      <td>lista-de-cnpj-baixados-em-03-04-e-06-04-2020 -...</td>\n",
       "      <td>35.007.721/0001-08</td>\n",
       "    </tr>\n",
       "    <tr>\n",
       "      <td>1374794</td>\n",
       "      <td>lista-de-cnpj-baixados-em-03-04-e-06-04-2020 -...</td>\n",
       "      <td>34.665.501/0001-09</td>\n",
       "    </tr>\n",
       "    <tr>\n",
       "      <td>1374795</td>\n",
       "      <td>lista-de-cnpj-baixados-em-03-04-e-06-04-2020 -...</td>\n",
       "      <td>34.670.798/0001-09</td>\n",
       "    </tr>\n",
       "    <tr>\n",
       "      <td>1374796</td>\n",
       "      <td>lista-de-cnpj-baixados-em-03-04-e-06-04-2020 -...</td>\n",
       "      <td>33.930.020/0001-10</td>\n",
       "    </tr>\n",
       "    <tr>\n",
       "      <td>1374797</td>\n",
       "      <td>lista-de-cnpj-baixados-em-03-04-e-06-04-2020 -...</td>\n",
       "      <td>33.901.811/0001-12</td>\n",
       "    </tr>\n",
       "  </tbody>\n",
       "</table>\n",
       "<p>1374798 rows × 2 columns</p>\n",
       "</div>"
      ],
      "text/plain": [
       "                                                   Arquivo                CNPJ\n",
       "0        ADE Cocad n 2 de 2018 - Edital Intimação n 1 d...      00903551000165\n",
       "1        ADE Cocad n 2 de 2018 - Edital Intimação n 1 d...      01005247000163\n",
       "2        ADE Cocad n 2 de 2018 - Edital Intimação n 1 d...      01291703000189\n",
       "3        ADE Cocad n 2 de 2018 - Edital Intimação n 1 d...      01424175000199\n",
       "4        ADE Cocad n 2 de 2018 - Edital Intimação n 1 d...      01424175000270\n",
       "...                                                    ...                 ...\n",
       "1374793  lista-de-cnpj-baixados-em-03-04-e-06-04-2020 -...  35.007.721/0001-08\n",
       "1374794  lista-de-cnpj-baixados-em-03-04-e-06-04-2020 -...  34.665.501/0001-09\n",
       "1374795  lista-de-cnpj-baixados-em-03-04-e-06-04-2020 -...  34.670.798/0001-09\n",
       "1374796  lista-de-cnpj-baixados-em-03-04-e-06-04-2020 -...  33.930.020/0001-10\n",
       "1374797  lista-de-cnpj-baixados-em-03-04-e-06-04-2020 -...  33.901.811/0001-12\n",
       "\n",
       "[1374798 rows x 2 columns]"
      ]
     },
     "execution_count": 53,
     "metadata": {},
     "output_type": "execute_result"
    }
   ],
   "source": [
    "empresas_baixadas_df = pd.concat([empresas_baixadas_df, empresas_baixadas_txt_df], ignore_index=True)\n",
    "empresas_baixadas_df"
   ]
  },
  {
   "cell_type": "code",
   "execution_count": 54,
   "metadata": {},
   "outputs": [
    {
     "data": {
      "text/plain": [
       "ADE Cocad n 1 de 2018 - SN - registro cancelado - omisso - inadimplente.txt                         1372246\n",
       "ADE Cocad n 3 de 2018 - distribuidoras - Edital Intimação n 2 de 2018 - Inexistencia de Fato.pdf       1938\n",
       "ADE Cocad n 2 de 2018 - Edital Intimação n 1 de 2018 - Inexistencia de Fato - noteiras-ocas.pdf         293\n",
       "ADE Cocad n 2 de 2020 - anexo - Edital Intimacao n 1 de 2019 - Inexistencia de Fato.pdf                 195\n",
       "lista-de-cnpj-baixados-em-03-04-e-06-04-2020 - sem edital.txt                                            69\n",
       "lista-baixa-20-02-2020 - Edital Cocad 1 de 2020 - Inexistência de Fato.pdf                               31\n",
       "ADE Cocad n 3 de 2020 - anexo - sem o edital.pdf                                                         26\n",
       "Name: Arquivo, dtype: int64"
      ]
     },
     "execution_count": 54,
     "metadata": {},
     "output_type": "execute_result"
    }
   ],
   "source": [
    "empresas_baixadas_df.Arquivo.value_counts()"
   ]
  },
  {
   "cell_type": "code",
   "execution_count": 55,
   "metadata": {},
   "outputs": [
    {
     "data": {
      "text/plain": [
       "18    1372567\n",
       "14       2231\n",
       "Name: CNPJ, dtype: int64"
      ]
     },
     "execution_count": 55,
     "metadata": {},
     "output_type": "execute_result"
    }
   ],
   "source": [
    "empresas_baixadas_df.CNPJ.str.len().value_counts()"
   ]
  },
  {
   "cell_type": "code",
   "execution_count": 56,
   "metadata": {},
   "outputs": [],
   "source": [
    "empresas_baixadas_df.CNPJ = empresas_baixadas_df.CNPJ.str.replace('[\\.\\-\\/]', '', regex=True)"
   ]
  },
  {
   "cell_type": "code",
   "execution_count": 57,
   "metadata": {},
   "outputs": [
    {
     "data": {
      "text/plain": [
       "14    1374798\n",
       "Name: CNPJ, dtype: int64"
      ]
     },
     "execution_count": 57,
     "metadata": {},
     "output_type": "execute_result"
    }
   ],
   "source": [
    "empresas_baixadas_df.CNPJ.str.len().value_counts()"
   ]
  },
  {
   "cell_type": "code",
   "execution_count": 58,
   "metadata": {},
   "outputs": [
    {
     "data": {
      "text/plain": [
       "1374797"
      ]
     },
     "execution_count": 58,
     "metadata": {},
     "output_type": "execute_result"
    }
   ],
   "source": [
    "empresas_baixadas_df.CNPJ.nunique()"
   ]
  },
  {
   "cell_type": "code",
   "execution_count": 60,
   "metadata": {},
   "outputs": [],
   "source": [
    "empresas_baixadas_df = empresas_baixadas_df.drop_duplicates(subset=['CNPJ'])"
   ]
  },
  {
   "cell_type": "code",
   "execution_count": 61,
   "metadata": {},
   "outputs": [
    {
     "data": {
      "text/html": [
       "<div>\n",
       "<style scoped>\n",
       "    .dataframe tbody tr th:only-of-type {\n",
       "        vertical-align: middle;\n",
       "    }\n",
       "\n",
       "    .dataframe tbody tr th {\n",
       "        vertical-align: top;\n",
       "    }\n",
       "\n",
       "    .dataframe thead th {\n",
       "        text-align: right;\n",
       "    }\n",
       "</style>\n",
       "<table border=\"1\" class=\"dataframe\">\n",
       "  <thead>\n",
       "    <tr style=\"text-align: right;\">\n",
       "      <th></th>\n",
       "      <th>Arquivo</th>\n",
       "      <th>CNPJ</th>\n",
       "    </tr>\n",
       "  </thead>\n",
       "  <tbody>\n",
       "    <tr>\n",
       "      <td>0</td>\n",
       "      <td>ADE Cocad n 2 de 2018 - Edital Intimação n 1 d...</td>\n",
       "      <td>00903551000165</td>\n",
       "    </tr>\n",
       "    <tr>\n",
       "      <td>1</td>\n",
       "      <td>ADE Cocad n 2 de 2018 - Edital Intimação n 1 d...</td>\n",
       "      <td>01005247000163</td>\n",
       "    </tr>\n",
       "    <tr>\n",
       "      <td>2</td>\n",
       "      <td>ADE Cocad n 2 de 2018 - Edital Intimação n 1 d...</td>\n",
       "      <td>01291703000189</td>\n",
       "    </tr>\n",
       "    <tr>\n",
       "      <td>3</td>\n",
       "      <td>ADE Cocad n 2 de 2018 - Edital Intimação n 1 d...</td>\n",
       "      <td>01424175000199</td>\n",
       "    </tr>\n",
       "    <tr>\n",
       "      <td>4</td>\n",
       "      <td>ADE Cocad n 2 de 2018 - Edital Intimação n 1 d...</td>\n",
       "      <td>01424175000270</td>\n",
       "    </tr>\n",
       "    <tr>\n",
       "      <td>...</td>\n",
       "      <td>...</td>\n",
       "      <td>...</td>\n",
       "    </tr>\n",
       "    <tr>\n",
       "      <td>1374793</td>\n",
       "      <td>lista-de-cnpj-baixados-em-03-04-e-06-04-2020 -...</td>\n",
       "      <td>35007721000108</td>\n",
       "    </tr>\n",
       "    <tr>\n",
       "      <td>1374794</td>\n",
       "      <td>lista-de-cnpj-baixados-em-03-04-e-06-04-2020 -...</td>\n",
       "      <td>34665501000109</td>\n",
       "    </tr>\n",
       "    <tr>\n",
       "      <td>1374795</td>\n",
       "      <td>lista-de-cnpj-baixados-em-03-04-e-06-04-2020 -...</td>\n",
       "      <td>34670798000109</td>\n",
       "    </tr>\n",
       "    <tr>\n",
       "      <td>1374796</td>\n",
       "      <td>lista-de-cnpj-baixados-em-03-04-e-06-04-2020 -...</td>\n",
       "      <td>33930020000110</td>\n",
       "    </tr>\n",
       "    <tr>\n",
       "      <td>1374797</td>\n",
       "      <td>lista-de-cnpj-baixados-em-03-04-e-06-04-2020 -...</td>\n",
       "      <td>33901811000112</td>\n",
       "    </tr>\n",
       "  </tbody>\n",
       "</table>\n",
       "<p>1374797 rows × 2 columns</p>\n",
       "</div>"
      ],
      "text/plain": [
       "                                                   Arquivo            CNPJ\n",
       "0        ADE Cocad n 2 de 2018 - Edital Intimação n 1 d...  00903551000165\n",
       "1        ADE Cocad n 2 de 2018 - Edital Intimação n 1 d...  01005247000163\n",
       "2        ADE Cocad n 2 de 2018 - Edital Intimação n 1 d...  01291703000189\n",
       "3        ADE Cocad n 2 de 2018 - Edital Intimação n 1 d...  01424175000199\n",
       "4        ADE Cocad n 2 de 2018 - Edital Intimação n 1 d...  01424175000270\n",
       "...                                                    ...             ...\n",
       "1374793  lista-de-cnpj-baixados-em-03-04-e-06-04-2020 -...  35007721000108\n",
       "1374794  lista-de-cnpj-baixados-em-03-04-e-06-04-2020 -...  34665501000109\n",
       "1374795  lista-de-cnpj-baixados-em-03-04-e-06-04-2020 -...  34670798000109\n",
       "1374796  lista-de-cnpj-baixados-em-03-04-e-06-04-2020 -...  33930020000110\n",
       "1374797  lista-de-cnpj-baixados-em-03-04-e-06-04-2020 -...  33901811000112\n",
       "\n",
       "[1374797 rows x 2 columns]"
      ]
     },
     "execution_count": 61,
     "metadata": {},
     "output_type": "execute_result"
    }
   ],
   "source": [
    "empresas_baixadas_df"
   ]
  },
  {
   "cell_type": "code",
   "execution_count": 62,
   "metadata": {},
   "outputs": [],
   "source": [
    "# Salvando resultado:\n",
    "empresas_baixadas_df.to_csv('C:\\DATASETS\\Empresas Baixadas\\empresas_baixadas_extraido_arquivos_ADE.csv', index=False)"
   ]
  }
 ],
 "metadata": {
  "kernelspec": {
   "display_name": "Python 3",
   "language": "python",
   "name": "python3"
  },
  "language_info": {
   "codemirror_mode": {
    "name": "ipython",
    "version": 3
   },
   "file_extension": ".py",
   "mimetype": "text/x-python",
   "name": "python",
   "nbconvert_exporter": "python",
   "pygments_lexer": "ipython3",
   "version": "3.7.4"
  }
 },
 "nbformat": 4,
 "nbformat_minor": 2
}
