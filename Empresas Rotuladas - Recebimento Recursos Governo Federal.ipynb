{
 "cells": [
  {
   "cell_type": "code",
   "execution_count": 1,
   "metadata": {},
   "outputs": [],
   "source": [
    "import pandas as pd\n",
    "import numpy as np"
   ]
  },
  {
   "cell_type": "code",
   "execution_count": 2,
   "metadata": {},
   "outputs": [
    {
     "data": {
      "text/html": [
       "<div>\n",
       "<style scoped>\n",
       "    .dataframe tbody tr th:only-of-type {\n",
       "        vertical-align: middle;\n",
       "    }\n",
       "\n",
       "    .dataframe tbody tr th {\n",
       "        vertical-align: top;\n",
       "    }\n",
       "\n",
       "    .dataframe thead th {\n",
       "        text-align: right;\n",
       "    }\n",
       "</style>\n",
       "<table border=\"1\" class=\"dataframe\">\n",
       "  <thead>\n",
       "    <tr style=\"text-align: right;\">\n",
       "      <th></th>\n",
       "      <th>cnpj</th>\n",
       "    </tr>\n",
       "  </thead>\n",
       "  <tbody>\n",
       "    <tr>\n",
       "      <td>0</td>\n",
       "      <td>00000942000170</td>\n",
       "    </tr>\n",
       "    <tr>\n",
       "      <td>1</td>\n",
       "      <td>00001102000121</td>\n",
       "    </tr>\n",
       "    <tr>\n",
       "      <td>2</td>\n",
       "      <td>00005201000181</td>\n",
       "    </tr>\n",
       "    <tr>\n",
       "      <td>3</td>\n",
       "      <td>00005201000262</td>\n",
       "    </tr>\n",
       "    <tr>\n",
       "      <td>4</td>\n",
       "      <td>00010501000159</td>\n",
       "    </tr>\n",
       "    <tr>\n",
       "      <td>...</td>\n",
       "      <td>...</td>\n",
       "    </tr>\n",
       "    <tr>\n",
       "      <td>1559938</td>\n",
       "      <td>98593668000194</td>\n",
       "    </tr>\n",
       "    <tr>\n",
       "      <td>1559939</td>\n",
       "      <td>98669997000252</td>\n",
       "    </tr>\n",
       "    <tr>\n",
       "      <td>1559940</td>\n",
       "      <td>98670235000195</td>\n",
       "    </tr>\n",
       "    <tr>\n",
       "      <td>1559941</td>\n",
       "      <td>98670656000116</td>\n",
       "    </tr>\n",
       "    <tr>\n",
       "      <td>1559942</td>\n",
       "      <td>98674195000150</td>\n",
       "    </tr>\n",
       "  </tbody>\n",
       "</table>\n",
       "<p>1559943 rows × 1 columns</p>\n",
       "</div>"
      ],
      "text/plain": [
       "                   cnpj\n",
       "0        00000942000170\n",
       "1        00001102000121\n",
       "2        00005201000181\n",
       "3        00005201000262\n",
       "4        00010501000159\n",
       "...                 ...\n",
       "1559938  98593668000194\n",
       "1559939  98669997000252\n",
       "1559940  98670235000195\n",
       "1559941  98670656000116\n",
       "1559942  98674195000150\n",
       "\n",
       "[1559943 rows x 1 columns]"
      ]
     },
     "execution_count": 2,
     "metadata": {},
     "output_type": "execute_result"
    }
   ],
   "source": [
    "# IMPORTAÇÃO DA BASE DE EMPRESAS ROTULADAS\n",
    "empresas_rotuladas_df = pd.read_csv(r'C:\\DATASETS\\Empresas Rotuladas\\empresas_rotuladas.csv', dtype=str, usecols=['cnpj'])\n",
    "empresas_rotuladas_df"
   ]
  },
  {
   "cell_type": "markdown",
   "metadata": {},
   "source": [
    "### Junção com a base de pessoas que receberam recursos do governo federal:"
   ]
  },
  {
   "cell_type": "code",
   "execution_count": 3,
   "metadata": {},
   "outputs": [
    {
     "data": {
      "text/html": [
       "<div>\n",
       "<style scoped>\n",
       "    .dataframe tbody tr th:only-of-type {\n",
       "        vertical-align: middle;\n",
       "    }\n",
       "\n",
       "    .dataframe tbody tr th {\n",
       "        vertical-align: top;\n",
       "    }\n",
       "\n",
       "    .dataframe thead th {\n",
       "        text-align: right;\n",
       "    }\n",
       "</style>\n",
       "<table border=\"1\" class=\"dataframe\">\n",
       "  <thead>\n",
       "    <tr style=\"text-align: right;\">\n",
       "      <th></th>\n",
       "      <th>Código Favorecido</th>\n",
       "      <th>recebimento_recurso_governo_federal</th>\n",
       "    </tr>\n",
       "  </thead>\n",
       "  <tbody>\n",
       "    <tr>\n",
       "      <td>0</td>\n",
       "      <td>***000000**</td>\n",
       "      <td>-468.52</td>\n",
       "    </tr>\n",
       "    <tr>\n",
       "      <td>1</td>\n",
       "      <td>***000000**</td>\n",
       "      <td>4582.54</td>\n",
       "    </tr>\n",
       "    <tr>\n",
       "      <td>2</td>\n",
       "      <td>***000000**</td>\n",
       "      <td>218793.06</td>\n",
       "    </tr>\n",
       "    <tr>\n",
       "      <td>3</td>\n",
       "      <td>***000000**</td>\n",
       "      <td>800.0</td>\n",
       "    </tr>\n",
       "    <tr>\n",
       "      <td>4</td>\n",
       "      <td>***000000**</td>\n",
       "      <td>6400.0</td>\n",
       "    </tr>\n",
       "    <tr>\n",
       "      <td>...</td>\n",
       "      <td>...</td>\n",
       "      <td>...</td>\n",
       "    </tr>\n",
       "    <tr>\n",
       "      <td>3805117</td>\n",
       "      <td>98671597000362</td>\n",
       "      <td>208.1</td>\n",
       "    </tr>\n",
       "    <tr>\n",
       "      <td>3805118</td>\n",
       "      <td>98674401000121</td>\n",
       "      <td>4000.0</td>\n",
       "    </tr>\n",
       "    <tr>\n",
       "      <td>3805119</td>\n",
       "      <td>98675598000113</td>\n",
       "      <td>11160.0</td>\n",
       "    </tr>\n",
       "    <tr>\n",
       "      <td>3805120</td>\n",
       "      <td>98714876000102</td>\n",
       "      <td>349600.0</td>\n",
       "    </tr>\n",
       "    <tr>\n",
       "      <td>3805121</td>\n",
       "      <td>98749864000105</td>\n",
       "      <td>14.569999999999999</td>\n",
       "    </tr>\n",
       "  </tbody>\n",
       "</table>\n",
       "<p>3805122 rows × 2 columns</p>\n",
       "</div>"
      ],
      "text/plain": [
       "        Código Favorecido recebimento_recurso_governo_federal\n",
       "0             ***000000**                             -468.52\n",
       "1             ***000000**                             4582.54\n",
       "2             ***000000**                           218793.06\n",
       "3             ***000000**                               800.0\n",
       "4             ***000000**                              6400.0\n",
       "...                   ...                                 ...\n",
       "3805117    98671597000362                               208.1\n",
       "3805118    98674401000121                              4000.0\n",
       "3805119    98675598000113                             11160.0\n",
       "3805120    98714876000102                            349600.0\n",
       "3805121    98749864000105                  14.569999999999999\n",
       "\n",
       "[3805122 rows x 2 columns]"
      ]
     },
     "execution_count": 3,
     "metadata": {},
     "output_type": "execute_result"
    }
   ],
   "source": [
    "# IMPORTAÇÃO DA BASE DE RECEBIMENTO DE RECURSOS DO GOVERNO\n",
    "recursos_governo_df = pd.read_csv(r'C:\\DATASETS\\Recebimento Recursos Governo Federal\\recebimento_recursos_governo-consolidado.csv', dtype=str, usecols=['Código Favorecido', 'recebimento_recurso_governo_federal'])\n",
    "recursos_governo_df"
   ]
  },
  {
   "cell_type": "code",
   "execution_count": 4,
   "metadata": {},
   "outputs": [
    {
     "data": {
      "text/plain": [
       "(355625, 2)"
      ]
     },
     "execution_count": 4,
     "metadata": {},
     "output_type": "execute_result"
    }
   ],
   "source": [
    "# Só nos interessa os CNPJs:\n",
    "recursos_governo_df = recursos_governo_df[recursos_governo_df['Código Favorecido'].str.len()==14]\n",
    "recursos_governo_df.shape"
   ]
  },
  {
   "cell_type": "code",
   "execution_count": 5,
   "metadata": {},
   "outputs": [
    {
     "name": "stdout",
     "output_type": "stream",
     "text": [
      "(15370, 2)\n",
      "1772834232819.9192\n",
      "                   cnpj  empresa_recurso_recebido_governo_federal\n",
      "0        00000942000170                                      0.00\n",
      "1        00001102000121                                      0.00\n",
      "2        00005201000181                                      0.00\n",
      "3        00005201000262                                      0.00\n",
      "4        00010501000159                                      0.00\n",
      "...                 ...                                       ...\n",
      "1559938  98593668000194                                   5818.65\n",
      "1559939  98669997000252                                      0.00\n",
      "1559940  98670235000195                                      0.00\n",
      "1559941  98670656000116                                      0.00\n",
      "1559942  98674195000150                                      0.00\n",
      "\n",
      "[1559943 rows x 2 columns]\n"
     ]
    }
   ],
   "source": [
    "# Rotula as empresas\n",
    "empresas_rotuladas_df['empresa_recurso_recebido_governo_federal'] = empresas_rotuladas_df.merge(recursos_governo_df, left_on='cnpj', right_on='Código Favorecido', how='left')['recebimento_recurso_governo_federal'].astype(float)\n",
    "empresas_rotuladas_df = empresas_rotuladas_df.fillna({'empresa_recurso_recebido_governo_federal': 0})\n",
    "print(empresas_rotuladas_df[empresas_rotuladas_df.empresa_recurso_recebido_governo_federal>0].shape)\n",
    "print(empresas_rotuladas_df.empresa_recurso_recebido_governo_federal.sum())\n",
    "print(empresas_rotuladas_df)"
   ]
  },
  {
   "cell_type": "code",
   "execution_count": 6,
   "metadata": {},
   "outputs": [
    {
     "data": {
      "text/plain": [
       "2742594509955.969"
      ]
     },
     "execution_count": 6,
     "metadata": {},
     "output_type": "execute_result"
    }
   ],
   "source": [
    "# Apenas para comparar com a base completa de recursos recebidos por PJ:\n",
    "recursos_governo_df['recebimento_recurso_governo_federal'].astype(float).sum()"
   ]
  },
  {
   "cell_type": "code",
   "execution_count": 7,
   "metadata": {},
   "outputs": [
    {
     "data": {
      "text/plain": [
       "64.64077086074167"
      ]
     },
     "execution_count": 7,
     "metadata": {},
     "output_type": "execute_result"
    }
   ],
   "source": [
    "1772834232819.9192 * 100 / 2742594509955.969"
   ]
  },
  {
   "cell_type": "markdown",
   "metadata": {},
   "source": [
    "As empresas rotuladas correspondem a 64% dos recursos recebidos por empresas."
   ]
  },
  {
   "cell_type": "code",
   "execution_count": 8,
   "metadata": {},
   "outputs": [],
   "source": [
    "# Salvando resultado:\n",
    "empresas_rotuladas_df.to_csv(r'C:\\DATASETS\\Empresas Rotuladas\\empresas_rotuladas-recebimento_recurso_governo_federal.csv', index = False)"
   ]
  }
 ],
 "metadata": {
  "kernelspec": {
   "display_name": "Python 3",
   "language": "python",
   "name": "python3"
  },
  "language_info": {
   "codemirror_mode": {
    "name": "ipython",
    "version": 3
   },
   "file_extension": ".py",
   "mimetype": "text/x-python",
   "name": "python",
   "nbconvert_exporter": "python",
   "pygments_lexer": "ipython3",
   "version": "3.7.4"
  }
 },
 "nbformat": 4,
 "nbformat_minor": 2
}
