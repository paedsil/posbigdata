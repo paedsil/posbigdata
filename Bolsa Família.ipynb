{
 "cells": [
  {
   "cell_type": "code",
   "execution_count": 1,
   "metadata": {},
   "outputs": [],
   "source": [
    "import pandas as pd\n",
    "import numpy as np\n",
    "import glob"
   ]
  },
  {
   "cell_type": "code",
   "execution_count": 2,
   "metadata": {},
   "outputs": [],
   "source": [
    "fields = [\"CPF FAVORECIDO\",\"NOME FAVORECIDO\"]\n",
    "fields_dtype = {\"CPF FAVORECIDO\": str, \"NOME FAVORECIDO\": str}"
   ]
  },
  {
   "cell_type": "code",
   "execution_count": 4,
   "metadata": {
    "scrolled": true
   },
   "outputs": [
    {
     "name": "stdout",
     "output_type": "stream",
     "text": [
      "202001_BolsaFamilia_Pagamentos.csv\n",
      "  > Append...\n",
      "  > Duplicates...\n",
      "202002_BolsaFamilia_Pagamentos.csv\n",
      "  > Append...\n",
      "  > Duplicates...\n",
      "202003_BolsaFamilia_Pagamentos.csv\n",
      "  > Append...\n",
      "  > Duplicates...\n",
      "202004_BolsaFamilia_Pagamentos.csv\n",
      "  > Append...\n",
      "  > Duplicates...\n",
      "202005_BolsaFamilia_Pagamentos.csv\n",
      "  > Append...\n",
      "  > Duplicates...\n",
      "202006_BolsaFamilia_Pagamentos.csv\n",
      "  > Append...\n",
      "  > Duplicates...\n",
      "202007_BolsaFamilia_Pagamentos.csv\n",
      "  > Append...\n",
      "  > Duplicates...\n",
      "202008_BolsaFamilia_Pagamentos.csv\n",
      "  > Append...\n",
      "  > Duplicates...\n",
      "202009_BolsaFamilia_Pagamentos.csv\n",
      "  > Append...\n",
      "  > Duplicates...\n",
      "202010_BolsaFamilia_Pagamentos.csv\n",
      "  > Append...\n",
      "  > Duplicates...\n",
      "202011_BolsaFamilia_Pagamentos.csv\n",
      "  > Append...\n",
      "  > Duplicates...\n",
      "202012_BolsaFamilia_Pagamentos.csv\n",
      "  > Append...\n",
      "  > Duplicates...\n"
     ]
    },
    {
     "data": {
      "text/plain": [
       "<bound method NDFrame.describe of           CPF FAVORECIDO                    NOME FAVORECIDO\n",
       "0         ***.361.206-**              ADRIANA RANGEL SANSAO\n",
       "1         ***.421.636-**            ALEXSANDRA PEREIRA MUTZ\n",
       "2         ***.770.636-**        ELIANA CRISTINA ROCHA SILVA\n",
       "3         ***.331.186-**                     ELIANE PEREIRA\n",
       "4         ***.594.436-**    IOLANDA DE ASSIS SILVA CESARINO\n",
       "...                  ...                                ...\n",
       "29052568  ***.375.561-**   LUCIMAR GONCALVES DE SOUZA COSTA\n",
       "29054397  ***.314.221-**         RAIMUNDA ARAUJO DO ROSARIO\n",
       "29055672  ***.457.631-**   REGINA CELIA BERNARDO DOS SANTOS\n",
       "29064045  ***.400.361-**     RENIANE GOMES DE OLIVEIRA LEAL\n",
       "29064915  ***.153.991-**  ANA PAULA BRITO PACHECO FERNANDES\n",
       "\n",
       "[14799810 rows x 2 columns]>"
      ]
     },
     "execution_count": 4,
     "metadata": {},
     "output_type": "execute_result"
    }
   ],
   "source": [
    "# IMPORTAÇÃO DOS ARQUIVOS CSV\n",
    "\n",
    "path = r'C:\\DATASETS\\Bolsa Família\\1-Arquivos Baixados'\n",
    "all_files = glob.glob(path + \"/*.csv\")\n",
    "\n",
    "bolsa_familia_df  = pd.DataFrame(columns=fields)\n",
    "for filename in all_files:\n",
    "    print(filename.rsplit('\\\\',1)[1])\n",
    "    temp_df = pd.read_csv(filename, index_col=None, header=0, sep=';', \n",
    "                encoding='ANSI', dtype=fields_dtype, usecols=fields)\n",
    "    \n",
    "    print('  > Append...')\n",
    "    bolsa_familia_df = bolsa_familia_df.append(temp_df, ignore_index=True)\n",
    "    print('  > Duplicates...')\n",
    "    bolsa_familia_df = bolsa_familia_df.drop_duplicates()\n",
    "\n",
    "bolsa_familia_df.describe"
   ]
  },
  {
   "cell_type": "code",
   "execution_count": 5,
   "metadata": {
    "scrolled": true
   },
   "outputs": [
    {
     "data": {
      "text/html": [
       "<div>\n",
       "<style scoped>\n",
       "    .dataframe tbody tr th:only-of-type {\n",
       "        vertical-align: middle;\n",
       "    }\n",
       "\n",
       "    .dataframe tbody tr th {\n",
       "        vertical-align: top;\n",
       "    }\n",
       "\n",
       "    .dataframe thead th {\n",
       "        text-align: right;\n",
       "    }\n",
       "</style>\n",
       "<table border=\"1\" class=\"dataframe\">\n",
       "  <thead>\n",
       "    <tr style=\"text-align: right;\">\n",
       "      <th></th>\n",
       "      <th>CPF FAVORECIDO</th>\n",
       "      <th>NOME FAVORECIDO</th>\n",
       "    </tr>\n",
       "  </thead>\n",
       "  <tbody>\n",
       "    <tr>\n",
       "      <td>0</td>\n",
       "      <td>***.361.206-**</td>\n",
       "      <td>ADRIANA RANGEL SANSAO</td>\n",
       "    </tr>\n",
       "    <tr>\n",
       "      <td>1</td>\n",
       "      <td>***.421.636-**</td>\n",
       "      <td>ALEXSANDRA PEREIRA MUTZ</td>\n",
       "    </tr>\n",
       "    <tr>\n",
       "      <td>2</td>\n",
       "      <td>***.770.636-**</td>\n",
       "      <td>ELIANA CRISTINA ROCHA SILVA</td>\n",
       "    </tr>\n",
       "    <tr>\n",
       "      <td>3</td>\n",
       "      <td>***.331.186-**</td>\n",
       "      <td>ELIANE PEREIRA</td>\n",
       "    </tr>\n",
       "    <tr>\n",
       "      <td>4</td>\n",
       "      <td>***.594.436-**</td>\n",
       "      <td>IOLANDA DE ASSIS SILVA CESARINO</td>\n",
       "    </tr>\n",
       "    <tr>\n",
       "      <td>...</td>\n",
       "      <td>...</td>\n",
       "      <td>...</td>\n",
       "    </tr>\n",
       "    <tr>\n",
       "      <td>29052568</td>\n",
       "      <td>***.375.561-**</td>\n",
       "      <td>LUCIMAR GONCALVES DE SOUZA COSTA</td>\n",
       "    </tr>\n",
       "    <tr>\n",
       "      <td>29054397</td>\n",
       "      <td>***.314.221-**</td>\n",
       "      <td>RAIMUNDA ARAUJO DO ROSARIO</td>\n",
       "    </tr>\n",
       "    <tr>\n",
       "      <td>29055672</td>\n",
       "      <td>***.457.631-**</td>\n",
       "      <td>REGINA CELIA BERNARDO DOS SANTOS</td>\n",
       "    </tr>\n",
       "    <tr>\n",
       "      <td>29064045</td>\n",
       "      <td>***.400.361-**</td>\n",
       "      <td>RENIANE GOMES DE OLIVEIRA LEAL</td>\n",
       "    </tr>\n",
       "    <tr>\n",
       "      <td>29064915</td>\n",
       "      <td>***.153.991-**</td>\n",
       "      <td>ANA PAULA BRITO PACHECO FERNANDES</td>\n",
       "    </tr>\n",
       "  </tbody>\n",
       "</table>\n",
       "<p>14799810 rows × 2 columns</p>\n",
       "</div>"
      ],
      "text/plain": [
       "          CPF FAVORECIDO                    NOME FAVORECIDO\n",
       "0         ***.361.206-**              ADRIANA RANGEL SANSAO\n",
       "1         ***.421.636-**            ALEXSANDRA PEREIRA MUTZ\n",
       "2         ***.770.636-**        ELIANA CRISTINA ROCHA SILVA\n",
       "3         ***.331.186-**                     ELIANE PEREIRA\n",
       "4         ***.594.436-**    IOLANDA DE ASSIS SILVA CESARINO\n",
       "...                  ...                                ...\n",
       "29052568  ***.375.561-**   LUCIMAR GONCALVES DE SOUZA COSTA\n",
       "29054397  ***.314.221-**         RAIMUNDA ARAUJO DO ROSARIO\n",
       "29055672  ***.457.631-**   REGINA CELIA BERNARDO DOS SANTOS\n",
       "29064045  ***.400.361-**     RENIANE GOMES DE OLIVEIRA LEAL\n",
       "29064915  ***.153.991-**  ANA PAULA BRITO PACHECO FERNANDES\n",
       "\n",
       "[14799810 rows x 2 columns]"
      ]
     },
     "execution_count": 5,
     "metadata": {},
     "output_type": "execute_result"
    }
   ],
   "source": [
    "# Removemos os nomes nulos:\n",
    "bolsa_familia_df = bolsa_familia_df.dropna(subset=['NOME FAVORECIDO'])\n",
    "bolsa_familia_df"
   ]
  },
  {
   "cell_type": "code",
   "execution_count": 7,
   "metadata": {
    "scrolled": true
   },
   "outputs": [
    {
     "data": {
      "text/html": [
       "<div>\n",
       "<style scoped>\n",
       "    .dataframe tbody tr th:only-of-type {\n",
       "        vertical-align: middle;\n",
       "    }\n",
       "\n",
       "    .dataframe tbody tr th {\n",
       "        vertical-align: top;\n",
       "    }\n",
       "\n",
       "    .dataframe thead th {\n",
       "        text-align: right;\n",
       "    }\n",
       "</style>\n",
       "<table border=\"1\" class=\"dataframe\">\n",
       "  <thead>\n",
       "    <tr style=\"text-align: right;\">\n",
       "      <th></th>\n",
       "      <th>CPF FAVORECIDO</th>\n",
       "      <th>NOME FAVORECIDO</th>\n",
       "    </tr>\n",
       "  </thead>\n",
       "  <tbody>\n",
       "    <tr>\n",
       "      <td>0</td>\n",
       "      <td>***.361.206-**</td>\n",
       "      <td>ADRIANA RANGEL SANSAO</td>\n",
       "    </tr>\n",
       "    <tr>\n",
       "      <td>1</td>\n",
       "      <td>***.421.636-**</td>\n",
       "      <td>ALEXSANDRA PEREIRA MUTZ</td>\n",
       "    </tr>\n",
       "    <tr>\n",
       "      <td>2</td>\n",
       "      <td>***.770.636-**</td>\n",
       "      <td>ELIANA CRISTINA ROCHA SILVA</td>\n",
       "    </tr>\n",
       "    <tr>\n",
       "      <td>3</td>\n",
       "      <td>***.331.186-**</td>\n",
       "      <td>ELIANE PEREIRA</td>\n",
       "    </tr>\n",
       "    <tr>\n",
       "      <td>4</td>\n",
       "      <td>***.594.436-**</td>\n",
       "      <td>IOLANDA DE ASSIS SILVA CESARINO</td>\n",
       "    </tr>\n",
       "    <tr>\n",
       "      <td>...</td>\n",
       "      <td>...</td>\n",
       "      <td>...</td>\n",
       "    </tr>\n",
       "    <tr>\n",
       "      <td>29052568</td>\n",
       "      <td>***.375.561-**</td>\n",
       "      <td>LUCIMAR GONCALVES DE SOUZA COSTA</td>\n",
       "    </tr>\n",
       "    <tr>\n",
       "      <td>29054397</td>\n",
       "      <td>***.314.221-**</td>\n",
       "      <td>RAIMUNDA ARAUJO DO ROSARIO</td>\n",
       "    </tr>\n",
       "    <tr>\n",
       "      <td>29055672</td>\n",
       "      <td>***.457.631-**</td>\n",
       "      <td>REGINA CELIA BERNARDO DOS SANTOS</td>\n",
       "    </tr>\n",
       "    <tr>\n",
       "      <td>29064045</td>\n",
       "      <td>***.400.361-**</td>\n",
       "      <td>RENIANE GOMES DE OLIVEIRA LEAL</td>\n",
       "    </tr>\n",
       "    <tr>\n",
       "      <td>29064915</td>\n",
       "      <td>***.153.991-**</td>\n",
       "      <td>ANA PAULA BRITO PACHECO FERNANDES</td>\n",
       "    </tr>\n",
       "  </tbody>\n",
       "</table>\n",
       "<p>14617744 rows × 2 columns</p>\n",
       "</div>"
      ],
      "text/plain": [
       "          CPF FAVORECIDO                    NOME FAVORECIDO\n",
       "0         ***.361.206-**              ADRIANA RANGEL SANSAO\n",
       "1         ***.421.636-**            ALEXSANDRA PEREIRA MUTZ\n",
       "2         ***.770.636-**        ELIANA CRISTINA ROCHA SILVA\n",
       "3         ***.331.186-**                     ELIANE PEREIRA\n",
       "4         ***.594.436-**    IOLANDA DE ASSIS SILVA CESARINO\n",
       "...                  ...                                ...\n",
       "29052568  ***.375.561-**   LUCIMAR GONCALVES DE SOUZA COSTA\n",
       "29054397  ***.314.221-**         RAIMUNDA ARAUJO DO ROSARIO\n",
       "29055672  ***.457.631-**   REGINA CELIA BERNARDO DOS SANTOS\n",
       "29064045  ***.400.361-**     RENIANE GOMES DE OLIVEIRA LEAL\n",
       "29064915  ***.153.991-**  ANA PAULA BRITO PACHECO FERNANDES\n",
       "\n",
       "[14617744 rows x 2 columns]"
      ]
     },
     "execution_count": 7,
     "metadata": {},
     "output_type": "execute_result"
    }
   ],
   "source": [
    "# Removemos os CPFs nulos:\n",
    "bolsa_familia_df = bolsa_familia_df.dropna(subset=['CPF FAVORECIDO'])\n",
    "bolsa_familia_df"
   ]
  },
  {
   "cell_type": "code",
   "execution_count": 8,
   "metadata": {},
   "outputs": [
    {
     "data": {
      "text/plain": [
       "14    14617744\n",
       "Name: CPF FAVORECIDO, dtype: int64"
      ]
     },
     "execution_count": 8,
     "metadata": {},
     "output_type": "execute_result"
    }
   ],
   "source": [
    "# Avaliando o que tem no campo de cpf favorecido:\n",
    "bolsa_familia_df['CPF FAVORECIDO'].str.len().value_counts()"
   ]
  },
  {
   "cell_type": "code",
   "execution_count": 9,
   "metadata": {},
   "outputs": [
    {
     "name": "stderr",
     "output_type": "stream",
     "text": [
      "C:\\ProgramData\\Anaconda3\\lib\\site-packages\\ipykernel_launcher.py:2: SettingWithCopyWarning: \n",
      "A value is trying to be set on a copy of a slice from a DataFrame.\n",
      "Try using .loc[row_indexer,col_indexer] = value instead\n",
      "\n",
      "See the caveats in the documentation: http://pandas.pydata.org/pandas-docs/stable/user_guide/indexing.html#returning-a-view-versus-a-copy\n",
      "  \n"
     ]
    },
    {
     "data": {
      "text/plain": [
       "11    14617744\n",
       "Name: CPF FAVORECIDO, dtype: int64"
      ]
     },
     "execution_count": 9,
     "metadata": {},
     "output_type": "execute_result"
    }
   ],
   "source": [
    "# Limpa os CPFs:\n",
    "bolsa_familia_df['CPF FAVORECIDO'] = bolsa_familia_df['CPF FAVORECIDO'].str.replace('[\\.\\-]', '', regex=True)\n",
    "bolsa_familia_df['CPF FAVORECIDO'].str.len().value_counts()"
   ]
  },
  {
   "cell_type": "markdown",
   "metadata": {},
   "source": [
    "Quantidade conforme cálculo feito anteriormente."
   ]
  },
  {
   "cell_type": "code",
   "execution_count": 10,
   "metadata": {
    "scrolled": true
   },
   "outputs": [
    {
     "data": {
      "text/html": [
       "<div>\n",
       "<style scoped>\n",
       "    .dataframe tbody tr th:only-of-type {\n",
       "        vertical-align: middle;\n",
       "    }\n",
       "\n",
       "    .dataframe tbody tr th {\n",
       "        vertical-align: top;\n",
       "    }\n",
       "\n",
       "    .dataframe thead th {\n",
       "        text-align: right;\n",
       "    }\n",
       "</style>\n",
       "<table border=\"1\" class=\"dataframe\">\n",
       "  <thead>\n",
       "    <tr style=\"text-align: right;\">\n",
       "      <th></th>\n",
       "      <th>CPF FAVORECIDO</th>\n",
       "      <th>NOME FAVORECIDO</th>\n",
       "    </tr>\n",
       "  </thead>\n",
       "  <tbody>\n",
       "    <tr>\n",
       "      <td>0</td>\n",
       "      <td>***361206**</td>\n",
       "      <td>ADRIANA RANGEL SANSAO</td>\n",
       "    </tr>\n",
       "    <tr>\n",
       "      <td>1</td>\n",
       "      <td>***421636**</td>\n",
       "      <td>ALEXSANDRA PEREIRA MUTZ</td>\n",
       "    </tr>\n",
       "    <tr>\n",
       "      <td>2</td>\n",
       "      <td>***770636**</td>\n",
       "      <td>ELIANA CRISTINA ROCHA SILVA</td>\n",
       "    </tr>\n",
       "    <tr>\n",
       "      <td>3</td>\n",
       "      <td>***331186**</td>\n",
       "      <td>ELIANE PEREIRA</td>\n",
       "    </tr>\n",
       "    <tr>\n",
       "      <td>4</td>\n",
       "      <td>***594436**</td>\n",
       "      <td>IOLANDA DE ASSIS SILVA CESARINO</td>\n",
       "    </tr>\n",
       "    <tr>\n",
       "      <td>...</td>\n",
       "      <td>...</td>\n",
       "      <td>...</td>\n",
       "    </tr>\n",
       "    <tr>\n",
       "      <td>29052568</td>\n",
       "      <td>***375561**</td>\n",
       "      <td>LUCIMAR GONCALVES DE SOUZA COSTA</td>\n",
       "    </tr>\n",
       "    <tr>\n",
       "      <td>29054397</td>\n",
       "      <td>***314221**</td>\n",
       "      <td>RAIMUNDA ARAUJO DO ROSARIO</td>\n",
       "    </tr>\n",
       "    <tr>\n",
       "      <td>29055672</td>\n",
       "      <td>***457631**</td>\n",
       "      <td>REGINA CELIA BERNARDO DOS SANTOS</td>\n",
       "    </tr>\n",
       "    <tr>\n",
       "      <td>29064045</td>\n",
       "      <td>***400361**</td>\n",
       "      <td>RENIANE GOMES DE OLIVEIRA LEAL</td>\n",
       "    </tr>\n",
       "    <tr>\n",
       "      <td>29064915</td>\n",
       "      <td>***153991**</td>\n",
       "      <td>ANA PAULA BRITO PACHECO FERNANDES</td>\n",
       "    </tr>\n",
       "  </tbody>\n",
       "</table>\n",
       "<p>14617744 rows × 2 columns</p>\n",
       "</div>"
      ],
      "text/plain": [
       "         CPF FAVORECIDO                    NOME FAVORECIDO\n",
       "0           ***361206**              ADRIANA RANGEL SANSAO\n",
       "1           ***421636**            ALEXSANDRA PEREIRA MUTZ\n",
       "2           ***770636**        ELIANA CRISTINA ROCHA SILVA\n",
       "3           ***331186**                     ELIANE PEREIRA\n",
       "4           ***594436**    IOLANDA DE ASSIS SILVA CESARINO\n",
       "...                 ...                                ...\n",
       "29052568    ***375561**   LUCIMAR GONCALVES DE SOUZA COSTA\n",
       "29054397    ***314221**         RAIMUNDA ARAUJO DO ROSARIO\n",
       "29055672    ***457631**   REGINA CELIA BERNARDO DOS SANTOS\n",
       "29064045    ***400361**     RENIANE GOMES DE OLIVEIRA LEAL\n",
       "29064915    ***153991**  ANA PAULA BRITO PACHECO FERNANDES\n",
       "\n",
       "[14617744 rows x 2 columns]"
      ]
     },
     "execution_count": 10,
     "metadata": {},
     "output_type": "execute_result"
    }
   ],
   "source": [
    "bolsa_familia_df"
   ]
  },
  {
   "cell_type": "code",
   "execution_count": 11,
   "metadata": {},
   "outputs": [
    {
     "name": "stderr",
     "output_type": "stream",
     "text": [
      "C:\\ProgramData\\Anaconda3\\lib\\site-packages\\pandas\\core\\frame.py:4223: SettingWithCopyWarning: \n",
      "A value is trying to be set on a copy of a slice from a DataFrame\n",
      "\n",
      "See the caveats in the documentation: http://pandas.pydata.org/pandas-docs/stable/user_guide/indexing.html#returning-a-view-versus-a-copy\n",
      "  return super().rename(**kwargs)\n"
     ]
    }
   ],
   "source": [
    "bolsa_familia_df.rename(columns={'CPF FAVORECIDO': 'CPF', 'NOME FAVORECIDO': 'nome_favorecido'}, inplace=True)"
   ]
  },
  {
   "cell_type": "code",
   "execution_count": 12,
   "metadata": {},
   "outputs": [],
   "source": [
    "# Salvando resultado final:\n",
    "bolsa_familia_df.to_csv(r'C:\\DATASETS\\Bolsa Família\\bolsa_familia.csv', index=False)"
   ]
  }
 ],
 "metadata": {
  "kernelspec": {
   "display_name": "Python 3",
   "language": "python",
   "name": "python3"
  },
  "language_info": {
   "codemirror_mode": {
    "name": "ipython",
    "version": 3
   },
   "file_extension": ".py",
   "mimetype": "text/x-python",
   "name": "python",
   "nbconvert_exporter": "python",
   "pygments_lexer": "ipython3",
   "version": "3.7.4"
  }
 },
 "nbformat": 4,
 "nbformat_minor": 2
}
