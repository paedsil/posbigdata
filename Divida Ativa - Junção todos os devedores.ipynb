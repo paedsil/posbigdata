{
 "cells": [
  {
   "cell_type": "code",
   "execution_count": 1,
   "metadata": {},
   "outputs": [],
   "source": [
    "import pandas as pd\n",
    "import numpy as np\n",
    "import glob"
   ]
  },
  {
   "cell_type": "markdown",
   "metadata": {},
   "source": [
    "A base de dívida ativa servirá para rotular as empresas que estão inscritas na dívida e também as empresas que possuem sócios inscritos em dívida. \n",
    "Para esse propósito de rotulagem, precisamos apenas das colunas CPF_CNPJ e NOME_DEVEDOR. Esta é necessária porque o CPF informado não é completo e será necessário o nome da pessoa física para junção com outras bases. Não é necessário distinguir o tipo de dívida."
   ]
  },
  {
   "cell_type": "code",
   "execution_count": 2,
   "metadata": {},
   "outputs": [],
   "source": [
    "fields = [\"CPF_CNPJ\", \"NOME_DEVEDOR\"]\n",
    "fields_dtype = {\"CPF_CNPJ\": \"str\", \"NOME_DEVEDOR\": \"str\"}"
   ]
  },
  {
   "cell_type": "code",
   "execution_count": 3,
   "metadata": {},
   "outputs": [
    {
     "data": {
      "text/plain": [
       "<bound method NDFrame.describe of                     CPF_CNPJ                                NOME_DEVEDOR\n",
       "0               XXX464.712XX            ERISVANDO TORQUATO DO NASCIMENTO\n",
       "1         04.718.079/0001-41                                 I. B. SOUSA\n",
       "2               XXX468.172XX                    CLAUDIO BRANDAO DA SILVA\n",
       "3         05.395.942/0001-30          DISTRIBUIDORA VALE DO GUAPORE LTDA\n",
       "4               XXX117.482XX             SEBASTIAO PEREIRA DO NASCIMENTO\n",
       "...                      ...                                         ...\n",
       "18001159  02.877.801/0001-65        AGROPALMAS AGROPECUARIA DO PALMAS SA\n",
       "18001160        XXX955.691XX                MARIA COTINHA VIEIRA RIBEIRO\n",
       "18001161        XXX372.269XX                               ALCIDES SERPA\n",
       "18001162  07.272.618/0001-50  LDM Consultoria em Gestao Empresarial LTDA\n",
       "18001163  36.999.985/0001-58     PETROLIMA COMERCIO DE COMBUSTIVEIS LTDA\n",
       "\n",
       "[18001164 rows x 2 columns]>"
      ]
     },
     "execution_count": 3,
     "metadata": {},
     "output_type": "execute_result"
    }
   ],
   "source": [
    "# IMPORTAÇÃO DOS ARQUIVOS CSV DA DIVIDA NÃO PREVIDENCIÁRIA\n",
    "\n",
    "path = r'C:\\DATASETS\\Divida_Ativa\\Nao_Previdenciario'\n",
    "all_files = glob.glob(path + \"/*.csv\")\n",
    "\n",
    "li = []\n",
    "\n",
    "for filename in all_files:\n",
    "    temp_df = pd.read_csv(filename, index_col=None, header=0, sep=';', encoding='ANSI', dtype=fields_dtype, usecols=fields)\n",
    "    li.append(temp_df)\n",
    "\n",
    "# Concatena o resultado no dataframe\n",
    "divida_df = pd.concat(li, axis=0, ignore_index=True)\n",
    "\n",
    "divida_df.describe"
   ]
  },
  {
   "cell_type": "code",
   "execution_count": 4,
   "metadata": {},
   "outputs": [
    {
     "data": {
      "text/plain": [
       "<bound method NDFrame.describe of                     CPF_CNPJ                               NOME_DEVEDOR\n",
       "0               XXX464.712XX           ERISVANDO TORQUATO DO NASCIMENTO\n",
       "1         04.718.079/0001-41                                I. B. SOUSA\n",
       "2               XXX468.172XX                   CLAUDIO BRANDAO DA SILVA\n",
       "3         05.395.942/0001-30         DISTRIBUIDORA VALE DO GUAPORE LTDA\n",
       "4               XXX117.482XX            SEBASTIAO PEREIRA DO NASCIMENTO\n",
       "...                      ...                                        ...\n",
       "18436109  00.770.420/0001-57        BALTAZAR ANTONIO DA SILVA O MINEIRO\n",
       "18436110  04.769.913/0001-28                       MOURA & REZENDE LTDA\n",
       "18436111  03.389.184/0001-11                          S. G. JORGE COSTA\n",
       "18436112  03.389.184/0001-11                          S. G. JORGE COSTA\n",
       "18436113  26.632.547/0001-01  ADRIANO F DA SILVA PRODUTOS FARMACEUTICOS\n",
       "\n",
       "[18436114 rows x 2 columns]>"
      ]
     },
     "execution_count": 4,
     "metadata": {},
     "output_type": "execute_result"
    }
   ],
   "source": [
    "# IMPORTAÇÃO DOS ARQUIVOS CSV DA DIVIDA FGTS\n",
    "\n",
    "path = r'C:\\DATASETS\\Divida_Ativa\\FGTS'\n",
    "all_files = glob.glob(path + \"/*.csv\")\n",
    "\n",
    "li = []\n",
    "\n",
    "for filename in all_files:\n",
    "    temp_df = pd.read_csv(filename, index_col=None, header=0, sep=';', encoding='ANSI', dtype=fields_dtype, usecols=fields)\n",
    "    li.append(temp_df)\n",
    "\n",
    "# Concatena o resultado no dataframe\n",
    "divida_df = pd.concat([divida_df, pd.concat(li)], ignore_index=True)\n",
    "                       \n",
    "divida_df.describe"
   ]
  },
  {
   "cell_type": "code",
   "execution_count": 5,
   "metadata": {},
   "outputs": [
    {
     "data": {
      "text/plain": [
       "<bound method NDFrame.describe of                     CPF_CNPJ  \\\n",
       "0               XXX464.712XX   \n",
       "1         04.718.079/0001-41   \n",
       "2               XXX468.172XX   \n",
       "3         05.395.942/0001-30   \n",
       "4               XXX117.482XX   \n",
       "...                      ...   \n",
       "23508566  13.758.946/0001-63   \n",
       "23508567  12.967.577/0001-56   \n",
       "23508568  25.086.695/0001-05   \n",
       "23508569  25.086.695/0001-05   \n",
       "23508570  25.086.695/0001-05   \n",
       "\n",
       "                                               NOME_DEVEDOR  \n",
       "0                          ERISVANDO TORQUATO DO NASCIMENTO  \n",
       "1                                               I. B. SOUSA  \n",
       "2                                  CLAUDIO BRANDAO DA SILVA  \n",
       "3                        DISTRIBUIDORA VALE DO GUAPORE LTDA  \n",
       "4                           SEBASTIAO PEREIRA DO NASCIMENTO  \n",
       "...                                                     ...  \n",
       "23508566                          ROSANA MESQUITA FERNANDES  \n",
       "23508567  AM E FILHOS COMERCIO DE MATERIAIS PARA CONSTRU...  \n",
       "23508568                            JOSE BONIFACIO SOBRINHO  \n",
       "23508569                            JOSE BONIFACIO SOBRINHO  \n",
       "23508570                            JOSE BONIFACIO SOBRINHO  \n",
       "\n",
       "[23508571 rows x 2 columns]>"
      ]
     },
     "execution_count": 5,
     "metadata": {},
     "output_type": "execute_result"
    }
   ],
   "source": [
    "# IMPORTAÇÃO DOS ARQUIVOS CSV DA DIVIDA PREVIDENCIÁRIA\n",
    "\n",
    "path = r'C:\\DATASETS\\Divida_Ativa\\Previdenciario'\n",
    "all_files = glob.glob(path + \"/*.csv\")\n",
    "\n",
    "li = []\n",
    "\n",
    "for filename in all_files:\n",
    "    temp_df = pd.read_csv(filename, index_col=None, header=0, sep=';', encoding='ANSI', dtype=fields_dtype, usecols=fields)\n",
    "    li.append(temp_df)\n",
    "\n",
    "# Concatena o resultado no dataframe\n",
    "divida_df = pd.concat([divida_df, pd.concat(li)], ignore_index=True, sort=False)\n",
    "                       \n",
    "divida_df.describe"
   ]
  },
  {
   "cell_type": "markdown",
   "metadata": {},
   "source": [
    "Observou-se que não foram gerados DtypeWarnings na importação dos arquivos, confirmando o mapeamento correto para os tipos das colunas, conforme analisado via dicionário de dados da base."
   ]
  },
  {
   "cell_type": "markdown",
   "metadata": {},
   "source": [
    "## Iniciando o processamento e tratamento dos dados:"
   ]
  },
  {
   "cell_type": "markdown",
   "metadata": {},
   "source": [
    "#### Obtendo mais informações sobre os dados:"
   ]
  },
  {
   "cell_type": "code",
   "execution_count": 6,
   "metadata": {
    "scrolled": true
   },
   "outputs": [
    {
     "name": "stdout",
     "output_type": "stream",
     "text": [
      "<class 'pandas.core.frame.DataFrame'>\n",
      "RangeIndex: 23508571 entries, 0 to 23508570\n",
      "Data columns (total 2 columns):\n",
      "CPF_CNPJ        object\n",
      "NOME_DEVEDOR    object\n",
      "dtypes: object(2)\n",
      "memory usage: 358.7+ MB\n"
     ]
    }
   ],
   "source": [
    "divida_df.info()"
   ]
  },
  {
   "cell_type": "markdown",
   "metadata": {},
   "source": [
    "#### Identificando percentual de valores ausentes por coluna:"
   ]
  },
  {
   "cell_type": "code",
   "execution_count": 7,
   "metadata": {},
   "outputs": [
    {
     "data": {
      "text/plain": [
       "NOME_DEVEDOR    0.0\n",
       "CPF_CNPJ        0.0\n",
       "dtype: float64"
      ]
     },
     "execution_count": 7,
     "metadata": {},
     "output_type": "execute_result"
    }
   ],
   "source": [
    "(divida_df.isnull().sum() / divida_df.shape[0] * 100).sort_values(ascending=False)"
   ]
  },
  {
   "cell_type": "markdown",
   "metadata": {},
   "source": [
    "Percebe-se que a base é bem completa, sem valores ausentes nas colunas selecionadas."
   ]
  },
  {
   "cell_type": "markdown",
   "metadata": {},
   "source": [
    "#### Verificando quantidade de valores únicos em cada coluna:"
   ]
  },
  {
   "cell_type": "code",
   "execution_count": 8,
   "metadata": {
    "scrolled": true
   },
   "outputs": [
    {
     "data": {
      "text/plain": [
       "CPF_CNPJ        3998123\n",
       "NOME_DEVEDOR    5141363\n",
       "dtype: int64"
      ]
     },
     "execution_count": 8,
     "metadata": {},
     "output_type": "execute_result"
    }
   ],
   "source": [
    "divida_df.nunique().sort_values()"
   ]
  },
  {
   "cell_type": "markdown",
   "metadata": {},
   "source": [
    "Como o objetivo dessa base processada é apenas para indicar se uma pessoa, física ou jurídica, consta como devedor da união, então podemos remover as tuplas duplicadas:"
   ]
  },
  {
   "cell_type": "code",
   "execution_count": 11,
   "metadata": {},
   "outputs": [],
   "source": [
    "divida_df.drop_duplicates(inplace=True)"
   ]
  },
  {
   "cell_type": "code",
   "execution_count": 17,
   "metadata": {},
   "outputs": [
    {
     "data": {
      "text/plain": [
       "<bound method NDFrame.describe of             index            CPF_CNPJ  \\\n",
       "0               0        XXX464.712XX   \n",
       "1               1  04.718.079/0001-41   \n",
       "2               2        XXX468.172XX   \n",
       "3               3  05.395.942/0001-30   \n",
       "4               4        XXX117.482XX   \n",
       "...           ...                 ...   \n",
       "5994589  23508539  11.966.821/0001-01   \n",
       "5994590  23508561  38.135.935/0001-58   \n",
       "5994591  23508566  13.758.946/0001-63   \n",
       "5994592  23508567  12.967.577/0001-56   \n",
       "5994593  23508568  25.086.695/0001-05   \n",
       "\n",
       "                                              NOME_DEVEDOR  \n",
       "0                         ERISVANDO TORQUATO DO NASCIMENTO  \n",
       "1                                              I. B. SOUSA  \n",
       "2                                 CLAUDIO BRANDAO DA SILVA  \n",
       "3                       DISTRIBUIDORA VALE DO GUAPORE LTDA  \n",
       "4                          SEBASTIAO PEREIRA DO NASCIMENTO  \n",
       "...                                                    ...  \n",
       "5994589                       WANDERVAL APARECIDO DE FARIA  \n",
       "5994590                  MIL TOPOGRAFIA E CONSULTORIA LTDA  \n",
       "5994591                          ROSANA MESQUITA FERNANDES  \n",
       "5994592  AM E FILHOS COMERCIO DE MATERIAIS PARA CONSTRU...  \n",
       "5994593                            JOSE BONIFACIO SOBRINHO  \n",
       "\n",
       "[5994594 rows x 3 columns]>"
      ]
     },
     "execution_count": 17,
     "metadata": {},
     "output_type": "execute_result"
    }
   ],
   "source": [
    "divida_df.describe"
   ]
  },
  {
   "cell_type": "code",
   "execution_count": 16,
   "metadata": {},
   "outputs": [],
   "source": [
    "divida_df.reset_index(inplace=True)"
   ]
  },
  {
   "cell_type": "code",
   "execution_count": 19,
   "metadata": {},
   "outputs": [],
   "source": [
    "divida_df.drop('index', axis=1, inplace=True)"
   ]
  },
  {
   "cell_type": "code",
   "execution_count": 20,
   "metadata": {},
   "outputs": [
    {
     "data": {
      "text/plain": [
       "<bound method NDFrame.describe of                    CPF_CNPJ                                       NOME_DEVEDOR\n",
       "0              XXX464.712XX                   ERISVANDO TORQUATO DO NASCIMENTO\n",
       "1        04.718.079/0001-41                                        I. B. SOUSA\n",
       "2              XXX468.172XX                           CLAUDIO BRANDAO DA SILVA\n",
       "3        05.395.942/0001-30                 DISTRIBUIDORA VALE DO GUAPORE LTDA\n",
       "4              XXX117.482XX                    SEBASTIAO PEREIRA DO NASCIMENTO\n",
       "...                     ...                                                ...\n",
       "5994589  11.966.821/0001-01                       WANDERVAL APARECIDO DE FARIA\n",
       "5994590  38.135.935/0001-58                  MIL TOPOGRAFIA E CONSULTORIA LTDA\n",
       "5994591  13.758.946/0001-63                          ROSANA MESQUITA FERNANDES\n",
       "5994592  12.967.577/0001-56  AM E FILHOS COMERCIO DE MATERIAIS PARA CONSTRU...\n",
       "5994593  25.086.695/0001-05                            JOSE BONIFACIO SOBRINHO\n",
       "\n",
       "[5994594 rows x 2 columns]>"
      ]
     },
     "execution_count": 20,
     "metadata": {},
     "output_type": "execute_result"
    }
   ],
   "source": [
    "divida_df.describe"
   ]
  },
  {
   "cell_type": "markdown",
   "metadata": {},
   "source": [
    "##### Limpeza dos dados"
   ]
  },
  {
   "cell_type": "markdown",
   "metadata": {},
   "source": [
    "Na coluna CPF_CNPJ: 1) remover pontuação e barras; 2) para os casos de CPF, trocar X por * para ficar compatível com a base de sócios e facilitar as junções."
   ]
  },
  {
   "cell_type": "code",
   "execution_count": 22,
   "metadata": {},
   "outputs": [],
   "source": [
    "divida_df[\"CPF_CNPJ\"] = divida_df[\"CPF_CNPJ\"].str.replace('[\\.\\-\\/]', '', regex=True).str.replace('X', '*', regex=False)"
   ]
  },
  {
   "cell_type": "code",
   "execution_count": 23,
   "metadata": {},
   "outputs": [
    {
     "data": {
      "text/plain": [
       "<bound method NDFrame.describe of                CPF_CNPJ                                       NOME_DEVEDOR\n",
       "0           ***464712**                   ERISVANDO TORQUATO DO NASCIMENTO\n",
       "1        04718079000141                                        I. B. SOUSA\n",
       "2           ***468172**                           CLAUDIO BRANDAO DA SILVA\n",
       "3        05395942000130                 DISTRIBUIDORA VALE DO GUAPORE LTDA\n",
       "4           ***117482**                    SEBASTIAO PEREIRA DO NASCIMENTO\n",
       "...                 ...                                                ...\n",
       "5994589  11966821000101                       WANDERVAL APARECIDO DE FARIA\n",
       "5994590  38135935000158                  MIL TOPOGRAFIA E CONSULTORIA LTDA\n",
       "5994591  13758946000163                          ROSANA MESQUITA FERNANDES\n",
       "5994592  12967577000156  AM E FILHOS COMERCIO DE MATERIAIS PARA CONSTRU...\n",
       "5994593  25086695000105                            JOSE BONIFACIO SOBRINHO\n",
       "\n",
       "[5994594 rows x 2 columns]>"
      ]
     },
     "execution_count": 23,
     "metadata": {},
     "output_type": "execute_result"
    }
   ],
   "source": [
    "divida_df.describe"
   ]
  },
  {
   "cell_type": "code",
   "execution_count": 24,
   "metadata": {},
   "outputs": [
    {
     "data": {
      "text/plain": [
       "CPF_CNPJ        3998123\n",
       "NOME_DEVEDOR    5141363\n",
       "dtype: int64"
      ]
     },
     "execution_count": 24,
     "metadata": {},
     "output_type": "execute_result"
    }
   ],
   "source": [
    "divida_df.nunique().sort_values()"
   ]
  },
  {
   "cell_type": "markdown",
   "metadata": {},
   "source": [
    "Percebe-se que mantivemos as mesmas quantidades de valores únicos."
   ]
  },
  {
   "cell_type": "markdown",
   "metadata": {},
   "source": [
    "Salvando resultado:"
   ]
  },
  {
   "cell_type": "code",
   "execution_count": 25,
   "metadata": {},
   "outputs": [],
   "source": [
    "divida_df.to_csv(r'C:\\DATASETS\\Divida_Ativa\\divida_ativa_todos.csv', index = False)"
   ]
  }
 ],
 "metadata": {
  "kernelspec": {
   "display_name": "Python 3",
   "language": "python",
   "name": "python3"
  },
  "language_info": {
   "codemirror_mode": {
    "name": "ipython",
    "version": 3
   },
   "file_extension": ".py",
   "mimetype": "text/x-python",
   "name": "python",
   "nbconvert_exporter": "python",
   "pygments_lexer": "ipython3",
   "version": "3.7.4"
  }
 },
 "nbformat": 4,
 "nbformat_minor": 2
}
