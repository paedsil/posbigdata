{
 "cells": [
  {
   "cell_type": "code",
   "execution_count": 1,
   "metadata": {},
   "outputs": [],
   "source": [
    "import pandas as pd\n",
    "import numpy as np"
   ]
  },
  {
   "cell_type": "code",
   "execution_count": 18,
   "metadata": {},
   "outputs": [
    {
     "data": {
      "text/html": [
       "<div>\n",
       "<style scoped>\n",
       "    .dataframe tbody tr th:only-of-type {\n",
       "        vertical-align: middle;\n",
       "    }\n",
       "\n",
       "    .dataframe tbody tr th {\n",
       "        vertical-align: top;\n",
       "    }\n",
       "\n",
       "    .dataframe thead th {\n",
       "        text-align: right;\n",
       "    }\n",
       "</style>\n",
       "<table border=\"1\" class=\"dataframe\">\n",
       "  <thead>\n",
       "    <tr style=\"text-align: right;\">\n",
       "      <th></th>\n",
       "      <th>cnpj</th>\n",
       "      <th>cnpj_cpf_socio</th>\n",
       "      <th>nome_socio</th>\n",
       "      <th>tempo_de_sociedade</th>\n",
       "      <th>cnpj_cpf_socio_mascarado</th>\n",
       "    </tr>\n",
       "  </thead>\n",
       "  <tbody>\n",
       "    <tr>\n",
       "      <td>0</td>\n",
       "      <td>00000000000191</td>\n",
       "      <td>***923641**</td>\n",
       "      <td>MARCIO HAMILTON FERREIRA</td>\n",
       "      <td>11</td>\n",
       "      <td>***923641**</td>\n",
       "    </tr>\n",
       "    <tr>\n",
       "      <td>1</td>\n",
       "      <td>00000000000191</td>\n",
       "      <td>***491386**</td>\n",
       "      <td>NILSON MARTINIANO MOREIRA</td>\n",
       "      <td>11</td>\n",
       "      <td>***491386**</td>\n",
       "    </tr>\n",
       "    <tr>\n",
       "      <td>2</td>\n",
       "      <td>00000000000191</td>\n",
       "      <td>***718468**</td>\n",
       "      <td>WALTER MALIENI JUNIOR</td>\n",
       "      <td>11</td>\n",
       "      <td>***718468**</td>\n",
       "    </tr>\n",
       "    <tr>\n",
       "      <td>3</td>\n",
       "      <td>00000000000191</td>\n",
       "      <td>***415907**</td>\n",
       "      <td>CARLOS ALBERTO ARAUJO NETTO</td>\n",
       "      <td>9</td>\n",
       "      <td>***415907**</td>\n",
       "    </tr>\n",
       "    <tr>\n",
       "      <td>4</td>\n",
       "      <td>00000000000191</td>\n",
       "      <td>***022878**</td>\n",
       "      <td>ANTONIO MAURICIO MAURANO</td>\n",
       "      <td>9</td>\n",
       "      <td>***022878**</td>\n",
       "    </tr>\n",
       "    <tr>\n",
       "      <td>...</td>\n",
       "      <td>...</td>\n",
       "      <td>...</td>\n",
       "      <td>...</td>\n",
       "      <td>...</td>\n",
       "      <td>...</td>\n",
       "    </tr>\n",
       "    <tr>\n",
       "      <td>1683063</td>\n",
       "      <td>97541975000169</td>\n",
       "      <td>26090628859</td>\n",
       "      <td>EDIVALDO ALVES DE ARAUJO</td>\n",
       "      <td>10</td>\n",
       "      <td>***906288**</td>\n",
       "    </tr>\n",
       "    <tr>\n",
       "      <td>1683064</td>\n",
       "      <td>97542225000101</td>\n",
       "      <td>01095040707</td>\n",
       "      <td>CARLOS HENRIQUE ROCHA DE SOUZA</td>\n",
       "      <td>10</td>\n",
       "      <td>***950407**</td>\n",
       "    </tr>\n",
       "    <tr>\n",
       "      <td>1683065</td>\n",
       "      <td>97543869000114</td>\n",
       "      <td>72399317491</td>\n",
       "      <td>MARIO JORGE LIMA DA SILVA</td>\n",
       "      <td>10</td>\n",
       "      <td>***993174**</td>\n",
       "    </tr>\n",
       "    <tr>\n",
       "      <td>1683066</td>\n",
       "      <td>97548003000104</td>\n",
       "      <td>03028898330</td>\n",
       "      <td>CARLOS ADRIANO ROSA DA SILVA</td>\n",
       "      <td>10</td>\n",
       "      <td>***288983**</td>\n",
       "    </tr>\n",
       "    <tr>\n",
       "      <td>1683067</td>\n",
       "      <td>97549681000183</td>\n",
       "      <td>90619544449</td>\n",
       "      <td>JOSENILDO JOSE DE LIMA</td>\n",
       "      <td>10</td>\n",
       "      <td>***195444**</td>\n",
       "    </tr>\n",
       "  </tbody>\n",
       "</table>\n",
       "<p>1683068 rows × 5 columns</p>\n",
       "</div>"
      ],
      "text/plain": [
       "                   cnpj cnpj_cpf_socio                      nome_socio  \\\n",
       "0        00000000000191    ***923641**        MARCIO HAMILTON FERREIRA   \n",
       "1        00000000000191    ***491386**       NILSON MARTINIANO MOREIRA   \n",
       "2        00000000000191    ***718468**           WALTER MALIENI JUNIOR   \n",
       "3        00000000000191    ***415907**     CARLOS ALBERTO ARAUJO NETTO   \n",
       "4        00000000000191    ***022878**        ANTONIO MAURICIO MAURANO   \n",
       "...                 ...            ...                             ...   \n",
       "1683063  97541975000169    26090628859        EDIVALDO ALVES DE ARAUJO   \n",
       "1683064  97542225000101    01095040707  CARLOS HENRIQUE ROCHA DE SOUZA   \n",
       "1683065  97543869000114    72399317491       MARIO JORGE LIMA DA SILVA   \n",
       "1683066  97548003000104    03028898330    CARLOS ADRIANO ROSA DA SILVA   \n",
       "1683067  97549681000183    90619544449          JOSENILDO JOSE DE LIMA   \n",
       "\n",
       "        tempo_de_sociedade cnpj_cpf_socio_mascarado  \n",
       "0                       11              ***923641**  \n",
       "1                       11              ***491386**  \n",
       "2                       11              ***718468**  \n",
       "3                        9              ***415907**  \n",
       "4                        9              ***022878**  \n",
       "...                    ...                      ...  \n",
       "1683063                 10              ***906288**  \n",
       "1683064                 10              ***950407**  \n",
       "1683065                 10              ***993174**  \n",
       "1683066                 10              ***288983**  \n",
       "1683067                 10              ***195444**  \n",
       "\n",
       "[1683068 rows x 5 columns]"
      ]
     },
     "execution_count": 18,
     "metadata": {},
     "output_type": "execute_result"
    }
   ],
   "source": [
    "# IMPORTAÇÃO DA BASE DE SÓCIOS\n",
    "socios_empresas_rotuladas_df = pd.read_csv(r'C:\\DATASETS\\Empresas Rotuladas\\socios_empresas_rotuladas.csv', dtype=str)\n",
    "socios_empresas_rotuladas_df"
   ]
  },
  {
   "cell_type": "code",
   "execution_count": 19,
   "metadata": {},
   "outputs": [],
   "source": [
    "# Remover coluna de tempo_de_sociedade, não necessária aqui\n",
    "socios_empresas_rotuladas_df.drop(columns=['tempo_de_sociedade'], inplace=True)"
   ]
  },
  {
   "cell_type": "markdown",
   "metadata": {},
   "source": [
    "### Junção com a base de inidôneos e suspensos"
   ]
  },
  {
   "cell_type": "code",
   "execution_count": 5,
   "metadata": {},
   "outputs": [
    {
     "data": {
      "text/html": [
       "<div>\n",
       "<style scoped>\n",
       "    .dataframe tbody tr th:only-of-type {\n",
       "        vertical-align: middle;\n",
       "    }\n",
       "\n",
       "    .dataframe tbody tr th {\n",
       "        vertical-align: top;\n",
       "    }\n",
       "\n",
       "    .dataframe thead th {\n",
       "        text-align: right;\n",
       "    }\n",
       "</style>\n",
       "<table border=\"1\" class=\"dataframe\">\n",
       "  <thead>\n",
       "    <tr style=\"text-align: right;\">\n",
       "      <th></th>\n",
       "      <th>CPF_CNPJ</th>\n",
       "      <th>NOME</th>\n",
       "    </tr>\n",
       "  </thead>\n",
       "  <tbody>\n",
       "    <tr>\n",
       "      <td>0</td>\n",
       "      <td>13459221000174</td>\n",
       "      <td>FLEXNAUTICA EMBARCACOES COMERCIO E SERVICOS EI...</td>\n",
       "    </tr>\n",
       "    <tr>\n",
       "      <td>1</td>\n",
       "      <td>01276136000191</td>\n",
       "      <td>COMERCIAL FERUMA LTDA</td>\n",
       "    </tr>\n",
       "    <tr>\n",
       "      <td>2</td>\n",
       "      <td>76258672000163</td>\n",
       "      <td>PEDRA AZUL SERVICOS DE LIMPEZA E CONSERVACAO LTDA</td>\n",
       "    </tr>\n",
       "    <tr>\n",
       "      <td>3</td>\n",
       "      <td>17015396000143</td>\n",
       "      <td>PRATO CERTO - ALIMENTACAO E NUTRICAO EIRELI</td>\n",
       "    </tr>\n",
       "    <tr>\n",
       "      <td>4</td>\n",
       "      <td>21545589000183</td>\n",
       "      <td>R &amp; B PRODUTOS E SERVICOS LTDA</td>\n",
       "    </tr>\n",
       "    <tr>\n",
       "      <td>...</td>\n",
       "      <td>...</td>\n",
       "      <td>...</td>\n",
       "    </tr>\n",
       "    <tr>\n",
       "      <td>11915</td>\n",
       "      <td>53290712087</td>\n",
       "      <td>EDUARDO FLORENTINO PACHECO DA SILVA</td>\n",
       "    </tr>\n",
       "    <tr>\n",
       "      <td>11916</td>\n",
       "      <td>15158268134</td>\n",
       "      <td>JOSE VALDECIO PESSOA</td>\n",
       "    </tr>\n",
       "    <tr>\n",
       "      <td>11917</td>\n",
       "      <td>15772497472</td>\n",
       "      <td>UBIRACI BERNADINO GOMES</td>\n",
       "    </tr>\n",
       "    <tr>\n",
       "      <td>11918</td>\n",
       "      <td>89196988800</td>\n",
       "      <td>MARCIO EMILIO BARSANTI DE ALMEIDA</td>\n",
       "    </tr>\n",
       "    <tr>\n",
       "      <td>11919</td>\n",
       "      <td>14399732881</td>\n",
       "      <td>ANDRE LUIS SIERVO</td>\n",
       "    </tr>\n",
       "  </tbody>\n",
       "</table>\n",
       "<p>11920 rows × 2 columns</p>\n",
       "</div>"
      ],
      "text/plain": [
       "             CPF_CNPJ                                               NOME\n",
       "0      13459221000174  FLEXNAUTICA EMBARCACOES COMERCIO E SERVICOS EI...\n",
       "1      01276136000191                              COMERCIAL FERUMA LTDA\n",
       "2      76258672000163  PEDRA AZUL SERVICOS DE LIMPEZA E CONSERVACAO LTDA\n",
       "3      17015396000143        PRATO CERTO - ALIMENTACAO E NUTRICAO EIRELI\n",
       "4      21545589000183                     R & B PRODUTOS E SERVICOS LTDA\n",
       "...               ...                                                ...\n",
       "11915     53290712087                EDUARDO FLORENTINO PACHECO DA SILVA\n",
       "11916     15158268134                               JOSE VALDECIO PESSOA\n",
       "11917     15772497472                            UBIRACI BERNADINO GOMES\n",
       "11918     89196988800                  MARCIO EMILIO BARSANTI DE ALMEIDA\n",
       "11919     14399732881                                  ANDRE LUIS SIERVO\n",
       "\n",
       "[11920 rows x 2 columns]"
      ]
     },
     "execution_count": 5,
     "metadata": {},
     "output_type": "execute_result"
    }
   ],
   "source": [
    "# IMPORTAÇÃO DA BASE DE INIDÔNEOS E SUSPENSOS\n",
    "inidoneas_e_suspensas_df = pd.read_csv(r'C:\\\\DATASETS\\Empresas Inidoneas e Suspensas\\\\sancoes-inidoneas_e_suspensas.csv', dtype=str)\n",
    "inidoneas_e_suspensas_df"
   ]
  },
  {
   "cell_type": "code",
   "execution_count": 9,
   "metadata": {},
   "outputs": [
    {
     "name": "stdout",
     "output_type": "stream",
     "text": [
      "11    6770\n",
      "14    5150\n",
      "Name: CPF_CNPJ, dtype: int64\n"
     ]
    }
   ],
   "source": [
    "print(inidoneas_e_suspensas_df.CPF_CNPJ.str.len().value_counts())\n",
    "pj_inid_susp_df = inidoneas_e_suspensas_df[inidoneas_e_suspensas_df.CPF_CNPJ.str.len()==14]\n",
    "pf_inid_susp_df = inidoneas_e_suspensas_df[inidoneas_e_suspensas_df.CPF_CNPJ.str.len()==11]"
   ]
  },
  {
   "cell_type": "code",
   "execution_count": 20,
   "metadata": {},
   "outputs": [
    {
     "data": {
      "text/plain": [
       "cnpj_cpf_socio  socio_inidoneo_suspenso\n",
       "11              False                      1664526\n",
       "14              False                        18516\n",
       "                True                            26\n",
       "Name: socio_inidoneo_suspenso, dtype: int64"
      ]
     },
     "execution_count": 20,
     "metadata": {},
     "output_type": "execute_result"
    }
   ],
   "source": [
    "# Rotula os sócios que são PJ\n",
    "socios_empresas_rotuladas_df['socio_inidoneo_suspenso'] = (socios_empresas_rotuladas_df.merge(pj_inid_susp_df, left_on='cnpj_cpf_socio', right_on='CPF_CNPJ', how='left', indicator=True).eval('_merge == \"both\"').astype(bool))\n",
    "socios_empresas_rotuladas_df.groupby(socios_empresas_rotuladas_df.cnpj_cpf_socio.str.len()).socio_inidoneo_suspenso.value_counts()"
   ]
  },
  {
   "cell_type": "code",
   "execution_count": 22,
   "metadata": {},
   "outputs": [
    {
     "name": "stderr",
     "output_type": "stream",
     "text": [
      "C:\\ProgramData\\Anaconda3\\lib\\site-packages\\ipykernel_launcher.py:4: SettingWithCopyWarning: \n",
      "A value is trying to be set on a copy of a slice from a DataFrame.\n",
      "Try using .loc[row_indexer,col_indexer] = value instead\n",
      "\n",
      "See the caveats in the documentation: http://pandas.pydata.org/pandas-docs/stable/user_guide/indexing.html#returning-a-view-versus-a-copy\n",
      "  after removing the cwd from sys.path.\n"
     ]
    },
    {
     "data": {
      "text/plain": [
       "cnpj_cpf_socio  socio_inidoneo_suspenso_pf\n",
       "11              False                         1664401\n",
       "                True                              125\n",
       "14              False                           18542\n",
       "Name: socio_inidoneo_suspenso_pf, dtype: int64"
      ]
     },
     "execution_count": 22,
     "metadata": {},
     "output_type": "execute_result"
    }
   ],
   "source": [
    "# Rotula os sócios que são PF\n",
    "\n",
    "# Primeiro, mascara o CPF na base de pessoas físicas inidoneas/suspensas:\n",
    "pf_inid_susp_df['CPF_MASCARADO'] = np.where(pf_inid_susp_df.CPF_CNPJ.str.len()==14, pf_inid_susp_df.CPF_CNPJ, '***' + pf_inid_susp_df.CPF_CNPJ.str[3:9] + '**')\n",
    "\n",
    "socios_empresas_rotuladas_df['socio_inidoneo_suspenso_pf'] = (socios_empresas_rotuladas_df.merge(pf_inid_susp_df, left_on=['cnpj_cpf_socio_mascarado', 'nome_socio'], right_on=['CPF_MASCARADO', 'NOME'], how='left', indicator=True).eval('_merge == \"both\"').astype(bool))\n",
    "socios_empresas_rotuladas_df.groupby(socios_empresas_rotuladas_df.cnpj_cpf_socio.str.len()).socio_inidoneo_suspenso_pf.value_counts()"
   ]
  },
  {
   "cell_type": "code",
   "execution_count": 23,
   "metadata": {},
   "outputs": [
    {
     "data": {
      "text/plain": [
       "cnpj_cpf_socio  socio_inidoneo_suspenso\n",
       "11              False                      1664401\n",
       "                True                           125\n",
       "14              False                        18516\n",
       "                True                            26\n",
       "Name: socio_inidoneo_suspenso, dtype: int64"
      ]
     },
     "execution_count": 23,
     "metadata": {},
     "output_type": "execute_result"
    }
   ],
   "source": [
    "# Junta os marcadores:\n",
    "socios_empresas_rotuladas_df['socio_inidoneo_suspenso'] = socios_empresas_rotuladas_df['socio_inidoneo_suspenso']|socios_empresas_rotuladas_df['socio_inidoneo_suspenso_pf']\n",
    "socios_empresas_rotuladas_df.drop(columns=['socio_inidoneo_suspenso_pf'], inplace=True)\n",
    "socios_empresas_rotuladas_df.groupby(socios_empresas_rotuladas_df.cnpj_cpf_socio.str.len()).socio_inidoneo_suspenso.value_counts()"
   ]
  },
  {
   "cell_type": "markdown",
   "metadata": {},
   "source": [
    "Fim do processamento de Inidôneos e Suspensos."
   ]
  },
  {
   "cell_type": "markdown",
   "metadata": {},
   "source": [
    "### Junção com a base de pessoas punidas:"
   ]
  },
  {
   "cell_type": "code",
   "execution_count": 26,
   "metadata": {},
   "outputs": [
    {
     "data": {
      "text/html": [
       "<div>\n",
       "<style scoped>\n",
       "    .dataframe tbody tr th:only-of-type {\n",
       "        vertical-align: middle;\n",
       "    }\n",
       "\n",
       "    .dataframe tbody tr th {\n",
       "        vertical-align: top;\n",
       "    }\n",
       "\n",
       "    .dataframe thead th {\n",
       "        text-align: right;\n",
       "    }\n",
       "</style>\n",
       "<table border=\"1\" class=\"dataframe\">\n",
       "  <thead>\n",
       "    <tr style=\"text-align: right;\">\n",
       "      <th></th>\n",
       "      <th>CPF_CNPJ</th>\n",
       "      <th>NOME</th>\n",
       "    </tr>\n",
       "  </thead>\n",
       "  <tbody>\n",
       "    <tr>\n",
       "      <td>0</td>\n",
       "      <td>21504073000190</td>\n",
       "      <td>CENTRO DE FORMACAO DE CONDUTORES SERRACAR LARA...</td>\n",
       "    </tr>\n",
       "    <tr>\n",
       "      <td>1</td>\n",
       "      <td>10699386000125</td>\n",
       "      <td>TEC LIGHT INDUSTRIA E COMERCIO DE REATORES EIRELI</td>\n",
       "    </tr>\n",
       "    <tr>\n",
       "      <td>2</td>\n",
       "      <td>07486627000143</td>\n",
       "      <td>C.A.M. CASTILHO ME</td>\n",
       "    </tr>\n",
       "    <tr>\n",
       "      <td>3</td>\n",
       "      <td>21463538000102</td>\n",
       "      <td>COMERCIAL PICAPAU EIRELI - ME</td>\n",
       "    </tr>\n",
       "    <tr>\n",
       "      <td>4</td>\n",
       "      <td>06940189000189</td>\n",
       "      <td>MEC PRESS ENGENHARIA DO BRASIL EIRELI</td>\n",
       "    </tr>\n",
       "    <tr>\n",
       "      <td>...</td>\n",
       "      <td>...</td>\n",
       "      <td>...</td>\n",
       "    </tr>\n",
       "    <tr>\n",
       "      <td>198</td>\n",
       "      <td>25980213805</td>\n",
       "      <td>RODRIGO ZANARDO</td>\n",
       "    </tr>\n",
       "    <tr>\n",
       "      <td>199</td>\n",
       "      <td>30872074897</td>\n",
       "      <td>BRUNO SOARES BERNARDO</td>\n",
       "    </tr>\n",
       "    <tr>\n",
       "      <td>200</td>\n",
       "      <td>14403279805</td>\n",
       "      <td>VIVALDO DIAS DA SILVA</td>\n",
       "    </tr>\n",
       "    <tr>\n",
       "      <td>201</td>\n",
       "      <td>03133444930</td>\n",
       "      <td>CARLOS ARTURO MALLORQUIN JUNIOR</td>\n",
       "    </tr>\n",
       "    <tr>\n",
       "      <td>202</td>\n",
       "      <td>39736636887</td>\n",
       "      <td>IRINEU FERREIRA</td>\n",
       "    </tr>\n",
       "  </tbody>\n",
       "</table>\n",
       "<p>203 rows × 2 columns</p>\n",
       "</div>"
      ],
      "text/plain": [
       "           CPF_CNPJ                                               NOME\n",
       "0    21504073000190  CENTRO DE FORMACAO DE CONDUTORES SERRACAR LARA...\n",
       "1    10699386000125  TEC LIGHT INDUSTRIA E COMERCIO DE REATORES EIRELI\n",
       "2    07486627000143                                 C.A.M. CASTILHO ME\n",
       "3    21463538000102                      COMERCIAL PICAPAU EIRELI - ME\n",
       "4    06940189000189              MEC PRESS ENGENHARIA DO BRASIL EIRELI\n",
       "..              ...                                                ...\n",
       "198     25980213805                                    RODRIGO ZANARDO\n",
       "199     30872074897                              BRUNO SOARES BERNARDO\n",
       "200     14403279805                              VIVALDO DIAS DA SILVA\n",
       "201     03133444930                    CARLOS ARTURO MALLORQUIN JUNIOR\n",
       "202     39736636887                                    IRINEU FERREIRA\n",
       "\n",
       "[203 rows x 2 columns]"
      ]
     },
     "execution_count": 26,
     "metadata": {},
     "output_type": "execute_result"
    }
   ],
   "source": [
    "# IMPORTAÇÃO DA BASE DE PESSOAS PUNIDAS\n",
    "punidas_df = pd.read_csv(r'C:\\DATASETS\\Empresas Punidas\\punidas.csv', dtype=str)\n",
    "punidas_df"
   ]
  },
  {
   "cell_type": "code",
   "execution_count": 27,
   "metadata": {},
   "outputs": [
    {
     "name": "stdout",
     "output_type": "stream",
     "text": [
      "14    192\n",
      "11     11\n",
      "Name: CPF_CNPJ, dtype: int64\n"
     ]
    }
   ],
   "source": [
    "print(punidas_df.CPF_CNPJ.str.len().value_counts())\n",
    "pj_punidas_df = punidas_df[punidas_df.CPF_CNPJ.str.len()==14]\n",
    "pf_punidas_df = punidas_df[punidas_df.CPF_CNPJ.str.len()==11]"
   ]
  },
  {
   "cell_type": "code",
   "execution_count": 28,
   "metadata": {},
   "outputs": [
    {
     "data": {
      "text/plain": [
       "cnpj_cpf_socio  socio_punido\n",
       "11              False           1664526\n",
       "14              False             18541\n",
       "                True                  1\n",
       "Name: socio_punido, dtype: int64"
      ]
     },
     "execution_count": 28,
     "metadata": {},
     "output_type": "execute_result"
    }
   ],
   "source": [
    "# Rotula os sócios que são PJ\n",
    "socios_empresas_rotuladas_df['socio_punido'] = (socios_empresas_rotuladas_df.merge(pj_punidas_df, left_on='cnpj_cpf_socio', right_on='CPF_CNPJ', how='left', indicator=True).eval('_merge == \"both\"').astype(bool))\n",
    "socios_empresas_rotuladas_df.groupby(socios_empresas_rotuladas_df.cnpj_cpf_socio.str.len()).socio_punido.value_counts()"
   ]
  },
  {
   "cell_type": "code",
   "execution_count": 29,
   "metadata": {},
   "outputs": [
    {
     "name": "stderr",
     "output_type": "stream",
     "text": [
      "C:\\ProgramData\\Anaconda3\\lib\\site-packages\\ipykernel_launcher.py:4: SettingWithCopyWarning: \n",
      "A value is trying to be set on a copy of a slice from a DataFrame.\n",
      "Try using .loc[row_indexer,col_indexer] = value instead\n",
      "\n",
      "See the caveats in the documentation: http://pandas.pydata.org/pandas-docs/stable/user_guide/indexing.html#returning-a-view-versus-a-copy\n",
      "  after removing the cwd from sys.path.\n"
     ]
    },
    {
     "data": {
      "text/plain": [
       "cnpj_cpf_socio  socio_punido_pf\n",
       "11              False              1664526\n",
       "14              False                18542\n",
       "Name: socio_punido_pf, dtype: int64"
      ]
     },
     "execution_count": 29,
     "metadata": {},
     "output_type": "execute_result"
    }
   ],
   "source": [
    "# Rotula os sócios que são PF\n",
    "\n",
    "# Primeiro, mascara o CPF na base de pessoas físicas punidas:\n",
    "pf_punidas_df['CPF_MASCARADO'] = np.where(pf_punidas_df.CPF_CNPJ.str.len()==14, pf_punidas_df.CPF_CNPJ, '***' + pf_punidas_df.CPF_CNPJ.str[3:9] + '**')\n",
    "\n",
    "socios_empresas_rotuladas_df['socio_punido_pf'] = (socios_empresas_rotuladas_df.merge(pf_punidas_df, left_on=['cnpj_cpf_socio_mascarado', 'nome_socio'], right_on=['CPF_MASCARADO', 'NOME'], how='left', indicator=True).eval('_merge == \"both\"').astype(bool))\n",
    "socios_empresas_rotuladas_df.groupby(socios_empresas_rotuladas_df.cnpj_cpf_socio.str.len()).socio_punido_pf.value_counts()"
   ]
  },
  {
   "cell_type": "code",
   "execution_count": 31,
   "metadata": {},
   "outputs": [
    {
     "data": {
      "text/plain": [
       "cnpj_cpf_socio  socio_punido\n",
       "11              False           1664526\n",
       "14              False             18541\n",
       "                True                  1\n",
       "Name: socio_punido, dtype: int64"
      ]
     },
     "execution_count": 31,
     "metadata": {},
     "output_type": "execute_result"
    }
   ],
   "source": [
    "# Junta os marcadores:\n",
    "socios_empresas_rotuladas_df['socio_punido'] = socios_empresas_rotuladas_df['socio_punido']|socios_empresas_rotuladas_df['socio_punido_pf']\n",
    "socios_empresas_rotuladas_df.drop(columns=['socio_punido_pf'], inplace=True)\n",
    "socios_empresas_rotuladas_df.groupby(socios_empresas_rotuladas_df.cnpj_cpf_socio.str.len()).socio_punido.value_counts()"
   ]
  },
  {
   "cell_type": "markdown",
   "metadata": {},
   "source": [
    "Fim do processamento de pessoas punidas."
   ]
  },
  {
   "cell_type": "markdown",
   "metadata": {},
   "source": [
    "### Junção com a base de Entidades sem Fins Lucrativos Impedidas"
   ]
  },
  {
   "cell_type": "code",
   "execution_count": 33,
   "metadata": {},
   "outputs": [
    {
     "data": {
      "text/html": [
       "<div>\n",
       "<style scoped>\n",
       "    .dataframe tbody tr th:only-of-type {\n",
       "        vertical-align: middle;\n",
       "    }\n",
       "\n",
       "    .dataframe tbody tr th {\n",
       "        vertical-align: top;\n",
       "    }\n",
       "\n",
       "    .dataframe thead th {\n",
       "        text-align: right;\n",
       "    }\n",
       "</style>\n",
       "<table border=\"1\" class=\"dataframe\">\n",
       "  <thead>\n",
       "    <tr style=\"text-align: right;\">\n",
       "      <th></th>\n",
       "      <th>CNPJ</th>\n",
       "    </tr>\n",
       "  </thead>\n",
       "  <tbody>\n",
       "    <tr>\n",
       "      <td>0</td>\n",
       "      <td>06303088000105</td>\n",
       "    </tr>\n",
       "    <tr>\n",
       "      <td>1</td>\n",
       "      <td>01923684000166</td>\n",
       "    </tr>\n",
       "    <tr>\n",
       "      <td>2</td>\n",
       "      <td>03652447000133</td>\n",
       "    </tr>\n",
       "    <tr>\n",
       "      <td>3</td>\n",
       "      <td>03863259000154</td>\n",
       "    </tr>\n",
       "    <tr>\n",
       "      <td>4</td>\n",
       "      <td>07550679000131</td>\n",
       "    </tr>\n",
       "    <tr>\n",
       "      <td>...</td>\n",
       "      <td>...</td>\n",
       "    </tr>\n",
       "    <tr>\n",
       "      <td>2532</td>\n",
       "      <td>05062489000140</td>\n",
       "    </tr>\n",
       "    <tr>\n",
       "      <td>2533</td>\n",
       "      <td>01052752000169</td>\n",
       "    </tr>\n",
       "    <tr>\n",
       "      <td>2534</td>\n",
       "      <td>15243363000125</td>\n",
       "    </tr>\n",
       "    <tr>\n",
       "      <td>2535</td>\n",
       "      <td>07642296000193</td>\n",
       "    </tr>\n",
       "    <tr>\n",
       "      <td>2536</td>\n",
       "      <td>43586056000344</td>\n",
       "    </tr>\n",
       "  </tbody>\n",
       "</table>\n",
       "<p>2537 rows × 1 columns</p>\n",
       "</div>"
      ],
      "text/plain": [
       "                CNPJ\n",
       "0     06303088000105\n",
       "1     01923684000166\n",
       "2     03652447000133\n",
       "3     03863259000154\n",
       "4     07550679000131\n",
       "...              ...\n",
       "2532  05062489000140\n",
       "2533  01052752000169\n",
       "2534  15243363000125\n",
       "2535  07642296000193\n",
       "2536  43586056000344\n",
       "\n",
       "[2537 rows x 1 columns]"
      ]
     },
     "execution_count": 33,
     "metadata": {},
     "output_type": "execute_result"
    }
   ],
   "source": [
    "# IMPORTAÇÃO DA BASE DE Entidades sem Fins Lucrativos Impedidas\n",
    "esfl_impedidas_df = pd.read_csv(r'C:\\DATASETS\\Entidades sem Fins Lucrativos Impedidas\\sem_fim_lucr_impedidas.csv', dtype=str)\n",
    "esfl_impedidas_df"
   ]
  },
  {
   "cell_type": "code",
   "execution_count": 34,
   "metadata": {},
   "outputs": [
    {
     "name": "stdout",
     "output_type": "stream",
     "text": [
      "14    2537\n",
      "Name: CNPJ, dtype: int64\n"
     ]
    }
   ],
   "source": [
    "print(esfl_impedidas_df.CNPJ.str.len().value_counts())"
   ]
  },
  {
   "cell_type": "code",
   "execution_count": 35,
   "metadata": {},
   "outputs": [
    {
     "data": {
      "text/plain": [
       "cnpj_cpf_socio  socio_esfl_punido\n",
       "11              False                1664526\n",
       "14              False                  18541\n",
       "                True                       1\n",
       "Name: socio_esfl_punido, dtype: int64"
      ]
     },
     "execution_count": 35,
     "metadata": {},
     "output_type": "execute_result"
    }
   ],
   "source": [
    "# Rotula os sócios que são PJ (só temos esses)\n",
    "socios_empresas_rotuladas_df['socio_esfl_punido'] = (socios_empresas_rotuladas_df.merge(esfl_impedidas_df, left_on='cnpj_cpf_socio', right_on='CNPJ', how='left', indicator=True).eval('_merge == \"both\"').astype(bool))\n",
    "socios_empresas_rotuladas_df.groupby(socios_empresas_rotuladas_df.cnpj_cpf_socio.str.len()).socio_esfl_punido.value_counts()"
   ]
  },
  {
   "cell_type": "markdown",
   "metadata": {},
   "source": [
    "Fim do processamento de entidades sem fim lucrativo punidas."
   ]
  },
  {
   "cell_type": "markdown",
   "metadata": {},
   "source": [
    "### Feature engineering:"
   ]
  },
  {
   "cell_type": "markdown",
   "metadata": {},
   "source": [
    "##### Criação da variável 'sancionado_sancionado', com base nas 3 variáveis anteriores."
   ]
  },
  {
   "cell_type": "code",
   "execution_count": 39,
   "metadata": {},
   "outputs": [
    {
     "data": {
      "text/plain": [
       "cnpj_cpf_socio  socio_sancionado\n",
       "11              False               1664401\n",
       "                True                    125\n",
       "14              False                 18514\n",
       "                True                     28\n",
       "Name: socio_sancionado, dtype: int64"
      ]
     },
     "execution_count": 39,
     "metadata": {},
     "output_type": "execute_result"
    }
   ],
   "source": [
    "socios_empresas_rotuladas_df['socio_sancionado'] = socios_empresas_rotuladas_df['socio_inidoneo_suspenso']\n",
    "                                                   |socios_empresas_rotuladas_df['socio_punido']\n",
    "                                                   |socios_empresas_rotuladas_df['socio_esfl_punido']\n",
    "socios_empresas_rotuladas_df.groupby(socios_empresas_rotuladas_df.cnpj_cpf_socio.str.len())\n",
    "                            .socio_sancionado.value_counts()"
   ]
  },
  {
   "cell_type": "code",
   "execution_count": 41,
   "metadata": {},
   "outputs": [],
   "source": [
    "# Remover colunas não necessárias\n",
    "socios_empresas_rotuladas_df.drop(columns=['socio_inidoneo_suspenso', 'socio_punido', 'socio_esfl_punido'], inplace=True)"
   ]
  },
  {
   "cell_type": "code",
   "execution_count": 42,
   "metadata": {},
   "outputs": [],
   "source": [
    "# Salvando resultado:\n",
    "socios_empresas_rotuladas_df.to_csv(r'C:\\DATASETS\\Empresas Rotuladas\\socios_empresas_rotuladas-socio_sancionado.csv', index = False)"
   ]
  }
 ],
 "metadata": {
  "kernelspec": {
   "display_name": "Python 3",
   "language": "python",
   "name": "python3"
  },
  "language_info": {
   "codemirror_mode": {
    "name": "ipython",
    "version": 3
   },
   "file_extension": ".py",
   "mimetype": "text/x-python",
   "name": "python",
   "nbconvert_exporter": "python",
   "pygments_lexer": "ipython3",
   "version": "3.7.4"
  }
 },
 "nbformat": 4,
 "nbformat_minor": 2
}
