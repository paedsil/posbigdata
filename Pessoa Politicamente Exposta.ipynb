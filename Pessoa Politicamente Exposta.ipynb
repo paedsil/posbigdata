{
 "cells": [
  {
   "cell_type": "code",
   "execution_count": 2,
   "metadata": {},
   "outputs": [],
   "source": [
    "import pandas as pd\n",
    "import numpy as np"
   ]
  },
  {
   "cell_type": "code",
   "execution_count": 3,
   "metadata": {},
   "outputs": [
    {
     "data": {
      "text/html": [
       "<div>\n",
       "<style scoped>\n",
       "    .dataframe tbody tr th:only-of-type {\n",
       "        vertical-align: middle;\n",
       "    }\n",
       "\n",
       "    .dataframe tbody tr th {\n",
       "        vertical-align: top;\n",
       "    }\n",
       "\n",
       "    .dataframe thead th {\n",
       "        text-align: right;\n",
       "    }\n",
       "</style>\n",
       "<table border=\"1\" class=\"dataframe\">\n",
       "  <thead>\n",
       "    <tr style=\"text-align: right;\">\n",
       "      <th></th>\n",
       "      <th>CPF</th>\n",
       "      <th>Nome_PEP</th>\n",
       "    </tr>\n",
       "  </thead>\n",
       "  <tbody>\n",
       "    <tr>\n",
       "      <td>0</td>\n",
       "      <td>***.708.767-**</td>\n",
       "      <td>AARAO DE MOURA BRITO NETO</td>\n",
       "    </tr>\n",
       "    <tr>\n",
       "      <td>1</td>\n",
       "      <td>***.810.311-**</td>\n",
       "      <td>AAVA SANTIAGO AGUIAR</td>\n",
       "    </tr>\n",
       "    <tr>\n",
       "      <td>2</td>\n",
       "      <td>***.333.581-**</td>\n",
       "      <td>ABADIA DE MOURA MORAES</td>\n",
       "    </tr>\n",
       "    <tr>\n",
       "      <td>3</td>\n",
       "      <td>***.265.851-**</td>\n",
       "      <td>ABADIAS SOUZA DO NASCIMENTO DAMASCENO</td>\n",
       "    </tr>\n",
       "    <tr>\n",
       "      <td>4</td>\n",
       "      <td>***.705.901-**</td>\n",
       "      <td>ABADIO RIBEIRO DA ROCHA</td>\n",
       "    </tr>\n",
       "    <tr>\n",
       "      <td>...</td>\n",
       "      <td>...</td>\n",
       "      <td>...</td>\n",
       "    </tr>\n",
       "    <tr>\n",
       "      <td>134531</td>\n",
       "      <td>***.122.585-**</td>\n",
       "      <td>ZULMIRO FERREIRA DOS SANTOS</td>\n",
       "    </tr>\n",
       "    <tr>\n",
       "      <td>134532</td>\n",
       "      <td>***.154.159-**</td>\n",
       "      <td>ZULNEI JOCHEM</td>\n",
       "    </tr>\n",
       "    <tr>\n",
       "      <td>134533</td>\n",
       "      <td>***.154.159-**</td>\n",
       "      <td>ZULNEI JOCHEM</td>\n",
       "    </tr>\n",
       "    <tr>\n",
       "      <td>134534</td>\n",
       "      <td>***.391.321-**</td>\n",
       "      <td>ZURAILDO MATOS DA SILVA</td>\n",
       "    </tr>\n",
       "    <tr>\n",
       "      <td>134535</td>\n",
       "      <td>***.164.502-**</td>\n",
       "      <td>ZUVEIDE SILVA BEZERRA</td>\n",
       "    </tr>\n",
       "  </tbody>\n",
       "</table>\n",
       "<p>134536 rows × 2 columns</p>\n",
       "</div>"
      ],
      "text/plain": [
       "                   CPF                               Nome_PEP\n",
       "0       ***.708.767-**              AARAO DE MOURA BRITO NETO\n",
       "1       ***.810.311-**                   AAVA SANTIAGO AGUIAR\n",
       "2       ***.333.581-**                 ABADIA DE MOURA MORAES\n",
       "3       ***.265.851-**  ABADIAS SOUZA DO NASCIMENTO DAMASCENO\n",
       "4       ***.705.901-**                ABADIO RIBEIRO DA ROCHA\n",
       "...                ...                                    ...\n",
       "134531  ***.122.585-**            ZULMIRO FERREIRA DOS SANTOS\n",
       "134532  ***.154.159-**                          ZULNEI JOCHEM\n",
       "134533  ***.154.159-**                          ZULNEI JOCHEM\n",
       "134534  ***.391.321-**                ZURAILDO MATOS DA SILVA\n",
       "134535  ***.164.502-**                  ZUVEIDE SILVA BEZERRA\n",
       "\n",
       "[134536 rows x 2 columns]"
      ]
     },
     "execution_count": 3,
     "metadata": {},
     "output_type": "execute_result"
    }
   ],
   "source": [
    "colunas = [\"CPF\", \"Nome_PEP\"]\n",
    "pep_df = pd.read_csv(r'C:\\DATASETS\\Pessoa Exposta Politicamente\\1-Arquivos Baixados\\202103_PEP.csv',\n",
    "                     sep=';', dtype='str', usecols=colunas, encoding='latin-1')\n",
    "pep_df"
   ]
  },
  {
   "cell_type": "code",
   "execution_count": 4,
   "metadata": {},
   "outputs": [
    {
     "data": {
      "text/html": [
       "<div>\n",
       "<style scoped>\n",
       "    .dataframe tbody tr th:only-of-type {\n",
       "        vertical-align: middle;\n",
       "    }\n",
       "\n",
       "    .dataframe tbody tr th {\n",
       "        vertical-align: top;\n",
       "    }\n",
       "\n",
       "    .dataframe thead th {\n",
       "        text-align: right;\n",
       "    }\n",
       "</style>\n",
       "<table border=\"1\" class=\"dataframe\">\n",
       "  <thead>\n",
       "    <tr style=\"text-align: right;\">\n",
       "      <th></th>\n",
       "      <th>CPF</th>\n",
       "      <th>Nome_PEP</th>\n",
       "    </tr>\n",
       "  </thead>\n",
       "  <tbody>\n",
       "    <tr>\n",
       "      <td>0</td>\n",
       "      <td>***.708.767-**</td>\n",
       "      <td>AARAO DE MOURA BRITO NETO</td>\n",
       "    </tr>\n",
       "    <tr>\n",
       "      <td>1</td>\n",
       "      <td>***.810.311-**</td>\n",
       "      <td>AAVA SANTIAGO AGUIAR</td>\n",
       "    </tr>\n",
       "    <tr>\n",
       "      <td>2</td>\n",
       "      <td>***.333.581-**</td>\n",
       "      <td>ABADIA DE MOURA MORAES</td>\n",
       "    </tr>\n",
       "    <tr>\n",
       "      <td>3</td>\n",
       "      <td>***.265.851-**</td>\n",
       "      <td>ABADIAS SOUZA DO NASCIMENTO DAMASCENO</td>\n",
       "    </tr>\n",
       "    <tr>\n",
       "      <td>4</td>\n",
       "      <td>***.705.901-**</td>\n",
       "      <td>ABADIO RIBEIRO DA ROCHA</td>\n",
       "    </tr>\n",
       "    <tr>\n",
       "      <td>...</td>\n",
       "      <td>...</td>\n",
       "      <td>...</td>\n",
       "    </tr>\n",
       "    <tr>\n",
       "      <td>134530</td>\n",
       "      <td>***.032.389-**</td>\n",
       "      <td>ZULMIRA BAPTISTA GENARO</td>\n",
       "    </tr>\n",
       "    <tr>\n",
       "      <td>134531</td>\n",
       "      <td>***.122.585-**</td>\n",
       "      <td>ZULMIRO FERREIRA DOS SANTOS</td>\n",
       "    </tr>\n",
       "    <tr>\n",
       "      <td>134532</td>\n",
       "      <td>***.154.159-**</td>\n",
       "      <td>ZULNEI JOCHEM</td>\n",
       "    </tr>\n",
       "    <tr>\n",
       "      <td>134534</td>\n",
       "      <td>***.391.321-**</td>\n",
       "      <td>ZURAILDO MATOS DA SILVA</td>\n",
       "    </tr>\n",
       "    <tr>\n",
       "      <td>134535</td>\n",
       "      <td>***.164.502-**</td>\n",
       "      <td>ZUVEIDE SILVA BEZERRA</td>\n",
       "    </tr>\n",
       "  </tbody>\n",
       "</table>\n",
       "<p>111592 rows × 2 columns</p>\n",
       "</div>"
      ],
      "text/plain": [
       "                   CPF                               Nome_PEP\n",
       "0       ***.708.767-**              AARAO DE MOURA BRITO NETO\n",
       "1       ***.810.311-**                   AAVA SANTIAGO AGUIAR\n",
       "2       ***.333.581-**                 ABADIA DE MOURA MORAES\n",
       "3       ***.265.851-**  ABADIAS SOUZA DO NASCIMENTO DAMASCENO\n",
       "4       ***.705.901-**                ABADIO RIBEIRO DA ROCHA\n",
       "...                ...                                    ...\n",
       "134530  ***.032.389-**                ZULMIRA BAPTISTA GENARO\n",
       "134531  ***.122.585-**            ZULMIRO FERREIRA DOS SANTOS\n",
       "134532  ***.154.159-**                          ZULNEI JOCHEM\n",
       "134534  ***.391.321-**                ZURAILDO MATOS DA SILVA\n",
       "134535  ***.164.502-**                  ZUVEIDE SILVA BEZERRA\n",
       "\n",
       "[111592 rows x 2 columns]"
      ]
     },
     "execution_count": 4,
     "metadata": {},
     "output_type": "execute_result"
    }
   ],
   "source": [
    "# Remove nulos:\n",
    "pep_df = pep_df.dropna()\n",
    "\n",
    "# Remove duplicados:\n",
    "pep_df = pep_df.drop_duplicates()\n",
    "\n",
    "pep_df"
   ]
  },
  {
   "cell_type": "code",
   "execution_count": 5,
   "metadata": {},
   "outputs": [
    {
     "data": {
      "text/plain": [
       "14    111592\n",
       "Name: CPF, dtype: int64"
      ]
     },
     "execution_count": 5,
     "metadata": {},
     "output_type": "execute_result"
    }
   ],
   "source": [
    "# Avaliando o que tem no campo de cpf:\n",
    "pep_df['CPF'].str.len().value_counts()"
   ]
  },
  {
   "cell_type": "code",
   "execution_count": 6,
   "metadata": {},
   "outputs": [
    {
     "data": {
      "text/plain": [
       "11    111592\n",
       "Name: CPF, dtype: int64"
      ]
     },
     "execution_count": 6,
     "metadata": {},
     "output_type": "execute_result"
    }
   ],
   "source": [
    "# Limpa os CPFs:\n",
    "pep_df['CPF'] = pep_df['CPF'].str.replace('[\\.\\-]', '', regex=True)\n",
    "pep_df['CPF'].str.len().value_counts()"
   ]
  },
  {
   "cell_type": "markdown",
   "metadata": {},
   "source": [
    "Quantidade conforme cálculo feito anteriormente."
   ]
  },
  {
   "cell_type": "code",
   "execution_count": 7,
   "metadata": {},
   "outputs": [],
   "source": [
    "# Salvando resultado final:\n",
    "pep_df.to_csv(r'C:\\DATASETS\\Pessoa Exposta Politicamente\\pessoa_politicamente_exposta.csv', index=False)"
   ]
  }
 ],
 "metadata": {
  "kernelspec": {
   "display_name": "Python 3",
   "language": "python",
   "name": "python3"
  },
  "language_info": {
   "codemirror_mode": {
    "name": "ipython",
    "version": 3
   },
   "file_extension": ".py",
   "mimetype": "text/x-python",
   "name": "python",
   "nbconvert_exporter": "python",
   "pygments_lexer": "ipython3",
   "version": "3.7.4"
  }
 },
 "nbformat": 4,
 "nbformat_minor": 2
}
