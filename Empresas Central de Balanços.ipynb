{
 "cells": [
  {
   "cell_type": "markdown",
   "metadata": {},
   "source": [
    "As empresas listadas na Central de Balanços são claramente empresas ativas, operantes de fato. Obter a lista dos CNPJs dessas empresas nos permitirá rotular algumas empresas da base nacional como existentes de fato.\n",
    "\n",
    "Vamos obter os CNPJs das empresas listadas na Central de Balanços em 2021 a partir desse site: https://www.gov.br/centraldebalancos/#/demonstracoes\n",
    "\n",
    "Extração em: 13/04/2021."
   ]
  },
  {
   "cell_type": "code",
   "execution_count": 1,
   "metadata": {},
   "outputs": [],
   "source": [
    "import requests\n",
    "import pandas as pd"
   ]
  },
  {
   "cell_type": "code",
   "execution_count": 36,
   "metadata": {
    "scrolled": true
   },
   "outputs": [
    {
     "data": {
      "text/html": [
       "<div>\n",
       "<style scoped>\n",
       "    .dataframe tbody tr th:only-of-type {\n",
       "        vertical-align: middle;\n",
       "    }\n",
       "\n",
       "    .dataframe tbody tr th {\n",
       "        vertical-align: top;\n",
       "    }\n",
       "\n",
       "    .dataframe thead th {\n",
       "        text-align: right;\n",
       "    }\n",
       "</style>\n",
       "<table border=\"1\" class=\"dataframe\">\n",
       "  <thead>\n",
       "    <tr style=\"text-align: right;\">\n",
       "      <th></th>\n",
       "      <th>id</th>\n",
       "      <th>cnpj</th>\n",
       "      <th>nome</th>\n",
       "    </tr>\n",
       "  </thead>\n",
       "  <tbody>\n",
       "    <tr>\n",
       "      <td>0</td>\n",
       "      <td>1141</td>\n",
       "      <td>09658732000148</td>\n",
       "      <td>10 M GROUP PARTICIPACOES S/A</td>\n",
       "    </tr>\n",
       "    <tr>\n",
       "      <td>1</td>\n",
       "      <td>1284</td>\n",
       "      <td>33219498000137</td>\n",
       "      <td>A CHACARA AGROPECUARIA S.A</td>\n",
       "    </tr>\n",
       "    <tr>\n",
       "      <td>2</td>\n",
       "      <td>63</td>\n",
       "      <td>33515412000113</td>\n",
       "      <td>A QUIMICA SANTA MARINA S.A.</td>\n",
       "    </tr>\n",
       "    <tr>\n",
       "      <td>3</td>\n",
       "      <td>379</td>\n",
       "      <td>09397311000100</td>\n",
       "      <td>ABIU SPE EMPREENDIMENTOS E PARTICIPACOES S.A.</td>\n",
       "    </tr>\n",
       "    <tr>\n",
       "      <td>4</td>\n",
       "      <td>167</td>\n",
       "      <td>41037722000106</td>\n",
       "      <td>ACAFLOR EMPREENDIMENTOS ADMINISTRACAO E SERVIC...</td>\n",
       "    </tr>\n",
       "    <tr>\n",
       "      <td>...</td>\n",
       "      <td>...</td>\n",
       "      <td>...</td>\n",
       "      <td>...</td>\n",
       "    </tr>\n",
       "    <tr>\n",
       "      <td>1034</td>\n",
       "      <td>801</td>\n",
       "      <td>16384900000110</td>\n",
       "      <td>ZAHPEE TECNOLOGIAS DE GESTAO DE DADOS NA INTER...</td>\n",
       "    </tr>\n",
       "    <tr>\n",
       "      <td>1035</td>\n",
       "      <td>73</td>\n",
       "      <td>57006264000170</td>\n",
       "      <td>ZEN S.A. INDUSTRIA METALURGICA</td>\n",
       "    </tr>\n",
       "    <tr>\n",
       "      <td>1036</td>\n",
       "      <td>743</td>\n",
       "      <td>23568401000148</td>\n",
       "      <td>ZHOU ADMINISTRACAO DE BEM PROPRIO S.A.</td>\n",
       "    </tr>\n",
       "    <tr>\n",
       "      <td>1037</td>\n",
       "      <td>7</td>\n",
       "      <td>17976627000185</td>\n",
       "      <td>ZMACQ AGROPECUARIA S.A.</td>\n",
       "    </tr>\n",
       "    <tr>\n",
       "      <td>1038</td>\n",
       "      <td>156</td>\n",
       "      <td>07119438000132</td>\n",
       "      <td>ZTI ADMINISTRACAO E PARTICIPACOES S/A</td>\n",
       "    </tr>\n",
       "  </tbody>\n",
       "</table>\n",
       "<p>1039 rows × 3 columns</p>\n",
       "</div>"
      ],
      "text/plain": [
       "        id            cnpj                                               nome\n",
       "0     1141  09658732000148                       10 M GROUP PARTICIPACOES S/A\n",
       "1     1284  33219498000137                         A CHACARA AGROPECUARIA S.A\n",
       "2       63  33515412000113                        A QUIMICA SANTA MARINA S.A.\n",
       "3      379  09397311000100      ABIU SPE EMPREENDIMENTOS E PARTICIPACOES S.A.\n",
       "4      167  41037722000106  ACAFLOR EMPREENDIMENTOS ADMINISTRACAO E SERVIC...\n",
       "...    ...             ...                                                ...\n",
       "1034   801  16384900000110  ZAHPEE TECNOLOGIAS DE GESTAO DE DADOS NA INTER...\n",
       "1035    73  57006264000170                     ZEN S.A. INDUSTRIA METALURGICA\n",
       "1036   743  23568401000148             ZHOU ADMINISTRACAO DE BEM PROPRIO S.A.\n",
       "1037     7  17976627000185                            ZMACQ AGROPECUARIA S.A.\n",
       "1038   156  07119438000132              ZTI ADMINISTRACAO E PARTICIPACOES S/A\n",
       "\n",
       "[1039 rows x 3 columns]"
      ]
     },
     "execution_count": 36,
     "metadata": {},
     "output_type": "execute_result"
    }
   ],
   "source": [
    "# Obtém o json da API da Central de Balanços:\n",
    "response = requests.get('https://centraldebalancos.estaleiro.serpro.gov.br/centralbalancos/servicesapi/api/Participante?page=1&pageSize=2000&orderBy=nome')\n",
    "conteudo_json = response.json()\n",
    "df =  pd.DataFrame.from_dict(conteudo_json[\"items\"])\n",
    "df"
   ]
  },
  {
   "cell_type": "code",
   "execution_count": 37,
   "metadata": {},
   "outputs": [
    {
     "data": {
      "text/html": [
       "<div>\n",
       "<style scoped>\n",
       "    .dataframe tbody tr th:only-of-type {\n",
       "        vertical-align: middle;\n",
       "    }\n",
       "\n",
       "    .dataframe tbody tr th {\n",
       "        vertical-align: top;\n",
       "    }\n",
       "\n",
       "    .dataframe thead th {\n",
       "        text-align: right;\n",
       "    }\n",
       "</style>\n",
       "<table border=\"1\" class=\"dataframe\">\n",
       "  <thead>\n",
       "    <tr style=\"text-align: right;\">\n",
       "      <th></th>\n",
       "      <th>CNPJ</th>\n",
       "    </tr>\n",
       "  </thead>\n",
       "  <tbody>\n",
       "    <tr>\n",
       "      <td>0</td>\n",
       "      <td>09658732000148</td>\n",
       "    </tr>\n",
       "    <tr>\n",
       "      <td>1</td>\n",
       "      <td>33219498000137</td>\n",
       "    </tr>\n",
       "    <tr>\n",
       "      <td>2</td>\n",
       "      <td>33515412000113</td>\n",
       "    </tr>\n",
       "    <tr>\n",
       "      <td>3</td>\n",
       "      <td>09397311000100</td>\n",
       "    </tr>\n",
       "    <tr>\n",
       "      <td>4</td>\n",
       "      <td>41037722000106</td>\n",
       "    </tr>\n",
       "    <tr>\n",
       "      <td>...</td>\n",
       "      <td>...</td>\n",
       "    </tr>\n",
       "    <tr>\n",
       "      <td>1034</td>\n",
       "      <td>16384900000110</td>\n",
       "    </tr>\n",
       "    <tr>\n",
       "      <td>1035</td>\n",
       "      <td>57006264000170</td>\n",
       "    </tr>\n",
       "    <tr>\n",
       "      <td>1036</td>\n",
       "      <td>23568401000148</td>\n",
       "    </tr>\n",
       "    <tr>\n",
       "      <td>1037</td>\n",
       "      <td>17976627000185</td>\n",
       "    </tr>\n",
       "    <tr>\n",
       "      <td>1038</td>\n",
       "      <td>07119438000132</td>\n",
       "    </tr>\n",
       "  </tbody>\n",
       "</table>\n",
       "<p>1039 rows × 1 columns</p>\n",
       "</div>"
      ],
      "text/plain": [
       "                CNPJ\n",
       "0     09658732000148\n",
       "1     33219498000137\n",
       "2     33515412000113\n",
       "3     09397311000100\n",
       "4     41037722000106\n",
       "...              ...\n",
       "1034  16384900000110\n",
       "1035  57006264000170\n",
       "1036  23568401000148\n",
       "1037  17976627000185\n",
       "1038  07119438000132\n",
       "\n",
       "[1039 rows x 1 columns]"
      ]
     },
     "execution_count": 37,
     "metadata": {},
     "output_type": "execute_result"
    }
   ],
   "source": [
    "df = df[['cnpj']]\n",
    "df.columns = ['CNPJ']\n",
    "df"
   ]
  },
  {
   "cell_type": "code",
   "execution_count": 38,
   "metadata": {},
   "outputs": [
    {
     "data": {
      "text/plain": [
       "1039"
      ]
     },
     "execution_count": 38,
     "metadata": {},
     "output_type": "execute_result"
    }
   ],
   "source": [
    "df.CNPJ.nunique()"
   ]
  },
  {
   "cell_type": "code",
   "execution_count": 40,
   "metadata": {},
   "outputs": [],
   "source": [
    "df.to_csv(r'C:\\DATASETS\\Empresas Existentes de Fato\\empresas_central_de_balancos.csv', index = False)"
   ]
  }
 ],
 "metadata": {
  "kernelspec": {
   "display_name": "Python 3",
   "language": "python",
   "name": "python3"
  },
  "language_info": {
   "codemirror_mode": {
    "name": "ipython",
    "version": 3
   },
   "file_extension": ".py",
   "mimetype": "text/x-python",
   "name": "python",
   "nbconvert_exporter": "python",
   "pygments_lexer": "ipython3",
   "version": "3.7.4"
  }
 },
 "nbformat": 4,
 "nbformat_minor": 2
}
